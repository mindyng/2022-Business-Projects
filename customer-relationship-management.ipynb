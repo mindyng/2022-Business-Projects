{
 "cells": [
  {
   "cell_type": "code",
   "execution_count": 1,
   "id": "526f82a4",
   "metadata": {
    "execution": {
     "iopub.execute_input": "2022-11-01T19:16:18.457189Z",
     "iopub.status.busy": "2022-11-01T19:16:18.456547Z",
     "iopub.status.idle": "2022-11-01T19:16:33.666218Z",
     "shell.execute_reply": "2022-11-01T19:16:33.664585Z"
    },
    "papermill": {
     "duration": 15.223968,
     "end_time": "2022-11-01T19:16:33.669410",
     "exception": false,
     "start_time": "2022-11-01T19:16:18.445442",
     "status": "completed"
    },
    "tags": []
   },
   "outputs": [
    {
     "name": "stdout",
     "output_type": "stream",
     "text": [
      "Collecting Lifetimes\r\n",
      "  Downloading Lifetimes-0.11.3-py3-none-any.whl (584 kB)\r\n",
      "\u001b[2K     \u001b[90m━━━━━━━━━━━━━━━━━━━━━━━━━━━━━━━━━━━━━\u001b[0m \u001b[32m584.2/584.2 kB\u001b[0m \u001b[31m815.2 kB/s\u001b[0m eta \u001b[36m0:00:00\u001b[0m\r\n",
      "\u001b[?25hRequirement already satisfied: numpy>=1.10.0 in /opt/conda/lib/python3.7/site-packages (from Lifetimes) (1.21.6)\r\n",
      "Requirement already satisfied: scipy>=1.0.0 in /opt/conda/lib/python3.7/site-packages (from Lifetimes) (1.7.3)\r\n",
      "Collecting autograd>=1.2.0\r\n",
      "  Downloading autograd-1.5-py3-none-any.whl (48 kB)\r\n",
      "\u001b[2K     \u001b[90m━━━━━━━━━━━━━━━━━━━━━━━━━━━━━━━━━━━━━━━━\u001b[0m \u001b[32m48.9/48.9 kB\u001b[0m \u001b[31m3.7 MB/s\u001b[0m eta \u001b[36m0:00:00\u001b[0m\r\n",
      "\u001b[?25hRequirement already satisfied: dill>=0.2.6 in /opt/conda/lib/python3.7/site-packages (from Lifetimes) (0.3.5.1)\r\n",
      "Requirement already satisfied: pandas>=0.24.0 in /opt/conda/lib/python3.7/site-packages (from Lifetimes) (1.3.5)\r\n",
      "Requirement already satisfied: future>=0.15.2 in /opt/conda/lib/python3.7/site-packages (from autograd>=1.2.0->Lifetimes) (0.18.2)\r\n",
      "Requirement already satisfied: python-dateutil>=2.7.3 in /opt/conda/lib/python3.7/site-packages (from pandas>=0.24.0->Lifetimes) (2.8.2)\r\n",
      "Requirement already satisfied: pytz>=2017.3 in /opt/conda/lib/python3.7/site-packages (from pandas>=0.24.0->Lifetimes) (2022.1)\r\n",
      "Requirement already satisfied: six>=1.5 in /opt/conda/lib/python3.7/site-packages (from python-dateutil>=2.7.3->pandas>=0.24.0->Lifetimes) (1.15.0)\r\n",
      "Installing collected packages: autograd, Lifetimes\r\n",
      "Successfully installed Lifetimes-0.11.3 autograd-1.5\r\n",
      "\u001b[33mWARNING: Running pip as the 'root' user can result in broken permissions and conflicting behaviour with the system package manager. It is recommended to use a virtual environment instead: https://pip.pypa.io/warnings/venv\u001b[0m\u001b[33m\r\n",
      "\u001b[0m"
     ]
    }
   ],
   "source": [
    "!pip install Lifetimes"
   ]
  },
  {
   "cell_type": "code",
   "execution_count": 2,
   "id": "c3a6f977",
   "metadata": {
    "_cell_guid": "b1076dfc-b9ad-4769-8c92-a6c4dae69d19",
    "_uuid": "8f2839f25d086af736a60e9eeb907d3b93b6e0e5",
    "execution": {
     "iopub.execute_input": "2022-11-01T19:16:33.690511Z",
     "iopub.status.busy": "2022-11-01T19:16:33.690112Z",
     "iopub.status.idle": "2022-11-01T19:16:34.903153Z",
     "shell.execute_reply": "2022-11-01T19:16:34.901964Z"
    },
    "papermill": {
     "duration": 1.226717,
     "end_time": "2022-11-01T19:16:34.905840",
     "exception": false,
     "start_time": "2022-11-01T19:16:33.679123",
     "status": "completed"
    },
    "tags": []
   },
   "outputs": [],
   "source": [
    "# import os\n",
    "# for dirname, _, filenames in os.walk('/kaggle/input'):\n",
    "#     for filename in filenames:\n",
    "#         print(os.path.join(dirname, filename))\n",
    "\n",
    "import os\n",
    "import datetime\n",
    "import squarify\n",
    "import warnings\n",
    "import pandas as pd \n",
    "import numpy as np\n",
    "import datetime as dt\n",
    "from operator import attrgetter\n",
    "import seaborn as sns\n",
    "import matplotlib.pyplot as plt\n",
    "import matplotlib.colors as mcolors\n",
    "import plotly.graph_objs as go\n",
    "from plotly.offline import iplot\n",
    "from sklearn.metrics import (silhouette_score,\n",
    "                             calinski_harabasz_score,\n",
    "                             davies_bouldin_score)\n",
    "from lifetimes import BetaGeoFitter, GammaGammaFitter\n",
    "from lifetimes.plotting import plot_period_transactions\n",
    "warnings.filterwarnings('ignore')\n",
    "sns.set_style('whitegrid')\n",
    "%matplotlib inline\n",
    "palette = 'Set2'"
   ]
  },
  {
   "cell_type": "markdown",
   "id": "7842acaf",
   "metadata": {
    "execution": {
     "iopub.execute_input": "2022-10-31T18:36:24.435402Z",
     "iopub.status.busy": "2022-10-31T18:36:24.434993Z",
     "iopub.status.idle": "2022-10-31T18:36:24.442305Z",
     "shell.execute_reply": "2022-10-31T18:36:24.440803Z",
     "shell.execute_reply.started": "2022-10-31T18:36:24.435367Z"
    },
    "papermill": {
     "duration": 0.008801,
     "end_time": "2022-11-01T19:16:34.923784",
     "exception": false,
     "start_time": "2022-11-01T19:16:34.914983",
     "status": "completed"
    },
    "tags": []
   },
   "source": [
    "# Analysis Approach:\n",
    "1. RFM \n",
    "2. Cohort Analysis\n",
    "3. Customer LTV"
   ]
  },
  {
   "cell_type": "markdown",
   "id": "1c8ab03c",
   "metadata": {
    "execution": {
     "iopub.execute_input": "2022-10-31T18:33:12.539588Z",
     "iopub.status.busy": "2022-10-31T18:33:12.539128Z",
     "iopub.status.idle": "2022-10-31T18:33:12.544718Z",
     "shell.execute_reply": "2022-10-31T18:33:12.543097Z",
     "shell.execute_reply.started": "2022-10-31T18:33:12.539548Z"
    },
    "papermill": {
     "duration": 0.008782,
     "end_time": "2022-11-01T19:16:34.941712",
     "exception": false,
     "start_time": "2022-11-01T19:16:34.932930",
     "status": "completed"
    },
    "tags": []
   },
   "source": [
    "# EDA"
   ]
  },
  {
   "cell_type": "markdown",
   "id": "ff26e93e",
   "metadata": {
    "papermill": {
     "duration": 0.008813,
     "end_time": "2022-11-01T19:16:34.959765",
     "exception": false,
     "start_time": "2022-11-01T19:16:34.950952",
     "status": "completed"
    },
    "tags": []
   },
   "source": [
    "# Data Definitions\n",
    "\n",
    "* InvoiceNo: Invoice number that consists 6 digits. If this code starts with letter 'c', it indicates a cancellation.\n",
    "* StockCode: Product code that consists 5 digits.\n",
    "* Description: Product name.\n",
    "* Quantity: The quantities of each product per transaction.\n",
    "* InvoiceDate: Represents the day and time when each transaction was generated.\n",
    "* UnitPrice: Product price per unit.\n",
    "* CustomerID: Customer number that consists 5 digits. Each customer has a unique customer ID.\n",
    "* Country: Name of the country where each customer resides."
   ]
  },
  {
   "cell_type": "code",
   "execution_count": 3,
   "id": "37271304",
   "metadata": {
    "execution": {
     "iopub.execute_input": "2022-11-01T19:16:34.983113Z",
     "iopub.status.busy": "2022-11-01T19:16:34.981711Z",
     "iopub.status.idle": "2022-11-01T19:16:36.906462Z",
     "shell.execute_reply": "2022-11-01T19:16:36.905362Z"
    },
    "papermill": {
     "duration": 1.938501,
     "end_time": "2022-11-01T19:16:36.908933",
     "exception": false,
     "start_time": "2022-11-01T19:16:34.970432",
     "status": "completed"
    },
    "tags": []
   },
   "outputs": [
    {
     "data": {
      "text/html": [
       "<div>\n",
       "<style scoped>\n",
       "    .dataframe tbody tr th:only-of-type {\n",
       "        vertical-align: middle;\n",
       "    }\n",
       "\n",
       "    .dataframe tbody tr th {\n",
       "        vertical-align: top;\n",
       "    }\n",
       "\n",
       "    .dataframe thead th {\n",
       "        text-align: right;\n",
       "    }\n",
       "</style>\n",
       "<table border=\"1\" class=\"dataframe\">\n",
       "  <thead>\n",
       "    <tr style=\"text-align: right;\">\n",
       "      <th></th>\n",
       "      <th>InvoiceNo</th>\n",
       "      <th>StockCode</th>\n",
       "      <th>Description</th>\n",
       "      <th>Quantity</th>\n",
       "      <th>InvoiceDate</th>\n",
       "      <th>UnitPrice</th>\n",
       "      <th>CustomerID</th>\n",
       "      <th>Country</th>\n",
       "    </tr>\n",
       "  </thead>\n",
       "  <tbody>\n",
       "    <tr>\n",
       "      <th>0</th>\n",
       "      <td>536365</td>\n",
       "      <td>85123A</td>\n",
       "      <td>WHITE HANGING HEART T-LIGHT HOLDER</td>\n",
       "      <td>6</td>\n",
       "      <td>2010-12-01 08:26:00</td>\n",
       "      <td>2.55</td>\n",
       "      <td>17850</td>\n",
       "      <td>United Kingdom</td>\n",
       "    </tr>\n",
       "    <tr>\n",
       "      <th>1</th>\n",
       "      <td>536365</td>\n",
       "      <td>71053</td>\n",
       "      <td>WHITE METAL LANTERN</td>\n",
       "      <td>6</td>\n",
       "      <td>2010-12-01 08:26:00</td>\n",
       "      <td>3.39</td>\n",
       "      <td>17850</td>\n",
       "      <td>United Kingdom</td>\n",
       "    </tr>\n",
       "    <tr>\n",
       "      <th>2</th>\n",
       "      <td>536365</td>\n",
       "      <td>84406B</td>\n",
       "      <td>CREAM CUPID HEARTS COAT HANGER</td>\n",
       "      <td>8</td>\n",
       "      <td>2010-12-01 08:26:00</td>\n",
       "      <td>2.75</td>\n",
       "      <td>17850</td>\n",
       "      <td>United Kingdom</td>\n",
       "    </tr>\n",
       "    <tr>\n",
       "      <th>3</th>\n",
       "      <td>536365</td>\n",
       "      <td>84029G</td>\n",
       "      <td>KNITTED UNION FLAG HOT WATER BOTTLE</td>\n",
       "      <td>6</td>\n",
       "      <td>2010-12-01 08:26:00</td>\n",
       "      <td>3.39</td>\n",
       "      <td>17850</td>\n",
       "      <td>United Kingdom</td>\n",
       "    </tr>\n",
       "    <tr>\n",
       "      <th>4</th>\n",
       "      <td>536365</td>\n",
       "      <td>84029E</td>\n",
       "      <td>RED WOOLLY HOTTIE WHITE HEART.</td>\n",
       "      <td>6</td>\n",
       "      <td>2010-12-01 08:26:00</td>\n",
       "      <td>3.39</td>\n",
       "      <td>17850</td>\n",
       "      <td>United Kingdom</td>\n",
       "    </tr>\n",
       "  </tbody>\n",
       "</table>\n",
       "</div>"
      ],
      "text/plain": [
       "  InvoiceNo StockCode                          Description  Quantity  \\\n",
       "0    536365    85123A   WHITE HANGING HEART T-LIGHT HOLDER         6   \n",
       "1    536365     71053                  WHITE METAL LANTERN         6   \n",
       "2    536365    84406B       CREAM CUPID HEARTS COAT HANGER         8   \n",
       "3    536365    84029G  KNITTED UNION FLAG HOT WATER BOTTLE         6   \n",
       "4    536365    84029E       RED WOOLLY HOTTIE WHITE HEART.         6   \n",
       "\n",
       "          InvoiceDate  UnitPrice CustomerID         Country  \n",
       "0 2010-12-01 08:26:00       2.55      17850  United Kingdom  \n",
       "1 2010-12-01 08:26:00       3.39      17850  United Kingdom  \n",
       "2 2010-12-01 08:26:00       2.75      17850  United Kingdom  \n",
       "3 2010-12-01 08:26:00       3.39      17850  United Kingdom  \n",
       "4 2010-12-01 08:26:00       3.39      17850  United Kingdom  "
      ]
     },
     "execution_count": 3,
     "metadata": {},
     "output_type": "execute_result"
    }
   ],
   "source": [
    "ecommerce_path = '/kaggle/input/ecommerce-data/'\n",
    "\n",
    "df = pd.read_csv(os.path.join(ecommerce_path, 'data.csv'),\n",
    "                 header = 0,\n",
    "                 encoding = 'unicode_escape',\n",
    "                 dtype = {'CustomerID': str,\n",
    "                          'InvoiceID': str},\n",
    "                 parse_dates = ['InvoiceDate'], \n",
    "                 infer_datetime_format = True)\n",
    "df.head()"
   ]
  },
  {
   "cell_type": "markdown",
   "id": "36882a85",
   "metadata": {
    "papermill": {
     "duration": 0.009536,
     "end_time": "2022-11-01T19:16:36.928073",
     "exception": false,
     "start_time": "2022-11-01T19:16:36.918537",
     "status": "completed"
    },
    "tags": []
   },
   "source": [
    "Customer can order multiple items with the same Invoice Date/Invoice No."
   ]
  },
  {
   "cell_type": "code",
   "execution_count": 4,
   "id": "70b072be",
   "metadata": {
    "execution": {
     "iopub.execute_input": "2022-11-01T19:16:36.948698Z",
     "iopub.status.busy": "2022-11-01T19:16:36.948306Z",
     "iopub.status.idle": "2022-11-01T19:16:37.070993Z",
     "shell.execute_reply": "2022-11-01T19:16:37.069891Z"
    },
    "papermill": {
     "duration": 0.135798,
     "end_time": "2022-11-01T19:16:37.073276",
     "exception": false,
     "start_time": "2022-11-01T19:16:36.937478",
     "status": "completed"
    },
    "tags": []
   },
   "outputs": [
    {
     "data": {
      "text/plain": [
       "InvoiceNo           0\n",
       "StockCode           0\n",
       "Description      1454\n",
       "Quantity            0\n",
       "InvoiceDate         0\n",
       "UnitPrice           0\n",
       "CustomerID     135080\n",
       "Country             0\n",
       "dtype: int64"
      ]
     },
     "execution_count": 4,
     "metadata": {},
     "output_type": "execute_result"
    }
   ],
   "source": [
    "#Data Integrity Check\n",
    "df.isnull().sum()"
   ]
  },
  {
   "cell_type": "code",
   "execution_count": 5,
   "id": "a7252479",
   "metadata": {
    "execution": {
     "iopub.execute_input": "2022-11-01T19:16:37.094106Z",
     "iopub.status.busy": "2022-11-01T19:16:37.093710Z",
     "iopub.status.idle": "2022-11-01T19:16:37.496241Z",
     "shell.execute_reply": "2022-11-01T19:16:37.494971Z"
    },
    "papermill": {
     "duration": 0.415726,
     "end_time": "2022-11-01T19:16:37.498528",
     "exception": false,
     "start_time": "2022-11-01T19:16:37.082802",
     "status": "completed"
    },
    "tags": []
   },
   "outputs": [
    {
     "data": {
      "text/plain": [
       "5268"
      ]
     },
     "execution_count": 5,
     "metadata": {},
     "output_type": "execute_result"
    }
   ],
   "source": [
    "#Number of duplicated items\n",
    "df.duplicated().sum() "
   ]
  },
  {
   "cell_type": "code",
   "execution_count": 6,
   "id": "26f295e2",
   "metadata": {
    "execution": {
     "iopub.execute_input": "2022-11-01T19:16:37.519736Z",
     "iopub.status.busy": "2022-11-01T19:16:37.519332Z",
     "iopub.status.idle": "2022-11-01T19:16:37.550633Z",
     "shell.execute_reply": "2022-11-01T19:16:37.549641Z"
    },
    "papermill": {
     "duration": 0.044604,
     "end_time": "2022-11-01T19:16:37.552945",
     "exception": false,
     "start_time": "2022-11-01T19:16:37.508341",
     "status": "completed"
    },
    "tags": []
   },
   "outputs": [
    {
     "data": {
      "text/plain": [
       "24.926694334288598"
      ]
     },
     "execution_count": 6,
     "metadata": {},
     "output_type": "execute_result"
    }
   ],
   "source": [
    "df['CustomerID'].isnull().sum()/df.shape[0] * 100"
   ]
  },
  {
   "cell_type": "markdown",
   "id": "26d11924",
   "metadata": {
    "execution": {
     "iopub.execute_input": "2022-10-24T23:51:10.702839Z",
     "iopub.status.busy": "2022-10-24T23:51:10.702403Z",
     "iopub.status.idle": "2022-10-24T23:51:10.708486Z",
     "shell.execute_reply": "2022-10-24T23:51:10.707588Z",
     "shell.execute_reply.started": "2022-10-24T23:51:10.702801Z"
    },
    "papermill": {
     "duration": 0.009345,
     "end_time": "2022-11-01T19:16:37.572003",
     "exception": false,
     "start_time": "2022-11-01T19:16:37.562658",
     "status": "completed"
    },
    "tags": []
   },
   "source": [
    "A quarter of CustomerID has nulls. Yikes."
   ]
  },
  {
   "cell_type": "code",
   "execution_count": 7,
   "id": "486e5376",
   "metadata": {
    "execution": {
     "iopub.execute_input": "2022-11-01T19:16:37.593554Z",
     "iopub.status.busy": "2022-11-01T19:16:37.592472Z",
     "iopub.status.idle": "2022-11-01T19:16:37.599937Z",
     "shell.execute_reply": "2022-11-01T19:16:37.599140Z"
    },
    "papermill": {
     "duration": 0.020322,
     "end_time": "2022-11-01T19:16:37.602004",
     "exception": false,
     "start_time": "2022-11-01T19:16:37.581682",
     "status": "completed"
    },
    "tags": []
   },
   "outputs": [
    {
     "data": {
      "text/plain": [
       "InvoiceNo              object\n",
       "StockCode              object\n",
       "Description            object\n",
       "Quantity                int64\n",
       "InvoiceDate    datetime64[ns]\n",
       "UnitPrice             float64\n",
       "CustomerID             object\n",
       "Country                object\n",
       "dtype: object"
      ]
     },
     "execution_count": 7,
     "metadata": {},
     "output_type": "execute_result"
    }
   ],
   "source": [
    "df.dtypes"
   ]
  },
  {
   "cell_type": "markdown",
   "id": "d9e1e317",
   "metadata": {
    "papermill": {
     "duration": 0.009398,
     "end_time": "2022-11-01T19:16:37.621260",
     "exception": false,
     "start_time": "2022-11-01T19:16:37.611862",
     "status": "completed"
    },
    "tags": []
   },
   "source": [
    "Where do most of our customer reside? "
   ]
  },
  {
   "cell_type": "code",
   "execution_count": 8,
   "id": "9d164ece",
   "metadata": {
    "execution": {
     "iopub.execute_input": "2022-11-01T19:16:37.643177Z",
     "iopub.status.busy": "2022-11-01T19:16:37.642166Z",
     "iopub.status.idle": "2022-11-01T19:16:38.721251Z",
     "shell.execute_reply": "2022-11-01T19:16:38.720072Z"
    },
    "papermill": {
     "duration": 1.092759,
     "end_time": "2022-11-01T19:16:38.723714",
     "exception": false,
     "start_time": "2022-11-01T19:16:37.630955",
     "status": "completed"
    },
    "tags": []
   },
   "outputs": [
    {
     "data": {
      "text/html": [
       "        <script type=\"text/javascript\">\n",
       "        window.PlotlyConfig = {MathJaxConfig: 'local'};\n",
       "        if (window.MathJax && window.MathJax.Hub && window.MathJax.Hub.Config) {window.MathJax.Hub.Config({SVG: {font: \"STIX-Web\"}});}\n",
       "        if (typeof require !== 'undefined') {\n",
       "        require.undef(\"plotly\");\n",
       "        requirejs.config({\n",
       "            paths: {\n",
       "                'plotly': ['https://cdn.plot.ly/plotly-2.14.0.min']\n",
       "            }\n",
       "        });\n",
       "        require(['plotly'], function(Plotly) {\n",
       "            window._Plotly = Plotly;\n",
       "        });\n",
       "        }\n",
       "        </script>\n",
       "        "
      ]
     },
     "metadata": {},
     "output_type": "display_data"
    },
    {
     "data": {
      "text/html": [
       "<div>                            <div id=\"7eef622d-ec76-4eb1-b4e3-3a397e129933\" class=\"plotly-graph-div\" style=\"height:600px; width:1000px;\"></div>            <script type=\"text/javascript\">                require([\"plotly\"], function(Plotly) {                    window.PLOTLYENV=window.PLOTLYENV || {};                                    if (document.getElementById(\"7eef622d-ec76-4eb1-b4e3-3a397e129933\")) {                    Plotly.newPlot(                        \"7eef622d-ec76-4eb1-b4e3-3a397e129933\",                        [{\"colorbar\":{\"title\":{\"text\":\"Orders\"}},\"colorscale\":[[0.0,\"#440154\"],[0.1111111111111111,\"#482878\"],[0.2222222222222222,\"#3e4989\"],[0.3333333333333333,\"#31688e\"],[0.4444444444444444,\"#26828e\"],[0.5555555555555556,\"#1f9e89\"],[0.6666666666666666,\"#35b779\"],[0.7777777777777778,\"#6ece58\"],[0.8888888888888888,\"#b5de2b\"],[1.0,\"#fde725\"]],\"locationmode\":\"country names\",\"locations\":[\"United Kingdom\",\"Germany\",\"France\",\"EIRE\",\"Belgium\",\"Spain\",\"Netherlands\",\"Switzerland\",\"Portugal\",\"Australia\",\"Italy\",\"Finland\",\"Sweden\",\"Norway\",\"Channel Islands\",\"Japan\",\"Poland\",\"Denmark\",\"Cyprus\",\"Austria\",\"Singapore\",\"Malta\",\"Unspecified\",\"USA\",\"Iceland\",\"Israel\",\"Canada\",\"Greece\",\"Czech Republic\",\"European Community\",\"Lithuania\",\"United Arab Emirates\",\"Saudi Arabia\",\"Bahrain\",\"RSA\",\"Lebanon\",\"Brazil\"],\"reversescale\":false,\"text\":[\"United Kingdom\",\"Germany\",\"France\",\"EIRE\",\"Belgium\",\"Spain\",\"Netherlands\",\"Switzerland\",\"Portugal\",\"Australia\",\"Italy\",\"Finland\",\"Sweden\",\"Norway\",\"Channel Islands\",\"Japan\",\"Poland\",\"Denmark\",\"Cyprus\",\"Austria\",\"Singapore\",\"Malta\",\"Unspecified\",\"USA\",\"Iceland\",\"Israel\",\"Canada\",\"Greece\",\"Czech Republic\",\"European Community\",\"Lithuania\",\"United Arab Emirates\",\"Saudi Arabia\",\"Bahrain\",\"RSA\",\"Lebanon\",\"Brazil\"],\"z\":[19857,603,458,319,119,105,101,71,70,69,55,48,46,40,33,28,24,21,20,19,10,10,8,7,7,6,6,6,5,5,4,3,2,2,1,1,1],\"type\":\"choropleth\"}],                        {\"geo\":{\"landcolor\":\"whitesmoke\",\"oceancolor\":\"LightBlue\",\"resolution\":50,\"showframe\":true,\"showland\":true,\"showocean\":true},\"height\":600,\"template\":{\"data\":{\"barpolar\":[{\"marker\":{\"line\":{\"color\":\"white\",\"width\":0.5},\"pattern\":{\"fillmode\":\"overlay\",\"size\":10,\"solidity\":0.2}},\"type\":\"barpolar\"}],\"bar\":[{\"error_x\":{\"color\":\"#2a3f5f\"},\"error_y\":{\"color\":\"#2a3f5f\"},\"marker\":{\"line\":{\"color\":\"white\",\"width\":0.5},\"pattern\":{\"fillmode\":\"overlay\",\"size\":10,\"solidity\":0.2}},\"type\":\"bar\"}],\"carpet\":[{\"aaxis\":{\"endlinecolor\":\"#2a3f5f\",\"gridcolor\":\"#C8D4E3\",\"linecolor\":\"#C8D4E3\",\"minorgridcolor\":\"#C8D4E3\",\"startlinecolor\":\"#2a3f5f\"},\"baxis\":{\"endlinecolor\":\"#2a3f5f\",\"gridcolor\":\"#C8D4E3\",\"linecolor\":\"#C8D4E3\",\"minorgridcolor\":\"#C8D4E3\",\"startlinecolor\":\"#2a3f5f\"},\"type\":\"carpet\"}],\"choropleth\":[{\"colorbar\":{\"outlinewidth\":0,\"ticks\":\"\"},\"type\":\"choropleth\"}],\"contourcarpet\":[{\"colorbar\":{\"outlinewidth\":0,\"ticks\":\"\"},\"type\":\"contourcarpet\"}],\"contour\":[{\"colorbar\":{\"outlinewidth\":0,\"ticks\":\"\"},\"colorscale\":[[0.0,\"#0d0887\"],[0.1111111111111111,\"#46039f\"],[0.2222222222222222,\"#7201a8\"],[0.3333333333333333,\"#9c179e\"],[0.4444444444444444,\"#bd3786\"],[0.5555555555555556,\"#d8576b\"],[0.6666666666666666,\"#ed7953\"],[0.7777777777777778,\"#fb9f3a\"],[0.8888888888888888,\"#fdca26\"],[1.0,\"#f0f921\"]],\"type\":\"contour\"}],\"heatmapgl\":[{\"colorbar\":{\"outlinewidth\":0,\"ticks\":\"\"},\"colorscale\":[[0.0,\"#0d0887\"],[0.1111111111111111,\"#46039f\"],[0.2222222222222222,\"#7201a8\"],[0.3333333333333333,\"#9c179e\"],[0.4444444444444444,\"#bd3786\"],[0.5555555555555556,\"#d8576b\"],[0.6666666666666666,\"#ed7953\"],[0.7777777777777778,\"#fb9f3a\"],[0.8888888888888888,\"#fdca26\"],[1.0,\"#f0f921\"]],\"type\":\"heatmapgl\"}],\"heatmap\":[{\"colorbar\":{\"outlinewidth\":0,\"ticks\":\"\"},\"colorscale\":[[0.0,\"#0d0887\"],[0.1111111111111111,\"#46039f\"],[0.2222222222222222,\"#7201a8\"],[0.3333333333333333,\"#9c179e\"],[0.4444444444444444,\"#bd3786\"],[0.5555555555555556,\"#d8576b\"],[0.6666666666666666,\"#ed7953\"],[0.7777777777777778,\"#fb9f3a\"],[0.8888888888888888,\"#fdca26\"],[1.0,\"#f0f921\"]],\"type\":\"heatmap\"}],\"histogram2dcontour\":[{\"colorbar\":{\"outlinewidth\":0,\"ticks\":\"\"},\"colorscale\":[[0.0,\"#0d0887\"],[0.1111111111111111,\"#46039f\"],[0.2222222222222222,\"#7201a8\"],[0.3333333333333333,\"#9c179e\"],[0.4444444444444444,\"#bd3786\"],[0.5555555555555556,\"#d8576b\"],[0.6666666666666666,\"#ed7953\"],[0.7777777777777778,\"#fb9f3a\"],[0.8888888888888888,\"#fdca26\"],[1.0,\"#f0f921\"]],\"type\":\"histogram2dcontour\"}],\"histogram2d\":[{\"colorbar\":{\"outlinewidth\":0,\"ticks\":\"\"},\"colorscale\":[[0.0,\"#0d0887\"],[0.1111111111111111,\"#46039f\"],[0.2222222222222222,\"#7201a8\"],[0.3333333333333333,\"#9c179e\"],[0.4444444444444444,\"#bd3786\"],[0.5555555555555556,\"#d8576b\"],[0.6666666666666666,\"#ed7953\"],[0.7777777777777778,\"#fb9f3a\"],[0.8888888888888888,\"#fdca26\"],[1.0,\"#f0f921\"]],\"type\":\"histogram2d\"}],\"histogram\":[{\"marker\":{\"pattern\":{\"fillmode\":\"overlay\",\"size\":10,\"solidity\":0.2}},\"type\":\"histogram\"}],\"mesh3d\":[{\"colorbar\":{\"outlinewidth\":0,\"ticks\":\"\"},\"type\":\"mesh3d\"}],\"parcoords\":[{\"line\":{\"colorbar\":{\"outlinewidth\":0,\"ticks\":\"\"}},\"type\":\"parcoords\"}],\"pie\":[{\"automargin\":true,\"type\":\"pie\"}],\"scatter3d\":[{\"line\":{\"colorbar\":{\"outlinewidth\":0,\"ticks\":\"\"}},\"marker\":{\"colorbar\":{\"outlinewidth\":0,\"ticks\":\"\"}},\"type\":\"scatter3d\"}],\"scattercarpet\":[{\"marker\":{\"colorbar\":{\"outlinewidth\":0,\"ticks\":\"\"}},\"type\":\"scattercarpet\"}],\"scattergeo\":[{\"marker\":{\"colorbar\":{\"outlinewidth\":0,\"ticks\":\"\"}},\"type\":\"scattergeo\"}],\"scattergl\":[{\"marker\":{\"colorbar\":{\"outlinewidth\":0,\"ticks\":\"\"}},\"type\":\"scattergl\"}],\"scattermapbox\":[{\"marker\":{\"colorbar\":{\"outlinewidth\":0,\"ticks\":\"\"}},\"type\":\"scattermapbox\"}],\"scatterpolargl\":[{\"marker\":{\"colorbar\":{\"outlinewidth\":0,\"ticks\":\"\"}},\"type\":\"scatterpolargl\"}],\"scatterpolar\":[{\"marker\":{\"colorbar\":{\"outlinewidth\":0,\"ticks\":\"\"}},\"type\":\"scatterpolar\"}],\"scatter\":[{\"fillpattern\":{\"fillmode\":\"overlay\",\"size\":10,\"solidity\":0.2},\"type\":\"scatter\"}],\"scatterternary\":[{\"marker\":{\"colorbar\":{\"outlinewidth\":0,\"ticks\":\"\"}},\"type\":\"scatterternary\"}],\"surface\":[{\"colorbar\":{\"outlinewidth\":0,\"ticks\":\"\"},\"colorscale\":[[0.0,\"#0d0887\"],[0.1111111111111111,\"#46039f\"],[0.2222222222222222,\"#7201a8\"],[0.3333333333333333,\"#9c179e\"],[0.4444444444444444,\"#bd3786\"],[0.5555555555555556,\"#d8576b\"],[0.6666666666666666,\"#ed7953\"],[0.7777777777777778,\"#fb9f3a\"],[0.8888888888888888,\"#fdca26\"],[1.0,\"#f0f921\"]],\"type\":\"surface\"}],\"table\":[{\"cells\":{\"fill\":{\"color\":\"#EBF0F8\"},\"line\":{\"color\":\"white\"}},\"header\":{\"fill\":{\"color\":\"#C8D4E3\"},\"line\":{\"color\":\"white\"}},\"type\":\"table\"}]},\"layout\":{\"annotationdefaults\":{\"arrowcolor\":\"#2a3f5f\",\"arrowhead\":0,\"arrowwidth\":1},\"autotypenumbers\":\"strict\",\"coloraxis\":{\"colorbar\":{\"outlinewidth\":0,\"ticks\":\"\"}},\"colorscale\":{\"diverging\":[[0,\"#8e0152\"],[0.1,\"#c51b7d\"],[0.2,\"#de77ae\"],[0.3,\"#f1b6da\"],[0.4,\"#fde0ef\"],[0.5,\"#f7f7f7\"],[0.6,\"#e6f5d0\"],[0.7,\"#b8e186\"],[0.8,\"#7fbc41\"],[0.9,\"#4d9221\"],[1,\"#276419\"]],\"sequential\":[[0.0,\"#0d0887\"],[0.1111111111111111,\"#46039f\"],[0.2222222222222222,\"#7201a8\"],[0.3333333333333333,\"#9c179e\"],[0.4444444444444444,\"#bd3786\"],[0.5555555555555556,\"#d8576b\"],[0.6666666666666666,\"#ed7953\"],[0.7777777777777778,\"#fb9f3a\"],[0.8888888888888888,\"#fdca26\"],[1.0,\"#f0f921\"]],\"sequentialminus\":[[0.0,\"#0d0887\"],[0.1111111111111111,\"#46039f\"],[0.2222222222222222,\"#7201a8\"],[0.3333333333333333,\"#9c179e\"],[0.4444444444444444,\"#bd3786\"],[0.5555555555555556,\"#d8576b\"],[0.6666666666666666,\"#ed7953\"],[0.7777777777777778,\"#fb9f3a\"],[0.8888888888888888,\"#fdca26\"],[1.0,\"#f0f921\"]]},\"colorway\":[\"#636efa\",\"#EF553B\",\"#00cc96\",\"#ab63fa\",\"#FFA15A\",\"#19d3f3\",\"#FF6692\",\"#B6E880\",\"#FF97FF\",\"#FECB52\"],\"font\":{\"color\":\"#2a3f5f\"},\"geo\":{\"bgcolor\":\"white\",\"lakecolor\":\"white\",\"landcolor\":\"white\",\"showlakes\":true,\"showland\":true,\"subunitcolor\":\"#C8D4E3\"},\"hoverlabel\":{\"align\":\"left\"},\"hovermode\":\"closest\",\"mapbox\":{\"style\":\"light\"},\"paper_bgcolor\":\"white\",\"plot_bgcolor\":\"white\",\"polar\":{\"angularaxis\":{\"gridcolor\":\"#EBF0F8\",\"linecolor\":\"#EBF0F8\",\"ticks\":\"\"},\"bgcolor\":\"white\",\"radialaxis\":{\"gridcolor\":\"#EBF0F8\",\"linecolor\":\"#EBF0F8\",\"ticks\":\"\"}},\"scene\":{\"xaxis\":{\"backgroundcolor\":\"white\",\"gridcolor\":\"#DFE8F3\",\"gridwidth\":2,\"linecolor\":\"#EBF0F8\",\"showbackground\":true,\"ticks\":\"\",\"zerolinecolor\":\"#EBF0F8\"},\"yaxis\":{\"backgroundcolor\":\"white\",\"gridcolor\":\"#DFE8F3\",\"gridwidth\":2,\"linecolor\":\"#EBF0F8\",\"showbackground\":true,\"ticks\":\"\",\"zerolinecolor\":\"#EBF0F8\"},\"zaxis\":{\"backgroundcolor\":\"white\",\"gridcolor\":\"#DFE8F3\",\"gridwidth\":2,\"linecolor\":\"#EBF0F8\",\"showbackground\":true,\"ticks\":\"\",\"zerolinecolor\":\"#EBF0F8\"}},\"shapedefaults\":{\"line\":{\"color\":\"#2a3f5f\"}},\"ternary\":{\"aaxis\":{\"gridcolor\":\"#DFE8F3\",\"linecolor\":\"#A2B1C6\",\"ticks\":\"\"},\"baxis\":{\"gridcolor\":\"#DFE8F3\",\"linecolor\":\"#A2B1C6\",\"ticks\":\"\"},\"bgcolor\":\"white\",\"caxis\":{\"gridcolor\":\"#DFE8F3\",\"linecolor\":\"#A2B1C6\",\"ticks\":\"\"}},\"title\":{\"x\":0.05},\"xaxis\":{\"automargin\":true,\"gridcolor\":\"#EBF0F8\",\"linecolor\":\"#EBF0F8\",\"ticks\":\"\",\"title\":{\"standoff\":15},\"zerolinecolor\":\"#EBF0F8\",\"zerolinewidth\":2},\"yaxis\":{\"automargin\":true,\"gridcolor\":\"#EBF0F8\",\"linecolor\":\"#EBF0F8\",\"ticks\":\"\",\"title\":{\"standoff\":15},\"zerolinecolor\":\"#EBF0F8\",\"zerolinewidth\":2}}},\"title\":{\"text\":\"Number of Orders by Countries\",\"x\":0.5,\"xanchor\":\"center\",\"y\":0.9,\"yanchor\":\"top\"},\"width\":1000},                        {\"responsive\": true}                    ).then(function(){\n",
       "                            \n",
       "var gd = document.getElementById('7eef622d-ec76-4eb1-b4e3-3a397e129933');\n",
       "var x = new MutationObserver(function (mutations, observer) {{\n",
       "        var display = window.getComputedStyle(gd).display;\n",
       "        if (!display || display === 'none') {{\n",
       "            console.log([gd, 'removed!']);\n",
       "            Plotly.purge(gd);\n",
       "            observer.disconnect();\n",
       "        }}\n",
       "}});\n",
       "\n",
       "// Listen for the removal of the full notebook cells\n",
       "var notebookContainer = gd.closest('#notebook-container');\n",
       "if (notebookContainer) {{\n",
       "    x.observe(notebookContainer, {childList: true});\n",
       "}}\n",
       "\n",
       "// Listen for the clearing of the current output cell\n",
       "var outputEl = gd.closest('.output');\n",
       "if (outputEl) {{\n",
       "    x.observe(outputEl, {childList: true});\n",
       "}}\n",
       "\n",
       "                        })                };                });            </script>        </div>"
      ]
     },
     "metadata": {},
     "output_type": "display_data"
    }
   ],
   "source": [
    "world_map = df[['CustomerID', 'InvoiceNo', 'Country']\n",
    "              ].groupby(['CustomerID', 'InvoiceNo', 'Country']\n",
    "                       ).count().reset_index(drop = False)\n",
    "countries = world_map['Country'].value_counts()\n",
    "data = dict(type='choropleth',\n",
    "            locations = countries.index,\n",
    "            locationmode = 'country names',\n",
    "            z = countries,\n",
    "            text = countries.index,\n",
    "            colorbar = {'title':'Orders'},\n",
    "            colorscale='Viridis',\n",
    "            reversescale = False)\n",
    "\n",
    "layout = dict(title={'text': \"Number of Orders by Countries\",\n",
    "                     'y':0.9,\n",
    "                     'x':0.5,\n",
    "                     'xanchor': 'center',\n",
    "                     'yanchor': 'top'},\n",
    "              geo = dict(resolution = 50,\n",
    "                         showocean = True,\n",
    "                         oceancolor = \"LightBlue\",\n",
    "                         showland = True,\n",
    "                         landcolor = \"whitesmoke\",\n",
    "                         showframe = True),\n",
    "             template = 'plotly_white',\n",
    "             height = 600,\n",
    "             width = 1000)\n",
    "\n",
    "choromap = go.Figure(data = [data], layout = layout)\n",
    "iplot(choromap, validate = False)"
   ]
  },
  {
   "cell_type": "markdown",
   "id": "b9602aa8",
   "metadata": {
    "papermill": {
     "duration": 0.009797,
     "end_time": "2022-11-01T19:16:38.744286",
     "exception": false,
     "start_time": "2022-11-01T19:16:38.734489",
     "status": "completed"
    },
    "tags": []
   },
   "source": [
    "Looks like customers are spread across major countries in most continents: North and South America, Europe, Australia. However, presence in Asia could be more."
   ]
  },
  {
   "cell_type": "code",
   "execution_count": 9,
   "id": "a652199b",
   "metadata": {
    "execution": {
     "iopub.execute_input": "2022-11-01T19:16:38.766580Z",
     "iopub.status.busy": "2022-11-01T19:16:38.766151Z",
     "iopub.status.idle": "2022-11-01T19:16:38.834392Z",
     "shell.execute_reply": "2022-11-01T19:16:38.833344Z"
    },
    "papermill": {
     "duration": 0.082447,
     "end_time": "2022-11-01T19:16:38.836930",
     "exception": false,
     "start_time": "2022-11-01T19:16:38.754483",
     "status": "completed"
    },
    "tags": []
   },
   "outputs": [
    {
     "data": {
      "text/html": [
       "<div>\n",
       "<style scoped>\n",
       "    .dataframe tbody tr th:only-of-type {\n",
       "        vertical-align: middle;\n",
       "    }\n",
       "\n",
       "    .dataframe tbody tr th {\n",
       "        vertical-align: top;\n",
       "    }\n",
       "\n",
       "    .dataframe thead th {\n",
       "        text-align: right;\n",
       "    }\n",
       "</style>\n",
       "<table border=\"1\" class=\"dataframe\">\n",
       "  <thead>\n",
       "    <tr style=\"text-align: right;\">\n",
       "      <th></th>\n",
       "      <th>Quantity</th>\n",
       "      <th>UnitPrice</th>\n",
       "    </tr>\n",
       "  </thead>\n",
       "  <tbody>\n",
       "    <tr>\n",
       "      <th>count</th>\n",
       "      <td>541909.000000</td>\n",
       "      <td>541909.000000</td>\n",
       "    </tr>\n",
       "    <tr>\n",
       "      <th>mean</th>\n",
       "      <td>9.552250</td>\n",
       "      <td>4.611114</td>\n",
       "    </tr>\n",
       "    <tr>\n",
       "      <th>std</th>\n",
       "      <td>218.081158</td>\n",
       "      <td>96.759853</td>\n",
       "    </tr>\n",
       "    <tr>\n",
       "      <th>min</th>\n",
       "      <td>-80995.000000</td>\n",
       "      <td>-11062.060000</td>\n",
       "    </tr>\n",
       "    <tr>\n",
       "      <th>25%</th>\n",
       "      <td>1.000000</td>\n",
       "      <td>1.250000</td>\n",
       "    </tr>\n",
       "    <tr>\n",
       "      <th>50%</th>\n",
       "      <td>3.000000</td>\n",
       "      <td>2.080000</td>\n",
       "    </tr>\n",
       "    <tr>\n",
       "      <th>75%</th>\n",
       "      <td>10.000000</td>\n",
       "      <td>4.130000</td>\n",
       "    </tr>\n",
       "    <tr>\n",
       "      <th>max</th>\n",
       "      <td>80995.000000</td>\n",
       "      <td>38970.000000</td>\n",
       "    </tr>\n",
       "  </tbody>\n",
       "</table>\n",
       "</div>"
      ],
      "text/plain": [
       "            Quantity      UnitPrice\n",
       "count  541909.000000  541909.000000\n",
       "mean        9.552250       4.611114\n",
       "std       218.081158      96.759853\n",
       "min    -80995.000000  -11062.060000\n",
       "25%         1.000000       1.250000\n",
       "50%         3.000000       2.080000\n",
       "75%        10.000000       4.130000\n",
       "max     80995.000000   38970.000000"
      ]
     },
     "execution_count": 9,
     "metadata": {},
     "output_type": "execute_result"
    }
   ],
   "source": [
    "df.describe()"
   ]
  },
  {
   "cell_type": "markdown",
   "id": "d27fa59d",
   "metadata": {
    "execution": {
     "iopub.execute_input": "2022-10-31T18:45:21.178606Z",
     "iopub.status.busy": "2022-10-31T18:45:21.177819Z",
     "iopub.status.idle": "2022-10-31T18:45:21.231715Z",
     "shell.execute_reply": "2022-10-31T18:45:21.230439Z",
     "shell.execute_reply.started": "2022-10-31T18:45:21.178559Z"
    },
    "papermill": {
     "duration": 0.009912,
     "end_time": "2022-11-01T19:16:38.857342",
     "exception": false,
     "start_time": "2022-11-01T19:16:38.847430",
     "status": "completed"
    },
    "tags": []
   },
   "source": [
    "There are outliers. Negative values in Quantity and UnitPrice reflect cancelled orders. There are also missing value in Description and CustomerID. \n",
    "\n",
    "Next step would be:\n",
    "1. take out NULL values\n",
    "1. only keep non-cancelled orders and item quantities greater than 0\n",
    "1. after taking out outliers, reband quantiles\n",
    "1. multiply Quantity and UnitPrice to get total spent per order"
   ]
  },
  {
   "cell_type": "code",
   "execution_count": 10,
   "id": "2ca26e75",
   "metadata": {
    "execution": {
     "iopub.execute_input": "2022-11-01T19:16:38.880542Z",
     "iopub.status.busy": "2022-11-01T19:16:38.880170Z",
     "iopub.status.idle": "2022-11-01T19:16:38.889941Z",
     "shell.execute_reply": "2022-11-01T19:16:38.888937Z"
    },
    "papermill": {
     "duration": 0.023881,
     "end_time": "2022-11-01T19:16:38.892006",
     "exception": false,
     "start_time": "2022-11-01T19:16:38.868125",
     "status": "completed"
    },
    "tags": []
   },
   "outputs": [],
   "source": [
    "def replace_with_thresholds(dataframe, variable, q1 = 0.25, q3 = 0.75):\n",
    "    \n",
    "    '''\n",
    "    Detects outliers with IQR method and replaces with thresholds \n",
    "    \n",
    "    '''\n",
    "    \n",
    "    df_ = dataframe.copy()\n",
    "    quartile1 = df_[variable].quantile(q1)\n",
    "    quartile3 = df_[variable].quantile(q3)\n",
    "    iqr = quartile3 - quartile1\n",
    "    \n",
    "    up_limit = quartile3 + 1.5 * iqr\n",
    "    low_limit = quartile1 - 1.5 * iqr\n",
    "    df_.loc[(df_[variable] < low_limit), variable] = low_limit\n",
    "    df_.loc[(df_[variable] > up_limit), variable] = up_limit\n",
    "    \n",
    "    return df_\n",
    "\n",
    "def ecommerce_preprocess(dataframe):\n",
    "    df_ = dataframe.copy()\n",
    "    \n",
    "    #Missing Values\n",
    "    df_ = df_.dropna()\n",
    "    \n",
    "    #Cancelled Orders & Quantity\n",
    "    df_ = df_[~df_['InvoiceNo'].str.contains('C', na = False)]\n",
    "    df_ = df_[df_['Quantity'] > 0]\n",
    "    \n",
    "    #Replacing Outliers\n",
    "    df_ = replace_with_thresholds(df_, \"Quantity\", q1 = 0.01, q3 = 0.99)\n",
    "    df_ = replace_with_thresholds(df_, \"UnitPrice\", q1 = 0.01, q3 = 0.99)\n",
    "    \n",
    "    #Total Price\n",
    "    df_[\"TotalPrice\"] = df_[\"Quantity\"] * df_[\"UnitPrice\"]\n",
    "    \n",
    "    return df_"
   ]
  },
  {
   "cell_type": "code",
   "execution_count": 11,
   "id": "31dccdff",
   "metadata": {
    "execution": {
     "iopub.execute_input": "2022-11-01T19:16:38.914545Z",
     "iopub.status.busy": "2022-11-01T19:16:38.913414Z",
     "iopub.status.idle": "2022-11-01T19:16:39.553594Z",
     "shell.execute_reply": "2022-11-01T19:16:39.552798Z"
    },
    "papermill": {
     "duration": 0.653468,
     "end_time": "2022-11-01T19:16:39.555609",
     "exception": false,
     "start_time": "2022-11-01T19:16:38.902141",
     "status": "completed"
    },
    "tags": []
   },
   "outputs": [
    {
     "data": {
      "text/html": [
       "<div>\n",
       "<style scoped>\n",
       "    .dataframe tbody tr th:only-of-type {\n",
       "        vertical-align: middle;\n",
       "    }\n",
       "\n",
       "    .dataframe tbody tr th {\n",
       "        vertical-align: top;\n",
       "    }\n",
       "\n",
       "    .dataframe thead th {\n",
       "        text-align: right;\n",
       "    }\n",
       "</style>\n",
       "<table border=\"1\" class=\"dataframe\">\n",
       "  <thead>\n",
       "    <tr style=\"text-align: right;\">\n",
       "      <th></th>\n",
       "      <th>Quantity</th>\n",
       "      <th>UnitPrice</th>\n",
       "      <th>TotalPrice</th>\n",
       "    </tr>\n",
       "  </thead>\n",
       "  <tbody>\n",
       "    <tr>\n",
       "      <th>count</th>\n",
       "      <td>397924.000000</td>\n",
       "      <td>397924.000000</td>\n",
       "      <td>397924.000000</td>\n",
       "    </tr>\n",
       "    <tr>\n",
       "      <th>mean</th>\n",
       "      <td>11.833736</td>\n",
       "      <td>2.893163</td>\n",
       "      <td>20.627751</td>\n",
       "    </tr>\n",
       "    <tr>\n",
       "      <th>std</th>\n",
       "      <td>25.534512</td>\n",
       "      <td>3.227059</td>\n",
       "      <td>51.826400</td>\n",
       "    </tr>\n",
       "    <tr>\n",
       "      <th>min</th>\n",
       "      <td>1.000000</td>\n",
       "      <td>0.000000</td>\n",
       "      <td>0.000000</td>\n",
       "    </tr>\n",
       "    <tr>\n",
       "      <th>25%</th>\n",
       "      <td>2.000000</td>\n",
       "      <td>1.250000</td>\n",
       "      <td>4.680000</td>\n",
       "    </tr>\n",
       "    <tr>\n",
       "      <th>50%</th>\n",
       "      <td>6.000000</td>\n",
       "      <td>1.950000</td>\n",
       "      <td>11.800000</td>\n",
       "    </tr>\n",
       "    <tr>\n",
       "      <th>75%</th>\n",
       "      <td>12.000000</td>\n",
       "      <td>3.750000</td>\n",
       "      <td>19.800000</td>\n",
       "    </tr>\n",
       "    <tr>\n",
       "      <th>max</th>\n",
       "      <td>298.500000</td>\n",
       "      <td>37.060000</td>\n",
       "      <td>3268.575000</td>\n",
       "    </tr>\n",
       "  </tbody>\n",
       "</table>\n",
       "</div>"
      ],
      "text/plain": [
       "            Quantity      UnitPrice     TotalPrice\n",
       "count  397924.000000  397924.000000  397924.000000\n",
       "mean       11.833736       2.893163      20.627751\n",
       "std        25.534512       3.227059      51.826400\n",
       "min         1.000000       0.000000       0.000000\n",
       "25%         2.000000       1.250000       4.680000\n",
       "50%         6.000000       1.950000      11.800000\n",
       "75%        12.000000       3.750000      19.800000\n",
       "max       298.500000      37.060000    3268.575000"
      ]
     },
     "execution_count": 11,
     "metadata": {},
     "output_type": "execute_result"
    }
   ],
   "source": [
    "df = ecommerce_preprocess(df)\n",
    "df.describe()"
   ]
  },
  {
   "cell_type": "markdown",
   "id": "e7b5fd91",
   "metadata": {
    "papermill": {
     "duration": 0.010134,
     "end_time": "2022-11-01T19:16:39.576384",
     "exception": false,
     "start_time": "2022-11-01T19:16:39.566250",
     "status": "completed"
    },
    "tags": []
   },
   "source": [
    "# RFM (Recency, Frequency, Monetary)"
   ]
  },
  {
   "cell_type": "markdown",
   "id": "31dec4c3",
   "metadata": {
    "papermill": {
     "duration": 0.010011,
     "end_time": "2022-11-01T19:16:39.597132",
     "exception": false,
     "start_time": "2022-11-01T19:16:39.587121",
     "status": "completed"
    },
    "tags": []
   },
   "source": [
    "RFM is a good first pass to see what sort of breakdown is possible across whole user base. If it is too crude, can make come up with more user behavior metrics.\n",
    "\n",
    "Recency help us judge customers' retention/engagement whereas Frequency and Monetary help us judge their lifetime value."
   ]
  },
  {
   "cell_type": "code",
   "execution_count": 12,
   "id": "91c278c2",
   "metadata": {
    "execution": {
     "iopub.execute_input": "2022-11-01T19:16:39.619863Z",
     "iopub.status.busy": "2022-11-01T19:16:39.619137Z",
     "iopub.status.idle": "2022-11-01T19:16:39.627281Z",
     "shell.execute_reply": "2022-11-01T19:16:39.626241Z"
    },
    "papermill": {
     "duration": 0.02202,
     "end_time": "2022-11-01T19:16:39.629459",
     "exception": false,
     "start_time": "2022-11-01T19:16:39.607439",
     "status": "completed"
    },
    "tags": []
   },
   "outputs": [
    {
     "data": {
      "text/plain": [
       "Timestamp('2011-12-09 12:50:00')"
      ]
     },
     "execution_count": 12,
     "metadata": {},
     "output_type": "execute_result"
    }
   ],
   "source": [
    "#Get the max date in order to determine which date to subtract from when determining Recency grades\n",
    "df['InvoiceDate'].max()"
   ]
  },
  {
   "cell_type": "code",
   "execution_count": 13,
   "id": "bb4e87da",
   "metadata": {
    "execution": {
     "iopub.execute_input": "2022-11-01T19:16:39.651989Z",
     "iopub.status.busy": "2022-11-01T19:16:39.651546Z",
     "iopub.status.idle": "2022-11-01T19:16:39.658556Z",
     "shell.execute_reply": "2022-11-01T19:16:39.657538Z"
    },
    "papermill": {
     "duration": 0.020729,
     "end_time": "2022-11-01T19:16:39.660736",
     "exception": false,
     "start_time": "2022-11-01T19:16:39.640007",
     "status": "completed"
    },
    "tags": []
   },
   "outputs": [
    {
     "data": {
      "text/plain": [
       "datetime.datetime(2011, 12, 11, 0, 0)"
      ]
     },
     "execution_count": 13,
     "metadata": {},
     "output_type": "execute_result"
    }
   ],
   "source": [
    "today_date = dt.datetime(2011,12,11)\n",
    "today_date"
   ]
  },
  {
   "cell_type": "code",
   "execution_count": 14,
   "id": "781cd27e",
   "metadata": {
    "execution": {
     "iopub.execute_input": "2022-11-01T19:16:39.684038Z",
     "iopub.status.busy": "2022-11-01T19:16:39.683641Z",
     "iopub.status.idle": "2022-11-01T19:16:40.921696Z",
     "shell.execute_reply": "2022-11-01T19:16:40.920482Z"
    },
    "papermill": {
     "duration": 1.252552,
     "end_time": "2022-11-01T19:16:40.924056",
     "exception": false,
     "start_time": "2022-11-01T19:16:39.671504",
     "status": "completed"
    },
    "tags": []
   },
   "outputs": [
    {
     "data": {
      "text/html": [
       "<div>\n",
       "<style scoped>\n",
       "    .dataframe tbody tr th:only-of-type {\n",
       "        vertical-align: middle;\n",
       "    }\n",
       "\n",
       "    .dataframe tbody tr th {\n",
       "        vertical-align: top;\n",
       "    }\n",
       "\n",
       "    .dataframe thead th {\n",
       "        text-align: right;\n",
       "    }\n",
       "</style>\n",
       "<table border=\"1\" class=\"dataframe\">\n",
       "  <thead>\n",
       "    <tr style=\"text-align: right;\">\n",
       "      <th></th>\n",
       "      <th>CustomerID</th>\n",
       "      <th>recency</th>\n",
       "      <th>frequency</th>\n",
       "      <th>monetary</th>\n",
       "    </tr>\n",
       "  </thead>\n",
       "  <tbody>\n",
       "    <tr>\n",
       "      <th>0</th>\n",
       "      <td>12346</td>\n",
       "      <td>326</td>\n",
       "      <td>1</td>\n",
       "      <td>310.44</td>\n",
       "    </tr>\n",
       "    <tr>\n",
       "      <th>1</th>\n",
       "      <td>12347</td>\n",
       "      <td>3</td>\n",
       "      <td>7</td>\n",
       "      <td>4310.00</td>\n",
       "    </tr>\n",
       "    <tr>\n",
       "      <th>2</th>\n",
       "      <td>12348</td>\n",
       "      <td>76</td>\n",
       "      <td>4</td>\n",
       "      <td>1770.78</td>\n",
       "    </tr>\n",
       "    <tr>\n",
       "      <th>3</th>\n",
       "      <td>12349</td>\n",
       "      <td>19</td>\n",
       "      <td>1</td>\n",
       "      <td>1491.72</td>\n",
       "    </tr>\n",
       "    <tr>\n",
       "      <th>4</th>\n",
       "      <td>12350</td>\n",
       "      <td>311</td>\n",
       "      <td>1</td>\n",
       "      <td>331.46</td>\n",
       "    </tr>\n",
       "  </tbody>\n",
       "</table>\n",
       "</div>"
      ],
      "text/plain": [
       "  CustomerID  recency  frequency  monetary\n",
       "0      12346      326          1    310.44\n",
       "1      12347        3          7   4310.00\n",
       "2      12348       76          4   1770.78\n",
       "3      12349       19          1   1491.72\n",
       "4      12350      311          1    331.46"
      ]
     },
     "execution_count": 14,
     "metadata": {},
     "output_type": "execute_result"
    }
   ],
   "source": [
    "#at customer level aggregates\n",
    "rfm = df.groupby('CustomerID').agg({'InvoiceDate': lambda x: (today_date - x.max()).days,\n",
    "                                    'InvoiceNo': lambda x: x.nunique(),\n",
    "                                    'TotalPrice': lambda x: x.sum()})\n",
    "\n",
    "rfm.columns = ['recency', 'frequency', 'monetary']\n",
    "\n",
    "rfm = rfm.loc[rfm['monetary'] > 0] #only want customers who spend more than $0\n",
    "rfm = rfm.reset_index()\n",
    "\n",
    "rfm.head()"
   ]
  },
  {
   "cell_type": "markdown",
   "id": "600d33ea",
   "metadata": {
    "execution": {
     "iopub.execute_input": "2022-11-01T17:54:16.792001Z",
     "iopub.status.busy": "2022-11-01T17:54:16.791421Z",
     "iopub.status.idle": "2022-11-01T17:54:16.829961Z",
     "shell.execute_reply": "2022-11-01T17:54:16.828215Z",
     "shell.execute_reply.started": "2022-11-01T17:54:16.791933Z"
    },
    "papermill": {
     "duration": 0.010572,
     "end_time": "2022-11-01T19:16:40.945760",
     "exception": false,
     "start_time": "2022-11-01T19:16:40.935188",
     "status": "completed"
    },
    "tags": []
   },
   "source": [
    "# RFM Scores"
   ]
  },
  {
   "cell_type": "code",
   "execution_count": 15,
   "id": "228084c7",
   "metadata": {
    "execution": {
     "iopub.execute_input": "2022-11-01T19:16:40.970870Z",
     "iopub.status.busy": "2022-11-01T19:16:40.970450Z",
     "iopub.status.idle": "2022-11-01T19:16:40.991187Z",
     "shell.execute_reply": "2022-11-01T19:16:40.990153Z"
    },
    "papermill": {
     "duration": 0.036864,
     "end_time": "2022-11-01T19:16:40.994079",
     "exception": false,
     "start_time": "2022-11-01T19:16:40.957215",
     "status": "completed"
    },
    "tags": []
   },
   "outputs": [
    {
     "data": {
      "text/html": [
       "<div>\n",
       "<style scoped>\n",
       "    .dataframe tbody tr th:only-of-type {\n",
       "        vertical-align: middle;\n",
       "    }\n",
       "\n",
       "    .dataframe tbody tr th {\n",
       "        vertical-align: top;\n",
       "    }\n",
       "\n",
       "    .dataframe thead th {\n",
       "        text-align: right;\n",
       "    }\n",
       "</style>\n",
       "<table border=\"1\" class=\"dataframe\">\n",
       "  <thead>\n",
       "    <tr style=\"text-align: right;\">\n",
       "      <th></th>\n",
       "      <th>CustomerID</th>\n",
       "      <th>recency</th>\n",
       "      <th>frequency</th>\n",
       "      <th>monetary</th>\n",
       "      <th>recency_score</th>\n",
       "    </tr>\n",
       "  </thead>\n",
       "  <tbody>\n",
       "    <tr>\n",
       "      <th>0</th>\n",
       "      <td>12346</td>\n",
       "      <td>326</td>\n",
       "      <td>1</td>\n",
       "      <td>310.44</td>\n",
       "      <td>1</td>\n",
       "    </tr>\n",
       "    <tr>\n",
       "      <th>1</th>\n",
       "      <td>12347</td>\n",
       "      <td>3</td>\n",
       "      <td>7</td>\n",
       "      <td>4310.00</td>\n",
       "      <td>5</td>\n",
       "    </tr>\n",
       "    <tr>\n",
       "      <th>2</th>\n",
       "      <td>12348</td>\n",
       "      <td>76</td>\n",
       "      <td>4</td>\n",
       "      <td>1770.78</td>\n",
       "      <td>2</td>\n",
       "    </tr>\n",
       "    <tr>\n",
       "      <th>3</th>\n",
       "      <td>12349</td>\n",
       "      <td>19</td>\n",
       "      <td>1</td>\n",
       "      <td>1491.72</td>\n",
       "      <td>4</td>\n",
       "    </tr>\n",
       "    <tr>\n",
       "      <th>4</th>\n",
       "      <td>12350</td>\n",
       "      <td>311</td>\n",
       "      <td>1</td>\n",
       "      <td>331.46</td>\n",
       "      <td>1</td>\n",
       "    </tr>\n",
       "    <tr>\n",
       "      <th>...</th>\n",
       "      <td>...</td>\n",
       "      <td>...</td>\n",
       "      <td>...</td>\n",
       "      <td>...</td>\n",
       "      <td>...</td>\n",
       "    </tr>\n",
       "    <tr>\n",
       "      <th>4333</th>\n",
       "      <td>18280</td>\n",
       "      <td>278</td>\n",
       "      <td>1</td>\n",
       "      <td>180.60</td>\n",
       "      <td>1</td>\n",
       "    </tr>\n",
       "    <tr>\n",
       "      <th>4334</th>\n",
       "      <td>18281</td>\n",
       "      <td>181</td>\n",
       "      <td>1</td>\n",
       "      <td>80.82</td>\n",
       "      <td>1</td>\n",
       "    </tr>\n",
       "    <tr>\n",
       "      <th>4335</th>\n",
       "      <td>18282</td>\n",
       "      <td>8</td>\n",
       "      <td>2</td>\n",
       "      <td>178.05</td>\n",
       "      <td>5</td>\n",
       "    </tr>\n",
       "    <tr>\n",
       "      <th>4336</th>\n",
       "      <td>18283</td>\n",
       "      <td>4</td>\n",
       "      <td>16</td>\n",
       "      <td>2094.88</td>\n",
       "      <td>5</td>\n",
       "    </tr>\n",
       "    <tr>\n",
       "      <th>4337</th>\n",
       "      <td>18287</td>\n",
       "      <td>43</td>\n",
       "      <td>3</td>\n",
       "      <td>1837.28</td>\n",
       "      <td>3</td>\n",
       "    </tr>\n",
       "  </tbody>\n",
       "</table>\n",
       "<p>4338 rows × 5 columns</p>\n",
       "</div>"
      ],
      "text/plain": [
       "     CustomerID  recency  frequency  monetary recency_score\n",
       "0         12346      326          1    310.44             1\n",
       "1         12347        3          7   4310.00             5\n",
       "2         12348       76          4   1770.78             2\n",
       "3         12349       19          1   1491.72             4\n",
       "4         12350      311          1    331.46             1\n",
       "...         ...      ...        ...       ...           ...\n",
       "4333      18280      278          1    180.60             1\n",
       "4334      18281      181          1     80.82             1\n",
       "4335      18282        8          2    178.05             5\n",
       "4336      18283        4         16   2094.88             5\n",
       "4337      18287       43          3   1837.28             3\n",
       "\n",
       "[4338 rows x 5 columns]"
      ]
     },
     "execution_count": 15,
     "metadata": {},
     "output_type": "execute_result"
    }
   ],
   "source": [
    "rfm2 = rfm.copy()\n",
    "rfm2['recency_score'] = pd.qcut(rfm2['recency'],5,labels = [5, 4, 3, 2, 1])\n",
    "rfm2"
   ]
  },
  {
   "cell_type": "code",
   "execution_count": 16,
   "id": "27dd821c",
   "metadata": {
    "execution": {
     "iopub.execute_input": "2022-11-01T19:16:41.018540Z",
     "iopub.status.busy": "2022-11-01T19:16:41.017662Z",
     "iopub.status.idle": "2022-11-01T19:16:41.038505Z",
     "shell.execute_reply": "2022-11-01T19:16:41.037620Z"
    },
    "papermill": {
     "duration": 0.035651,
     "end_time": "2022-11-01T19:16:41.041025",
     "exception": false,
     "start_time": "2022-11-01T19:16:41.005374",
     "status": "completed"
    },
    "tags": []
   },
   "outputs": [],
   "source": [
    "#For now, we are only combining R and F. Monetary will not be included in overall RFM score.\n",
    "def get_rfm_scores(dataframe):\n",
    "    \n",
    "    df_ = dataframe.copy()\n",
    "    df_['recency_score'] = pd.qcut(df_['recency'],5,labels = [5, 4, 3, 2, 1])\n",
    "    df_['frequency_score'] = pd.qcut(df_['frequency'].rank(method = \"first\"), 5, labels = [1, 2, 3, 4, 5])\n",
    "    df_['monetary_score'] = pd.qcut(df_['monetary'], 5, labels = [1, 2, 3, 4, 5])\n",
    "    df_['RFM_SCORE'] = (df_['recency_score'].astype(str) + df_['frequency_score'].astype(str))\n",
    "    \n",
    "    return df_\n",
    "\n",
    "rfm = get_rfm_scores(rfm)"
   ]
  },
  {
   "cell_type": "markdown",
   "id": "2b32eeda",
   "metadata": {
    "papermill": {
     "duration": 0.010783,
     "end_time": "2022-11-01T19:16:41.062980",
     "exception": false,
     "start_time": "2022-11-01T19:16:41.052197",
     "status": "completed"
    },
    "tags": []
   },
   "source": [
    "# Segmentation"
   ]
  },
  {
   "cell_type": "code",
   "execution_count": 17,
   "id": "46bdade6",
   "metadata": {
    "execution": {
     "iopub.execute_input": "2022-11-01T19:16:41.087146Z",
     "iopub.status.busy": "2022-11-01T19:16:41.086410Z",
     "iopub.status.idle": "2022-11-01T19:16:41.179200Z",
     "shell.execute_reply": "2022-11-01T19:16:41.177973Z"
    },
    "papermill": {
     "duration": 0.107563,
     "end_time": "2022-11-01T19:16:41.181680",
     "exception": false,
     "start_time": "2022-11-01T19:16:41.074117",
     "status": "completed"
    },
    "tags": []
   },
   "outputs": [
    {
     "data": {
      "text/html": [
       "<div>\n",
       "<style scoped>\n",
       "    .dataframe tbody tr th:only-of-type {\n",
       "        vertical-align: middle;\n",
       "    }\n",
       "\n",
       "    .dataframe tbody tr th {\n",
       "        vertical-align: top;\n",
       "    }\n",
       "\n",
       "    .dataframe thead th {\n",
       "        text-align: right;\n",
       "    }\n",
       "</style>\n",
       "<table border=\"1\" class=\"dataframe\">\n",
       "  <thead>\n",
       "    <tr style=\"text-align: right;\">\n",
       "      <th></th>\n",
       "      <th>CustomerID</th>\n",
       "      <th>recency</th>\n",
       "      <th>frequency</th>\n",
       "      <th>monetary</th>\n",
       "      <th>recency_score</th>\n",
       "      <th>frequency_score</th>\n",
       "      <th>monetary_score</th>\n",
       "      <th>RFM_SCORE</th>\n",
       "      <th>segment</th>\n",
       "    </tr>\n",
       "  </thead>\n",
       "  <tbody>\n",
       "    <tr>\n",
       "      <th>0</th>\n",
       "      <td>12346</td>\n",
       "      <td>326</td>\n",
       "      <td>1</td>\n",
       "      <td>310.44</td>\n",
       "      <td>1</td>\n",
       "      <td>1</td>\n",
       "      <td>2</td>\n",
       "      <td>11</td>\n",
       "      <td>hibernating</td>\n",
       "    </tr>\n",
       "    <tr>\n",
       "      <th>1</th>\n",
       "      <td>12347</td>\n",
       "      <td>3</td>\n",
       "      <td>7</td>\n",
       "      <td>4310.00</td>\n",
       "      <td>5</td>\n",
       "      <td>5</td>\n",
       "      <td>5</td>\n",
       "      <td>55</td>\n",
       "      <td>champions</td>\n",
       "    </tr>\n",
       "    <tr>\n",
       "      <th>2</th>\n",
       "      <td>12348</td>\n",
       "      <td>76</td>\n",
       "      <td>4</td>\n",
       "      <td>1770.78</td>\n",
       "      <td>2</td>\n",
       "      <td>4</td>\n",
       "      <td>4</td>\n",
       "      <td>24</td>\n",
       "      <td>at_Risk</td>\n",
       "    </tr>\n",
       "    <tr>\n",
       "      <th>3</th>\n",
       "      <td>12349</td>\n",
       "      <td>19</td>\n",
       "      <td>1</td>\n",
       "      <td>1491.72</td>\n",
       "      <td>4</td>\n",
       "      <td>1</td>\n",
       "      <td>4</td>\n",
       "      <td>41</td>\n",
       "      <td>promising</td>\n",
       "    </tr>\n",
       "    <tr>\n",
       "      <th>4</th>\n",
       "      <td>12350</td>\n",
       "      <td>311</td>\n",
       "      <td>1</td>\n",
       "      <td>331.46</td>\n",
       "      <td>1</td>\n",
       "      <td>1</td>\n",
       "      <td>2</td>\n",
       "      <td>11</td>\n",
       "      <td>hibernating</td>\n",
       "    </tr>\n",
       "  </tbody>\n",
       "</table>\n",
       "</div>"
      ],
      "text/plain": [
       "  CustomerID  recency  frequency  monetary recency_score frequency_score  \\\n",
       "0      12346      326          1    310.44             1               1   \n",
       "1      12347        3          7   4310.00             5               5   \n",
       "2      12348       76          4   1770.78             2               4   \n",
       "3      12349       19          1   1491.72             4               1   \n",
       "4      12350      311          1    331.46             1               1   \n",
       "\n",
       "  monetary_score RFM_SCORE      segment  \n",
       "0              2        11  hibernating  \n",
       "1              5        55    champions  \n",
       "2              4        24      at_Risk  \n",
       "3              4        41    promising  \n",
       "4              2        11  hibernating  "
      ]
     },
     "execution_count": 17,
     "metadata": {},
     "output_type": "execute_result"
    }
   ],
   "source": [
    "seg_map = {r'[1-2][1-2]': 'hibernating',\n",
    "           r'[1-2][3-4]': 'at_Risk',\n",
    "           r'[1-2]5': 'cant_loose',\n",
    "           r'3[1-2]': 'about_to_sleep',\n",
    "           r'33': 'need_attention',\n",
    "           r'[3-4][4-5]': 'loyal_customers',\n",
    "           r'41': 'promising',\n",
    "           r'51': 'new_customers',\n",
    "           r'[4-5][2-3]': 'potential_loyalists',\n",
    "           r'5[4-5]': 'champions'}\n",
    "\n",
    "rfm['segment'] = rfm['RFM_SCORE'].replace(seg_map, regex = True)\n",
    "\n",
    "rfm.head()"
   ]
  },
  {
   "cell_type": "markdown",
   "id": "2514a69e",
   "metadata": {
    "papermill": {
     "duration": 0.011074,
     "end_time": "2022-11-01T19:16:41.204320",
     "exception": false,
     "start_time": "2022-11-01T19:16:41.193246",
     "status": "completed"
    },
    "tags": []
   },
   "source": [
    "# Segmentation Map"
   ]
  },
  {
   "cell_type": "code",
   "execution_count": 18,
   "id": "6d98ab95",
   "metadata": {
    "execution": {
     "iopub.execute_input": "2022-11-01T19:16:41.228744Z",
     "iopub.status.busy": "2022-11-01T19:16:41.228333Z",
     "iopub.status.idle": "2022-11-01T19:16:41.237586Z",
     "shell.execute_reply": "2022-11-01T19:16:41.236519Z"
    },
    "papermill": {
     "duration": 0.024183,
     "end_time": "2022-11-01T19:16:41.239935",
     "exception": false,
     "start_time": "2022-11-01T19:16:41.215752",
     "status": "completed"
    },
    "tags": []
   },
   "outputs": [
    {
     "data": {
      "text/plain": [
       "hibernating            0.246888\n",
       "loyal_customers        0.188797\n",
       "champions              0.145920\n",
       "at_Risk                0.136699\n",
       "potential_loyalists    0.111572\n",
       "about_to_sleep         0.081143\n",
       "need_attention         0.043107\n",
       "promising              0.021669\n",
       "cant_loose             0.014523\n",
       "new_customers          0.009682\n",
       "Name: segment, dtype: float64"
      ]
     },
     "execution_count": 18,
     "metadata": {},
     "output_type": "execute_result"
    }
   ],
   "source": [
    "rfm.segment.value_counts(normalize=True)"
   ]
  },
  {
   "cell_type": "markdown",
   "id": "0463d6e2",
   "metadata": {
    "papermill": {
     "duration": 0.011045,
     "end_time": "2022-11-01T19:16:41.262714",
     "exception": false,
     "start_time": "2022-11-01T19:16:41.251669",
     "status": "completed"
    },
    "tags": []
   },
   "source": [
    "We can easily see from this percentage break down that top 3 of the user base is hibernating, loyal customers or champtions. This is optimistic since it shows that even though many customers are dormant there are a bunch that are activity engaging."
   ]
  },
  {
   "cell_type": "code",
   "execution_count": null,
   "id": "a7f4ae64",
   "metadata": {
    "papermill": {
     "duration": 0.011038,
     "end_time": "2022-11-01T19:16:41.285233",
     "exception": false,
     "start_time": "2022-11-01T19:16:41.274195",
     "status": "completed"
    },
    "tags": []
   },
   "outputs": [],
   "source": []
  },
  {
   "cell_type": "code",
   "execution_count": null,
   "id": "b4fa6c97",
   "metadata": {
    "papermill": {
     "duration": 0.011728,
     "end_time": "2022-11-01T19:16:41.308404",
     "exception": false,
     "start_time": "2022-11-01T19:16:41.296676",
     "status": "completed"
    },
    "tags": []
   },
   "outputs": [],
   "source": []
  },
  {
   "cell_type": "code",
   "execution_count": null,
   "id": "83766ccb",
   "metadata": {
    "papermill": {
     "duration": 0.01133,
     "end_time": "2022-11-01T19:16:41.331554",
     "exception": false,
     "start_time": "2022-11-01T19:16:41.320224",
     "status": "completed"
    },
    "tags": []
   },
   "outputs": [],
   "source": []
  },
  {
   "cell_type": "code",
   "execution_count": null,
   "id": "bca84978",
   "metadata": {
    "papermill": {
     "duration": 0.011193,
     "end_time": "2022-11-01T19:16:41.354342",
     "exception": false,
     "start_time": "2022-11-01T19:16:41.343149",
     "status": "completed"
    },
    "tags": []
   },
   "outputs": [],
   "source": []
  }
 ],
 "metadata": {
  "kernelspec": {
   "display_name": "Python 3",
   "language": "python",
   "name": "python3"
  },
  "language_info": {
   "codemirror_mode": {
    "name": "ipython",
    "version": 3
   },
   "file_extension": ".py",
   "mimetype": "text/x-python",
   "name": "python",
   "nbconvert_exporter": "python",
   "pygments_lexer": "ipython3",
   "version": "3.7.12"
  },
  "papermill": {
   "default_parameters": {},
   "duration": 31.881255,
   "end_time": "2022-11-01T19:16:42.188354",
   "environment_variables": {},
   "exception": null,
   "input_path": "__notebook__.ipynb",
   "output_path": "__notebook__.ipynb",
   "parameters": {},
   "start_time": "2022-11-01T19:16:10.307099",
   "version": "2.3.4"
  }
 },
 "nbformat": 4,
 "nbformat_minor": 5
}
