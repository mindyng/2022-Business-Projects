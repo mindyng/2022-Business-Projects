{
 "cells": [
  {
   "cell_type": "code",
   "execution_count": 1,
   "id": "854ce378",
   "metadata": {
    "execution": {
     "iopub.execute_input": "2022-11-08T01:37:44.212580Z",
     "iopub.status.busy": "2022-11-08T01:37:44.211798Z",
     "iopub.status.idle": "2022-11-08T01:37:57.381127Z",
     "shell.execute_reply": "2022-11-08T01:37:57.379479Z"
    },
    "papermill": {
     "duration": 13.186317,
     "end_time": "2022-11-08T01:37:57.384197",
     "exception": false,
     "start_time": "2022-11-08T01:37:44.197880",
     "status": "completed"
    },
    "tags": []
   },
   "outputs": [
    {
     "name": "stdout",
     "output_type": "stream",
     "text": [
      "Collecting Lifetimes\r\n",
      "  Downloading Lifetimes-0.11.3-py3-none-any.whl (584 kB)\r\n",
      "\u001b[2K     \u001b[90m━━━━━━━━━━━━━━━━━━━━━━━━━━━━━━━━━━━━━━━\u001b[0m \u001b[32m584.2/584.2 kB\u001b[0m \u001b[31m9.2 MB/s\u001b[0m eta \u001b[36m0:00:00\u001b[0m\r\n",
      "\u001b[?25hRequirement already satisfied: pandas>=0.24.0 in /opt/conda/lib/python3.7/site-packages (from Lifetimes) (1.3.5)\r\n",
      "Requirement already satisfied: dill>=0.2.6 in /opt/conda/lib/python3.7/site-packages (from Lifetimes) (0.3.5.1)\r\n",
      "Collecting autograd>=1.2.0\r\n",
      "  Downloading autograd-1.5-py3-none-any.whl (48 kB)\r\n",
      "\u001b[2K     \u001b[90m━━━━━━━━━━━━━━━━━━━━━━━━━━━━━━━━━━━━━━━━\u001b[0m \u001b[32m48.9/48.9 kB\u001b[0m \u001b[31m4.0 MB/s\u001b[0m eta \u001b[36m0:00:00\u001b[0m\r\n",
      "\u001b[?25hRequirement already satisfied: numpy>=1.10.0 in /opt/conda/lib/python3.7/site-packages (from Lifetimes) (1.21.6)\r\n",
      "Requirement already satisfied: scipy>=1.0.0 in /opt/conda/lib/python3.7/site-packages (from Lifetimes) (1.7.3)\r\n",
      "Requirement already satisfied: future>=0.15.2 in /opt/conda/lib/python3.7/site-packages (from autograd>=1.2.0->Lifetimes) (0.18.2)\r\n",
      "Requirement already satisfied: python-dateutil>=2.7.3 in /opt/conda/lib/python3.7/site-packages (from pandas>=0.24.0->Lifetimes) (2.8.2)\r\n",
      "Requirement already satisfied: pytz>=2017.3 in /opt/conda/lib/python3.7/site-packages (from pandas>=0.24.0->Lifetimes) (2022.1)\r\n",
      "Requirement already satisfied: six>=1.5 in /opt/conda/lib/python3.7/site-packages (from python-dateutil>=2.7.3->pandas>=0.24.0->Lifetimes) (1.15.0)\r\n",
      "Installing collected packages: autograd, Lifetimes\r\n",
      "Successfully installed Lifetimes-0.11.3 autograd-1.5\r\n",
      "\u001b[33mWARNING: Running pip as the 'root' user can result in broken permissions and conflicting behaviour with the system package manager. It is recommended to use a virtual environment instead: https://pip.pypa.io/warnings/venv\u001b[0m\u001b[33m\r\n",
      "\u001b[0m"
     ]
    }
   ],
   "source": [
    "!pip install Lifetimes"
   ]
  },
  {
   "cell_type": "code",
   "execution_count": 2,
   "id": "4dbc8746",
   "metadata": {
    "_cell_guid": "b1076dfc-b9ad-4769-8c92-a6c4dae69d19",
    "_uuid": "8f2839f25d086af736a60e9eeb907d3b93b6e0e5",
    "execution": {
     "iopub.execute_input": "2022-11-08T01:37:57.409025Z",
     "iopub.status.busy": "2022-11-08T01:37:57.408631Z",
     "iopub.status.idle": "2022-11-08T01:37:58.678570Z",
     "shell.execute_reply": "2022-11-08T01:37:58.677318Z"
    },
    "papermill": {
     "duration": 1.285812,
     "end_time": "2022-11-08T01:37:58.681453",
     "exception": false,
     "start_time": "2022-11-08T01:37:57.395641",
     "status": "completed"
    },
    "tags": []
   },
   "outputs": [],
   "source": [
    "# import os\n",
    "# for dirname, _, filenames in os.walk('/kaggle/input'):\n",
    "#     for filename in filenames:\n",
    "#         print(os.path.join(dirname, filename))\n",
    "\n",
    "import os\n",
    "import datetime\n",
    "import squarify\n",
    "import warnings\n",
    "import pandas as pd \n",
    "import numpy as np\n",
    "import datetime as dt\n",
    "from operator import attrgetter\n",
    "import seaborn as sns\n",
    "import matplotlib.pyplot as plt\n",
    "import matplotlib.colors as mcolors\n",
    "import plotly.graph_objs as go\n",
    "from plotly.offline import iplot\n",
    "from sklearn.metrics import (silhouette_score,\n",
    "                             calinski_harabasz_score,\n",
    "                             davies_bouldin_score)\n",
    "from lifetimes import BetaGeoFitter, GammaGammaFitter\n",
    "from lifetimes.plotting import plot_period_transactions\n",
    "warnings.filterwarnings('ignore')\n",
    "sns.set_style('whitegrid')\n",
    "%matplotlib inline\n",
    "palette = 'Set2'"
   ]
  },
  {
   "cell_type": "markdown",
   "id": "1fe2d52f",
   "metadata": {
    "execution": {
     "iopub.execute_input": "2022-10-31T18:36:24.435402Z",
     "iopub.status.busy": "2022-10-31T18:36:24.434993Z",
     "iopub.status.idle": "2022-10-31T18:36:24.442305Z",
     "shell.execute_reply": "2022-10-31T18:36:24.440803Z",
     "shell.execute_reply.started": "2022-10-31T18:36:24.435367Z"
    },
    "papermill": {
     "duration": 0.01088,
     "end_time": "2022-11-08T01:37:58.705829",
     "exception": false,
     "start_time": "2022-11-08T01:37:58.694949",
     "status": "completed"
    },
    "tags": []
   },
   "source": [
    "# Analysis Approach:\n",
    "1. RFM \n",
    "2. Cohort Analysis\n",
    "3. Customer LTV"
   ]
  },
  {
   "cell_type": "markdown",
   "id": "16f69e30",
   "metadata": {
    "execution": {
     "iopub.execute_input": "2022-10-31T18:33:12.539588Z",
     "iopub.status.busy": "2022-10-31T18:33:12.539128Z",
     "iopub.status.idle": "2022-10-31T18:33:12.544718Z",
     "shell.execute_reply": "2022-10-31T18:33:12.543097Z",
     "shell.execute_reply.started": "2022-10-31T18:33:12.539548Z"
    },
    "papermill": {
     "duration": 0.010932,
     "end_time": "2022-11-08T01:37:58.728020",
     "exception": false,
     "start_time": "2022-11-08T01:37:58.717088",
     "status": "completed"
    },
    "tags": []
   },
   "source": [
    "# EDA"
   ]
  },
  {
   "cell_type": "markdown",
   "id": "12bc549a",
   "metadata": {
    "papermill": {
     "duration": 0.011113,
     "end_time": "2022-11-08T01:37:58.750273",
     "exception": false,
     "start_time": "2022-11-08T01:37:58.739160",
     "status": "completed"
    },
    "tags": []
   },
   "source": [
    "# Data Definitions\n",
    "\n",
    "* InvoiceNo: Invoice number that consists 6 digits. If this code starts with letter 'c', it indicates a cancellation.\n",
    "* StockCode: Product code that consists 5 digits.\n",
    "* Description: Product name.\n",
    "* Quantity: The quantities of each product per transaction.\n",
    "* InvoiceDate: Represents the day and time when each transaction was generated.\n",
    "* UnitPrice: Product price per unit.\n",
    "* CustomerID: Customer number that consists 5 digits. Each customer has a unique customer ID.\n",
    "* Country: Name of the country where each customer resides."
   ]
  },
  {
   "cell_type": "code",
   "execution_count": 3,
   "id": "962b78f3",
   "metadata": {
    "execution": {
     "iopub.execute_input": "2022-11-08T01:37:58.775328Z",
     "iopub.status.busy": "2022-11-08T01:37:58.774110Z",
     "iopub.status.idle": "2022-11-08T01:38:00.425905Z",
     "shell.execute_reply": "2022-11-08T01:38:00.424714Z"
    },
    "papermill": {
     "duration": 1.666852,
     "end_time": "2022-11-08T01:38:00.428527",
     "exception": false,
     "start_time": "2022-11-08T01:37:58.761675",
     "status": "completed"
    },
    "tags": []
   },
   "outputs": [
    {
     "data": {
      "text/html": [
       "<div>\n",
       "<style scoped>\n",
       "    .dataframe tbody tr th:only-of-type {\n",
       "        vertical-align: middle;\n",
       "    }\n",
       "\n",
       "    .dataframe tbody tr th {\n",
       "        vertical-align: top;\n",
       "    }\n",
       "\n",
       "    .dataframe thead th {\n",
       "        text-align: right;\n",
       "    }\n",
       "</style>\n",
       "<table border=\"1\" class=\"dataframe\">\n",
       "  <thead>\n",
       "    <tr style=\"text-align: right;\">\n",
       "      <th></th>\n",
       "      <th>InvoiceNo</th>\n",
       "      <th>StockCode</th>\n",
       "      <th>Description</th>\n",
       "      <th>Quantity</th>\n",
       "      <th>InvoiceDate</th>\n",
       "      <th>UnitPrice</th>\n",
       "      <th>CustomerID</th>\n",
       "      <th>Country</th>\n",
       "    </tr>\n",
       "  </thead>\n",
       "  <tbody>\n",
       "    <tr>\n",
       "      <th>0</th>\n",
       "      <td>536365</td>\n",
       "      <td>85123A</td>\n",
       "      <td>WHITE HANGING HEART T-LIGHT HOLDER</td>\n",
       "      <td>6</td>\n",
       "      <td>2010-12-01 08:26:00</td>\n",
       "      <td>2.55</td>\n",
       "      <td>17850</td>\n",
       "      <td>United Kingdom</td>\n",
       "    </tr>\n",
       "    <tr>\n",
       "      <th>1</th>\n",
       "      <td>536365</td>\n",
       "      <td>71053</td>\n",
       "      <td>WHITE METAL LANTERN</td>\n",
       "      <td>6</td>\n",
       "      <td>2010-12-01 08:26:00</td>\n",
       "      <td>3.39</td>\n",
       "      <td>17850</td>\n",
       "      <td>United Kingdom</td>\n",
       "    </tr>\n",
       "    <tr>\n",
       "      <th>2</th>\n",
       "      <td>536365</td>\n",
       "      <td>84406B</td>\n",
       "      <td>CREAM CUPID HEARTS COAT HANGER</td>\n",
       "      <td>8</td>\n",
       "      <td>2010-12-01 08:26:00</td>\n",
       "      <td>2.75</td>\n",
       "      <td>17850</td>\n",
       "      <td>United Kingdom</td>\n",
       "    </tr>\n",
       "    <tr>\n",
       "      <th>3</th>\n",
       "      <td>536365</td>\n",
       "      <td>84029G</td>\n",
       "      <td>KNITTED UNION FLAG HOT WATER BOTTLE</td>\n",
       "      <td>6</td>\n",
       "      <td>2010-12-01 08:26:00</td>\n",
       "      <td>3.39</td>\n",
       "      <td>17850</td>\n",
       "      <td>United Kingdom</td>\n",
       "    </tr>\n",
       "    <tr>\n",
       "      <th>4</th>\n",
       "      <td>536365</td>\n",
       "      <td>84029E</td>\n",
       "      <td>RED WOOLLY HOTTIE WHITE HEART.</td>\n",
       "      <td>6</td>\n",
       "      <td>2010-12-01 08:26:00</td>\n",
       "      <td>3.39</td>\n",
       "      <td>17850</td>\n",
       "      <td>United Kingdom</td>\n",
       "    </tr>\n",
       "  </tbody>\n",
       "</table>\n",
       "</div>"
      ],
      "text/plain": [
       "  InvoiceNo StockCode                          Description  Quantity  \\\n",
       "0    536365    85123A   WHITE HANGING HEART T-LIGHT HOLDER         6   \n",
       "1    536365     71053                  WHITE METAL LANTERN         6   \n",
       "2    536365    84406B       CREAM CUPID HEARTS COAT HANGER         8   \n",
       "3    536365    84029G  KNITTED UNION FLAG HOT WATER BOTTLE         6   \n",
       "4    536365    84029E       RED WOOLLY HOTTIE WHITE HEART.         6   \n",
       "\n",
       "          InvoiceDate  UnitPrice CustomerID         Country  \n",
       "0 2010-12-01 08:26:00       2.55      17850  United Kingdom  \n",
       "1 2010-12-01 08:26:00       3.39      17850  United Kingdom  \n",
       "2 2010-12-01 08:26:00       2.75      17850  United Kingdom  \n",
       "3 2010-12-01 08:26:00       3.39      17850  United Kingdom  \n",
       "4 2010-12-01 08:26:00       3.39      17850  United Kingdom  "
      ]
     },
     "execution_count": 3,
     "metadata": {},
     "output_type": "execute_result"
    }
   ],
   "source": [
    "ecommerce_path = '/kaggle/input/ecommerce-data/'\n",
    "\n",
    "df = pd.read_csv(os.path.join(ecommerce_path, 'data.csv'),\n",
    "                 header = 0,\n",
    "                 encoding = 'unicode_escape',\n",
    "                 dtype = {'CustomerID': str,\n",
    "                          'InvoiceID': str},\n",
    "                 parse_dates = ['InvoiceDate'], \n",
    "                 infer_datetime_format = True)\n",
    "df.head()"
   ]
  },
  {
   "cell_type": "markdown",
   "id": "fc1ce706",
   "metadata": {
    "papermill": {
     "duration": 0.011107,
     "end_time": "2022-11-08T01:38:00.451093",
     "exception": false,
     "start_time": "2022-11-08T01:38:00.439986",
     "status": "completed"
    },
    "tags": []
   },
   "source": [
    "Customer can order multiple items with the same Invoice Date/Invoice No."
   ]
  },
  {
   "cell_type": "code",
   "execution_count": 4,
   "id": "488a31ee",
   "metadata": {
    "execution": {
     "iopub.execute_input": "2022-11-08T01:38:00.475865Z",
     "iopub.status.busy": "2022-11-08T01:38:00.475459Z",
     "iopub.status.idle": "2022-11-08T01:38:00.599424Z",
     "shell.execute_reply": "2022-11-08T01:38:00.598276Z"
    },
    "papermill": {
     "duration": 0.139434,
     "end_time": "2022-11-08T01:38:00.601920",
     "exception": false,
     "start_time": "2022-11-08T01:38:00.462486",
     "status": "completed"
    },
    "tags": []
   },
   "outputs": [
    {
     "data": {
      "text/plain": [
       "InvoiceNo           0\n",
       "StockCode           0\n",
       "Description      1454\n",
       "Quantity            0\n",
       "InvoiceDate         0\n",
       "UnitPrice           0\n",
       "CustomerID     135080\n",
       "Country             0\n",
       "dtype: int64"
      ]
     },
     "execution_count": 4,
     "metadata": {},
     "output_type": "execute_result"
    }
   ],
   "source": [
    "#Data Integrity Check\n",
    "df.isnull().sum()"
   ]
  },
  {
   "cell_type": "code",
   "execution_count": 5,
   "id": "5ce6f425",
   "metadata": {
    "execution": {
     "iopub.execute_input": "2022-11-08T01:38:00.627302Z",
     "iopub.status.busy": "2022-11-08T01:38:00.626834Z",
     "iopub.status.idle": "2022-11-08T01:38:01.043390Z",
     "shell.execute_reply": "2022-11-08T01:38:01.042324Z"
    },
    "papermill": {
     "duration": 0.432296,
     "end_time": "2022-11-08T01:38:01.045976",
     "exception": false,
     "start_time": "2022-11-08T01:38:00.613680",
     "status": "completed"
    },
    "tags": []
   },
   "outputs": [
    {
     "data": {
      "text/plain": [
       "5268"
      ]
     },
     "execution_count": 5,
     "metadata": {},
     "output_type": "execute_result"
    }
   ],
   "source": [
    "#Number of duplicated items\n",
    "df.duplicated().sum() "
   ]
  },
  {
   "cell_type": "code",
   "execution_count": 6,
   "id": "9e722803",
   "metadata": {
    "execution": {
     "iopub.execute_input": "2022-11-08T01:38:01.071811Z",
     "iopub.status.busy": "2022-11-08T01:38:01.071393Z",
     "iopub.status.idle": "2022-11-08T01:38:01.101742Z",
     "shell.execute_reply": "2022-11-08T01:38:01.100509Z"
    },
    "papermill": {
     "duration": 0.046368,
     "end_time": "2022-11-08T01:38:01.104201",
     "exception": false,
     "start_time": "2022-11-08T01:38:01.057833",
     "status": "completed"
    },
    "tags": []
   },
   "outputs": [
    {
     "data": {
      "text/plain": [
       "24.926694334288598"
      ]
     },
     "execution_count": 6,
     "metadata": {},
     "output_type": "execute_result"
    }
   ],
   "source": [
    "df['CustomerID'].isnull().sum()/df.shape[0] * 100"
   ]
  },
  {
   "cell_type": "markdown",
   "id": "44f67009",
   "metadata": {
    "execution": {
     "iopub.execute_input": "2022-10-24T23:51:10.702839Z",
     "iopub.status.busy": "2022-10-24T23:51:10.702403Z",
     "iopub.status.idle": "2022-10-24T23:51:10.708486Z",
     "shell.execute_reply": "2022-10-24T23:51:10.707588Z",
     "shell.execute_reply.started": "2022-10-24T23:51:10.702801Z"
    },
    "papermill": {
     "duration": 0.011625,
     "end_time": "2022-11-08T01:38:01.127615",
     "exception": false,
     "start_time": "2022-11-08T01:38:01.115990",
     "status": "completed"
    },
    "tags": []
   },
   "source": [
    "A quarter of CustomerID has nulls. Yikes."
   ]
  },
  {
   "cell_type": "code",
   "execution_count": 7,
   "id": "f86e035e",
   "metadata": {
    "execution": {
     "iopub.execute_input": "2022-11-08T01:38:01.152789Z",
     "iopub.status.busy": "2022-11-08T01:38:01.152377Z",
     "iopub.status.idle": "2022-11-08T01:38:01.160897Z",
     "shell.execute_reply": "2022-11-08T01:38:01.159785Z"
    },
    "papermill": {
     "duration": 0.023912,
     "end_time": "2022-11-08T01:38:01.163240",
     "exception": false,
     "start_time": "2022-11-08T01:38:01.139328",
     "status": "completed"
    },
    "tags": []
   },
   "outputs": [
    {
     "data": {
      "text/plain": [
       "InvoiceNo              object\n",
       "StockCode              object\n",
       "Description            object\n",
       "Quantity                int64\n",
       "InvoiceDate    datetime64[ns]\n",
       "UnitPrice             float64\n",
       "CustomerID             object\n",
       "Country                object\n",
       "dtype: object"
      ]
     },
     "execution_count": 7,
     "metadata": {},
     "output_type": "execute_result"
    }
   ],
   "source": [
    "df.dtypes"
   ]
  },
  {
   "cell_type": "markdown",
   "id": "77dd0c48",
   "metadata": {
    "papermill": {
     "duration": 0.011575,
     "end_time": "2022-11-08T01:38:01.186891",
     "exception": false,
     "start_time": "2022-11-08T01:38:01.175316",
     "status": "completed"
    },
    "tags": []
   },
   "source": [
    "Where do most of our customer reside? "
   ]
  },
  {
   "cell_type": "code",
   "execution_count": 8,
   "id": "b2b9a042",
   "metadata": {
    "execution": {
     "iopub.execute_input": "2022-11-08T01:38:01.212391Z",
     "iopub.status.busy": "2022-11-08T01:38:01.211955Z",
     "iopub.status.idle": "2022-11-08T01:38:02.321599Z",
     "shell.execute_reply": "2022-11-08T01:38:02.320079Z"
    },
    "papermill": {
     "duration": 1.125546,
     "end_time": "2022-11-08T01:38:02.324367",
     "exception": false,
     "start_time": "2022-11-08T01:38:01.198821",
     "status": "completed"
    },
    "tags": []
   },
   "outputs": [
    {
     "data": {
      "text/html": [
       "        <script type=\"text/javascript\">\n",
       "        window.PlotlyConfig = {MathJaxConfig: 'local'};\n",
       "        if (window.MathJax && window.MathJax.Hub && window.MathJax.Hub.Config) {window.MathJax.Hub.Config({SVG: {font: \"STIX-Web\"}});}\n",
       "        if (typeof require !== 'undefined') {\n",
       "        require.undef(\"plotly\");\n",
       "        requirejs.config({\n",
       "            paths: {\n",
       "                'plotly': ['https://cdn.plot.ly/plotly-2.14.0.min']\n",
       "            }\n",
       "        });\n",
       "        require(['plotly'], function(Plotly) {\n",
       "            window._Plotly = Plotly;\n",
       "        });\n",
       "        }\n",
       "        </script>\n",
       "        "
      ]
     },
     "metadata": {},
     "output_type": "display_data"
    },
    {
     "data": {
      "text/html": [
       "<div>                            <div id=\"5ed903c8-0820-4e54-81f7-5f1b7118b8eb\" class=\"plotly-graph-div\" style=\"height:600px; width:1000px;\"></div>            <script type=\"text/javascript\">                require([\"plotly\"], function(Plotly) {                    window.PLOTLYENV=window.PLOTLYENV || {};                                    if (document.getElementById(\"5ed903c8-0820-4e54-81f7-5f1b7118b8eb\")) {                    Plotly.newPlot(                        \"5ed903c8-0820-4e54-81f7-5f1b7118b8eb\",                        [{\"colorbar\":{\"title\":{\"text\":\"Orders\"}},\"colorscale\":[[0.0,\"#440154\"],[0.1111111111111111,\"#482878\"],[0.2222222222222222,\"#3e4989\"],[0.3333333333333333,\"#31688e\"],[0.4444444444444444,\"#26828e\"],[0.5555555555555556,\"#1f9e89\"],[0.6666666666666666,\"#35b779\"],[0.7777777777777778,\"#6ece58\"],[0.8888888888888888,\"#b5de2b\"],[1.0,\"#fde725\"]],\"locationmode\":\"country names\",\"locations\":[\"United Kingdom\",\"Germany\",\"France\",\"EIRE\",\"Belgium\",\"Spain\",\"Netherlands\",\"Switzerland\",\"Portugal\",\"Australia\",\"Italy\",\"Finland\",\"Sweden\",\"Norway\",\"Channel Islands\",\"Japan\",\"Poland\",\"Denmark\",\"Cyprus\",\"Austria\",\"Singapore\",\"Malta\",\"Unspecified\",\"USA\",\"Iceland\",\"Israel\",\"Canada\",\"Greece\",\"Czech Republic\",\"European Community\",\"Lithuania\",\"United Arab Emirates\",\"Saudi Arabia\",\"Bahrain\",\"RSA\",\"Lebanon\",\"Brazil\"],\"reversescale\":false,\"text\":[\"United Kingdom\",\"Germany\",\"France\",\"EIRE\",\"Belgium\",\"Spain\",\"Netherlands\",\"Switzerland\",\"Portugal\",\"Australia\",\"Italy\",\"Finland\",\"Sweden\",\"Norway\",\"Channel Islands\",\"Japan\",\"Poland\",\"Denmark\",\"Cyprus\",\"Austria\",\"Singapore\",\"Malta\",\"Unspecified\",\"USA\",\"Iceland\",\"Israel\",\"Canada\",\"Greece\",\"Czech Republic\",\"European Community\",\"Lithuania\",\"United Arab Emirates\",\"Saudi Arabia\",\"Bahrain\",\"RSA\",\"Lebanon\",\"Brazil\"],\"z\":[19857,603,458,319,119,105,101,71,70,69,55,48,46,40,33,28,24,21,20,19,10,10,8,7,7,6,6,6,5,5,4,3,2,2,1,1,1],\"type\":\"choropleth\"}],                        {\"geo\":{\"landcolor\":\"whitesmoke\",\"oceancolor\":\"LightBlue\",\"resolution\":50,\"showframe\":true,\"showland\":true,\"showocean\":true},\"height\":600,\"template\":{\"data\":{\"barpolar\":[{\"marker\":{\"line\":{\"color\":\"white\",\"width\":0.5},\"pattern\":{\"fillmode\":\"overlay\",\"size\":10,\"solidity\":0.2}},\"type\":\"barpolar\"}],\"bar\":[{\"error_x\":{\"color\":\"#2a3f5f\"},\"error_y\":{\"color\":\"#2a3f5f\"},\"marker\":{\"line\":{\"color\":\"white\",\"width\":0.5},\"pattern\":{\"fillmode\":\"overlay\",\"size\":10,\"solidity\":0.2}},\"type\":\"bar\"}],\"carpet\":[{\"aaxis\":{\"endlinecolor\":\"#2a3f5f\",\"gridcolor\":\"#C8D4E3\",\"linecolor\":\"#C8D4E3\",\"minorgridcolor\":\"#C8D4E3\",\"startlinecolor\":\"#2a3f5f\"},\"baxis\":{\"endlinecolor\":\"#2a3f5f\",\"gridcolor\":\"#C8D4E3\",\"linecolor\":\"#C8D4E3\",\"minorgridcolor\":\"#C8D4E3\",\"startlinecolor\":\"#2a3f5f\"},\"type\":\"carpet\"}],\"choropleth\":[{\"colorbar\":{\"outlinewidth\":0,\"ticks\":\"\"},\"type\":\"choropleth\"}],\"contourcarpet\":[{\"colorbar\":{\"outlinewidth\":0,\"ticks\":\"\"},\"type\":\"contourcarpet\"}],\"contour\":[{\"colorbar\":{\"outlinewidth\":0,\"ticks\":\"\"},\"colorscale\":[[0.0,\"#0d0887\"],[0.1111111111111111,\"#46039f\"],[0.2222222222222222,\"#7201a8\"],[0.3333333333333333,\"#9c179e\"],[0.4444444444444444,\"#bd3786\"],[0.5555555555555556,\"#d8576b\"],[0.6666666666666666,\"#ed7953\"],[0.7777777777777778,\"#fb9f3a\"],[0.8888888888888888,\"#fdca26\"],[1.0,\"#f0f921\"]],\"type\":\"contour\"}],\"heatmapgl\":[{\"colorbar\":{\"outlinewidth\":0,\"ticks\":\"\"},\"colorscale\":[[0.0,\"#0d0887\"],[0.1111111111111111,\"#46039f\"],[0.2222222222222222,\"#7201a8\"],[0.3333333333333333,\"#9c179e\"],[0.4444444444444444,\"#bd3786\"],[0.5555555555555556,\"#d8576b\"],[0.6666666666666666,\"#ed7953\"],[0.7777777777777778,\"#fb9f3a\"],[0.8888888888888888,\"#fdca26\"],[1.0,\"#f0f921\"]],\"type\":\"heatmapgl\"}],\"heatmap\":[{\"colorbar\":{\"outlinewidth\":0,\"ticks\":\"\"},\"colorscale\":[[0.0,\"#0d0887\"],[0.1111111111111111,\"#46039f\"],[0.2222222222222222,\"#7201a8\"],[0.3333333333333333,\"#9c179e\"],[0.4444444444444444,\"#bd3786\"],[0.5555555555555556,\"#d8576b\"],[0.6666666666666666,\"#ed7953\"],[0.7777777777777778,\"#fb9f3a\"],[0.8888888888888888,\"#fdca26\"],[1.0,\"#f0f921\"]],\"type\":\"heatmap\"}],\"histogram2dcontour\":[{\"colorbar\":{\"outlinewidth\":0,\"ticks\":\"\"},\"colorscale\":[[0.0,\"#0d0887\"],[0.1111111111111111,\"#46039f\"],[0.2222222222222222,\"#7201a8\"],[0.3333333333333333,\"#9c179e\"],[0.4444444444444444,\"#bd3786\"],[0.5555555555555556,\"#d8576b\"],[0.6666666666666666,\"#ed7953\"],[0.7777777777777778,\"#fb9f3a\"],[0.8888888888888888,\"#fdca26\"],[1.0,\"#f0f921\"]],\"type\":\"histogram2dcontour\"}],\"histogram2d\":[{\"colorbar\":{\"outlinewidth\":0,\"ticks\":\"\"},\"colorscale\":[[0.0,\"#0d0887\"],[0.1111111111111111,\"#46039f\"],[0.2222222222222222,\"#7201a8\"],[0.3333333333333333,\"#9c179e\"],[0.4444444444444444,\"#bd3786\"],[0.5555555555555556,\"#d8576b\"],[0.6666666666666666,\"#ed7953\"],[0.7777777777777778,\"#fb9f3a\"],[0.8888888888888888,\"#fdca26\"],[1.0,\"#f0f921\"]],\"type\":\"histogram2d\"}],\"histogram\":[{\"marker\":{\"pattern\":{\"fillmode\":\"overlay\",\"size\":10,\"solidity\":0.2}},\"type\":\"histogram\"}],\"mesh3d\":[{\"colorbar\":{\"outlinewidth\":0,\"ticks\":\"\"},\"type\":\"mesh3d\"}],\"parcoords\":[{\"line\":{\"colorbar\":{\"outlinewidth\":0,\"ticks\":\"\"}},\"type\":\"parcoords\"}],\"pie\":[{\"automargin\":true,\"type\":\"pie\"}],\"scatter3d\":[{\"line\":{\"colorbar\":{\"outlinewidth\":0,\"ticks\":\"\"}},\"marker\":{\"colorbar\":{\"outlinewidth\":0,\"ticks\":\"\"}},\"type\":\"scatter3d\"}],\"scattercarpet\":[{\"marker\":{\"colorbar\":{\"outlinewidth\":0,\"ticks\":\"\"}},\"type\":\"scattercarpet\"}],\"scattergeo\":[{\"marker\":{\"colorbar\":{\"outlinewidth\":0,\"ticks\":\"\"}},\"type\":\"scattergeo\"}],\"scattergl\":[{\"marker\":{\"colorbar\":{\"outlinewidth\":0,\"ticks\":\"\"}},\"type\":\"scattergl\"}],\"scattermapbox\":[{\"marker\":{\"colorbar\":{\"outlinewidth\":0,\"ticks\":\"\"}},\"type\":\"scattermapbox\"}],\"scatterpolargl\":[{\"marker\":{\"colorbar\":{\"outlinewidth\":0,\"ticks\":\"\"}},\"type\":\"scatterpolargl\"}],\"scatterpolar\":[{\"marker\":{\"colorbar\":{\"outlinewidth\":0,\"ticks\":\"\"}},\"type\":\"scatterpolar\"}],\"scatter\":[{\"fillpattern\":{\"fillmode\":\"overlay\",\"size\":10,\"solidity\":0.2},\"type\":\"scatter\"}],\"scatterternary\":[{\"marker\":{\"colorbar\":{\"outlinewidth\":0,\"ticks\":\"\"}},\"type\":\"scatterternary\"}],\"surface\":[{\"colorbar\":{\"outlinewidth\":0,\"ticks\":\"\"},\"colorscale\":[[0.0,\"#0d0887\"],[0.1111111111111111,\"#46039f\"],[0.2222222222222222,\"#7201a8\"],[0.3333333333333333,\"#9c179e\"],[0.4444444444444444,\"#bd3786\"],[0.5555555555555556,\"#d8576b\"],[0.6666666666666666,\"#ed7953\"],[0.7777777777777778,\"#fb9f3a\"],[0.8888888888888888,\"#fdca26\"],[1.0,\"#f0f921\"]],\"type\":\"surface\"}],\"table\":[{\"cells\":{\"fill\":{\"color\":\"#EBF0F8\"},\"line\":{\"color\":\"white\"}},\"header\":{\"fill\":{\"color\":\"#C8D4E3\"},\"line\":{\"color\":\"white\"}},\"type\":\"table\"}]},\"layout\":{\"annotationdefaults\":{\"arrowcolor\":\"#2a3f5f\",\"arrowhead\":0,\"arrowwidth\":1},\"autotypenumbers\":\"strict\",\"coloraxis\":{\"colorbar\":{\"outlinewidth\":0,\"ticks\":\"\"}},\"colorscale\":{\"diverging\":[[0,\"#8e0152\"],[0.1,\"#c51b7d\"],[0.2,\"#de77ae\"],[0.3,\"#f1b6da\"],[0.4,\"#fde0ef\"],[0.5,\"#f7f7f7\"],[0.6,\"#e6f5d0\"],[0.7,\"#b8e186\"],[0.8,\"#7fbc41\"],[0.9,\"#4d9221\"],[1,\"#276419\"]],\"sequential\":[[0.0,\"#0d0887\"],[0.1111111111111111,\"#46039f\"],[0.2222222222222222,\"#7201a8\"],[0.3333333333333333,\"#9c179e\"],[0.4444444444444444,\"#bd3786\"],[0.5555555555555556,\"#d8576b\"],[0.6666666666666666,\"#ed7953\"],[0.7777777777777778,\"#fb9f3a\"],[0.8888888888888888,\"#fdca26\"],[1.0,\"#f0f921\"]],\"sequentialminus\":[[0.0,\"#0d0887\"],[0.1111111111111111,\"#46039f\"],[0.2222222222222222,\"#7201a8\"],[0.3333333333333333,\"#9c179e\"],[0.4444444444444444,\"#bd3786\"],[0.5555555555555556,\"#d8576b\"],[0.6666666666666666,\"#ed7953\"],[0.7777777777777778,\"#fb9f3a\"],[0.8888888888888888,\"#fdca26\"],[1.0,\"#f0f921\"]]},\"colorway\":[\"#636efa\",\"#EF553B\",\"#00cc96\",\"#ab63fa\",\"#FFA15A\",\"#19d3f3\",\"#FF6692\",\"#B6E880\",\"#FF97FF\",\"#FECB52\"],\"font\":{\"color\":\"#2a3f5f\"},\"geo\":{\"bgcolor\":\"white\",\"lakecolor\":\"white\",\"landcolor\":\"white\",\"showlakes\":true,\"showland\":true,\"subunitcolor\":\"#C8D4E3\"},\"hoverlabel\":{\"align\":\"left\"},\"hovermode\":\"closest\",\"mapbox\":{\"style\":\"light\"},\"paper_bgcolor\":\"white\",\"plot_bgcolor\":\"white\",\"polar\":{\"angularaxis\":{\"gridcolor\":\"#EBF0F8\",\"linecolor\":\"#EBF0F8\",\"ticks\":\"\"},\"bgcolor\":\"white\",\"radialaxis\":{\"gridcolor\":\"#EBF0F8\",\"linecolor\":\"#EBF0F8\",\"ticks\":\"\"}},\"scene\":{\"xaxis\":{\"backgroundcolor\":\"white\",\"gridcolor\":\"#DFE8F3\",\"gridwidth\":2,\"linecolor\":\"#EBF0F8\",\"showbackground\":true,\"ticks\":\"\",\"zerolinecolor\":\"#EBF0F8\"},\"yaxis\":{\"backgroundcolor\":\"white\",\"gridcolor\":\"#DFE8F3\",\"gridwidth\":2,\"linecolor\":\"#EBF0F8\",\"showbackground\":true,\"ticks\":\"\",\"zerolinecolor\":\"#EBF0F8\"},\"zaxis\":{\"backgroundcolor\":\"white\",\"gridcolor\":\"#DFE8F3\",\"gridwidth\":2,\"linecolor\":\"#EBF0F8\",\"showbackground\":true,\"ticks\":\"\",\"zerolinecolor\":\"#EBF0F8\"}},\"shapedefaults\":{\"line\":{\"color\":\"#2a3f5f\"}},\"ternary\":{\"aaxis\":{\"gridcolor\":\"#DFE8F3\",\"linecolor\":\"#A2B1C6\",\"ticks\":\"\"},\"baxis\":{\"gridcolor\":\"#DFE8F3\",\"linecolor\":\"#A2B1C6\",\"ticks\":\"\"},\"bgcolor\":\"white\",\"caxis\":{\"gridcolor\":\"#DFE8F3\",\"linecolor\":\"#A2B1C6\",\"ticks\":\"\"}},\"title\":{\"x\":0.05},\"xaxis\":{\"automargin\":true,\"gridcolor\":\"#EBF0F8\",\"linecolor\":\"#EBF0F8\",\"ticks\":\"\",\"title\":{\"standoff\":15},\"zerolinecolor\":\"#EBF0F8\",\"zerolinewidth\":2},\"yaxis\":{\"automargin\":true,\"gridcolor\":\"#EBF0F8\",\"linecolor\":\"#EBF0F8\",\"ticks\":\"\",\"title\":{\"standoff\":15},\"zerolinecolor\":\"#EBF0F8\",\"zerolinewidth\":2}}},\"title\":{\"text\":\"Number of Orders by Countries\",\"x\":0.5,\"xanchor\":\"center\",\"y\":0.9,\"yanchor\":\"top\"},\"width\":1000},                        {\"responsive\": true}                    ).then(function(){\n",
       "                            \n",
       "var gd = document.getElementById('5ed903c8-0820-4e54-81f7-5f1b7118b8eb');\n",
       "var x = new MutationObserver(function (mutations, observer) {{\n",
       "        var display = window.getComputedStyle(gd).display;\n",
       "        if (!display || display === 'none') {{\n",
       "            console.log([gd, 'removed!']);\n",
       "            Plotly.purge(gd);\n",
       "            observer.disconnect();\n",
       "        }}\n",
       "}});\n",
       "\n",
       "// Listen for the removal of the full notebook cells\n",
       "var notebookContainer = gd.closest('#notebook-container');\n",
       "if (notebookContainer) {{\n",
       "    x.observe(notebookContainer, {childList: true});\n",
       "}}\n",
       "\n",
       "// Listen for the clearing of the current output cell\n",
       "var outputEl = gd.closest('.output');\n",
       "if (outputEl) {{\n",
       "    x.observe(outputEl, {childList: true});\n",
       "}}\n",
       "\n",
       "                        })                };                });            </script>        </div>"
      ]
     },
     "metadata": {},
     "output_type": "display_data"
    }
   ],
   "source": [
    "world_map = df[['CustomerID', 'InvoiceNo', 'Country']\n",
    "              ].groupby(['CustomerID', 'InvoiceNo', 'Country']\n",
    "                       ).count().reset_index(drop = False)\n",
    "countries = world_map['Country'].value_counts()\n",
    "data = dict(type='choropleth',\n",
    "            locations = countries.index,\n",
    "            locationmode = 'country names',\n",
    "            z = countries,\n",
    "            text = countries.index,\n",
    "            colorbar = {'title':'Orders'},\n",
    "            colorscale='Viridis',\n",
    "            reversescale = False)\n",
    "\n",
    "layout = dict(title={'text': \"Number of Orders by Countries\",\n",
    "                     'y':0.9,\n",
    "                     'x':0.5,\n",
    "                     'xanchor': 'center',\n",
    "                     'yanchor': 'top'},\n",
    "              geo = dict(resolution = 50,\n",
    "                         showocean = True,\n",
    "                         oceancolor = \"LightBlue\",\n",
    "                         showland = True,\n",
    "                         landcolor = \"whitesmoke\",\n",
    "                         showframe = True),\n",
    "             template = 'plotly_white',\n",
    "             height = 600,\n",
    "             width = 1000)\n",
    "\n",
    "choromap = go.Figure(data = [data], layout = layout)\n",
    "iplot(choromap, validate = False)"
   ]
  },
  {
   "cell_type": "markdown",
   "id": "55d76412",
   "metadata": {
    "papermill": {
     "duration": 0.012131,
     "end_time": "2022-11-08T01:38:02.349310",
     "exception": false,
     "start_time": "2022-11-08T01:38:02.337179",
     "status": "completed"
    },
    "tags": []
   },
   "source": [
    "Looks like customers are spread across major countries in most continents: North and South America, Europe, Australia. However, presence in Asia could be more."
   ]
  },
  {
   "cell_type": "code",
   "execution_count": 9,
   "id": "41fa6a85",
   "metadata": {
    "execution": {
     "iopub.execute_input": "2022-11-08T01:38:02.376114Z",
     "iopub.status.busy": "2022-11-08T01:38:02.375353Z",
     "iopub.status.idle": "2022-11-08T01:38:02.449463Z",
     "shell.execute_reply": "2022-11-08T01:38:02.448272Z"
    },
    "papermill": {
     "duration": 0.090241,
     "end_time": "2022-11-08T01:38:02.451966",
     "exception": false,
     "start_time": "2022-11-08T01:38:02.361725",
     "status": "completed"
    },
    "tags": []
   },
   "outputs": [
    {
     "data": {
      "text/html": [
       "<div>\n",
       "<style scoped>\n",
       "    .dataframe tbody tr th:only-of-type {\n",
       "        vertical-align: middle;\n",
       "    }\n",
       "\n",
       "    .dataframe tbody tr th {\n",
       "        vertical-align: top;\n",
       "    }\n",
       "\n",
       "    .dataframe thead th {\n",
       "        text-align: right;\n",
       "    }\n",
       "</style>\n",
       "<table border=\"1\" class=\"dataframe\">\n",
       "  <thead>\n",
       "    <tr style=\"text-align: right;\">\n",
       "      <th></th>\n",
       "      <th>Quantity</th>\n",
       "      <th>UnitPrice</th>\n",
       "    </tr>\n",
       "  </thead>\n",
       "  <tbody>\n",
       "    <tr>\n",
       "      <th>count</th>\n",
       "      <td>541909.000000</td>\n",
       "      <td>541909.000000</td>\n",
       "    </tr>\n",
       "    <tr>\n",
       "      <th>mean</th>\n",
       "      <td>9.552250</td>\n",
       "      <td>4.611114</td>\n",
       "    </tr>\n",
       "    <tr>\n",
       "      <th>std</th>\n",
       "      <td>218.081158</td>\n",
       "      <td>96.759853</td>\n",
       "    </tr>\n",
       "    <tr>\n",
       "      <th>min</th>\n",
       "      <td>-80995.000000</td>\n",
       "      <td>-11062.060000</td>\n",
       "    </tr>\n",
       "    <tr>\n",
       "      <th>25%</th>\n",
       "      <td>1.000000</td>\n",
       "      <td>1.250000</td>\n",
       "    </tr>\n",
       "    <tr>\n",
       "      <th>50%</th>\n",
       "      <td>3.000000</td>\n",
       "      <td>2.080000</td>\n",
       "    </tr>\n",
       "    <tr>\n",
       "      <th>75%</th>\n",
       "      <td>10.000000</td>\n",
       "      <td>4.130000</td>\n",
       "    </tr>\n",
       "    <tr>\n",
       "      <th>max</th>\n",
       "      <td>80995.000000</td>\n",
       "      <td>38970.000000</td>\n",
       "    </tr>\n",
       "  </tbody>\n",
       "</table>\n",
       "</div>"
      ],
      "text/plain": [
       "            Quantity      UnitPrice\n",
       "count  541909.000000  541909.000000\n",
       "mean        9.552250       4.611114\n",
       "std       218.081158      96.759853\n",
       "min    -80995.000000  -11062.060000\n",
       "25%         1.000000       1.250000\n",
       "50%         3.000000       2.080000\n",
       "75%        10.000000       4.130000\n",
       "max     80995.000000   38970.000000"
      ]
     },
     "execution_count": 9,
     "metadata": {},
     "output_type": "execute_result"
    }
   ],
   "source": [
    "df.describe()"
   ]
  },
  {
   "cell_type": "markdown",
   "id": "a11d3aef",
   "metadata": {
    "execution": {
     "iopub.execute_input": "2022-10-31T18:45:21.178606Z",
     "iopub.status.busy": "2022-10-31T18:45:21.177819Z",
     "iopub.status.idle": "2022-10-31T18:45:21.231715Z",
     "shell.execute_reply": "2022-10-31T18:45:21.230439Z",
     "shell.execute_reply.started": "2022-10-31T18:45:21.178559Z"
    },
    "papermill": {
     "duration": 0.012564,
     "end_time": "2022-11-08T01:38:02.477260",
     "exception": false,
     "start_time": "2022-11-08T01:38:02.464696",
     "status": "completed"
    },
    "tags": []
   },
   "source": [
    "There are outliers. Negative values in Quantity and UnitPrice reflect cancelled orders. There are also missing value in Description and CustomerID. \n",
    "\n",
    "Next step would be:\n",
    "1. take out NULL values\n",
    "1. only keep non-cancelled orders and item quantities greater than 0\n",
    "1. after taking out outliers, reband quantiles\n",
    "1. multiply Quantity and UnitPrice to get total spent per order"
   ]
  },
  {
   "cell_type": "code",
   "execution_count": 10,
   "id": "947973b4",
   "metadata": {
    "execution": {
     "iopub.execute_input": "2022-11-08T01:38:02.504001Z",
     "iopub.status.busy": "2022-11-08T01:38:02.503204Z",
     "iopub.status.idle": "2022-11-08T01:38:02.513553Z",
     "shell.execute_reply": "2022-11-08T01:38:02.512521Z"
    },
    "papermill": {
     "duration": 0.026274,
     "end_time": "2022-11-08T01:38:02.515765",
     "exception": false,
     "start_time": "2022-11-08T01:38:02.489491",
     "status": "completed"
    },
    "tags": []
   },
   "outputs": [],
   "source": [
    "def replace_with_thresholds(dataframe, variable, q1 = 0.25, q3 = 0.75):\n",
    "    \n",
    "    '''\n",
    "    Detects outliers with IQR method and replaces with thresholds \n",
    "    \n",
    "    '''\n",
    "    \n",
    "    df_ = dataframe.copy()\n",
    "    quartile1 = df_[variable].quantile(q1)\n",
    "    quartile3 = df_[variable].quantile(q3)\n",
    "    iqr = quartile3 - quartile1\n",
    "    \n",
    "    up_limit = quartile3 + 1.5 * iqr\n",
    "    low_limit = quartile1 - 1.5 * iqr\n",
    "    df_.loc[(df_[variable] < low_limit), variable] = low_limit\n",
    "    df_.loc[(df_[variable] > up_limit), variable] = up_limit\n",
    "    \n",
    "    return df_\n",
    "\n",
    "def ecommerce_preprocess(dataframe):\n",
    "    df_ = dataframe.copy()\n",
    "    \n",
    "    #Missing Values\n",
    "    df_ = df_.dropna()\n",
    "    \n",
    "    #Cancelled Orders & Quantity\n",
    "    df_ = df_[~df_['InvoiceNo'].str.contains('C', na = False)]\n",
    "    df_ = df_[df_['Quantity'] > 0]\n",
    "    \n",
    "    #Replacing Outliers\n",
    "    df_ = replace_with_thresholds(df_, \"Quantity\", q1 = 0.01, q3 = 0.99)\n",
    "    df_ = replace_with_thresholds(df_, \"UnitPrice\", q1 = 0.01, q3 = 0.99)\n",
    "    \n",
    "    #Total Price\n",
    "    df_[\"TotalPrice\"] = df_[\"Quantity\"] * df_[\"UnitPrice\"]\n",
    "    \n",
    "    return df_"
   ]
  },
  {
   "cell_type": "code",
   "execution_count": 11,
   "id": "8a4186da",
   "metadata": {
    "execution": {
     "iopub.execute_input": "2022-11-08T01:38:02.542850Z",
     "iopub.status.busy": "2022-11-08T01:38:02.541749Z",
     "iopub.status.idle": "2022-11-08T01:38:03.202423Z",
     "shell.execute_reply": "2022-11-08T01:38:03.201070Z"
    },
    "papermill": {
     "duration": 0.677047,
     "end_time": "2022-11-08T01:38:03.205224",
     "exception": false,
     "start_time": "2022-11-08T01:38:02.528177",
     "status": "completed"
    },
    "tags": []
   },
   "outputs": [
    {
     "data": {
      "text/html": [
       "<div>\n",
       "<style scoped>\n",
       "    .dataframe tbody tr th:only-of-type {\n",
       "        vertical-align: middle;\n",
       "    }\n",
       "\n",
       "    .dataframe tbody tr th {\n",
       "        vertical-align: top;\n",
       "    }\n",
       "\n",
       "    .dataframe thead th {\n",
       "        text-align: right;\n",
       "    }\n",
       "</style>\n",
       "<table border=\"1\" class=\"dataframe\">\n",
       "  <thead>\n",
       "    <tr style=\"text-align: right;\">\n",
       "      <th></th>\n",
       "      <th>Quantity</th>\n",
       "      <th>UnitPrice</th>\n",
       "      <th>TotalPrice</th>\n",
       "    </tr>\n",
       "  </thead>\n",
       "  <tbody>\n",
       "    <tr>\n",
       "      <th>count</th>\n",
       "      <td>397924.000000</td>\n",
       "      <td>397924.000000</td>\n",
       "      <td>397924.000000</td>\n",
       "    </tr>\n",
       "    <tr>\n",
       "      <th>mean</th>\n",
       "      <td>11.833736</td>\n",
       "      <td>2.893163</td>\n",
       "      <td>20.627751</td>\n",
       "    </tr>\n",
       "    <tr>\n",
       "      <th>std</th>\n",
       "      <td>25.534512</td>\n",
       "      <td>3.227059</td>\n",
       "      <td>51.826400</td>\n",
       "    </tr>\n",
       "    <tr>\n",
       "      <th>min</th>\n",
       "      <td>1.000000</td>\n",
       "      <td>0.000000</td>\n",
       "      <td>0.000000</td>\n",
       "    </tr>\n",
       "    <tr>\n",
       "      <th>25%</th>\n",
       "      <td>2.000000</td>\n",
       "      <td>1.250000</td>\n",
       "      <td>4.680000</td>\n",
       "    </tr>\n",
       "    <tr>\n",
       "      <th>50%</th>\n",
       "      <td>6.000000</td>\n",
       "      <td>1.950000</td>\n",
       "      <td>11.800000</td>\n",
       "    </tr>\n",
       "    <tr>\n",
       "      <th>75%</th>\n",
       "      <td>12.000000</td>\n",
       "      <td>3.750000</td>\n",
       "      <td>19.800000</td>\n",
       "    </tr>\n",
       "    <tr>\n",
       "      <th>max</th>\n",
       "      <td>298.500000</td>\n",
       "      <td>37.060000</td>\n",
       "      <td>3268.575000</td>\n",
       "    </tr>\n",
       "  </tbody>\n",
       "</table>\n",
       "</div>"
      ],
      "text/plain": [
       "            Quantity      UnitPrice     TotalPrice\n",
       "count  397924.000000  397924.000000  397924.000000\n",
       "mean       11.833736       2.893163      20.627751\n",
       "std        25.534512       3.227059      51.826400\n",
       "min         1.000000       0.000000       0.000000\n",
       "25%         2.000000       1.250000       4.680000\n",
       "50%         6.000000       1.950000      11.800000\n",
       "75%        12.000000       3.750000      19.800000\n",
       "max       298.500000      37.060000    3268.575000"
      ]
     },
     "execution_count": 11,
     "metadata": {},
     "output_type": "execute_result"
    }
   ],
   "source": [
    "df = ecommerce_preprocess(df)\n",
    "df.describe()"
   ]
  },
  {
   "cell_type": "markdown",
   "id": "417cd892",
   "metadata": {
    "papermill": {
     "duration": 0.012269,
     "end_time": "2022-11-08T01:38:03.230346",
     "exception": false,
     "start_time": "2022-11-08T01:38:03.218077",
     "status": "completed"
    },
    "tags": []
   },
   "source": [
    "# RFM (Recency, Frequency, Monetary)"
   ]
  },
  {
   "cell_type": "markdown",
   "id": "d62cdea0",
   "metadata": {
    "papermill": {
     "duration": 0.012249,
     "end_time": "2022-11-08T01:38:03.255051",
     "exception": false,
     "start_time": "2022-11-08T01:38:03.242802",
     "status": "completed"
    },
    "tags": []
   },
   "source": [
    "RFM is a good first pass to see what sort of breakdown is possible across whole user base. If it is too crude, can make come up with more user behavior metrics.\n",
    "\n",
    "Recency help us judge customers' retention/engagement whereas Frequency and Monetary help us judge their lifetime value."
   ]
  },
  {
   "cell_type": "code",
   "execution_count": 12,
   "id": "f8fced56",
   "metadata": {
    "execution": {
     "iopub.execute_input": "2022-11-08T01:38:03.282165Z",
     "iopub.status.busy": "2022-11-08T01:38:03.281763Z",
     "iopub.status.idle": "2022-11-08T01:38:03.291077Z",
     "shell.execute_reply": "2022-11-08T01:38:03.290102Z"
    },
    "papermill": {
     "duration": 0.025817,
     "end_time": "2022-11-08T01:38:03.293431",
     "exception": false,
     "start_time": "2022-11-08T01:38:03.267614",
     "status": "completed"
    },
    "tags": []
   },
   "outputs": [
    {
     "data": {
      "text/plain": [
       "Timestamp('2011-12-09 12:50:00')"
      ]
     },
     "execution_count": 12,
     "metadata": {},
     "output_type": "execute_result"
    }
   ],
   "source": [
    "#Get the max date in order to determine which date to subtract from when determining Recency grades\n",
    "df['InvoiceDate'].max()"
   ]
  },
  {
   "cell_type": "code",
   "execution_count": 13,
   "id": "1cd1eccd",
   "metadata": {
    "execution": {
     "iopub.execute_input": "2022-11-08T01:38:03.321283Z",
     "iopub.status.busy": "2022-11-08T01:38:03.320594Z",
     "iopub.status.idle": "2022-11-08T01:38:03.327662Z",
     "shell.execute_reply": "2022-11-08T01:38:03.326620Z"
    },
    "papermill": {
     "duration": 0.023745,
     "end_time": "2022-11-08T01:38:03.329914",
     "exception": false,
     "start_time": "2022-11-08T01:38:03.306169",
     "status": "completed"
    },
    "tags": []
   },
   "outputs": [
    {
     "data": {
      "text/plain": [
       "datetime.datetime(2011, 12, 11, 0, 0)"
      ]
     },
     "execution_count": 13,
     "metadata": {},
     "output_type": "execute_result"
    }
   ],
   "source": [
    "today_date = dt.datetime(2011,12,11)\n",
    "today_date"
   ]
  },
  {
   "cell_type": "code",
   "execution_count": 14,
   "id": "4829135f",
   "metadata": {
    "execution": {
     "iopub.execute_input": "2022-11-08T01:38:03.357982Z",
     "iopub.status.busy": "2022-11-08T01:38:03.357260Z",
     "iopub.status.idle": "2022-11-08T01:38:04.630093Z",
     "shell.execute_reply": "2022-11-08T01:38:04.629203Z"
    },
    "papermill": {
     "duration": 1.290956,
     "end_time": "2022-11-08T01:38:04.633518",
     "exception": false,
     "start_time": "2022-11-08T01:38:03.342562",
     "status": "completed"
    },
    "tags": []
   },
   "outputs": [
    {
     "data": {
      "text/html": [
       "<div>\n",
       "<style scoped>\n",
       "    .dataframe tbody tr th:only-of-type {\n",
       "        vertical-align: middle;\n",
       "    }\n",
       "\n",
       "    .dataframe tbody tr th {\n",
       "        vertical-align: top;\n",
       "    }\n",
       "\n",
       "    .dataframe thead th {\n",
       "        text-align: right;\n",
       "    }\n",
       "</style>\n",
       "<table border=\"1\" class=\"dataframe\">\n",
       "  <thead>\n",
       "    <tr style=\"text-align: right;\">\n",
       "      <th></th>\n",
       "      <th>CustomerID</th>\n",
       "      <th>recency</th>\n",
       "      <th>frequency</th>\n",
       "      <th>monetary</th>\n",
       "    </tr>\n",
       "  </thead>\n",
       "  <tbody>\n",
       "    <tr>\n",
       "      <th>0</th>\n",
       "      <td>12346</td>\n",
       "      <td>326</td>\n",
       "      <td>1</td>\n",
       "      <td>310.44</td>\n",
       "    </tr>\n",
       "    <tr>\n",
       "      <th>1</th>\n",
       "      <td>12347</td>\n",
       "      <td>3</td>\n",
       "      <td>7</td>\n",
       "      <td>4310.00</td>\n",
       "    </tr>\n",
       "    <tr>\n",
       "      <th>2</th>\n",
       "      <td>12348</td>\n",
       "      <td>76</td>\n",
       "      <td>4</td>\n",
       "      <td>1770.78</td>\n",
       "    </tr>\n",
       "    <tr>\n",
       "      <th>3</th>\n",
       "      <td>12349</td>\n",
       "      <td>19</td>\n",
       "      <td>1</td>\n",
       "      <td>1491.72</td>\n",
       "    </tr>\n",
       "    <tr>\n",
       "      <th>4</th>\n",
       "      <td>12350</td>\n",
       "      <td>311</td>\n",
       "      <td>1</td>\n",
       "      <td>331.46</td>\n",
       "    </tr>\n",
       "  </tbody>\n",
       "</table>\n",
       "</div>"
      ],
      "text/plain": [
       "  CustomerID  recency  frequency  monetary\n",
       "0      12346      326          1    310.44\n",
       "1      12347        3          7   4310.00\n",
       "2      12348       76          4   1770.78\n",
       "3      12349       19          1   1491.72\n",
       "4      12350      311          1    331.46"
      ]
     },
     "execution_count": 14,
     "metadata": {},
     "output_type": "execute_result"
    }
   ],
   "source": [
    "#at customer level aggregates\n",
    "rfm = df.groupby('CustomerID').agg({'InvoiceDate': lambda x: (today_date - x.max()).days,\n",
    "                                    'InvoiceNo': lambda x: x.nunique(),\n",
    "                                    'TotalPrice': lambda x: x.sum()})\n",
    "\n",
    "rfm.columns = ['recency', 'frequency', 'monetary']\n",
    "\n",
    "rfm = rfm.loc[rfm['monetary'] > 0] #only want customers who spend more than $0\n",
    "rfm = rfm.reset_index()\n",
    "\n",
    "rfm.head()"
   ]
  },
  {
   "cell_type": "markdown",
   "id": "b1271642",
   "metadata": {
    "execution": {
     "iopub.execute_input": "2022-11-01T17:54:16.792001Z",
     "iopub.status.busy": "2022-11-01T17:54:16.791421Z",
     "iopub.status.idle": "2022-11-01T17:54:16.829961Z",
     "shell.execute_reply": "2022-11-01T17:54:16.828215Z",
     "shell.execute_reply.started": "2022-11-01T17:54:16.791933Z"
    },
    "papermill": {
     "duration": 0.012716,
     "end_time": "2022-11-08T01:38:04.660905",
     "exception": false,
     "start_time": "2022-11-08T01:38:04.648189",
     "status": "completed"
    },
    "tags": []
   },
   "source": [
    "# RFM Scores"
   ]
  },
  {
   "cell_type": "code",
   "execution_count": 15,
   "id": "f51f52fd",
   "metadata": {
    "execution": {
     "iopub.execute_input": "2022-11-08T01:38:04.690160Z",
     "iopub.status.busy": "2022-11-08T01:38:04.688910Z",
     "iopub.status.idle": "2022-11-08T01:38:04.711940Z",
     "shell.execute_reply": "2022-11-08T01:38:04.710652Z"
    },
    "papermill": {
     "duration": 0.040481,
     "end_time": "2022-11-08T01:38:04.714726",
     "exception": false,
     "start_time": "2022-11-08T01:38:04.674245",
     "status": "completed"
    },
    "tags": []
   },
   "outputs": [
    {
     "data": {
      "text/html": [
       "<div>\n",
       "<style scoped>\n",
       "    .dataframe tbody tr th:only-of-type {\n",
       "        vertical-align: middle;\n",
       "    }\n",
       "\n",
       "    .dataframe tbody tr th {\n",
       "        vertical-align: top;\n",
       "    }\n",
       "\n",
       "    .dataframe thead th {\n",
       "        text-align: right;\n",
       "    }\n",
       "</style>\n",
       "<table border=\"1\" class=\"dataframe\">\n",
       "  <thead>\n",
       "    <tr style=\"text-align: right;\">\n",
       "      <th></th>\n",
       "      <th>CustomerID</th>\n",
       "      <th>recency</th>\n",
       "      <th>frequency</th>\n",
       "      <th>monetary</th>\n",
       "      <th>recency_score</th>\n",
       "    </tr>\n",
       "  </thead>\n",
       "  <tbody>\n",
       "    <tr>\n",
       "      <th>0</th>\n",
       "      <td>12346</td>\n",
       "      <td>326</td>\n",
       "      <td>1</td>\n",
       "      <td>310.44</td>\n",
       "      <td>1</td>\n",
       "    </tr>\n",
       "    <tr>\n",
       "      <th>1</th>\n",
       "      <td>12347</td>\n",
       "      <td>3</td>\n",
       "      <td>7</td>\n",
       "      <td>4310.00</td>\n",
       "      <td>5</td>\n",
       "    </tr>\n",
       "    <tr>\n",
       "      <th>2</th>\n",
       "      <td>12348</td>\n",
       "      <td>76</td>\n",
       "      <td>4</td>\n",
       "      <td>1770.78</td>\n",
       "      <td>2</td>\n",
       "    </tr>\n",
       "    <tr>\n",
       "      <th>3</th>\n",
       "      <td>12349</td>\n",
       "      <td>19</td>\n",
       "      <td>1</td>\n",
       "      <td>1491.72</td>\n",
       "      <td>4</td>\n",
       "    </tr>\n",
       "    <tr>\n",
       "      <th>4</th>\n",
       "      <td>12350</td>\n",
       "      <td>311</td>\n",
       "      <td>1</td>\n",
       "      <td>331.46</td>\n",
       "      <td>1</td>\n",
       "    </tr>\n",
       "    <tr>\n",
       "      <th>...</th>\n",
       "      <td>...</td>\n",
       "      <td>...</td>\n",
       "      <td>...</td>\n",
       "      <td>...</td>\n",
       "      <td>...</td>\n",
       "    </tr>\n",
       "    <tr>\n",
       "      <th>4333</th>\n",
       "      <td>18280</td>\n",
       "      <td>278</td>\n",
       "      <td>1</td>\n",
       "      <td>180.60</td>\n",
       "      <td>1</td>\n",
       "    </tr>\n",
       "    <tr>\n",
       "      <th>4334</th>\n",
       "      <td>18281</td>\n",
       "      <td>181</td>\n",
       "      <td>1</td>\n",
       "      <td>80.82</td>\n",
       "      <td>1</td>\n",
       "    </tr>\n",
       "    <tr>\n",
       "      <th>4335</th>\n",
       "      <td>18282</td>\n",
       "      <td>8</td>\n",
       "      <td>2</td>\n",
       "      <td>178.05</td>\n",
       "      <td>5</td>\n",
       "    </tr>\n",
       "    <tr>\n",
       "      <th>4336</th>\n",
       "      <td>18283</td>\n",
       "      <td>4</td>\n",
       "      <td>16</td>\n",
       "      <td>2094.88</td>\n",
       "      <td>5</td>\n",
       "    </tr>\n",
       "    <tr>\n",
       "      <th>4337</th>\n",
       "      <td>18287</td>\n",
       "      <td>43</td>\n",
       "      <td>3</td>\n",
       "      <td>1837.28</td>\n",
       "      <td>3</td>\n",
       "    </tr>\n",
       "  </tbody>\n",
       "</table>\n",
       "<p>4338 rows × 5 columns</p>\n",
       "</div>"
      ],
      "text/plain": [
       "     CustomerID  recency  frequency  monetary recency_score\n",
       "0         12346      326          1    310.44             1\n",
       "1         12347        3          7   4310.00             5\n",
       "2         12348       76          4   1770.78             2\n",
       "3         12349       19          1   1491.72             4\n",
       "4         12350      311          1    331.46             1\n",
       "...         ...      ...        ...       ...           ...\n",
       "4333      18280      278          1    180.60             1\n",
       "4334      18281      181          1     80.82             1\n",
       "4335      18282        8          2    178.05             5\n",
       "4336      18283        4         16   2094.88             5\n",
       "4337      18287       43          3   1837.28             3\n",
       "\n",
       "[4338 rows x 5 columns]"
      ]
     },
     "execution_count": 15,
     "metadata": {},
     "output_type": "execute_result"
    }
   ],
   "source": [
    "rfm2 = rfm.copy()\n",
    "rfm2['recency_score'] = pd.qcut(rfm2['recency'],5,labels = [5, 4, 3, 2, 1])\n",
    "rfm2"
   ]
  },
  {
   "cell_type": "code",
   "execution_count": 16,
   "id": "9f5d5550",
   "metadata": {
    "execution": {
     "iopub.execute_input": "2022-11-08T01:38:04.745431Z",
     "iopub.status.busy": "2022-11-08T01:38:04.744272Z",
     "iopub.status.idle": "2022-11-08T01:38:04.767050Z",
     "shell.execute_reply": "2022-11-08T01:38:04.765815Z"
    },
    "papermill": {
     "duration": 0.040999,
     "end_time": "2022-11-08T01:38:04.769945",
     "exception": false,
     "start_time": "2022-11-08T01:38:04.728946",
     "status": "completed"
    },
    "tags": []
   },
   "outputs": [],
   "source": [
    "#For now, we are only combining R and F. Monetary will not be included in overall RFM score. 5 is highest ranking.\n",
    "def get_rfm_scores(dataframe):\n",
    "    \n",
    "    df_ = dataframe.copy()\n",
    "    df_['recency_score'] = pd.qcut(df_['recency'],5,labels = [5, 4, 3, 2, 1])\n",
    "    df_['frequency_score'] = pd.qcut(df_['frequency'].rank(method = \"first\"), 5, labels = [1, 2, 3, 4, 5])\n",
    "    df_['monetary_score'] = pd.qcut(df_['monetary'], 5, labels = [1, 2, 3, 4, 5])\n",
    "    df_['RFM_SCORE'] = (df_['recency_score'].astype(str) + df_['frequency_score'].astype(str))\n",
    "    \n",
    "    return df_\n",
    "\n",
    "rfm = get_rfm_scores(rfm)"
   ]
  },
  {
   "cell_type": "markdown",
   "id": "53e9e48f",
   "metadata": {
    "papermill": {
     "duration": 0.013683,
     "end_time": "2022-11-08T01:38:04.797688",
     "exception": false,
     "start_time": "2022-11-08T01:38:04.784005",
     "status": "completed"
    },
    "tags": []
   },
   "source": [
    "# Segmentation"
   ]
  },
  {
   "cell_type": "code",
   "execution_count": 17,
   "id": "b9278344",
   "metadata": {
    "execution": {
     "iopub.execute_input": "2022-11-08T01:38:04.827305Z",
     "iopub.status.busy": "2022-11-08T01:38:04.826816Z",
     "iopub.status.idle": "2022-11-08T01:38:04.922829Z",
     "shell.execute_reply": "2022-11-08T01:38:04.921548Z"
    },
    "papermill": {
     "duration": 0.113626,
     "end_time": "2022-11-08T01:38:04.925300",
     "exception": false,
     "start_time": "2022-11-08T01:38:04.811674",
     "status": "completed"
    },
    "tags": []
   },
   "outputs": [
    {
     "data": {
      "text/html": [
       "<div>\n",
       "<style scoped>\n",
       "    .dataframe tbody tr th:only-of-type {\n",
       "        vertical-align: middle;\n",
       "    }\n",
       "\n",
       "    .dataframe tbody tr th {\n",
       "        vertical-align: top;\n",
       "    }\n",
       "\n",
       "    .dataframe thead th {\n",
       "        text-align: right;\n",
       "    }\n",
       "</style>\n",
       "<table border=\"1\" class=\"dataframe\">\n",
       "  <thead>\n",
       "    <tr style=\"text-align: right;\">\n",
       "      <th></th>\n",
       "      <th>CustomerID</th>\n",
       "      <th>recency</th>\n",
       "      <th>frequency</th>\n",
       "      <th>monetary</th>\n",
       "      <th>recency_score</th>\n",
       "      <th>frequency_score</th>\n",
       "      <th>monetary_score</th>\n",
       "      <th>RFM_SCORE</th>\n",
       "      <th>segment</th>\n",
       "    </tr>\n",
       "  </thead>\n",
       "  <tbody>\n",
       "    <tr>\n",
       "      <th>0</th>\n",
       "      <td>12346</td>\n",
       "      <td>326</td>\n",
       "      <td>1</td>\n",
       "      <td>310.44</td>\n",
       "      <td>1</td>\n",
       "      <td>1</td>\n",
       "      <td>2</td>\n",
       "      <td>11</td>\n",
       "      <td>hibernating</td>\n",
       "    </tr>\n",
       "    <tr>\n",
       "      <th>1</th>\n",
       "      <td>12347</td>\n",
       "      <td>3</td>\n",
       "      <td>7</td>\n",
       "      <td>4310.00</td>\n",
       "      <td>5</td>\n",
       "      <td>5</td>\n",
       "      <td>5</td>\n",
       "      <td>55</td>\n",
       "      <td>champions</td>\n",
       "    </tr>\n",
       "    <tr>\n",
       "      <th>2</th>\n",
       "      <td>12348</td>\n",
       "      <td>76</td>\n",
       "      <td>4</td>\n",
       "      <td>1770.78</td>\n",
       "      <td>2</td>\n",
       "      <td>4</td>\n",
       "      <td>4</td>\n",
       "      <td>24</td>\n",
       "      <td>at_Risk</td>\n",
       "    </tr>\n",
       "    <tr>\n",
       "      <th>3</th>\n",
       "      <td>12349</td>\n",
       "      <td>19</td>\n",
       "      <td>1</td>\n",
       "      <td>1491.72</td>\n",
       "      <td>4</td>\n",
       "      <td>1</td>\n",
       "      <td>4</td>\n",
       "      <td>41</td>\n",
       "      <td>promising</td>\n",
       "    </tr>\n",
       "    <tr>\n",
       "      <th>4</th>\n",
       "      <td>12350</td>\n",
       "      <td>311</td>\n",
       "      <td>1</td>\n",
       "      <td>331.46</td>\n",
       "      <td>1</td>\n",
       "      <td>1</td>\n",
       "      <td>2</td>\n",
       "      <td>11</td>\n",
       "      <td>hibernating</td>\n",
       "    </tr>\n",
       "  </tbody>\n",
       "</table>\n",
       "</div>"
      ],
      "text/plain": [
       "  CustomerID  recency  frequency  monetary recency_score frequency_score  \\\n",
       "0      12346      326          1    310.44             1               1   \n",
       "1      12347        3          7   4310.00             5               5   \n",
       "2      12348       76          4   1770.78             2               4   \n",
       "3      12349       19          1   1491.72             4               1   \n",
       "4      12350      311          1    331.46             1               1   \n",
       "\n",
       "  monetary_score RFM_SCORE      segment  \n",
       "0              2        11  hibernating  \n",
       "1              5        55    champions  \n",
       "2              4        24      at_Risk  \n",
       "3              4        41    promising  \n",
       "4              2        11  hibernating  "
      ]
     },
     "execution_count": 17,
     "metadata": {},
     "output_type": "execute_result"
    }
   ],
   "source": [
    "seg_map = {r'[1-2][1-2]': 'hibernating',\n",
    "           r'[1-2][3-4]': 'at_Risk',\n",
    "           r'[1-2]5': 'cant_loose',\n",
    "           r'3[1-2]': 'about_to_sleep',\n",
    "           r'33': 'need_attention',\n",
    "           r'[3-4][4-5]': 'loyal_customers',\n",
    "           r'41': 'promising',\n",
    "           r'51': 'new_customers',\n",
    "           r'[4-5][2-3]': 'potential_loyalists',\n",
    "           r'5[4-5]': 'champions'}\n",
    "\n",
    "rfm['segment'] = rfm['RFM_SCORE'].replace(seg_map, regex = True)\n",
    "\n",
    "rfm.head()"
   ]
  },
  {
   "cell_type": "markdown",
   "id": "d1eba0cf",
   "metadata": {
    "papermill": {
     "duration": 0.014077,
     "end_time": "2022-11-08T01:38:04.953770",
     "exception": false,
     "start_time": "2022-11-08T01:38:04.939693",
     "status": "completed"
    },
    "tags": []
   },
   "source": [
    "# Segmentation Map"
   ]
  },
  {
   "cell_type": "code",
   "execution_count": 18,
   "id": "bf414ccb",
   "metadata": {
    "execution": {
     "iopub.execute_input": "2022-11-08T01:38:04.985681Z",
     "iopub.status.busy": "2022-11-08T01:38:04.985155Z",
     "iopub.status.idle": "2022-11-08T01:38:04.996955Z",
     "shell.execute_reply": "2022-11-08T01:38:04.995675Z"
    },
    "papermill": {
     "duration": 0.031262,
     "end_time": "2022-11-08T01:38:05.000343",
     "exception": false,
     "start_time": "2022-11-08T01:38:04.969081",
     "status": "completed"
    },
    "tags": []
   },
   "outputs": [
    {
     "data": {
      "text/plain": [
       "hibernating            0.246888\n",
       "loyal_customers        0.188797\n",
       "champions              0.145920\n",
       "at_Risk                0.136699\n",
       "potential_loyalists    0.111572\n",
       "about_to_sleep         0.081143\n",
       "need_attention         0.043107\n",
       "promising              0.021669\n",
       "cant_loose             0.014523\n",
       "new_customers          0.009682\n",
       "Name: segment, dtype: float64"
      ]
     },
     "execution_count": 18,
     "metadata": {},
     "output_type": "execute_result"
    }
   ],
   "source": [
    "rfm.segment.value_counts(normalize=True)"
   ]
  },
  {
   "cell_type": "code",
   "execution_count": 19,
   "id": "b156d719",
   "metadata": {
    "execution": {
     "iopub.execute_input": "2022-11-08T01:38:05.031067Z",
     "iopub.status.busy": "2022-11-08T01:38:05.030296Z",
     "iopub.status.idle": "2022-11-08T01:38:05.404079Z",
     "shell.execute_reply": "2022-11-08T01:38:05.403075Z"
    },
    "papermill": {
     "duration": 0.392508,
     "end_time": "2022-11-08T01:38:05.407071",
     "exception": false,
     "start_time": "2022-11-08T01:38:05.014563",
     "status": "completed"
    },
    "tags": []
   },
   "outputs": [
    {
     "data": {
      "image/png": "[encoded data removed]",
      "text/plain": [
       "<Figure size 1296x576 with 1 Axes>"
      ]
     },
     "metadata": {
      "needs_background": "light"
     },
     "output_type": "display_data"
    }
   ],
   "source": [
    "plt.figure(figsize = (18, 8))\n",
    "ax = sns.countplot(data = rfm,\n",
    "                   x = 'segment',\n",
    "                   palette = palette)\n",
    "total = len(rfm.segment)\n",
    "for patch in ax.patches:\n",
    "    percentage = '{:.1f}%'.format(100 * patch.get_height()/total)\n",
    "    x = patch.get_x() + patch.get_width() / 2 - 0.17\n",
    "    y = patch.get_y() + patch.get_height() * 1.005\n",
    "    ax.annotate(percentage, (x, y), size = 14)\n",
    "plt.title('Number of Customers by Segments', size = 16)\n",
    "plt.xlabel('Segment', size = 14)\n",
    "plt.ylabel('Count', size = 14)\n",
    "plt.xticks(size = 10)\n",
    "plt.yticks(size = 10)\n",
    "plt.show()"
   ]
  },
  {
   "cell_type": "markdown",
   "id": "19d400bb",
   "metadata": {
    "papermill": {
     "duration": 0.015066,
     "end_time": "2022-11-08T01:38:05.438369",
     "exception": false,
     "start_time": "2022-11-08T01:38:05.423303",
     "status": "completed"
    },
    "tags": []
   },
   "source": [
    "We can easily see from this percentage break down that top 3 of the user base is hibernating, loyal customers or champions. This is optimistic since it shows that even though many customers are dormant there are a bunch that are activity engaging."
   ]
  },
  {
   "cell_type": "markdown",
   "id": "aab03690",
   "metadata": {
    "papermill": {
     "duration": 0.014028,
     "end_time": "2022-11-08T01:38:05.467783",
     "exception": false,
     "start_time": "2022-11-08T01:38:05.453755",
     "status": "completed"
    },
    "tags": []
   },
   "source": [
    "# RFM Segments' Distribution"
   ]
  },
  {
   "cell_type": "code",
   "execution_count": 20,
   "id": "f6910b95",
   "metadata": {
    "execution": {
     "iopub.execute_input": "2022-11-08T01:38:05.498170Z",
     "iopub.status.busy": "2022-11-08T01:38:05.497450Z",
     "iopub.status.idle": "2022-11-08T01:38:05.538035Z",
     "shell.execute_reply": "2022-11-08T01:38:05.536786Z"
    },
    "papermill": {
     "duration": 0.05885,
     "end_time": "2022-11-08T01:38:05.540857",
     "exception": false,
     "start_time": "2022-11-08T01:38:05.482007",
     "status": "completed"
    },
    "tags": []
   },
   "outputs": [
    {
     "data": {
      "text/html": [
       "<div>\n",
       "<style scoped>\n",
       "    .dataframe tbody tr th:only-of-type {\n",
       "        vertical-align: middle;\n",
       "    }\n",
       "\n",
       "    .dataframe tbody tr th {\n",
       "        vertical-align: top;\n",
       "    }\n",
       "\n",
       "    .dataframe thead tr th {\n",
       "        text-align: left;\n",
       "    }\n",
       "\n",
       "    .dataframe thead tr:last-of-type th {\n",
       "        text-align: right;\n",
       "    }\n",
       "</style>\n",
       "<table border=\"1\" class=\"dataframe\">\n",
       "  <thead>\n",
       "    <tr>\n",
       "      <th></th>\n",
       "      <th colspan=\"4\" halign=\"left\">recency</th>\n",
       "      <th colspan=\"4\" halign=\"left\">monetary</th>\n",
       "      <th colspan=\"4\" halign=\"left\">frequency</th>\n",
       "    </tr>\n",
       "    <tr>\n",
       "      <th></th>\n",
       "      <th>std</th>\n",
       "      <th>min</th>\n",
       "      <th>max</th>\n",
       "      <th>mean</th>\n",
       "      <th>std</th>\n",
       "      <th>min</th>\n",
       "      <th>max</th>\n",
       "      <th>mean</th>\n",
       "      <th>std</th>\n",
       "      <th>min</th>\n",
       "      <th>max</th>\n",
       "      <th>mean</th>\n",
       "    </tr>\n",
       "    <tr>\n",
       "      <th>segment</th>\n",
       "      <th></th>\n",
       "      <th></th>\n",
       "      <th></th>\n",
       "      <th></th>\n",
       "      <th></th>\n",
       "      <th></th>\n",
       "      <th></th>\n",
       "      <th></th>\n",
       "      <th></th>\n",
       "      <th></th>\n",
       "      <th></th>\n",
       "      <th></th>\n",
       "    </tr>\n",
       "  </thead>\n",
       "  <tbody>\n",
       "    <tr>\n",
       "      <th>about_to_sleep</th>\n",
       "      <td>10.943474</td>\n",
       "      <td>34</td>\n",
       "      <td>72</td>\n",
       "      <td>53.312500</td>\n",
       "      <td>533.161343</td>\n",
       "      <td>6.20</td>\n",
       "      <td>6207.670</td>\n",
       "      <td>469.058097</td>\n",
       "      <td>0.368913</td>\n",
       "      <td>1</td>\n",
       "      <td>2</td>\n",
       "      <td>1.161932</td>\n",
       "    </tr>\n",
       "    <tr>\n",
       "      <th>at_Risk</th>\n",
       "      <td>68.618828</td>\n",
       "      <td>73</td>\n",
       "      <td>374</td>\n",
       "      <td>153.785835</td>\n",
       "      <td>943.170824</td>\n",
       "      <td>52.00</td>\n",
       "      <td>11072.670</td>\n",
       "      <td>938.458341</td>\n",
       "      <td>0.954415</td>\n",
       "      <td>2</td>\n",
       "      <td>6</td>\n",
       "      <td>2.878583</td>\n",
       "    </tr>\n",
       "    <tr>\n",
       "      <th>cant_loose</th>\n",
       "      <td>65.250378</td>\n",
       "      <td>73</td>\n",
       "      <td>373</td>\n",
       "      <td>132.968254</td>\n",
       "      <td>2008.352354</td>\n",
       "      <td>70.02</td>\n",
       "      <td>10254.180</td>\n",
       "      <td>2646.822540</td>\n",
       "      <td>4.289630</td>\n",
       "      <td>6</td>\n",
       "      <td>34</td>\n",
       "      <td>8.380952</td>\n",
       "    </tr>\n",
       "    <tr>\n",
       "      <th>champions</th>\n",
       "      <td>3.683300</td>\n",
       "      <td>1</td>\n",
       "      <td>13</td>\n",
       "      <td>6.361769</td>\n",
       "      <td>18366.105822</td>\n",
       "      <td>198.23</td>\n",
       "      <td>266163.525</td>\n",
       "      <td>6498.612978</td>\n",
       "      <td>16.476484</td>\n",
       "      <td>3</td>\n",
       "      <td>210</td>\n",
       "      <td>12.417062</td>\n",
       "    </tr>\n",
       "    <tr>\n",
       "      <th>hibernating</th>\n",
       "      <td>92.013560</td>\n",
       "      <td>73</td>\n",
       "      <td>374</td>\n",
       "      <td>217.605042</td>\n",
       "      <td>553.714975</td>\n",
       "      <td>3.75</td>\n",
       "      <td>9182.345</td>\n",
       "      <td>398.573036</td>\n",
       "      <td>0.302492</td>\n",
       "      <td>1</td>\n",
       "      <td>2</td>\n",
       "      <td>1.101774</td>\n",
       "    </tr>\n",
       "    <tr>\n",
       "      <th>loyal_customers</th>\n",
       "      <td>15.577050</td>\n",
       "      <td>15</td>\n",
       "      <td>72</td>\n",
       "      <td>33.608059</td>\n",
       "      <td>5405.787839</td>\n",
       "      <td>36.56</td>\n",
       "      <td>120210.355</td>\n",
       "      <td>2752.519574</td>\n",
       "      <td>4.545669</td>\n",
       "      <td>3</td>\n",
       "      <td>63</td>\n",
       "      <td>6.479853</td>\n",
       "    </tr>\n",
       "    <tr>\n",
       "      <th>need_attention</th>\n",
       "      <td>11.552074</td>\n",
       "      <td>34</td>\n",
       "      <td>72</td>\n",
       "      <td>52.427807</td>\n",
       "      <td>732.298552</td>\n",
       "      <td>6.90</td>\n",
       "      <td>4353.830</td>\n",
       "      <td>847.657086</td>\n",
       "      <td>0.470081</td>\n",
       "      <td>2</td>\n",
       "      <td>3</td>\n",
       "      <td>2.326203</td>\n",
       "    </tr>\n",
       "    <tr>\n",
       "      <th>new_customers</th>\n",
       "      <td>3.902112</td>\n",
       "      <td>1</td>\n",
       "      <td>13</td>\n",
       "      <td>7.428571</td>\n",
       "      <td>174.620952</td>\n",
       "      <td>89.94</td>\n",
       "      <td>848.550</td>\n",
       "      <td>314.883690</td>\n",
       "      <td>0.000000</td>\n",
       "      <td>1</td>\n",
       "      <td>1</td>\n",
       "      <td>1.000000</td>\n",
       "    </tr>\n",
       "    <tr>\n",
       "      <th>potential_loyalists</th>\n",
       "      <td>9.338808</td>\n",
       "      <td>1</td>\n",
       "      <td>33</td>\n",
       "      <td>17.398760</td>\n",
       "      <td>601.746293</td>\n",
       "      <td>20.80</td>\n",
       "      <td>4628.750</td>\n",
       "      <td>674.628357</td>\n",
       "      <td>0.651401</td>\n",
       "      <td>1</td>\n",
       "      <td>3</td>\n",
       "      <td>2.010331</td>\n",
       "    </tr>\n",
       "    <tr>\n",
       "      <th>promising</th>\n",
       "      <td>5.192519</td>\n",
       "      <td>15</td>\n",
       "      <td>33</td>\n",
       "      <td>23.510638</td>\n",
       "      <td>223.634736</td>\n",
       "      <td>30.00</td>\n",
       "      <td>1491.720</td>\n",
       "      <td>285.623723</td>\n",
       "      <td>0.000000</td>\n",
       "      <td>1</td>\n",
       "      <td>1</td>\n",
       "      <td>1.000000</td>\n",
       "    </tr>\n",
       "  </tbody>\n",
       "</table>\n",
       "</div>"
      ],
      "text/plain": [
       "                       recency                           monetary          \\\n",
       "                           std min  max        mean           std     min   \n",
       "segment                                                                     \n",
       "about_to_sleep       10.943474  34   72   53.312500    533.161343    6.20   \n",
       "at_Risk              68.618828  73  374  153.785835    943.170824   52.00   \n",
       "cant_loose           65.250378  73  373  132.968254   2008.352354   70.02   \n",
       "champions             3.683300   1   13    6.361769  18366.105822  198.23   \n",
       "hibernating          92.013560  73  374  217.605042    553.714975    3.75   \n",
       "loyal_customers      15.577050  15   72   33.608059   5405.787839   36.56   \n",
       "need_attention       11.552074  34   72   52.427807    732.298552    6.90   \n",
       "new_customers         3.902112   1   13    7.428571    174.620952   89.94   \n",
       "potential_loyalists   9.338808   1   33   17.398760    601.746293   20.80   \n",
       "promising             5.192519  15   33   23.510638    223.634736   30.00   \n",
       "\n",
       "                                              frequency                      \n",
       "                            max         mean        std min  max       mean  \n",
       "segment                                                                      \n",
       "about_to_sleep         6207.670   469.058097   0.368913   1    2   1.161932  \n",
       "at_Risk               11072.670   938.458341   0.954415   2    6   2.878583  \n",
       "cant_loose            10254.180  2646.822540   4.289630   6   34   8.380952  \n",
       "champions            266163.525  6498.612978  16.476484   3  210  12.417062  \n",
       "hibernating            9182.345   398.573036   0.302492   1    2   1.101774  \n",
       "loyal_customers      120210.355  2752.519574   4.545669   3   63   6.479853  \n",
       "need_attention         4353.830   847.657086   0.470081   2    3   2.326203  \n",
       "new_customers           848.550   314.883690   0.000000   1    1   1.000000  \n",
       "potential_loyalists    4628.750   674.628357   0.651401   1    3   2.010331  \n",
       "promising              1491.720   285.623723   0.000000   1    1   1.000000  "
      ]
     },
     "execution_count": 20,
     "metadata": {},
     "output_type": "execute_result"
    }
   ],
   "source": [
    "rfm[['recency','monetary','frequency','segment']]\\\n",
    ".groupby('segment')\\\n",
    ".agg({'mean','std','max','min'})"
   ]
  },
  {
   "cell_type": "markdown",
   "id": "e8649aca",
   "metadata": {
    "papermill": {
     "duration": 0.015088,
     "end_time": "2022-11-08T01:38:05.571423",
     "exception": false,
     "start_time": "2022-11-08T01:38:05.556335",
     "status": "completed"
    },
    "tags": []
   },
   "source": [
    "Based on the customer segment, we can see where each segment stands with respect to recency, frequency and monetary. We can see that the champions and loyal customers have the highest monetary and frequency values within their distribution."
   ]
  },
  {
   "cell_type": "markdown",
   "id": "c0e9beeb",
   "metadata": {
    "papermill": {
     "duration": 0.014674,
     "end_time": "2022-11-08T01:38:05.601040",
     "exception": false,
     "start_time": "2022-11-08T01:38:05.586366",
     "status": "completed"
    },
    "tags": []
   },
   "source": [
    "# Cohort Analysis"
   ]
  },
  {
   "cell_type": "markdown",
   "id": "51994b93",
   "metadata": {
    "papermill": {
     "duration": 0.015035,
     "end_time": "2022-11-08T01:38:05.631942",
     "exception": false,
     "start_time": "2022-11-08T01:38:05.616907",
     "status": "completed"
    },
    "tags": []
   },
   "source": [
    "A cohort is a group of customers that share the same customer qualities, such as acquisition channel, registration of app, first purchase date. Retention lowers in percentage across periods because customers churn over time. And there are less customers at the beginning of a cohort because takes time for customers to grow in a certain cohort group. In the below analysis, we break up groups based on order date."
   ]
  },
  {
   "cell_type": "code",
   "execution_count": 21,
   "id": "9eb6905b",
   "metadata": {
    "execution": {
     "iopub.execute_input": "2022-11-08T01:38:05.663565Z",
     "iopub.status.busy": "2022-11-08T01:38:05.663103Z",
     "iopub.status.idle": "2022-11-08T01:38:07.174496Z",
     "shell.execute_reply": "2022-11-08T01:38:07.173201Z"
    },
    "papermill": {
     "duration": 1.530462,
     "end_time": "2022-11-08T01:38:07.177152",
     "exception": false,
     "start_time": "2022-11-08T01:38:05.646690",
     "status": "completed"
    },
    "tags": []
   },
   "outputs": [
    {
     "data": {
      "image/png": "[encoded data removed]",
      "text/plain": [
       "<Figure size 864x576 with 2 Axes>"
      ]
     },
     "metadata": {},
     "output_type": "display_data"
    }
   ],
   "source": [
    "def CohortAnalysis(dataframe):\n",
    "    \n",
    "    data = dataframe.copy()\n",
    "    data = data[['CustomerID', 'InvoiceNo', 'InvoiceDate']].drop_duplicates()\n",
    "    data['order_month'] = data['InvoiceDate'].dt.to_period('M')\n",
    "    data['cohort'] = data.groupby('CustomerID')['InvoiceDate']\\\n",
    "    .transform('min').dt.to_period('M')\n",
    "    cohort_data = data.groupby(['cohort', 'order_month'])\\\n",
    "    .agg(n_customers=('CustomerID', 'nunique')).reset_index(drop=False)\n",
    "    cohort_data['period_number'] = (cohort_data.order_month - cohort_data.cohort)\\\n",
    "    .apply(attrgetter('n'))\n",
    "    cohort_pivot = cohort_data.pivot_table(index = 'cohort',\n",
    "                                           columns = 'period_number',\n",
    "                                           values = 'n_customers')\n",
    "    cohort_size = cohort_pivot.iloc[:,0]\n",
    "    retention_matrix = cohort_pivot.divide(cohort_size, axis = 0)\n",
    "    with sns.axes_style(\"white\"):\n",
    "        fig, ax = plt.subplots(1, 2, figsize=(12, 8),\n",
    "                        sharey=True,\n",
    "                        gridspec_kw={'width_ratios': [1, 11]})\n",
    "        sns.heatmap(retention_matrix, \n",
    "                    mask = retention_matrix.isnull(), \n",
    "                    annot = True,\n",
    "                    cbar = False,\n",
    "                    fmt='.0%', \n",
    "                    cmap='coolwarm', ax=ax[1])\n",
    "        ax[1].set_title('Monthly Cohorts: User Retention', fontsize=14)\n",
    "        ax[1].set(xlabel='# of periods',\n",
    "                  ylabel='')\n",
    "        white_cmap = mcolors.ListedColormap(['white'])\n",
    "        sns.heatmap(pd.DataFrame(cohort_size).rename(columns={0: 'cohort_size'}), \n",
    "                    annot=True, \n",
    "                    cbar = False,\n",
    "                    fmt='g',\n",
    "                    cmap=white_cmap,\n",
    "                    ax=ax[0])\n",
    "        fig.tight_layout()\n",
    "    \n",
    "CohortAnalysis(df)"
   ]
  },
  {
   "cell_type": "markdown",
   "id": "4a0d7ca7",
   "metadata": {
    "papermill": {
     "duration": 0.016781,
     "end_time": "2022-11-08T01:38:07.211302",
     "exception": false,
     "start_time": "2022-11-08T01:38:07.194521",
     "status": "completed"
    },
    "tags": []
   },
   "source": [
    "The ideal type of cohort analysis is based on broader scope of event data where there are more qualities to describe a customer and therefore have more distinct groups. "
   ]
  },
  {
   "cell_type": "markdown",
   "id": "07b2b26d",
   "metadata": {
    "papermill": {
     "duration": 0.016135,
     "end_time": "2022-11-08T01:38:07.244217",
     "exception": false,
     "start_time": "2022-11-08T01:38:07.228082",
     "status": "completed"
    },
    "tags": []
   },
   "source": [
    "# Customer Lifetime Value\n",
    "The amount of revenue a customer will bring during its lifetime as a customer."
   ]
  },
  {
   "cell_type": "code",
   "execution_count": 22,
   "id": "7080c0df",
   "metadata": {
    "execution": {
     "iopub.execute_input": "2022-11-08T01:38:07.279600Z",
     "iopub.status.busy": "2022-11-08T01:38:07.278866Z",
     "iopub.status.idle": "2022-11-08T01:38:08.712778Z",
     "shell.execute_reply": "2022-11-08T01:38:08.711574Z"
    },
    "papermill": {
     "duration": 1.454401,
     "end_time": "2022-11-08T01:38:08.715268",
     "exception": false,
     "start_time": "2022-11-08T01:38:07.260867",
     "status": "completed"
    },
    "tags": []
   },
   "outputs": [
    {
     "data": {
      "text/html": [
       "<div>\n",
       "<style scoped>\n",
       "    .dataframe tbody tr th:only-of-type {\n",
       "        vertical-align: middle;\n",
       "    }\n",
       "\n",
       "    .dataframe tbody tr th {\n",
       "        vertical-align: top;\n",
       "    }\n",
       "\n",
       "    .dataframe thead th {\n",
       "        text-align: right;\n",
       "    }\n",
       "</style>\n",
       "<table border=\"1\" class=\"dataframe\">\n",
       "  <thead>\n",
       "    <tr style=\"text-align: right;\">\n",
       "      <th></th>\n",
       "      <th>recency</th>\n",
       "      <th>T</th>\n",
       "      <th>frequency</th>\n",
       "      <th>monetary</th>\n",
       "    </tr>\n",
       "    <tr>\n",
       "      <th>CustomerID</th>\n",
       "      <th></th>\n",
       "      <th></th>\n",
       "      <th></th>\n",
       "      <th></th>\n",
       "    </tr>\n",
       "  </thead>\n",
       "  <tbody>\n",
       "    <tr>\n",
       "      <th>12346</th>\n",
       "      <td>0</td>\n",
       "      <td>326</td>\n",
       "      <td>1</td>\n",
       "      <td>310.44</td>\n",
       "    </tr>\n",
       "    <tr>\n",
       "      <th>12347</th>\n",
       "      <td>365</td>\n",
       "      <td>368</td>\n",
       "      <td>7</td>\n",
       "      <td>4310.00</td>\n",
       "    </tr>\n",
       "    <tr>\n",
       "      <th>12348</th>\n",
       "      <td>282</td>\n",
       "      <td>359</td>\n",
       "      <td>4</td>\n",
       "      <td>1770.78</td>\n",
       "    </tr>\n",
       "    <tr>\n",
       "      <th>12349</th>\n",
       "      <td>0</td>\n",
       "      <td>19</td>\n",
       "      <td>1</td>\n",
       "      <td>1491.72</td>\n",
       "    </tr>\n",
       "    <tr>\n",
       "      <th>12350</th>\n",
       "      <td>0</td>\n",
       "      <td>311</td>\n",
       "      <td>1</td>\n",
       "      <td>331.46</td>\n",
       "    </tr>\n",
       "  </tbody>\n",
       "</table>\n",
       "</div>"
      ],
      "text/plain": [
       "            recency    T  frequency  monetary\n",
       "CustomerID                                   \n",
       "12346             0  326          1    310.44\n",
       "12347           365  368          7   4310.00\n",
       "12348           282  359          4   1770.78\n",
       "12349             0   19          1   1491.72\n",
       "12350             0  311          1    331.46"
      ]
     },
     "execution_count": 22,
     "metadata": {},
     "output_type": "execute_result"
    }
   ],
   "source": [
    "cltv_df = df.groupby('CustomerID').agg({'InvoiceDate': [lambda x: (x.max() - x.min()).days,\n",
    "                                                        lambda x: (today_date - x.min()).days], \n",
    "                                        'InvoiceNo': 'nunique',\n",
    "                                        'TotalPrice': 'sum'})\n",
    "\n",
    "cltv_df.columns = cltv_df.columns.droplevel(0)\n",
    "cltv_df.columns = ['recency', 'T', 'frequency', 'monetary']\n",
    "cltv_df.head()"
   ]
  },
  {
   "cell_type": "code",
   "execution_count": 23,
   "id": "cd24a18a",
   "metadata": {
    "execution": {
     "iopub.execute_input": "2022-11-08T01:38:08.750430Z",
     "iopub.status.busy": "2022-11-08T01:38:08.749293Z",
     "iopub.status.idle": "2022-11-08T01:38:08.758897Z",
     "shell.execute_reply": "2022-11-08T01:38:08.757746Z"
    },
    "papermill": {
     "duration": 0.029846,
     "end_time": "2022-11-08T01:38:08.761341",
     "exception": false,
     "start_time": "2022-11-08T01:38:08.731495",
     "status": "completed"
    },
    "tags": []
   },
   "outputs": [],
   "source": [
    "#Average Order Value\n",
    "cltv_df[\"monetary\"] = cltv_df[\"monetary\"] / cltv_df[\"frequency\"]\n",
    "\n",
    "#Recency & Tenure\n",
    "cltv_df[\"recency\"] = cltv_df[\"recency\"] / 7\n",
    "cltv_df[\"T\"] = cltv_df[\"T\"] / 7\n",
    "\n",
    "#Frequency\n",
    "cltv_df = cltv_df[(cltv_df['frequency'] > 1)]"
   ]
  },
  {
   "cell_type": "markdown",
   "id": "ce00833f",
   "metadata": {
    "papermill": {
     "duration": 0.015955,
     "end_time": "2022-11-08T01:38:08.793391",
     "exception": false,
     "start_time": "2022-11-08T01:38:08.777436",
     "status": "completed"
    },
    "tags": []
   },
   "source": [
    "# Beta Geometric / Negative Binomial Distribution (BG/NBD) Model\n",
    "\n",
    "Beta Geometric / Negative Binomial Distribution models assume that the number of transactions made by each customer follows a Poisson process with a heterogeneity in transaction rates across customers following a gamma distribution. These assumptions give us a Negative binomial distribution (NBD) for modeling the number of transactions made by the customer while he is alive. We can build BG/NBD model by using BetaGeoFitter and lifetimes packages."
   ]
  },
  {
   "cell_type": "code",
   "execution_count": 24,
   "id": "baf0d866",
   "metadata": {
    "execution": {
     "iopub.execute_input": "2022-11-08T01:38:08.827964Z",
     "iopub.status.busy": "2022-11-08T01:38:08.827285Z",
     "iopub.status.idle": "2022-11-08T01:38:08.964948Z",
     "shell.execute_reply": "2022-11-08T01:38:08.963407Z"
    },
    "papermill": {
     "duration": 0.159202,
     "end_time": "2022-11-08T01:38:08.968803",
     "exception": false,
     "start_time": "2022-11-08T01:38:08.809601",
     "status": "completed"
    },
    "tags": []
   },
   "outputs": [
    {
     "data": {
      "text/plain": [
       "<lifetimes.BetaGeoFitter: fitted with 2845 subjects, a: 0.12, alpha: 11.40, b: 2.49, r: 2.18>"
      ]
     },
     "execution_count": 24,
     "metadata": {},
     "output_type": "execute_result"
    }
   ],
   "source": [
    "BGF = BetaGeoFitter(penalizer_coef = 0.001) #avoid overfitting\n",
    "\n",
    "BGF.fit(cltv_df['frequency'],\n",
    "        cltv_df['recency'],\n",
    "        cltv_df['T'])"
   ]
  },
  {
   "cell_type": "markdown",
   "id": "04f2d580",
   "metadata": {
    "papermill": {
     "duration": 0.047571,
     "end_time": "2022-11-08T01:38:09.049436",
     "exception": false,
     "start_time": "2022-11-08T01:38:09.001865",
     "status": "completed"
    },
    "tags": []
   },
   "source": [
    "# Top 10 Expected Number of Transaction (1 Week)"
   ]
  },
  {
   "cell_type": "code",
   "execution_count": 25,
   "id": "d5c8c2dd",
   "metadata": {
    "execution": {
     "iopub.execute_input": "2022-11-08T01:38:09.111900Z",
     "iopub.status.busy": "2022-11-08T01:38:09.111455Z",
     "iopub.status.idle": "2022-11-08T01:38:09.137520Z",
     "shell.execute_reply": "2022-11-08T01:38:09.136008Z"
    },
    "papermill": {
     "duration": 0.054061,
     "end_time": "2022-11-08T01:38:09.140212",
     "exception": false,
     "start_time": "2022-11-08T01:38:09.086151",
     "status": "completed"
    },
    "tags": []
   },
   "outputs": [
    {
     "data": {
      "text/html": [
       "<div>\n",
       "<style scoped>\n",
       "    .dataframe tbody tr th:only-of-type {\n",
       "        vertical-align: middle;\n",
       "    }\n",
       "\n",
       "    .dataframe tbody tr th {\n",
       "        vertical-align: top;\n",
       "    }\n",
       "\n",
       "    .dataframe thead th {\n",
       "        text-align: right;\n",
       "    }\n",
       "</style>\n",
       "<table border=\"1\" class=\"dataframe\">\n",
       "  <thead>\n",
       "    <tr style=\"text-align: right;\">\n",
       "      <th></th>\n",
       "      <th>CustomerID</th>\n",
       "      <th>Expected Number of Transactions</th>\n",
       "    </tr>\n",
       "  </thead>\n",
       "  <tbody>\n",
       "    <tr>\n",
       "      <th>0</th>\n",
       "      <td>12748</td>\n",
       "      <td>3.265158</td>\n",
       "    </tr>\n",
       "    <tr>\n",
       "      <th>1</th>\n",
       "      <td>14911</td>\n",
       "      <td>3.126645</td>\n",
       "    </tr>\n",
       "    <tr>\n",
       "      <th>2</th>\n",
       "      <td>17841</td>\n",
       "      <td>1.940290</td>\n",
       "    </tr>\n",
       "    <tr>\n",
       "      <th>3</th>\n",
       "      <td>13089</td>\n",
       "      <td>1.537528</td>\n",
       "    </tr>\n",
       "    <tr>\n",
       "      <th>4</th>\n",
       "      <td>14606</td>\n",
       "      <td>1.463999</td>\n",
       "    </tr>\n",
       "    <tr>\n",
       "      <th>5</th>\n",
       "      <td>15311</td>\n",
       "      <td>1.433717</td>\n",
       "    </tr>\n",
       "    <tr>\n",
       "      <th>6</th>\n",
       "      <td>12971</td>\n",
       "      <td>1.357024</td>\n",
       "    </tr>\n",
       "    <tr>\n",
       "      <th>7</th>\n",
       "      <td>14646</td>\n",
       "      <td>1.222517</td>\n",
       "    </tr>\n",
       "    <tr>\n",
       "      <th>8</th>\n",
       "      <td>13408</td>\n",
       "      <td>0.986249</td>\n",
       "    </tr>\n",
       "    <tr>\n",
       "      <th>9</th>\n",
       "      <td>18102</td>\n",
       "      <td>0.968607</td>\n",
       "    </tr>\n",
       "  </tbody>\n",
       "</table>\n",
       "</div>"
      ],
      "text/plain": [
       "  CustomerID  Expected Number of Transactions\n",
       "0      12748                         3.265158\n",
       "1      14911                         3.126645\n",
       "2      17841                         1.940290\n",
       "3      13089                         1.537528\n",
       "4      14606                         1.463999\n",
       "5      15311                         1.433717\n",
       "6      12971                         1.357024\n",
       "7      14646                         1.222517\n",
       "8      13408                         0.986249\n",
       "9      18102                         0.968607"
      ]
     },
     "execution_count": 25,
     "metadata": {},
     "output_type": "execute_result"
    }
   ],
   "source": [
    "BGF.conditional_expected_number_of_purchases_up_to_time(1,\n",
    "                                                        cltv_df['frequency'],\n",
    "                                                        cltv_df['recency'],\n",
    "                                                        cltv_df['T']\n",
    "                                                       ).sort_values(ascending = False)\\\n",
    ".head(10)\\\n",
    ".to_frame('Expected Number of Transactions')\\\n",
    ".reset_index() "
   ]
  },
  {
   "cell_type": "markdown",
   "id": "1e508ae6",
   "metadata": {
    "papermill": {
     "duration": 0.017103,
     "end_time": "2022-11-08T01:38:09.174663",
     "exception": false,
     "start_time": "2022-11-08T01:38:09.157560",
     "status": "completed"
    },
    "tags": []
   },
   "source": [
    "# Top 10 Expected Number of Transaction (1 Month)"
   ]
  },
  {
   "cell_type": "code",
   "execution_count": 26,
   "id": "eb8fe90f",
   "metadata": {
    "execution": {
     "iopub.execute_input": "2022-11-08T01:38:09.210563Z",
     "iopub.status.busy": "2022-11-08T01:38:09.209770Z",
     "iopub.status.idle": "2022-11-08T01:38:09.231662Z",
     "shell.execute_reply": "2022-11-08T01:38:09.230460Z"
    },
    "papermill": {
     "duration": 0.042733,
     "end_time": "2022-11-08T01:38:09.234212",
     "exception": false,
     "start_time": "2022-11-08T01:38:09.191479",
     "status": "completed"
    },
    "tags": []
   },
   "outputs": [
    {
     "data": {
      "text/html": [
       "<div>\n",
       "<style scoped>\n",
       "    .dataframe tbody tr th:only-of-type {\n",
       "        vertical-align: middle;\n",
       "    }\n",
       "\n",
       "    .dataframe tbody tr th {\n",
       "        vertical-align: top;\n",
       "    }\n",
       "\n",
       "    .dataframe thead th {\n",
       "        text-align: right;\n",
       "    }\n",
       "</style>\n",
       "<table border=\"1\" class=\"dataframe\">\n",
       "  <thead>\n",
       "    <tr style=\"text-align: right;\">\n",
       "      <th></th>\n",
       "      <th>CustomerID</th>\n",
       "      <th>Expected Number of Transactions</th>\n",
       "    </tr>\n",
       "  </thead>\n",
       "  <tbody>\n",
       "    <tr>\n",
       "      <th>0</th>\n",
       "      <td>12748</td>\n",
       "      <td>13.025670</td>\n",
       "    </tr>\n",
       "    <tr>\n",
       "      <th>1</th>\n",
       "      <td>14911</td>\n",
       "      <td>12.473095</td>\n",
       "    </tr>\n",
       "    <tr>\n",
       "      <th>2</th>\n",
       "      <td>17841</td>\n",
       "      <td>7.740345</td>\n",
       "    </tr>\n",
       "    <tr>\n",
       "      <th>3</th>\n",
       "      <td>13089</td>\n",
       "      <td>6.133456</td>\n",
       "    </tr>\n",
       "    <tr>\n",
       "      <th>4</th>\n",
       "      <td>14606</td>\n",
       "      <td>5.840269</td>\n",
       "    </tr>\n",
       "    <tr>\n",
       "      <th>5</th>\n",
       "      <td>15311</td>\n",
       "      <td>5.719467</td>\n",
       "    </tr>\n",
       "    <tr>\n",
       "      <th>6</th>\n",
       "      <td>12971</td>\n",
       "      <td>5.413481</td>\n",
       "    </tr>\n",
       "    <tr>\n",
       "      <th>7</th>\n",
       "      <td>14646</td>\n",
       "      <td>4.876360</td>\n",
       "    </tr>\n",
       "    <tr>\n",
       "      <th>8</th>\n",
       "      <td>13408</td>\n",
       "      <td>3.934373</td>\n",
       "    </tr>\n",
       "    <tr>\n",
       "      <th>9</th>\n",
       "      <td>18102</td>\n",
       "      <td>3.863856</td>\n",
       "    </tr>\n",
       "  </tbody>\n",
       "</table>\n",
       "</div>"
      ],
      "text/plain": [
       "  CustomerID  Expected Number of Transactions\n",
       "0      12748                        13.025670\n",
       "1      14911                        12.473095\n",
       "2      17841                         7.740345\n",
       "3      13089                         6.133456\n",
       "4      14606                         5.840269\n",
       "5      15311                         5.719467\n",
       "6      12971                         5.413481\n",
       "7      14646                         4.876360\n",
       "8      13408                         3.934373\n",
       "9      18102                         3.863856"
      ]
     },
     "execution_count": 26,
     "metadata": {},
     "output_type": "execute_result"
    }
   ],
   "source": [
    "BGF.conditional_expected_number_of_purchases_up_to_time(4,\n",
    "                                                        cltv_df['frequency'],\n",
    "                                                        cltv_df['recency'],\n",
    "                                                        cltv_df['T']\n",
    "                                                       ).sort_values(ascending = False)\\\n",
    ".head(10)\\\n",
    ".to_frame('Expected Number of Transactions')\\\n",
    ".reset_index()"
   ]
  },
  {
   "cell_type": "code",
   "execution_count": null,
   "id": "d253c3d6",
   "metadata": {
    "papermill": {
     "duration": 0.016525,
     "end_time": "2022-11-08T01:38:09.267792",
     "exception": false,
     "start_time": "2022-11-08T01:38:09.251267",
     "status": "completed"
    },
    "tags": []
   },
   "outputs": [],
   "source": []
  }
 ],
 "metadata": {
  "kernelspec": {
   "display_name": "Python 3",
   "language": "python",
   "name": "python3"
  },
  "language_info": {
   "codemirror_mode": {
    "name": "ipython",
    "version": 3
   },
   "file_extension": ".py",
   "mimetype": "text/x-python",
   "name": "python",
   "nbconvert_exporter": "python",
   "pygments_lexer": "ipython3",
   "version": "3.7.12"
  },
  "papermill": {
   "default_parameters": {},
   "duration": 34.35629,
   "end_time": "2022-11-08T01:38:10.207258",
   "environment_variables": {},
   "exception": null,
   "input_path": "__notebook__.ipynb",
   "output_path": "__notebook__.ipynb",
   "parameters": {},
   "start_time": "2022-11-08T01:37:35.850968",
   "version": "2.3.4"
  }
 },
 "nbformat": 4,
 "nbformat_minor": 5
}
