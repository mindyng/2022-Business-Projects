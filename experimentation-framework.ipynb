{
 "cells": [
  {
   "cell_type": "markdown",
   "id": "c5225d5e",
   "metadata": {
    "papermill": {
     "duration": 0.008456,
     "end_time": "2024-02-19T21:35:52.121407",
     "exception": false,
     "start_time": "2024-02-19T21:35:52.112951",
     "status": "completed"
    },
    "tags": []
   },
   "source": [
    "# A/B Testing"
   ]
  },
  {
   "cell_type": "markdown",
   "id": "be84f2e8",
   "metadata": {
    "papermill": {
     "duration": 0.007565,
     "end_time": "2024-02-19T21:35:52.137026",
     "exception": false,
     "start_time": "2024-02-19T21:35:52.129461",
     "status": "completed"
    },
    "tags": []
   },
   "source": [
    "## Objective: \n",
    "\n",
    "Many product-focused companies rely on quick user feedback on experimental product changes to remain relevant and to maintain a moat with their competitors. In order to get that feedback quickly in a cost-effective way, an experiment is performed on a sample of the whole population/user base. \n",
    "\n",
    "A test is designed to measure performance of the current state of the product and an alternative state of the product to see if a change in the product would be beneficial to users or not.\n",
    "\n",
    "This notebook will cover the process of analyzing an A/B test from formulating the hypothesis, testing it, all the way to interpreting the results."
   ]
  },
  {
   "cell_type": "markdown",
   "id": "474f8dfe",
   "metadata": {
    "papermill": {
     "duration": 0.007427,
     "end_time": "2024-02-19T21:35:52.152168",
     "exception": false,
     "start_time": "2024-02-19T21:35:52.144741",
     "status": "completed"
    },
    "tags": []
   },
   "source": [
    "## Scenario\n",
    "\n",
    "Currently embedded in Product team at medium-sized online e-commerce business. The UX designer worked really hard on a new version of the product page, with the hope that it will lead to a higher conversion rate. The product manager (PM) told you that the current conversion rate is about 13% on average throughout the year, and that the team would be happy with an increase of 2%, meaning that the new design will be considered a success if it raises the conversion rate to 15%.\n",
    "\n",
    "Before rolling out the change, team would be more comfortable testing it on a small number of users to see how it performs. So I suggest running an A/B test on a subset of the user base."
   ]
  },
  {
   "cell_type": "markdown",
   "id": "c1c9b9fb",
   "metadata": {
    "papermill": {
     "duration": 0.007543,
     "end_time": "2024-02-19T21:35:52.167618",
     "exception": false,
     "start_time": "2024-02-19T21:35:52.160075",
     "status": "completed"
    },
    "tags": []
   },
   "source": [
    "## Data\n",
    "\n",
    "Kaggle dataset which contains A/B test results from 2 different website page designs (default/new)"
   ]
  },
  {
   "cell_type": "markdown",
   "id": "ab566795",
   "metadata": {
    "papermill": {
     "duration": 0.00755,
     "end_time": "2024-02-19T21:35:52.184209",
     "exception": false,
     "start_time": "2024-02-19T21:35:52.176659",
     "status": "completed"
    },
    "tags": []
   },
   "source": [
    "## 1. Designing Experiment"
   ]
  },
  {
   "cell_type": "markdown",
   "id": "8b78ef1e",
   "metadata": {
    "execution": {
     "iopub.execute_input": "2022-12-23T00:02:52.712648Z",
     "iopub.status.busy": "2022-12-23T00:02:52.712199Z",
     "iopub.status.idle": "2022-12-23T00:02:52.719260Z",
     "shell.execute_reply": "2022-12-23T00:02:52.718094Z",
     "shell.execute_reply.started": "2022-12-23T00:02:52.712614Z"
    },
    "papermill": {
     "duration": 0.007509,
     "end_time": "2024-02-19T21:35:52.199602",
     "exception": false,
     "start_time": "2024-02-19T21:35:52.192093",
     "status": "completed"
    },
    "tags": []
   },
   "source": [
    "### Formulating Hypothesis\n",
    "\n",
    "* Make sure to formulate at start of experiment. This is so:\n",
    "\n",
    "    * test is rigorous\n",
    "    * results are sound\n",
    "    \n",
    "* not sure if new feature will be worse or better so will have two-tailed test:\n",
    "\n",
    "$$H_0: p = p_0$$\n",
    "$$H_a: p \\neq p_0$$\n",
    "\n",
    "where $p$ and $p_0$ stand for the conversion rate of the new and old design\n",
    "\n",
    "* setting 95% Confidence Interval:\n",
    "\n",
    "$$\\alpha = 0.05$$\n",
    "\n",
    "$\\alpha$ is threshold we set as our risk tolerance for maximum probability of incorrectly rejecting $H_0$\n",
    "Another way of defining it is: \"if the probability of observing a result as extreme or more ($p$-value) is lower than $\\alpha$, then we reject the null hypothesis\"\n",
    "\n",
    "Since our $\\alpha$ = 0.05 (indicating 5% probability), our confidence (1 - $\\alpha$) = 95%\n",
    "\n",
    "In simpler terms, what this means is that we want to be 95% confident that new product feature's conversion rate is statistically significant before we reject $H_0$."
   ]
  },
  {
   "cell_type": "markdown",
   "id": "d675cc00",
   "metadata": {
    "papermill": {
     "duration": 0.007504,
     "end_time": "2024-02-19T21:35:52.214981",
     "exception": false,
     "start_time": "2024-02-19T21:35:52.207477",
     "status": "completed"
    },
    "tags": []
   },
   "source": [
    "### Choosing Variables"
   ]
  },
  {
   "cell_type": "markdown",
   "id": "3dcadc52",
   "metadata": {
    "papermill": {
     "duration": 0.008071,
     "end_time": "2024-02-19T21:35:52.230926",
     "exception": false,
     "start_time": "2024-02-19T21:35:52.222855",
     "status": "completed"
    },
    "tags": []
   },
   "source": [
    "For the test, we'll need two groups:\n",
    "* `control` - shown current design\n",
    "* `test` - shown experimental design\n",
    "\n",
    "The test groups will be our _Independent Variable_. Despite knowing baseline conversion rate, we have two groups because we want to control for other variables that could have an effect on our results, such as seasonality. By having a `control` group, we can directly compare their results to the `treatment` group. The only systematic difference between the groups would be the product page's design. So we can attribute any differences in results to that.\n",
    "\n",
    "Our _Dependent Variable_ aka what we are measuring in each group and interested in capturing is the `conversion rate`. The way we will be defined in the data is with a binary variable:\n",
    "\n",
    "* `0` - The user did not buy the product during a session\n",
    "* `1` - The user did buy the product during a session\n",
    "\n",
    "Conversion rate mean can then be calculated per group/design."
   ]
  },
  {
   "cell_type": "markdown",
   "id": "64fa90fb",
   "metadata": {
    "papermill": {
     "duration": 0.007403,
     "end_time": "2024-02-19T21:35:52.246303",
     "exception": false,
     "start_time": "2024-02-19T21:35:52.238900",
     "status": "completed"
    },
    "tags": []
   },
   "source": [
    "### Choosing the Sample Size\n",
    "\n",
    "Due to the monetary and time costs associated with testing the whole user base/population, we take a sample and measure conversion rates. Thus, measurements will only be _estimates_ of the true rates.\n",
    "\n",
    "Number of people/user sessions we decide to capture in each group will directly affect the precision of our estimated conversion rates: larger the sample size, more precise the estimates (i.e. smaller our confidence intervals), higher the chance to detect difference, if present, in two groups.\n",
    "\n",
    "At the same time, larger the sample size, more expensive and impractical the study becomes.\n",
    "\n",
    "_Thus, how many people do we need to have in each group?_\n",
    "\n",
    "Turns out that the sample size we need is determined by a _Power Analysis_. It depends on a few factors:\n",
    "\n",
    "* Power of the test () - This represents the probability of finding a statistical difference between the groups in our test when a difference is actually present. This is usually set at 0.8 as a convention (here's more info on [statistical power](https://en.wikipedia.org/wiki/Power_of_a_test), if you are curious)\n",
    "* Alpha value () - The critical value we set earlier to 0.05\n",
    "* Effect size - How big of a difference we expect there to be between the conversion rates\n",
    "\n",
    "Team would be happy with 2% lift. So we will use 13% and 15% to calculate the effect size."
   ]
  },
  {
   "cell_type": "code",
   "execution_count": 1,
   "id": "a87f7471",
   "metadata": {
    "execution": {
     "iopub.execute_input": "2024-02-19T21:35:52.265110Z",
     "iopub.status.busy": "2024-02-19T21:35:52.264200Z",
     "iopub.status.idle": "2024-02-19T21:35:53.553838Z",
     "shell.execute_reply": "2024-02-19T21:35:53.552514Z"
    },
    "papermill": {
     "duration": 1.302276,
     "end_time": "2024-02-19T21:35:53.556510",
     "exception": false,
     "start_time": "2024-02-19T21:35:52.254234",
     "status": "completed"
    },
    "tags": []
   },
   "outputs": [],
   "source": [
    "# Packages imports\n",
    "import numpy as np\n",
    "import pandas as pd\n",
    "import scipy.stats as stats\n",
    "import statsmodels.stats.api as sms\n",
    "import matplotlib as mpl\n",
    "import matplotlib.pyplot as plt\n",
    "import seaborn as sns\n",
    "from math import ceil\n",
    "\n",
    "%matplotlib inline\n",
    "\n",
    "# Some plot styling preferences\n",
    "plt.style.use('seaborn-whitegrid')\n",
    "font = {'family' : 'Helvetica',\n",
    "        'weight' : 'bold',\n",
    "        'size'   : 14}\n",
    "\n",
    "mpl.rc('font', **font)"
   ]
  },
  {
   "cell_type": "code",
   "execution_count": 2,
   "id": "5caf1169",
   "metadata": {
    "execution": {
     "iopub.execute_input": "2024-02-19T21:35:53.573731Z",
     "iopub.status.busy": "2024-02-19T21:35:53.573383Z",
     "iopub.status.idle": "2024-02-19T21:35:53.590564Z",
     "shell.execute_reply": "2024-02-19T21:35:53.589637Z"
    },
    "papermill": {
     "duration": 0.028347,
     "end_time": "2024-02-19T21:35:53.592638",
     "exception": false,
     "start_time": "2024-02-19T21:35:53.564291",
     "status": "completed"
    },
    "tags": []
   },
   "outputs": [
    {
     "name": "stdout",
     "output_type": "stream",
     "text": [
      "4720\n"
     ]
    }
   ],
   "source": [
    "effect_size = sms.proportion_effectsize(0.13, 0.15)    # Calculating effect size based on our expected rates\n",
    "\n",
    "required_n = sms.NormalIndPower().solve_power(\n",
    "    effect_size, \n",
    "    power=0.8, \n",
    "    alpha=0.05, \n",
    "    ratio=1\n",
    "    )                                                  # Calculating sample size needed\n",
    "\n",
    "required_n = ceil(required_n)                          # Rounding up to next whole number                          \n",
    "\n",
    "print(required_n)"
   ]
  },
  {
   "cell_type": "markdown",
   "id": "dc93916e",
   "metadata": {
    "papermill": {
     "duration": 0.007576,
     "end_time": "2024-02-19T21:35:53.608598",
     "exception": false,
     "start_time": "2024-02-19T21:35:53.601022",
     "status": "completed"
    },
    "tags": []
   },
   "source": [
    "Based on the above calculation, looks like we will need at minimum **4720** observations in each group.\n",
    "\n",
    "And having set the `power` parameter to 0.80 in practice means that if there exists an actual difference in conversion rate between our designs, assuming difference is going to be one estimated (2% lift), we have approximately 80% chance to detect it as statistically significant in our test with the sample size we calculated. "
   ]
  },
  {
   "cell_type": "markdown",
   "id": "72271a38",
   "metadata": {
    "execution": {
     "iopub.execute_input": "2022-12-23T05:06:06.741588Z",
     "iopub.status.busy": "2022-12-23T05:06:06.741081Z",
     "iopub.status.idle": "2022-12-23T05:06:06.747565Z",
     "shell.execute_reply": "2022-12-23T05:06:06.746249Z",
     "shell.execute_reply.started": "2022-12-23T05:06:06.741547Z"
    },
    "papermill": {
     "duration": 0.007568,
     "end_time": "2024-02-19T21:35:53.624076",
     "exception": false,
     "start_time": "2024-02-19T21:35:53.616508",
     "status": "completed"
    },
    "tags": []
   },
   "source": [
    "## 2. Collecting and Preparing the Data"
   ]
  },
  {
   "cell_type": "markdown",
   "id": "36ea1c8f",
   "metadata": {
    "papermill": {
     "duration": 0.007756,
     "end_time": "2024-02-19T21:35:53.639931",
     "exception": false,
     "start_time": "2024-02-19T21:35:53.632175",
     "status": "completed"
    },
    "tags": []
   },
   "source": [
    "Usually at this point, you would work with your team to set up the experiment, likely with the help of the Engineering team. Or if your company has A/B test tooling like Launch Darkly or Optimizely, you can just have the PM set up the flags and you wait for the numbers to come in.\n",
    "\n",
    "For now, we'll use our Kaggle sample dataset, perform any necessary pre-processing and randomly select our 4720 users/sessions."
   ]
  },
  {
   "cell_type": "code",
   "execution_count": 3,
   "id": "ed0aadd3",
   "metadata": {
    "execution": {
     "iopub.execute_input": "2024-02-19T21:35:53.657665Z",
     "iopub.status.busy": "2024-02-19T21:35:53.657291Z",
     "iopub.status.idle": "2024-02-19T21:35:54.108332Z",
     "shell.execute_reply": "2024-02-19T21:35:54.107155Z"
    },
    "papermill": {
     "duration": 0.463436,
     "end_time": "2024-02-19T21:35:54.111437",
     "exception": false,
     "start_time": "2024-02-19T21:35:53.648001",
     "status": "completed"
    },
    "tags": []
   },
   "outputs": [
    {
     "data": {
      "text/html": [
       "<div>\n",
       "<style scoped>\n",
       "    .dataframe tbody tr th:only-of-type {\n",
       "        vertical-align: middle;\n",
       "    }\n",
       "\n",
       "    .dataframe tbody tr th {\n",
       "        vertical-align: top;\n",
       "    }\n",
       "\n",
       "    .dataframe thead th {\n",
       "        text-align: right;\n",
       "    }\n",
       "</style>\n",
       "<table border=\"1\" class=\"dataframe\">\n",
       "  <thead>\n",
       "    <tr style=\"text-align: right;\">\n",
       "      <th></th>\n",
       "      <th>user_id</th>\n",
       "      <th>timestamp</th>\n",
       "      <th>group</th>\n",
       "      <th>landing_page</th>\n",
       "      <th>converted</th>\n",
       "    </tr>\n",
       "  </thead>\n",
       "  <tbody>\n",
       "    <tr>\n",
       "      <th>0</th>\n",
       "      <td>851104</td>\n",
       "      <td>2017-01-21 22:11:48.556739</td>\n",
       "      <td>control</td>\n",
       "      <td>old_page</td>\n",
       "      <td>0</td>\n",
       "    </tr>\n",
       "    <tr>\n",
       "      <th>1</th>\n",
       "      <td>804228</td>\n",
       "      <td>2017-01-12 08:01:45.159739</td>\n",
       "      <td>control</td>\n",
       "      <td>old_page</td>\n",
       "      <td>0</td>\n",
       "    </tr>\n",
       "    <tr>\n",
       "      <th>2</th>\n",
       "      <td>661590</td>\n",
       "      <td>2017-01-11 16:55:06.154213</td>\n",
       "      <td>treatment</td>\n",
       "      <td>new_page</td>\n",
       "      <td>0</td>\n",
       "    </tr>\n",
       "    <tr>\n",
       "      <th>3</th>\n",
       "      <td>853541</td>\n",
       "      <td>2017-01-08 18:28:03.143765</td>\n",
       "      <td>treatment</td>\n",
       "      <td>new_page</td>\n",
       "      <td>0</td>\n",
       "    </tr>\n",
       "    <tr>\n",
       "      <th>4</th>\n",
       "      <td>864975</td>\n",
       "      <td>2017-01-21 01:52:26.210827</td>\n",
       "      <td>control</td>\n",
       "      <td>old_page</td>\n",
       "      <td>1</td>\n",
       "    </tr>\n",
       "  </tbody>\n",
       "</table>\n",
       "</div>"
      ],
      "text/plain": [
       "   user_id                   timestamp      group landing_page  converted\n",
       "0   851104  2017-01-21 22:11:48.556739    control     old_page          0\n",
       "1   804228  2017-01-12 08:01:45.159739    control     old_page          0\n",
       "2   661590  2017-01-11 16:55:06.154213  treatment     new_page          0\n",
       "3   853541  2017-01-08 18:28:03.143765  treatment     new_page          0\n",
       "4   864975  2017-01-21 01:52:26.210827    control     old_page          1"
      ]
     },
     "execution_count": 3,
     "metadata": {},
     "output_type": "execute_result"
    }
   ],
   "source": [
    "df = pd.read_csv('/kaggle/input/ab-testing/ab_data.csv')\n",
    "df.head()"
   ]
  },
  {
   "cell_type": "code",
   "execution_count": 4,
   "id": "d99757d6",
   "metadata": {
    "execution": {
     "iopub.execute_input": "2024-02-19T21:35:54.129270Z",
     "iopub.status.busy": "2024-02-19T21:35:54.128930Z",
     "iopub.status.idle": "2024-02-19T21:35:54.185995Z",
     "shell.execute_reply": "2024-02-19T21:35:54.184605Z"
    },
    "papermill": {
     "duration": 0.068763,
     "end_time": "2024-02-19T21:35:54.188377",
     "exception": false,
     "start_time": "2024-02-19T21:35:54.119614",
     "status": "completed"
    },
    "tags": []
   },
   "outputs": [
    {
     "name": "stdout",
     "output_type": "stream",
     "text": [
      "<class 'pandas.core.frame.DataFrame'>\n",
      "RangeIndex: 294478 entries, 0 to 294477\n",
      "Data columns (total 5 columns):\n",
      " #   Column        Non-Null Count   Dtype \n",
      "---  ------        --------------   ----- \n",
      " 0   user_id       294478 non-null  int64 \n",
      " 1   timestamp     294478 non-null  object\n",
      " 2   group         294478 non-null  object\n",
      " 3   landing_page  294478 non-null  object\n",
      " 4   converted     294478 non-null  int64 \n",
      "dtypes: int64(2), object(3)\n",
      "memory usage: 11.2+ MB\n"
     ]
    }
   ],
   "source": [
    "df.info()"
   ]
  },
  {
   "cell_type": "code",
   "execution_count": 5,
   "id": "13bafdfd",
   "metadata": {
    "execution": {
     "iopub.execute_input": "2024-02-19T21:35:54.206459Z",
     "iopub.status.busy": "2024-02-19T21:35:54.206119Z",
     "iopub.status.idle": "2024-02-19T21:35:54.304536Z",
     "shell.execute_reply": "2024-02-19T21:35:54.303649Z"
    },
    "papermill": {
     "duration": 0.109769,
     "end_time": "2024-02-19T21:35:54.306459",
     "exception": false,
     "start_time": "2024-02-19T21:35:54.196690",
     "status": "completed"
    },
    "tags": []
   },
   "outputs": [
    {
     "data": {
      "text/html": [
       "<div>\n",
       "<style scoped>\n",
       "    .dataframe tbody tr th:only-of-type {\n",
       "        vertical-align: middle;\n",
       "    }\n",
       "\n",
       "    .dataframe tbody tr th {\n",
       "        vertical-align: top;\n",
       "    }\n",
       "\n",
       "    .dataframe thead th {\n",
       "        text-align: right;\n",
       "    }\n",
       "</style>\n",
       "<table border=\"1\" class=\"dataframe\">\n",
       "  <thead>\n",
       "    <tr style=\"text-align: right;\">\n",
       "      <th>landing_page</th>\n",
       "      <th>new_page</th>\n",
       "      <th>old_page</th>\n",
       "    </tr>\n",
       "    <tr>\n",
       "      <th>group</th>\n",
       "      <th></th>\n",
       "      <th></th>\n",
       "    </tr>\n",
       "  </thead>\n",
       "  <tbody>\n",
       "    <tr>\n",
       "      <th>control</th>\n",
       "      <td>1928</td>\n",
       "      <td>145274</td>\n",
       "    </tr>\n",
       "    <tr>\n",
       "      <th>treatment</th>\n",
       "      <td>145311</td>\n",
       "      <td>1965</td>\n",
       "    </tr>\n",
       "  </tbody>\n",
       "</table>\n",
       "</div>"
      ],
      "text/plain": [
       "landing_page  new_page  old_page\n",
       "group                           \n",
       "control           1928    145274\n",
       "treatment       145311      1965"
      ]
     },
     "execution_count": 5,
     "metadata": {},
     "output_type": "execute_result"
    }
   ],
   "source": [
    "# To make sure the control group is only seeing the old page and vice versa\n",
    "\n",
    "pd.crosstab(df['group'], df['landing_page'])"
   ]
  },
  {
   "cell_type": "markdown",
   "id": "a7b0ae2b",
   "metadata": {
    "execution": {
     "iopub.execute_input": "2022-12-23T17:46:21.509897Z",
     "iopub.status.busy": "2022-12-23T17:46:21.509491Z",
     "iopub.status.idle": "2022-12-23T17:46:21.516186Z",
     "shell.execute_reply": "2022-12-23T17:46:21.514925Z",
     "shell.execute_reply.started": "2022-12-23T17:46:21.509866Z"
    },
    "papermill": {
     "duration": 0.008156,
     "end_time": "2024-02-19T21:35:54.323189",
     "exception": false,
     "start_time": "2024-02-19T21:35:54.315033",
     "status": "completed"
    },
    "tags": []
   },
   "source": [
    "There are `294478` rows in the dataframe each representing a user session along with 5 columns.\n",
    "\n",
    "* `user_id` - The user ID of each session\n",
    "* `timestamp` - Timestamp for the session\n",
    "* `group` - Which group the user was assigned to for that session {control, treatment}\n",
    "* `landing_page` - Which design each user saw on that session {old_page, new_page}\n",
    "* `converted` - Whether the session ended in a conversion or not (binary, 0=not converted, 1=converted)\n",
    "\n",
    "Although this was given to us, for our purposes we will use `group` and `converted` for our analysis."
   ]
  },
  {
   "cell_type": "code",
   "execution_count": 6,
   "id": "e78e44c3",
   "metadata": {
    "execution": {
     "iopub.execute_input": "2024-02-19T21:35:54.342204Z",
     "iopub.status.busy": "2024-02-19T21:35:54.341855Z",
     "iopub.status.idle": "2024-02-19T21:35:54.375044Z",
     "shell.execute_reply": "2024-02-19T21:35:54.373514Z"
    },
    "papermill": {
     "duration": 0.045387,
     "end_time": "2024-02-19T21:35:54.377322",
     "exception": false,
     "start_time": "2024-02-19T21:35:54.331935",
     "status": "completed"
    },
    "tags": []
   },
   "outputs": [
    {
     "name": "stdout",
     "output_type": "stream",
     "text": [
      "There are 3894 users that appear multiple times in the dataset\n"
     ]
    }
   ],
   "source": [
    "session_counts = df['user_id'].value_counts(ascending=False)\n",
    "multi_users = session_counts[session_counts > 1].count()\n",
    "\n",
    "print(f'There are {multi_users} users that appear multiple times in the dataset')"
   ]
  },
  {
   "cell_type": "code",
   "execution_count": 7,
   "id": "13790880",
   "metadata": {
    "execution": {
     "iopub.execute_input": "2024-02-19T21:35:54.396546Z",
     "iopub.status.busy": "2024-02-19T21:35:54.396003Z",
     "iopub.status.idle": "2024-02-19T21:35:54.401163Z",
     "shell.execute_reply": "2024-02-19T21:35:54.399851Z"
    },
    "papermill": {
     "duration": 0.017891,
     "end_time": "2024-02-19T21:35:54.403945",
     "exception": false,
     "start_time": "2024-02-19T21:35:54.386054",
     "status": "completed"
    },
    "tags": []
   },
   "outputs": [
    {
     "name": "stdout",
     "output_type": "stream",
     "text": [
      "There are duplicate users in the dataset. They make up 0.013223398691922657 of the dataset. This is a low percentage so we can just take them out.\n"
     ]
    }
   ],
   "source": [
    "print('There are duplicate users in the dataset. They make up',  3894/df.shape[0], 'of the dataset. This is a low percentage so we can just take them out.')"
   ]
  },
  {
   "cell_type": "code",
   "execution_count": 8,
   "id": "7c626f3a",
   "metadata": {
    "execution": {
     "iopub.execute_input": "2024-02-19T21:35:54.422527Z",
     "iopub.status.busy": "2024-02-19T21:35:54.422131Z",
     "iopub.status.idle": "2024-02-19T21:35:54.454112Z",
     "shell.execute_reply": "2024-02-19T21:35:54.452585Z"
    },
    "papermill": {
     "duration": 0.043283,
     "end_time": "2024-02-19T21:35:54.456004",
     "exception": false,
     "start_time": "2024-02-19T21:35:54.412721",
     "status": "completed"
    },
    "tags": []
   },
   "outputs": [
    {
     "name": "stdout",
     "output_type": "stream",
     "text": [
      "The updated dataset now has 286690 entries.\n"
     ]
    }
   ],
   "source": [
    "users_to_drop = session_counts[session_counts > 1].index\n",
    "\n",
    "df = df[~df['user_id'].isin(users_to_drop)]\n",
    "print(f'The updated dataset now has {df.shape[0]} entries.')"
   ]
  },
  {
   "cell_type": "markdown",
   "id": "dbc4cc0b",
   "metadata": {
    "execution": {
     "iopub.execute_input": "2022-12-23T17:56:44.999811Z",
     "iopub.status.busy": "2022-12-23T17:56:44.999310Z",
     "iopub.status.idle": "2022-12-23T17:56:45.010187Z",
     "shell.execute_reply": "2022-12-23T17:56:45.008192Z",
     "shell.execute_reply.started": "2022-12-23T17:56:44.999765Z"
    },
    "papermill": {
     "duration": 0.008142,
     "end_time": "2024-02-19T21:35:54.472777",
     "exception": false,
     "start_time": "2024-02-19T21:35:54.464635",
     "status": "completed"
    },
    "tags": []
   },
   "source": [
    "### Sampling"
   ]
  },
  {
   "cell_type": "markdown",
   "id": "b7bb8b11",
   "metadata": {
    "papermill": {
     "duration": 0.008248,
     "end_time": "2024-02-19T21:35:54.489453",
     "exception": false,
     "start_time": "2024-02-19T21:35:54.481205",
     "status": "completed"
    },
    "tags": []
   },
   "source": [
    "Now that our Dataframe is nice and clean, we can proceed to sample `n=4720` entries for each of the groups. Pandas' `DataFrame.sample()` method helps us achieve this because it performs a Simple Random Sampling for us.\n",
    "\n",
    "Note: Using `random_state=22` allows reproducible results. So if sampling is done again using this parameter, results we get will be the same as first time ran."
   ]
  },
  {
   "cell_type": "code",
   "execution_count": 9,
   "id": "02e2b2e2",
   "metadata": {
    "execution": {
     "iopub.execute_input": "2024-02-19T21:35:54.508458Z",
     "iopub.status.busy": "2024-02-19T21:35:54.508061Z",
     "iopub.status.idle": "2024-02-19T21:35:54.587157Z",
     "shell.execute_reply": "2024-02-19T21:35:54.586173Z"
    },
    "papermill": {
     "duration": 0.091309,
     "end_time": "2024-02-19T21:35:54.589492",
     "exception": false,
     "start_time": "2024-02-19T21:35:54.498183",
     "status": "completed"
    },
    "tags": []
   },
   "outputs": [],
   "source": [
    "control_sample = df[df['group'] == 'control'].sample(n=required_n, random_state=22)\n",
    "treatment_sample = df[df['group'] == 'treatment'].sample(n=required_n, random_state=22)\n",
    "\n",
    "ab_test = pd.concat([control_sample, treatment_sample], axis=0)\n",
    "ab_test.reset_index(drop=True, inplace=True)"
   ]
  },
  {
   "cell_type": "code",
   "execution_count": 10,
   "id": "ca60d2ea",
   "metadata": {
    "execution": {
     "iopub.execute_input": "2024-02-19T21:35:54.608332Z",
     "iopub.status.busy": "2024-02-19T21:35:54.607995Z",
     "iopub.status.idle": "2024-02-19T21:35:54.624629Z",
     "shell.execute_reply": "2024-02-19T21:35:54.623156Z"
    },
    "papermill": {
     "duration": 0.030207,
     "end_time": "2024-02-19T21:35:54.628072",
     "exception": false,
     "start_time": "2024-02-19T21:35:54.597865",
     "status": "completed"
    },
    "tags": []
   },
   "outputs": [
    {
     "data": {
      "text/html": [
       "<div>\n",
       "<style scoped>\n",
       "    .dataframe tbody tr th:only-of-type {\n",
       "        vertical-align: middle;\n",
       "    }\n",
       "\n",
       "    .dataframe tbody tr th {\n",
       "        vertical-align: top;\n",
       "    }\n",
       "\n",
       "    .dataframe thead th {\n",
       "        text-align: right;\n",
       "    }\n",
       "</style>\n",
       "<table border=\"1\" class=\"dataframe\">\n",
       "  <thead>\n",
       "    <tr style=\"text-align: right;\">\n",
       "      <th></th>\n",
       "      <th>user_id</th>\n",
       "      <th>timestamp</th>\n",
       "      <th>group</th>\n",
       "      <th>landing_page</th>\n",
       "      <th>converted</th>\n",
       "    </tr>\n",
       "  </thead>\n",
       "  <tbody>\n",
       "    <tr>\n",
       "      <th>0</th>\n",
       "      <td>763854</td>\n",
       "      <td>2017-01-21 03:43:17.188315</td>\n",
       "      <td>control</td>\n",
       "      <td>old_page</td>\n",
       "      <td>0</td>\n",
       "    </tr>\n",
       "    <tr>\n",
       "      <th>1</th>\n",
       "      <td>690555</td>\n",
       "      <td>2017-01-18 06:38:13.079449</td>\n",
       "      <td>control</td>\n",
       "      <td>old_page</td>\n",
       "      <td>0</td>\n",
       "    </tr>\n",
       "    <tr>\n",
       "      <th>2</th>\n",
       "      <td>861520</td>\n",
       "      <td>2017-01-06 21:13:40.044766</td>\n",
       "      <td>control</td>\n",
       "      <td>old_page</td>\n",
       "      <td>0</td>\n",
       "    </tr>\n",
       "    <tr>\n",
       "      <th>3</th>\n",
       "      <td>630778</td>\n",
       "      <td>2017-01-05 16:42:36.995204</td>\n",
       "      <td>control</td>\n",
       "      <td>old_page</td>\n",
       "      <td>0</td>\n",
       "    </tr>\n",
       "    <tr>\n",
       "      <th>4</th>\n",
       "      <td>656634</td>\n",
       "      <td>2017-01-04 15:31:21.676130</td>\n",
       "      <td>control</td>\n",
       "      <td>old_page</td>\n",
       "      <td>0</td>\n",
       "    </tr>\n",
       "    <tr>\n",
       "      <th>...</th>\n",
       "      <td>...</td>\n",
       "      <td>...</td>\n",
       "      <td>...</td>\n",
       "      <td>...</td>\n",
       "      <td>...</td>\n",
       "    </tr>\n",
       "    <tr>\n",
       "      <th>9435</th>\n",
       "      <td>908512</td>\n",
       "      <td>2017-01-14 22:02:29.922674</td>\n",
       "      <td>treatment</td>\n",
       "      <td>new_page</td>\n",
       "      <td>0</td>\n",
       "    </tr>\n",
       "    <tr>\n",
       "      <th>9436</th>\n",
       "      <td>873211</td>\n",
       "      <td>2017-01-05 00:57:16.167151</td>\n",
       "      <td>treatment</td>\n",
       "      <td>new_page</td>\n",
       "      <td>0</td>\n",
       "    </tr>\n",
       "    <tr>\n",
       "      <th>9437</th>\n",
       "      <td>631276</td>\n",
       "      <td>2017-01-20 18:56:58.167809</td>\n",
       "      <td>treatment</td>\n",
       "      <td>new_page</td>\n",
       "      <td>0</td>\n",
       "    </tr>\n",
       "    <tr>\n",
       "      <th>9438</th>\n",
       "      <td>662301</td>\n",
       "      <td>2017-01-03 08:10:57.768806</td>\n",
       "      <td>treatment</td>\n",
       "      <td>new_page</td>\n",
       "      <td>0</td>\n",
       "    </tr>\n",
       "    <tr>\n",
       "      <th>9439</th>\n",
       "      <td>944623</td>\n",
       "      <td>2017-01-19 10:56:01.648653</td>\n",
       "      <td>treatment</td>\n",
       "      <td>new_page</td>\n",
       "      <td>1</td>\n",
       "    </tr>\n",
       "  </tbody>\n",
       "</table>\n",
       "<p>9440 rows × 5 columns</p>\n",
       "</div>"
      ],
      "text/plain": [
       "      user_id                   timestamp      group landing_page  converted\n",
       "0      763854  2017-01-21 03:43:17.188315    control     old_page          0\n",
       "1      690555  2017-01-18 06:38:13.079449    control     old_page          0\n",
       "2      861520  2017-01-06 21:13:40.044766    control     old_page          0\n",
       "3      630778  2017-01-05 16:42:36.995204    control     old_page          0\n",
       "4      656634  2017-01-04 15:31:21.676130    control     old_page          0\n",
       "...       ...                         ...        ...          ...        ...\n",
       "9435   908512  2017-01-14 22:02:29.922674  treatment     new_page          0\n",
       "9436   873211  2017-01-05 00:57:16.167151  treatment     new_page          0\n",
       "9437   631276  2017-01-20 18:56:58.167809  treatment     new_page          0\n",
       "9438   662301  2017-01-03 08:10:57.768806  treatment     new_page          0\n",
       "9439   944623  2017-01-19 10:56:01.648653  treatment     new_page          1\n",
       "\n",
       "[9440 rows x 5 columns]"
      ]
     },
     "execution_count": 10,
     "metadata": {},
     "output_type": "execute_result"
    }
   ],
   "source": [
    "ab_test"
   ]
  },
  {
   "cell_type": "code",
   "execution_count": 11,
   "id": "a314ebf5",
   "metadata": {
    "execution": {
     "iopub.execute_input": "2024-02-19T21:35:54.648621Z",
     "iopub.status.busy": "2024-02-19T21:35:54.648276Z",
     "iopub.status.idle": "2024-02-19T21:35:54.664115Z",
     "shell.execute_reply": "2024-02-19T21:35:54.662446Z"
    },
    "papermill": {
     "duration": 0.028946,
     "end_time": "2024-02-19T21:35:54.666600",
     "exception": false,
     "start_time": "2024-02-19T21:35:54.637654",
     "status": "completed"
    },
    "tags": []
   },
   "outputs": [
    {
     "name": "stdout",
     "output_type": "stream",
     "text": [
      "<class 'pandas.core.frame.DataFrame'>\n",
      "RangeIndex: 9440 entries, 0 to 9439\n",
      "Data columns (total 5 columns):\n",
      " #   Column        Non-Null Count  Dtype \n",
      "---  ------        --------------  ----- \n",
      " 0   user_id       9440 non-null   int64 \n",
      " 1   timestamp     9440 non-null   object\n",
      " 2   group         9440 non-null   object\n",
      " 3   landing_page  9440 non-null   object\n",
      " 4   converted     9440 non-null   int64 \n",
      "dtypes: int64(2), object(3)\n",
      "memory usage: 368.9+ KB\n"
     ]
    }
   ],
   "source": [
    "ab_test.info()"
   ]
  },
  {
   "cell_type": "code",
   "execution_count": 12,
   "id": "a98988e0",
   "metadata": {
    "execution": {
     "iopub.execute_input": "2024-02-19T21:35:54.686937Z",
     "iopub.status.busy": "2024-02-19T21:35:54.686150Z",
     "iopub.status.idle": "2024-02-19T21:35:54.694904Z",
     "shell.execute_reply": "2024-02-19T21:35:54.693606Z"
    },
    "papermill": {
     "duration": 0.021922,
     "end_time": "2024-02-19T21:35:54.697286",
     "exception": false,
     "start_time": "2024-02-19T21:35:54.675364",
     "status": "completed"
    },
    "tags": []
   },
   "outputs": [
    {
     "data": {
      "text/plain": [
       "control      4720\n",
       "treatment    4720\n",
       "Name: group, dtype: int64"
      ]
     },
     "execution_count": 12,
     "metadata": {},
     "output_type": "execute_result"
    }
   ],
   "source": [
    "ab_test['group'].value_counts()"
   ]
  },
  {
   "cell_type": "markdown",
   "id": "3f88c740",
   "metadata": {
    "papermill": {
     "duration": 0.008629,
     "end_time": "2024-02-19T21:35:54.715095",
     "exception": false,
     "start_time": "2024-02-19T21:35:54.706466",
     "status": "completed"
    },
    "tags": []
   },
   "source": [
    "Great, the sampling number per group is as expected."
   ]
  },
  {
   "cell_type": "markdown",
   "id": "eb52d376",
   "metadata": {
    "papermill": {
     "duration": 0.008708,
     "end_time": "2024-02-19T21:35:54.732782",
     "exception": false,
     "start_time": "2024-02-19T21:35:54.724074",
     "status": "completed"
    },
    "tags": []
   },
   "source": [
    "## 3. Visualizing the Results"
   ]
  },
  {
   "cell_type": "markdown",
   "id": "7ca36bd5",
   "metadata": {
    "papermill": {
     "duration": 0.009016,
     "end_time": "2024-02-19T21:35:54.751998",
     "exception": false,
     "start_time": "2024-02-19T21:35:54.742982",
     "status": "completed"
    },
    "tags": []
   },
   "source": [
    "Let's do some simple stat calculations to see what our samples look like."
   ]
  },
  {
   "cell_type": "code",
   "execution_count": 13,
   "id": "dce2c333",
   "metadata": {
    "execution": {
     "iopub.execute_input": "2024-02-19T21:35:54.771788Z",
     "iopub.status.busy": "2024-02-19T21:35:54.771455Z",
     "iopub.status.idle": "2024-02-19T21:35:54.841091Z",
     "shell.execute_reply": "2024-02-19T21:35:54.839925Z"
    },
    "papermill": {
     "duration": 0.08268,
     "end_time": "2024-02-19T21:35:54.843721",
     "exception": false,
     "start_time": "2024-02-19T21:35:54.761041",
     "status": "completed"
    },
    "tags": []
   },
   "outputs": [
    {
     "data": {
      "text/html": [
       "<style type=\"text/css\">\n",
       "</style>\n",
       "<table id=\"T_75c53_\">\n",
       "  <thead>\n",
       "    <tr>\n",
       "      <th class=\"blank level0\" >&nbsp;</th>\n",
       "      <th class=\"col_heading level0 col0\" >conversion_rate</th>\n",
       "      <th class=\"col_heading level0 col1\" >std_deviation</th>\n",
       "      <th class=\"col_heading level0 col2\" >std_error</th>\n",
       "    </tr>\n",
       "    <tr>\n",
       "      <th class=\"index_name level0\" >group</th>\n",
       "      <th class=\"blank col0\" >&nbsp;</th>\n",
       "      <th class=\"blank col1\" >&nbsp;</th>\n",
       "      <th class=\"blank col2\" >&nbsp;</th>\n",
       "    </tr>\n",
       "  </thead>\n",
       "  <tbody>\n",
       "    <tr>\n",
       "      <th id=\"T_75c53_level0_row0\" class=\"row_heading level0 row0\" >control</th>\n",
       "      <td id=\"T_75c53_row0_col0\" class=\"data row0 col0\" >0.123</td>\n",
       "      <td id=\"T_75c53_row0_col1\" class=\"data row0 col1\" >0.329</td>\n",
       "      <td id=\"T_75c53_row0_col2\" class=\"data row0 col2\" >0.005</td>\n",
       "    </tr>\n",
       "    <tr>\n",
       "      <th id=\"T_75c53_level0_row1\" class=\"row_heading level0 row1\" >treatment</th>\n",
       "      <td id=\"T_75c53_row1_col0\" class=\"data row1 col0\" >0.126</td>\n",
       "      <td id=\"T_75c53_row1_col1\" class=\"data row1 col1\" >0.331</td>\n",
       "      <td id=\"T_75c53_row1_col2\" class=\"data row1 col2\" >0.005</td>\n",
       "    </tr>\n",
       "  </tbody>\n",
       "</table>\n"
      ],
      "text/plain": [
       "<pandas.io.formats.style.Styler at 0x78644538b490>"
      ]
     },
     "execution_count": 13,
     "metadata": {},
     "output_type": "execute_result"
    }
   ],
   "source": [
    "conversion_rates = ab_test.groupby('group')['converted']\n",
    "\n",
    "std_p = lambda x: np.std(x, ddof=0)              # Std. deviation of the proportion\n",
    "se_p = lambda x: stats.sem(x, ddof=0)            # Std. error of the proportion (std / sqrt(n))\n",
    "\n",
    "conversion_rates = conversion_rates.agg([np.mean, std_p, se_p])\n",
    "conversion_rates.columns = ['conversion_rate', 'std_deviation', 'std_error']\n",
    "\n",
    "\n",
    "conversion_rates.style.format('{:.3f}')"
   ]
  },
  {
   "cell_type": "markdown",
   "id": "35978a73",
   "metadata": {
    "papermill": {
     "duration": 0.008865,
     "end_time": "2024-02-19T21:35:54.861780",
     "exception": false,
     "start_time": "2024-02-19T21:35:54.852915",
     "status": "completed"
    },
    "tags": []
   },
   "source": [
    "We can see that between control and treatment, conversion rates are similar, but new design performed slightly better: **12.6% vs. 12.3% conversion rate**.\n",
    "\n",
    "Plotting the rates will make it easier and faster to digest these results."
   ]
  },
  {
   "cell_type": "code",
   "execution_count": 14,
   "id": "8c7d634e",
   "metadata": {
    "execution": {
     "iopub.execute_input": "2024-02-19T21:35:54.882310Z",
     "iopub.status.busy": "2024-02-19T21:35:54.881030Z",
     "iopub.status.idle": "2024-02-19T21:35:55.250466Z",
     "shell.execute_reply": "2024-02-19T21:35:55.249113Z"
    },
    "papermill": {
     "duration": 0.381769,
     "end_time": "2024-02-19T21:35:55.252633",
     "exception": false,
     "start_time": "2024-02-19T21:35:54.870864",
     "status": "completed"
    },
    "tags": []
   },
   "outputs": [
    {
     "data": {
      "image/png": "[encoded data removed]",
      "text/plain": [
       "<Figure size 576x432 with 1 Axes>"
      ]
     },
     "metadata": {},
     "output_type": "display_data"
    }
   ],
   "source": [
    "plt.figure(figsize=(8,6))\n",
    "\n",
    "sns.barplot(x=ab_test['group'], y=ab_test['converted'], ci=False)\n",
    "\n",
    "plt.ylim(0, 0.17)\n",
    "plt.title('Conversion rate by group', pad=20)\n",
    "plt.xlabel('Group', labelpad=15)\n",
    "plt.ylabel('Converted (proportion)', labelpad=15);"
   ]
  },
  {
   "cell_type": "markdown",
   "id": "5458ef16",
   "metadata": {
    "papermill": {
     "duration": 0.00985,
     "end_time": "2024-02-19T21:35:55.272186",
     "exception": false,
     "start_time": "2024-02-19T21:35:55.262336",
     "status": "completed"
    },
    "tags": []
   },
   "source": [
    "We can see that the conversion rates are very close. Also, note that the conversion for the `control` group is lower than what we would have expected given we our average conversion has been **13%**. This proves that there can be some variation in our results when we sample from our variation.\n",
    "\n",
    "At this point, we see that the treatment has a lift from the control group, but is this difference **statistically signiicant**?\n",
    "\n",
    "__________"
   ]
  },
  {
   "cell_type": "markdown",
   "id": "26c52c4b",
   "metadata": {
    "papermill": {
     "duration": 0.008965,
     "end_time": "2024-02-19T21:35:55.290733",
     "exception": false,
     "start_time": "2024-02-19T21:35:55.281768",
     "status": "completed"
    },
    "tags": []
   },
   "source": [
    "## 4. Testing the Hypothesis"
   ]
  },
  {
   "cell_type": "markdown",
   "id": "77ff474e",
   "metadata": {
    "papermill": {
     "duration": 0.008794,
     "end_time": "2024-02-19T21:35:55.308920",
     "exception": false,
     "start_time": "2024-02-19T21:35:55.300126",
     "status": "completed"
    },
    "tags": []
   },
   "source": [
    "The last step of our analysis is to test our hypothesis. We have a very large sample so we can use the [normal approximation](https://en.wikipedia.org/wiki/Binomial_proportion_confidence_interval#Normal_approximation_interval) for calculating our *p-value* (i.e. z-test).\n",
    "\n",
    "We can use `statsmodels.stats.proportion` module to get the p-value and confidence intervals:"
   ]
  },
  {
   "cell_type": "code",
   "execution_count": 15,
   "id": "5e513a42",
   "metadata": {
    "execution": {
     "iopub.execute_input": "2024-02-19T21:35:55.328971Z",
     "iopub.status.busy": "2024-02-19T21:35:55.328581Z",
     "iopub.status.idle": "2024-02-19T21:35:55.333921Z",
     "shell.execute_reply": "2024-02-19T21:35:55.332852Z"
    },
    "papermill": {
     "duration": 0.017683,
     "end_time": "2024-02-19T21:35:55.335889",
     "exception": false,
     "start_time": "2024-02-19T21:35:55.318206",
     "status": "completed"
    },
    "tags": []
   },
   "outputs": [],
   "source": [
    "#import stats library\n",
    "from statsmodels.stats.proportion import proportions_ztest, proportion_confint"
   ]
  },
  {
   "cell_type": "code",
   "execution_count": 16,
   "id": "4a38b1ea",
   "metadata": {
    "execution": {
     "iopub.execute_input": "2024-02-19T21:35:55.358037Z",
     "iopub.status.busy": "2024-02-19T21:35:55.357623Z",
     "iopub.status.idle": "2024-02-19T21:35:55.368030Z",
     "shell.execute_reply": "2024-02-19T21:35:55.366781Z"
    },
    "papermill": {
     "duration": 0.024027,
     "end_time": "2024-02-19T21:35:55.370015",
     "exception": false,
     "start_time": "2024-02-19T21:35:55.345988",
     "status": "completed"
    },
    "tags": []
   },
   "outputs": [],
   "source": [
    "#get the target metric column\n",
    "control_results = ab_test[ab_test['group'] == 'control']['converted']\n",
    "treatment_results = ab_test[ab_test['group'] == 'treatment']['converted']"
   ]
  },
  {
   "cell_type": "code",
   "execution_count": 17,
   "id": "a8e1d580",
   "metadata": {
    "execution": {
     "iopub.execute_input": "2024-02-19T21:35:55.391187Z",
     "iopub.status.busy": "2024-02-19T21:35:55.390746Z",
     "iopub.status.idle": "2024-02-19T21:35:55.400388Z",
     "shell.execute_reply": "2024-02-19T21:35:55.398803Z"
    },
    "papermill": {
     "duration": 0.022718,
     "end_time": "2024-02-19T21:35:55.402658",
     "exception": false,
     "start_time": "2024-02-19T21:35:55.379940",
     "status": "completed"
    },
    "tags": []
   },
   "outputs": [
    {
     "name": "stdout",
     "output_type": "stream",
     "text": [
      "z statistic: -0.34\n",
      "p-value: 0.732\n",
      "ci 95% for control group: [0.114, 0.133]\n",
      "ci 95% for treatment group: [0.116, 0.135]\n"
     ]
    }
   ],
   "source": [
    "n_con = control_results.count()\n",
    "n_treat = treatment_results.count()\n",
    "successes = [control_results.sum(), treatment_results.sum()]\n",
    "nobs = [n_con, n_treat]\n",
    "\n",
    "z_stat, pval = proportions_ztest(successes, nobs=nobs)\n",
    "(lower_con, lower_treat), (upper_con, upper_treat) = proportion_confint(successes, nobs=nobs, alpha=0.05)\n",
    "\n",
    "print(f'z statistic: {z_stat:.2f}')\n",
    "print(f'p-value: {pval:.3f}')\n",
    "print(f'ci 95% for control group: [{lower_con:.3f}, {upper_con:.3f}]')\n",
    "print(f'ci 95% for treatment group: [{lower_treat:.3f}, {upper_treat:.3f}]')"
   ]
  },
  {
   "cell_type": "markdown",
   "id": "0fdd1448",
   "metadata": {
    "papermill": {
     "duration": 0.009235,
     "end_time": "2024-02-19T21:35:55.421304",
     "exception": false,
     "start_time": "2024-02-19T21:35:55.412069",
     "status": "completed"
    },
    "tags": []
   },
   "source": [
    "_______"
   ]
  },
  {
   "cell_type": "markdown",
   "id": "94bb5c13",
   "metadata": {
    "papermill": {
     "duration": 0.00898,
     "end_time": "2024-02-19T21:35:55.439889",
     "exception": false,
     "start_time": "2024-02-19T21:35:55.430909",
     "status": "completed"
    },
    "tags": []
   },
   "source": [
    "## 5. Conclusion and Recommendation"
   ]
  },
  {
   "cell_type": "markdown",
   "id": "f7a1e0f4",
   "metadata": {
    "papermill": {
     "duration": 0.009364,
     "end_time": "2024-02-19T21:35:55.459483",
     "exception": false,
     "start_time": "2024-02-19T21:35:55.450119",
     "status": "completed"
    },
    "tags": []
   },
   "source": [
    "Our **p-value** is way above our $\\alpha$ = 0.05. So we cannot reject our $H_0$. This means our new design did not perform statistically different than our current/old design.\n",
    "\n",
    "Additionally, if we look at the confidence interval for the `treatment` group: ([0.116, 0.135], 11.6% - 13.5%) we notice:\n",
    "\n",
    "1. It includes our baseline conversion rate of 13%\n",
    "2. It does not include our target value of 15% (the 2% lift in conversion rate we were aiming for)\n",
    "\n",
    "What this means is that the true conversion rate of the new design is more likely closer to our baseline, rather than the 15% target we had hoped for. This is further proof that our new design is not likely to be a improvement on our old design. And that unfortunately means we are back to the drawing board, but still had good learnings!"
   ]
  }
 ],
 "metadata": {
  "kaggle": {
   "accelerator": "none",
   "dataSources": [
    {
     "datasetId": 33220,
     "sourceId": 43643,
     "sourceType": "datasetVersion"
    }
   ],
   "dockerImageVersionId": 30301,
   "isGpuEnabled": false,
   "isInternetEnabled": true,
   "language": "python",
   "sourceType": "notebook"
  },
  "kernelspec": {
   "display_name": "Python 3",
   "language": "python",
   "name": "python3"
  },
  "language_info": {
   "codemirror_mode": {
    "name": "ipython",
    "version": 3
   },
   "file_extension": ".py",
   "mimetype": "text/x-python",
   "name": "python",
   "nbconvert_exporter": "python",
   "pygments_lexer": "ipython3",
   "version": "3.7.12"
  },
  "papermill": {
   "default_parameters": {},
   "duration": 13.215159,
   "end_time": "2024-02-19T21:35:56.191530",
   "environment_variables": {},
   "exception": null,
   "input_path": "__notebook__.ipynb",
   "output_path": "__notebook__.ipynb",
   "parameters": {},
   "start_time": "2024-02-19T21:35:42.976371",
   "version": "2.3.4"
  }
 },
 "nbformat": 4,
 "nbformat_minor": 5
}
