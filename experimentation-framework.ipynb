{
 "cells": [
  {
   "cell_type": "code",
   "execution_count": 1,
   "id": "7b772b9c",
   "metadata": {
    "execution": {
     "iopub.execute_input": "2022-12-23T00:27:36.121853Z",
     "iopub.status.busy": "2022-12-23T00:27:36.121371Z",
     "iopub.status.idle": "2022-12-23T00:27:36.131433Z",
     "shell.execute_reply": "2022-12-23T00:27:36.130515Z"
    },
    "papermill": {
     "duration": 0.018239,
     "end_time": "2022-12-23T00:27:36.133679",
     "exception": false,
     "start_time": "2022-12-23T00:27:36.115440",
     "status": "completed"
    },
    "tags": []
   },
   "outputs": [],
   "source": [
    "import numpy as np\n",
    "import pandas as pd"
   ]
  },
  {
   "cell_type": "markdown",
   "id": "ea0702a2",
   "metadata": {
    "papermill": {
     "duration": 0.002542,
     "end_time": "2022-12-23T00:27:36.139340",
     "exception": false,
     "start_time": "2022-12-23T00:27:36.136798",
     "status": "completed"
    },
    "tags": []
   },
   "source": [
    "# A/B Testing"
   ]
  },
  {
   "cell_type": "markdown",
   "id": "3800d51e",
   "metadata": {
    "papermill": {
     "duration": 0.002514,
     "end_time": "2022-12-23T00:27:36.144605",
     "exception": false,
     "start_time": "2022-12-23T00:27:36.142091",
     "status": "completed"
    },
    "tags": []
   },
   "source": [
    "## Objective: \n",
    "\n",
    "Many product-focused companies rely on quick user feedback on experimental product changes to remain relevant and to maintain a moat with their competitors. In order to get that feedback quickly in a cost-effective way, an experiment is performed on a sample of the whole population/user base. \n",
    "\n",
    "A test is designed to measure performance of the current state of the product and an alternative state of the product to see if a change in the product would be beneficial to users or not.\n",
    "\n",
    "This notebook will cover the process of analyzing an A/B test from formulating the hypothesis, testing it, all the way to interpreting the results."
   ]
  },
  {
   "cell_type": "markdown",
   "id": "9646bea8",
   "metadata": {
    "papermill": {
     "duration": 0.002589,
     "end_time": "2022-12-23T00:27:36.149921",
     "exception": false,
     "start_time": "2022-12-23T00:27:36.147332",
     "status": "completed"
    },
    "tags": []
   },
   "source": [
    "## Scenario\n",
    "\n",
    "Currently embedded in Product team at medium-sized online e-commerce business. The UX designer worked really hard on a new version of the product page, with the hope that it will lead to a higher conversion rate. The product manager (PM) told you that the current conversion rate is about 13% on average throughout the year, and that the team would be happy with an increase of 2%, meaning that the new design will be considered a success if it raises the conversion rate to 15%.\n",
    "\n",
    "Before rolling out the change, team would be more comfortable testing it on a small number of users to see how it performs. So I suggest running an A/B test on a subset of the user base."
   ]
  },
  {
   "cell_type": "markdown",
   "id": "3892481e",
   "metadata": {
    "papermill": {
     "duration": 0.002514,
     "end_time": "2022-12-23T00:27:36.155113",
     "exception": false,
     "start_time": "2022-12-23T00:27:36.152599",
     "status": "completed"
    },
    "tags": []
   },
   "source": []
  },
  {
   "cell_type": "markdown",
   "id": "11601e8c",
   "metadata": {
    "papermill": {
     "duration": 0.002451,
     "end_time": "2022-12-23T00:27:36.160312",
     "exception": false,
     "start_time": "2022-12-23T00:27:36.157861",
     "status": "completed"
    },
    "tags": []
   },
   "source": [
    "## Data\n",
    "\n",
    "Kaggle dataset which contains A/B test results from 2 different website page designs (default/new)"
   ]
  },
  {
   "cell_type": "code",
   "execution_count": 2,
   "id": "9a79fd5e",
   "metadata": {
    "execution": {
     "iopub.execute_input": "2022-12-23T00:27:36.167756Z",
     "iopub.status.busy": "2022-12-23T00:27:36.167384Z",
     "iopub.status.idle": "2022-12-23T00:27:36.727016Z",
     "shell.execute_reply": "2022-12-23T00:27:36.725853Z"
    },
    "papermill": {
     "duration": 0.569174,
     "end_time": "2022-12-23T00:27:36.732234",
     "exception": false,
     "start_time": "2022-12-23T00:27:36.163060",
     "status": "completed"
    },
    "tags": []
   },
   "outputs": [
    {
     "data": {
      "text/html": [
       "<div>\n",
       "<style scoped>\n",
       "    .dataframe tbody tr th:only-of-type {\n",
       "        vertical-align: middle;\n",
       "    }\n",
       "\n",
       "    .dataframe tbody tr th {\n",
       "        vertical-align: top;\n",
       "    }\n",
       "\n",
       "    .dataframe thead th {\n",
       "        text-align: right;\n",
       "    }\n",
       "</style>\n",
       "<table border=\"1\" class=\"dataframe\">\n",
       "  <thead>\n",
       "    <tr style=\"text-align: right;\">\n",
       "      <th></th>\n",
       "      <th>user_id</th>\n",
       "      <th>timestamp</th>\n",
       "      <th>group</th>\n",
       "      <th>landing_page</th>\n",
       "      <th>converted</th>\n",
       "    </tr>\n",
       "  </thead>\n",
       "  <tbody>\n",
       "    <tr>\n",
       "      <th>0</th>\n",
       "      <td>851104</td>\n",
       "      <td>2017-01-21 22:11:48.556739</td>\n",
       "      <td>control</td>\n",
       "      <td>old_page</td>\n",
       "      <td>0</td>\n",
       "    </tr>\n",
       "    <tr>\n",
       "      <th>1</th>\n",
       "      <td>804228</td>\n",
       "      <td>2017-01-12 08:01:45.159739</td>\n",
       "      <td>control</td>\n",
       "      <td>old_page</td>\n",
       "      <td>0</td>\n",
       "    </tr>\n",
       "    <tr>\n",
       "      <th>2</th>\n",
       "      <td>661590</td>\n",
       "      <td>2017-01-11 16:55:06.154213</td>\n",
       "      <td>treatment</td>\n",
       "      <td>new_page</td>\n",
       "      <td>0</td>\n",
       "    </tr>\n",
       "    <tr>\n",
       "      <th>3</th>\n",
       "      <td>853541</td>\n",
       "      <td>2017-01-08 18:28:03.143765</td>\n",
       "      <td>treatment</td>\n",
       "      <td>new_page</td>\n",
       "      <td>0</td>\n",
       "    </tr>\n",
       "    <tr>\n",
       "      <th>4</th>\n",
       "      <td>864975</td>\n",
       "      <td>2017-01-21 01:52:26.210827</td>\n",
       "      <td>control</td>\n",
       "      <td>old_page</td>\n",
       "      <td>1</td>\n",
       "    </tr>\n",
       "  </tbody>\n",
       "</table>\n",
       "</div>"
      ],
      "text/plain": [
       "   user_id                   timestamp      group landing_page  converted\n",
       "0   851104  2017-01-21 22:11:48.556739    control     old_page          0\n",
       "1   804228  2017-01-12 08:01:45.159739    control     old_page          0\n",
       "2   661590  2017-01-11 16:55:06.154213  treatment     new_page          0\n",
       "3   853541  2017-01-08 18:28:03.143765  treatment     new_page          0\n",
       "4   864975  2017-01-21 01:52:26.210827    control     old_page          1"
      ]
     },
     "execution_count": 2,
     "metadata": {},
     "output_type": "execute_result"
    }
   ],
   "source": [
    "df = pd.read_csv('/kaggle/input/ab-testing/ab_data.csv')\n",
    "df.head()"
   ]
  },
  {
   "cell_type": "markdown",
   "id": "9040b60d",
   "metadata": {
    "papermill": {
     "duration": 0.003011,
     "end_time": "2022-12-23T00:27:36.739223",
     "exception": false,
     "start_time": "2022-12-23T00:27:36.736212",
     "status": "completed"
    },
    "tags": []
   },
   "source": [
    "## Designing Experiment"
   ]
  },
  {
   "cell_type": "markdown",
   "id": "45466a56",
   "metadata": {
    "execution": {
     "iopub.execute_input": "2022-12-23T00:02:52.712648Z",
     "iopub.status.busy": "2022-12-23T00:02:52.712199Z",
     "iopub.status.idle": "2022-12-23T00:02:52.719260Z",
     "shell.execute_reply": "2022-12-23T00:02:52.718094Z",
     "shell.execute_reply.started": "2022-12-23T00:02:52.712614Z"
    },
    "papermill": {
     "duration": 0.002804,
     "end_time": "2022-12-23T00:27:36.745211",
     "exception": false,
     "start_time": "2022-12-23T00:27:36.742407",
     "status": "completed"
    },
    "tags": []
   },
   "source": [
    "### Formulating Hypothesis\n",
    "\n",
    "* Make sure to formulate at start of experiment. This is so:\n",
    "\n",
    "    * test is rigorous\n",
    "    * results are sound\n",
    "    \n",
    "* not sure if new feature will be worse or better so will have two-tailed test:\n",
    "\n",
    "$$H_0: p = p_0$$\n",
    "$$H_a: p \\neq p_0$$\n",
    "\n",
    "where $p$ and $p_0$ stand for the conversion rate of the new and old design\n",
    "\n",
    "* setting 95% Confidence Interval:\n",
    "\n",
    "$$\\alpha = 0.05$$\n",
    "\n",
    "$\\alpha$ is threshold we set as our risk tolerance for maximum probability of incorrectly rejecting $H_0$\n",
    "Another way of defining it is: \"if the probability of observing a result as extreme or more ($p$-value) is lower than $\\alpha$, then we reject the null hypothesis\"\n",
    "\n",
    "Since our $\\alpha$ = 0.05 (indicating 5% probability), our confidence (1 - $\\alpha$) = 95%\n",
    "\n",
    "In simpler terms, what this means is that we want to be 95% confident that new product feature's conversion rate is statistically significant before we reject $H_0$."
   ]
  },
  {
   "cell_type": "markdown",
   "id": "fb18d75a",
   "metadata": {
    "papermill": {
     "duration": 0.002869,
     "end_time": "2022-12-23T00:27:36.751157",
     "exception": false,
     "start_time": "2022-12-23T00:27:36.748288",
     "status": "completed"
    },
    "tags": []
   },
   "source": [
    "### Choosing Variables"
   ]
  },
  {
   "cell_type": "code",
   "execution_count": null,
   "id": "e3209713",
   "metadata": {
    "papermill": {
     "duration": 0.002789,
     "end_time": "2022-12-23T00:27:36.756950",
     "exception": false,
     "start_time": "2022-12-23T00:27:36.754161",
     "status": "completed"
    },
    "tags": []
   },
   "outputs": [],
   "source": []
  }
 ],
 "metadata": {
  "kernelspec": {
   "display_name": "Python 3",
   "language": "python",
   "name": "python3"
  },
  "language_info": {
   "codemirror_mode": {
    "name": "ipython",
    "version": 3
   },
   "file_extension": ".py",
   "mimetype": "text/x-python",
   "name": "python",
   "nbconvert_exporter": "python",
   "pygments_lexer": "ipython3",
   "version": "3.7.12"
  },
  "papermill": {
   "default_parameters": {},
   "duration": 9.656643,
   "end_time": "2022-12-23T00:27:37.380332",
   "environment_variables": {},
   "exception": null,
   "input_path": "__notebook__.ipynb",
   "output_path": "__notebook__.ipynb",
   "parameters": {},
   "start_time": "2022-12-23T00:27:27.723689",
   "version": "2.3.4"
  }
 },
 "nbformat": 4,
 "nbformat_minor": 5
}
