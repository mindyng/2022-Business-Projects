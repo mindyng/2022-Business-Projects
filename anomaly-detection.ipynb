{
 "cells": [
  {
   "cell_type": "code",
   "execution_count": 1,
   "id": "adaee65e",
   "metadata": {
    "_cell_guid": "b1076dfc-b9ad-4769-8c92-a6c4dae69d19",
    "_uuid": "8f2839f25d086af736a60e9eeb907d3b93b6e0e5",
    "execution": {
     "iopub.execute_input": "2022-12-30T23:20:34.133892Z",
     "iopub.status.busy": "2022-12-30T23:20:34.132806Z",
     "iopub.status.idle": "2022-12-30T23:20:35.220174Z",
     "shell.execute_reply": "2022-12-30T23:20:35.218973Z"
    },
    "papermill": {
     "duration": 1.1095,
     "end_time": "2022-12-30T23:20:35.223284",
     "exception": false,
     "start_time": "2022-12-30T23:20:34.113784",
     "status": "completed"
    },
    "tags": []
   },
   "outputs": [],
   "source": [
    "import pandas as pd\n",
    "import numpy as np\n",
    "import matplotlib.pyplot as plt\n",
    "import seaborn as sns\n",
    "%matplotlib inline\n",
    "pd.options.display.float_format = '{:.2f}'.format"
   ]
  },
  {
   "cell_type": "markdown",
   "id": "98cdd4c8",
   "metadata": {
    "papermill": {
     "duration": 0.015387,
     "end_time": "2022-12-30T23:20:35.254992",
     "exception": false,
     "start_time": "2022-12-30T23:20:35.239605",
     "status": "completed"
    },
    "tags": []
   },
   "source": [
    "# Objective \n",
    "\n",
    "Anomaly/Outlier detection is important in a business context in order to prevent fraud and improve security.\n",
    "\n",
    "Usually, the problem is: \n",
    "* supervised\n",
    "* semi-supervised\n",
    "* unsupervised\n",
    "\n",
    "with most of the problems being unsupervised. Our problem will be a supervised learning one."
   ]
  },
  {
   "cell_type": "markdown",
   "id": "bbaa6688",
   "metadata": {
    "papermill": {
     "duration": 0.015835,
     "end_time": "2022-12-30T23:20:35.286466",
     "exception": false,
     "start_time": "2022-12-30T23:20:35.270631",
     "status": "completed"
    },
    "tags": []
   },
   "source": [
    "# Background\n",
    "\n",
    "We will be tackling credit card fraud. Credit cards were made for people to increase their purchase power. Money is borrowed and then agreed on to be paid back to the bank. Otherwise, an interest charge will incur. The cost of credit card fraud to the economy on a global level has been: $24 billion per year. Thus, automating its detection in order to start intervening on the issue is imperative for a business to be healthy. Building preditive/AI models helps in catching these fraudsters early on.    "
   ]
  },
  {
   "cell_type": "markdown",
   "id": "8a379d02",
   "metadata": {
    "execution": {
     "iopub.execute_input": "2022-12-29T23:51:08.290415Z",
     "iopub.status.busy": "2022-12-29T23:51:08.290006Z",
     "iopub.status.idle": "2022-12-29T23:51:08.296563Z",
     "shell.execute_reply": "2022-12-29T23:51:08.295222Z",
     "shell.execute_reply.started": "2022-12-29T23:51:08.290382Z"
    },
    "papermill": {
     "duration": 0.015188,
     "end_time": "2022-12-30T23:20:35.317407",
     "exception": false,
     "start_time": "2022-12-30T23:20:35.302219",
     "status": "completed"
    },
    "tags": []
   },
   "source": [
    "# Analysis Structure:\n",
    "\n",
    "1. Dataset Information\n",
    "2. Data Visualization\n",
    "3. Feature Selection\n",
    "4. Data Balancing\n",
    "5. Modeling\n",
    "6. Conclusion"
   ]
  },
  {
   "cell_type": "markdown",
   "id": "52874a91",
   "metadata": {
    "papermill": {
     "duration": 0.015221,
     "end_time": "2022-12-30T23:20:35.348018",
     "exception": false,
     "start_time": "2022-12-30T23:20:35.332797",
     "status": "completed"
    },
    "tags": []
   },
   "source": [
    "# Dataset Information\n",
    "\n",
    "* V1 - V28 : Numerical features that are a result of PCA transformation.\n",
    "\n",
    "* Time : Seconds elapsed between each transaction and the 1st transaction.\n",
    "\n",
    "* Amount : Transaction amount.\n",
    "\n",
    "* Class : Fraud or otherwise (1 or 0)"
   ]
  },
  {
   "cell_type": "code",
   "execution_count": 2,
   "id": "a29058e4",
   "metadata": {
    "execution": {
     "iopub.execute_input": "2022-12-30T23:20:35.381772Z",
     "iopub.status.busy": "2022-12-30T23:20:35.380556Z",
     "iopub.status.idle": "2022-12-30T23:20:40.070430Z",
     "shell.execute_reply": "2022-12-30T23:20:40.069184Z"
    },
    "papermill": {
     "duration": 4.710368,
     "end_time": "2022-12-30T23:20:40.073861",
     "exception": false,
     "start_time": "2022-12-30T23:20:35.363493",
     "status": "completed"
    },
    "tags": []
   },
   "outputs": [
    {
     "data": {
      "text/html": [
       "<div>\n",
       "<style scoped>\n",
       "    .dataframe tbody tr th:only-of-type {\n",
       "        vertical-align: middle;\n",
       "    }\n",
       "\n",
       "    .dataframe tbody tr th {\n",
       "        vertical-align: top;\n",
       "    }\n",
       "\n",
       "    .dataframe thead th {\n",
       "        text-align: right;\n",
       "    }\n",
       "</style>\n",
       "<table border=\"1\" class=\"dataframe\">\n",
       "  <thead>\n",
       "    <tr style=\"text-align: right;\">\n",
       "      <th></th>\n",
       "      <th>Time</th>\n",
       "      <th>V1</th>\n",
       "      <th>V2</th>\n",
       "      <th>V3</th>\n",
       "      <th>V4</th>\n",
       "      <th>V5</th>\n",
       "      <th>V6</th>\n",
       "      <th>V7</th>\n",
       "      <th>V8</th>\n",
       "      <th>V9</th>\n",
       "      <th>...</th>\n",
       "      <th>V21</th>\n",
       "      <th>V22</th>\n",
       "      <th>V23</th>\n",
       "      <th>V24</th>\n",
       "      <th>V25</th>\n",
       "      <th>V26</th>\n",
       "      <th>V27</th>\n",
       "      <th>V28</th>\n",
       "      <th>Amount</th>\n",
       "      <th>Class</th>\n",
       "    </tr>\n",
       "  </thead>\n",
       "  <tbody>\n",
       "    <tr>\n",
       "      <th>0</th>\n",
       "      <td>0.00</td>\n",
       "      <td>-1.36</td>\n",
       "      <td>-0.07</td>\n",
       "      <td>2.54</td>\n",
       "      <td>1.38</td>\n",
       "      <td>-0.34</td>\n",
       "      <td>0.46</td>\n",
       "      <td>0.24</td>\n",
       "      <td>0.10</td>\n",
       "      <td>0.36</td>\n",
       "      <td>...</td>\n",
       "      <td>-0.02</td>\n",
       "      <td>0.28</td>\n",
       "      <td>-0.11</td>\n",
       "      <td>0.07</td>\n",
       "      <td>0.13</td>\n",
       "      <td>-0.19</td>\n",
       "      <td>0.13</td>\n",
       "      <td>-0.02</td>\n",
       "      <td>149.62</td>\n",
       "      <td>0</td>\n",
       "    </tr>\n",
       "    <tr>\n",
       "      <th>1</th>\n",
       "      <td>0.00</td>\n",
       "      <td>1.19</td>\n",
       "      <td>0.27</td>\n",
       "      <td>0.17</td>\n",
       "      <td>0.45</td>\n",
       "      <td>0.06</td>\n",
       "      <td>-0.08</td>\n",
       "      <td>-0.08</td>\n",
       "      <td>0.09</td>\n",
       "      <td>-0.26</td>\n",
       "      <td>...</td>\n",
       "      <td>-0.23</td>\n",
       "      <td>-0.64</td>\n",
       "      <td>0.10</td>\n",
       "      <td>-0.34</td>\n",
       "      <td>0.17</td>\n",
       "      <td>0.13</td>\n",
       "      <td>-0.01</td>\n",
       "      <td>0.01</td>\n",
       "      <td>2.69</td>\n",
       "      <td>0</td>\n",
       "    </tr>\n",
       "    <tr>\n",
       "      <th>2</th>\n",
       "      <td>1.00</td>\n",
       "      <td>-1.36</td>\n",
       "      <td>-1.34</td>\n",
       "      <td>1.77</td>\n",
       "      <td>0.38</td>\n",
       "      <td>-0.50</td>\n",
       "      <td>1.80</td>\n",
       "      <td>0.79</td>\n",
       "      <td>0.25</td>\n",
       "      <td>-1.51</td>\n",
       "      <td>...</td>\n",
       "      <td>0.25</td>\n",
       "      <td>0.77</td>\n",
       "      <td>0.91</td>\n",
       "      <td>-0.69</td>\n",
       "      <td>-0.33</td>\n",
       "      <td>-0.14</td>\n",
       "      <td>-0.06</td>\n",
       "      <td>-0.06</td>\n",
       "      <td>378.66</td>\n",
       "      <td>0</td>\n",
       "    </tr>\n",
       "    <tr>\n",
       "      <th>3</th>\n",
       "      <td>1.00</td>\n",
       "      <td>-0.97</td>\n",
       "      <td>-0.19</td>\n",
       "      <td>1.79</td>\n",
       "      <td>-0.86</td>\n",
       "      <td>-0.01</td>\n",
       "      <td>1.25</td>\n",
       "      <td>0.24</td>\n",
       "      <td>0.38</td>\n",
       "      <td>-1.39</td>\n",
       "      <td>...</td>\n",
       "      <td>-0.11</td>\n",
       "      <td>0.01</td>\n",
       "      <td>-0.19</td>\n",
       "      <td>-1.18</td>\n",
       "      <td>0.65</td>\n",
       "      <td>-0.22</td>\n",
       "      <td>0.06</td>\n",
       "      <td>0.06</td>\n",
       "      <td>123.50</td>\n",
       "      <td>0</td>\n",
       "    </tr>\n",
       "    <tr>\n",
       "      <th>4</th>\n",
       "      <td>2.00</td>\n",
       "      <td>-1.16</td>\n",
       "      <td>0.88</td>\n",
       "      <td>1.55</td>\n",
       "      <td>0.40</td>\n",
       "      <td>-0.41</td>\n",
       "      <td>0.10</td>\n",
       "      <td>0.59</td>\n",
       "      <td>-0.27</td>\n",
       "      <td>0.82</td>\n",
       "      <td>...</td>\n",
       "      <td>-0.01</td>\n",
       "      <td>0.80</td>\n",
       "      <td>-0.14</td>\n",
       "      <td>0.14</td>\n",
       "      <td>-0.21</td>\n",
       "      <td>0.50</td>\n",
       "      <td>0.22</td>\n",
       "      <td>0.22</td>\n",
       "      <td>69.99</td>\n",
       "      <td>0</td>\n",
       "    </tr>\n",
       "  </tbody>\n",
       "</table>\n",
       "<p>5 rows × 31 columns</p>\n",
       "</div>"
      ],
      "text/plain": [
       "   Time    V1    V2   V3    V4    V5    V6    V7    V8    V9  ...   V21   V22  \\\n",
       "0  0.00 -1.36 -0.07 2.54  1.38 -0.34  0.46  0.24  0.10  0.36  ... -0.02  0.28   \n",
       "1  0.00  1.19  0.27 0.17  0.45  0.06 -0.08 -0.08  0.09 -0.26  ... -0.23 -0.64   \n",
       "2  1.00 -1.36 -1.34 1.77  0.38 -0.50  1.80  0.79  0.25 -1.51  ...  0.25  0.77   \n",
       "3  1.00 -0.97 -0.19 1.79 -0.86 -0.01  1.25  0.24  0.38 -1.39  ... -0.11  0.01   \n",
       "4  2.00 -1.16  0.88 1.55  0.40 -0.41  0.10  0.59 -0.27  0.82  ... -0.01  0.80   \n",
       "\n",
       "    V23   V24   V25   V26   V27   V28  Amount  Class  \n",
       "0 -0.11  0.07  0.13 -0.19  0.13 -0.02  149.62      0  \n",
       "1  0.10 -0.34  0.17  0.13 -0.01  0.01    2.69      0  \n",
       "2  0.91 -0.69 -0.33 -0.14 -0.06 -0.06  378.66      0  \n",
       "3 -0.19 -1.18  0.65 -0.22  0.06  0.06  123.50      0  \n",
       "4 -0.14  0.14 -0.21  0.50  0.22  0.22   69.99      0  \n",
       "\n",
       "[5 rows x 31 columns]"
      ]
     },
     "execution_count": 2,
     "metadata": {},
     "output_type": "execute_result"
    }
   ],
   "source": [
    "data = pd.read_csv('/kaggle/input/creditcardfraud/creditcard.csv')\n",
    "data.head()"
   ]
  },
  {
   "cell_type": "code",
   "execution_count": 3,
   "id": "47df8fb3",
   "metadata": {
    "execution": {
     "iopub.execute_input": "2022-12-30T23:20:40.109150Z",
     "iopub.status.busy": "2022-12-30T23:20:40.108139Z",
     "iopub.status.idle": "2022-12-30T23:20:40.151868Z",
     "shell.execute_reply": "2022-12-30T23:20:40.150675Z"
    },
    "papermill": {
     "duration": 0.064823,
     "end_time": "2022-12-30T23:20:40.155077",
     "exception": false,
     "start_time": "2022-12-30T23:20:40.090254",
     "status": "completed"
    },
    "tags": []
   },
   "outputs": [
    {
     "name": "stdout",
     "output_type": "stream",
     "text": [
      "<class 'pandas.core.frame.DataFrame'>\n",
      "RangeIndex: 284807 entries, 0 to 284806\n",
      "Data columns (total 31 columns):\n",
      " #   Column  Non-Null Count   Dtype  \n",
      "---  ------  --------------   -----  \n",
      " 0   Time    284807 non-null  float64\n",
      " 1   V1      284807 non-null  float64\n",
      " 2   V2      284807 non-null  float64\n",
      " 3   V3      284807 non-null  float64\n",
      " 4   V4      284807 non-null  float64\n",
      " 5   V5      284807 non-null  float64\n",
      " 6   V6      284807 non-null  float64\n",
      " 7   V7      284807 non-null  float64\n",
      " 8   V8      284807 non-null  float64\n",
      " 9   V9      284807 non-null  float64\n",
      " 10  V10     284807 non-null  float64\n",
      " 11  V11     284807 non-null  float64\n",
      " 12  V12     284807 non-null  float64\n",
      " 13  V13     284807 non-null  float64\n",
      " 14  V14     284807 non-null  float64\n",
      " 15  V15     284807 non-null  float64\n",
      " 16  V16     284807 non-null  float64\n",
      " 17  V17     284807 non-null  float64\n",
      " 18  V18     284807 non-null  float64\n",
      " 19  V19     284807 non-null  float64\n",
      " 20  V20     284807 non-null  float64\n",
      " 21  V21     284807 non-null  float64\n",
      " 22  V22     284807 non-null  float64\n",
      " 23  V23     284807 non-null  float64\n",
      " 24  V24     284807 non-null  float64\n",
      " 25  V25     284807 non-null  float64\n",
      " 26  V26     284807 non-null  float64\n",
      " 27  V27     284807 non-null  float64\n",
      " 28  V28     284807 non-null  float64\n",
      " 29  Amount  284807 non-null  float64\n",
      " 30  Class   284807 non-null  int64  \n",
      "dtypes: float64(30), int64(1)\n",
      "memory usage: 67.4 MB\n"
     ]
    }
   ],
   "source": [
    "#check data types\n",
    "\n",
    "data.info()"
   ]
  },
  {
   "cell_type": "code",
   "execution_count": 4,
   "id": "a2c0e1b3",
   "metadata": {
    "execution": {
     "iopub.execute_input": "2022-12-30T23:20:40.189531Z",
     "iopub.status.busy": "2022-12-30T23:20:40.188592Z",
     "iopub.status.idle": "2022-12-30T23:20:52.326908Z",
     "shell.execute_reply": "2022-12-30T23:20:52.325611Z"
    },
    "papermill": {
     "duration": 12.158054,
     "end_time": "2022-12-30T23:20:52.329315",
     "exception": false,
     "start_time": "2022-12-30T23:20:40.171261",
     "status": "completed"
    },
    "tags": []
   },
   "outputs": [
    {
     "data": {
      "text/plain": [
       "<AxesSubplot:>"
      ]
     },
     "execution_count": 4,
     "metadata": {},
     "output_type": "execute_result"
    },
    {
     "data": {
      "image/png": "[encoded data removed]",
      "text/plain": [
       "<Figure size 432x288 with 1 Axes>"
      ]
     },
     "metadata": {
      "needs_background": "light"
     },
     "output_type": "display_data"
    }
   ],
   "source": [
    "# check for NaN's\n",
    "sns.heatmap(data.isnull(),cmap = 'magma',cbar = False)"
   ]
  },
  {
   "cell_type": "markdown",
   "id": "42b42ff6",
   "metadata": {
    "papermill": {
     "duration": 0.017363,
     "end_time": "2022-12-30T23:20:52.363959",
     "exception": false,
     "start_time": "2022-12-30T23:20:52.346596",
     "status": "completed"
    },
    "tags": []
   },
   "source": [
    "There are no NaN's."
   ]
  },
  {
   "cell_type": "code",
   "execution_count": 5,
   "id": "837935d6",
   "metadata": {
    "execution": {
     "iopub.execute_input": "2022-12-30T23:20:52.399954Z",
     "iopub.status.busy": "2022-12-30T23:20:52.399259Z",
     "iopub.status.idle": "2022-12-30T23:20:52.880714Z",
     "shell.execute_reply": "2022-12-30T23:20:52.879344Z"
    },
    "papermill": {
     "duration": 0.502298,
     "end_time": "2022-12-30T23:20:52.883388",
     "exception": false,
     "start_time": "2022-12-30T23:20:52.381090",
     "status": "completed"
    },
    "tags": []
   },
   "outputs": [
    {
     "data": {
      "text/html": [
       "<div>\n",
       "<style scoped>\n",
       "    .dataframe tbody tr th:only-of-type {\n",
       "        vertical-align: middle;\n",
       "    }\n",
       "\n",
       "    .dataframe tbody tr th {\n",
       "        vertical-align: top;\n",
       "    }\n",
       "\n",
       "    .dataframe thead th {\n",
       "        text-align: right;\n",
       "    }\n",
       "</style>\n",
       "<table border=\"1\" class=\"dataframe\">\n",
       "  <thead>\n",
       "    <tr style=\"text-align: right;\">\n",
       "      <th></th>\n",
       "      <th>Time</th>\n",
       "      <th>V1</th>\n",
       "      <th>V2</th>\n",
       "      <th>V3</th>\n",
       "      <th>V4</th>\n",
       "      <th>V5</th>\n",
       "      <th>V6</th>\n",
       "      <th>V7</th>\n",
       "      <th>V8</th>\n",
       "      <th>V9</th>\n",
       "      <th>...</th>\n",
       "      <th>V21</th>\n",
       "      <th>V22</th>\n",
       "      <th>V23</th>\n",
       "      <th>V24</th>\n",
       "      <th>V25</th>\n",
       "      <th>V26</th>\n",
       "      <th>V27</th>\n",
       "      <th>V28</th>\n",
       "      <th>Amount</th>\n",
       "      <th>Class</th>\n",
       "    </tr>\n",
       "  </thead>\n",
       "  <tbody>\n",
       "    <tr>\n",
       "      <th>count</th>\n",
       "      <td>284807.00</td>\n",
       "      <td>284807.00</td>\n",
       "      <td>284807.00</td>\n",
       "      <td>284807.00</td>\n",
       "      <td>284807.00</td>\n",
       "      <td>284807.00</td>\n",
       "      <td>284807.00</td>\n",
       "      <td>284807.00</td>\n",
       "      <td>284807.00</td>\n",
       "      <td>284807.00</td>\n",
       "      <td>...</td>\n",
       "      <td>284807.00</td>\n",
       "      <td>284807.00</td>\n",
       "      <td>284807.00</td>\n",
       "      <td>284807.00</td>\n",
       "      <td>284807.00</td>\n",
       "      <td>284807.00</td>\n",
       "      <td>284807.00</td>\n",
       "      <td>284807.00</td>\n",
       "      <td>284807.00</td>\n",
       "      <td>284807.00</td>\n",
       "    </tr>\n",
       "    <tr>\n",
       "      <th>mean</th>\n",
       "      <td>94813.86</td>\n",
       "      <td>0.00</td>\n",
       "      <td>0.00</td>\n",
       "      <td>-0.00</td>\n",
       "      <td>0.00</td>\n",
       "      <td>0.00</td>\n",
       "      <td>0.00</td>\n",
       "      <td>-0.00</td>\n",
       "      <td>0.00</td>\n",
       "      <td>-0.00</td>\n",
       "      <td>...</td>\n",
       "      <td>0.00</td>\n",
       "      <td>-0.00</td>\n",
       "      <td>0.00</td>\n",
       "      <td>0.00</td>\n",
       "      <td>0.00</td>\n",
       "      <td>0.00</td>\n",
       "      <td>-0.00</td>\n",
       "      <td>-0.00</td>\n",
       "      <td>88.35</td>\n",
       "      <td>0.00</td>\n",
       "    </tr>\n",
       "    <tr>\n",
       "      <th>std</th>\n",
       "      <td>47488.15</td>\n",
       "      <td>1.96</td>\n",
       "      <td>1.65</td>\n",
       "      <td>1.52</td>\n",
       "      <td>1.42</td>\n",
       "      <td>1.38</td>\n",
       "      <td>1.33</td>\n",
       "      <td>1.24</td>\n",
       "      <td>1.19</td>\n",
       "      <td>1.10</td>\n",
       "      <td>...</td>\n",
       "      <td>0.73</td>\n",
       "      <td>0.73</td>\n",
       "      <td>0.62</td>\n",
       "      <td>0.61</td>\n",
       "      <td>0.52</td>\n",
       "      <td>0.48</td>\n",
       "      <td>0.40</td>\n",
       "      <td>0.33</td>\n",
       "      <td>250.12</td>\n",
       "      <td>0.04</td>\n",
       "    </tr>\n",
       "    <tr>\n",
       "      <th>min</th>\n",
       "      <td>0.00</td>\n",
       "      <td>-56.41</td>\n",
       "      <td>-72.72</td>\n",
       "      <td>-48.33</td>\n",
       "      <td>-5.68</td>\n",
       "      <td>-113.74</td>\n",
       "      <td>-26.16</td>\n",
       "      <td>-43.56</td>\n",
       "      <td>-73.22</td>\n",
       "      <td>-13.43</td>\n",
       "      <td>...</td>\n",
       "      <td>-34.83</td>\n",
       "      <td>-10.93</td>\n",
       "      <td>-44.81</td>\n",
       "      <td>-2.84</td>\n",
       "      <td>-10.30</td>\n",
       "      <td>-2.60</td>\n",
       "      <td>-22.57</td>\n",
       "      <td>-15.43</td>\n",
       "      <td>0.00</td>\n",
       "      <td>0.00</td>\n",
       "    </tr>\n",
       "    <tr>\n",
       "      <th>25%</th>\n",
       "      <td>54201.50</td>\n",
       "      <td>-0.92</td>\n",
       "      <td>-0.60</td>\n",
       "      <td>-0.89</td>\n",
       "      <td>-0.85</td>\n",
       "      <td>-0.69</td>\n",
       "      <td>-0.77</td>\n",
       "      <td>-0.55</td>\n",
       "      <td>-0.21</td>\n",
       "      <td>-0.64</td>\n",
       "      <td>...</td>\n",
       "      <td>-0.23</td>\n",
       "      <td>-0.54</td>\n",
       "      <td>-0.16</td>\n",
       "      <td>-0.35</td>\n",
       "      <td>-0.32</td>\n",
       "      <td>-0.33</td>\n",
       "      <td>-0.07</td>\n",
       "      <td>-0.05</td>\n",
       "      <td>5.60</td>\n",
       "      <td>0.00</td>\n",
       "    </tr>\n",
       "    <tr>\n",
       "      <th>50%</th>\n",
       "      <td>84692.00</td>\n",
       "      <td>0.02</td>\n",
       "      <td>0.07</td>\n",
       "      <td>0.18</td>\n",
       "      <td>-0.02</td>\n",
       "      <td>-0.05</td>\n",
       "      <td>-0.27</td>\n",
       "      <td>0.04</td>\n",
       "      <td>0.02</td>\n",
       "      <td>-0.05</td>\n",
       "      <td>...</td>\n",
       "      <td>-0.03</td>\n",
       "      <td>0.01</td>\n",
       "      <td>-0.01</td>\n",
       "      <td>0.04</td>\n",
       "      <td>0.02</td>\n",
       "      <td>-0.05</td>\n",
       "      <td>0.00</td>\n",
       "      <td>0.01</td>\n",
       "      <td>22.00</td>\n",
       "      <td>0.00</td>\n",
       "    </tr>\n",
       "    <tr>\n",
       "      <th>75%</th>\n",
       "      <td>139320.50</td>\n",
       "      <td>1.32</td>\n",
       "      <td>0.80</td>\n",
       "      <td>1.03</td>\n",
       "      <td>0.74</td>\n",
       "      <td>0.61</td>\n",
       "      <td>0.40</td>\n",
       "      <td>0.57</td>\n",
       "      <td>0.33</td>\n",
       "      <td>0.60</td>\n",
       "      <td>...</td>\n",
       "      <td>0.19</td>\n",
       "      <td>0.53</td>\n",
       "      <td>0.15</td>\n",
       "      <td>0.44</td>\n",
       "      <td>0.35</td>\n",
       "      <td>0.24</td>\n",
       "      <td>0.09</td>\n",
       "      <td>0.08</td>\n",
       "      <td>77.16</td>\n",
       "      <td>0.00</td>\n",
       "    </tr>\n",
       "    <tr>\n",
       "      <th>max</th>\n",
       "      <td>172792.00</td>\n",
       "      <td>2.45</td>\n",
       "      <td>22.06</td>\n",
       "      <td>9.38</td>\n",
       "      <td>16.88</td>\n",
       "      <td>34.80</td>\n",
       "      <td>73.30</td>\n",
       "      <td>120.59</td>\n",
       "      <td>20.01</td>\n",
       "      <td>15.59</td>\n",
       "      <td>...</td>\n",
       "      <td>27.20</td>\n",
       "      <td>10.50</td>\n",
       "      <td>22.53</td>\n",
       "      <td>4.58</td>\n",
       "      <td>7.52</td>\n",
       "      <td>3.52</td>\n",
       "      <td>31.61</td>\n",
       "      <td>33.85</td>\n",
       "      <td>25691.16</td>\n",
       "      <td>1.00</td>\n",
       "    </tr>\n",
       "  </tbody>\n",
       "</table>\n",
       "<p>8 rows × 31 columns</p>\n",
       "</div>"
      ],
      "text/plain": [
       "           Time        V1        V2        V3        V4        V5        V6  \\\n",
       "count 284807.00 284807.00 284807.00 284807.00 284807.00 284807.00 284807.00   \n",
       "mean   94813.86      0.00      0.00     -0.00      0.00      0.00      0.00   \n",
       "std    47488.15      1.96      1.65      1.52      1.42      1.38      1.33   \n",
       "min        0.00    -56.41    -72.72    -48.33     -5.68   -113.74    -26.16   \n",
       "25%    54201.50     -0.92     -0.60     -0.89     -0.85     -0.69     -0.77   \n",
       "50%    84692.00      0.02      0.07      0.18     -0.02     -0.05     -0.27   \n",
       "75%   139320.50      1.32      0.80      1.03      0.74      0.61      0.40   \n",
       "max   172792.00      2.45     22.06      9.38     16.88     34.80     73.30   \n",
       "\n",
       "             V7        V8        V9  ...       V21       V22       V23  \\\n",
       "count 284807.00 284807.00 284807.00  ... 284807.00 284807.00 284807.00   \n",
       "mean      -0.00      0.00     -0.00  ...      0.00     -0.00      0.00   \n",
       "std        1.24      1.19      1.10  ...      0.73      0.73      0.62   \n",
       "min      -43.56    -73.22    -13.43  ...    -34.83    -10.93    -44.81   \n",
       "25%       -0.55     -0.21     -0.64  ...     -0.23     -0.54     -0.16   \n",
       "50%        0.04      0.02     -0.05  ...     -0.03      0.01     -0.01   \n",
       "75%        0.57      0.33      0.60  ...      0.19      0.53      0.15   \n",
       "max      120.59     20.01     15.59  ...     27.20     10.50     22.53   \n",
       "\n",
       "            V24       V25       V26       V27       V28    Amount     Class  \n",
       "count 284807.00 284807.00 284807.00 284807.00 284807.00 284807.00 284807.00  \n",
       "mean       0.00      0.00      0.00     -0.00     -0.00     88.35      0.00  \n",
       "std        0.61      0.52      0.48      0.40      0.33    250.12      0.04  \n",
       "min       -2.84    -10.30     -2.60    -22.57    -15.43      0.00      0.00  \n",
       "25%       -0.35     -0.32     -0.33     -0.07     -0.05      5.60      0.00  \n",
       "50%        0.04      0.02     -0.05      0.00      0.01     22.00      0.00  \n",
       "75%        0.44      0.35      0.24      0.09      0.08     77.16      0.00  \n",
       "max        4.58      7.52      3.52     31.61     33.85  25691.16      1.00  \n",
       "\n",
       "[8 rows x 31 columns]"
      ]
     },
     "execution_count": 5,
     "metadata": {},
     "output_type": "execute_result"
    }
   ],
   "source": [
    "# General stat's including quartiles per column\n",
    "data.describe()"
   ]
  },
  {
   "cell_type": "code",
   "execution_count": 6,
   "id": "d46b5f86",
   "metadata": {
    "execution": {
     "iopub.execute_input": "2022-12-30T23:20:52.919145Z",
     "iopub.status.busy": "2022-12-30T23:20:52.918710Z",
     "iopub.status.idle": "2022-12-30T23:20:54.965948Z",
     "shell.execute_reply": "2022-12-30T23:20:54.964986Z"
    },
    "papermill": {
     "duration": 2.068563,
     "end_time": "2022-12-30T23:20:54.968918",
     "exception": false,
     "start_time": "2022-12-30T23:20:52.900355",
     "status": "completed"
    },
    "tags": []
   },
   "outputs": [
    {
     "data": {
      "image/png": "[encoded data removed]",
      "text/plain": [
       "<Figure size 360x1080 with 4 Axes>"
      ]
     },
     "metadata": {
      "needs_background": "light"
     },
     "output_type": "display_data"
    }
   ],
   "source": [
    "fraud = data[data['Class'] == 1].describe().T\n",
    "nofraud = data[data['Class'] == 0].describe().T\n",
    "\n",
    "colors = ['#FFD700','#3B3B3C']\n",
    "\n",
    "fig,ax = plt.subplots(nrows = 2,ncols = 2,figsize = (5,15))\n",
    "plt.subplot(2,2,1)\n",
    "sns.heatmap(fraud[['mean']][:15],annot = True,cmap = colors,linewidths = 0.5,linecolor = 'black',cbar = False,fmt = '.2f')\n",
    "plt.title('Fraud Samples : Part 1');\n",
    "\n",
    "plt.subplot(2,2,2)\n",
    "sns.heatmap(fraud[['mean']][15:30],annot = True,cmap = colors,linewidths = 0.5,linecolor = 'black',cbar = False,fmt = '.2f')\n",
    "plt.title('Fraud Samples : Part 2');\n",
    "\n",
    "plt.subplot(2,2,3)\n",
    "sns.heatmap(nofraud[['mean']][:15],annot = True,cmap = colors,linewidths = 0.5,linecolor = 'black',cbar = False,fmt = '.2f')\n",
    "plt.title('No Fraud Samples : Part 1');\n",
    "\n",
    "plt.subplot(2,2,4)\n",
    "sns.heatmap(nofraud[['mean']][15:30],annot = True,cmap = colors,linewidths = 0.5,linecolor = 'black',cbar = False,fmt = '.2f')\n",
    "plt.title('No Fraud Samples : Part 2');\n",
    "\n",
    "fig.tight_layout(w_pad = 2)"
   ]
  },
  {
   "cell_type": "markdown",
   "id": "405c21b3",
   "metadata": {
    "papermill": {
     "duration": 0.017932,
     "end_time": "2022-12-30T23:20:55.006096",
     "exception": false,
     "start_time": "2022-12-30T23:20:54.988164",
     "status": "completed"
    },
    "tags": []
   },
   "source": [
    "**These are the mean values for features for fraud and no fraud cases.**\n",
    "\n",
    "Some observations:\n",
    "\n",
    "* For No Fraud cases:\n",
    "    * V1 - V28 mean values are almost 0 for all cases\n",
    "    * Mean transaction amount of: 88.29 is less than the mean transaction amount for the fraudalent cases: 122.21\n",
    "    * Time taken for non-fraudalent transactions is more than that of fraudalent transactions\n",
    "\n",
    "*These could be some of the indicators for detecting fraud transactions.*"
   ]
  },
  {
   "cell_type": "markdown",
   "id": "e517798e",
   "metadata": {
    "papermill": {
     "duration": 0.01844,
     "end_time": "2022-12-30T23:20:55.043553",
     "exception": false,
     "start_time": "2022-12-30T23:20:55.025113",
     "status": "completed"
    },
    "tags": []
   },
   "source": [
    "# Data Visualization"
   ]
  },
  {
   "cell_type": "markdown",
   "id": "957bf8ea",
   "metadata": {
    "papermill": {
     "duration": 0.017736,
     "end_time": "2022-12-30T23:20:55.079901",
     "exception": false,
     "start_time": "2022-12-30T23:20:55.062165",
     "status": "completed"
    },
    "tags": []
   },
   "source": [
    "Target Variable (Class) Visualization"
   ]
  },
  {
   "cell_type": "code",
   "execution_count": 7,
   "id": "2ae6143b",
   "metadata": {
    "execution": {
     "iopub.execute_input": "2022-12-30T23:20:55.117732Z",
     "iopub.status.busy": "2022-12-30T23:20:55.117315Z",
     "iopub.status.idle": "2022-12-30T23:20:55.480962Z",
     "shell.execute_reply": "2022-12-30T23:20:55.480077Z"
    },
    "papermill": {
     "duration": 0.385235,
     "end_time": "2022-12-30T23:20:55.483228",
     "exception": false,
     "start_time": "2022-12-30T23:20:55.097993",
     "status": "completed"
    },
    "tags": []
   },
   "outputs": [
    {
     "data": {
      "image/png": "[encoded data removed]",
      "text/plain": [
       "<Figure size 1440x360 with 2 Axes>"
      ]
     },
     "metadata": {
      "needs_background": "light"
     },
     "output_type": "display_data"
    }
   ],
   "source": [
    "fraud = len(data[data['Class'] == 1]) / len(data) * 100\n",
    "nofraud = len(data[data['Class'] == 0]) / len(data) * 100\n",
    "fraud_percentage = [nofraud,fraud]\n",
    "\n",
    "fig,ax = plt.subplots(nrows = 1,ncols = 2,figsize = (20,5))\n",
    "plt.subplot(1,2,1)\n",
    "plt.pie(fraud_percentage,labels = ['Fraud','No Fraud'],autopct='%1.1f%%',startangle = 90,colors = colors,\n",
    "       wedgeprops = {'edgecolor' : 'black','linewidth': 1,'antialiased' : True})\n",
    "\n",
    "plt.subplot(1,2,2)\n",
    "ax = sns.countplot(x='Class',data = data,edgecolor = 'black',palette = colors)\n",
    "for rect in ax.patches:\n",
    "    ax.text(rect.get_x() + rect.get_width() / 2, rect.get_height() + 2, rect.get_height(), horizontalalignment='center', fontsize = 11)\n",
    "ax.set_xticklabels(['No Fraud','Fraud'])\n",
    "plt.title('Number of Fraud Cases');"
   ]
  },
  {
   "cell_type": "markdown",
   "id": "a8895708",
   "metadata": {
    "papermill": {
     "duration": 0.018791,
     "end_time": "2022-12-30T23:20:55.521673",
     "exception": false,
     "start_time": "2022-12-30T23:20:55.502882",
     "status": "completed"
    },
    "tags": []
   },
   "source": [
    "Notes:\n",
    "    \n",
    "* Highly imbalanced dataset with most cases being no fraud. \n",
    "* due to the imbalance, the prediction model will incorrectly biasly predict no fraud most of the time\n",
    "* therefore, a crucial step in building the model is balancing the dataset"
   ]
  },
  {
   "cell_type": "markdown",
   "id": "6967ddac",
   "metadata": {
    "papermill": {
     "duration": 0.018784,
     "end_time": "2022-12-30T23:20:55.559431",
     "exception": false,
     "start_time": "2022-12-30T23:20:55.540647",
     "status": "completed"
    },
    "tags": []
   },
   "source": [
    "# Feature Selection"
   ]
  },
  {
   "cell_type": "code",
   "execution_count": 8,
   "id": "5f938663",
   "metadata": {
    "execution": {
     "iopub.execute_input": "2022-12-30T23:20:55.600633Z",
     "iopub.status.busy": "2022-12-30T23:20:55.599949Z",
     "iopub.status.idle": "2022-12-30T23:20:56.839163Z",
     "shell.execute_reply": "2022-12-30T23:20:56.837916Z"
    },
    "papermill": {
     "duration": 1.263565,
     "end_time": "2022-12-30T23:20:56.842070",
     "exception": false,
     "start_time": "2022-12-30T23:20:55.578505",
     "status": "completed"
    },
    "tags": []
   },
   "outputs": [
    {
     "data": {
      "text/plain": [
       "<AxesSubplot:>"
      ]
     },
     "execution_count": 8,
     "metadata": {},
     "output_type": "execute_result"
    },
    {
     "data": {
      "image/png": "[encoded data removed]",
      "text/plain": [
       "<Figure size 432x288 with 2 Axes>"
      ]
     },
     "metadata": {
      "needs_background": "light"
     },
     "output_type": "display_data"
    }
   ],
   "source": [
    "sns.heatmap(data.corr(), cmap = colors, cbar = True)"
   ]
  },
  {
   "cell_type": "markdown",
   "id": "40bc0778",
   "metadata": {
    "papermill": {
     "duration": 0.018388,
     "end_time": "2022-12-30T23:20:56.879572",
     "exception": false,
     "start_time": "2022-12-30T23:20:56.861184",
     "status": "completed"
    },
    "tags": []
   },
   "source": [
    "* There are a lot of features in the dataset. So it is difficult to make a conclusion from this correlation matrix\n",
    "* Will output another matrix, but using target variable only"
   ]
  },
  {
   "cell_type": "code",
   "execution_count": 9,
   "id": "be8c0a2e",
   "metadata": {
    "execution": {
     "iopub.execute_input": "2022-12-30T23:20:56.919599Z",
     "iopub.status.busy": "2022-12-30T23:20:56.918899Z",
     "iopub.status.idle": "2022-12-30T23:20:57.671962Z",
     "shell.execute_reply": "2022-12-30T23:20:57.670683Z"
    },
    "papermill": {
     "duration": 0.776705,
     "end_time": "2022-12-30T23:20:57.675016",
     "exception": false,
     "start_time": "2022-12-30T23:20:56.898311",
     "status": "completed"
    },
    "tags": []
   },
   "outputs": [
    {
     "data": {
      "image/png": "[encoded data removed]",
      "text/plain": [
       "<Figure size 360x720 with 2 Axes>"
      ]
     },
     "metadata": {
      "needs_background": "light"
     },
     "output_type": "display_data"
    }
   ],
   "source": [
    "corr = data.corrwith(data['Class']).sort_values(ascending = False).to_frame()\n",
    "corr.columns = ['Correlation']\n",
    "fig,ax = plt.subplots(nrows = 1,ncols = 2,figsize = (5,10))\n",
    "\n",
    "plt.subplot(1,2,1)\n",
    "sns.heatmap(corr.iloc[:15,:],annot = True,cmap = colors,linewidths = 0.4,linecolor = 'black',cbar = False)\n",
    "plt.title('Part 1')\n",
    "\n",
    "plt.subplot(1,2,2)\n",
    "sns.heatmap(corr.iloc[15:30],annot = True,cmap = colors,linewidths = 0.4,linecolor = 'black',cbar = False)\n",
    "plt.title('Part 2')\n",
    "\n",
    "fig.tight_layout(w_pad = 2)"
   ]
  },
  {
   "cell_type": "markdown",
   "id": "4a1ddaf1",
   "metadata": {
    "papermill": {
     "duration": 0.019666,
     "end_time": "2022-12-30T23:20:57.715458",
     "exception": false,
     "start_time": "2022-12-30T23:20:57.695792",
     "status": "completed"
    },
    "tags": []
   },
   "source": [
    "* For feature selection, we will **exclude** the features that have values between **[-0.1, 0,1]**.\n",
    "* V11 and V4 are positively correlated and V7, V3, V16, V10, V12, V14, V17 are negatively correlated with the Class feature."
   ]
  },
  {
   "cell_type": "markdown",
   "id": "673a87f6",
   "metadata": {
    "papermill": {
     "duration": 0.019061,
     "end_time": "2022-12-30T23:20:57.754162",
     "exception": false,
     "start_time": "2022-12-30T23:20:57.735101",
     "status": "completed"
    },
    "tags": []
   },
   "source": [
    "### ANOVA Test"
   ]
  },
  {
   "cell_type": "code",
   "execution_count": 10,
   "id": "d2f071cd",
   "metadata": {
    "execution": {
     "iopub.execute_input": "2022-12-30T23:20:57.795133Z",
     "iopub.status.busy": "2022-12-30T23:20:57.794484Z",
     "iopub.status.idle": "2022-12-30T23:20:58.113774Z",
     "shell.execute_reply": "2022-12-30T23:20:58.112628Z"
    },
    "papermill": {
     "duration": 0.343004,
     "end_time": "2022-12-30T23:20:58.116646",
     "exception": false,
     "start_time": "2022-12-30T23:20:57.773642",
     "status": "completed"
    },
    "tags": []
   },
   "outputs": [],
   "source": [
    "from sklearn.feature_selection import SelectKBest\n",
    "from sklearn.feature_selection import f_classif"
   ]
  },
  {
   "cell_type": "code",
   "execution_count": 11,
   "id": "183f558e",
   "metadata": {
    "execution": {
     "iopub.execute_input": "2022-12-30T23:20:58.158633Z",
     "iopub.status.busy": "2022-12-30T23:20:58.157760Z",
     "iopub.status.idle": "2022-12-30T23:20:58.996478Z",
     "shell.execute_reply": "2022-12-30T23:20:58.995161Z"
    },
    "papermill": {
     "duration": 0.862186,
     "end_time": "2022-12-30T23:20:58.998798",
     "exception": false,
     "start_time": "2022-12-30T23:20:58.136612",
     "status": "completed"
    },
    "tags": []
   },
   "outputs": [
    {
     "data": {
      "image/png": "[encoded data removed]",
      "text/plain": [
       "<Figure size 360x720 with 2 Axes>"
      ]
     },
     "metadata": {
      "needs_background": "light"
     },
     "output_type": "display_data"
    }
   ],
   "source": [
    "features = data.loc[:,:'Amount']\n",
    "target = data.loc[:,'Class']\n",
    "\n",
    "best_features = SelectKBest(score_func = f_classif,k = 'all')\n",
    "fit = best_features.fit(features,target)\n",
    "\n",
    "featureScores = pd.DataFrame(data = fit.scores_,index = list(features.columns),columns = ['ANOVA Score']) \n",
    "featureScores = featureScores.sort_values(ascending = False,by = 'ANOVA Score')\n",
    "\n",
    "fig,ax = plt.subplots(nrows = 1,ncols = 2,figsize = (5,10))\n",
    "\n",
    "plt.subplot(1,2,1)\n",
    "sns.heatmap(featureScores.iloc[:15,:],annot = True,cmap = colors,linewidths = 0.4,linecolor = 'black',cbar = False, fmt = '.2f')\n",
    "plt.title('ANOVA Score : Part 1')\n",
    "\n",
    "plt.subplot(1,2,2)\n",
    "sns.heatmap(featureScores.iloc[15:30],annot = True,cmap = colors,linewidths = 0.4,linecolor = 'black',cbar = False, fmt = '.2f')\n",
    "plt.title('ANOVA Score : Part 2')\n",
    "\n",
    "fig.tight_layout(w_pad = 2)"
   ]
  },
  {
   "cell_type": "markdown",
   "id": "4c00b3ad",
   "metadata": {
    "papermill": {
     "duration": 0.019976,
     "end_time": "2022-12-30T23:20:59.039260",
     "exception": false,
     "start_time": "2022-12-30T23:20:59.019284",
     "status": "completed"
    },
    "tags": []
   },
   "source": [
    "* Higher the ANOVA score, higher the importance of that feature with the target value.\n",
    "* From the above plot, any features less than 50 will be rejected.\n",
    "* Given that results are not consistent, we will create 2 different models - one from correlation matrix and other one from ANOVA score."
   ]
  },
  {
   "cell_type": "markdown",
   "id": "d64a7147",
   "metadata": {
    "papermill": {
     "duration": 0.020283,
     "end_time": "2022-12-30T23:20:59.079784",
     "exception": false,
     "start_time": "2022-12-30T23:20:59.059501",
     "status": "completed"
    },
    "tags": []
   },
   "source": [
    "#### Dataset for Model Based on Correlation Matrix"
   ]
  },
  {
   "cell_type": "code",
   "execution_count": 12,
   "id": "b361c4d5",
   "metadata": {
    "execution": {
     "iopub.execute_input": "2022-12-30T23:20:59.123120Z",
     "iopub.status.busy": "2022-12-30T23:20:59.122264Z",
     "iopub.status.idle": "2022-12-30T23:20:59.155804Z",
     "shell.execute_reply": "2022-12-30T23:20:59.154982Z"
    },
    "papermill": {
     "duration": 0.05784,
     "end_time": "2022-12-30T23:20:59.157963",
     "exception": false,
     "start_time": "2022-12-30T23:20:59.100123",
     "status": "completed"
    },
    "tags": []
   },
   "outputs": [
    {
     "data": {
      "text/html": [
       "<div>\n",
       "<style scoped>\n",
       "    .dataframe tbody tr th:only-of-type {\n",
       "        vertical-align: middle;\n",
       "    }\n",
       "\n",
       "    .dataframe tbody tr th {\n",
       "        vertical-align: top;\n",
       "    }\n",
       "\n",
       "    .dataframe thead th {\n",
       "        text-align: right;\n",
       "    }\n",
       "</style>\n",
       "<table border=\"1\" class=\"dataframe\">\n",
       "  <thead>\n",
       "    <tr style=\"text-align: right;\">\n",
       "      <th></th>\n",
       "      <th>V3</th>\n",
       "      <th>V4</th>\n",
       "      <th>V7</th>\n",
       "      <th>V10</th>\n",
       "      <th>V11</th>\n",
       "      <th>V12</th>\n",
       "      <th>V14</th>\n",
       "      <th>V16</th>\n",
       "      <th>V17</th>\n",
       "      <th>Class</th>\n",
       "    </tr>\n",
       "  </thead>\n",
       "  <tbody>\n",
       "    <tr>\n",
       "      <th>0</th>\n",
       "      <td>2.54</td>\n",
       "      <td>1.38</td>\n",
       "      <td>0.24</td>\n",
       "      <td>0.09</td>\n",
       "      <td>-0.55</td>\n",
       "      <td>-0.62</td>\n",
       "      <td>-0.31</td>\n",
       "      <td>-0.47</td>\n",
       "      <td>0.21</td>\n",
       "      <td>0</td>\n",
       "    </tr>\n",
       "    <tr>\n",
       "      <th>1</th>\n",
       "      <td>0.17</td>\n",
       "      <td>0.45</td>\n",
       "      <td>-0.08</td>\n",
       "      <td>-0.17</td>\n",
       "      <td>1.61</td>\n",
       "      <td>1.07</td>\n",
       "      <td>-0.14</td>\n",
       "      <td>0.46</td>\n",
       "      <td>-0.11</td>\n",
       "      <td>0</td>\n",
       "    </tr>\n",
       "    <tr>\n",
       "      <th>2</th>\n",
       "      <td>1.77</td>\n",
       "      <td>0.38</td>\n",
       "      <td>0.79</td>\n",
       "      <td>0.21</td>\n",
       "      <td>0.62</td>\n",
       "      <td>0.07</td>\n",
       "      <td>-0.17</td>\n",
       "      <td>-2.89</td>\n",
       "      <td>1.11</td>\n",
       "      <td>0</td>\n",
       "    </tr>\n",
       "    <tr>\n",
       "      <th>3</th>\n",
       "      <td>1.79</td>\n",
       "      <td>-0.86</td>\n",
       "      <td>0.24</td>\n",
       "      <td>-0.05</td>\n",
       "      <td>-0.23</td>\n",
       "      <td>0.18</td>\n",
       "      <td>-0.29</td>\n",
       "      <td>-1.06</td>\n",
       "      <td>-0.68</td>\n",
       "      <td>0</td>\n",
       "    </tr>\n",
       "    <tr>\n",
       "      <th>4</th>\n",
       "      <td>1.55</td>\n",
       "      <td>0.40</td>\n",
       "      <td>0.59</td>\n",
       "      <td>0.75</td>\n",
       "      <td>-0.82</td>\n",
       "      <td>0.54</td>\n",
       "      <td>-1.12</td>\n",
       "      <td>-0.45</td>\n",
       "      <td>-0.24</td>\n",
       "      <td>0</td>\n",
       "    </tr>\n",
       "  </tbody>\n",
       "</table>\n",
       "</div>"
      ],
      "text/plain": [
       "    V3    V4    V7   V10   V11   V12   V14   V16   V17  Class\n",
       "0 2.54  1.38  0.24  0.09 -0.55 -0.62 -0.31 -0.47  0.21      0\n",
       "1 0.17  0.45 -0.08 -0.17  1.61  1.07 -0.14  0.46 -0.11      0\n",
       "2 1.77  0.38  0.79  0.21  0.62  0.07 -0.17 -2.89  1.11      0\n",
       "3 1.79 -0.86  0.24 -0.05 -0.23  0.18 -0.29 -1.06 -0.68      0\n",
       "4 1.55  0.40  0.59  0.75 -0.82  0.54 -1.12 -0.45 -0.24      0"
      ]
     },
     "execution_count": 12,
     "metadata": {},
     "output_type": "execute_result"
    }
   ],
   "source": [
    "df1 = data[['V3','V4','V7','V10','V11','V12','V14','V16','V17','Class']].copy(deep = True)\n",
    "df1.head()"
   ]
  },
  {
   "cell_type": "markdown",
   "id": "3c2867eb",
   "metadata": {
    "papermill": {
     "duration": 0.020068,
     "end_time": "2022-12-30T23:20:59.198446",
     "exception": false,
     "start_time": "2022-12-30T23:20:59.178378",
     "status": "completed"
    },
    "tags": []
   },
   "source": [
    "#### Dataset for Model Based on ANOVA Score"
   ]
  },
  {
   "cell_type": "code",
   "execution_count": 13,
   "id": "d08623db",
   "metadata": {
    "execution": {
     "iopub.execute_input": "2022-12-30T23:20:59.241692Z",
     "iopub.status.busy": "2022-12-30T23:20:59.240831Z",
     "iopub.status.idle": "2022-12-30T23:20:59.308618Z",
     "shell.execute_reply": "2022-12-30T23:20:59.307778Z"
    },
    "papermill": {
     "duration": 0.091959,
     "end_time": "2022-12-30T23:20:59.310776",
     "exception": false,
     "start_time": "2022-12-30T23:20:59.218817",
     "status": "completed"
    },
    "tags": []
   },
   "outputs": [
    {
     "data": {
      "text/html": [
       "<div>\n",
       "<style scoped>\n",
       "    .dataframe tbody tr th:only-of-type {\n",
       "        vertical-align: middle;\n",
       "    }\n",
       "\n",
       "    .dataframe tbody tr th {\n",
       "        vertical-align: top;\n",
       "    }\n",
       "\n",
       "    .dataframe thead th {\n",
       "        text-align: right;\n",
       "    }\n",
       "</style>\n",
       "<table border=\"1\" class=\"dataframe\">\n",
       "  <thead>\n",
       "    <tr style=\"text-align: right;\">\n",
       "      <th></th>\n",
       "      <th>V1</th>\n",
       "      <th>V2</th>\n",
       "      <th>V3</th>\n",
       "      <th>V4</th>\n",
       "      <th>V5</th>\n",
       "      <th>V6</th>\n",
       "      <th>V7</th>\n",
       "      <th>V8</th>\n",
       "      <th>V9</th>\n",
       "      <th>V10</th>\n",
       "      <th>...</th>\n",
       "      <th>V12</th>\n",
       "      <th>V14</th>\n",
       "      <th>V16</th>\n",
       "      <th>V17</th>\n",
       "      <th>V18</th>\n",
       "      <th>V19</th>\n",
       "      <th>V20</th>\n",
       "      <th>V21</th>\n",
       "      <th>V27</th>\n",
       "      <th>Class</th>\n",
       "    </tr>\n",
       "  </thead>\n",
       "  <tbody>\n",
       "    <tr>\n",
       "      <th>0</th>\n",
       "      <td>-1.36</td>\n",
       "      <td>-0.07</td>\n",
       "      <td>2.54</td>\n",
       "      <td>1.38</td>\n",
       "      <td>-0.34</td>\n",
       "      <td>0.46</td>\n",
       "      <td>0.24</td>\n",
       "      <td>0.10</td>\n",
       "      <td>0.36</td>\n",
       "      <td>0.09</td>\n",
       "      <td>...</td>\n",
       "      <td>-0.62</td>\n",
       "      <td>-0.31</td>\n",
       "      <td>-0.47</td>\n",
       "      <td>0.21</td>\n",
       "      <td>0.03</td>\n",
       "      <td>0.40</td>\n",
       "      <td>0.25</td>\n",
       "      <td>-0.02</td>\n",
       "      <td>0.13</td>\n",
       "      <td>0</td>\n",
       "    </tr>\n",
       "    <tr>\n",
       "      <th>1</th>\n",
       "      <td>1.19</td>\n",
       "      <td>0.27</td>\n",
       "      <td>0.17</td>\n",
       "      <td>0.45</td>\n",
       "      <td>0.06</td>\n",
       "      <td>-0.08</td>\n",
       "      <td>-0.08</td>\n",
       "      <td>0.09</td>\n",
       "      <td>-0.26</td>\n",
       "      <td>-0.17</td>\n",
       "      <td>...</td>\n",
       "      <td>1.07</td>\n",
       "      <td>-0.14</td>\n",
       "      <td>0.46</td>\n",
       "      <td>-0.11</td>\n",
       "      <td>-0.18</td>\n",
       "      <td>-0.15</td>\n",
       "      <td>-0.07</td>\n",
       "      <td>-0.23</td>\n",
       "      <td>-0.01</td>\n",
       "      <td>0</td>\n",
       "    </tr>\n",
       "    <tr>\n",
       "      <th>2</th>\n",
       "      <td>-1.36</td>\n",
       "      <td>-1.34</td>\n",
       "      <td>1.77</td>\n",
       "      <td>0.38</td>\n",
       "      <td>-0.50</td>\n",
       "      <td>1.80</td>\n",
       "      <td>0.79</td>\n",
       "      <td>0.25</td>\n",
       "      <td>-1.51</td>\n",
       "      <td>0.21</td>\n",
       "      <td>...</td>\n",
       "      <td>0.07</td>\n",
       "      <td>-0.17</td>\n",
       "      <td>-2.89</td>\n",
       "      <td>1.11</td>\n",
       "      <td>-0.12</td>\n",
       "      <td>-2.26</td>\n",
       "      <td>0.52</td>\n",
       "      <td>0.25</td>\n",
       "      <td>-0.06</td>\n",
       "      <td>0</td>\n",
       "    </tr>\n",
       "    <tr>\n",
       "      <th>3</th>\n",
       "      <td>-0.97</td>\n",
       "      <td>-0.19</td>\n",
       "      <td>1.79</td>\n",
       "      <td>-0.86</td>\n",
       "      <td>-0.01</td>\n",
       "      <td>1.25</td>\n",
       "      <td>0.24</td>\n",
       "      <td>0.38</td>\n",
       "      <td>-1.39</td>\n",
       "      <td>-0.05</td>\n",
       "      <td>...</td>\n",
       "      <td>0.18</td>\n",
       "      <td>-0.29</td>\n",
       "      <td>-1.06</td>\n",
       "      <td>-0.68</td>\n",
       "      <td>1.97</td>\n",
       "      <td>-1.23</td>\n",
       "      <td>-0.21</td>\n",
       "      <td>-0.11</td>\n",
       "      <td>0.06</td>\n",
       "      <td>0</td>\n",
       "    </tr>\n",
       "    <tr>\n",
       "      <th>4</th>\n",
       "      <td>-1.16</td>\n",
       "      <td>0.88</td>\n",
       "      <td>1.55</td>\n",
       "      <td>0.40</td>\n",
       "      <td>-0.41</td>\n",
       "      <td>0.10</td>\n",
       "      <td>0.59</td>\n",
       "      <td>-0.27</td>\n",
       "      <td>0.82</td>\n",
       "      <td>0.75</td>\n",
       "      <td>...</td>\n",
       "      <td>0.54</td>\n",
       "      <td>-1.12</td>\n",
       "      <td>-0.45</td>\n",
       "      <td>-0.24</td>\n",
       "      <td>-0.04</td>\n",
       "      <td>0.80</td>\n",
       "      <td>0.41</td>\n",
       "      <td>-0.01</td>\n",
       "      <td>0.22</td>\n",
       "      <td>0</td>\n",
       "    </tr>\n",
       "  </tbody>\n",
       "</table>\n",
       "<p>5 rows × 21 columns</p>\n",
       "</div>"
      ],
      "text/plain": [
       "     V1    V2   V3    V4    V5    V6    V7    V8    V9   V10  ...   V12   V14  \\\n",
       "0 -1.36 -0.07 2.54  1.38 -0.34  0.46  0.24  0.10  0.36  0.09  ... -0.62 -0.31   \n",
       "1  1.19  0.27 0.17  0.45  0.06 -0.08 -0.08  0.09 -0.26 -0.17  ...  1.07 -0.14   \n",
       "2 -1.36 -1.34 1.77  0.38 -0.50  1.80  0.79  0.25 -1.51  0.21  ...  0.07 -0.17   \n",
       "3 -0.97 -0.19 1.79 -0.86 -0.01  1.25  0.24  0.38 -1.39 -0.05  ...  0.18 -0.29   \n",
       "4 -1.16  0.88 1.55  0.40 -0.41  0.10  0.59 -0.27  0.82  0.75  ...  0.54 -1.12   \n",
       "\n",
       "    V16   V17   V18   V19   V20   V21   V27  Class  \n",
       "0 -0.47  0.21  0.03  0.40  0.25 -0.02  0.13      0  \n",
       "1  0.46 -0.11 -0.18 -0.15 -0.07 -0.23 -0.01      0  \n",
       "2 -2.89  1.11 -0.12 -2.26  0.52  0.25 -0.06      0  \n",
       "3 -1.06 -0.68  1.97 -1.23 -0.21 -0.11  0.06      0  \n",
       "4 -0.45 -0.24 -0.04  0.80  0.41 -0.01  0.22      0  \n",
       "\n",
       "[5 rows x 21 columns]"
      ]
     },
     "execution_count": 13,
     "metadata": {},
     "output_type": "execute_result"
    }
   ],
   "source": [
    "df2 = data.copy(deep = True)\n",
    "df2.drop(columns = list(featureScores.index[20:]),inplace = True)\n",
    "df2.head()"
   ]
  },
  {
   "cell_type": "markdown",
   "id": "e7efad60",
   "metadata": {
    "papermill": {
     "duration": 0.020363,
     "end_time": "2022-12-30T23:20:59.351940",
     "exception": false,
     "start_time": "2022-12-30T23:20:59.331577",
     "status": "completed"
    },
    "tags": []
   },
   "source": [
    "# Data Balancing"
   ]
  },
  {
   "cell_type": "markdown",
   "id": "4ee85dad",
   "metadata": {
    "papermill": {
     "duration": 0.020448,
     "end_time": "2022-12-30T23:20:59.393050",
     "exception": false,
     "start_time": "2022-12-30T23:20:59.372602",
     "status": "completed"
    },
    "tags": []
   },
   "source": [
    "In order to balance the data, we have 2 options:\n",
    "\n",
    "* Undersampling : Trim down the majority samples of the target variable.\n",
    "* Oversampling : Increase the minority samples of the target variable to the majority samples.\n",
    "\n",
    "* For best performance, we will do both: undersample the majority class (no fraud) first and then oversample the minority class (fraudulent)"
   ]
  },
  {
   "cell_type": "code",
   "execution_count": 14,
   "id": "4f3dec5a",
   "metadata": {
    "execution": {
     "iopub.execute_input": "2022-12-30T23:20:59.437016Z",
     "iopub.status.busy": "2022-12-30T23:20:59.436308Z",
     "iopub.status.idle": "2022-12-30T23:20:59.636312Z",
     "shell.execute_reply": "2022-12-30T23:20:59.635000Z"
    },
    "papermill": {
     "duration": 0.225327,
     "end_time": "2022-12-30T23:20:59.639151",
     "exception": false,
     "start_time": "2022-12-30T23:20:59.413824",
     "status": "completed"
    },
    "tags": []
   },
   "outputs": [],
   "source": [
    "import imblearn       #library to balance the data\n",
    "from collections import Counter\n",
    "from imblearn.over_sampling import SMOTE\n",
    "from imblearn.under_sampling import RandomUnderSampler\n",
    "from imblearn.pipeline import Pipeline"
   ]
  },
  {
   "cell_type": "markdown",
   "id": "ac944db8",
   "metadata": {
    "papermill": {
     "duration": 0.020322,
     "end_time": "2022-12-30T23:20:59.680161",
     "exception": false,
     "start_time": "2022-12-30T23:20:59.659839",
     "status": "completed"
    },
    "tags": []
   },
   "source": [
    "Data balancing for Model based on Correlation Matrix:"
   ]
  },
  {
   "cell_type": "code",
   "execution_count": 15,
   "id": "7b445275",
   "metadata": {
    "execution": {
     "iopub.execute_input": "2022-12-30T23:20:59.724460Z",
     "iopub.status.busy": "2022-12-30T23:20:59.724032Z",
     "iopub.status.idle": "2022-12-30T23:20:59.824072Z",
     "shell.execute_reply": "2022-12-30T23:20:59.822934Z"
    },
    "papermill": {
     "duration": 0.124862,
     "end_time": "2022-12-30T23:20:59.826293",
     "exception": false,
     "start_time": "2022-12-30T23:20:59.701431",
     "status": "completed"
    },
    "tags": []
   },
   "outputs": [
    {
     "data": {
      "text/plain": [
       "Counter({0: 4920, 1: 2460})"
      ]
     },
     "execution_count": 15,
     "metadata": {},
     "output_type": "execute_result"
    }
   ],
   "source": [
    "over = SMOTE(sampling_strategy = 0.5)\n",
    "under = RandomUnderSampler(sampling_strategy = 0.1)\n",
    "f1 = df1.iloc[:,:9].values\n",
    "t1 = df1.iloc[:,9].values\n",
    "\n",
    "steps = [('under', under),('over', over)]\n",
    "pipeline = Pipeline(steps=steps)\n",
    "f1, t1 = pipeline.fit_resample(f1, t1)\n",
    "Counter(t1)"
   ]
  },
  {
   "cell_type": "markdown",
   "id": "f6998c5f",
   "metadata": {
    "papermill": {
     "duration": 0.020637,
     "end_time": "2022-12-30T23:20:59.868270",
     "exception": false,
     "start_time": "2022-12-30T23:20:59.847633",
     "status": "completed"
    },
    "tags": []
   },
   "source": [
    "Data balancing for Model based on ANOVA Score:"
   ]
  },
  {
   "cell_type": "code",
   "execution_count": 16,
   "id": "e90fbffc",
   "metadata": {
    "execution": {
     "iopub.execute_input": "2022-12-30T23:20:59.911895Z",
     "iopub.status.busy": "2022-12-30T23:20:59.911448Z",
     "iopub.status.idle": "2022-12-30T23:21:00.042106Z",
     "shell.execute_reply": "2022-12-30T23:21:00.040452Z"
    },
    "papermill": {
     "duration": 0.157469,
     "end_time": "2022-12-30T23:21:00.046538",
     "exception": false,
     "start_time": "2022-12-30T23:20:59.889069",
     "status": "completed"
    },
    "tags": []
   },
   "outputs": [
    {
     "data": {
      "text/plain": [
       "Counter({0: 4920, 1: 2460})"
      ]
     },
     "execution_count": 16,
     "metadata": {},
     "output_type": "execute_result"
    }
   ],
   "source": [
    "over = SMOTE(sampling_strategy = 0.5)\n",
    "under = RandomUnderSampler(sampling_strategy = 0.1)\n",
    "f2 = df2.iloc[:,:20].values\n",
    "t2 = df2.iloc[:,20].values\n",
    "\n",
    "steps = [('under', under),('over', over)]\n",
    "pipeline = Pipeline(steps=steps)\n",
    "f2, t2 = pipeline.fit_resample(f2, t2)\n",
    "Counter(t2)"
   ]
  },
  {
   "cell_type": "markdown",
   "id": "70154826",
   "metadata": {
    "papermill": {
     "duration": 0.045261,
     "end_time": "2022-12-30T23:21:00.145829",
     "exception": false,
     "start_time": "2022-12-30T23:21:00.100568",
     "status": "completed"
    },
    "tags": []
   },
   "source": [
    "**Calculation for Data Balancing :**\n",
    "* Sampling Strategy : It is a ratio which is the common paramter for oversampling and undersampling.\n",
    "* Sampling Strategy : ( Samples of Minority Class ) / ( Samples of Majority Class )\n",
    "\n",
    "* In this case,\n",
    "\n",
    "    * Majority Class : No Fraud Cases : 284315 samples\n",
    "    * Minority Class : Fraud Cases : 492 samples\n",
    "    \n",
    "**Undersampling : Trim down the majority class samples**\n",
    "* Sampling_Strategy = 0.1\n",
    "* 0.1 = ( 492 ) / Majority Class Samples\n",
    "* After undersampling,\n",
    "\n",
    "    * Majority Class : No Fraud Cases : 4920 samples\n",
    "    * Minority Class : Fraud Cases : 492 samples\n",
    "\n",
    "\n",
    "**Oversampling : Increase the minority class samples**\n",
    "* Sampling_Strategy = 0.5\n",
    "* 0.5 = ( Minority Class Samples ) / 4920\n",
    "* After oversampling,\n",
    "\n",
    "    * Majority Class : No Fraud Cases : 4920 samples\n",
    "    * Minority Class : Fraud Cases : 2460 samples\n",
    "\n",
    "    * Final Class Samples :\n",
    "\n",
    "    * Majority Class : No Fraud Cases : 4920 samples\n",
    "    * Minority Class : Fraud Cases : 2460 samples\n",
    "    \n",
    "* For imbalanced datasets, we duplicate the data to deal with the potential bias in the predictions.\n",
    "* Due to this duplication process, we are using synthetic data for modeling purposes to ensure that the predictions are not skewed towards the majority target class value.\n",
    "* Thus, evaluating models using accuracy will be misleading. Instead, we will go for: **confusion matrix, ROC-AUC graph and ROC-AUC score** for model evaluation."
   ]
  },
  {
   "cell_type": "markdown",
   "id": "14269fa0",
   "metadata": {
    "execution": {
     "iopub.execute_input": "2022-12-30T20:10:06.143188Z",
     "iopub.status.busy": "2022-12-30T20:10:06.142764Z",
     "iopub.status.idle": "2022-12-30T20:10:06.148202Z",
     "shell.execute_reply": "2022-12-30T20:10:06.147309Z",
     "shell.execute_reply.started": "2022-12-30T20:10:06.143152Z"
    },
    "papermill": {
     "duration": 0.020754,
     "end_time": "2022-12-30T23:21:00.187631",
     "exception": false,
     "start_time": "2022-12-30T23:21:00.166877",
     "status": "completed"
    },
    "tags": []
   },
   "source": [
    "# Modeling"
   ]
  },
  {
   "cell_type": "code",
   "execution_count": 17,
   "id": "7047c68e",
   "metadata": {
    "execution": {
     "iopub.execute_input": "2022-12-30T23:21:00.232587Z",
     "iopub.status.busy": "2022-12-30T23:21:00.232177Z",
     "iopub.status.idle": "2022-12-30T23:21:00.238407Z",
     "shell.execute_reply": "2022-12-30T23:21:00.237258Z"
    },
    "papermill": {
     "duration": 0.032073,
     "end_time": "2022-12-30T23:21:00.240759",
     "exception": false,
     "start_time": "2022-12-30T23:21:00.208686",
     "status": "completed"
    },
    "tags": []
   },
   "outputs": [],
   "source": [
    "from sklearn.model_selection import train_test_split\n",
    "from sklearn.metrics import confusion_matrix\n",
    "from sklearn.metrics import roc_auc_score\n",
    "from sklearn.metrics import RocCurveDisplay\n",
    "#from sklearn.metrics import plot_roc_curve\n",
    "from sklearn.metrics import RocCurveDisplay\n",
    "from sklearn.model_selection import cross_val_score\n",
    "from sklearn.model_selection import GridSearchCV\n",
    "from sklearn.metrics import classification_report\n",
    "from sklearn.model_selection import RepeatedStratifiedKFold\n",
    "from sklearn.metrics import precision_recall_curve"
   ]
  },
  {
   "cell_type": "markdown",
   "id": "c6d826ea",
   "metadata": {
    "papermill": {
     "duration": 0.020684,
     "end_time": "2022-12-30T23:21:00.282312",
     "exception": false,
     "start_time": "2022-12-30T23:21:00.261628",
     "status": "completed"
    },
    "tags": []
   },
   "source": [
    "Splitting the data into 80 - 20 train - test groups."
   ]
  },
  {
   "cell_type": "code",
   "execution_count": 18,
   "id": "09b44fef",
   "metadata": {
    "execution": {
     "iopub.execute_input": "2022-12-30T23:21:00.327956Z",
     "iopub.status.busy": "2022-12-30T23:21:00.327477Z",
     "iopub.status.idle": "2022-12-30T23:21:00.336249Z",
     "shell.execute_reply": "2022-12-30T23:21:00.335161Z"
    },
    "papermill": {
     "duration": 0.034803,
     "end_time": "2022-12-30T23:21:00.338825",
     "exception": false,
     "start_time": "2022-12-30T23:21:00.304022",
     "status": "completed"
    },
    "tags": []
   },
   "outputs": [],
   "source": [
    "x_train1, x_test1, y_train1, y_test1 = train_test_split(f1, t1, test_size = 0.20, random_state = 2)\n",
    "x_train2, x_test2, y_train2, y_test2 = train_test_split(f2, t2, test_size = 0.20, random_state = 2)"
   ]
  },
  {
   "cell_type": "markdown",
   "id": "8f011854",
   "metadata": {
    "papermill": {
     "duration": 0.02078,
     "end_time": "2022-12-30T23:21:00.380845",
     "exception": false,
     "start_time": "2022-12-30T23:21:00.360065",
     "status": "completed"
    },
    "tags": []
   },
   "source": [
    "Function to input all the different models to output various model scores for performance comparison:"
   ]
  },
  {
   "cell_type": "code",
   "execution_count": 19,
   "id": "c1200a72",
   "metadata": {
    "execution": {
     "iopub.execute_input": "2022-12-30T23:21:00.425492Z",
     "iopub.status.busy": "2022-12-30T23:21:00.424539Z",
     "iopub.status.idle": "2022-12-30T23:21:00.435688Z",
     "shell.execute_reply": "2022-12-30T23:21:00.434727Z"
    },
    "papermill": {
     "duration": 0.035792,
     "end_time": "2022-12-30T23:21:00.437819",
     "exception": false,
     "start_time": "2022-12-30T23:21:00.402027",
     "status": "completed"
    },
    "tags": []
   },
   "outputs": [],
   "source": [
    "def model(classifier,x_train,y_train,x_test,y_test):\n",
    "    \n",
    "    classifier.fit(x_train,y_train)\n",
    "    prediction = classifier.predict(x_test)\n",
    "    cv = RepeatedStratifiedKFold(n_splits = 10,n_repeats = 3,random_state = 1)\n",
    "    print(\"Cross Validation Score : \",'{0:.2%}'.format(cross_val_score(classifier,x_train,y_train,cv = cv,scoring = 'roc_auc').mean()))\n",
    "    print(\"ROC_AUC Score : \",'{0:.2%}'.format(roc_auc_score(y_test,prediction)))\n",
    "    #plot_roc_curve(classifier, x_test,y_test)\n",
    "    RocCurveDisplay.from_estimator(classifier, x_test,y_test)\n",
    "    plt.title('ROC_AUC_Plot')\n",
    "    plt.show()\n",
    "    \n",
    "def model_evaluation(classifier,x_test,y_test):\n",
    "    \n",
    "    # Confusion Matrix\n",
    "    cm = confusion_matrix(y_test,classifier.predict(x_test))\n",
    "    names = ['True Neg','False Pos','False Neg','True Pos']\n",
    "    counts = [value for value in cm.flatten()]\n",
    "    percentages = ['{0:.2%}'.format(value) for value in cm.flatten()/np.sum(cm)]\n",
    "    labels = [f'{v1}\\n{v2}\\n{v3}' for v1, v2, v3 in zip(names,counts,percentages)]\n",
    "    labels = np.asarray(labels).reshape(2,2)\n",
    "    sns.heatmap(cm,annot = labels,cmap = 'Blues',fmt ='')\n",
    "    \n",
    "    # Classification Report\n",
    "    print(classification_report(y_test,classifier.predict(x_test)))"
   ]
  },
  {
   "cell_type": "markdown",
   "id": "c179dcb0",
   "metadata": {
    "papermill": {
     "duration": 0.020841,
     "end_time": "2022-12-30T23:21:00.479976",
     "exception": false,
     "start_time": "2022-12-30T23:21:00.459135",
     "status": "completed"
    },
    "tags": []
   },
   "source": [
    "## Logistic Regression"
   ]
  },
  {
   "cell_type": "code",
   "execution_count": 20,
   "id": "e9072c36",
   "metadata": {
    "execution": {
     "iopub.execute_input": "2022-12-30T23:21:00.524734Z",
     "iopub.status.busy": "2022-12-30T23:21:00.523961Z",
     "iopub.status.idle": "2022-12-30T23:21:00.528360Z",
     "shell.execute_reply": "2022-12-30T23:21:00.527596Z"
    },
    "papermill": {
     "duration": 0.028982,
     "end_time": "2022-12-30T23:21:00.530485",
     "exception": false,
     "start_time": "2022-12-30T23:21:00.501503",
     "status": "completed"
    },
    "tags": []
   },
   "outputs": [],
   "source": [
    "from sklearn.linear_model import LogisticRegression"
   ]
  },
  {
   "cell_type": "code",
   "execution_count": 21,
   "id": "c25f1180",
   "metadata": {
    "execution": {
     "iopub.execute_input": "2022-12-30T23:21:00.574075Z",
     "iopub.status.busy": "2022-12-30T23:21:00.573626Z",
     "iopub.status.idle": "2022-12-30T23:21:00.579080Z",
     "shell.execute_reply": "2022-12-30T23:21:00.577953Z"
    },
    "papermill": {
     "duration": 0.030033,
     "end_time": "2022-12-30T23:21:00.581496",
     "exception": false,
     "start_time": "2022-12-30T23:21:00.551463",
     "status": "completed"
    },
    "tags": []
   },
   "outputs": [],
   "source": [
    "classifier_lr = LogisticRegression(random_state = 0, C=10, penalty= 'l2') "
   ]
  },
  {
   "cell_type": "markdown",
   "id": "74692c78",
   "metadata": {
    "papermill": {
     "duration": 0.021281,
     "end_time": "2022-12-30T23:21:00.624439",
     "exception": false,
     "start_time": "2022-12-30T23:21:00.603158",
     "status": "completed"
    },
    "tags": []
   },
   "source": [
    "Model Based on Correlation Matrix:"
   ]
  },
  {
   "cell_type": "code",
   "execution_count": 22,
   "id": "04cec486",
   "metadata": {
    "execution": {
     "iopub.execute_input": "2022-12-30T23:21:00.668879Z",
     "iopub.status.busy": "2022-12-30T23:21:00.668362Z",
     "iopub.status.idle": "2022-12-30T23:21:02.419404Z",
     "shell.execute_reply": "2022-12-30T23:21:02.418588Z"
    },
    "papermill": {
     "duration": 1.776048,
     "end_time": "2022-12-30T23:21:02.421906",
     "exception": false,
     "start_time": "2022-12-30T23:21:00.645858",
     "status": "completed"
    },
    "tags": []
   },
   "outputs": [
    {
     "name": "stdout",
     "output_type": "stream",
     "text": [
      "Cross Validation Score :  98.29%\n",
      "ROC_AUC Score :  93.65%\n"
     ]
    },
    {
     "data": {
      "image/png": "[encoded data removed]",
      "text/plain": [
       "<Figure size 432x288 with 1 Axes>"
      ]
     },
     "metadata": {
      "needs_background": "light"
     },
     "output_type": "display_data"
    },
    {
     "name": "stdout",
     "output_type": "stream",
     "text": [
      "              precision    recall  f1-score   support\n",
      "\n",
      "           0       0.94      0.99      0.97       975\n",
      "           1       0.98      0.88      0.93       501\n",
      "\n",
      "    accuracy                           0.95      1476\n",
      "   macro avg       0.96      0.94      0.95      1476\n",
      "weighted avg       0.95      0.95      0.95      1476\n",
      "\n"
     ]
    },
    {
     "data": {
      "image/png": "[encoded data removed]",
      "text/plain": [
       "<Figure size 432x288 with 2 Axes>"
      ]
     },
     "metadata": {
      "needs_background": "light"
     },
     "output_type": "display_data"
    }
   ],
   "source": [
    "model(classifier_lr,x_train1,y_train1,x_test1,y_test1)\n",
    "model_evaluation(classifier_lr,x_test1,y_test1)"
   ]
  },
  {
   "cell_type": "markdown",
   "id": "148ec649",
   "metadata": {
    "papermill": {
     "duration": 0.021495,
     "end_time": "2022-12-30T23:21:02.465808",
     "exception": false,
     "start_time": "2022-12-30T23:21:02.444313",
     "status": "completed"
    },
    "tags": []
   },
   "source": [
    "Model Based on ANOVA Score:"
   ]
  },
  {
   "cell_type": "code",
   "execution_count": 23,
   "id": "4c7a3ded",
   "metadata": {
    "execution": {
     "iopub.execute_input": "2022-12-30T23:21:02.512320Z",
     "iopub.status.busy": "2022-12-30T23:21:02.511882Z",
     "iopub.status.idle": "2022-12-30T23:21:05.033400Z",
     "shell.execute_reply": "2022-12-30T23:21:05.032579Z"
    },
    "papermill": {
     "duration": 2.547362,
     "end_time": "2022-12-30T23:21:05.035813",
     "exception": false,
     "start_time": "2022-12-30T23:21:02.488451",
     "status": "completed"
    },
    "tags": []
   },
   "outputs": [
    {
     "name": "stdout",
     "output_type": "stream",
     "text": [
      "Cross Validation Score :  98.44%\n",
      "ROC_AUC Score :  94.25%\n"
     ]
    },
    {
     "data": {
      "image/png": "[encoded data removed]",
      "text/plain": [
       "<Figure size 432x288 with 1 Axes>"
      ]
     },
     "metadata": {
      "needs_background": "light"
     },
     "output_type": "display_data"
    },
    {
     "name": "stdout",
     "output_type": "stream",
     "text": [
      "              precision    recall  f1-score   support\n",
      "\n",
      "           0       0.95      0.99      0.97       975\n",
      "           1       0.98      0.89      0.94       501\n",
      "\n",
      "    accuracy                           0.96      1476\n",
      "   macro avg       0.96      0.94      0.95      1476\n",
      "weighted avg       0.96      0.96      0.96      1476\n",
      "\n"
     ]
    },
    {
     "data": {
      "image/png": "[encoded data removed]",
      "text/plain": [
       "<Figure size 432x288 with 2 Axes>"
      ]
     },
     "metadata": {
      "needs_background": "light"
     },
     "output_type": "display_data"
    }
   ],
   "source": [
    "model(classifier_lr,x_train2,y_train2,x_test2,y_test2)\n",
    "model_evaluation(classifier_lr,x_test2,y_test2)"
   ]
  },
  {
   "cell_type": "markdown",
   "id": "5988d537",
   "metadata": {
    "papermill": {
     "duration": 0.022304,
     "end_time": "2022-12-30T23:21:05.080790",
     "exception": false,
     "start_time": "2022-12-30T23:21:05.058486",
     "status": "completed"
    },
    "tags": []
   },
   "source": [
    "## Support Vector Classifier"
   ]
  },
  {
   "cell_type": "code",
   "execution_count": 24,
   "id": "a6623021",
   "metadata": {
    "execution": {
     "iopub.execute_input": "2022-12-30T23:21:05.127457Z",
     "iopub.status.busy": "2022-12-30T23:21:05.127005Z",
     "iopub.status.idle": "2022-12-30T23:21:05.131642Z",
     "shell.execute_reply": "2022-12-30T23:21:05.130833Z"
    },
    "papermill": {
     "duration": 0.030561,
     "end_time": "2022-12-30T23:21:05.133713",
     "exception": false,
     "start_time": "2022-12-30T23:21:05.103152",
     "status": "completed"
    },
    "tags": []
   },
   "outputs": [],
   "source": [
    "from sklearn.svm import SVC"
   ]
  },
  {
   "cell_type": "code",
   "execution_count": 25,
   "id": "b064f454",
   "metadata": {
    "execution": {
     "iopub.execute_input": "2022-12-30T23:21:05.182462Z",
     "iopub.status.busy": "2022-12-30T23:21:05.181209Z",
     "iopub.status.idle": "2022-12-30T23:21:05.186125Z",
     "shell.execute_reply": "2022-12-30T23:21:05.185370Z"
    },
    "papermill": {
     "duration": 0.031402,
     "end_time": "2022-12-30T23:21:05.188163",
     "exception": false,
     "start_time": "2022-12-30T23:21:05.156761",
     "status": "completed"
    },
    "tags": []
   },
   "outputs": [],
   "source": [
    "classifier_svc = SVC(kernel = 'linear',C = 0.1)"
   ]
  },
  {
   "cell_type": "markdown",
   "id": "c2b1299d",
   "metadata": {
    "papermill": {
     "duration": 0.022051,
     "end_time": "2022-12-30T23:21:05.233000",
     "exception": false,
     "start_time": "2022-12-30T23:21:05.210949",
     "status": "completed"
    },
    "tags": []
   },
   "source": [
    "Model Based on Correlation Matrix:"
   ]
  },
  {
   "cell_type": "code",
   "execution_count": 26,
   "id": "6e1c9ed0",
   "metadata": {
    "execution": {
     "iopub.execute_input": "2022-12-30T23:21:05.281954Z",
     "iopub.status.busy": "2022-12-30T23:21:05.280635Z",
     "iopub.status.idle": "2022-12-30T23:21:10.959008Z",
     "shell.execute_reply": "2022-12-30T23:21:10.957237Z"
    },
    "papermill": {
     "duration": 5.705735,
     "end_time": "2022-12-30T23:21:10.961752",
     "exception": false,
     "start_time": "2022-12-30T23:21:05.256017",
     "status": "completed"
    },
    "tags": []
   },
   "outputs": [
    {
     "name": "stdout",
     "output_type": "stream",
     "text": [
      "Cross Validation Score :  98.29%\n",
      "ROC_AUC Score :  93.35%\n"
     ]
    },
    {
     "data": {
      "image/png": "[encoded data removed]",
      "text/plain": [
       "<Figure size 432x288 with 1 Axes>"
      ]
     },
     "metadata": {
      "needs_background": "light"
     },
     "output_type": "display_data"
    },
    {
     "name": "stdout",
     "output_type": "stream",
     "text": [
      "              precision    recall  f1-score   support\n",
      "\n",
      "           0       0.94      0.99      0.96       975\n",
      "           1       0.98      0.88      0.93       501\n",
      "\n",
      "    accuracy                           0.95      1476\n",
      "   macro avg       0.96      0.93      0.94      1476\n",
      "weighted avg       0.95      0.95      0.95      1476\n",
      "\n"
     ]
    },
    {
     "data": {
      "image/png": "[encoded data removed]",
      "text/plain": [
       "<Figure size 432x288 with 2 Axes>"
      ]
     },
     "metadata": {
      "needs_background": "light"
     },
     "output_type": "display_data"
    }
   ],
   "source": [
    "model(classifier_svc,x_train1,y_train1,x_test1,y_test1)\n",
    "model_evaluation(classifier_svc,x_test1,y_test1)"
   ]
  },
  {
   "cell_type": "markdown",
   "id": "c92941a2",
   "metadata": {
    "execution": {
     "iopub.execute_input": "2022-12-30T22:07:36.844476Z",
     "iopub.status.busy": "2022-12-30T22:07:36.843779Z",
     "iopub.status.idle": "2022-12-30T22:07:36.849591Z",
     "shell.execute_reply": "2022-12-30T22:07:36.848412Z",
     "shell.execute_reply.started": "2022-12-30T22:07:36.844434Z"
    },
    "papermill": {
     "duration": 0.024399,
     "end_time": "2022-12-30T23:21:11.009966",
     "exception": false,
     "start_time": "2022-12-30T23:21:10.985567",
     "status": "completed"
    },
    "tags": []
   },
   "source": [
    "Model Based on ANOVA Score:"
   ]
  },
  {
   "cell_type": "code",
   "execution_count": 27,
   "id": "f0445c4a",
   "metadata": {
    "execution": {
     "iopub.execute_input": "2022-12-30T23:21:11.058485Z",
     "iopub.status.busy": "2022-12-30T23:21:11.057353Z",
     "iopub.status.idle": "2022-12-30T23:21:18.161249Z",
     "shell.execute_reply": "2022-12-30T23:21:18.160006Z"
    },
    "papermill": {
     "duration": 7.130802,
     "end_time": "2022-12-30T23:21:18.163801",
     "exception": false,
     "start_time": "2022-12-30T23:21:11.032999",
     "status": "completed"
    },
    "tags": []
   },
   "outputs": [
    {
     "name": "stdout",
     "output_type": "stream",
     "text": [
      "Cross Validation Score :  98.23%\n",
      "ROC_AUC Score :  93.01%\n"
     ]
    },
    {
     "data": {
      "image/png": "[encoded data removed]",
      "text/plain": [
       "<Figure size 432x288 with 1 Axes>"
      ]
     },
     "metadata": {
      "needs_background": "light"
     },
     "output_type": "display_data"
    },
    {
     "name": "stdout",
     "output_type": "stream",
     "text": [
      "              precision    recall  f1-score   support\n",
      "\n",
      "           0       0.93      1.00      0.96       975\n",
      "           1       0.99      0.86      0.92       501\n",
      "\n",
      "    accuracy                           0.95      1476\n",
      "   macro avg       0.96      0.93      0.94      1476\n",
      "weighted avg       0.95      0.95      0.95      1476\n",
      "\n"
     ]
    },
    {
     "data": {
      "image/png": "[encoded data removed]",
      "text/plain": [
       "<Figure size 432x288 with 2 Axes>"
      ]
     },
     "metadata": {
      "needs_background": "light"
     },
     "output_type": "display_data"
    }
   ],
   "source": [
    "model(classifier_svc,x_train2,y_train2,x_test2,y_test2)\n",
    "model_evaluation(classifier_svc,x_test2,y_test2)"
   ]
  },
  {
   "cell_type": "markdown",
   "id": "a8d94a06",
   "metadata": {
    "papermill": {
     "duration": 0.02705,
     "end_time": "2022-12-30T23:21:18.215783",
     "exception": false,
     "start_time": "2022-12-30T23:21:18.188733",
     "status": "completed"
    },
    "tags": []
   },
   "source": [
    "## Decision Tree Classifier"
   ]
  },
  {
   "cell_type": "code",
   "execution_count": 28,
   "id": "fff18528",
   "metadata": {
    "execution": {
     "iopub.execute_input": "2022-12-30T23:21:18.268267Z",
     "iopub.status.busy": "2022-12-30T23:21:18.267596Z",
     "iopub.status.idle": "2022-12-30T23:21:18.272385Z",
     "shell.execute_reply": "2022-12-30T23:21:18.271549Z"
    },
    "papermill": {
     "duration": 0.034047,
     "end_time": "2022-12-30T23:21:18.275080",
     "exception": false,
     "start_time": "2022-12-30T23:21:18.241033",
     "status": "completed"
    },
    "tags": []
   },
   "outputs": [],
   "source": [
    "from sklearn.tree import DecisionTreeClassifier"
   ]
  },
  {
   "cell_type": "code",
   "execution_count": 29,
   "id": "0ac9a244",
   "metadata": {
    "execution": {
     "iopub.execute_input": "2022-12-30T23:21:18.331252Z",
     "iopub.status.busy": "2022-12-30T23:21:18.330416Z",
     "iopub.status.idle": "2022-12-30T23:21:18.336487Z",
     "shell.execute_reply": "2022-12-30T23:21:18.335618Z"
    },
    "papermill": {
     "duration": 0.039064,
     "end_time": "2022-12-30T23:21:18.339043",
     "exception": false,
     "start_time": "2022-12-30T23:21:18.299979",
     "status": "completed"
    },
    "tags": []
   },
   "outputs": [],
   "source": [
    "classifier_dt = DecisionTreeClassifier(random_state = 1000,max_depth = 4,min_samples_leaf = 1)"
   ]
  },
  {
   "cell_type": "markdown",
   "id": "13fac51d",
   "metadata": {
    "papermill": {
     "duration": 0.032025,
     "end_time": "2022-12-30T23:21:18.409717",
     "exception": false,
     "start_time": "2022-12-30T23:21:18.377692",
     "status": "completed"
    },
    "tags": []
   },
   "source": [
    "Model Based on Correlation Matrix:"
   ]
  },
  {
   "cell_type": "code",
   "execution_count": 30,
   "id": "cd41b6ee",
   "metadata": {
    "execution": {
     "iopub.execute_input": "2022-12-30T23:21:18.485207Z",
     "iopub.status.busy": "2022-12-30T23:21:18.484370Z",
     "iopub.status.idle": "2022-12-30T23:21:19.838881Z",
     "shell.execute_reply": "2022-12-30T23:21:19.837377Z"
    },
    "papermill": {
     "duration": 1.395349,
     "end_time": "2022-12-30T23:21:19.841332",
     "exception": false,
     "start_time": "2022-12-30T23:21:18.445983",
     "status": "completed"
    },
    "tags": []
   },
   "outputs": [
    {
     "name": "stdout",
     "output_type": "stream",
     "text": [
      "Cross Validation Score :  97.37%\n",
      "ROC_AUC Score :  93.55%\n"
     ]
    },
    {
     "data": {
      "image/png": "[encoded data removed]",
      "text/plain": [
       "<Figure size 432x288 with 1 Axes>"
      ]
     },
     "metadata": {
      "needs_background": "light"
     },
     "output_type": "display_data"
    },
    {
     "name": "stdout",
     "output_type": "stream",
     "text": [
      "              precision    recall  f1-score   support\n",
      "\n",
      "           0       0.94      0.99      0.97       975\n",
      "           1       0.98      0.88      0.93       501\n",
      "\n",
      "    accuracy                           0.95      1476\n",
      "   macro avg       0.96      0.94      0.95      1476\n",
      "weighted avg       0.95      0.95      0.95      1476\n",
      "\n"
     ]
    },
    {
     "data": {
      "image/png": "[encoded data removed]",
      "text/plain": [
       "<Figure size 432x288 with 2 Axes>"
      ]
     },
     "metadata": {
      "needs_background": "light"
     },
     "output_type": "display_data"
    }
   ],
   "source": [
    "model(classifier_dt,x_train1,y_train1,x_test1,y_test1)\n",
    "model_evaluation(classifier_dt,x_test1,y_test1)"
   ]
  },
  {
   "cell_type": "markdown",
   "id": "26bd82bf",
   "metadata": {
    "papermill": {
     "duration": 0.024652,
     "end_time": "2022-12-30T23:21:19.891072",
     "exception": false,
     "start_time": "2022-12-30T23:21:19.866420",
     "status": "completed"
    },
    "tags": []
   },
   "source": [
    "Model Based on ANOVA Score:"
   ]
  },
  {
   "cell_type": "code",
   "execution_count": 31,
   "id": "ac127c2a",
   "metadata": {
    "execution": {
     "iopub.execute_input": "2022-12-30T23:21:19.943527Z",
     "iopub.status.busy": "2022-12-30T23:21:19.943027Z",
     "iopub.status.idle": "2022-12-30T23:21:22.158920Z",
     "shell.execute_reply": "2022-12-30T23:21:22.157506Z"
    },
    "papermill": {
     "duration": 2.245204,
     "end_time": "2022-12-30T23:21:22.161441",
     "exception": false,
     "start_time": "2022-12-30T23:21:19.916237",
     "status": "completed"
    },
    "tags": []
   },
   "outputs": [
    {
     "name": "stdout",
     "output_type": "stream",
     "text": [
      "Cross Validation Score :  97.13%\n",
      "ROC_AUC Score :  92.31%\n"
     ]
    },
    {
     "data": {
      "image/png": "[encoded data removed]",
      "text/plain": [
       "<Figure size 432x288 with 1 Axes>"
      ]
     },
     "metadata": {
      "needs_background": "light"
     },
     "output_type": "display_data"
    },
    {
     "name": "stdout",
     "output_type": "stream",
     "text": [
      "              precision    recall  f1-score   support\n",
      "\n",
      "           0       0.93      1.00      0.96       975\n",
      "           1       0.99      0.85      0.92       501\n",
      "\n",
      "    accuracy                           0.95      1476\n",
      "   macro avg       0.96      0.92      0.94      1476\n",
      "weighted avg       0.95      0.95      0.95      1476\n",
      "\n"
     ]
    },
    {
     "data": {
      "image/png": "[encoded data removed]",
      "text/plain": [
       "<Figure size 432x288 with 2 Axes>"
      ]
     },
     "metadata": {
      "needs_background": "light"
     },
     "output_type": "display_data"
    }
   ],
   "source": [
    "model(classifier_dt,x_train2,y_train2,x_test2,y_test2)\n",
    "model_evaluation(classifier_dt,x_test2,y_test2)"
   ]
  },
  {
   "cell_type": "markdown",
   "id": "a80ee48c",
   "metadata": {
    "papermill": {
     "duration": 0.02516,
     "end_time": "2022-12-30T23:21:22.212262",
     "exception": false,
     "start_time": "2022-12-30T23:21:22.187102",
     "status": "completed"
    },
    "tags": []
   },
   "source": [
    "## Random Forest Classifier"
   ]
  },
  {
   "cell_type": "code",
   "execution_count": 32,
   "id": "a0665ce3",
   "metadata": {
    "execution": {
     "iopub.execute_input": "2022-12-30T23:21:22.266712Z",
     "iopub.status.busy": "2022-12-30T23:21:22.266217Z",
     "iopub.status.idle": "2022-12-30T23:21:22.271535Z",
     "shell.execute_reply": "2022-12-30T23:21:22.270401Z"
    },
    "papermill": {
     "duration": 0.034939,
     "end_time": "2022-12-30T23:21:22.273569",
     "exception": false,
     "start_time": "2022-12-30T23:21:22.238630",
     "status": "completed"
    },
    "tags": []
   },
   "outputs": [],
   "source": [
    "from sklearn.ensemble import RandomForestClassifier"
   ]
  },
  {
   "cell_type": "code",
   "execution_count": 33,
   "id": "8c5d975b",
   "metadata": {
    "execution": {
     "iopub.execute_input": "2022-12-30T23:21:22.329076Z",
     "iopub.status.busy": "2022-12-30T23:21:22.328287Z",
     "iopub.status.idle": "2022-12-30T23:21:22.334078Z",
     "shell.execute_reply": "2022-12-30T23:21:22.332865Z"
    },
    "papermill": {
     "duration": 0.037569,
     "end_time": "2022-12-30T23:21:22.336528",
     "exception": false,
     "start_time": "2022-12-30T23:21:22.298959",
     "status": "completed"
    },
    "tags": []
   },
   "outputs": [],
   "source": [
    "classifier_rf = RandomForestClassifier(max_depth = 4,random_state = 0)"
   ]
  },
  {
   "cell_type": "markdown",
   "id": "8a69d893",
   "metadata": {
    "papermill": {
     "duration": 0.024829,
     "end_time": "2022-12-30T23:21:22.386710",
     "exception": false,
     "start_time": "2022-12-30T23:21:22.361881",
     "status": "completed"
    },
    "tags": []
   },
   "source": [
    "Model Based on Correlation Matrix:"
   ]
  },
  {
   "cell_type": "code",
   "execution_count": 34,
   "id": "c69491ee",
   "metadata": {
    "execution": {
     "iopub.execute_input": "2022-12-30T23:21:22.439547Z",
     "iopub.status.busy": "2022-12-30T23:21:22.439078Z",
     "iopub.status.idle": "2022-12-30T23:21:45.939279Z",
     "shell.execute_reply": "2022-12-30T23:21:45.938172Z"
    },
    "papermill": {
     "duration": 23.529586,
     "end_time": "2022-12-30T23:21:45.941866",
     "exception": false,
     "start_time": "2022-12-30T23:21:22.412280",
     "status": "completed"
    },
    "tags": []
   },
   "outputs": [
    {
     "name": "stdout",
     "output_type": "stream",
     "text": [
      "Cross Validation Score :  98.23%\n",
      "ROC_AUC Score :  93.66%\n"
     ]
    },
    {
     "data": {
      "image/png": "[encoded data removed]",
      "text/plain": [
       "<Figure size 432x288 with 1 Axes>"
      ]
     },
     "metadata": {
      "needs_background": "light"
     },
     "output_type": "display_data"
    },
    {
     "name": "stdout",
     "output_type": "stream",
     "text": [
      "              precision    recall  f1-score   support\n",
      "\n",
      "           0       0.94      0.99      0.97       975\n",
      "           1       0.99      0.88      0.93       501\n",
      "\n",
      "    accuracy                           0.96      1476\n",
      "   macro avg       0.96      0.94      0.95      1476\n",
      "weighted avg       0.96      0.96      0.95      1476\n",
      "\n"
     ]
    },
    {
     "data": {
      "image/png": "[encoded data removed]",
      "text/plain": [
       "<Figure size 432x288 with 2 Axes>"
      ]
     },
     "metadata": {
      "needs_background": "light"
     },
     "output_type": "display_data"
    }
   ],
   "source": [
    "model(classifier_rf,x_train1,y_train1,x_test1,y_test1)\n",
    "model_evaluation(classifier_rf,x_test1,y_test1)"
   ]
  },
  {
   "cell_type": "markdown",
   "id": "ffb4acdd",
   "metadata": {
    "papermill": {
     "duration": 0.025868,
     "end_time": "2022-12-30T23:21:45.993946",
     "exception": false,
     "start_time": "2022-12-30T23:21:45.968078",
     "status": "completed"
    },
    "tags": []
   },
   "source": [
    "Model Based on ANOVA Score:"
   ]
  },
  {
   "cell_type": "code",
   "execution_count": 35,
   "id": "db9ec7ac",
   "metadata": {
    "execution": {
     "iopub.execute_input": "2022-12-30T23:21:46.048872Z",
     "iopub.status.busy": "2022-12-30T23:21:46.048432Z",
     "iopub.status.idle": "2022-12-30T23:22:14.923154Z",
     "shell.execute_reply": "2022-12-30T23:22:14.921561Z"
    },
    "papermill": {
     "duration": 28.905829,
     "end_time": "2022-12-30T23:22:14.925916",
     "exception": false,
     "start_time": "2022-12-30T23:21:46.020087",
     "status": "completed"
    },
    "tags": []
   },
   "outputs": [
    {
     "name": "stdout",
     "output_type": "stream",
     "text": [
      "Cross Validation Score :  98.18%\n",
      "ROC_AUC Score :  92.22%\n"
     ]
    },
    {
     "data": {
      "image/png": "[encoded data removed]",
      "text/plain": [
       "<Figure size 432x288 with 1 Axes>"
      ]
     },
     "metadata": {
      "needs_background": "light"
     },
     "output_type": "display_data"
    },
    {
     "name": "stdout",
     "output_type": "stream",
     "text": [
      "              precision    recall  f1-score   support\n",
      "\n",
      "           0       0.93      1.00      0.96       975\n",
      "           1       1.00      0.84      0.92       501\n",
      "\n",
      "    accuracy                           0.95      1476\n",
      "   macro avg       0.96      0.92      0.94      1476\n",
      "weighted avg       0.95      0.95      0.95      1476\n",
      "\n"
     ]
    },
    {
     "data": {
      "image/png": "[encoded data removed]",
      "text/plain": [
       "<Figure size 432x288 with 2 Axes>"
      ]
     },
     "metadata": {
      "needs_background": "light"
     },
     "output_type": "display_data"
    }
   ],
   "source": [
    "model(classifier_rf,x_train2,y_train2,x_test2,y_test2)\n",
    "model_evaluation(classifier_rf,x_test2,y_test2)"
   ]
  },
  {
   "cell_type": "markdown",
   "id": "23c96933",
   "metadata": {
    "papermill": {
     "duration": 0.027758,
     "end_time": "2022-12-30T23:22:14.982185",
     "exception": false,
     "start_time": "2022-12-30T23:22:14.954427",
     "status": "completed"
    },
    "tags": []
   },
   "source": [
    "## K-Nearest Neighbors"
   ]
  },
  {
   "cell_type": "code",
   "execution_count": 36,
   "id": "5799c89a",
   "metadata": {
    "execution": {
     "iopub.execute_input": "2022-12-30T23:22:15.039889Z",
     "iopub.status.busy": "2022-12-30T23:22:15.039407Z",
     "iopub.status.idle": "2022-12-30T23:22:15.044723Z",
     "shell.execute_reply": "2022-12-30T23:22:15.043663Z"
    },
    "papermill": {
     "duration": 0.037227,
     "end_time": "2022-12-30T23:22:15.047135",
     "exception": false,
     "start_time": "2022-12-30T23:22:15.009908",
     "status": "completed"
    },
    "tags": []
   },
   "outputs": [],
   "source": [
    "from sklearn.neighbors import KNeighborsClassifier"
   ]
  },
  {
   "cell_type": "code",
   "execution_count": 37,
   "id": "9ccce59c",
   "metadata": {
    "execution": {
     "iopub.execute_input": "2022-12-30T23:22:15.103947Z",
     "iopub.status.busy": "2022-12-30T23:22:15.103505Z",
     "iopub.status.idle": "2022-12-30T23:22:15.108699Z",
     "shell.execute_reply": "2022-12-30T23:22:15.107383Z"
    },
    "papermill": {
     "duration": 0.035817,
     "end_time": "2022-12-30T23:22:15.110920",
     "exception": false,
     "start_time": "2022-12-30T23:22:15.075103",
     "status": "completed"
    },
    "tags": []
   },
   "outputs": [],
   "source": [
    "classifier_knn = KNeighborsClassifier(leaf_size = 1, n_neighbors = 3,p = 1)"
   ]
  },
  {
   "cell_type": "markdown",
   "id": "cb3165cc",
   "metadata": {
    "papermill": {
     "duration": 0.026509,
     "end_time": "2022-12-30T23:22:15.164231",
     "exception": false,
     "start_time": "2022-12-30T23:22:15.137722",
     "status": "completed"
    },
    "tags": []
   },
   "source": [
    "Model Based on Correlation Matrix:"
   ]
  },
  {
   "cell_type": "code",
   "execution_count": 38,
   "id": "581fdfbf",
   "metadata": {
    "execution": {
     "iopub.execute_input": "2022-12-30T23:22:15.221425Z",
     "iopub.status.busy": "2022-12-30T23:22:15.221017Z",
     "iopub.status.idle": "2022-12-30T23:22:19.594213Z",
     "shell.execute_reply": "2022-12-30T23:22:19.592714Z"
    },
    "papermill": {
     "duration": 4.405787,
     "end_time": "2022-12-30T23:22:19.596946",
     "exception": false,
     "start_time": "2022-12-30T23:22:15.191159",
     "status": "completed"
    },
    "tags": []
   },
   "outputs": [
    {
     "name": "stdout",
     "output_type": "stream",
     "text": [
      "Cross Validation Score :  99.31%\n",
      "ROC_AUC Score :  97.97%\n"
     ]
    },
    {
     "data": {
      "image/png": "[encoded data removed]",
      "text/plain": [
       "<Figure size 432x288 with 1 Axes>"
      ]
     },
     "metadata": {
      "needs_background": "light"
     },
     "output_type": "display_data"
    },
    {
     "name": "stdout",
     "output_type": "stream",
     "text": [
      "              precision    recall  f1-score   support\n",
      "\n",
      "           0       0.99      0.98      0.98       975\n",
      "           1       0.96      0.98      0.97       501\n",
      "\n",
      "    accuracy                           0.98      1476\n",
      "   macro avg       0.97      0.98      0.98      1476\n",
      "weighted avg       0.98      0.98      0.98      1476\n",
      "\n"
     ]
    },
    {
     "data": {
      "image/png": "[encoded data removed]",
      "text/plain": [
       "<Figure size 432x288 with 2 Axes>"
      ]
     },
     "metadata": {
      "needs_background": "light"
     },
     "output_type": "display_data"
    }
   ],
   "source": [
    "model(classifier_knn,x_train1,y_train1,x_test1,y_test1)\n",
    "model_evaluation(classifier_knn,x_test1,y_test1)"
   ]
  },
  {
   "cell_type": "markdown",
   "id": "0cadcf04",
   "metadata": {
    "papermill": {
     "duration": 0.027256,
     "end_time": "2022-12-30T23:22:19.652132",
     "exception": false,
     "start_time": "2022-12-30T23:22:19.624876",
     "status": "completed"
    },
    "tags": []
   },
   "source": [
    "Model Based on ANOVA Score:"
   ]
  },
  {
   "cell_type": "code",
   "execution_count": 39,
   "id": "ecc18014",
   "metadata": {
    "execution": {
     "iopub.execute_input": "2022-12-30T23:22:19.708761Z",
     "iopub.status.busy": "2022-12-30T23:22:19.708323Z",
     "iopub.status.idle": "2022-12-30T23:22:23.343456Z",
     "shell.execute_reply": "2022-12-30T23:22:23.342311Z"
    },
    "papermill": {
     "duration": 3.666173,
     "end_time": "2022-12-30T23:22:23.345817",
     "exception": false,
     "start_time": "2022-12-30T23:22:19.679644",
     "status": "completed"
    },
    "tags": []
   },
   "outputs": [
    {
     "name": "stdout",
     "output_type": "stream",
     "text": [
      "Cross Validation Score :  99.46%\n",
      "ROC_AUC Score :  98.42%\n"
     ]
    },
    {
     "data": {
      "image/png": "[encoded data removed]",
      "text/plain": [
       "<Figure size 432x288 with 1 Axes>"
      ]
     },
     "metadata": {
      "needs_background": "light"
     },
     "output_type": "display_data"
    },
    {
     "name": "stdout",
     "output_type": "stream",
     "text": [
      "              precision    recall  f1-score   support\n",
      "\n",
      "           0       0.99      0.98      0.99       975\n",
      "           1       0.96      0.99      0.97       501\n",
      "\n",
      "    accuracy                           0.98      1476\n",
      "   macro avg       0.98      0.98      0.98      1476\n",
      "weighted avg       0.98      0.98      0.98      1476\n",
      "\n"
     ]
    },
    {
     "data": {
      "image/png": "[encoded data removed]",
      "text/plain": [
       "<Figure size 432x288 with 2 Axes>"
      ]
     },
     "metadata": {
      "needs_background": "light"
     },
     "output_type": "display_data"
    }
   ],
   "source": [
    "model(classifier_knn,x_train2,y_train2,x_test2,y_test2)\n",
    "model_evaluation(classifier_knn,x_test2,y_test2)"
   ]
  },
  {
   "cell_type": "markdown",
   "id": "5910ed7a",
   "metadata": {
    "papermill": {
     "duration": 0.028551,
     "end_time": "2022-12-30T23:22:23.404164",
     "exception": false,
     "start_time": "2022-12-30T23:22:23.375613",
     "status": "completed"
    },
    "tags": []
   },
   "source": [
    "### ML Algorithm Results Table:"
   ]
  },
  {
   "cell_type": "markdown",
   "id": "c6877182",
   "metadata": {
    "papermill": {
     "duration": 0.028854,
     "end_time": "2022-12-30T23:22:23.462424",
     "exception": false,
     "start_time": "2022-12-30T23:22:23.433570",
     "status": "completed"
    },
    "tags": []
   },
   "source": [
    "Resuls Table for Models Based on Correlation Matrix:\n",
    "\n",
    "|Sr. No.|ML Algorithm|Cross Validation Score|ROC AUC Score|F1 Score (Fraud)|\n",
    "|-|-|-|-|-|\n",
    "|1|Logistic Regression|98.03%|93.29%|92%|\n",
    "|2|Support Vector Classifier|97.93%|93.05%|92%|\n",
    "|3|Decision Tree Classifier|96.93%|94.43%|93%|\n",
    "|4|Random Forest Classifier|97.71%|93.76%|93%|\n",
    "|5|K-Nearest Neighbors|99.19%|97.57%|97%|"
   ]
  },
  {
   "cell_type": "markdown",
   "id": "f4874337",
   "metadata": {
    "execution": {
     "iopub.execute_input": "2022-12-30T22:21:59.619326Z",
     "iopub.status.busy": "2022-12-30T22:21:59.618562Z",
     "iopub.status.idle": "2022-12-30T22:21:59.627374Z",
     "shell.execute_reply": "2022-12-30T22:21:59.625726Z",
     "shell.execute_reply.started": "2022-12-30T22:21:59.619285Z"
    },
    "papermill": {
     "duration": 0.028438,
     "end_time": "2022-12-30T23:22:23.519575",
     "exception": false,
     "start_time": "2022-12-30T23:22:23.491137",
     "status": "completed"
    },
    "tags": []
   },
   "source": [
    "Resuls Table for Models Based on ANOVA Score:\n",
    "\n",
    "|Sr. No.|ML Algorithm|Cross Validation Score|ROC AUC Score|F1 Score (Fraud)|\n",
    "|-|-|-|-|-|\n",
    "|1|Logistic Regression|98.32%|95.20%|95%|\n",
    "|2|Support Vector Classifier|98.12%|94.45%|94%|\n",
    "|3|Decision Tree Classifier|96.94%|94.59%|94%|\n",
    "|4|Random Forest Classifier|98.17%|94.16%|94%|\n",
    "|5|K-Nearest Neighbors|99.46%|98.53%|98%|"
   ]
  },
  {
   "cell_type": "markdown",
   "id": "3483e060",
   "metadata": {
    "papermill": {
     "duration": 0.028282,
     "end_time": "2022-12-30T23:22:23.576649",
     "exception": false,
     "start_time": "2022-12-30T23:22:23.548367",
     "status": "completed"
    },
    "tags": []
   },
   "source": [
    "In general, across models and with multiple metrics, K-Nearest Neighbors won out."
   ]
  },
  {
   "cell_type": "markdown",
   "id": "bb976134",
   "metadata": {
    "papermill": {
     "duration": 0.037788,
     "end_time": "2022-12-30T23:22:23.646664",
     "exception": false,
     "start_time": "2022-12-30T23:22:23.608876",
     "status": "completed"
    },
    "tags": []
   },
   "source": [
    "# Conclusion"
   ]
  },
  {
   "cell_type": "markdown",
   "id": "be0c1514",
   "metadata": {
    "papermill": {
     "duration": 0.03224,
     "end_time": "2022-12-30T23:22:23.709498",
     "exception": false,
     "start_time": "2022-12-30T23:22:23.677258",
     "status": "completed"
    },
    "tags": []
   },
   "source": [
    "* This problem was a great example of a real-life scenario where there is highly skewed data. Working with this dataset was good practice in balancing data to provide best opportunity for model to predict without bias.\n",
    "* The features are anonymous, so challenge with this dataset was to complete feature selection with domain knowledge. Though at the end, statistical tests were sufficient to determine which features to pick.\n",
    "* Due to the use of SMOTE analysis for balancing the data, the models trained on this synthetic data cannot be evaluated using accuracy. Hence, we resorted to Cross Validation Score and ROC-AUC Score for model evaluation.\n",
    "\n",
    "* In a business context, there would not be anonymous features and not being able to use accuracy would be reasonable. Choosing a model at the end with high scores across multiple performance metrics would definitely help isolate fraudalent users and bring down metrics down to realistic readings."
   ]
  }
 ],
 "metadata": {
  "kernelspec": {
   "display_name": "Python 3",
   "language": "python",
   "name": "python3"
  },
  "language_info": {
   "codemirror_mode": {
    "name": "ipython",
    "version": 3
   },
   "file_extension": ".py",
   "mimetype": "text/x-python",
   "name": "python",
   "nbconvert_exporter": "python",
   "pygments_lexer": "ipython3",
   "version": "3.7.12"
  },
  "papermill": {
   "default_parameters": {},
   "duration": 120.647914,
   "end_time": "2022-12-30T23:22:24.560420",
   "environment_variables": {},
   "exception": null,
   "input_path": "__notebook__.ipynb",
   "output_path": "__notebook__.ipynb",
   "parameters": {},
   "start_time": "2022-12-30T23:20:23.912506",
   "version": "2.3.4"
  }
 },
 "nbformat": 4,
 "nbformat_minor": 5
}
