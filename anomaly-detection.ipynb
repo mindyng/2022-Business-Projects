{
 "cells": [
  {
   "cell_type": "code",
   "execution_count": 1,
   "id": "47a99a51",
   "metadata": {
    "_cell_guid": "b1076dfc-b9ad-4769-8c92-a6c4dae69d19",
    "_uuid": "8f2839f25d086af736a60e9eeb907d3b93b6e0e5",
    "execution": {
     "iopub.execute_input": "2022-12-30T04:40:42.477089Z",
     "iopub.status.busy": "2022-12-30T04:40:42.476284Z",
     "iopub.status.idle": "2022-12-30T04:40:43.657184Z",
     "shell.execute_reply": "2022-12-30T04:40:43.655773Z"
    },
    "papermill": {
     "duration": 1.194829,
     "end_time": "2022-12-30T04:40:43.660683",
     "exception": false,
     "start_time": "2022-12-30T04:40:42.465854",
     "status": "completed"
    },
    "tags": []
   },
   "outputs": [],
   "source": [
    "import pandas as pd\n",
    "import numpy as np\n",
    "import matplotlib.pyplot as plt\n",
    "import seaborn as sns\n",
    "%matplotlib inline\n",
    "pd.options.display.float_format = '{:.2f}'.format"
   ]
  },
  {
   "cell_type": "markdown",
   "id": "71cec458",
   "metadata": {
    "papermill": {
     "duration": 0.005061,
     "end_time": "2022-12-30T04:40:43.671663",
     "exception": false,
     "start_time": "2022-12-30T04:40:43.666602",
     "status": "completed"
    },
    "tags": []
   },
   "source": [
    "# Objective \n",
    "\n",
    "Anomaly/Outlier detection is important in a business context in order to prevent fraud and improve security.\n",
    "\n",
    "Usually, the problem is: \n",
    "* supervised\n",
    "* semi-supervised\n",
    "* unsupervised\n",
    "\n",
    "with most of the problems being unsupervised. Our problem will be a supervised learning one."
   ]
  },
  {
   "cell_type": "markdown",
   "id": "02d50c91",
   "metadata": {
    "papermill": {
     "duration": 0.005002,
     "end_time": "2022-12-30T04:40:43.682122",
     "exception": false,
     "start_time": "2022-12-30T04:40:43.677120",
     "status": "completed"
    },
    "tags": []
   },
   "source": [
    "# Background\n",
    "\n",
    "We will be tackling credit card fraud. Credit cards were made for people to increase their purchase power. Money is borrowed and then agreed on to be paid back to the bank. Otherwise, an interest charge will incur. The cost of credit card fraud to the economy on a global level has been: $24 billion per year. Thus, automating its detection in order to start intervening on the issue is imperative for a business to be healthy. Building preditive/AI models helps in catching these fraudsters early on.    "
   ]
  },
  {
   "cell_type": "markdown",
   "id": "c3e8c072",
   "metadata": {
    "execution": {
     "iopub.execute_input": "2022-12-29T23:51:08.290415Z",
     "iopub.status.busy": "2022-12-29T23:51:08.290006Z",
     "iopub.status.idle": "2022-12-29T23:51:08.296563Z",
     "shell.execute_reply": "2022-12-29T23:51:08.295222Z",
     "shell.execute_reply.started": "2022-12-29T23:51:08.290382Z"
    },
    "papermill": {
     "duration": 0.005268,
     "end_time": "2022-12-30T04:40:43.693387",
     "exception": false,
     "start_time": "2022-12-30T04:40:43.688119",
     "status": "completed"
    },
    "tags": []
   },
   "source": [
    "# Analysis Structure:\n",
    "\n",
    "1. Dataset Information\n",
    "2. Data Visualization\n",
    "3. Feature Selection\n",
    "4. Data Balancing\n",
    "5. Modeling\n",
    "6. Conclusion"
   ]
  },
  {
   "cell_type": "markdown",
   "id": "458bd172",
   "metadata": {
    "papermill": {
     "duration": 0.004948,
     "end_time": "2022-12-30T04:40:43.704237",
     "exception": false,
     "start_time": "2022-12-30T04:40:43.699289",
     "status": "completed"
    },
    "tags": []
   },
   "source": [
    "# Dataset Information\n",
    "\n",
    "* V1 - V28 : Numerical features that are a result of PCA transformation.\n",
    "\n",
    "* Time : Seconds elapsed between each transaction and the 1st transaction.\n",
    "\n",
    "* Amount : Transaction amount.\n",
    "\n",
    "* Class : Fraud or otherwise (1 or 0)"
   ]
  },
  {
   "cell_type": "code",
   "execution_count": 2,
   "id": "8a49e928",
   "metadata": {
    "execution": {
     "iopub.execute_input": "2022-12-30T04:40:43.716819Z",
     "iopub.status.busy": "2022-12-30T04:40:43.716383Z",
     "iopub.status.idle": "2022-12-30T04:40:48.862389Z",
     "shell.execute_reply": "2022-12-30T04:40:48.861293Z"
    },
    "papermill": {
     "duration": 5.155745,
     "end_time": "2022-12-30T04:40:48.865255",
     "exception": false,
     "start_time": "2022-12-30T04:40:43.709510",
     "status": "completed"
    },
    "tags": []
   },
   "outputs": [
    {
     "data": {
      "text/html": [
       "<div>\n",
       "<style scoped>\n",
       "    .dataframe tbody tr th:only-of-type {\n",
       "        vertical-align: middle;\n",
       "    }\n",
       "\n",
       "    .dataframe tbody tr th {\n",
       "        vertical-align: top;\n",
       "    }\n",
       "\n",
       "    .dataframe thead th {\n",
       "        text-align: right;\n",
       "    }\n",
       "</style>\n",
       "<table border=\"1\" class=\"dataframe\">\n",
       "  <thead>\n",
       "    <tr style=\"text-align: right;\">\n",
       "      <th></th>\n",
       "      <th>Time</th>\n",
       "      <th>V1</th>\n",
       "      <th>V2</th>\n",
       "      <th>V3</th>\n",
       "      <th>V4</th>\n",
       "      <th>V5</th>\n",
       "      <th>V6</th>\n",
       "      <th>V7</th>\n",
       "      <th>V8</th>\n",
       "      <th>V9</th>\n",
       "      <th>...</th>\n",
       "      <th>V21</th>\n",
       "      <th>V22</th>\n",
       "      <th>V23</th>\n",
       "      <th>V24</th>\n",
       "      <th>V25</th>\n",
       "      <th>V26</th>\n",
       "      <th>V27</th>\n",
       "      <th>V28</th>\n",
       "      <th>Amount</th>\n",
       "      <th>Class</th>\n",
       "    </tr>\n",
       "  </thead>\n",
       "  <tbody>\n",
       "    <tr>\n",
       "      <th>0</th>\n",
       "      <td>0.00</td>\n",
       "      <td>-1.36</td>\n",
       "      <td>-0.07</td>\n",
       "      <td>2.54</td>\n",
       "      <td>1.38</td>\n",
       "      <td>-0.34</td>\n",
       "      <td>0.46</td>\n",
       "      <td>0.24</td>\n",
       "      <td>0.10</td>\n",
       "      <td>0.36</td>\n",
       "      <td>...</td>\n",
       "      <td>-0.02</td>\n",
       "      <td>0.28</td>\n",
       "      <td>-0.11</td>\n",
       "      <td>0.07</td>\n",
       "      <td>0.13</td>\n",
       "      <td>-0.19</td>\n",
       "      <td>0.13</td>\n",
       "      <td>-0.02</td>\n",
       "      <td>149.62</td>\n",
       "      <td>0</td>\n",
       "    </tr>\n",
       "    <tr>\n",
       "      <th>1</th>\n",
       "      <td>0.00</td>\n",
       "      <td>1.19</td>\n",
       "      <td>0.27</td>\n",
       "      <td>0.17</td>\n",
       "      <td>0.45</td>\n",
       "      <td>0.06</td>\n",
       "      <td>-0.08</td>\n",
       "      <td>-0.08</td>\n",
       "      <td>0.09</td>\n",
       "      <td>-0.26</td>\n",
       "      <td>...</td>\n",
       "      <td>-0.23</td>\n",
       "      <td>-0.64</td>\n",
       "      <td>0.10</td>\n",
       "      <td>-0.34</td>\n",
       "      <td>0.17</td>\n",
       "      <td>0.13</td>\n",
       "      <td>-0.01</td>\n",
       "      <td>0.01</td>\n",
       "      <td>2.69</td>\n",
       "      <td>0</td>\n",
       "    </tr>\n",
       "    <tr>\n",
       "      <th>2</th>\n",
       "      <td>1.00</td>\n",
       "      <td>-1.36</td>\n",
       "      <td>-1.34</td>\n",
       "      <td>1.77</td>\n",
       "      <td>0.38</td>\n",
       "      <td>-0.50</td>\n",
       "      <td>1.80</td>\n",
       "      <td>0.79</td>\n",
       "      <td>0.25</td>\n",
       "      <td>-1.51</td>\n",
       "      <td>...</td>\n",
       "      <td>0.25</td>\n",
       "      <td>0.77</td>\n",
       "      <td>0.91</td>\n",
       "      <td>-0.69</td>\n",
       "      <td>-0.33</td>\n",
       "      <td>-0.14</td>\n",
       "      <td>-0.06</td>\n",
       "      <td>-0.06</td>\n",
       "      <td>378.66</td>\n",
       "      <td>0</td>\n",
       "    </tr>\n",
       "    <tr>\n",
       "      <th>3</th>\n",
       "      <td>1.00</td>\n",
       "      <td>-0.97</td>\n",
       "      <td>-0.19</td>\n",
       "      <td>1.79</td>\n",
       "      <td>-0.86</td>\n",
       "      <td>-0.01</td>\n",
       "      <td>1.25</td>\n",
       "      <td>0.24</td>\n",
       "      <td>0.38</td>\n",
       "      <td>-1.39</td>\n",
       "      <td>...</td>\n",
       "      <td>-0.11</td>\n",
       "      <td>0.01</td>\n",
       "      <td>-0.19</td>\n",
       "      <td>-1.18</td>\n",
       "      <td>0.65</td>\n",
       "      <td>-0.22</td>\n",
       "      <td>0.06</td>\n",
       "      <td>0.06</td>\n",
       "      <td>123.50</td>\n",
       "      <td>0</td>\n",
       "    </tr>\n",
       "    <tr>\n",
       "      <th>4</th>\n",
       "      <td>2.00</td>\n",
       "      <td>-1.16</td>\n",
       "      <td>0.88</td>\n",
       "      <td>1.55</td>\n",
       "      <td>0.40</td>\n",
       "      <td>-0.41</td>\n",
       "      <td>0.10</td>\n",
       "      <td>0.59</td>\n",
       "      <td>-0.27</td>\n",
       "      <td>0.82</td>\n",
       "      <td>...</td>\n",
       "      <td>-0.01</td>\n",
       "      <td>0.80</td>\n",
       "      <td>-0.14</td>\n",
       "      <td>0.14</td>\n",
       "      <td>-0.21</td>\n",
       "      <td>0.50</td>\n",
       "      <td>0.22</td>\n",
       "      <td>0.22</td>\n",
       "      <td>69.99</td>\n",
       "      <td>0</td>\n",
       "    </tr>\n",
       "  </tbody>\n",
       "</table>\n",
       "<p>5 rows × 31 columns</p>\n",
       "</div>"
      ],
      "text/plain": [
       "   Time    V1    V2   V3    V4    V5    V6    V7    V8    V9  ...   V21   V22  \\\n",
       "0  0.00 -1.36 -0.07 2.54  1.38 -0.34  0.46  0.24  0.10  0.36  ... -0.02  0.28   \n",
       "1  0.00  1.19  0.27 0.17  0.45  0.06 -0.08 -0.08  0.09 -0.26  ... -0.23 -0.64   \n",
       "2  1.00 -1.36 -1.34 1.77  0.38 -0.50  1.80  0.79  0.25 -1.51  ...  0.25  0.77   \n",
       "3  1.00 -0.97 -0.19 1.79 -0.86 -0.01  1.25  0.24  0.38 -1.39  ... -0.11  0.01   \n",
       "4  2.00 -1.16  0.88 1.55  0.40 -0.41  0.10  0.59 -0.27  0.82  ... -0.01  0.80   \n",
       "\n",
       "    V23   V24   V25   V26   V27   V28  Amount  Class  \n",
       "0 -0.11  0.07  0.13 -0.19  0.13 -0.02  149.62      0  \n",
       "1  0.10 -0.34  0.17  0.13 -0.01  0.01    2.69      0  \n",
       "2  0.91 -0.69 -0.33 -0.14 -0.06 -0.06  378.66      0  \n",
       "3 -0.19 -1.18  0.65 -0.22  0.06  0.06  123.50      0  \n",
       "4 -0.14  0.14 -0.21  0.50  0.22  0.22   69.99      0  \n",
       "\n",
       "[5 rows x 31 columns]"
      ]
     },
     "execution_count": 2,
     "metadata": {},
     "output_type": "execute_result"
    }
   ],
   "source": [
    "data = pd.read_csv('/kaggle/input/creditcardfraud/creditcard.csv')\n",
    "data.head()"
   ]
  },
  {
   "cell_type": "code",
   "execution_count": 3,
   "id": "c8ca31a3",
   "metadata": {
    "execution": {
     "iopub.execute_input": "2022-12-30T04:40:48.879222Z",
     "iopub.status.busy": "2022-12-30T04:40:48.878720Z",
     "iopub.status.idle": "2022-12-30T04:40:48.927857Z",
     "shell.execute_reply": "2022-12-30T04:40:48.925569Z"
    },
    "papermill": {
     "duration": 0.059982,
     "end_time": "2022-12-30T04:40:48.931316",
     "exception": false,
     "start_time": "2022-12-30T04:40:48.871334",
     "status": "completed"
    },
    "tags": []
   },
   "outputs": [
    {
     "name": "stdout",
     "output_type": "stream",
     "text": [
      "<class 'pandas.core.frame.DataFrame'>\n",
      "RangeIndex: 284807 entries, 0 to 284806\n",
      "Data columns (total 31 columns):\n",
      " #   Column  Non-Null Count   Dtype  \n",
      "---  ------  --------------   -----  \n",
      " 0   Time    284807 non-null  float64\n",
      " 1   V1      284807 non-null  float64\n",
      " 2   V2      284807 non-null  float64\n",
      " 3   V3      284807 non-null  float64\n",
      " 4   V4      284807 non-null  float64\n",
      " 5   V5      284807 non-null  float64\n",
      " 6   V6      284807 non-null  float64\n",
      " 7   V7      284807 non-null  float64\n",
      " 8   V8      284807 non-null  float64\n",
      " 9   V9      284807 non-null  float64\n",
      " 10  V10     284807 non-null  float64\n",
      " 11  V11     284807 non-null  float64\n",
      " 12  V12     284807 non-null  float64\n",
      " 13  V13     284807 non-null  float64\n",
      " 14  V14     284807 non-null  float64\n",
      " 15  V15     284807 non-null  float64\n",
      " 16  V16     284807 non-null  float64\n",
      " 17  V17     284807 non-null  float64\n",
      " 18  V18     284807 non-null  float64\n",
      " 19  V19     284807 non-null  float64\n",
      " 20  V20     284807 non-null  float64\n",
      " 21  V21     284807 non-null  float64\n",
      " 22  V22     284807 non-null  float64\n",
      " 23  V23     284807 non-null  float64\n",
      " 24  V24     284807 non-null  float64\n",
      " 25  V25     284807 non-null  float64\n",
      " 26  V26     284807 non-null  float64\n",
      " 27  V27     284807 non-null  float64\n",
      " 28  V28     284807 non-null  float64\n",
      " 29  Amount  284807 non-null  float64\n",
      " 30  Class   284807 non-null  int64  \n",
      "dtypes: float64(30), int64(1)\n",
      "memory usage: 67.4 MB\n"
     ]
    }
   ],
   "source": [
    "#check data types\n",
    "\n",
    "data.info()"
   ]
  },
  {
   "cell_type": "code",
   "execution_count": 4,
   "id": "9377871a",
   "metadata": {
    "execution": {
     "iopub.execute_input": "2022-12-30T04:40:48.945143Z",
     "iopub.status.busy": "2022-12-30T04:40:48.944266Z",
     "iopub.status.idle": "2022-12-30T04:41:01.298916Z",
     "shell.execute_reply": "2022-12-30T04:41:01.297488Z"
    },
    "papermill": {
     "duration": 12.365525,
     "end_time": "2022-12-30T04:41:01.302643",
     "exception": false,
     "start_time": "2022-12-30T04:40:48.937118",
     "status": "completed"
    },
    "tags": []
   },
   "outputs": [
    {
     "data": {
      "text/plain": [
       "<AxesSubplot:>"
      ]
     },
     "execution_count": 4,
     "metadata": {},
     "output_type": "execute_result"
    },
    {
     "data": {
      "image/png": "[encoded data removed]",
      "text/plain": [
       "<Figure size 432x288 with 1 Axes>"
      ]
     },
     "metadata": {
      "needs_background": "light"
     },
     "output_type": "display_data"
    }
   ],
   "source": [
    "# check for NaN's\n",
    "sns.heatmap(data.isnull(),cmap = 'magma',cbar = False)"
   ]
  },
  {
   "cell_type": "markdown",
   "id": "c2f9bea0",
   "metadata": {
    "papermill": {
     "duration": 0.006698,
     "end_time": "2022-12-30T04:41:01.316693",
     "exception": false,
     "start_time": "2022-12-30T04:41:01.309995",
     "status": "completed"
    },
    "tags": []
   },
   "source": [
    "There are no NaN's."
   ]
  },
  {
   "cell_type": "code",
   "execution_count": 5,
   "id": "6c9cf77b",
   "metadata": {
    "execution": {
     "iopub.execute_input": "2022-12-30T04:41:01.333989Z",
     "iopub.status.busy": "2022-12-30T04:41:01.332775Z",
     "iopub.status.idle": "2022-12-30T04:41:01.856180Z",
     "shell.execute_reply": "2022-12-30T04:41:01.854720Z"
    },
    "papermill": {
     "duration": 0.536122,
     "end_time": "2022-12-30T04:41:01.859514",
     "exception": false,
     "start_time": "2022-12-30T04:41:01.323392",
     "status": "completed"
    },
    "tags": []
   },
   "outputs": [
    {
     "data": {
      "text/html": [
       "<div>\n",
       "<style scoped>\n",
       "    .dataframe tbody tr th:only-of-type {\n",
       "        vertical-align: middle;\n",
       "    }\n",
       "\n",
       "    .dataframe tbody tr th {\n",
       "        vertical-align: top;\n",
       "    }\n",
       "\n",
       "    .dataframe thead th {\n",
       "        text-align: right;\n",
       "    }\n",
       "</style>\n",
       "<table border=\"1\" class=\"dataframe\">\n",
       "  <thead>\n",
       "    <tr style=\"text-align: right;\">\n",
       "      <th></th>\n",
       "      <th>Time</th>\n",
       "      <th>V1</th>\n",
       "      <th>V2</th>\n",
       "      <th>V3</th>\n",
       "      <th>V4</th>\n",
       "      <th>V5</th>\n",
       "      <th>V6</th>\n",
       "      <th>V7</th>\n",
       "      <th>V8</th>\n",
       "      <th>V9</th>\n",
       "      <th>...</th>\n",
       "      <th>V21</th>\n",
       "      <th>V22</th>\n",
       "      <th>V23</th>\n",
       "      <th>V24</th>\n",
       "      <th>V25</th>\n",
       "      <th>V26</th>\n",
       "      <th>V27</th>\n",
       "      <th>V28</th>\n",
       "      <th>Amount</th>\n",
       "      <th>Class</th>\n",
       "    </tr>\n",
       "  </thead>\n",
       "  <tbody>\n",
       "    <tr>\n",
       "      <th>count</th>\n",
       "      <td>284807.00</td>\n",
       "      <td>284807.00</td>\n",
       "      <td>284807.00</td>\n",
       "      <td>284807.00</td>\n",
       "      <td>284807.00</td>\n",
       "      <td>284807.00</td>\n",
       "      <td>284807.00</td>\n",
       "      <td>284807.00</td>\n",
       "      <td>284807.00</td>\n",
       "      <td>284807.00</td>\n",
       "      <td>...</td>\n",
       "      <td>284807.00</td>\n",
       "      <td>284807.00</td>\n",
       "      <td>284807.00</td>\n",
       "      <td>284807.00</td>\n",
       "      <td>284807.00</td>\n",
       "      <td>284807.00</td>\n",
       "      <td>284807.00</td>\n",
       "      <td>284807.00</td>\n",
       "      <td>284807.00</td>\n",
       "      <td>284807.00</td>\n",
       "    </tr>\n",
       "    <tr>\n",
       "      <th>mean</th>\n",
       "      <td>94813.86</td>\n",
       "      <td>0.00</td>\n",
       "      <td>0.00</td>\n",
       "      <td>-0.00</td>\n",
       "      <td>0.00</td>\n",
       "      <td>0.00</td>\n",
       "      <td>0.00</td>\n",
       "      <td>-0.00</td>\n",
       "      <td>0.00</td>\n",
       "      <td>-0.00</td>\n",
       "      <td>...</td>\n",
       "      <td>0.00</td>\n",
       "      <td>-0.00</td>\n",
       "      <td>0.00</td>\n",
       "      <td>0.00</td>\n",
       "      <td>0.00</td>\n",
       "      <td>0.00</td>\n",
       "      <td>-0.00</td>\n",
       "      <td>-0.00</td>\n",
       "      <td>88.35</td>\n",
       "      <td>0.00</td>\n",
       "    </tr>\n",
       "    <tr>\n",
       "      <th>std</th>\n",
       "      <td>47488.15</td>\n",
       "      <td>1.96</td>\n",
       "      <td>1.65</td>\n",
       "      <td>1.52</td>\n",
       "      <td>1.42</td>\n",
       "      <td>1.38</td>\n",
       "      <td>1.33</td>\n",
       "      <td>1.24</td>\n",
       "      <td>1.19</td>\n",
       "      <td>1.10</td>\n",
       "      <td>...</td>\n",
       "      <td>0.73</td>\n",
       "      <td>0.73</td>\n",
       "      <td>0.62</td>\n",
       "      <td>0.61</td>\n",
       "      <td>0.52</td>\n",
       "      <td>0.48</td>\n",
       "      <td>0.40</td>\n",
       "      <td>0.33</td>\n",
       "      <td>250.12</td>\n",
       "      <td>0.04</td>\n",
       "    </tr>\n",
       "    <tr>\n",
       "      <th>min</th>\n",
       "      <td>0.00</td>\n",
       "      <td>-56.41</td>\n",
       "      <td>-72.72</td>\n",
       "      <td>-48.33</td>\n",
       "      <td>-5.68</td>\n",
       "      <td>-113.74</td>\n",
       "      <td>-26.16</td>\n",
       "      <td>-43.56</td>\n",
       "      <td>-73.22</td>\n",
       "      <td>-13.43</td>\n",
       "      <td>...</td>\n",
       "      <td>-34.83</td>\n",
       "      <td>-10.93</td>\n",
       "      <td>-44.81</td>\n",
       "      <td>-2.84</td>\n",
       "      <td>-10.30</td>\n",
       "      <td>-2.60</td>\n",
       "      <td>-22.57</td>\n",
       "      <td>-15.43</td>\n",
       "      <td>0.00</td>\n",
       "      <td>0.00</td>\n",
       "    </tr>\n",
       "    <tr>\n",
       "      <th>25%</th>\n",
       "      <td>54201.50</td>\n",
       "      <td>-0.92</td>\n",
       "      <td>-0.60</td>\n",
       "      <td>-0.89</td>\n",
       "      <td>-0.85</td>\n",
       "      <td>-0.69</td>\n",
       "      <td>-0.77</td>\n",
       "      <td>-0.55</td>\n",
       "      <td>-0.21</td>\n",
       "      <td>-0.64</td>\n",
       "      <td>...</td>\n",
       "      <td>-0.23</td>\n",
       "      <td>-0.54</td>\n",
       "      <td>-0.16</td>\n",
       "      <td>-0.35</td>\n",
       "      <td>-0.32</td>\n",
       "      <td>-0.33</td>\n",
       "      <td>-0.07</td>\n",
       "      <td>-0.05</td>\n",
       "      <td>5.60</td>\n",
       "      <td>0.00</td>\n",
       "    </tr>\n",
       "    <tr>\n",
       "      <th>50%</th>\n",
       "      <td>84692.00</td>\n",
       "      <td>0.02</td>\n",
       "      <td>0.07</td>\n",
       "      <td>0.18</td>\n",
       "      <td>-0.02</td>\n",
       "      <td>-0.05</td>\n",
       "      <td>-0.27</td>\n",
       "      <td>0.04</td>\n",
       "      <td>0.02</td>\n",
       "      <td>-0.05</td>\n",
       "      <td>...</td>\n",
       "      <td>-0.03</td>\n",
       "      <td>0.01</td>\n",
       "      <td>-0.01</td>\n",
       "      <td>0.04</td>\n",
       "      <td>0.02</td>\n",
       "      <td>-0.05</td>\n",
       "      <td>0.00</td>\n",
       "      <td>0.01</td>\n",
       "      <td>22.00</td>\n",
       "      <td>0.00</td>\n",
       "    </tr>\n",
       "    <tr>\n",
       "      <th>75%</th>\n",
       "      <td>139320.50</td>\n",
       "      <td>1.32</td>\n",
       "      <td>0.80</td>\n",
       "      <td>1.03</td>\n",
       "      <td>0.74</td>\n",
       "      <td>0.61</td>\n",
       "      <td>0.40</td>\n",
       "      <td>0.57</td>\n",
       "      <td>0.33</td>\n",
       "      <td>0.60</td>\n",
       "      <td>...</td>\n",
       "      <td>0.19</td>\n",
       "      <td>0.53</td>\n",
       "      <td>0.15</td>\n",
       "      <td>0.44</td>\n",
       "      <td>0.35</td>\n",
       "      <td>0.24</td>\n",
       "      <td>0.09</td>\n",
       "      <td>0.08</td>\n",
       "      <td>77.16</td>\n",
       "      <td>0.00</td>\n",
       "    </tr>\n",
       "    <tr>\n",
       "      <th>max</th>\n",
       "      <td>172792.00</td>\n",
       "      <td>2.45</td>\n",
       "      <td>22.06</td>\n",
       "      <td>9.38</td>\n",
       "      <td>16.88</td>\n",
       "      <td>34.80</td>\n",
       "      <td>73.30</td>\n",
       "      <td>120.59</td>\n",
       "      <td>20.01</td>\n",
       "      <td>15.59</td>\n",
       "      <td>...</td>\n",
       "      <td>27.20</td>\n",
       "      <td>10.50</td>\n",
       "      <td>22.53</td>\n",
       "      <td>4.58</td>\n",
       "      <td>7.52</td>\n",
       "      <td>3.52</td>\n",
       "      <td>31.61</td>\n",
       "      <td>33.85</td>\n",
       "      <td>25691.16</td>\n",
       "      <td>1.00</td>\n",
       "    </tr>\n",
       "  </tbody>\n",
       "</table>\n",
       "<p>8 rows × 31 columns</p>\n",
       "</div>"
      ],
      "text/plain": [
       "           Time        V1        V2        V3        V4        V5        V6  \\\n",
       "count 284807.00 284807.00 284807.00 284807.00 284807.00 284807.00 284807.00   \n",
       "mean   94813.86      0.00      0.00     -0.00      0.00      0.00      0.00   \n",
       "std    47488.15      1.96      1.65      1.52      1.42      1.38      1.33   \n",
       "min        0.00    -56.41    -72.72    -48.33     -5.68   -113.74    -26.16   \n",
       "25%    54201.50     -0.92     -0.60     -0.89     -0.85     -0.69     -0.77   \n",
       "50%    84692.00      0.02      0.07      0.18     -0.02     -0.05     -0.27   \n",
       "75%   139320.50      1.32      0.80      1.03      0.74      0.61      0.40   \n",
       "max   172792.00      2.45     22.06      9.38     16.88     34.80     73.30   \n",
       "\n",
       "             V7        V8        V9  ...       V21       V22       V23  \\\n",
       "count 284807.00 284807.00 284807.00  ... 284807.00 284807.00 284807.00   \n",
       "mean      -0.00      0.00     -0.00  ...      0.00     -0.00      0.00   \n",
       "std        1.24      1.19      1.10  ...      0.73      0.73      0.62   \n",
       "min      -43.56    -73.22    -13.43  ...    -34.83    -10.93    -44.81   \n",
       "25%       -0.55     -0.21     -0.64  ...     -0.23     -0.54     -0.16   \n",
       "50%        0.04      0.02     -0.05  ...     -0.03      0.01     -0.01   \n",
       "75%        0.57      0.33      0.60  ...      0.19      0.53      0.15   \n",
       "max      120.59     20.01     15.59  ...     27.20     10.50     22.53   \n",
       "\n",
       "            V24       V25       V26       V27       V28    Amount     Class  \n",
       "count 284807.00 284807.00 284807.00 284807.00 284807.00 284807.00 284807.00  \n",
       "mean       0.00      0.00      0.00     -0.00     -0.00     88.35      0.00  \n",
       "std        0.61      0.52      0.48      0.40      0.33    250.12      0.04  \n",
       "min       -2.84    -10.30     -2.60    -22.57    -15.43      0.00      0.00  \n",
       "25%       -0.35     -0.32     -0.33     -0.07     -0.05      5.60      0.00  \n",
       "50%        0.04      0.02     -0.05      0.00      0.01     22.00      0.00  \n",
       "75%        0.44      0.35      0.24      0.09      0.08     77.16      0.00  \n",
       "max        4.58      7.52      3.52     31.61     33.85  25691.16      1.00  \n",
       "\n",
       "[8 rows x 31 columns]"
      ]
     },
     "execution_count": 5,
     "metadata": {},
     "output_type": "execute_result"
    }
   ],
   "source": [
    "# General stat's including quartiles per column\n",
    "data.describe()"
   ]
  },
  {
   "cell_type": "code",
   "execution_count": 6,
   "id": "34f1e472",
   "metadata": {
    "execution": {
     "iopub.execute_input": "2022-12-30T04:41:01.875154Z",
     "iopub.status.busy": "2022-12-30T04:41:01.874651Z",
     "iopub.status.idle": "2022-12-30T04:41:04.012857Z",
     "shell.execute_reply": "2022-12-30T04:41:04.011434Z"
    },
    "papermill": {
     "duration": 2.14969,
     "end_time": "2022-12-30T04:41:04.016150",
     "exception": false,
     "start_time": "2022-12-30T04:41:01.866460",
     "status": "completed"
    },
    "tags": []
   },
   "outputs": [
    {
     "data": {
      "image/png": "[encoded data removed]",
      "text/plain": [
       "<Figure size 360x1080 with 4 Axes>"
      ]
     },
     "metadata": {
      "needs_background": "light"
     },
     "output_type": "display_data"
    }
   ],
   "source": [
    "fraud = data[data['Class'] == 1].describe().T\n",
    "nofraud = data[data['Class'] == 0].describe().T\n",
    "\n",
    "colors = ['#FFD700','#3B3B3C']\n",
    "\n",
    "fig,ax = plt.subplots(nrows = 2,ncols = 2,figsize = (5,15))\n",
    "plt.subplot(2,2,1)\n",
    "sns.heatmap(fraud[['mean']][:15],annot = True,cmap = colors,linewidths = 0.5,linecolor = 'black',cbar = False,fmt = '.2f')\n",
    "plt.title('Fraud Samples : Part 1');\n",
    "\n",
    "plt.subplot(2,2,2)\n",
    "sns.heatmap(fraud[['mean']][15:30],annot = True,cmap = colors,linewidths = 0.5,linecolor = 'black',cbar = False,fmt = '.2f')\n",
    "plt.title('Fraud Samples : Part 2');\n",
    "\n",
    "plt.subplot(2,2,3)\n",
    "sns.heatmap(nofraud[['mean']][:15],annot = True,cmap = colors,linewidths = 0.5,linecolor = 'black',cbar = False,fmt = '.2f')\n",
    "plt.title('No Fraud Samples : Part 1');\n",
    "\n",
    "plt.subplot(2,2,4)\n",
    "sns.heatmap(nofraud[['mean']][15:30],annot = True,cmap = colors,linewidths = 0.5,linecolor = 'black',cbar = False,fmt = '.2f')\n",
    "plt.title('No Fraud Samples : Part 2');\n",
    "\n",
    "fig.tight_layout(w_pad = 2)"
   ]
  },
  {
   "cell_type": "markdown",
   "id": "19388c95",
   "metadata": {
    "papermill": {
     "duration": 0.007293,
     "end_time": "2022-12-30T04:41:04.031370",
     "exception": false,
     "start_time": "2022-12-30T04:41:04.024077",
     "status": "completed"
    },
    "tags": []
   },
   "source": [
    "**These are the mean values for features for fraud and no fraud cases.**\n",
    "\n",
    "Some observations:\n",
    "\n",
    "* For No Fraud cases:\n",
    "    ** V1 - V28 mean values are almost 0 for all cases\n",
    "    ** Mean transaction amount of: 88.29 is less than the mean transaction amount for the fraudalent cases: 122.21\n",
    "    ** Time taken for non-fraudalent transactions is more than that of fraudalent transactions\n",
    "\n",
    "*These could be some of the indicators for detecting fraud transactions.*"
   ]
  },
  {
   "cell_type": "markdown",
   "id": "a18b61a9",
   "metadata": {
    "papermill": {
     "duration": 0.007206,
     "end_time": "2022-12-30T04:41:04.046258",
     "exception": false,
     "start_time": "2022-12-30T04:41:04.039052",
     "status": "completed"
    },
    "tags": []
   },
   "source": [
    "# Data Visualization"
   ]
  },
  {
   "cell_type": "markdown",
   "id": "f5403e4f",
   "metadata": {
    "papermill": {
     "duration": 0.007309,
     "end_time": "2022-12-30T04:41:04.061153",
     "exception": false,
     "start_time": "2022-12-30T04:41:04.053844",
     "status": "completed"
    },
    "tags": []
   },
   "source": [
    "Target Variable (Class) Visualization"
   ]
  },
  {
   "cell_type": "code",
   "execution_count": 7,
   "id": "add87f02",
   "metadata": {
    "execution": {
     "iopub.execute_input": "2022-12-30T04:41:04.079081Z",
     "iopub.status.busy": "2022-12-30T04:41:04.078389Z",
     "iopub.status.idle": "2022-12-30T04:41:04.454246Z",
     "shell.execute_reply": "2022-12-30T04:41:04.453027Z"
    },
    "papermill": {
     "duration": 0.387894,
     "end_time": "2022-12-30T04:41:04.456789",
     "exception": false,
     "start_time": "2022-12-30T04:41:04.068895",
     "status": "completed"
    },
    "tags": []
   },
   "outputs": [
    {
     "data": {
      "image/png": "[encoded data removed]",
      "text/plain": [
       "<Figure size 1440x360 with 2 Axes>"
      ]
     },
     "metadata": {
      "needs_background": "light"
     },
     "output_type": "display_data"
    }
   ],
   "source": [
    "fraud = len(data[data['Class'] == 1]) / len(data) * 100\n",
    "nofraud = len(data[data['Class'] == 0]) / len(data) * 100\n",
    "fraud_percentage = [nofraud,fraud]\n",
    "\n",
    "fig,ax = plt.subplots(nrows = 1,ncols = 2,figsize = (20,5))\n",
    "plt.subplot(1,2,1)\n",
    "plt.pie(fraud_percentage,labels = ['Fraud','No Fraud'],autopct='%1.1f%%',startangle = 90,colors = colors,\n",
    "       wedgeprops = {'edgecolor' : 'black','linewidth': 1,'antialiased' : True})\n",
    "\n",
    "plt.subplot(1,2,2)\n",
    "ax = sns.countplot(x='Class',data = data,edgecolor = 'black',palette = colors)\n",
    "for rect in ax.patches:\n",
    "    ax.text(rect.get_x() + rect.get_width() / 2, rect.get_height() + 2, rect.get_height(), horizontalalignment='center', fontsize = 11)\n",
    "ax.set_xticklabels(['No Fraud','Fraud'])\n",
    "plt.title('Number of Fraud Cases');"
   ]
  },
  {
   "cell_type": "markdown",
   "id": "42447500",
   "metadata": {
    "papermill": {
     "duration": 0.008002,
     "end_time": "2022-12-30T04:41:04.473085",
     "exception": false,
     "start_time": "2022-12-30T04:41:04.465083",
     "status": "completed"
    },
    "tags": []
   },
   "source": [
    "Notes:\n",
    "    \n",
    "* Highly imbalanced dataset with most cases being no fraud. \n",
    "* due to the imbalance, the prediction model will incorrectly biasly predict no fraud most of the time\n",
    "* therefore, a crucial step in building the model is balancing the dataset"
   ]
  },
  {
   "cell_type": "markdown",
   "id": "cd64a8ee",
   "metadata": {
    "papermill": {
     "duration": 0.008269,
     "end_time": "2022-12-30T04:41:04.489706",
     "exception": false,
     "start_time": "2022-12-30T04:41:04.481437",
     "status": "completed"
    },
    "tags": []
   },
   "source": [
    "# Feature Selection"
   ]
  },
  {
   "cell_type": "code",
   "execution_count": 8,
   "id": "8b9047d6",
   "metadata": {
    "execution": {
     "iopub.execute_input": "2022-12-30T04:41:04.509562Z",
     "iopub.status.busy": "2022-12-30T04:41:04.508750Z",
     "iopub.status.idle": "2022-12-30T04:41:05.742835Z",
     "shell.execute_reply": "2022-12-30T04:41:05.741571Z"
    },
    "papermill": {
     "duration": 1.247018,
     "end_time": "2022-12-30T04:41:05.745642",
     "exception": false,
     "start_time": "2022-12-30T04:41:04.498624",
     "status": "completed"
    },
    "tags": []
   },
   "outputs": [
    {
     "data": {
      "text/plain": [
       "<AxesSubplot:>"
      ]
     },
     "execution_count": 8,
     "metadata": {},
     "output_type": "execute_result"
    },
    {
     "data": {
      "image/png": "[encoded data removed]",
      "text/plain": [
       "<Figure size 432x288 with 2 Axes>"
      ]
     },
     "metadata": {
      "needs_background": "light"
     },
     "output_type": "display_data"
    }
   ],
   "source": [
    "sns.heatmap(data.corr(), cmap = colors, cbar = True)"
   ]
  },
  {
   "cell_type": "markdown",
   "id": "9ff64084",
   "metadata": {
    "papermill": {
     "duration": 0.008224,
     "end_time": "2022-12-30T04:41:05.762628",
     "exception": false,
     "start_time": "2022-12-30T04:41:05.754404",
     "status": "completed"
    },
    "tags": []
   },
   "source": [
    "* There are a lot of features in the dataset. So it is difficult to make a conclusion from this correlation matrix\n",
    "* Will output another matrix, but using target variable only"
   ]
  },
  {
   "cell_type": "code",
   "execution_count": 9,
   "id": "b6121860",
   "metadata": {
    "execution": {
     "iopub.execute_input": "2022-12-30T04:41:05.781913Z",
     "iopub.status.busy": "2022-12-30T04:41:05.781462Z",
     "iopub.status.idle": "2022-12-30T04:41:06.592864Z",
     "shell.execute_reply": "2022-12-30T04:41:06.590919Z"
    },
    "papermill": {
     "duration": 0.824359,
     "end_time": "2022-12-30T04:41:06.595817",
     "exception": false,
     "start_time": "2022-12-30T04:41:05.771458",
     "status": "completed"
    },
    "tags": []
   },
   "outputs": [
    {
     "data": {
      "image/png": "[encoded data removed]",
      "text/plain": [
       "<Figure size 360x720 with 2 Axes>"
      ]
     },
     "metadata": {
      "needs_background": "light"
     },
     "output_type": "display_data"
    }
   ],
   "source": [
    "corr = data.corrwith(data['Class']).sort_values(ascending = False).to_frame()\n",
    "corr.columns = ['Correlation']\n",
    "fig,ax = plt.subplots(nrows = 1,ncols = 2,figsize = (5,10))\n",
    "\n",
    "plt.subplot(1,2,1)\n",
    "sns.heatmap(corr.iloc[:15,:],annot = True,cmap = colors,linewidths = 0.4,linecolor = 'black',cbar = False)\n",
    "plt.title('Part 1')\n",
    "\n",
    "plt.subplot(1,2,2)\n",
    "sns.heatmap(corr.iloc[15:30],annot = True,cmap = colors,linewidths = 0.4,linecolor = 'black',cbar = False)\n",
    "plt.title('Part 2')\n",
    "\n",
    "fig.tight_layout(w_pad = 2)"
   ]
  },
  {
   "cell_type": "code",
   "execution_count": null,
   "id": "6e8cae39",
   "metadata": {
    "papermill": {
     "duration": 0.008946,
     "end_time": "2022-12-30T04:41:06.614966",
     "exception": false,
     "start_time": "2022-12-30T04:41:06.606020",
     "status": "completed"
    },
    "tags": []
   },
   "outputs": [],
   "source": []
  }
 ],
 "metadata": {
  "kernelspec": {
   "display_name": "Python 3",
   "language": "python",
   "name": "python3"
  },
  "language_info": {
   "codemirror_mode": {
    "name": "ipython",
    "version": 3
   },
   "file_extension": ".py",
   "mimetype": "text/x-python",
   "name": "python",
   "nbconvert_exporter": "python",
   "pygments_lexer": "ipython3",
   "version": "3.7.12"
  },
  "papermill": {
   "default_parameters": {},
   "duration": 34.570985,
   "end_time": "2022-12-30T04:41:07.549848",
   "environment_variables": {},
   "exception": null,
   "input_path": "__notebook__.ipynb",
   "output_path": "__notebook__.ipynb",
   "parameters": {},
   "start_time": "2022-12-30T04:40:32.978863",
   "version": "2.3.4"
  }
 },
 "nbformat": 4,
 "nbformat_minor": 5
}
