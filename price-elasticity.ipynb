{
 "cells": [
  {
   "cell_type": "raw",
   "id": "fb7db63f",
   "metadata": {
    "_cell_guid": "b1076dfc-b9ad-4769-8c92-a6c4dae69d19",
    "_uuid": "8f2839f25d086af736a60e9eeb907d3b93b6e0e5",
    "papermill": {
     "duration": 0.015744,
     "end_time": "2022-10-20T17:59:07.001060",
     "exception": false,
     "start_time": "2022-10-20T17:59:06.985316",
     "status": "completed"
    },
    "tags": []
   },
   "source": [
    "# This Python 3 environment comes with many helpful analytics libraries installed\n",
    "# It is defined by the kaggle/python Docker image: https://github.com/kaggle/docker-python\n",
    "# For example, here's several helpful packages to load\n",
    "\n",
    "import numpy as np # linear algebra\n",
    "import pandas as pd # data processing, CSV file I/O (e.g. pd.read_csv)\n",
    "\n",
    "# Input data files are available in the read-only \"../input/\" directory\n",
    "# For example, running this (by clicking run or pressing Shift+Enter) will list all files under the input directory\n",
    "\n",
    "import os\n",
    "for dirname, _, filenames in os.walk('/kaggle/input'):\n",
    "    for filename in filenames:\n",
    "        print(os.path.join(dirname, filename))\n",
    "\n",
    "# You can write up to 20GB to the current directory (/kaggle/working/) that gets preserved as output when you create a version using \"Save & Run All\" \n",
    "# You can also write temporary files to /kaggle/temp/, but they won't be saved outside of the current session"
   ]
  },
  {
   "cell_type": "markdown",
   "id": "ae7c4322",
   "metadata": {
    "papermill": {
     "duration": 0.015442,
     "end_time": "2022-10-20T17:59:07.030241",
     "exception": false,
     "start_time": "2022-10-20T17:59:07.014799",
     "status": "completed"
    },
    "tags": []
   },
   "source": [
    "Business Problem: When it comes to demand of an item, usually follows the economic rule: as price drops, demand increases and vice versa. \n",
    "\n",
    "I recently did an analysis at work that looked at 5 different categories from the highest grossing GMV categories and the most searched item. And it was surprising to see user behavior as price dropped. For some categories, users were insensitive to price drops. They would buy an athletic apparel at whatever cost because of brand affinity.\n",
    "\n",
    "Metric want to lift: GMV by seeing which categories have the highest potential of long-term revenue gain."
   ]
  },
  {
   "cell_type": "markdown",
   "id": "3964ef0c",
   "metadata": {
    "papermill": {
     "duration": 0.014041,
     "end_time": "2022-10-20T17:59:07.057920",
     "exception": false,
     "start_time": "2022-10-20T17:59:07.043879",
     "status": "completed"
    },
    "tags": []
   },
   "source": [
    "# Hypothesis: \n",
    "\n",
    "For items that are not necessary, demand could go up if price goes down. If an item is a day-to-day necessity then demand will be consistent and possibly even grow despite change in price.\n",
    "\n",
    "# Analytic Approach:\n",
    "1. Take a look at highest grossing categories  \n",
    "2. Examine user behavior/demand as price changes for each (price vs (demand, promotions, discounts)\n",
    "3. Perform linear regression on change in price results in what change in user behavior\n",
    "4. Look at location as an indicator of who is most price elastic/inelastic"
   ]
  },
  {
   "cell_type": "code",
   "execution_count": 1,
   "id": "77dc8e92",
   "metadata": {
    "execution": {
     "iopub.execute_input": "2022-10-20T17:59:07.092561Z",
     "iopub.status.busy": "2022-10-20T17:59:07.091517Z",
     "iopub.status.idle": "2022-10-20T17:59:10.337193Z",
     "shell.execute_reply": "2022-10-20T17:59:10.335733Z"
    },
    "papermill": {
     "duration": 3.265794,
     "end_time": "2022-10-20T17:59:10.340475",
     "exception": false,
     "start_time": "2022-10-20T17:59:07.074681",
     "status": "completed"
    },
    "tags": []
   },
   "outputs": [],
   "source": [
    "import numpy as np\n",
    "import pandas as pd\n",
    "\n",
    "import matplotlib.dates as dates\n",
    "from datetime import datetime\n",
    "\n",
    "import altair as alt\n",
    "\n",
    "import matplotlib.pyplot as plt\n",
    "import matplotlib.dates as mdates\n",
    "import seaborn as sns\n",
    "\n",
    "import plotly.express as px\n",
    "import plotly.graph_objs as go\n",
    "from plotly.subplots import make_subplots\n",
    "\n",
    "\n",
    "from sklearn.linear_model import LinearRegression"
   ]
  },
  {
   "cell_type": "code",
   "execution_count": 2,
   "id": "d591f784",
   "metadata": {
    "execution": {
     "iopub.execute_input": "2022-10-20T17:59:10.373317Z",
     "iopub.status.busy": "2022-10-20T17:59:10.372266Z",
     "iopub.status.idle": "2022-10-20T17:59:21.822080Z",
     "shell.execute_reply": "2022-10-20T17:59:21.818500Z"
    },
    "papermill": {
     "duration": 11.469364,
     "end_time": "2022-10-20T17:59:21.825362",
     "exception": false,
     "start_time": "2022-10-20T17:59:10.355998",
     "status": "completed"
    },
    "tags": []
   },
   "outputs": [
    {
     "data": {
      "text/html": [
       "<div>\n",
       "<style scoped>\n",
       "    .dataframe tbody tr th:only-of-type {\n",
       "        vertical-align: middle;\n",
       "    }\n",
       "\n",
       "    .dataframe tbody tr th {\n",
       "        vertical-align: top;\n",
       "    }\n",
       "\n",
       "    .dataframe thead th {\n",
       "        text-align: right;\n",
       "    }\n",
       "</style>\n",
       "<table border=\"1\" class=\"dataframe\">\n",
       "  <thead>\n",
       "    <tr style=\"text-align: right;\">\n",
       "      <th></th>\n",
       "      <th>event_time</th>\n",
       "      <th>event_type</th>\n",
       "      <th>product_id</th>\n",
       "      <th>category_id</th>\n",
       "      <th>category_code</th>\n",
       "      <th>brand</th>\n",
       "      <th>price</th>\n",
       "      <th>user_id</th>\n",
       "      <th>user_session</th>\n",
       "    </tr>\n",
       "  </thead>\n",
       "  <tbody>\n",
       "    <tr>\n",
       "      <th>0</th>\n",
       "      <td>2020-09-24 11:57:06 UTC</td>\n",
       "      <td>view</td>\n",
       "      <td>1996170</td>\n",
       "      <td>2144415922528452715</td>\n",
       "      <td>electronics.telephone</td>\n",
       "      <td>NaN</td>\n",
       "      <td>31.90</td>\n",
       "      <td>1515915625519388267</td>\n",
       "      <td>LJuJVLEjPT</td>\n",
       "    </tr>\n",
       "    <tr>\n",
       "      <th>1</th>\n",
       "      <td>2020-09-24 11:57:26 UTC</td>\n",
       "      <td>view</td>\n",
       "      <td>139905</td>\n",
       "      <td>2144415926932472027</td>\n",
       "      <td>computers.components.cooler</td>\n",
       "      <td>zalman</td>\n",
       "      <td>17.16</td>\n",
       "      <td>1515915625519380411</td>\n",
       "      <td>tdicluNnRY</td>\n",
       "    </tr>\n",
       "    <tr>\n",
       "      <th>2</th>\n",
       "      <td>2020-09-24 11:57:27 UTC</td>\n",
       "      <td>view</td>\n",
       "      <td>215454</td>\n",
       "      <td>2144415927158964449</td>\n",
       "      <td>NaN</td>\n",
       "      <td>NaN</td>\n",
       "      <td>9.81</td>\n",
       "      <td>1515915625513238515</td>\n",
       "      <td>4TMArHtXQy</td>\n",
       "    </tr>\n",
       "    <tr>\n",
       "      <th>3</th>\n",
       "      <td>2020-09-24 11:57:33 UTC</td>\n",
       "      <td>view</td>\n",
       "      <td>635807</td>\n",
       "      <td>2144415923107266682</td>\n",
       "      <td>computers.peripherals.printer</td>\n",
       "      <td>pantum</td>\n",
       "      <td>113.81</td>\n",
       "      <td>1515915625519014356</td>\n",
       "      <td>aGFYrNgC08</td>\n",
       "    </tr>\n",
       "    <tr>\n",
       "      <th>4</th>\n",
       "      <td>2020-09-24 11:57:36 UTC</td>\n",
       "      <td>view</td>\n",
       "      <td>3658723</td>\n",
       "      <td>2144415921169498184</td>\n",
       "      <td>NaN</td>\n",
       "      <td>cameronsino</td>\n",
       "      <td>15.87</td>\n",
       "      <td>1515915625510743344</td>\n",
       "      <td>aa4mmk0kwQ</td>\n",
       "    </tr>\n",
       "  </tbody>\n",
       "</table>\n",
       "</div>"
      ],
      "text/plain": [
       "                event_time event_type  product_id          category_id  \\\n",
       "0  2020-09-24 11:57:06 UTC       view     1996170  2144415922528452715   \n",
       "1  2020-09-24 11:57:26 UTC       view      139905  2144415926932472027   \n",
       "2  2020-09-24 11:57:27 UTC       view      215454  2144415927158964449   \n",
       "3  2020-09-24 11:57:33 UTC       view      635807  2144415923107266682   \n",
       "4  2020-09-24 11:57:36 UTC       view     3658723  2144415921169498184   \n",
       "\n",
       "                   category_code        brand   price              user_id  \\\n",
       "0          electronics.telephone          NaN   31.90  1515915625519388267   \n",
       "1    computers.components.cooler       zalman   17.16  1515915625519380411   \n",
       "2                            NaN          NaN    9.81  1515915625513238515   \n",
       "3  computers.peripherals.printer       pantum  113.81  1515915625519014356   \n",
       "4                            NaN  cameronsino   15.87  1515915625510743344   \n",
       "\n",
       "  user_session  \n",
       "0   LJuJVLEjPT  \n",
       "1   tdicluNnRY  \n",
       "2   4TMArHtXQy  \n",
       "3   aGFYrNgC08  \n",
       "4   aa4mmk0kwQ  "
      ]
     },
     "execution_count": 2,
     "metadata": {},
     "output_type": "execute_result"
    }
   ],
   "source": [
    "df = pd.read_csv('../input/ecommerce-events-history-in-electronics-store/events.csv', engine='python')\n",
    "df.head()"
   ]
  },
  {
   "cell_type": "code",
   "execution_count": 3,
   "id": "33d7d10c",
   "metadata": {
    "execution": {
     "iopub.execute_input": "2022-10-20T17:59:21.857669Z",
     "iopub.status.busy": "2022-10-20T17:59:21.856613Z",
     "iopub.status.idle": "2022-10-20T17:59:22.078267Z",
     "shell.execute_reply": "2022-10-20T17:59:22.076937Z"
    },
    "papermill": {
     "duration": 0.241015,
     "end_time": "2022-10-20T17:59:22.080962",
     "exception": false,
     "start_time": "2022-10-20T17:59:21.839947",
     "status": "completed"
    },
    "tags": []
   },
   "outputs": [
    {
     "data": {
      "text/html": [
       "<div>\n",
       "<style scoped>\n",
       "    .dataframe tbody tr th:only-of-type {\n",
       "        vertical-align: middle;\n",
       "    }\n",
       "\n",
       "    .dataframe tbody tr th {\n",
       "        vertical-align: top;\n",
       "    }\n",
       "\n",
       "    .dataframe thead th {\n",
       "        text-align: right;\n",
       "    }\n",
       "</style>\n",
       "<table border=\"1\" class=\"dataframe\">\n",
       "  <thead>\n",
       "    <tr style=\"text-align: right;\">\n",
       "      <th></th>\n",
       "      <th>product_id</th>\n",
       "      <th>category_id</th>\n",
       "      <th>price</th>\n",
       "      <th>user_id</th>\n",
       "    </tr>\n",
       "  </thead>\n",
       "  <tbody>\n",
       "    <tr>\n",
       "      <th>count</th>\n",
       "      <td>8.851290e+05</td>\n",
       "      <td>8.851290e+05</td>\n",
       "      <td>885129.000000</td>\n",
       "      <td>8.851290e+05</td>\n",
       "    </tr>\n",
       "    <tr>\n",
       "      <th>mean</th>\n",
       "      <td>1.906621e+06</td>\n",
       "      <td>2.144423e+18</td>\n",
       "      <td>146.328713</td>\n",
       "      <td>1.515916e+18</td>\n",
       "    </tr>\n",
       "    <tr>\n",
       "      <th>std</th>\n",
       "      <td>1.458708e+06</td>\n",
       "      <td>6.165105e+14</td>\n",
       "      <td>296.807683</td>\n",
       "      <td>3.554165e+07</td>\n",
       "    </tr>\n",
       "    <tr>\n",
       "      <th>min</th>\n",
       "      <td>1.020000e+02</td>\n",
       "      <td>2.144416e+18</td>\n",
       "      <td>0.220000</td>\n",
       "      <td>1.515916e+18</td>\n",
       "    </tr>\n",
       "    <tr>\n",
       "      <th>25%</th>\n",
       "      <td>6.988030e+05</td>\n",
       "      <td>2.144416e+18</td>\n",
       "      <td>26.460000</td>\n",
       "      <td>1.515916e+18</td>\n",
       "    </tr>\n",
       "    <tr>\n",
       "      <th>50%</th>\n",
       "      <td>1.452883e+06</td>\n",
       "      <td>2.144416e+18</td>\n",
       "      <td>65.710000</td>\n",
       "      <td>1.515916e+18</td>\n",
       "    </tr>\n",
       "    <tr>\n",
       "      <th>75%</th>\n",
       "      <td>3.721194e+06</td>\n",
       "      <td>2.144416e+18</td>\n",
       "      <td>190.490000</td>\n",
       "      <td>1.515916e+18</td>\n",
       "    </tr>\n",
       "    <tr>\n",
       "      <th>max</th>\n",
       "      <td>4.183880e+06</td>\n",
       "      <td>2.227847e+18</td>\n",
       "      <td>64771.060000</td>\n",
       "      <td>1.515916e+18</td>\n",
       "    </tr>\n",
       "  </tbody>\n",
       "</table>\n",
       "</div>"
      ],
      "text/plain": [
       "         product_id   category_id          price       user_id\n",
       "count  8.851290e+05  8.851290e+05  885129.000000  8.851290e+05\n",
       "mean   1.906621e+06  2.144423e+18     146.328713  1.515916e+18\n",
       "std    1.458708e+06  6.165105e+14     296.807683  3.554165e+07\n",
       "min    1.020000e+02  2.144416e+18       0.220000  1.515916e+18\n",
       "25%    6.988030e+05  2.144416e+18      26.460000  1.515916e+18\n",
       "50%    1.452883e+06  2.144416e+18      65.710000  1.515916e+18\n",
       "75%    3.721194e+06  2.144416e+18     190.490000  1.515916e+18\n",
       "max    4.183880e+06  2.227847e+18   64771.060000  1.515916e+18"
      ]
     },
     "execution_count": 3,
     "metadata": {},
     "output_type": "execute_result"
    }
   ],
   "source": [
    "df.describe()"
   ]
  },
  {
   "cell_type": "code",
   "execution_count": 4,
   "id": "53d0f889",
   "metadata": {
    "execution": {
     "iopub.execute_input": "2022-10-20T17:59:22.112830Z",
     "iopub.status.busy": "2022-10-20T17:59:22.111430Z",
     "iopub.status.idle": "2022-10-20T17:59:22.120689Z",
     "shell.execute_reply": "2022-10-20T17:59:22.119234Z"
    },
    "papermill": {
     "duration": 0.027822,
     "end_time": "2022-10-20T17:59:22.123334",
     "exception": false,
     "start_time": "2022-10-20T17:59:22.095512",
     "status": "completed"
    },
    "tags": []
   },
   "outputs": [
    {
     "data": {
      "text/plain": [
       "(885129, 9)"
      ]
     },
     "execution_count": 4,
     "metadata": {},
     "output_type": "execute_result"
    }
   ],
   "source": [
    "df.shape"
   ]
  },
  {
   "cell_type": "code",
   "execution_count": 5,
   "id": "ebe21c70",
   "metadata": {
    "execution": {
     "iopub.execute_input": "2022-10-20T17:59:22.155313Z",
     "iopub.status.busy": "2022-10-20T17:59:22.154842Z",
     "iopub.status.idle": "2022-10-20T17:59:22.203973Z",
     "shell.execute_reply": "2022-10-20T17:59:22.202220Z"
    },
    "papermill": {
     "duration": 0.068568,
     "end_time": "2022-10-20T17:59:22.207067",
     "exception": false,
     "start_time": "2022-10-20T17:59:22.138499",
     "status": "completed"
    },
    "tags": []
   },
   "outputs": [
    {
     "data": {
      "text/plain": [
       "view        793748\n",
       "cart         54035\n",
       "purchase     37346\n",
       "Name: event_type, dtype: int64"
      ]
     },
     "execution_count": 5,
     "metadata": {},
     "output_type": "execute_result"
    }
   ],
   "source": [
    "df.event_type.value_counts()"
   ]
  },
  {
   "cell_type": "code",
   "execution_count": 6,
   "id": "828db39e",
   "metadata": {
    "execution": {
     "iopub.execute_input": "2022-10-20T17:59:22.239622Z",
     "iopub.status.busy": "2022-10-20T17:59:22.239059Z",
     "iopub.status.idle": "2022-10-20T17:59:55.221846Z",
     "shell.execute_reply": "2022-10-20T17:59:55.220760Z"
    },
    "papermill": {
     "duration": 33.016749,
     "end_time": "2022-10-20T17:59:55.239037",
     "exception": false,
     "start_time": "2022-10-20T17:59:22.222288",
     "status": "completed"
    },
    "tags": []
   },
   "outputs": [
    {
     "data": {
      "text/html": [
       "<div>\n",
       "<style scoped>\n",
       "    .dataframe tbody tr th:only-of-type {\n",
       "        vertical-align: middle;\n",
       "    }\n",
       "\n",
       "    .dataframe tbody tr th {\n",
       "        vertical-align: top;\n",
       "    }\n",
       "\n",
       "    .dataframe thead th {\n",
       "        text-align: right;\n",
       "    }\n",
       "</style>\n",
       "<table border=\"1\" class=\"dataframe\">\n",
       "  <thead>\n",
       "    <tr style=\"text-align: right;\">\n",
       "      <th></th>\n",
       "      <th>event_time</th>\n",
       "      <th>order_id</th>\n",
       "      <th>product_id</th>\n",
       "      <th>category_id</th>\n",
       "      <th>category_code</th>\n",
       "      <th>brand</th>\n",
       "      <th>price</th>\n",
       "      <th>user_id</th>\n",
       "    </tr>\n",
       "  </thead>\n",
       "  <tbody>\n",
       "    <tr>\n",
       "      <th>0</th>\n",
       "      <td>2020-04-24 11:50:39 UTC</td>\n",
       "      <td>2294359932054536986</td>\n",
       "      <td>1515966223509089906</td>\n",
       "      <td>2.268105e+18</td>\n",
       "      <td>electronics.tablet</td>\n",
       "      <td>samsung</td>\n",
       "      <td>162.01</td>\n",
       "      <td>1.515916e+18</td>\n",
       "    </tr>\n",
       "    <tr>\n",
       "      <th>1</th>\n",
       "      <td>2020-04-24 11:50:39 UTC</td>\n",
       "      <td>2294359932054536986</td>\n",
       "      <td>1515966223509089906</td>\n",
       "      <td>2.268105e+18</td>\n",
       "      <td>electronics.tablet</td>\n",
       "      <td>samsung</td>\n",
       "      <td>162.01</td>\n",
       "      <td>1.515916e+18</td>\n",
       "    </tr>\n",
       "    <tr>\n",
       "      <th>2</th>\n",
       "      <td>2020-04-24 14:37:43 UTC</td>\n",
       "      <td>2294444024058086220</td>\n",
       "      <td>2273948319057183658</td>\n",
       "      <td>2.268105e+18</td>\n",
       "      <td>electronics.audio.headphone</td>\n",
       "      <td>huawei</td>\n",
       "      <td>77.52</td>\n",
       "      <td>1.515916e+18</td>\n",
       "    </tr>\n",
       "    <tr>\n",
       "      <th>3</th>\n",
       "      <td>2020-04-24 14:37:43 UTC</td>\n",
       "      <td>2294444024058086220</td>\n",
       "      <td>2273948319057183658</td>\n",
       "      <td>2.268105e+18</td>\n",
       "      <td>electronics.audio.headphone</td>\n",
       "      <td>huawei</td>\n",
       "      <td>77.52</td>\n",
       "      <td>1.515916e+18</td>\n",
       "    </tr>\n",
       "    <tr>\n",
       "      <th>4</th>\n",
       "      <td>2020-04-24 19:16:21 UTC</td>\n",
       "      <td>2294584263154074236</td>\n",
       "      <td>2273948316817424439</td>\n",
       "      <td>2.268105e+18</td>\n",
       "      <td>NaN</td>\n",
       "      <td>karcher</td>\n",
       "      <td>217.57</td>\n",
       "      <td>1.515916e+18</td>\n",
       "    </tr>\n",
       "  </tbody>\n",
       "</table>\n",
       "</div>"
      ],
      "text/plain": [
       "                event_time             order_id           product_id  \\\n",
       "0  2020-04-24 11:50:39 UTC  2294359932054536986  1515966223509089906   \n",
       "1  2020-04-24 11:50:39 UTC  2294359932054536986  1515966223509089906   \n",
       "2  2020-04-24 14:37:43 UTC  2294444024058086220  2273948319057183658   \n",
       "3  2020-04-24 14:37:43 UTC  2294444024058086220  2273948319057183658   \n",
       "4  2020-04-24 19:16:21 UTC  2294584263154074236  2273948316817424439   \n",
       "\n",
       "    category_id                category_code    brand   price       user_id  \n",
       "0  2.268105e+18           electronics.tablet  samsung  162.01  1.515916e+18  \n",
       "1  2.268105e+18           electronics.tablet  samsung  162.01  1.515916e+18  \n",
       "2  2.268105e+18  electronics.audio.headphone   huawei   77.52  1.515916e+18  \n",
       "3  2.268105e+18  electronics.audio.headphone   huawei   77.52  1.515916e+18  \n",
       "4  2.268105e+18                          NaN  karcher  217.57  1.515916e+18  "
      ]
     },
     "execution_count": 6,
     "metadata": {},
     "output_type": "execute_result"
    }
   ],
   "source": [
    "df2 = df = pd.read_csv('../input/ecommerce-purchase-history-from-electronics-store/kz.csv', engine='python')\n",
    "df2.head()"
   ]
  },
  {
   "cell_type": "code",
   "execution_count": 7,
   "id": "8219d549",
   "metadata": {
    "execution": {
     "iopub.execute_input": "2022-10-20T17:59:55.271495Z",
     "iopub.status.busy": "2022-10-20T17:59:55.270173Z",
     "iopub.status.idle": "2022-10-20T17:59:56.962155Z",
     "shell.execute_reply": "2022-10-20T17:59:56.960750Z"
    },
    "papermill": {
     "duration": 1.711521,
     "end_time": "2022-10-20T17:59:56.965159",
     "exception": false,
     "start_time": "2022-10-20T17:59:55.253638",
     "status": "completed"
    },
    "tags": []
   },
   "outputs": [
    {
     "data": {
      "text/html": [
       "<div>\n",
       "<style scoped>\n",
       "    .dataframe tbody tr th:only-of-type {\n",
       "        vertical-align: middle;\n",
       "    }\n",
       "\n",
       "    .dataframe tbody tr th {\n",
       "        vertical-align: top;\n",
       "    }\n",
       "\n",
       "    .dataframe thead th {\n",
       "        text-align: right;\n",
       "    }\n",
       "</style>\n",
       "<table border=\"1\" class=\"dataframe\">\n",
       "  <thead>\n",
       "    <tr style=\"text-align: right;\">\n",
       "      <th></th>\n",
       "      <th>event_time</th>\n",
       "      <th>order_id</th>\n",
       "      <th>product_id</th>\n",
       "      <th>category_id</th>\n",
       "      <th>category_code</th>\n",
       "      <th>brand</th>\n",
       "      <th>price</th>\n",
       "      <th>user_id</th>\n",
       "    </tr>\n",
       "  </thead>\n",
       "  <tbody>\n",
       "    <tr>\n",
       "      <th>0</th>\n",
       "      <td>2020-04-24</td>\n",
       "      <td>2294359932054536986</td>\n",
       "      <td>1515966223509089906</td>\n",
       "      <td>2.268105e+18</td>\n",
       "      <td>electronics.tablet</td>\n",
       "      <td>samsung</td>\n",
       "      <td>162.01</td>\n",
       "      <td>1.515916e+18</td>\n",
       "    </tr>\n",
       "    <tr>\n",
       "      <th>1</th>\n",
       "      <td>2020-04-24</td>\n",
       "      <td>2294359932054536986</td>\n",
       "      <td>1515966223509089906</td>\n",
       "      <td>2.268105e+18</td>\n",
       "      <td>electronics.tablet</td>\n",
       "      <td>samsung</td>\n",
       "      <td>162.01</td>\n",
       "      <td>1.515916e+18</td>\n",
       "    </tr>\n",
       "    <tr>\n",
       "      <th>2</th>\n",
       "      <td>2020-04-24</td>\n",
       "      <td>2294444024058086220</td>\n",
       "      <td>2273948319057183658</td>\n",
       "      <td>2.268105e+18</td>\n",
       "      <td>electronics.audio.headphone</td>\n",
       "      <td>huawei</td>\n",
       "      <td>77.52</td>\n",
       "      <td>1.515916e+18</td>\n",
       "    </tr>\n",
       "    <tr>\n",
       "      <th>3</th>\n",
       "      <td>2020-04-24</td>\n",
       "      <td>2294444024058086220</td>\n",
       "      <td>2273948319057183658</td>\n",
       "      <td>2.268105e+18</td>\n",
       "      <td>electronics.audio.headphone</td>\n",
       "      <td>huawei</td>\n",
       "      <td>77.52</td>\n",
       "      <td>1.515916e+18</td>\n",
       "    </tr>\n",
       "    <tr>\n",
       "      <th>4</th>\n",
       "      <td>2020-04-24</td>\n",
       "      <td>2294584263154074236</td>\n",
       "      <td>2273948316817424439</td>\n",
       "      <td>2.268105e+18</td>\n",
       "      <td>NaN</td>\n",
       "      <td>karcher</td>\n",
       "      <td>217.57</td>\n",
       "      <td>1.515916e+18</td>\n",
       "    </tr>\n",
       "  </tbody>\n",
       "</table>\n",
       "</div>"
      ],
      "text/plain": [
       "   event_time             order_id           product_id   category_id  \\\n",
       "0  2020-04-24  2294359932054536986  1515966223509089906  2.268105e+18   \n",
       "1  2020-04-24  2294359932054536986  1515966223509089906  2.268105e+18   \n",
       "2  2020-04-24  2294444024058086220  2273948319057183658  2.268105e+18   \n",
       "3  2020-04-24  2294444024058086220  2273948319057183658  2.268105e+18   \n",
       "4  2020-04-24  2294584263154074236  2273948316817424439  2.268105e+18   \n",
       "\n",
       "                 category_code    brand   price       user_id  \n",
       "0           electronics.tablet  samsung  162.01  1.515916e+18  \n",
       "1           electronics.tablet  samsung  162.01  1.515916e+18  \n",
       "2  electronics.audio.headphone   huawei   77.52  1.515916e+18  \n",
       "3  electronics.audio.headphone   huawei   77.52  1.515916e+18  \n",
       "4                          NaN  karcher  217.57  1.515916e+18  "
      ]
     },
     "execution_count": 7,
     "metadata": {},
     "output_type": "execute_result"
    }
   ],
   "source": [
    "df2['event_time'] = df2['event_time'].apply(lambda s: str(s)[0:10])\n",
    "df2.head()"
   ]
  },
  {
   "cell_type": "code",
   "execution_count": 8,
   "id": "f74088d8",
   "metadata": {
    "execution": {
     "iopub.execute_input": "2022-10-20T17:59:56.998380Z",
     "iopub.status.busy": "2022-10-20T17:59:56.997860Z",
     "iopub.status.idle": "2022-10-20T17:59:57.123413Z",
     "shell.execute_reply": "2022-10-20T17:59:57.122236Z"
    },
    "papermill": {
     "duration": 0.1457,
     "end_time": "2022-10-20T17:59:57.126676",
     "exception": false,
     "start_time": "2022-10-20T17:59:56.980976",
     "status": "completed"
    },
    "tags": []
   },
   "outputs": [
    {
     "data": {
      "text/plain": [
       "electronics.smartphone              357682\n",
       "appliances.kitchen.refrigerators     77386\n",
       "16.18                                72969\n",
       "electronics.video.tv                 71711\n",
       "computers.notebook                   71436\n",
       "                                     ...  \n",
       "31.25                                    1\n",
       "106.43                                   1\n",
       "92.34                                    1\n",
       "31.94                                    1\n",
       "347.20                                   1\n",
       "Name: category_code, Length: 510, dtype: int64"
      ]
     },
     "execution_count": 8,
     "metadata": {},
     "output_type": "execute_result"
    }
   ],
   "source": [
    "df2.category_code.value_counts()"
   ]
  },
  {
   "cell_type": "code",
   "execution_count": 9,
   "id": "a435e66f",
   "metadata": {
    "execution": {
     "iopub.execute_input": "2022-10-20T17:59:57.159841Z",
     "iopub.status.busy": "2022-10-20T17:59:57.158556Z",
     "iopub.status.idle": "2022-10-20T17:59:57.218327Z",
     "shell.execute_reply": "2022-10-20T17:59:57.216872Z"
    },
    "papermill": {
     "duration": 0.07929,
     "end_time": "2022-10-20T17:59:57.221078",
     "exception": false,
     "start_time": "2022-10-20T17:59:57.141788",
     "status": "completed"
    },
    "tags": []
   },
   "outputs": [
    {
     "data": {
      "text/plain": [
       "2.268105e+18    338328\n",
       "2.268105e+18     66146\n",
       "2.374499e+18     59344\n",
       "2.268105e+18     58569\n",
       "2.268105e+18     51864\n",
       "                 ...  \n",
       "2.268105e+18         1\n",
       "2.268105e+18         1\n",
       "2.268106e+18         1\n",
       "2.268105e+18         1\n",
       "2.268105e+18         1\n",
       "Name: category_id, Length: 901, dtype: int64"
      ]
     },
     "execution_count": 9,
     "metadata": {},
     "output_type": "execute_result"
    }
   ],
   "source": [
    "df2.category_id.value_counts()"
   ]
  },
  {
   "cell_type": "code",
   "execution_count": 10,
   "id": "2d505597",
   "metadata": {
    "execution": {
     "iopub.execute_input": "2022-10-20T17:59:57.254862Z",
     "iopub.status.busy": "2022-10-20T17:59:57.253551Z",
     "iopub.status.idle": "2022-10-20T17:59:57.261628Z",
     "shell.execute_reply": "2022-10-20T17:59:57.260265Z"
    },
    "papermill": {
     "duration": 0.028101,
     "end_time": "2022-10-20T17:59:57.264284",
     "exception": false,
     "start_time": "2022-10-20T17:59:57.236183",
     "status": "completed"
    },
    "tags": []
   },
   "outputs": [
    {
     "data": {
      "text/plain": [
       "(2633521, 8)"
      ]
     },
     "execution_count": 10,
     "metadata": {},
     "output_type": "execute_result"
    }
   ],
   "source": [
    "df2.shape"
   ]
  },
  {
   "cell_type": "code",
   "execution_count": 11,
   "id": "18b93f6d",
   "metadata": {
    "execution": {
     "iopub.execute_input": "2022-10-20T17:59:57.298933Z",
     "iopub.status.busy": "2022-10-20T17:59:57.298373Z",
     "iopub.status.idle": "2022-10-20T17:59:57.319098Z",
     "shell.execute_reply": "2022-10-20T17:59:57.317079Z"
    },
    "papermill": {
     "duration": 0.041229,
     "end_time": "2022-10-20T17:59:57.322122",
     "exception": false,
     "start_time": "2022-10-20T17:59:57.280893",
     "status": "completed"
    },
    "tags": []
   },
   "outputs": [
    {
     "name": "stdout",
     "output_type": "stream",
     "text": [
      "<class 'pandas.core.frame.DataFrame'>\n",
      "RangeIndex: 2633521 entries, 0 to 2633520\n",
      "Data columns (total 8 columns):\n",
      " #   Column         Dtype  \n",
      "---  ------         -----  \n",
      " 0   event_time     object \n",
      " 1   order_id       int64  \n",
      " 2   product_id     int64  \n",
      " 3   category_id    float64\n",
      " 4   category_code  object \n",
      " 5   brand          object \n",
      " 6   price          float64\n",
      " 7   user_id        float64\n",
      "dtypes: float64(3), int64(2), object(3)\n",
      "memory usage: 160.7+ MB\n"
     ]
    }
   ],
   "source": [
    "df2.info()"
   ]
  },
  {
   "cell_type": "code",
   "execution_count": 12,
   "id": "afb81866",
   "metadata": {
    "execution": {
     "iopub.execute_input": "2022-10-20T17:59:57.356739Z",
     "iopub.status.busy": "2022-10-20T17:59:57.356066Z",
     "iopub.status.idle": "2022-10-20T17:59:57.593216Z",
     "shell.execute_reply": "2022-10-20T17:59:57.591854Z"
    },
    "papermill": {
     "duration": 0.257876,
     "end_time": "2022-10-20T17:59:57.596353",
     "exception": false,
     "start_time": "2022-10-20T17:59:57.338477",
     "status": "completed"
    },
    "tags": []
   },
   "outputs": [
    {
     "data": {
      "text/html": [
       "<div>\n",
       "<style scoped>\n",
       "    .dataframe tbody tr th:only-of-type {\n",
       "        vertical-align: middle;\n",
       "    }\n",
       "\n",
       "    .dataframe tbody tr th {\n",
       "        vertical-align: top;\n",
       "    }\n",
       "\n",
       "    .dataframe thead th {\n",
       "        text-align: right;\n",
       "    }\n",
       "</style>\n",
       "<table border=\"1\" class=\"dataframe\">\n",
       "  <thead>\n",
       "    <tr style=\"text-align: right;\">\n",
       "      <th></th>\n",
       "      <th>category_code</th>\n",
       "      <th>total_tx</th>\n",
       "      <th>avg_price_per_item</th>\n",
       "    </tr>\n",
       "  </thead>\n",
       "  <tbody>\n",
       "    <tr>\n",
       "      <th>0</th>\n",
       "      <td>0.00</td>\n",
       "      <td>3721</td>\n",
       "      <td>NaN</td>\n",
       "    </tr>\n",
       "    <tr>\n",
       "      <th>1</th>\n",
       "      <td>0.02</td>\n",
       "      <td>17</td>\n",
       "      <td>NaN</td>\n",
       "    </tr>\n",
       "    <tr>\n",
       "      <th>2</th>\n",
       "      <td>0.03</td>\n",
       "      <td>18</td>\n",
       "      <td>NaN</td>\n",
       "    </tr>\n",
       "    <tr>\n",
       "      <th>3</th>\n",
       "      <td>0.05</td>\n",
       "      <td>427</td>\n",
       "      <td>NaN</td>\n",
       "    </tr>\n",
       "    <tr>\n",
       "      <th>4</th>\n",
       "      <td>0.12</td>\n",
       "      <td>2</td>\n",
       "      <td>NaN</td>\n",
       "    </tr>\n",
       "    <tr>\n",
       "      <th>...</th>\n",
       "      <td>...</td>\n",
       "      <td>...</td>\n",
       "      <td>...</td>\n",
       "    </tr>\n",
       "    <tr>\n",
       "      <th>505</th>\n",
       "      <td>sport.trainer</td>\n",
       "      <td>219</td>\n",
       "      <td>292.364840</td>\n",
       "    </tr>\n",
       "    <tr>\n",
       "      <th>506</th>\n",
       "      <td>stationery.battery</td>\n",
       "      <td>24940</td>\n",
       "      <td>3.202756</td>\n",
       "    </tr>\n",
       "    <tr>\n",
       "      <th>507</th>\n",
       "      <td>stationery.cartrige</td>\n",
       "      <td>10718</td>\n",
       "      <td>12.397065</td>\n",
       "    </tr>\n",
       "    <tr>\n",
       "      <th>508</th>\n",
       "      <td>stationery.paper</td>\n",
       "      <td>3700</td>\n",
       "      <td>4.421457</td>\n",
       "    </tr>\n",
       "    <tr>\n",
       "      <th>509</th>\n",
       "      <td>stationery.stapler</td>\n",
       "      <td>192</td>\n",
       "      <td>29.190625</td>\n",
       "    </tr>\n",
       "  </tbody>\n",
       "</table>\n",
       "<p>510 rows × 3 columns</p>\n",
       "</div>"
      ],
      "text/plain": [
       "           category_code  total_tx  avg_price_per_item\n",
       "0                   0.00      3721                 NaN\n",
       "1                   0.02        17                 NaN\n",
       "2                   0.03        18                 NaN\n",
       "3                   0.05       427                 NaN\n",
       "4                   0.12         2                 NaN\n",
       "..                   ...       ...                 ...\n",
       "505        sport.trainer       219          292.364840\n",
       "506   stationery.battery     24940            3.202756\n",
       "507  stationery.cartrige     10718           12.397065\n",
       "508     stationery.paper      3700            4.421457\n",
       "509   stationery.stapler       192           29.190625\n",
       "\n",
       "[510 rows x 3 columns]"
      ]
     },
     "execution_count": 12,
     "metadata": {},
     "output_type": "execute_result"
    }
   ],
   "source": [
    "df2_agg = df2.groupby('category_code') \\\n",
    "       .agg({'category_code':'size', 'price':'mean'}) \\\n",
    "       .rename(columns={'category_code':'total_tx','price':'avg_price_per_item'}) \\\n",
    "       .reset_index()\n",
    "\n",
    "df2_agg"
   ]
  },
  {
   "cell_type": "code",
   "execution_count": 13,
   "id": "e0401c21",
   "metadata": {
    "execution": {
     "iopub.execute_input": "2022-10-20T17:59:57.632176Z",
     "iopub.status.busy": "2022-10-20T17:59:57.631593Z",
     "iopub.status.idle": "2022-10-20T17:59:57.647728Z",
     "shell.execute_reply": "2022-10-20T17:59:57.646427Z"
    },
    "papermill": {
     "duration": 0.037461,
     "end_time": "2022-10-20T17:59:57.650519",
     "exception": false,
     "start_time": "2022-10-20T17:59:57.613058",
     "status": "completed"
    },
    "tags": []
   },
   "outputs": [
    {
     "data": {
      "text/html": [
       "<div>\n",
       "<style scoped>\n",
       "    .dataframe tbody tr th:only-of-type {\n",
       "        vertical-align: middle;\n",
       "    }\n",
       "\n",
       "    .dataframe tbody tr th {\n",
       "        vertical-align: top;\n",
       "    }\n",
       "\n",
       "    .dataframe thead th {\n",
       "        text-align: right;\n",
       "    }\n",
       "</style>\n",
       "<table border=\"1\" class=\"dataframe\">\n",
       "  <thead>\n",
       "    <tr style=\"text-align: right;\">\n",
       "      <th></th>\n",
       "      <th>category_code</th>\n",
       "      <th>total_tx</th>\n",
       "      <th>avg_price_per_item</th>\n",
       "    </tr>\n",
       "  </thead>\n",
       "  <tbody>\n",
       "    <tr>\n",
       "      <th>475</th>\n",
       "      <td>electronics.smartphone</td>\n",
       "      <td>357682</td>\n",
       "      <td>286.965165</td>\n",
       "    </tr>\n",
       "    <tr>\n",
       "      <th>417</th>\n",
       "      <td>appliances.kitchen.refrigerators</td>\n",
       "      <td>77386</td>\n",
       "      <td>407.153718</td>\n",
       "    </tr>\n",
       "    <tr>\n",
       "      <th>100</th>\n",
       "      <td>16.18</td>\n",
       "      <td>72969</td>\n",
       "      <td>NaN</td>\n",
       "    </tr>\n",
       "    <tr>\n",
       "      <th>479</th>\n",
       "      <td>electronics.video.tv</td>\n",
       "      <td>71711</td>\n",
       "      <td>408.601552</td>\n",
       "    </tr>\n",
       "    <tr>\n",
       "      <th>445</th>\n",
       "      <td>computers.notebook</td>\n",
       "      <td>71436</td>\n",
       "      <td>438.919187</td>\n",
       "    </tr>\n",
       "    <tr>\n",
       "      <th>400</th>\n",
       "      <td>appliances.environment.vacuum</td>\n",
       "      <td>66471</td>\n",
       "      <td>138.978852</td>\n",
       "    </tr>\n",
       "    <tr>\n",
       "      <th>468</th>\n",
       "      <td>electronics.audio.headphone</td>\n",
       "      <td>66159</td>\n",
       "      <td>65.151228</td>\n",
       "    </tr>\n",
       "    <tr>\n",
       "      <th>412</th>\n",
       "      <td>appliances.kitchen.kettle</td>\n",
       "      <td>62719</td>\n",
       "      <td>32.544524</td>\n",
       "    </tr>\n",
       "    <tr>\n",
       "      <th>420</th>\n",
       "      <td>appliances.kitchen.washer</td>\n",
       "      <td>56255</td>\n",
       "      <td>328.371720</td>\n",
       "    </tr>\n",
       "    <tr>\n",
       "      <th>486</th>\n",
       "      <td>furniture.kitchen.table</td>\n",
       "      <td>55725</td>\n",
       "      <td>38.172499</td>\n",
       "    </tr>\n",
       "    <tr>\n",
       "      <th>450</th>\n",
       "      <td>computers.peripherals.mouse</td>\n",
       "      <td>45329</td>\n",
       "      <td>17.621449</td>\n",
       "    </tr>\n",
       "    <tr>\n",
       "      <th>304</th>\n",
       "      <td>57.87</td>\n",
       "      <td>45149</td>\n",
       "      <td>NaN</td>\n",
       "    </tr>\n",
       "    <tr>\n",
       "      <th>354</th>\n",
       "      <td>8.10</td>\n",
       "      <td>42411</td>\n",
       "      <td>NaN</td>\n",
       "    </tr>\n",
       "    <tr>\n",
       "      <th>375</th>\n",
       "      <td>9.26</td>\n",
       "      <td>40911</td>\n",
       "      <td>NaN</td>\n",
       "    </tr>\n",
       "    <tr>\n",
       "      <th>402</th>\n",
       "      <td>appliances.iron</td>\n",
       "      <td>40209</td>\n",
       "      <td>74.979480</td>\n",
       "    </tr>\n",
       "    <tr>\n",
       "      <th>189</th>\n",
       "      <td>29.63</td>\n",
       "      <td>38787</td>\n",
       "      <td>NaN</td>\n",
       "    </tr>\n",
       "    <tr>\n",
       "      <th>404</th>\n",
       "      <td>appliances.kitchen.blender</td>\n",
       "      <td>36697</td>\n",
       "      <td>66.646374</td>\n",
       "    </tr>\n",
       "    <tr>\n",
       "      <th>423</th>\n",
       "      <td>appliances.personal.scales</td>\n",
       "      <td>32910</td>\n",
       "      <td>17.133998</td>\n",
       "    </tr>\n",
       "    <tr>\n",
       "      <th>410</th>\n",
       "      <td>appliances.kitchen.hood</td>\n",
       "      <td>32133</td>\n",
       "      <td>216.206328</td>\n",
       "    </tr>\n",
       "    <tr>\n",
       "      <th>414</th>\n",
       "      <td>appliances.kitchen.microwave</td>\n",
       "      <td>29259</td>\n",
       "      <td>95.897859</td>\n",
       "    </tr>\n",
       "  </tbody>\n",
       "</table>\n",
       "</div>"
      ],
      "text/plain": [
       "                        category_code  total_tx  avg_price_per_item\n",
       "475            electronics.smartphone    357682          286.965165\n",
       "417  appliances.kitchen.refrigerators     77386          407.153718\n",
       "100                             16.18     72969                 NaN\n",
       "479              electronics.video.tv     71711          408.601552\n",
       "445                computers.notebook     71436          438.919187\n",
       "400     appliances.environment.vacuum     66471          138.978852\n",
       "468       electronics.audio.headphone     66159           65.151228\n",
       "412         appliances.kitchen.kettle     62719           32.544524\n",
       "420         appliances.kitchen.washer     56255          328.371720\n",
       "486           furniture.kitchen.table     55725           38.172499\n",
       "450       computers.peripherals.mouse     45329           17.621449\n",
       "304                             57.87     45149                 NaN\n",
       "354                              8.10     42411                 NaN\n",
       "375                              9.26     40911                 NaN\n",
       "402                   appliances.iron     40209           74.979480\n",
       "189                             29.63     38787                 NaN\n",
       "404        appliances.kitchen.blender     36697           66.646374\n",
       "423        appliances.personal.scales     32910           17.133998\n",
       "410           appliances.kitchen.hood     32133          216.206328\n",
       "414      appliances.kitchen.microwave     29259           95.897859"
      ]
     },
     "execution_count": 13,
     "metadata": {},
     "output_type": "execute_result"
    }
   ],
   "source": [
    "df2_agg.sort_values(['total_tx'], ascending=[False])[:20]"
   ]
  },
  {
   "cell_type": "code",
   "execution_count": 14,
   "id": "72fe94aa",
   "metadata": {
    "execution": {
     "iopub.execute_input": "2022-10-20T17:59:57.687121Z",
     "iopub.status.busy": "2022-10-20T17:59:57.686267Z",
     "iopub.status.idle": "2022-10-20T17:59:57.701684Z",
     "shell.execute_reply": "2022-10-20T17:59:57.700458Z"
    },
    "papermill": {
     "duration": 0.037611,
     "end_time": "2022-10-20T17:59:57.705154",
     "exception": false,
     "start_time": "2022-10-20T17:59:57.667543",
     "status": "completed"
    },
    "tags": []
   },
   "outputs": [
    {
     "data": {
      "text/html": [
       "<div>\n",
       "<style scoped>\n",
       "    .dataframe tbody tr th:only-of-type {\n",
       "        vertical-align: middle;\n",
       "    }\n",
       "\n",
       "    .dataframe tbody tr th {\n",
       "        vertical-align: top;\n",
       "    }\n",
       "\n",
       "    .dataframe thead th {\n",
       "        text-align: right;\n",
       "    }\n",
       "</style>\n",
       "<table border=\"1\" class=\"dataframe\">\n",
       "  <thead>\n",
       "    <tr style=\"text-align: right;\">\n",
       "      <th></th>\n",
       "      <th>category_code</th>\n",
       "      <th>total_tx</th>\n",
       "      <th>avg_price_per_item</th>\n",
       "    </tr>\n",
       "  </thead>\n",
       "  <tbody>\n",
       "    <tr>\n",
       "      <th>475</th>\n",
       "      <td>electronics.smartphone</td>\n",
       "      <td>357682</td>\n",
       "      <td>286.965165</td>\n",
       "    </tr>\n",
       "    <tr>\n",
       "      <th>417</th>\n",
       "      <td>appliances.kitchen.refrigerators</td>\n",
       "      <td>77386</td>\n",
       "      <td>407.153718</td>\n",
       "    </tr>\n",
       "    <tr>\n",
       "      <th>479</th>\n",
       "      <td>electronics.video.tv</td>\n",
       "      <td>71711</td>\n",
       "      <td>408.601552</td>\n",
       "    </tr>\n",
       "    <tr>\n",
       "      <th>445</th>\n",
       "      <td>computers.notebook</td>\n",
       "      <td>71436</td>\n",
       "      <td>438.919187</td>\n",
       "    </tr>\n",
       "    <tr>\n",
       "      <th>400</th>\n",
       "      <td>appliances.environment.vacuum</td>\n",
       "      <td>66471</td>\n",
       "      <td>138.978852</td>\n",
       "    </tr>\n",
       "    <tr>\n",
       "      <th>468</th>\n",
       "      <td>electronics.audio.headphone</td>\n",
       "      <td>66159</td>\n",
       "      <td>65.151228</td>\n",
       "    </tr>\n",
       "    <tr>\n",
       "      <th>412</th>\n",
       "      <td>appliances.kitchen.kettle</td>\n",
       "      <td>62719</td>\n",
       "      <td>32.544524</td>\n",
       "    </tr>\n",
       "    <tr>\n",
       "      <th>420</th>\n",
       "      <td>appliances.kitchen.washer</td>\n",
       "      <td>56255</td>\n",
       "      <td>328.371720</td>\n",
       "    </tr>\n",
       "    <tr>\n",
       "      <th>486</th>\n",
       "      <td>furniture.kitchen.table</td>\n",
       "      <td>55725</td>\n",
       "      <td>38.172499</td>\n",
       "    </tr>\n",
       "    <tr>\n",
       "      <th>450</th>\n",
       "      <td>computers.peripherals.mouse</td>\n",
       "      <td>45329</td>\n",
       "      <td>17.621449</td>\n",
       "    </tr>\n",
       "  </tbody>\n",
       "</table>\n",
       "</div>"
      ],
      "text/plain": [
       "                        category_code  total_tx  avg_price_per_item\n",
       "475            electronics.smartphone    357682          286.965165\n",
       "417  appliances.kitchen.refrigerators     77386          407.153718\n",
       "479              electronics.video.tv     71711          408.601552\n",
       "445                computers.notebook     71436          438.919187\n",
       "400     appliances.environment.vacuum     66471          138.978852\n",
       "468       electronics.audio.headphone     66159           65.151228\n",
       "412         appliances.kitchen.kettle     62719           32.544524\n",
       "420         appliances.kitchen.washer     56255          328.371720\n",
       "486           furniture.kitchen.table     55725           38.172499\n",
       "450       computers.peripherals.mouse     45329           17.621449"
      ]
     },
     "execution_count": 14,
     "metadata": {},
     "output_type": "execute_result"
    }
   ],
   "source": [
    "non_null_price = df2_agg[df2_agg['avg_price_per_item'].notnull()]\n",
    "purchase_top10 = non_null_price.sort_values(['total_tx'], ascending=[False])[:10]\n",
    "purchase_top10"
   ]
  },
  {
   "cell_type": "code",
   "execution_count": 15,
   "id": "02946564",
   "metadata": {
    "execution": {
     "iopub.execute_input": "2022-10-20T17:59:57.740847Z",
     "iopub.status.busy": "2022-10-20T17:59:57.740018Z",
     "iopub.status.idle": "2022-10-20T17:59:58.585081Z",
     "shell.execute_reply": "2022-10-20T17:59:58.583736Z"
    },
    "papermill": {
     "duration": 0.866906,
     "end_time": "2022-10-20T17:59:58.588787",
     "exception": false,
     "start_time": "2022-10-20T17:59:57.721881",
     "status": "completed"
    },
    "tags": []
   },
   "outputs": [
    {
     "data": {
      "text/html": [
       "<div>\n",
       "<style scoped>\n",
       "    .dataframe tbody tr th:only-of-type {\n",
       "        vertical-align: middle;\n",
       "    }\n",
       "\n",
       "    .dataframe tbody tr th {\n",
       "        vertical-align: top;\n",
       "    }\n",
       "\n",
       "    .dataframe thead th {\n",
       "        text-align: right;\n",
       "    }\n",
       "</style>\n",
       "<table border=\"1\" class=\"dataframe\">\n",
       "  <thead>\n",
       "    <tr style=\"text-align: right;\">\n",
       "      <th></th>\n",
       "      <th>event_time</th>\n",
       "      <th>category_code</th>\n",
       "      <th>total_tx</th>\n",
       "      <th>avg_price_per_item</th>\n",
       "    </tr>\n",
       "  </thead>\n",
       "  <tbody>\n",
       "    <tr>\n",
       "      <th>36522</th>\n",
       "      <td>2020-09-01</td>\n",
       "      <td>electronics.smartphone</td>\n",
       "      <td>3589</td>\n",
       "      <td>258.316364</td>\n",
       "    </tr>\n",
       "    <tr>\n",
       "      <th>11436</th>\n",
       "      <td>2020-03-08</td>\n",
       "      <td>electronics.smartphone</td>\n",
       "      <td>3269</td>\n",
       "      <td>243.841297</td>\n",
       "    </tr>\n",
       "    <tr>\n",
       "      <th>34072</th>\n",
       "      <td>2020-08-17</td>\n",
       "      <td>electronics.smartphone</td>\n",
       "      <td>3247</td>\n",
       "      <td>310.082338</td>\n",
       "    </tr>\n",
       "    <tr>\n",
       "      <th>11244</th>\n",
       "      <td>2020-03-07</td>\n",
       "      <td>electronics.smartphone</td>\n",
       "      <td>3184</td>\n",
       "      <td>244.908238</td>\n",
       "    </tr>\n",
       "    <tr>\n",
       "      <th>34266</th>\n",
       "      <td>2020-08-18</td>\n",
       "      <td>electronics.smartphone</td>\n",
       "      <td>3089</td>\n",
       "      <td>307.058032</td>\n",
       "    </tr>\n",
       "    <tr>\n",
       "      <th>35207</th>\n",
       "      <td>2020-08-24</td>\n",
       "      <td>electronics.smartphone</td>\n",
       "      <td>2977</td>\n",
       "      <td>289.658791</td>\n",
       "    </tr>\n",
       "    <tr>\n",
       "      <th>173</th>\n",
       "      <td>1970-01-01</td>\n",
       "      <td>electronics.smartphone</td>\n",
       "      <td>2834</td>\n",
       "      <td>249.403606</td>\n",
       "    </tr>\n",
       "    <tr>\n",
       "      <th>35949</th>\n",
       "      <td>2020-08-28</td>\n",
       "      <td>electronics.smartphone</td>\n",
       "      <td>2759</td>\n",
       "      <td>289.896169</td>\n",
       "    </tr>\n",
       "    <tr>\n",
       "      <th>25038</th>\n",
       "      <td>2020-06-14</td>\n",
       "      <td>electronics.smartphone</td>\n",
       "      <td>2742</td>\n",
       "      <td>235.870930</td>\n",
       "    </tr>\n",
       "    <tr>\n",
       "      <th>24846</th>\n",
       "      <td>2020-06-13</td>\n",
       "      <td>electronics.smartphone</td>\n",
       "      <td>2725</td>\n",
       "      <td>225.252323</td>\n",
       "    </tr>\n",
       "  </tbody>\n",
       "</table>\n",
       "</div>"
      ],
      "text/plain": [
       "       event_time           category_code  total_tx  avg_price_per_item\n",
       "36522  2020-09-01  electronics.smartphone      3589          258.316364\n",
       "11436  2020-03-08  electronics.smartphone      3269          243.841297\n",
       "34072  2020-08-17  electronics.smartphone      3247          310.082338\n",
       "11244  2020-03-07  electronics.smartphone      3184          244.908238\n",
       "34266  2020-08-18  electronics.smartphone      3089          307.058032\n",
       "35207  2020-08-24  electronics.smartphone      2977          289.658791\n",
       "173    1970-01-01  electronics.smartphone      2834          249.403606\n",
       "35949  2020-08-28  electronics.smartphone      2759          289.896169\n",
       "25038  2020-06-14  electronics.smartphone      2742          235.870930\n",
       "24846  2020-06-13  electronics.smartphone      2725          225.252323"
      ]
     },
     "execution_count": 15,
     "metadata": {},
     "output_type": "execute_result"
    }
   ],
   "source": [
    "df2_agg_time = df2.groupby(['event_time', 'category_code']) \\\n",
    "       .agg({'category_code':'size', 'price':'mean'}) \\\n",
    "       .rename(columns={'category_code':'total_tx','price':'avg_price_per_item'}) \\\n",
    "       .reset_index()\n",
    "\n",
    "df2_agg_time_no_nulls = df2_agg_time[df2_agg_time['avg_price_per_item'].notnull()]\n",
    "\n",
    "df2_agg_time_no_nulls.sort_values(['total_tx'], ascending=[False])[:10]"
   ]
  },
  {
   "cell_type": "code",
   "execution_count": 16,
   "id": "212912aa",
   "metadata": {
    "execution": {
     "iopub.execute_input": "2022-10-20T17:59:58.630278Z",
     "iopub.status.busy": "2022-10-20T17:59:58.628919Z",
     "iopub.status.idle": "2022-10-20T17:59:58.914512Z",
     "shell.execute_reply": "2022-10-20T17:59:58.912887Z"
    },
    "papermill": {
     "duration": 0.308478,
     "end_time": "2022-10-20T17:59:58.918050",
     "exception": false,
     "start_time": "2022-10-20T17:59:58.609572",
     "status": "completed"
    },
    "tags": []
   },
   "outputs": [
    {
     "name": "stdout",
     "output_type": "stream",
     "text": [
      "Total Sales by date for  electronics.smartphone\n"
     ]
    },
    {
     "data": {
      "text/html": [
       "        <script type=\"text/javascript\">\n",
       "        window.PlotlyConfig = {MathJaxConfig: 'local'};\n",
       "        if (window.MathJax && window.MathJax.Hub && window.MathJax.Hub.Config) {window.MathJax.Hub.Config({SVG: {font: \"STIX-Web\"}});}\n",
       "        if (typeof require !== 'undefined') {\n",
       "        require.undef(\"plotly\");\n",
       "        requirejs.config({\n",
       "            paths: {\n",
       "                'plotly': ['https://cdn.plot.ly/plotly-2.14.0.min']\n",
       "            }\n",
       "        });\n",
       "        require(['plotly'], function(Plotly) {\n",
       "            window._Plotly = Plotly;\n",
       "        });\n",
       "        }\n",
       "        </script>\n",
       "        "
      ]
     },
     "metadata": {},
     "output_type": "display_data"
    },
    {
     "data": {
      "text/html": [
       "<div>                            <div id=\"f73f46dc-c055-454c-b6f5-34cdaeec0d97\" class=\"plotly-graph-div\" style=\"height:525px; width:100%;\"></div>            <script type=\"text/javascript\">                require([\"plotly\"], function(Plotly) {                    window.PLOTLYENV=window.PLOTLYENV || {};                                    if (document.getElementById(\"f73f46dc-c055-454c-b6f5-34cdaeec0d97\")) {                    Plotly.newPlot(                        \"f73f46dc-c055-454c-b6f5-34cdaeec0d97\",                        [{\"marker\":{\"color\":\"red\"},\"text\":\"sales\",\"x\":[\"2020-01-05\",\"2020-01-06\",\"2020-01-07\",\"2020-01-08\",\"2020-01-09\",\"2020-01-10\",\"2020-01-11\",\"2020-01-12\",\"2020-01-13\",\"2020-01-14\",\"2020-01-15\",\"2020-01-16\",\"2020-01-17\",\"2020-01-18\",\"2020-01-19\",\"2020-01-20\",\"2020-01-21\",\"2020-01-22\",\"2020-01-23\",\"2020-01-24\",\"2020-01-25\",\"2020-01-26\",\"2020-01-27\",\"2020-01-28\",\"2020-01-29\",\"2020-01-30\",\"2020-01-31\",\"2020-02-01\",\"2020-02-02\",\"2020-02-03\",\"2020-02-04\",\"2020-02-05\",\"2020-02-06\",\"2020-02-07\",\"2020-02-08\",\"2020-02-09\",\"2020-02-10\",\"2020-02-11\",\"2020-02-12\",\"2020-02-13\",\"2020-02-14\",\"2020-02-15\",\"2020-02-16\",\"2020-02-17\",\"2020-02-18\",\"2020-02-19\",\"2020-02-20\",\"2020-02-21\",\"2020-02-22\",\"2020-02-23\",\"2020-02-24\",\"2020-02-25\",\"2020-02-26\",\"2020-02-27\",\"2020-02-28\",\"2020-02-29\",\"2020-03-01\",\"2020-03-02\",\"2020-03-03\",\"2020-03-04\",\"2020-03-05\",\"2020-03-06\",\"2020-03-07\",\"2020-03-08\",\"2020-03-09\",\"2020-03-10\",\"2020-03-11\",\"2020-03-12\",\"2020-03-13\",\"2020-03-14\",\"2020-03-15\",\"2020-03-16\",\"2020-03-17\",\"2020-03-18\",\"2020-03-19\",\"2020-03-20\",\"2020-03-21\",\"2020-03-22\",\"2020-03-23\",\"2020-03-24\",\"2020-03-25\",\"2020-03-26\",\"2020-03-27\",\"2020-03-28\",\"2020-03-29\",\"2020-03-30\",\"2020-03-31\",\"2020-04-01\",\"2020-04-02\",\"2020-04-03\",\"2020-04-04\",\"2020-04-05\",\"2020-04-06\",\"2020-04-07\",\"2020-04-08\",\"2020-04-09\",\"2020-04-10\",\"2020-04-11\",\"2020-04-12\",\"2020-04-13\",\"2020-04-14\",\"2020-04-15\",\"2020-04-16\",\"2020-04-17\",\"2020-04-18\",\"2020-04-19\",\"2020-04-20\",\"2020-04-21\",\"2020-04-22\",\"2020-04-23\",\"2020-04-24\",\"2020-04-25\",\"2020-04-26\",\"2020-04-27\",\"2020-04-28\",\"2020-04-29\",\"2020-04-30\",\"2020-05-01\",\"2020-05-02\",\"2020-05-03\",\"2020-05-04\",\"2020-05-05\",\"2020-05-06\",\"2020-05-07\",\"2020-05-08\",\"2020-05-09\",\"2020-05-10\",\"2020-05-11\",\"2020-05-12\",\"2020-05-13\",\"2020-05-14\",\"2020-05-15\",\"2020-05-16\",\"2020-05-17\",\"2020-05-18\",\"2020-05-19\",\"2020-05-20\",\"2020-05-21\",\"2020-05-22\",\"2020-05-23\",\"2020-05-24\",\"2020-05-25\",\"2020-05-26\",\"2020-05-27\",\"2020-05-28\",\"2020-05-29\",\"2020-05-30\",\"2020-05-31\",\"2020-06-01\",\"2020-06-02\",\"2020-06-03\",\"2020-06-04\",\"2020-06-05\",\"2020-06-06\",\"2020-06-07\",\"2020-06-08\",\"2020-06-09\",\"2020-06-10\",\"2020-06-11\",\"2020-06-12\",\"2020-06-13\",\"2020-06-14\",\"2020-06-15\",\"2020-06-16\",\"2020-06-17\",\"2020-06-18\",\"2020-06-19\",\"2020-06-20\",\"2020-06-21\",\"2020-06-22\",\"2020-06-23\",\"2020-06-24\",\"2020-06-25\",\"2020-06-26\",\"2020-06-27\",\"2020-06-28\",\"2020-06-29\",\"2020-06-30\",\"2020-07-01\",\"2020-07-02\",\"2020-07-03\",\"2020-07-04\",\"2020-07-05\",\"2020-07-06\",\"2020-07-07\",\"2020-07-08\",\"2020-07-09\",\"2020-07-10\",\"2020-07-11\",\"2020-07-12\",\"2020-07-13\",\"2020-07-14\",\"2020-07-15\",\"2020-07-16\",\"2020-07-17\",\"2020-07-18\",\"2020-07-19\",\"2020-07-20\",\"2020-07-21\",\"2020-07-22\",\"2020-07-23\",\"2020-07-24\",\"2020-07-25\",\"2020-07-26\",\"2020-07-27\",\"2020-07-28\",\"2020-07-29\",\"2020-07-30\",\"2020-07-31\",\"2020-08-01\",\"2020-08-02\",\"2020-08-03\",\"2020-08-04\",\"2020-08-05\",\"2020-08-06\",\"2020-08-07\",\"2020-08-08\",\"2020-08-09\",\"2020-08-10\",\"2020-08-11\",\"2020-08-12\",\"2020-08-13\",\"2020-08-14\",\"2020-08-15\",\"2020-08-16\",\"2020-08-17\",\"2020-08-18\",\"2020-08-19\",\"2020-08-20\",\"2020-08-21\",\"2020-08-22\",\"2020-08-23\",\"2020-08-24\",\"2020-08-25\",\"2020-08-26\",\"2020-08-27\",\"2020-08-28\",\"2020-08-29\",\"2020-08-30\",\"2020-08-31\",\"2020-09-01\",\"2020-09-02\",\"2020-09-03\",\"2020-09-04\",\"2020-09-05\",\"2020-09-06\",\"2020-09-07\",\"2020-09-08\",\"2020-09-09\",\"2020-09-10\",\"2020-09-11\",\"2020-09-12\",\"2020-09-13\",\"2020-09-14\",\"2020-09-15\",\"2020-09-16\",\"2020-09-17\",\"2020-09-18\",\"2020-09-19\",\"2020-09-20\",\"2020-09-21\",\"2020-09-22\",\"2020-09-23\",\"2020-09-24\",\"2020-09-25\",\"2020-09-26\",\"2020-09-27\",\"2020-09-28\",\"2020-09-29\",\"2020-09-30\",\"2020-10-01\",\"2020-10-02\",\"2020-10-03\",\"2020-10-04\",\"2020-10-05\",\"2020-10-06\",\"2020-10-07\",\"2020-10-08\",\"2020-10-09\",\"2020-10-10\",\"2020-10-11\",\"2020-10-12\",\"2020-10-13\",\"2020-10-14\",\"2020-10-15\",\"2020-10-16\",\"2020-10-17\",\"2020-10-18\",\"2020-10-19\",\"2020-10-20\",\"2020-10-21\",\"2020-10-22\",\"2020-10-23\",\"2020-10-24\",\"2020-10-25\",\"2020-10-26\",\"2020-10-27\",\"2020-10-28\",\"2020-10-29\",\"2020-10-30\",\"2020-10-31\",\"2020-11-01\",\"2020-11-02\",\"2020-11-03\",\"2020-11-04\",\"2020-11-05\",\"2020-11-06\",\"2020-11-07\",\"2020-11-08\",\"2020-11-09\",\"2020-11-10\",\"2020-11-11\",\"2020-11-12\",\"2020-11-13\",\"2020-11-14\",\"2020-11-15\",\"2020-11-16\",\"2020-11-17\",\"2020-11-18\",\"2020-11-19\",\"2020-11-20\",\"2020-11-21\"],\"y\":[1630,1613,1890,1310,1148,1572,1969,1862,1089,984,1016,1014,1036,1584,1479,990,948,909,843,1289,1691,1636,851,806,783,883,1030,1709,1530,831,953,913,1024,1451,2021,1810,1018,1099,1019,1082,2135,2024,1954,811,816,810,849,1041,1626,1621,796,778,684,695,1453,1895,1919,857,921,944,1212,2051,3184,3269,2266,1046,1093,966,1058,1531,1585,782,802,788,831,920,1174,971,765,930,999,757,947,1113,955,491,492,451,422,221,403,273,259,255,234,188,268,344,360,289,268,286,262,151,157,197,196,203,152,231,262,297,297,238,274,239,301,300,311,244,365,549,469,627,618,565,574,758,900,876,1080,1071,1364,1233,909,871,870,1408,1665,2042,1926,1142,1098,1187,1140,2024,2721,2507,1119,1310,1551,1719,1866,2599,2531,1545,1716,1709,1582,2347,2725,2742,1336,1397,1491,1753,2127,1303,1052,1723,1554,1544,1721,2110,473,289,2113,2305,1251,1551,2096,1906,194,265,363,515,485,451,428,372,460,774,561,593,700,575,518,395,692,677,1071,1233,1093,1213,1590,1356,1435,944,1073,1326,1386,1714,1519,1770,1416,1171,1535,1365,1678,1592,1179,1282,1113,909,715,3247,3089,2692,2126,2670,518,658,2977,2614,2633,2545,2759,656,739,1554,3589,2638,2167,2285,696,622,2356,1776,1796,1702,2090,928,734,2196,2115,1938,1679,1640,878,734,1969,1550,1224,1180,1221,652,503,1512,1304,1383,535,551,865,758,764,463,542,497,603,939,809,372,565,503,418,632,869,832,494,490,343,1111,360,341,671,560,457,831,141,348,159,414,258,817,181,186,287,780,363,341,225,367,287,372,932,665,387,214,983,938,227,101],\"type\":\"scatter\"}],                        {\"template\":{\"data\":{\"histogram2dcontour\":[{\"type\":\"histogram2dcontour\",\"colorbar\":{\"outlinewidth\":0,\"ticks\":\"\"},\"colorscale\":[[0.0,\"#0d0887\"],[0.1111111111111111,\"#46039f\"],[0.2222222222222222,\"#7201a8\"],[0.3333333333333333,\"#9c179e\"],[0.4444444444444444,\"#bd3786\"],[0.5555555555555556,\"#d8576b\"],[0.6666666666666666,\"#ed7953\"],[0.7777777777777778,\"#fb9f3a\"],[0.8888888888888888,\"#fdca26\"],[1.0,\"#f0f921\"]]}],\"choropleth\":[{\"type\":\"choropleth\",\"colorbar\":{\"outlinewidth\":0,\"ticks\":\"\"}}],\"histogram2d\":[{\"type\":\"histogram2d\",\"colorbar\":{\"outlinewidth\":0,\"ticks\":\"\"},\"colorscale\":[[0.0,\"#0d0887\"],[0.1111111111111111,\"#46039f\"],[0.2222222222222222,\"#7201a8\"],[0.3333333333333333,\"#9c179e\"],[0.4444444444444444,\"#bd3786\"],[0.5555555555555556,\"#d8576b\"],[0.6666666666666666,\"#ed7953\"],[0.7777777777777778,\"#fb9f3a\"],[0.8888888888888888,\"#fdca26\"],[1.0,\"#f0f921\"]]}],\"heatmap\":[{\"type\":\"heatmap\",\"colorbar\":{\"outlinewidth\":0,\"ticks\":\"\"},\"colorscale\":[[0.0,\"#0d0887\"],[0.1111111111111111,\"#46039f\"],[0.2222222222222222,\"#7201a8\"],[0.3333333333333333,\"#9c179e\"],[0.4444444444444444,\"#bd3786\"],[0.5555555555555556,\"#d8576b\"],[0.6666666666666666,\"#ed7953\"],[0.7777777777777778,\"#fb9f3a\"],[0.8888888888888888,\"#fdca26\"],[1.0,\"#f0f921\"]]}],\"heatmapgl\":[{\"type\":\"heatmapgl\",\"colorbar\":{\"outlinewidth\":0,\"ticks\":\"\"},\"colorscale\":[[0.0,\"#0d0887\"],[0.1111111111111111,\"#46039f\"],[0.2222222222222222,\"#7201a8\"],[0.3333333333333333,\"#9c179e\"],[0.4444444444444444,\"#bd3786\"],[0.5555555555555556,\"#d8576b\"],[0.6666666666666666,\"#ed7953\"],[0.7777777777777778,\"#fb9f3a\"],[0.8888888888888888,\"#fdca26\"],[1.0,\"#f0f921\"]]}],\"contourcarpet\":[{\"type\":\"contourcarpet\",\"colorbar\":{\"outlinewidth\":0,\"ticks\":\"\"}}],\"contour\":[{\"type\":\"contour\",\"colorbar\":{\"outlinewidth\":0,\"ticks\":\"\"},\"colorscale\":[[0.0,\"#0d0887\"],[0.1111111111111111,\"#46039f\"],[0.2222222222222222,\"#7201a8\"],[0.3333333333333333,\"#9c179e\"],[0.4444444444444444,\"#bd3786\"],[0.5555555555555556,\"#d8576b\"],[0.6666666666666666,\"#ed7953\"],[0.7777777777777778,\"#fb9f3a\"],[0.8888888888888888,\"#fdca26\"],[1.0,\"#f0f921\"]]}],\"surface\":[{\"type\":\"surface\",\"colorbar\":{\"outlinewidth\":0,\"ticks\":\"\"},\"colorscale\":[[0.0,\"#0d0887\"],[0.1111111111111111,\"#46039f\"],[0.2222222222222222,\"#7201a8\"],[0.3333333333333333,\"#9c179e\"],[0.4444444444444444,\"#bd3786\"],[0.5555555555555556,\"#d8576b\"],[0.6666666666666666,\"#ed7953\"],[0.7777777777777778,\"#fb9f3a\"],[0.8888888888888888,\"#fdca26\"],[1.0,\"#f0f921\"]]}],\"mesh3d\":[{\"type\":\"mesh3d\",\"colorbar\":{\"outlinewidth\":0,\"ticks\":\"\"}}],\"scatter\":[{\"fillpattern\":{\"fillmode\":\"overlay\",\"size\":10,\"solidity\":0.2},\"type\":\"scatter\"}],\"parcoords\":[{\"type\":\"parcoords\",\"line\":{\"colorbar\":{\"outlinewidth\":0,\"ticks\":\"\"}}}],\"scatterpolargl\":[{\"type\":\"scatterpolargl\",\"marker\":{\"colorbar\":{\"outlinewidth\":0,\"ticks\":\"\"}}}],\"bar\":[{\"error_x\":{\"color\":\"#2a3f5f\"},\"error_y\":{\"color\":\"#2a3f5f\"},\"marker\":{\"line\":{\"color\":\"#E5ECF6\",\"width\":0.5},\"pattern\":{\"fillmode\":\"overlay\",\"size\":10,\"solidity\":0.2}},\"type\":\"bar\"}],\"scattergeo\":[{\"type\":\"scattergeo\",\"marker\":{\"colorbar\":{\"outlinewidth\":0,\"ticks\":\"\"}}}],\"scatterpolar\":[{\"type\":\"scatterpolar\",\"marker\":{\"colorbar\":{\"outlinewidth\":0,\"ticks\":\"\"}}}],\"histogram\":[{\"marker\":{\"pattern\":{\"fillmode\":\"overlay\",\"size\":10,\"solidity\":0.2}},\"type\":\"histogram\"}],\"scattergl\":[{\"type\":\"scattergl\",\"marker\":{\"colorbar\":{\"outlinewidth\":0,\"ticks\":\"\"}}}],\"scatter3d\":[{\"type\":\"scatter3d\",\"line\":{\"colorbar\":{\"outlinewidth\":0,\"ticks\":\"\"}},\"marker\":{\"colorbar\":{\"outlinewidth\":0,\"ticks\":\"\"}}}],\"scattermapbox\":[{\"type\":\"scattermapbox\",\"marker\":{\"colorbar\":{\"outlinewidth\":0,\"ticks\":\"\"}}}],\"scatterternary\":[{\"type\":\"scatterternary\",\"marker\":{\"colorbar\":{\"outlinewidth\":0,\"ticks\":\"\"}}}],\"scattercarpet\":[{\"type\":\"scattercarpet\",\"marker\":{\"colorbar\":{\"outlinewidth\":0,\"ticks\":\"\"}}}],\"carpet\":[{\"aaxis\":{\"endlinecolor\":\"#2a3f5f\",\"gridcolor\":\"white\",\"linecolor\":\"white\",\"minorgridcolor\":\"white\",\"startlinecolor\":\"#2a3f5f\"},\"baxis\":{\"endlinecolor\":\"#2a3f5f\",\"gridcolor\":\"white\",\"linecolor\":\"white\",\"minorgridcolor\":\"white\",\"startlinecolor\":\"#2a3f5f\"},\"type\":\"carpet\"}],\"table\":[{\"cells\":{\"fill\":{\"color\":\"#EBF0F8\"},\"line\":{\"color\":\"white\"}},\"header\":{\"fill\":{\"color\":\"#C8D4E3\"},\"line\":{\"color\":\"white\"}},\"type\":\"table\"}],\"barpolar\":[{\"marker\":{\"line\":{\"color\":\"#E5ECF6\",\"width\":0.5},\"pattern\":{\"fillmode\":\"overlay\",\"size\":10,\"solidity\":0.2}},\"type\":\"barpolar\"}],\"pie\":[{\"automargin\":true,\"type\":\"pie\"}]},\"layout\":{\"autotypenumbers\":\"strict\",\"colorway\":[\"#636efa\",\"#EF553B\",\"#00cc96\",\"#ab63fa\",\"#FFA15A\",\"#19d3f3\",\"#FF6692\",\"#B6E880\",\"#FF97FF\",\"#FECB52\"],\"font\":{\"color\":\"#2a3f5f\"},\"hovermode\":\"closest\",\"hoverlabel\":{\"align\":\"left\"},\"paper_bgcolor\":\"white\",\"plot_bgcolor\":\"#E5ECF6\",\"polar\":{\"bgcolor\":\"#E5ECF6\",\"angularaxis\":{\"gridcolor\":\"white\",\"linecolor\":\"white\",\"ticks\":\"\"},\"radialaxis\":{\"gridcolor\":\"white\",\"linecolor\":\"white\",\"ticks\":\"\"}},\"ternary\":{\"bgcolor\":\"#E5ECF6\",\"aaxis\":{\"gridcolor\":\"white\",\"linecolor\":\"white\",\"ticks\":\"\"},\"baxis\":{\"gridcolor\":\"white\",\"linecolor\":\"white\",\"ticks\":\"\"},\"caxis\":{\"gridcolor\":\"white\",\"linecolor\":\"white\",\"ticks\":\"\"}},\"coloraxis\":{\"colorbar\":{\"outlinewidth\":0,\"ticks\":\"\"}},\"colorscale\":{\"sequential\":[[0.0,\"#0d0887\"],[0.1111111111111111,\"#46039f\"],[0.2222222222222222,\"#7201a8\"],[0.3333333333333333,\"#9c179e\"],[0.4444444444444444,\"#bd3786\"],[0.5555555555555556,\"#d8576b\"],[0.6666666666666666,\"#ed7953\"],[0.7777777777777778,\"#fb9f3a\"],[0.8888888888888888,\"#fdca26\"],[1.0,\"#f0f921\"]],\"sequentialminus\":[[0.0,\"#0d0887\"],[0.1111111111111111,\"#46039f\"],[0.2222222222222222,\"#7201a8\"],[0.3333333333333333,\"#9c179e\"],[0.4444444444444444,\"#bd3786\"],[0.5555555555555556,\"#d8576b\"],[0.6666666666666666,\"#ed7953\"],[0.7777777777777778,\"#fb9f3a\"],[0.8888888888888888,\"#fdca26\"],[1.0,\"#f0f921\"]],\"diverging\":[[0,\"#8e0152\"],[0.1,\"#c51b7d\"],[0.2,\"#de77ae\"],[0.3,\"#f1b6da\"],[0.4,\"#fde0ef\"],[0.5,\"#f7f7f7\"],[0.6,\"#e6f5d0\"],[0.7,\"#b8e186\"],[0.8,\"#7fbc41\"],[0.9,\"#4d9221\"],[1,\"#276419\"]]},\"xaxis\":{\"gridcolor\":\"white\",\"linecolor\":\"white\",\"ticks\":\"\",\"title\":{\"standoff\":15},\"zerolinecolor\":\"white\",\"automargin\":true,\"zerolinewidth\":2},\"yaxis\":{\"gridcolor\":\"white\",\"linecolor\":\"white\",\"ticks\":\"\",\"title\":{\"standoff\":15},\"zerolinecolor\":\"white\",\"automargin\":true,\"zerolinewidth\":2},\"scene\":{\"xaxis\":{\"backgroundcolor\":\"#E5ECF6\",\"gridcolor\":\"white\",\"linecolor\":\"white\",\"showbackground\":true,\"ticks\":\"\",\"zerolinecolor\":\"white\",\"gridwidth\":2},\"yaxis\":{\"backgroundcolor\":\"#E5ECF6\",\"gridcolor\":\"white\",\"linecolor\":\"white\",\"showbackground\":true,\"ticks\":\"\",\"zerolinecolor\":\"white\",\"gridwidth\":2},\"zaxis\":{\"backgroundcolor\":\"#E5ECF6\",\"gridcolor\":\"white\",\"linecolor\":\"white\",\"showbackground\":true,\"ticks\":\"\",\"zerolinecolor\":\"white\",\"gridwidth\":2}},\"shapedefaults\":{\"line\":{\"color\":\"#2a3f5f\"}},\"annotationdefaults\":{\"arrowcolor\":\"#2a3f5f\",\"arrowhead\":0,\"arrowwidth\":1},\"geo\":{\"bgcolor\":\"white\",\"landcolor\":\"#E5ECF6\",\"subunitcolor\":\"white\",\"showland\":true,\"showlakes\":true,\"lakecolor\":\"white\"},\"title\":{\"x\":0.05},\"mapbox\":{\"style\":\"light\"}}},\"xaxis\":{\"title\":{\"text\":\"Date\"}},\"yaxis\":{\"title\":{\"text\":\"Total Sold\"}},\"showlegend\":false},                        {\"responsive\": true}                    ).then(function(){\n",
       "                            \n",
       "var gd = document.getElementById('f73f46dc-c055-454c-b6f5-34cdaeec0d97');\n",
       "var x = new MutationObserver(function (mutations, observer) {{\n",
       "        var display = window.getComputedStyle(gd).display;\n",
       "        if (!display || display === 'none') {{\n",
       "            console.log([gd, 'removed!']);\n",
       "            Plotly.purge(gd);\n",
       "            observer.disconnect();\n",
       "        }}\n",
       "}});\n",
       "\n",
       "// Listen for the removal of the full notebook cells\n",
       "var notebookContainer = gd.closest('#notebook-container');\n",
       "if (notebookContainer) {{\n",
       "    x.observe(notebookContainer, {childList: true});\n",
       "}}\n",
       "\n",
       "// Listen for the clearing of the current output cell\n",
       "var outputEl = gd.closest('.output');\n",
       "if (outputEl) {{\n",
       "    x.observe(outputEl, {childList: true});\n",
       "}}\n",
       "\n",
       "                        })                };                });            </script>        </div>"
      ]
     },
     "metadata": {},
     "output_type": "display_data"
    },
    {
     "name": "stdout",
     "output_type": "stream",
     "text": [
      "Total Sales by date for  appliances.kitchen.refrigerators\n"
     ]
    },
    {
     "data": {
      "text/html": [
       "<div>                            <div id=\"7ca520e8-d811-4011-a529-4be4db643a70\" class=\"plotly-graph-div\" style=\"height:525px; width:100%;\"></div>            <script type=\"text/javascript\">                require([\"plotly\"], function(Plotly) {                    window.PLOTLYENV=window.PLOTLYENV || {};                                    if (document.getElementById(\"7ca520e8-d811-4011-a529-4be4db643a70\")) {                    Plotly.newPlot(                        \"7ca520e8-d811-4011-a529-4be4db643a70\",                        [{\"marker\":{\"color\":\"red\"},\"text\":\"sales\",\"x\":[\"2020-01-05\",\"2020-01-06\",\"2020-01-07\",\"2020-01-08\",\"2020-01-09\",\"2020-01-10\",\"2020-01-11\",\"2020-01-12\",\"2020-01-13\",\"2020-01-14\",\"2020-01-15\",\"2020-01-16\",\"2020-01-17\",\"2020-01-18\",\"2020-01-19\",\"2020-01-20\",\"2020-01-21\",\"2020-01-22\",\"2020-01-23\",\"2020-01-24\",\"2020-01-25\",\"2020-01-26\",\"2020-01-27\",\"2020-01-28\",\"2020-01-29\",\"2020-01-30\",\"2020-01-31\",\"2020-02-01\",\"2020-02-02\",\"2020-02-03\",\"2020-02-04\",\"2020-02-05\",\"2020-02-06\",\"2020-02-07\",\"2020-02-08\",\"2020-02-09\",\"2020-02-10\",\"2020-02-11\",\"2020-02-12\",\"2020-02-13\",\"2020-02-14\",\"2020-02-15\",\"2020-02-16\",\"2020-02-17\",\"2020-02-18\",\"2020-02-19\",\"2020-02-20\",\"2020-02-21\",\"2020-02-22\",\"2020-02-23\",\"2020-02-24\",\"2020-02-25\",\"2020-02-26\",\"2020-02-27\",\"2020-02-28\",\"2020-02-29\",\"2020-03-01\",\"2020-03-02\",\"2020-03-03\",\"2020-03-04\",\"2020-03-05\",\"2020-03-06\",\"2020-03-07\",\"2020-03-08\",\"2020-03-09\",\"2020-03-10\",\"2020-03-11\",\"2020-03-12\",\"2020-03-13\",\"2020-03-14\",\"2020-03-15\",\"2020-03-16\",\"2020-03-17\",\"2020-03-18\",\"2020-03-19\",\"2020-03-20\",\"2020-03-21\",\"2020-03-22\",\"2020-03-23\",\"2020-03-24\",\"2020-03-25\",\"2020-03-26\",\"2020-03-27\",\"2020-03-28\",\"2020-03-29\",\"2020-03-30\",\"2020-03-31\",\"2020-04-01\",\"2020-04-02\",\"2020-04-03\",\"2020-04-04\",\"2020-04-05\",\"2020-04-06\",\"2020-04-07\",\"2020-04-08\",\"2020-04-09\",\"2020-04-10\",\"2020-04-11\",\"2020-04-12\",\"2020-04-13\",\"2020-04-14\",\"2020-04-15\",\"2020-04-16\",\"2020-04-17\",\"2020-04-18\",\"2020-04-19\",\"2020-04-20\",\"2020-04-21\",\"2020-04-22\",\"2020-04-23\",\"2020-04-24\",\"2020-04-25\",\"2020-04-26\",\"2020-04-27\",\"2020-04-28\",\"2020-04-29\",\"2020-04-30\",\"2020-05-01\",\"2020-05-02\",\"2020-05-03\",\"2020-05-04\",\"2020-05-05\",\"2020-05-06\",\"2020-05-07\",\"2020-05-08\",\"2020-05-09\",\"2020-05-10\",\"2020-05-11\",\"2020-05-12\",\"2020-05-13\",\"2020-05-14\",\"2020-05-15\",\"2020-05-16\",\"2020-05-17\",\"2020-05-18\",\"2020-05-19\",\"2020-05-20\",\"2020-05-21\",\"2020-05-22\",\"2020-05-23\",\"2020-05-24\",\"2020-05-25\",\"2020-05-26\",\"2020-05-27\",\"2020-05-28\",\"2020-05-29\",\"2020-05-30\",\"2020-05-31\",\"2020-06-01\",\"2020-06-02\",\"2020-06-03\",\"2020-06-04\",\"2020-06-05\",\"2020-06-06\",\"2020-06-07\",\"2020-06-08\",\"2020-06-09\",\"2020-06-10\",\"2020-06-11\",\"2020-06-12\",\"2020-06-13\",\"2020-06-14\",\"2020-06-15\",\"2020-06-16\",\"2020-06-17\",\"2020-06-18\",\"2020-06-19\",\"2020-06-20\",\"2020-06-21\",\"2020-06-22\",\"2020-06-23\",\"2020-06-24\",\"2020-06-25\",\"2020-06-26\",\"2020-06-27\",\"2020-06-28\",\"2020-06-29\",\"2020-06-30\",\"2020-07-01\",\"2020-07-02\",\"2020-07-03\",\"2020-07-04\",\"2020-07-05\",\"2020-07-06\",\"2020-07-07\",\"2020-07-08\",\"2020-07-09\",\"2020-07-10\",\"2020-07-11\",\"2020-07-12\",\"2020-07-13\",\"2020-07-14\",\"2020-07-15\",\"2020-07-16\",\"2020-07-17\",\"2020-07-18\",\"2020-07-19\",\"2020-07-20\",\"2020-07-21\",\"2020-07-22\",\"2020-07-23\",\"2020-07-24\",\"2020-07-25\",\"2020-07-26\",\"2020-07-27\",\"2020-07-28\",\"2020-07-29\",\"2020-07-30\",\"2020-07-31\",\"2020-08-01\",\"2020-08-02\",\"2020-08-03\",\"2020-08-04\",\"2020-08-05\",\"2020-08-06\",\"2020-08-07\",\"2020-08-08\",\"2020-08-09\",\"2020-08-10\",\"2020-08-11\",\"2020-08-12\",\"2020-08-13\",\"2020-08-14\",\"2020-08-15\",\"2020-08-16\",\"2020-08-17\",\"2020-08-18\",\"2020-08-19\",\"2020-08-20\",\"2020-08-21\",\"2020-08-22\",\"2020-08-23\",\"2020-08-24\",\"2020-08-25\",\"2020-08-26\",\"2020-08-27\",\"2020-08-28\",\"2020-08-29\",\"2020-08-30\",\"2020-08-31\",\"2020-09-01\",\"2020-09-02\",\"2020-09-03\",\"2020-09-04\",\"2020-09-05\",\"2020-09-06\",\"2020-09-07\",\"2020-09-08\",\"2020-09-09\",\"2020-09-10\",\"2020-09-11\",\"2020-09-12\",\"2020-09-13\",\"2020-09-14\",\"2020-09-15\",\"2020-09-16\",\"2020-09-17\",\"2020-09-18\",\"2020-09-19\",\"2020-09-20\",\"2020-09-21\",\"2020-09-22\",\"2020-09-23\",\"2020-09-24\",\"2020-09-25\",\"2020-09-26\",\"2020-09-27\",\"2020-09-28\",\"2020-09-29\",\"2020-09-30\",\"2020-10-01\",\"2020-10-02\",\"2020-10-03\",\"2020-10-04\",\"2020-10-05\",\"2020-10-06\",\"2020-10-07\",\"2020-10-08\",\"2020-10-09\",\"2020-10-10\",\"2020-10-11\",\"2020-10-12\",\"2020-10-13\",\"2020-10-14\",\"2020-10-15\",\"2020-10-16\",\"2020-10-17\",\"2020-10-18\",\"2020-10-19\",\"2020-10-20\",\"2020-10-21\",\"2020-10-22\",\"2020-10-23\",\"2020-10-24\",\"2020-10-25\",\"2020-10-26\",\"2020-10-27\",\"2020-10-28\",\"2020-10-29\",\"2020-10-30\",\"2020-10-31\",\"2020-11-01\",\"2020-11-02\",\"2020-11-03\",\"2020-11-04\",\"2020-11-05\",\"2020-11-06\",\"2020-11-07\",\"2020-11-08\",\"2020-11-09\",\"2020-11-10\",\"2020-11-11\",\"2020-11-12\",\"2020-11-13\",\"2020-11-14\",\"2020-11-15\",\"2020-11-16\",\"2020-11-17\",\"2020-11-18\",\"2020-11-19\",\"2020-11-20\",\"2020-11-21\"],\"y\":[216,184,283,178,150,247,328,297,142,155,163,151,179,274,275,174,187,139,153,343,356,402,129,123,90,148,187,330,343,138,174,195,187,345,467,467,150,153,149,205,464,400,390,142,144,136,158,211,356,391,140,157,145,137,351,409,393,166,163,154,232,310,508,422,460,181,200,286,331,502,567,275,301,303,316,384,434,342,249,306,288,187,217,337,288,142,127,63,54,53,63,59,36,28,27,16,38,44,46,36,32,38,32,16,20,29,15,24,28,36,39,42,50,29,25,40,44,46,59,41,62,70,64,109,100,103,113,107,109,158,170,193,293,315,231,232,216,293,317,481,464,293,313,324,292,385,511,550,325,394,423,436,489,710,787,417,461,463,437,480,603,699,393,389,380,441,517,355,287,414,457,389,389,450,99,63,525,634,333,499,560,650,79,114,101,107,112,117,102,101,98,168,158,171,184,140,152,115,215,190,234,284,159,235,270,280,269,196,245,328,321,428,422,448,335,248,347,333,387,332,251,228,203,176,139,891,687,663,527,563,51,97,614,585,541,510,575,86,99,178,444,402,349,439,95,70,466,401,315,323,423,82,69,380,383,400,422,469,180,141,459,337,355,332,341,167,144,416,446,552,42,87,191,136,124,89,71,71,112,224,170,40,77,62,57,87,226,187,79,46,39,252,51,34,112,95,59,227,13,76,26,116,51,237,15,26,82,216,94,54,28,40,28,59,215,138,52,25,222,215,23,12],\"type\":\"scatter\"}],                        {\"template\":{\"data\":{\"histogram2dcontour\":[{\"type\":\"histogram2dcontour\",\"colorbar\":{\"outlinewidth\":0,\"ticks\":\"\"},\"colorscale\":[[0.0,\"#0d0887\"],[0.1111111111111111,\"#46039f\"],[0.2222222222222222,\"#7201a8\"],[0.3333333333333333,\"#9c179e\"],[0.4444444444444444,\"#bd3786\"],[0.5555555555555556,\"#d8576b\"],[0.6666666666666666,\"#ed7953\"],[0.7777777777777778,\"#fb9f3a\"],[0.8888888888888888,\"#fdca26\"],[1.0,\"#f0f921\"]]}],\"choropleth\":[{\"type\":\"choropleth\",\"colorbar\":{\"outlinewidth\":0,\"ticks\":\"\"}}],\"histogram2d\":[{\"type\":\"histogram2d\",\"colorbar\":{\"outlinewidth\":0,\"ticks\":\"\"},\"colorscale\":[[0.0,\"#0d0887\"],[0.1111111111111111,\"#46039f\"],[0.2222222222222222,\"#7201a8\"],[0.3333333333333333,\"#9c179e\"],[0.4444444444444444,\"#bd3786\"],[0.5555555555555556,\"#d8576b\"],[0.6666666666666666,\"#ed7953\"],[0.7777777777777778,\"#fb9f3a\"],[0.8888888888888888,\"#fdca26\"],[1.0,\"#f0f921\"]]}],\"heatmap\":[{\"type\":\"heatmap\",\"colorbar\":{\"outlinewidth\":0,\"ticks\":\"\"},\"colorscale\":[[0.0,\"#0d0887\"],[0.1111111111111111,\"#46039f\"],[0.2222222222222222,\"#7201a8\"],[0.3333333333333333,\"#9c179e\"],[0.4444444444444444,\"#bd3786\"],[0.5555555555555556,\"#d8576b\"],[0.6666666666666666,\"#ed7953\"],[0.7777777777777778,\"#fb9f3a\"],[0.8888888888888888,\"#fdca26\"],[1.0,\"#f0f921\"]]}],\"heatmapgl\":[{\"type\":\"heatmapgl\",\"colorbar\":{\"outlinewidth\":0,\"ticks\":\"\"},\"colorscale\":[[0.0,\"#0d0887\"],[0.1111111111111111,\"#46039f\"],[0.2222222222222222,\"#7201a8\"],[0.3333333333333333,\"#9c179e\"],[0.4444444444444444,\"#bd3786\"],[0.5555555555555556,\"#d8576b\"],[0.6666666666666666,\"#ed7953\"],[0.7777777777777778,\"#fb9f3a\"],[0.8888888888888888,\"#fdca26\"],[1.0,\"#f0f921\"]]}],\"contourcarpet\":[{\"type\":\"contourcarpet\",\"colorbar\":{\"outlinewidth\":0,\"ticks\":\"\"}}],\"contour\":[{\"type\":\"contour\",\"colorbar\":{\"outlinewidth\":0,\"ticks\":\"\"},\"colorscale\":[[0.0,\"#0d0887\"],[0.1111111111111111,\"#46039f\"],[0.2222222222222222,\"#7201a8\"],[0.3333333333333333,\"#9c179e\"],[0.4444444444444444,\"#bd3786\"],[0.5555555555555556,\"#d8576b\"],[0.6666666666666666,\"#ed7953\"],[0.7777777777777778,\"#fb9f3a\"],[0.8888888888888888,\"#fdca26\"],[1.0,\"#f0f921\"]]}],\"surface\":[{\"type\":\"surface\",\"colorbar\":{\"outlinewidth\":0,\"ticks\":\"\"},\"colorscale\":[[0.0,\"#0d0887\"],[0.1111111111111111,\"#46039f\"],[0.2222222222222222,\"#7201a8\"],[0.3333333333333333,\"#9c179e\"],[0.4444444444444444,\"#bd3786\"],[0.5555555555555556,\"#d8576b\"],[0.6666666666666666,\"#ed7953\"],[0.7777777777777778,\"#fb9f3a\"],[0.8888888888888888,\"#fdca26\"],[1.0,\"#f0f921\"]]}],\"mesh3d\":[{\"type\":\"mesh3d\",\"colorbar\":{\"outlinewidth\":0,\"ticks\":\"\"}}],\"scatter\":[{\"fillpattern\":{\"fillmode\":\"overlay\",\"size\":10,\"solidity\":0.2},\"type\":\"scatter\"}],\"parcoords\":[{\"type\":\"parcoords\",\"line\":{\"colorbar\":{\"outlinewidth\":0,\"ticks\":\"\"}}}],\"scatterpolargl\":[{\"type\":\"scatterpolargl\",\"marker\":{\"colorbar\":{\"outlinewidth\":0,\"ticks\":\"\"}}}],\"bar\":[{\"error_x\":{\"color\":\"#2a3f5f\"},\"error_y\":{\"color\":\"#2a3f5f\"},\"marker\":{\"line\":{\"color\":\"#E5ECF6\",\"width\":0.5},\"pattern\":{\"fillmode\":\"overlay\",\"size\":10,\"solidity\":0.2}},\"type\":\"bar\"}],\"scattergeo\":[{\"type\":\"scattergeo\",\"marker\":{\"colorbar\":{\"outlinewidth\":0,\"ticks\":\"\"}}}],\"scatterpolar\":[{\"type\":\"scatterpolar\",\"marker\":{\"colorbar\":{\"outlinewidth\":0,\"ticks\":\"\"}}}],\"histogram\":[{\"marker\":{\"pattern\":{\"fillmode\":\"overlay\",\"size\":10,\"solidity\":0.2}},\"type\":\"histogram\"}],\"scattergl\":[{\"type\":\"scattergl\",\"marker\":{\"colorbar\":{\"outlinewidth\":0,\"ticks\":\"\"}}}],\"scatter3d\":[{\"type\":\"scatter3d\",\"line\":{\"colorbar\":{\"outlinewidth\":0,\"ticks\":\"\"}},\"marker\":{\"colorbar\":{\"outlinewidth\":0,\"ticks\":\"\"}}}],\"scattermapbox\":[{\"type\":\"scattermapbox\",\"marker\":{\"colorbar\":{\"outlinewidth\":0,\"ticks\":\"\"}}}],\"scatterternary\":[{\"type\":\"scatterternary\",\"marker\":{\"colorbar\":{\"outlinewidth\":0,\"ticks\":\"\"}}}],\"scattercarpet\":[{\"type\":\"scattercarpet\",\"marker\":{\"colorbar\":{\"outlinewidth\":0,\"ticks\":\"\"}}}],\"carpet\":[{\"aaxis\":{\"endlinecolor\":\"#2a3f5f\",\"gridcolor\":\"white\",\"linecolor\":\"white\",\"minorgridcolor\":\"white\",\"startlinecolor\":\"#2a3f5f\"},\"baxis\":{\"endlinecolor\":\"#2a3f5f\",\"gridcolor\":\"white\",\"linecolor\":\"white\",\"minorgridcolor\":\"white\",\"startlinecolor\":\"#2a3f5f\"},\"type\":\"carpet\"}],\"table\":[{\"cells\":{\"fill\":{\"color\":\"#EBF0F8\"},\"line\":{\"color\":\"white\"}},\"header\":{\"fill\":{\"color\":\"#C8D4E3\"},\"line\":{\"color\":\"white\"}},\"type\":\"table\"}],\"barpolar\":[{\"marker\":{\"line\":{\"color\":\"#E5ECF6\",\"width\":0.5},\"pattern\":{\"fillmode\":\"overlay\",\"size\":10,\"solidity\":0.2}},\"type\":\"barpolar\"}],\"pie\":[{\"automargin\":true,\"type\":\"pie\"}]},\"layout\":{\"autotypenumbers\":\"strict\",\"colorway\":[\"#636efa\",\"#EF553B\",\"#00cc96\",\"#ab63fa\",\"#FFA15A\",\"#19d3f3\",\"#FF6692\",\"#B6E880\",\"#FF97FF\",\"#FECB52\"],\"font\":{\"color\":\"#2a3f5f\"},\"hovermode\":\"closest\",\"hoverlabel\":{\"align\":\"left\"},\"paper_bgcolor\":\"white\",\"plot_bgcolor\":\"#E5ECF6\",\"polar\":{\"bgcolor\":\"#E5ECF6\",\"angularaxis\":{\"gridcolor\":\"white\",\"linecolor\":\"white\",\"ticks\":\"\"},\"radialaxis\":{\"gridcolor\":\"white\",\"linecolor\":\"white\",\"ticks\":\"\"}},\"ternary\":{\"bgcolor\":\"#E5ECF6\",\"aaxis\":{\"gridcolor\":\"white\",\"linecolor\":\"white\",\"ticks\":\"\"},\"baxis\":{\"gridcolor\":\"white\",\"linecolor\":\"white\",\"ticks\":\"\"},\"caxis\":{\"gridcolor\":\"white\",\"linecolor\":\"white\",\"ticks\":\"\"}},\"coloraxis\":{\"colorbar\":{\"outlinewidth\":0,\"ticks\":\"\"}},\"colorscale\":{\"sequential\":[[0.0,\"#0d0887\"],[0.1111111111111111,\"#46039f\"],[0.2222222222222222,\"#7201a8\"],[0.3333333333333333,\"#9c179e\"],[0.4444444444444444,\"#bd3786\"],[0.5555555555555556,\"#d8576b\"],[0.6666666666666666,\"#ed7953\"],[0.7777777777777778,\"#fb9f3a\"],[0.8888888888888888,\"#fdca26\"],[1.0,\"#f0f921\"]],\"sequentialminus\":[[0.0,\"#0d0887\"],[0.1111111111111111,\"#46039f\"],[0.2222222222222222,\"#7201a8\"],[0.3333333333333333,\"#9c179e\"],[0.4444444444444444,\"#bd3786\"],[0.5555555555555556,\"#d8576b\"],[0.6666666666666666,\"#ed7953\"],[0.7777777777777778,\"#fb9f3a\"],[0.8888888888888888,\"#fdca26\"],[1.0,\"#f0f921\"]],\"diverging\":[[0,\"#8e0152\"],[0.1,\"#c51b7d\"],[0.2,\"#de77ae\"],[0.3,\"#f1b6da\"],[0.4,\"#fde0ef\"],[0.5,\"#f7f7f7\"],[0.6,\"#e6f5d0\"],[0.7,\"#b8e186\"],[0.8,\"#7fbc41\"],[0.9,\"#4d9221\"],[1,\"#276419\"]]},\"xaxis\":{\"gridcolor\":\"white\",\"linecolor\":\"white\",\"ticks\":\"\",\"title\":{\"standoff\":15},\"zerolinecolor\":\"white\",\"automargin\":true,\"zerolinewidth\":2},\"yaxis\":{\"gridcolor\":\"white\",\"linecolor\":\"white\",\"ticks\":\"\",\"title\":{\"standoff\":15},\"zerolinecolor\":\"white\",\"automargin\":true,\"zerolinewidth\":2},\"scene\":{\"xaxis\":{\"backgroundcolor\":\"#E5ECF6\",\"gridcolor\":\"white\",\"linecolor\":\"white\",\"showbackground\":true,\"ticks\":\"\",\"zerolinecolor\":\"white\",\"gridwidth\":2},\"yaxis\":{\"backgroundcolor\":\"#E5ECF6\",\"gridcolor\":\"white\",\"linecolor\":\"white\",\"showbackground\":true,\"ticks\":\"\",\"zerolinecolor\":\"white\",\"gridwidth\":2},\"zaxis\":{\"backgroundcolor\":\"#E5ECF6\",\"gridcolor\":\"white\",\"linecolor\":\"white\",\"showbackground\":true,\"ticks\":\"\",\"zerolinecolor\":\"white\",\"gridwidth\":2}},\"shapedefaults\":{\"line\":{\"color\":\"#2a3f5f\"}},\"annotationdefaults\":{\"arrowcolor\":\"#2a3f5f\",\"arrowhead\":0,\"arrowwidth\":1},\"geo\":{\"bgcolor\":\"white\",\"landcolor\":\"#E5ECF6\",\"subunitcolor\":\"white\",\"showland\":true,\"showlakes\":true,\"lakecolor\":\"white\"},\"title\":{\"x\":0.05},\"mapbox\":{\"style\":\"light\"}}},\"xaxis\":{\"title\":{\"text\":\"Date\"}},\"yaxis\":{\"title\":{\"text\":\"Total Sold\"}},\"showlegend\":false},                        {\"responsive\": true}                    ).then(function(){\n",
       "                            \n",
       "var gd = document.getElementById('7ca520e8-d811-4011-a529-4be4db643a70');\n",
       "var x = new MutationObserver(function (mutations, observer) {{\n",
       "        var display = window.getComputedStyle(gd).display;\n",
       "        if (!display || display === 'none') {{\n",
       "            console.log([gd, 'removed!']);\n",
       "            Plotly.purge(gd);\n",
       "            observer.disconnect();\n",
       "        }}\n",
       "}});\n",
       "\n",
       "// Listen for the removal of the full notebook cells\n",
       "var notebookContainer = gd.closest('#notebook-container');\n",
       "if (notebookContainer) {{\n",
       "    x.observe(notebookContainer, {childList: true});\n",
       "}}\n",
       "\n",
       "// Listen for the clearing of the current output cell\n",
       "var outputEl = gd.closest('.output');\n",
       "if (outputEl) {{\n",
       "    x.observe(outputEl, {childList: true});\n",
       "}}\n",
       "\n",
       "                        })                };                });            </script>        </div>"
      ]
     },
     "metadata": {},
     "output_type": "display_data"
    },
    {
     "name": "stdout",
     "output_type": "stream",
     "text": [
      "Total Sales by date for  electronics.video.tv\n"
     ]
    },
    {
     "data": {
      "text/html": [
       "<div>                            <div id=\"b93d35bc-bdd9-49d1-ad70-0dca30396ea1\" class=\"plotly-graph-div\" style=\"height:525px; width:100%;\"></div>            <script type=\"text/javascript\">                require([\"plotly\"], function(Plotly) {                    window.PLOTLYENV=window.PLOTLYENV || {};                                    if (document.getElementById(\"b93d35bc-bdd9-49d1-ad70-0dca30396ea1\")) {                    Plotly.newPlot(                        \"b93d35bc-bdd9-49d1-ad70-0dca30396ea1\",                        [{\"marker\":{\"color\":\"red\"},\"text\":\"sales\",\"x\":[\"2020-01-05\",\"2020-01-06\",\"2020-01-07\",\"2020-01-08\",\"2020-01-09\",\"2020-01-10\",\"2020-01-11\",\"2020-01-12\",\"2020-01-13\",\"2020-01-14\",\"2020-01-15\",\"2020-01-16\",\"2020-01-17\",\"2020-01-18\",\"2020-01-19\",\"2020-01-20\",\"2020-01-21\",\"2020-01-22\",\"2020-01-23\",\"2020-01-24\",\"2020-01-25\",\"2020-01-26\",\"2020-01-27\",\"2020-01-28\",\"2020-01-29\",\"2020-01-30\",\"2020-01-31\",\"2020-02-01\",\"2020-02-02\",\"2020-02-03\",\"2020-02-04\",\"2020-02-05\",\"2020-02-06\",\"2020-02-07\",\"2020-02-08\",\"2020-02-09\",\"2020-02-10\",\"2020-02-11\",\"2020-02-12\",\"2020-02-13\",\"2020-02-14\",\"2020-02-15\",\"2020-02-16\",\"2020-02-17\",\"2020-02-18\",\"2020-02-19\",\"2020-02-20\",\"2020-02-21\",\"2020-02-22\",\"2020-02-23\",\"2020-02-24\",\"2020-02-25\",\"2020-02-26\",\"2020-02-27\",\"2020-02-28\",\"2020-02-29\",\"2020-03-01\",\"2020-03-02\",\"2020-03-03\",\"2020-03-04\",\"2020-03-05\",\"2020-03-06\",\"2020-03-07\",\"2020-03-08\",\"2020-03-09\",\"2020-03-10\",\"2020-03-11\",\"2020-03-12\",\"2020-03-13\",\"2020-03-14\",\"2020-03-15\",\"2020-03-16\",\"2020-03-17\",\"2020-03-18\",\"2020-03-19\",\"2020-03-20\",\"2020-03-21\",\"2020-03-22\",\"2020-03-23\",\"2020-03-24\",\"2020-03-25\",\"2020-03-26\",\"2020-03-27\",\"2020-03-28\",\"2020-03-29\",\"2020-03-30\",\"2020-03-31\",\"2020-04-01\",\"2020-04-02\",\"2020-04-03\",\"2020-04-04\",\"2020-04-05\",\"2020-04-06\",\"2020-04-07\",\"2020-04-08\",\"2020-04-09\",\"2020-04-10\",\"2020-04-11\",\"2020-04-12\",\"2020-04-13\",\"2020-04-14\",\"2020-04-15\",\"2020-04-16\",\"2020-04-17\",\"2020-04-18\",\"2020-04-19\",\"2020-04-20\",\"2020-04-21\",\"2020-04-22\",\"2020-04-23\",\"2020-04-24\",\"2020-04-25\",\"2020-04-26\",\"2020-04-27\",\"2020-04-28\",\"2020-04-29\",\"2020-04-30\",\"2020-05-01\",\"2020-05-02\",\"2020-05-03\",\"2020-05-04\",\"2020-05-05\",\"2020-05-06\",\"2020-05-07\",\"2020-05-08\",\"2020-05-09\",\"2020-05-10\",\"2020-05-11\",\"2020-05-12\",\"2020-05-13\",\"2020-05-14\",\"2020-05-15\",\"2020-05-16\",\"2020-05-17\",\"2020-05-18\",\"2020-05-19\",\"2020-05-20\",\"2020-05-21\",\"2020-05-22\",\"2020-05-23\",\"2020-05-24\",\"2020-05-25\",\"2020-05-26\",\"2020-05-27\",\"2020-05-28\",\"2020-05-29\",\"2020-05-30\",\"2020-05-31\",\"2020-06-01\",\"2020-06-02\",\"2020-06-03\",\"2020-06-04\",\"2020-06-05\",\"2020-06-06\",\"2020-06-07\",\"2020-06-08\",\"2020-06-09\",\"2020-06-10\",\"2020-06-11\",\"2020-06-12\",\"2020-06-13\",\"2020-06-14\",\"2020-06-15\",\"2020-06-16\",\"2020-06-17\",\"2020-06-18\",\"2020-06-19\",\"2020-06-20\",\"2020-06-21\",\"2020-06-22\",\"2020-06-23\",\"2020-06-24\",\"2020-06-25\",\"2020-06-26\",\"2020-06-27\",\"2020-06-28\",\"2020-06-29\",\"2020-06-30\",\"2020-07-01\",\"2020-07-02\",\"2020-07-03\",\"2020-07-04\",\"2020-07-05\",\"2020-07-06\",\"2020-07-07\",\"2020-07-08\",\"2020-07-09\",\"2020-07-10\",\"2020-07-11\",\"2020-07-12\",\"2020-07-13\",\"2020-07-14\",\"2020-07-15\",\"2020-07-16\",\"2020-07-17\",\"2020-07-18\",\"2020-07-19\",\"2020-07-20\",\"2020-07-21\",\"2020-07-22\",\"2020-07-23\",\"2020-07-24\",\"2020-07-25\",\"2020-07-26\",\"2020-07-27\",\"2020-07-28\",\"2020-07-29\",\"2020-07-30\",\"2020-07-31\",\"2020-08-01\",\"2020-08-02\",\"2020-08-03\",\"2020-08-04\",\"2020-08-05\",\"2020-08-06\",\"2020-08-07\",\"2020-08-08\",\"2020-08-09\",\"2020-08-10\",\"2020-08-11\",\"2020-08-12\",\"2020-08-13\",\"2020-08-14\",\"2020-08-15\",\"2020-08-16\",\"2020-08-17\",\"2020-08-18\",\"2020-08-19\",\"2020-08-20\",\"2020-08-21\",\"2020-08-22\",\"2020-08-23\",\"2020-08-24\",\"2020-08-25\",\"2020-08-26\",\"2020-08-27\",\"2020-08-28\",\"2020-08-29\",\"2020-08-30\",\"2020-08-31\",\"2020-09-01\",\"2020-09-02\",\"2020-09-03\",\"2020-09-04\",\"2020-09-05\",\"2020-09-06\",\"2020-09-07\",\"2020-09-08\",\"2020-09-09\",\"2020-09-10\",\"2020-09-11\",\"2020-09-12\",\"2020-09-13\",\"2020-09-14\",\"2020-09-15\",\"2020-09-16\",\"2020-09-17\",\"2020-09-18\",\"2020-09-19\",\"2020-09-20\",\"2020-09-21\",\"2020-09-22\",\"2020-09-23\",\"2020-09-24\",\"2020-09-25\",\"2020-09-26\",\"2020-09-27\",\"2020-09-28\",\"2020-09-29\",\"2020-09-30\",\"2020-10-01\",\"2020-10-02\",\"2020-10-03\",\"2020-10-04\",\"2020-10-05\",\"2020-10-06\",\"2020-10-07\",\"2020-10-08\",\"2020-10-09\",\"2020-10-10\",\"2020-10-11\",\"2020-10-12\",\"2020-10-13\",\"2020-10-14\",\"2020-10-15\",\"2020-10-16\",\"2020-10-17\",\"2020-10-18\",\"2020-10-19\",\"2020-10-20\",\"2020-10-21\",\"2020-10-22\",\"2020-10-23\",\"2020-10-24\",\"2020-10-25\",\"2020-10-26\",\"2020-10-27\",\"2020-10-28\",\"2020-10-29\",\"2020-10-30\",\"2020-10-31\",\"2020-11-01\",\"2020-11-02\",\"2020-11-03\",\"2020-11-04\",\"2020-11-05\",\"2020-11-06\",\"2020-11-07\",\"2020-11-08\",\"2020-11-09\",\"2020-11-10\",\"2020-11-11\",\"2020-11-12\",\"2020-11-13\",\"2020-11-14\",\"2020-11-15\",\"2020-11-16\",\"2020-11-17\",\"2020-11-18\",\"2020-11-19\",\"2020-11-20\",\"2020-11-21\"],\"y\":[394,337,470,288,239,389,512,451,259,233,250,224,277,407,355,208,222,216,177,368,479,468,180,182,151,206,251,467,476,187,213,199,229,390,551,485,206,206,184,240,590,460,522,180,176,156,189,247,374,420,163,178,139,148,357,432,440,145,142,148,241,359,597,579,447,175,217,240,311,520,561,260,279,323,371,397,530,441,327,362,376,279,317,350,344,151,150,96,91,58,96,61,74,41,32,42,49,77,72,53,53,54,52,28,38,35,35,41,22,36,67,64,61,40,40,49,61,54,68,69,68,100,78,122,84,107,94,108,127,115,147,161,255,243,149,147,130,250,274,399,380,200,231,222,227,228,370,371,227,244,291,319,390,526,614,289,335,326,254,342,442,484,260,266,295,328,399,227,223,284,291,316,290,316,75,57,368,470,232,334,448,463,42,53,71,61,80,72,59,39,59,93,70,96,101,74,87,57,104,102,153,168,145,136,192,154,141,117,127,186,183,212,225,250,218,121,185,195,172,150,125,148,115,93,85,566,547,453,372,427,58,89,557,449,427,406,488,92,97,182,377,353,374,372,73,72,377,291,336,295,410,101,81,382,371,371,340,400,145,150,469,327,361,312,342,177,134,474,422,499,76,92,165,129,144,92,89,107,120,253,211,50,90,94,84,108,226,207,86,87,56,256,42,64,157,74,67,218,16,69,29,90,51,238,18,37,72,232,93,55,34,40,58,63,252,178,66,40,250,257,31,11],\"type\":\"scatter\"}],                        {\"template\":{\"data\":{\"histogram2dcontour\":[{\"type\":\"histogram2dcontour\",\"colorbar\":{\"outlinewidth\":0,\"ticks\":\"\"},\"colorscale\":[[0.0,\"#0d0887\"],[0.1111111111111111,\"#46039f\"],[0.2222222222222222,\"#7201a8\"],[0.3333333333333333,\"#9c179e\"],[0.4444444444444444,\"#bd3786\"],[0.5555555555555556,\"#d8576b\"],[0.6666666666666666,\"#ed7953\"],[0.7777777777777778,\"#fb9f3a\"],[0.8888888888888888,\"#fdca26\"],[1.0,\"#f0f921\"]]}],\"choropleth\":[{\"type\":\"choropleth\",\"colorbar\":{\"outlinewidth\":0,\"ticks\":\"\"}}],\"histogram2d\":[{\"type\":\"histogram2d\",\"colorbar\":{\"outlinewidth\":0,\"ticks\":\"\"},\"colorscale\":[[0.0,\"#0d0887\"],[0.1111111111111111,\"#46039f\"],[0.2222222222222222,\"#7201a8\"],[0.3333333333333333,\"#9c179e\"],[0.4444444444444444,\"#bd3786\"],[0.5555555555555556,\"#d8576b\"],[0.6666666666666666,\"#ed7953\"],[0.7777777777777778,\"#fb9f3a\"],[0.8888888888888888,\"#fdca26\"],[1.0,\"#f0f921\"]]}],\"heatmap\":[{\"type\":\"heatmap\",\"colorbar\":{\"outlinewidth\":0,\"ticks\":\"\"},\"colorscale\":[[0.0,\"#0d0887\"],[0.1111111111111111,\"#46039f\"],[0.2222222222222222,\"#7201a8\"],[0.3333333333333333,\"#9c179e\"],[0.4444444444444444,\"#bd3786\"],[0.5555555555555556,\"#d8576b\"],[0.6666666666666666,\"#ed7953\"],[0.7777777777777778,\"#fb9f3a\"],[0.8888888888888888,\"#fdca26\"],[1.0,\"#f0f921\"]]}],\"heatmapgl\":[{\"type\":\"heatmapgl\",\"colorbar\":{\"outlinewidth\":0,\"ticks\":\"\"},\"colorscale\":[[0.0,\"#0d0887\"],[0.1111111111111111,\"#46039f\"],[0.2222222222222222,\"#7201a8\"],[0.3333333333333333,\"#9c179e\"],[0.4444444444444444,\"#bd3786\"],[0.5555555555555556,\"#d8576b\"],[0.6666666666666666,\"#ed7953\"],[0.7777777777777778,\"#fb9f3a\"],[0.8888888888888888,\"#fdca26\"],[1.0,\"#f0f921\"]]}],\"contourcarpet\":[{\"type\":\"contourcarpet\",\"colorbar\":{\"outlinewidth\":0,\"ticks\":\"\"}}],\"contour\":[{\"type\":\"contour\",\"colorbar\":{\"outlinewidth\":0,\"ticks\":\"\"},\"colorscale\":[[0.0,\"#0d0887\"],[0.1111111111111111,\"#46039f\"],[0.2222222222222222,\"#7201a8\"],[0.3333333333333333,\"#9c179e\"],[0.4444444444444444,\"#bd3786\"],[0.5555555555555556,\"#d8576b\"],[0.6666666666666666,\"#ed7953\"],[0.7777777777777778,\"#fb9f3a\"],[0.8888888888888888,\"#fdca26\"],[1.0,\"#f0f921\"]]}],\"surface\":[{\"type\":\"surface\",\"colorbar\":{\"outlinewidth\":0,\"ticks\":\"\"},\"colorscale\":[[0.0,\"#0d0887\"],[0.1111111111111111,\"#46039f\"],[0.2222222222222222,\"#7201a8\"],[0.3333333333333333,\"#9c179e\"],[0.4444444444444444,\"#bd3786\"],[0.5555555555555556,\"#d8576b\"],[0.6666666666666666,\"#ed7953\"],[0.7777777777777778,\"#fb9f3a\"],[0.8888888888888888,\"#fdca26\"],[1.0,\"#f0f921\"]]}],\"mesh3d\":[{\"type\":\"mesh3d\",\"colorbar\":{\"outlinewidth\":0,\"ticks\":\"\"}}],\"scatter\":[{\"fillpattern\":{\"fillmode\":\"overlay\",\"size\":10,\"solidity\":0.2},\"type\":\"scatter\"}],\"parcoords\":[{\"type\":\"parcoords\",\"line\":{\"colorbar\":{\"outlinewidth\":0,\"ticks\":\"\"}}}],\"scatterpolargl\":[{\"type\":\"scatterpolargl\",\"marker\":{\"colorbar\":{\"outlinewidth\":0,\"ticks\":\"\"}}}],\"bar\":[{\"error_x\":{\"color\":\"#2a3f5f\"},\"error_y\":{\"color\":\"#2a3f5f\"},\"marker\":{\"line\":{\"color\":\"#E5ECF6\",\"width\":0.5},\"pattern\":{\"fillmode\":\"overlay\",\"size\":10,\"solidity\":0.2}},\"type\":\"bar\"}],\"scattergeo\":[{\"type\":\"scattergeo\",\"marker\":{\"colorbar\":{\"outlinewidth\":0,\"ticks\":\"\"}}}],\"scatterpolar\":[{\"type\":\"scatterpolar\",\"marker\":{\"colorbar\":{\"outlinewidth\":0,\"ticks\":\"\"}}}],\"histogram\":[{\"marker\":{\"pattern\":{\"fillmode\":\"overlay\",\"size\":10,\"solidity\":0.2}},\"type\":\"histogram\"}],\"scattergl\":[{\"type\":\"scattergl\",\"marker\":{\"colorbar\":{\"outlinewidth\":0,\"ticks\":\"\"}}}],\"scatter3d\":[{\"type\":\"scatter3d\",\"line\":{\"colorbar\":{\"outlinewidth\":0,\"ticks\":\"\"}},\"marker\":{\"colorbar\":{\"outlinewidth\":0,\"ticks\":\"\"}}}],\"scattermapbox\":[{\"type\":\"scattermapbox\",\"marker\":{\"colorbar\":{\"outlinewidth\":0,\"ticks\":\"\"}}}],\"scatterternary\":[{\"type\":\"scatterternary\",\"marker\":{\"colorbar\":{\"outlinewidth\":0,\"ticks\":\"\"}}}],\"scattercarpet\":[{\"type\":\"scattercarpet\",\"marker\":{\"colorbar\":{\"outlinewidth\":0,\"ticks\":\"\"}}}],\"carpet\":[{\"aaxis\":{\"endlinecolor\":\"#2a3f5f\",\"gridcolor\":\"white\",\"linecolor\":\"white\",\"minorgridcolor\":\"white\",\"startlinecolor\":\"#2a3f5f\"},\"baxis\":{\"endlinecolor\":\"#2a3f5f\",\"gridcolor\":\"white\",\"linecolor\":\"white\",\"minorgridcolor\":\"white\",\"startlinecolor\":\"#2a3f5f\"},\"type\":\"carpet\"}],\"table\":[{\"cells\":{\"fill\":{\"color\":\"#EBF0F8\"},\"line\":{\"color\":\"white\"}},\"header\":{\"fill\":{\"color\":\"#C8D4E3\"},\"line\":{\"color\":\"white\"}},\"type\":\"table\"}],\"barpolar\":[{\"marker\":{\"line\":{\"color\":\"#E5ECF6\",\"width\":0.5},\"pattern\":{\"fillmode\":\"overlay\",\"size\":10,\"solidity\":0.2}},\"type\":\"barpolar\"}],\"pie\":[{\"automargin\":true,\"type\":\"pie\"}]},\"layout\":{\"autotypenumbers\":\"strict\",\"colorway\":[\"#636efa\",\"#EF553B\",\"#00cc96\",\"#ab63fa\",\"#FFA15A\",\"#19d3f3\",\"#FF6692\",\"#B6E880\",\"#FF97FF\",\"#FECB52\"],\"font\":{\"color\":\"#2a3f5f\"},\"hovermode\":\"closest\",\"hoverlabel\":{\"align\":\"left\"},\"paper_bgcolor\":\"white\",\"plot_bgcolor\":\"#E5ECF6\",\"polar\":{\"bgcolor\":\"#E5ECF6\",\"angularaxis\":{\"gridcolor\":\"white\",\"linecolor\":\"white\",\"ticks\":\"\"},\"radialaxis\":{\"gridcolor\":\"white\",\"linecolor\":\"white\",\"ticks\":\"\"}},\"ternary\":{\"bgcolor\":\"#E5ECF6\",\"aaxis\":{\"gridcolor\":\"white\",\"linecolor\":\"white\",\"ticks\":\"\"},\"baxis\":{\"gridcolor\":\"white\",\"linecolor\":\"white\",\"ticks\":\"\"},\"caxis\":{\"gridcolor\":\"white\",\"linecolor\":\"white\",\"ticks\":\"\"}},\"coloraxis\":{\"colorbar\":{\"outlinewidth\":0,\"ticks\":\"\"}},\"colorscale\":{\"sequential\":[[0.0,\"#0d0887\"],[0.1111111111111111,\"#46039f\"],[0.2222222222222222,\"#7201a8\"],[0.3333333333333333,\"#9c179e\"],[0.4444444444444444,\"#bd3786\"],[0.5555555555555556,\"#d8576b\"],[0.6666666666666666,\"#ed7953\"],[0.7777777777777778,\"#fb9f3a\"],[0.8888888888888888,\"#fdca26\"],[1.0,\"#f0f921\"]],\"sequentialminus\":[[0.0,\"#0d0887\"],[0.1111111111111111,\"#46039f\"],[0.2222222222222222,\"#7201a8\"],[0.3333333333333333,\"#9c179e\"],[0.4444444444444444,\"#bd3786\"],[0.5555555555555556,\"#d8576b\"],[0.6666666666666666,\"#ed7953\"],[0.7777777777777778,\"#fb9f3a\"],[0.8888888888888888,\"#fdca26\"],[1.0,\"#f0f921\"]],\"diverging\":[[0,\"#8e0152\"],[0.1,\"#c51b7d\"],[0.2,\"#de77ae\"],[0.3,\"#f1b6da\"],[0.4,\"#fde0ef\"],[0.5,\"#f7f7f7\"],[0.6,\"#e6f5d0\"],[0.7,\"#b8e186\"],[0.8,\"#7fbc41\"],[0.9,\"#4d9221\"],[1,\"#276419\"]]},\"xaxis\":{\"gridcolor\":\"white\",\"linecolor\":\"white\",\"ticks\":\"\",\"title\":{\"standoff\":15},\"zerolinecolor\":\"white\",\"automargin\":true,\"zerolinewidth\":2},\"yaxis\":{\"gridcolor\":\"white\",\"linecolor\":\"white\",\"ticks\":\"\",\"title\":{\"standoff\":15},\"zerolinecolor\":\"white\",\"automargin\":true,\"zerolinewidth\":2},\"scene\":{\"xaxis\":{\"backgroundcolor\":\"#E5ECF6\",\"gridcolor\":\"white\",\"linecolor\":\"white\",\"showbackground\":true,\"ticks\":\"\",\"zerolinecolor\":\"white\",\"gridwidth\":2},\"yaxis\":{\"backgroundcolor\":\"#E5ECF6\",\"gridcolor\":\"white\",\"linecolor\":\"white\",\"showbackground\":true,\"ticks\":\"\",\"zerolinecolor\":\"white\",\"gridwidth\":2},\"zaxis\":{\"backgroundcolor\":\"#E5ECF6\",\"gridcolor\":\"white\",\"linecolor\":\"white\",\"showbackground\":true,\"ticks\":\"\",\"zerolinecolor\":\"white\",\"gridwidth\":2}},\"shapedefaults\":{\"line\":{\"color\":\"#2a3f5f\"}},\"annotationdefaults\":{\"arrowcolor\":\"#2a3f5f\",\"arrowhead\":0,\"arrowwidth\":1},\"geo\":{\"bgcolor\":\"white\",\"landcolor\":\"#E5ECF6\",\"subunitcolor\":\"white\",\"showland\":true,\"showlakes\":true,\"lakecolor\":\"white\"},\"title\":{\"x\":0.05},\"mapbox\":{\"style\":\"light\"}}},\"xaxis\":{\"title\":{\"text\":\"Date\"}},\"yaxis\":{\"title\":{\"text\":\"Total Sold\"}},\"showlegend\":false},                        {\"responsive\": true}                    ).then(function(){\n",
       "                            \n",
       "var gd = document.getElementById('b93d35bc-bdd9-49d1-ad70-0dca30396ea1');\n",
       "var x = new MutationObserver(function (mutations, observer) {{\n",
       "        var display = window.getComputedStyle(gd).display;\n",
       "        if (!display || display === 'none') {{\n",
       "            console.log([gd, 'removed!']);\n",
       "            Plotly.purge(gd);\n",
       "            observer.disconnect();\n",
       "        }}\n",
       "}});\n",
       "\n",
       "// Listen for the removal of the full notebook cells\n",
       "var notebookContainer = gd.closest('#notebook-container');\n",
       "if (notebookContainer) {{\n",
       "    x.observe(notebookContainer, {childList: true});\n",
       "}}\n",
       "\n",
       "// Listen for the clearing of the current output cell\n",
       "var outputEl = gd.closest('.output');\n",
       "if (outputEl) {{\n",
       "    x.observe(outputEl, {childList: true});\n",
       "}}\n",
       "\n",
       "                        })                };                });            </script>        </div>"
      ]
     },
     "metadata": {},
     "output_type": "display_data"
    },
    {
     "name": "stdout",
     "output_type": "stream",
     "text": [
      "Total Sales by date for  computers.notebook\n"
     ]
    },
    {
     "data": {
      "text/html": [
       "<div>                            <div id=\"66d6fb55-9dfb-48b9-8411-9e54884959eb\" class=\"plotly-graph-div\" style=\"height:525px; width:100%;\"></div>            <script type=\"text/javascript\">                require([\"plotly\"], function(Plotly) {                    window.PLOTLYENV=window.PLOTLYENV || {};                                    if (document.getElementById(\"66d6fb55-9dfb-48b9-8411-9e54884959eb\")) {                    Plotly.newPlot(                        \"66d6fb55-9dfb-48b9-8411-9e54884959eb\",                        [{\"marker\":{\"color\":\"red\"},\"text\":\"sales\",\"x\":[\"2020-01-05\",\"2020-01-06\",\"2020-01-07\",\"2020-01-08\",\"2020-01-09\",\"2020-01-10\",\"2020-01-11\",\"2020-01-12\",\"2020-01-13\",\"2020-01-14\",\"2020-01-15\",\"2020-01-16\",\"2020-01-17\",\"2020-01-18\",\"2020-01-19\",\"2020-01-20\",\"2020-01-21\",\"2020-01-22\",\"2020-01-23\",\"2020-01-24\",\"2020-01-25\",\"2020-01-26\",\"2020-01-27\",\"2020-01-28\",\"2020-01-29\",\"2020-01-30\",\"2020-01-31\",\"2020-02-01\",\"2020-02-02\",\"2020-02-03\",\"2020-02-04\",\"2020-02-05\",\"2020-02-06\",\"2020-02-07\",\"2020-02-08\",\"2020-02-09\",\"2020-02-10\",\"2020-02-11\",\"2020-02-12\",\"2020-02-13\",\"2020-02-14\",\"2020-02-15\",\"2020-02-16\",\"2020-02-17\",\"2020-02-18\",\"2020-02-19\",\"2020-02-20\",\"2020-02-21\",\"2020-02-22\",\"2020-02-23\",\"2020-02-24\",\"2020-02-25\",\"2020-02-26\",\"2020-02-27\",\"2020-02-28\",\"2020-02-29\",\"2020-03-01\",\"2020-03-02\",\"2020-03-03\",\"2020-03-04\",\"2020-03-05\",\"2020-03-06\",\"2020-03-07\",\"2020-03-08\",\"2020-03-09\",\"2020-03-10\",\"2020-03-11\",\"2020-03-12\",\"2020-03-13\",\"2020-03-14\",\"2020-03-15\",\"2020-03-16\",\"2020-03-17\",\"2020-03-18\",\"2020-03-19\",\"2020-03-20\",\"2020-03-21\",\"2020-03-22\",\"2020-03-23\",\"2020-03-24\",\"2020-03-25\",\"2020-03-26\",\"2020-03-27\",\"2020-03-28\",\"2020-03-29\",\"2020-03-30\",\"2020-03-31\",\"2020-04-01\",\"2020-04-02\",\"2020-04-03\",\"2020-04-04\",\"2020-04-05\",\"2020-04-06\",\"2020-04-07\",\"2020-04-08\",\"2020-04-09\",\"2020-04-10\",\"2020-04-11\",\"2020-04-12\",\"2020-04-13\",\"2020-04-14\",\"2020-04-15\",\"2020-04-16\",\"2020-04-17\",\"2020-04-18\",\"2020-04-19\",\"2020-04-20\",\"2020-04-21\",\"2020-04-22\",\"2020-04-23\",\"2020-04-24\",\"2020-04-25\",\"2020-04-26\",\"2020-04-27\",\"2020-04-28\",\"2020-04-29\",\"2020-04-30\",\"2020-05-01\",\"2020-05-02\",\"2020-05-03\",\"2020-05-04\",\"2020-05-05\",\"2020-05-06\",\"2020-05-07\",\"2020-05-08\",\"2020-05-09\",\"2020-05-10\",\"2020-05-11\",\"2020-05-12\",\"2020-05-13\",\"2020-05-14\",\"2020-05-15\",\"2020-05-16\",\"2020-05-17\",\"2020-05-18\",\"2020-05-19\",\"2020-05-20\",\"2020-05-21\",\"2020-05-22\",\"2020-05-23\",\"2020-05-24\",\"2020-05-25\",\"2020-05-26\",\"2020-05-27\",\"2020-05-28\",\"2020-05-29\",\"2020-05-30\",\"2020-05-31\",\"2020-06-01\",\"2020-06-02\",\"2020-06-03\",\"2020-06-04\",\"2020-06-05\",\"2020-06-06\",\"2020-06-07\",\"2020-06-08\",\"2020-06-09\",\"2020-06-10\",\"2020-06-11\",\"2020-06-12\",\"2020-06-13\",\"2020-06-14\",\"2020-06-15\",\"2020-06-16\",\"2020-06-17\",\"2020-06-18\",\"2020-06-19\",\"2020-06-20\",\"2020-06-21\",\"2020-06-22\",\"2020-06-23\",\"2020-06-24\",\"2020-06-25\",\"2020-06-26\",\"2020-06-27\",\"2020-06-28\",\"2020-06-29\",\"2020-06-30\",\"2020-07-01\",\"2020-07-02\",\"2020-07-03\",\"2020-07-04\",\"2020-07-05\",\"2020-07-06\",\"2020-07-07\",\"2020-07-08\",\"2020-07-09\",\"2020-07-10\",\"2020-07-11\",\"2020-07-12\",\"2020-07-13\",\"2020-07-14\",\"2020-07-15\",\"2020-07-16\",\"2020-07-17\",\"2020-07-18\",\"2020-07-19\",\"2020-07-20\",\"2020-07-21\",\"2020-07-22\",\"2020-07-23\",\"2020-07-24\",\"2020-07-25\",\"2020-07-26\",\"2020-07-27\",\"2020-07-28\",\"2020-07-29\",\"2020-07-30\",\"2020-07-31\",\"2020-08-01\",\"2020-08-02\",\"2020-08-03\",\"2020-08-04\",\"2020-08-05\",\"2020-08-06\",\"2020-08-07\",\"2020-08-08\",\"2020-08-09\",\"2020-08-10\",\"2020-08-11\",\"2020-08-12\",\"2020-08-13\",\"2020-08-14\",\"2020-08-15\",\"2020-08-16\",\"2020-08-17\",\"2020-08-18\",\"2020-08-19\",\"2020-08-20\",\"2020-08-21\",\"2020-08-22\",\"2020-08-23\",\"2020-08-24\",\"2020-08-25\",\"2020-08-26\",\"2020-08-27\",\"2020-08-28\",\"2020-08-29\",\"2020-08-30\",\"2020-08-31\",\"2020-09-01\",\"2020-09-02\",\"2020-09-03\",\"2020-09-04\",\"2020-09-05\",\"2020-09-06\",\"2020-09-07\",\"2020-09-08\",\"2020-09-09\",\"2020-09-10\",\"2020-09-11\",\"2020-09-12\",\"2020-09-13\",\"2020-09-14\",\"2020-09-15\",\"2020-09-16\",\"2020-09-17\",\"2020-09-18\",\"2020-09-19\",\"2020-09-20\",\"2020-09-21\",\"2020-09-22\",\"2020-09-23\",\"2020-09-24\",\"2020-09-25\",\"2020-09-26\",\"2020-09-27\",\"2020-09-28\",\"2020-09-29\",\"2020-09-30\",\"2020-10-01\",\"2020-10-02\",\"2020-10-03\",\"2020-10-04\",\"2020-10-05\",\"2020-10-06\",\"2020-10-07\",\"2020-10-08\",\"2020-10-09\",\"2020-10-10\",\"2020-10-11\",\"2020-10-12\",\"2020-10-13\",\"2020-10-14\",\"2020-10-15\",\"2020-10-16\",\"2020-10-17\",\"2020-10-18\",\"2020-10-19\",\"2020-10-20\",\"2020-10-21\",\"2020-10-22\",\"2020-10-23\",\"2020-10-24\",\"2020-10-25\",\"2020-10-26\",\"2020-10-27\",\"2020-10-28\",\"2020-10-29\",\"2020-10-30\",\"2020-10-31\",\"2020-11-01\",\"2020-11-02\",\"2020-11-03\",\"2020-11-04\",\"2020-11-05\",\"2020-11-06\",\"2020-11-07\",\"2020-11-08\",\"2020-11-09\",\"2020-11-10\",\"2020-11-11\",\"2020-11-12\",\"2020-11-13\",\"2020-11-14\",\"2020-11-15\",\"2020-11-16\",\"2020-11-17\",\"2020-11-18\",\"2020-11-19\",\"2020-11-20\",\"2020-11-21\"],\"y\":[219,207,271,187,175,211,311,280,157,166,174,145,147,206,220,140,146,139,129,193,238,271,122,139,132,134,134,308,262,164,175,151,181,182,304,278,174,163,136,137,280,248,281,115,130,124,144,138,234,225,129,96,108,93,187,266,266,139,111,130,114,202,305,242,268,155,135,127,156,321,362,268,319,413,291,290,349,274,215,280,390,313,406,598,504,264,296,227,189,157,180,100,84,99,76,76,90,119,88,85,100,97,86,55,74,53,62,33,43,68,73,85,77,45,48,59,59,63,54,46,63,70,65,81,91,82,86,100,114,116,123,103,177,179,101,148,131,189,180,241,228,209,234,261,185,247,331,273,226,244,238,245,272,366,432,267,277,243,274,296,383,364,276,278,322,309,361,196,162,337,298,254,255,318,57,36,364,444,252,378,477,444,58,65,85,88,96,96,72,73,94,115,110,117,165,138,111,98,163,130,210,245,203,192,291,273,301,185,168,204,233,308,348,394,377,326,340,349,411,418,296,359,324,246,233,1060,923,772,597,809,187,255,907,856,761,666,650,222,228,486,685,511,409,463,147,110,495,440,467,468,386,110,101,366,357,363,327,435,207,172,464,376,282,289,255,136,115,318,310,400,74,109,200,162,138,85,126,74,128,224,140,74,106,117,96,121,223,161,79,96,85,281,75,72,171,149,123,270,45,90,48,130,61,265,47,57,96,281,128,70,71,71,48,79,232,168,112,67,276,275,50,14],\"type\":\"scatter\"}],                        {\"template\":{\"data\":{\"histogram2dcontour\":[{\"type\":\"histogram2dcontour\",\"colorbar\":{\"outlinewidth\":0,\"ticks\":\"\"},\"colorscale\":[[0.0,\"#0d0887\"],[0.1111111111111111,\"#46039f\"],[0.2222222222222222,\"#7201a8\"],[0.3333333333333333,\"#9c179e\"],[0.4444444444444444,\"#bd3786\"],[0.5555555555555556,\"#d8576b\"],[0.6666666666666666,\"#ed7953\"],[0.7777777777777778,\"#fb9f3a\"],[0.8888888888888888,\"#fdca26\"],[1.0,\"#f0f921\"]]}],\"choropleth\":[{\"type\":\"choropleth\",\"colorbar\":{\"outlinewidth\":0,\"ticks\":\"\"}}],\"histogram2d\":[{\"type\":\"histogram2d\",\"colorbar\":{\"outlinewidth\":0,\"ticks\":\"\"},\"colorscale\":[[0.0,\"#0d0887\"],[0.1111111111111111,\"#46039f\"],[0.2222222222222222,\"#7201a8\"],[0.3333333333333333,\"#9c179e\"],[0.4444444444444444,\"#bd3786\"],[0.5555555555555556,\"#d8576b\"],[0.6666666666666666,\"#ed7953\"],[0.7777777777777778,\"#fb9f3a\"],[0.8888888888888888,\"#fdca26\"],[1.0,\"#f0f921\"]]}],\"heatmap\":[{\"type\":\"heatmap\",\"colorbar\":{\"outlinewidth\":0,\"ticks\":\"\"},\"colorscale\":[[0.0,\"#0d0887\"],[0.1111111111111111,\"#46039f\"],[0.2222222222222222,\"#7201a8\"],[0.3333333333333333,\"#9c179e\"],[0.4444444444444444,\"#bd3786\"],[0.5555555555555556,\"#d8576b\"],[0.6666666666666666,\"#ed7953\"],[0.7777777777777778,\"#fb9f3a\"],[0.8888888888888888,\"#fdca26\"],[1.0,\"#f0f921\"]]}],\"heatmapgl\":[{\"type\":\"heatmapgl\",\"colorbar\":{\"outlinewidth\":0,\"ticks\":\"\"},\"colorscale\":[[0.0,\"#0d0887\"],[0.1111111111111111,\"#46039f\"],[0.2222222222222222,\"#7201a8\"],[0.3333333333333333,\"#9c179e\"],[0.4444444444444444,\"#bd3786\"],[0.5555555555555556,\"#d8576b\"],[0.6666666666666666,\"#ed7953\"],[0.7777777777777778,\"#fb9f3a\"],[0.8888888888888888,\"#fdca26\"],[1.0,\"#f0f921\"]]}],\"contourcarpet\":[{\"type\":\"contourcarpet\",\"colorbar\":{\"outlinewidth\":0,\"ticks\":\"\"}}],\"contour\":[{\"type\":\"contour\",\"colorbar\":{\"outlinewidth\":0,\"ticks\":\"\"},\"colorscale\":[[0.0,\"#0d0887\"],[0.1111111111111111,\"#46039f\"],[0.2222222222222222,\"#7201a8\"],[0.3333333333333333,\"#9c179e\"],[0.4444444444444444,\"#bd3786\"],[0.5555555555555556,\"#d8576b\"],[0.6666666666666666,\"#ed7953\"],[0.7777777777777778,\"#fb9f3a\"],[0.8888888888888888,\"#fdca26\"],[1.0,\"#f0f921\"]]}],\"surface\":[{\"type\":\"surface\",\"colorbar\":{\"outlinewidth\":0,\"ticks\":\"\"},\"colorscale\":[[0.0,\"#0d0887\"],[0.1111111111111111,\"#46039f\"],[0.2222222222222222,\"#7201a8\"],[0.3333333333333333,\"#9c179e\"],[0.4444444444444444,\"#bd3786\"],[0.5555555555555556,\"#d8576b\"],[0.6666666666666666,\"#ed7953\"],[0.7777777777777778,\"#fb9f3a\"],[0.8888888888888888,\"#fdca26\"],[1.0,\"#f0f921\"]]}],\"mesh3d\":[{\"type\":\"mesh3d\",\"colorbar\":{\"outlinewidth\":0,\"ticks\":\"\"}}],\"scatter\":[{\"fillpattern\":{\"fillmode\":\"overlay\",\"size\":10,\"solidity\":0.2},\"type\":\"scatter\"}],\"parcoords\":[{\"type\":\"parcoords\",\"line\":{\"colorbar\":{\"outlinewidth\":0,\"ticks\":\"\"}}}],\"scatterpolargl\":[{\"type\":\"scatterpolargl\",\"marker\":{\"colorbar\":{\"outlinewidth\":0,\"ticks\":\"\"}}}],\"bar\":[{\"error_x\":{\"color\":\"#2a3f5f\"},\"error_y\":{\"color\":\"#2a3f5f\"},\"marker\":{\"line\":{\"color\":\"#E5ECF6\",\"width\":0.5},\"pattern\":{\"fillmode\":\"overlay\",\"size\":10,\"solidity\":0.2}},\"type\":\"bar\"}],\"scattergeo\":[{\"type\":\"scattergeo\",\"marker\":{\"colorbar\":{\"outlinewidth\":0,\"ticks\":\"\"}}}],\"scatterpolar\":[{\"type\":\"scatterpolar\",\"marker\":{\"colorbar\":{\"outlinewidth\":0,\"ticks\":\"\"}}}],\"histogram\":[{\"marker\":{\"pattern\":{\"fillmode\":\"overlay\",\"size\":10,\"solidity\":0.2}},\"type\":\"histogram\"}],\"scattergl\":[{\"type\":\"scattergl\",\"marker\":{\"colorbar\":{\"outlinewidth\":0,\"ticks\":\"\"}}}],\"scatter3d\":[{\"type\":\"scatter3d\",\"line\":{\"colorbar\":{\"outlinewidth\":0,\"ticks\":\"\"}},\"marker\":{\"colorbar\":{\"outlinewidth\":0,\"ticks\":\"\"}}}],\"scattermapbox\":[{\"type\":\"scattermapbox\",\"marker\":{\"colorbar\":{\"outlinewidth\":0,\"ticks\":\"\"}}}],\"scatterternary\":[{\"type\":\"scatterternary\",\"marker\":{\"colorbar\":{\"outlinewidth\":0,\"ticks\":\"\"}}}],\"scattercarpet\":[{\"type\":\"scattercarpet\",\"marker\":{\"colorbar\":{\"outlinewidth\":0,\"ticks\":\"\"}}}],\"carpet\":[{\"aaxis\":{\"endlinecolor\":\"#2a3f5f\",\"gridcolor\":\"white\",\"linecolor\":\"white\",\"minorgridcolor\":\"white\",\"startlinecolor\":\"#2a3f5f\"},\"baxis\":{\"endlinecolor\":\"#2a3f5f\",\"gridcolor\":\"white\",\"linecolor\":\"white\",\"minorgridcolor\":\"white\",\"startlinecolor\":\"#2a3f5f\"},\"type\":\"carpet\"}],\"table\":[{\"cells\":{\"fill\":{\"color\":\"#EBF0F8\"},\"line\":{\"color\":\"white\"}},\"header\":{\"fill\":{\"color\":\"#C8D4E3\"},\"line\":{\"color\":\"white\"}},\"type\":\"table\"}],\"barpolar\":[{\"marker\":{\"line\":{\"color\":\"#E5ECF6\",\"width\":0.5},\"pattern\":{\"fillmode\":\"overlay\",\"size\":10,\"solidity\":0.2}},\"type\":\"barpolar\"}],\"pie\":[{\"automargin\":true,\"type\":\"pie\"}]},\"layout\":{\"autotypenumbers\":\"strict\",\"colorway\":[\"#636efa\",\"#EF553B\",\"#00cc96\",\"#ab63fa\",\"#FFA15A\",\"#19d3f3\",\"#FF6692\",\"#B6E880\",\"#FF97FF\",\"#FECB52\"],\"font\":{\"color\":\"#2a3f5f\"},\"hovermode\":\"closest\",\"hoverlabel\":{\"align\":\"left\"},\"paper_bgcolor\":\"white\",\"plot_bgcolor\":\"#E5ECF6\",\"polar\":{\"bgcolor\":\"#E5ECF6\",\"angularaxis\":{\"gridcolor\":\"white\",\"linecolor\":\"white\",\"ticks\":\"\"},\"radialaxis\":{\"gridcolor\":\"white\",\"linecolor\":\"white\",\"ticks\":\"\"}},\"ternary\":{\"bgcolor\":\"#E5ECF6\",\"aaxis\":{\"gridcolor\":\"white\",\"linecolor\":\"white\",\"ticks\":\"\"},\"baxis\":{\"gridcolor\":\"white\",\"linecolor\":\"white\",\"ticks\":\"\"},\"caxis\":{\"gridcolor\":\"white\",\"linecolor\":\"white\",\"ticks\":\"\"}},\"coloraxis\":{\"colorbar\":{\"outlinewidth\":0,\"ticks\":\"\"}},\"colorscale\":{\"sequential\":[[0.0,\"#0d0887\"],[0.1111111111111111,\"#46039f\"],[0.2222222222222222,\"#7201a8\"],[0.3333333333333333,\"#9c179e\"],[0.4444444444444444,\"#bd3786\"],[0.5555555555555556,\"#d8576b\"],[0.6666666666666666,\"#ed7953\"],[0.7777777777777778,\"#fb9f3a\"],[0.8888888888888888,\"#fdca26\"],[1.0,\"#f0f921\"]],\"sequentialminus\":[[0.0,\"#0d0887\"],[0.1111111111111111,\"#46039f\"],[0.2222222222222222,\"#7201a8\"],[0.3333333333333333,\"#9c179e\"],[0.4444444444444444,\"#bd3786\"],[0.5555555555555556,\"#d8576b\"],[0.6666666666666666,\"#ed7953\"],[0.7777777777777778,\"#fb9f3a\"],[0.8888888888888888,\"#fdca26\"],[1.0,\"#f0f921\"]],\"diverging\":[[0,\"#8e0152\"],[0.1,\"#c51b7d\"],[0.2,\"#de77ae\"],[0.3,\"#f1b6da\"],[0.4,\"#fde0ef\"],[0.5,\"#f7f7f7\"],[0.6,\"#e6f5d0\"],[0.7,\"#b8e186\"],[0.8,\"#7fbc41\"],[0.9,\"#4d9221\"],[1,\"#276419\"]]},\"xaxis\":{\"gridcolor\":\"white\",\"linecolor\":\"white\",\"ticks\":\"\",\"title\":{\"standoff\":15},\"zerolinecolor\":\"white\",\"automargin\":true,\"zerolinewidth\":2},\"yaxis\":{\"gridcolor\":\"white\",\"linecolor\":\"white\",\"ticks\":\"\",\"title\":{\"standoff\":15},\"zerolinecolor\":\"white\",\"automargin\":true,\"zerolinewidth\":2},\"scene\":{\"xaxis\":{\"backgroundcolor\":\"#E5ECF6\",\"gridcolor\":\"white\",\"linecolor\":\"white\",\"showbackground\":true,\"ticks\":\"\",\"zerolinecolor\":\"white\",\"gridwidth\":2},\"yaxis\":{\"backgroundcolor\":\"#E5ECF6\",\"gridcolor\":\"white\",\"linecolor\":\"white\",\"showbackground\":true,\"ticks\":\"\",\"zerolinecolor\":\"white\",\"gridwidth\":2},\"zaxis\":{\"backgroundcolor\":\"#E5ECF6\",\"gridcolor\":\"white\",\"linecolor\":\"white\",\"showbackground\":true,\"ticks\":\"\",\"zerolinecolor\":\"white\",\"gridwidth\":2}},\"shapedefaults\":{\"line\":{\"color\":\"#2a3f5f\"}},\"annotationdefaults\":{\"arrowcolor\":\"#2a3f5f\",\"arrowhead\":0,\"arrowwidth\":1},\"geo\":{\"bgcolor\":\"white\",\"landcolor\":\"#E5ECF6\",\"subunitcolor\":\"white\",\"showland\":true,\"showlakes\":true,\"lakecolor\":\"white\"},\"title\":{\"x\":0.05},\"mapbox\":{\"style\":\"light\"}}},\"xaxis\":{\"title\":{\"text\":\"Date\"}},\"yaxis\":{\"title\":{\"text\":\"Total Sold\"}},\"showlegend\":false},                        {\"responsive\": true}                    ).then(function(){\n",
       "                            \n",
       "var gd = document.getElementById('66d6fb55-9dfb-48b9-8411-9e54884959eb');\n",
       "var x = new MutationObserver(function (mutations, observer) {{\n",
       "        var display = window.getComputedStyle(gd).display;\n",
       "        if (!display || display === 'none') {{\n",
       "            console.log([gd, 'removed!']);\n",
       "            Plotly.purge(gd);\n",
       "            observer.disconnect();\n",
       "        }}\n",
       "}});\n",
       "\n",
       "// Listen for the removal of the full notebook cells\n",
       "var notebookContainer = gd.closest('#notebook-container');\n",
       "if (notebookContainer) {{\n",
       "    x.observe(notebookContainer, {childList: true});\n",
       "}}\n",
       "\n",
       "// Listen for the clearing of the current output cell\n",
       "var outputEl = gd.closest('.output');\n",
       "if (outputEl) {{\n",
       "    x.observe(outputEl, {childList: true});\n",
       "}}\n",
       "\n",
       "                        })                };                });            </script>        </div>"
      ]
     },
     "metadata": {},
     "output_type": "display_data"
    },
    {
     "name": "stdout",
     "output_type": "stream",
     "text": [
      "Total Sales by date for  appliances.environment.vacuum\n"
     ]
    },
    {
     "data": {
      "text/html": [
       "<div>                            <div id=\"c7ef070b-d154-42ce-bca4-1f0dde797824\" class=\"plotly-graph-div\" style=\"height:525px; width:100%;\"></div>            <script type=\"text/javascript\">                require([\"plotly\"], function(Plotly) {                    window.PLOTLYENV=window.PLOTLYENV || {};                                    if (document.getElementById(\"c7ef070b-d154-42ce-bca4-1f0dde797824\")) {                    Plotly.newPlot(                        \"c7ef070b-d154-42ce-bca4-1f0dde797824\",                        [{\"marker\":{\"color\":\"red\"},\"text\":\"sales\",\"x\":[\"2020-01-05\",\"2020-01-06\",\"2020-01-07\",\"2020-01-08\",\"2020-01-09\",\"2020-01-10\",\"2020-01-11\",\"2020-01-12\",\"2020-01-13\",\"2020-01-14\",\"2020-01-15\",\"2020-01-16\",\"2020-01-17\",\"2020-01-18\",\"2020-01-19\",\"2020-01-20\",\"2020-01-21\",\"2020-01-22\",\"2020-01-23\",\"2020-01-24\",\"2020-01-25\",\"2020-01-26\",\"2020-01-27\",\"2020-01-28\",\"2020-01-29\",\"2020-01-30\",\"2020-01-31\",\"2020-02-01\",\"2020-02-02\",\"2020-02-03\",\"2020-02-04\",\"2020-02-05\",\"2020-02-06\",\"2020-02-07\",\"2020-02-08\",\"2020-02-09\",\"2020-02-10\",\"2020-02-11\",\"2020-02-12\",\"2020-02-13\",\"2020-02-14\",\"2020-02-15\",\"2020-02-16\",\"2020-02-17\",\"2020-02-18\",\"2020-02-19\",\"2020-02-20\",\"2020-02-21\",\"2020-02-22\",\"2020-02-23\",\"2020-02-24\",\"2020-02-25\",\"2020-02-26\",\"2020-02-27\",\"2020-02-28\",\"2020-02-29\",\"2020-03-01\",\"2020-03-02\",\"2020-03-03\",\"2020-03-04\",\"2020-03-05\",\"2020-03-06\",\"2020-03-07\",\"2020-03-08\",\"2020-03-09\",\"2020-03-10\",\"2020-03-11\",\"2020-03-12\",\"2020-03-13\",\"2020-03-14\",\"2020-03-15\",\"2020-03-16\",\"2020-03-17\",\"2020-03-18\",\"2020-03-19\",\"2020-03-20\",\"2020-03-21\",\"2020-03-22\",\"2020-03-23\",\"2020-03-24\",\"2020-03-25\",\"2020-03-26\",\"2020-03-27\",\"2020-03-28\",\"2020-03-29\",\"2020-03-30\",\"2020-03-31\",\"2020-04-01\",\"2020-04-02\",\"2020-04-03\",\"2020-04-04\",\"2020-04-05\",\"2020-04-06\",\"2020-04-07\",\"2020-04-08\",\"2020-04-09\",\"2020-04-10\",\"2020-04-11\",\"2020-04-12\",\"2020-04-13\",\"2020-04-14\",\"2020-04-15\",\"2020-04-16\",\"2020-04-17\",\"2020-04-18\",\"2020-04-19\",\"2020-04-20\",\"2020-04-21\",\"2020-04-22\",\"2020-04-23\",\"2020-04-24\",\"2020-04-25\",\"2020-04-26\",\"2020-04-27\",\"2020-04-28\",\"2020-04-29\",\"2020-04-30\",\"2020-05-01\",\"2020-05-02\",\"2020-05-03\",\"2020-05-04\",\"2020-05-05\",\"2020-05-06\",\"2020-05-07\",\"2020-05-08\",\"2020-05-09\",\"2020-05-10\",\"2020-05-11\",\"2020-05-12\",\"2020-05-13\",\"2020-05-14\",\"2020-05-15\",\"2020-05-16\",\"2020-05-17\",\"2020-05-18\",\"2020-05-19\",\"2020-05-20\",\"2020-05-21\",\"2020-05-22\",\"2020-05-23\",\"2020-05-24\",\"2020-05-25\",\"2020-05-26\",\"2020-05-27\",\"2020-05-28\",\"2020-05-29\",\"2020-05-30\",\"2020-05-31\",\"2020-06-01\",\"2020-06-02\",\"2020-06-03\",\"2020-06-04\",\"2020-06-05\",\"2020-06-06\",\"2020-06-07\",\"2020-06-08\",\"2020-06-09\",\"2020-06-10\",\"2020-06-11\",\"2020-06-12\",\"2020-06-13\",\"2020-06-14\",\"2020-06-15\",\"2020-06-16\",\"2020-06-17\",\"2020-06-18\",\"2020-06-19\",\"2020-06-20\",\"2020-06-21\",\"2020-06-22\",\"2020-06-23\",\"2020-06-24\",\"2020-06-25\",\"2020-06-26\",\"2020-06-27\",\"2020-06-28\",\"2020-06-29\",\"2020-06-30\",\"2020-07-01\",\"2020-07-02\",\"2020-07-03\",\"2020-07-04\",\"2020-07-05\",\"2020-07-06\",\"2020-07-07\",\"2020-07-08\",\"2020-07-09\",\"2020-07-10\",\"2020-07-11\",\"2020-07-12\",\"2020-07-13\",\"2020-07-14\",\"2020-07-15\",\"2020-07-16\",\"2020-07-17\",\"2020-07-18\",\"2020-07-19\",\"2020-07-20\",\"2020-07-21\",\"2020-07-22\",\"2020-07-23\",\"2020-07-24\",\"2020-07-25\",\"2020-07-26\",\"2020-07-27\",\"2020-07-28\",\"2020-07-29\",\"2020-07-30\",\"2020-07-31\",\"2020-08-01\",\"2020-08-02\",\"2020-08-03\",\"2020-08-04\",\"2020-08-05\",\"2020-08-06\",\"2020-08-07\",\"2020-08-08\",\"2020-08-09\",\"2020-08-10\",\"2020-08-11\",\"2020-08-12\",\"2020-08-13\",\"2020-08-14\",\"2020-08-15\",\"2020-08-16\",\"2020-08-17\",\"2020-08-18\",\"2020-08-19\",\"2020-08-20\",\"2020-08-21\",\"2020-08-22\",\"2020-08-23\",\"2020-08-24\",\"2020-08-25\",\"2020-08-26\",\"2020-08-27\",\"2020-08-28\",\"2020-08-29\",\"2020-08-30\",\"2020-08-31\",\"2020-09-01\",\"2020-09-02\",\"2020-09-03\",\"2020-09-04\",\"2020-09-05\",\"2020-09-06\",\"2020-09-07\",\"2020-09-08\",\"2020-09-09\",\"2020-09-10\",\"2020-09-11\",\"2020-09-12\",\"2020-09-13\",\"2020-09-14\",\"2020-09-15\",\"2020-09-16\",\"2020-09-17\",\"2020-09-18\",\"2020-09-19\",\"2020-09-20\",\"2020-09-21\",\"2020-09-22\",\"2020-09-23\",\"2020-09-24\",\"2020-09-25\",\"2020-09-26\",\"2020-09-27\",\"2020-09-28\",\"2020-09-29\",\"2020-09-30\",\"2020-10-01\",\"2020-10-02\",\"2020-10-03\",\"2020-10-04\",\"2020-10-05\",\"2020-10-06\",\"2020-10-07\",\"2020-10-08\",\"2020-10-09\",\"2020-10-10\",\"2020-10-11\",\"2020-10-12\",\"2020-10-13\",\"2020-10-14\",\"2020-10-15\",\"2020-10-16\",\"2020-10-17\",\"2020-10-18\",\"2020-10-19\",\"2020-10-20\",\"2020-10-21\",\"2020-10-22\",\"2020-10-23\",\"2020-10-24\",\"2020-10-25\",\"2020-10-26\",\"2020-10-27\",\"2020-10-28\",\"2020-10-29\",\"2020-10-30\",\"2020-10-31\",\"2020-11-01\",\"2020-11-02\",\"2020-11-03\",\"2020-11-04\",\"2020-11-05\",\"2020-11-06\",\"2020-11-07\",\"2020-11-08\",\"2020-11-09\",\"2020-11-10\",\"2020-11-11\",\"2020-11-12\",\"2020-11-13\",\"2020-11-14\",\"2020-11-15\",\"2020-11-16\",\"2020-11-17\",\"2020-11-18\",\"2020-11-19\",\"2020-11-20\",\"2020-11-21\"],\"y\":[307,283,395,236,203,240,423,395,224,219,173,197,193,322,357,192,172,181,141,309,405,443,153,185,107,153,223,468,485,187,203,239,225,354,555,489,188,185,186,217,366,443,461,152,159,154,191,208,419,361,174,129,111,118,223,415,367,185,198,177,225,365,631,610,525,206,207,228,268,419,494,174,192,197,228,238,367,280,217,292,255,163,206,246,245,101,95,64,67,52,71,49,49,45,39,34,59,55,55,45,56,41,50,31,32,39,21,56,43,44,51,49,77,37,49,43,52,55,82,66,58,77,71,113,119,99,101,97,119,108,104,142,253,231,155,155,162,162,234,376,392,190,224,220,228,241,383,374,259,265,301,286,316,507,618,298,383,331,279,315,515,517,268,278,296,311,340,213,197,264,237,233,237,277,71,44,289,367,226,292,476,483,49,59,58,75,81,74,76,58,59,108,83,119,100,112,121,102,105,128,138,125,83,100,125,131,148,95,122,125,137,161,155,193,135,93,143,149,174,144,151,131,105,89,64,608,495,464,442,463,50,54,544,442,412,401,443,73,68,190,398,340,312,347,73,91,424,346,279,334,423,76,65,387,379,372,311,417,183,133,415,364,304,324,385,170,140,370,393,432,49,86,189,154,158,94,85,81,124,234,184,37,86,92,69,116,247,205,94,44,48,310,50,56,140,86,73,282,26,91,30,139,53,286,31,27,107,305,109,60,28,41,33,61,319,208,82,22,296,288,8,9],\"type\":\"scatter\"}],                        {\"template\":{\"data\":{\"histogram2dcontour\":[{\"type\":\"histogram2dcontour\",\"colorbar\":{\"outlinewidth\":0,\"ticks\":\"\"},\"colorscale\":[[0.0,\"#0d0887\"],[0.1111111111111111,\"#46039f\"],[0.2222222222222222,\"#7201a8\"],[0.3333333333333333,\"#9c179e\"],[0.4444444444444444,\"#bd3786\"],[0.5555555555555556,\"#d8576b\"],[0.6666666666666666,\"#ed7953\"],[0.7777777777777778,\"#fb9f3a\"],[0.8888888888888888,\"#fdca26\"],[1.0,\"#f0f921\"]]}],\"choropleth\":[{\"type\":\"choropleth\",\"colorbar\":{\"outlinewidth\":0,\"ticks\":\"\"}}],\"histogram2d\":[{\"type\":\"histogram2d\",\"colorbar\":{\"outlinewidth\":0,\"ticks\":\"\"},\"colorscale\":[[0.0,\"#0d0887\"],[0.1111111111111111,\"#46039f\"],[0.2222222222222222,\"#7201a8\"],[0.3333333333333333,\"#9c179e\"],[0.4444444444444444,\"#bd3786\"],[0.5555555555555556,\"#d8576b\"],[0.6666666666666666,\"#ed7953\"],[0.7777777777777778,\"#fb9f3a\"],[0.8888888888888888,\"#fdca26\"],[1.0,\"#f0f921\"]]}],\"heatmap\":[{\"type\":\"heatmap\",\"colorbar\":{\"outlinewidth\":0,\"ticks\":\"\"},\"colorscale\":[[0.0,\"#0d0887\"],[0.1111111111111111,\"#46039f\"],[0.2222222222222222,\"#7201a8\"],[0.3333333333333333,\"#9c179e\"],[0.4444444444444444,\"#bd3786\"],[0.5555555555555556,\"#d8576b\"],[0.6666666666666666,\"#ed7953\"],[0.7777777777777778,\"#fb9f3a\"],[0.8888888888888888,\"#fdca26\"],[1.0,\"#f0f921\"]]}],\"heatmapgl\":[{\"type\":\"heatmapgl\",\"colorbar\":{\"outlinewidth\":0,\"ticks\":\"\"},\"colorscale\":[[0.0,\"#0d0887\"],[0.1111111111111111,\"#46039f\"],[0.2222222222222222,\"#7201a8\"],[0.3333333333333333,\"#9c179e\"],[0.4444444444444444,\"#bd3786\"],[0.5555555555555556,\"#d8576b\"],[0.6666666666666666,\"#ed7953\"],[0.7777777777777778,\"#fb9f3a\"],[0.8888888888888888,\"#fdca26\"],[1.0,\"#f0f921\"]]}],\"contourcarpet\":[{\"type\":\"contourcarpet\",\"colorbar\":{\"outlinewidth\":0,\"ticks\":\"\"}}],\"contour\":[{\"type\":\"contour\",\"colorbar\":{\"outlinewidth\":0,\"ticks\":\"\"},\"colorscale\":[[0.0,\"#0d0887\"],[0.1111111111111111,\"#46039f\"],[0.2222222222222222,\"#7201a8\"],[0.3333333333333333,\"#9c179e\"],[0.4444444444444444,\"#bd3786\"],[0.5555555555555556,\"#d8576b\"],[0.6666666666666666,\"#ed7953\"],[0.7777777777777778,\"#fb9f3a\"],[0.8888888888888888,\"#fdca26\"],[1.0,\"#f0f921\"]]}],\"surface\":[{\"type\":\"surface\",\"colorbar\":{\"outlinewidth\":0,\"ticks\":\"\"},\"colorscale\":[[0.0,\"#0d0887\"],[0.1111111111111111,\"#46039f\"],[0.2222222222222222,\"#7201a8\"],[0.3333333333333333,\"#9c179e\"],[0.4444444444444444,\"#bd3786\"],[0.5555555555555556,\"#d8576b\"],[0.6666666666666666,\"#ed7953\"],[0.7777777777777778,\"#fb9f3a\"],[0.8888888888888888,\"#fdca26\"],[1.0,\"#f0f921\"]]}],\"mesh3d\":[{\"type\":\"mesh3d\",\"colorbar\":{\"outlinewidth\":0,\"ticks\":\"\"}}],\"scatter\":[{\"fillpattern\":{\"fillmode\":\"overlay\",\"size\":10,\"solidity\":0.2},\"type\":\"scatter\"}],\"parcoords\":[{\"type\":\"parcoords\",\"line\":{\"colorbar\":{\"outlinewidth\":0,\"ticks\":\"\"}}}],\"scatterpolargl\":[{\"type\":\"scatterpolargl\",\"marker\":{\"colorbar\":{\"outlinewidth\":0,\"ticks\":\"\"}}}],\"bar\":[{\"error_x\":{\"color\":\"#2a3f5f\"},\"error_y\":{\"color\":\"#2a3f5f\"},\"marker\":{\"line\":{\"color\":\"#E5ECF6\",\"width\":0.5},\"pattern\":{\"fillmode\":\"overlay\",\"size\":10,\"solidity\":0.2}},\"type\":\"bar\"}],\"scattergeo\":[{\"type\":\"scattergeo\",\"marker\":{\"colorbar\":{\"outlinewidth\":0,\"ticks\":\"\"}}}],\"scatterpolar\":[{\"type\":\"scatterpolar\",\"marker\":{\"colorbar\":{\"outlinewidth\":0,\"ticks\":\"\"}}}],\"histogram\":[{\"marker\":{\"pattern\":{\"fillmode\":\"overlay\",\"size\":10,\"solidity\":0.2}},\"type\":\"histogram\"}],\"scattergl\":[{\"type\":\"scattergl\",\"marker\":{\"colorbar\":{\"outlinewidth\":0,\"ticks\":\"\"}}}],\"scatter3d\":[{\"type\":\"scatter3d\",\"line\":{\"colorbar\":{\"outlinewidth\":0,\"ticks\":\"\"}},\"marker\":{\"colorbar\":{\"outlinewidth\":0,\"ticks\":\"\"}}}],\"scattermapbox\":[{\"type\":\"scattermapbox\",\"marker\":{\"colorbar\":{\"outlinewidth\":0,\"ticks\":\"\"}}}],\"scatterternary\":[{\"type\":\"scatterternary\",\"marker\":{\"colorbar\":{\"outlinewidth\":0,\"ticks\":\"\"}}}],\"scattercarpet\":[{\"type\":\"scattercarpet\",\"marker\":{\"colorbar\":{\"outlinewidth\":0,\"ticks\":\"\"}}}],\"carpet\":[{\"aaxis\":{\"endlinecolor\":\"#2a3f5f\",\"gridcolor\":\"white\",\"linecolor\":\"white\",\"minorgridcolor\":\"white\",\"startlinecolor\":\"#2a3f5f\"},\"baxis\":{\"endlinecolor\":\"#2a3f5f\",\"gridcolor\":\"white\",\"linecolor\":\"white\",\"minorgridcolor\":\"white\",\"startlinecolor\":\"#2a3f5f\"},\"type\":\"carpet\"}],\"table\":[{\"cells\":{\"fill\":{\"color\":\"#EBF0F8\"},\"line\":{\"color\":\"white\"}},\"header\":{\"fill\":{\"color\":\"#C8D4E3\"},\"line\":{\"color\":\"white\"}},\"type\":\"table\"}],\"barpolar\":[{\"marker\":{\"line\":{\"color\":\"#E5ECF6\",\"width\":0.5},\"pattern\":{\"fillmode\":\"overlay\",\"size\":10,\"solidity\":0.2}},\"type\":\"barpolar\"}],\"pie\":[{\"automargin\":true,\"type\":\"pie\"}]},\"layout\":{\"autotypenumbers\":\"strict\",\"colorway\":[\"#636efa\",\"#EF553B\",\"#00cc96\",\"#ab63fa\",\"#FFA15A\",\"#19d3f3\",\"#FF6692\",\"#B6E880\",\"#FF97FF\",\"#FECB52\"],\"font\":{\"color\":\"#2a3f5f\"},\"hovermode\":\"closest\",\"hoverlabel\":{\"align\":\"left\"},\"paper_bgcolor\":\"white\",\"plot_bgcolor\":\"#E5ECF6\",\"polar\":{\"bgcolor\":\"#E5ECF6\",\"angularaxis\":{\"gridcolor\":\"white\",\"linecolor\":\"white\",\"ticks\":\"\"},\"radialaxis\":{\"gridcolor\":\"white\",\"linecolor\":\"white\",\"ticks\":\"\"}},\"ternary\":{\"bgcolor\":\"#E5ECF6\",\"aaxis\":{\"gridcolor\":\"white\",\"linecolor\":\"white\",\"ticks\":\"\"},\"baxis\":{\"gridcolor\":\"white\",\"linecolor\":\"white\",\"ticks\":\"\"},\"caxis\":{\"gridcolor\":\"white\",\"linecolor\":\"white\",\"ticks\":\"\"}},\"coloraxis\":{\"colorbar\":{\"outlinewidth\":0,\"ticks\":\"\"}},\"colorscale\":{\"sequential\":[[0.0,\"#0d0887\"],[0.1111111111111111,\"#46039f\"],[0.2222222222222222,\"#7201a8\"],[0.3333333333333333,\"#9c179e\"],[0.4444444444444444,\"#bd3786\"],[0.5555555555555556,\"#d8576b\"],[0.6666666666666666,\"#ed7953\"],[0.7777777777777778,\"#fb9f3a\"],[0.8888888888888888,\"#fdca26\"],[1.0,\"#f0f921\"]],\"sequentialminus\":[[0.0,\"#0d0887\"],[0.1111111111111111,\"#46039f\"],[0.2222222222222222,\"#7201a8\"],[0.3333333333333333,\"#9c179e\"],[0.4444444444444444,\"#bd3786\"],[0.5555555555555556,\"#d8576b\"],[0.6666666666666666,\"#ed7953\"],[0.7777777777777778,\"#fb9f3a\"],[0.8888888888888888,\"#fdca26\"],[1.0,\"#f0f921\"]],\"diverging\":[[0,\"#8e0152\"],[0.1,\"#c51b7d\"],[0.2,\"#de77ae\"],[0.3,\"#f1b6da\"],[0.4,\"#fde0ef\"],[0.5,\"#f7f7f7\"],[0.6,\"#e6f5d0\"],[0.7,\"#b8e186\"],[0.8,\"#7fbc41\"],[0.9,\"#4d9221\"],[1,\"#276419\"]]},\"xaxis\":{\"gridcolor\":\"white\",\"linecolor\":\"white\",\"ticks\":\"\",\"title\":{\"standoff\":15},\"zerolinecolor\":\"white\",\"automargin\":true,\"zerolinewidth\":2},\"yaxis\":{\"gridcolor\":\"white\",\"linecolor\":\"white\",\"ticks\":\"\",\"title\":{\"standoff\":15},\"zerolinecolor\":\"white\",\"automargin\":true,\"zerolinewidth\":2},\"scene\":{\"xaxis\":{\"backgroundcolor\":\"#E5ECF6\",\"gridcolor\":\"white\",\"linecolor\":\"white\",\"showbackground\":true,\"ticks\":\"\",\"zerolinecolor\":\"white\",\"gridwidth\":2},\"yaxis\":{\"backgroundcolor\":\"#E5ECF6\",\"gridcolor\":\"white\",\"linecolor\":\"white\",\"showbackground\":true,\"ticks\":\"\",\"zerolinecolor\":\"white\",\"gridwidth\":2},\"zaxis\":{\"backgroundcolor\":\"#E5ECF6\",\"gridcolor\":\"white\",\"linecolor\":\"white\",\"showbackground\":true,\"ticks\":\"\",\"zerolinecolor\":\"white\",\"gridwidth\":2}},\"shapedefaults\":{\"line\":{\"color\":\"#2a3f5f\"}},\"annotationdefaults\":{\"arrowcolor\":\"#2a3f5f\",\"arrowhead\":0,\"arrowwidth\":1},\"geo\":{\"bgcolor\":\"white\",\"landcolor\":\"#E5ECF6\",\"subunitcolor\":\"white\",\"showland\":true,\"showlakes\":true,\"lakecolor\":\"white\"},\"title\":{\"x\":0.05},\"mapbox\":{\"style\":\"light\"}}},\"xaxis\":{\"title\":{\"text\":\"Date\"}},\"yaxis\":{\"title\":{\"text\":\"Total Sold\"}},\"showlegend\":false},                        {\"responsive\": true}                    ).then(function(){\n",
       "                            \n",
       "var gd = document.getElementById('c7ef070b-d154-42ce-bca4-1f0dde797824');\n",
       "var x = new MutationObserver(function (mutations, observer) {{\n",
       "        var display = window.getComputedStyle(gd).display;\n",
       "        if (!display || display === 'none') {{\n",
       "            console.log([gd, 'removed!']);\n",
       "            Plotly.purge(gd);\n",
       "            observer.disconnect();\n",
       "        }}\n",
       "}});\n",
       "\n",
       "// Listen for the removal of the full notebook cells\n",
       "var notebookContainer = gd.closest('#notebook-container');\n",
       "if (notebookContainer) {{\n",
       "    x.observe(notebookContainer, {childList: true});\n",
       "}}\n",
       "\n",
       "// Listen for the clearing of the current output cell\n",
       "var outputEl = gd.closest('.output');\n",
       "if (outputEl) {{\n",
       "    x.observe(outputEl, {childList: true});\n",
       "}}\n",
       "\n",
       "                        })                };                });            </script>        </div>"
      ]
     },
     "metadata": {},
     "output_type": "display_data"
    },
    {
     "name": "stdout",
     "output_type": "stream",
     "text": [
      "Total Sales by date for  electronics.audio.headphone\n"
     ]
    },
    {
     "data": {
      "text/html": [
       "<div>                            <div id=\"83f4a4df-e5b9-4b3b-9fea-6547bd2b96ea\" class=\"plotly-graph-div\" style=\"height:525px; width:100%;\"></div>            <script type=\"text/javascript\">                require([\"plotly\"], function(Plotly) {                    window.PLOTLYENV=window.PLOTLYENV || {};                                    if (document.getElementById(\"83f4a4df-e5b9-4b3b-9fea-6547bd2b96ea\")) {                    Plotly.newPlot(                        \"83f4a4df-e5b9-4b3b-9fea-6547bd2b96ea\",                        [{\"marker\":{\"color\":\"red\"},\"text\":\"sales\",\"x\":[\"2020-01-05\",\"2020-01-06\",\"2020-01-07\",\"2020-01-08\",\"2020-01-09\",\"2020-01-10\",\"2020-01-11\",\"2020-01-12\",\"2020-01-13\",\"2020-01-14\",\"2020-01-15\",\"2020-01-16\",\"2020-01-17\",\"2020-01-18\",\"2020-01-19\",\"2020-01-20\",\"2020-01-21\",\"2020-01-22\",\"2020-01-23\",\"2020-01-24\",\"2020-01-25\",\"2020-01-26\",\"2020-01-27\",\"2020-01-28\",\"2020-01-29\",\"2020-01-30\",\"2020-01-31\",\"2020-02-01\",\"2020-02-02\",\"2020-02-03\",\"2020-02-04\",\"2020-02-05\",\"2020-02-06\",\"2020-02-07\",\"2020-02-08\",\"2020-02-09\",\"2020-02-10\",\"2020-02-11\",\"2020-02-12\",\"2020-02-13\",\"2020-02-14\",\"2020-02-15\",\"2020-02-16\",\"2020-02-17\",\"2020-02-18\",\"2020-02-19\",\"2020-02-20\",\"2020-02-21\",\"2020-02-22\",\"2020-02-23\",\"2020-02-24\",\"2020-02-25\",\"2020-02-26\",\"2020-02-27\",\"2020-02-28\",\"2020-02-29\",\"2020-03-01\",\"2020-03-02\",\"2020-03-03\",\"2020-03-04\",\"2020-03-05\",\"2020-03-06\",\"2020-03-07\",\"2020-03-08\",\"2020-03-09\",\"2020-03-10\",\"2020-03-11\",\"2020-03-12\",\"2020-03-13\",\"2020-03-14\",\"2020-03-15\",\"2020-03-16\",\"2020-03-17\",\"2020-03-18\",\"2020-03-19\",\"2020-03-20\",\"2020-03-21\",\"2020-03-22\",\"2020-03-23\",\"2020-03-24\",\"2020-03-25\",\"2020-03-26\",\"2020-03-27\",\"2020-03-28\",\"2020-03-29\",\"2020-03-30\",\"2020-03-31\",\"2020-04-01\",\"2020-04-02\",\"2020-04-03\",\"2020-04-04\",\"2020-04-05\",\"2020-04-06\",\"2020-04-07\",\"2020-04-08\",\"2020-04-09\",\"2020-04-10\",\"2020-04-11\",\"2020-04-12\",\"2020-04-13\",\"2020-04-14\",\"2020-04-15\",\"2020-04-16\",\"2020-04-17\",\"2020-04-18\",\"2020-04-19\",\"2020-04-20\",\"2020-04-21\",\"2020-04-22\",\"2020-04-23\",\"2020-04-24\",\"2020-04-25\",\"2020-04-26\",\"2020-04-27\",\"2020-04-28\",\"2020-04-29\",\"2020-04-30\",\"2020-05-01\",\"2020-05-02\",\"2020-05-03\",\"2020-05-04\",\"2020-05-05\",\"2020-05-06\",\"2020-05-07\",\"2020-05-08\",\"2020-05-09\",\"2020-05-10\",\"2020-05-11\",\"2020-05-12\",\"2020-05-13\",\"2020-05-14\",\"2020-05-15\",\"2020-05-16\",\"2020-05-17\",\"2020-05-18\",\"2020-05-19\",\"2020-05-20\",\"2020-05-21\",\"2020-05-22\",\"2020-05-23\",\"2020-05-24\",\"2020-05-25\",\"2020-05-26\",\"2020-05-27\",\"2020-05-28\",\"2020-05-29\",\"2020-05-30\",\"2020-05-31\",\"2020-06-01\",\"2020-06-02\",\"2020-06-03\",\"2020-06-04\",\"2020-06-05\",\"2020-06-06\",\"2020-06-07\",\"2020-06-08\",\"2020-06-09\",\"2020-06-10\",\"2020-06-11\",\"2020-06-12\",\"2020-06-13\",\"2020-06-14\",\"2020-06-15\",\"2020-06-16\",\"2020-06-17\",\"2020-06-18\",\"2020-06-19\",\"2020-06-20\",\"2020-06-21\",\"2020-06-22\",\"2020-06-23\",\"2020-06-24\",\"2020-06-25\",\"2020-06-26\",\"2020-06-27\",\"2020-06-28\",\"2020-06-29\",\"2020-06-30\",\"2020-07-01\",\"2020-07-02\",\"2020-07-03\",\"2020-07-04\",\"2020-07-05\",\"2020-07-06\",\"2020-07-07\",\"2020-07-08\",\"2020-07-09\",\"2020-07-10\",\"2020-07-11\",\"2020-07-12\",\"2020-07-13\",\"2020-07-14\",\"2020-07-15\",\"2020-07-16\",\"2020-07-17\",\"2020-07-18\",\"2020-07-19\",\"2020-07-20\",\"2020-07-21\",\"2020-07-22\",\"2020-07-23\",\"2020-07-24\",\"2020-07-25\",\"2020-07-26\",\"2020-07-27\",\"2020-07-28\",\"2020-07-29\",\"2020-07-30\",\"2020-07-31\",\"2020-08-01\",\"2020-08-02\",\"2020-08-03\",\"2020-08-04\",\"2020-08-05\",\"2020-08-06\",\"2020-08-07\",\"2020-08-08\",\"2020-08-09\",\"2020-08-10\",\"2020-08-11\",\"2020-08-12\",\"2020-08-13\",\"2020-08-14\",\"2020-08-15\",\"2020-08-16\",\"2020-08-17\",\"2020-08-18\",\"2020-08-19\",\"2020-08-20\",\"2020-08-21\",\"2020-08-22\",\"2020-08-23\",\"2020-08-24\",\"2020-08-25\",\"2020-08-26\",\"2020-08-27\",\"2020-08-28\",\"2020-08-29\",\"2020-08-30\",\"2020-08-31\",\"2020-09-01\",\"2020-09-02\",\"2020-09-03\",\"2020-09-04\",\"2020-09-05\",\"2020-09-06\",\"2020-09-07\",\"2020-09-08\",\"2020-09-09\",\"2020-09-10\",\"2020-09-11\",\"2020-09-12\",\"2020-09-13\",\"2020-09-14\",\"2020-09-15\",\"2020-09-16\",\"2020-09-17\",\"2020-09-18\",\"2020-09-19\",\"2020-09-20\",\"2020-09-21\",\"2020-09-22\",\"2020-09-23\",\"2020-09-24\",\"2020-09-25\",\"2020-09-26\",\"2020-09-27\",\"2020-09-28\",\"2020-09-29\",\"2020-09-30\",\"2020-10-01\",\"2020-10-02\",\"2020-10-03\",\"2020-10-04\",\"2020-10-05\",\"2020-10-06\",\"2020-10-07\",\"2020-10-08\",\"2020-10-09\",\"2020-10-10\",\"2020-10-11\",\"2020-10-12\",\"2020-10-13\",\"2020-10-14\",\"2020-10-15\",\"2020-10-16\",\"2020-10-17\",\"2020-10-18\",\"2020-10-19\",\"2020-10-20\",\"2020-10-21\",\"2020-10-22\",\"2020-10-23\",\"2020-10-24\",\"2020-10-25\",\"2020-10-26\",\"2020-10-27\",\"2020-10-28\",\"2020-10-29\",\"2020-10-30\",\"2020-10-31\",\"2020-11-01\",\"2020-11-02\",\"2020-11-03\",\"2020-11-04\",\"2020-11-05\",\"2020-11-06\",\"2020-11-07\",\"2020-11-08\",\"2020-11-09\",\"2020-11-10\",\"2020-11-11\",\"2020-11-12\",\"2020-11-13\",\"2020-11-14\",\"2020-11-15\",\"2020-11-16\",\"2020-11-17\",\"2020-11-18\",\"2020-11-19\",\"2020-11-20\",\"2020-11-21\"],\"y\":[258,226,282,165,168,230,263,230,163,148,135,173,133,228,258,153,157,134,124,175,223,229,134,149,136,123,167,318,295,190,211,222,253,354,526,445,287,338,333,311,518,444,417,208,222,187,195,206,288,314,149,157,121,140,247,360,275,203,171,222,249,441,679,660,418,211,219,186,197,279,315,169,161,181,153,149,161,150,122,166,173,147,163,191,151,99,105,134,157,106,118,95,93,84,81,98,107,101,106,85,97,113,97,57,72,63,71,84,82,85,110,116,119,87,81,96,112,117,137,105,112,159,155,199,145,140,116,143,161,173,178,208,287,248,216,163,170,217,242,272,278,261,271,216,234,249,348,336,315,285,292,267,285,385,471,294,303,316,294,294,348,364,286,288,244,273,317,164,186,282,273,243,249,322,78,47,316,345,266,358,441,461,34,82,107,118,105,94,77,61,123,136,109,128,124,149,111,96,149,124,127,132,82,128,125,131,129,102,130,156,135,178,195,195,162,132,147,154,198,182,169,152,152,131,92,624,538,479,377,413,56,63,555,449,379,390,416,84,89,210,578,453,372,389,87,72,477,410,454,517,565,234,263,419,415,360,339,396,160,117,389,340,253,291,306,158,107,336,297,331,60,101,222,156,115,90,95,85,100,235,163,29,103,80,76,118,209,170,72,67,52,316,26,39,146,89,70,265,24,84,29,100,46,228,30,39,52,200,108,64,43,64,37,75,232,192,61,32,259,213,25,13],\"type\":\"scatter\"}],                        {\"template\":{\"data\":{\"histogram2dcontour\":[{\"type\":\"histogram2dcontour\",\"colorbar\":{\"outlinewidth\":0,\"ticks\":\"\"},\"colorscale\":[[0.0,\"#0d0887\"],[0.1111111111111111,\"#46039f\"],[0.2222222222222222,\"#7201a8\"],[0.3333333333333333,\"#9c179e\"],[0.4444444444444444,\"#bd3786\"],[0.5555555555555556,\"#d8576b\"],[0.6666666666666666,\"#ed7953\"],[0.7777777777777778,\"#fb9f3a\"],[0.8888888888888888,\"#fdca26\"],[1.0,\"#f0f921\"]]}],\"choropleth\":[{\"type\":\"choropleth\",\"colorbar\":{\"outlinewidth\":0,\"ticks\":\"\"}}],\"histogram2d\":[{\"type\":\"histogram2d\",\"colorbar\":{\"outlinewidth\":0,\"ticks\":\"\"},\"colorscale\":[[0.0,\"#0d0887\"],[0.1111111111111111,\"#46039f\"],[0.2222222222222222,\"#7201a8\"],[0.3333333333333333,\"#9c179e\"],[0.4444444444444444,\"#bd3786\"],[0.5555555555555556,\"#d8576b\"],[0.6666666666666666,\"#ed7953\"],[0.7777777777777778,\"#fb9f3a\"],[0.8888888888888888,\"#fdca26\"],[1.0,\"#f0f921\"]]}],\"heatmap\":[{\"type\":\"heatmap\",\"colorbar\":{\"outlinewidth\":0,\"ticks\":\"\"},\"colorscale\":[[0.0,\"#0d0887\"],[0.1111111111111111,\"#46039f\"],[0.2222222222222222,\"#7201a8\"],[0.3333333333333333,\"#9c179e\"],[0.4444444444444444,\"#bd3786\"],[0.5555555555555556,\"#d8576b\"],[0.6666666666666666,\"#ed7953\"],[0.7777777777777778,\"#fb9f3a\"],[0.8888888888888888,\"#fdca26\"],[1.0,\"#f0f921\"]]}],\"heatmapgl\":[{\"type\":\"heatmapgl\",\"colorbar\":{\"outlinewidth\":0,\"ticks\":\"\"},\"colorscale\":[[0.0,\"#0d0887\"],[0.1111111111111111,\"#46039f\"],[0.2222222222222222,\"#7201a8\"],[0.3333333333333333,\"#9c179e\"],[0.4444444444444444,\"#bd3786\"],[0.5555555555555556,\"#d8576b\"],[0.6666666666666666,\"#ed7953\"],[0.7777777777777778,\"#fb9f3a\"],[0.8888888888888888,\"#fdca26\"],[1.0,\"#f0f921\"]]}],\"contourcarpet\":[{\"type\":\"contourcarpet\",\"colorbar\":{\"outlinewidth\":0,\"ticks\":\"\"}}],\"contour\":[{\"type\":\"contour\",\"colorbar\":{\"outlinewidth\":0,\"ticks\":\"\"},\"colorscale\":[[0.0,\"#0d0887\"],[0.1111111111111111,\"#46039f\"],[0.2222222222222222,\"#7201a8\"],[0.3333333333333333,\"#9c179e\"],[0.4444444444444444,\"#bd3786\"],[0.5555555555555556,\"#d8576b\"],[0.6666666666666666,\"#ed7953\"],[0.7777777777777778,\"#fb9f3a\"],[0.8888888888888888,\"#fdca26\"],[1.0,\"#f0f921\"]]}],\"surface\":[{\"type\":\"surface\",\"colorbar\":{\"outlinewidth\":0,\"ticks\":\"\"},\"colorscale\":[[0.0,\"#0d0887\"],[0.1111111111111111,\"#46039f\"],[0.2222222222222222,\"#7201a8\"],[0.3333333333333333,\"#9c179e\"],[0.4444444444444444,\"#bd3786\"],[0.5555555555555556,\"#d8576b\"],[0.6666666666666666,\"#ed7953\"],[0.7777777777777778,\"#fb9f3a\"],[0.8888888888888888,\"#fdca26\"],[1.0,\"#f0f921\"]]}],\"mesh3d\":[{\"type\":\"mesh3d\",\"colorbar\":{\"outlinewidth\":0,\"ticks\":\"\"}}],\"scatter\":[{\"fillpattern\":{\"fillmode\":\"overlay\",\"size\":10,\"solidity\":0.2},\"type\":\"scatter\"}],\"parcoords\":[{\"type\":\"parcoords\",\"line\":{\"colorbar\":{\"outlinewidth\":0,\"ticks\":\"\"}}}],\"scatterpolargl\":[{\"type\":\"scatterpolargl\",\"marker\":{\"colorbar\":{\"outlinewidth\":0,\"ticks\":\"\"}}}],\"bar\":[{\"error_x\":{\"color\":\"#2a3f5f\"},\"error_y\":{\"color\":\"#2a3f5f\"},\"marker\":{\"line\":{\"color\":\"#E5ECF6\",\"width\":0.5},\"pattern\":{\"fillmode\":\"overlay\",\"size\":10,\"solidity\":0.2}},\"type\":\"bar\"}],\"scattergeo\":[{\"type\":\"scattergeo\",\"marker\":{\"colorbar\":{\"outlinewidth\":0,\"ticks\":\"\"}}}],\"scatterpolar\":[{\"type\":\"scatterpolar\",\"marker\":{\"colorbar\":{\"outlinewidth\":0,\"ticks\":\"\"}}}],\"histogram\":[{\"marker\":{\"pattern\":{\"fillmode\":\"overlay\",\"size\":10,\"solidity\":0.2}},\"type\":\"histogram\"}],\"scattergl\":[{\"type\":\"scattergl\",\"marker\":{\"colorbar\":{\"outlinewidth\":0,\"ticks\":\"\"}}}],\"scatter3d\":[{\"type\":\"scatter3d\",\"line\":{\"colorbar\":{\"outlinewidth\":0,\"ticks\":\"\"}},\"marker\":{\"colorbar\":{\"outlinewidth\":0,\"ticks\":\"\"}}}],\"scattermapbox\":[{\"type\":\"scattermapbox\",\"marker\":{\"colorbar\":{\"outlinewidth\":0,\"ticks\":\"\"}}}],\"scatterternary\":[{\"type\":\"scatterternary\",\"marker\":{\"colorbar\":{\"outlinewidth\":0,\"ticks\":\"\"}}}],\"scattercarpet\":[{\"type\":\"scattercarpet\",\"marker\":{\"colorbar\":{\"outlinewidth\":0,\"ticks\":\"\"}}}],\"carpet\":[{\"aaxis\":{\"endlinecolor\":\"#2a3f5f\",\"gridcolor\":\"white\",\"linecolor\":\"white\",\"minorgridcolor\":\"white\",\"startlinecolor\":\"#2a3f5f\"},\"baxis\":{\"endlinecolor\":\"#2a3f5f\",\"gridcolor\":\"white\",\"linecolor\":\"white\",\"minorgridcolor\":\"white\",\"startlinecolor\":\"#2a3f5f\"},\"type\":\"carpet\"}],\"table\":[{\"cells\":{\"fill\":{\"color\":\"#EBF0F8\"},\"line\":{\"color\":\"white\"}},\"header\":{\"fill\":{\"color\":\"#C8D4E3\"},\"line\":{\"color\":\"white\"}},\"type\":\"table\"}],\"barpolar\":[{\"marker\":{\"line\":{\"color\":\"#E5ECF6\",\"width\":0.5},\"pattern\":{\"fillmode\":\"overlay\",\"size\":10,\"solidity\":0.2}},\"type\":\"barpolar\"}],\"pie\":[{\"automargin\":true,\"type\":\"pie\"}]},\"layout\":{\"autotypenumbers\":\"strict\",\"colorway\":[\"#636efa\",\"#EF553B\",\"#00cc96\",\"#ab63fa\",\"#FFA15A\",\"#19d3f3\",\"#FF6692\",\"#B6E880\",\"#FF97FF\",\"#FECB52\"],\"font\":{\"color\":\"#2a3f5f\"},\"hovermode\":\"closest\",\"hoverlabel\":{\"align\":\"left\"},\"paper_bgcolor\":\"white\",\"plot_bgcolor\":\"#E5ECF6\",\"polar\":{\"bgcolor\":\"#E5ECF6\",\"angularaxis\":{\"gridcolor\":\"white\",\"linecolor\":\"white\",\"ticks\":\"\"},\"radialaxis\":{\"gridcolor\":\"white\",\"linecolor\":\"white\",\"ticks\":\"\"}},\"ternary\":{\"bgcolor\":\"#E5ECF6\",\"aaxis\":{\"gridcolor\":\"white\",\"linecolor\":\"white\",\"ticks\":\"\"},\"baxis\":{\"gridcolor\":\"white\",\"linecolor\":\"white\",\"ticks\":\"\"},\"caxis\":{\"gridcolor\":\"white\",\"linecolor\":\"white\",\"ticks\":\"\"}},\"coloraxis\":{\"colorbar\":{\"outlinewidth\":0,\"ticks\":\"\"}},\"colorscale\":{\"sequential\":[[0.0,\"#0d0887\"],[0.1111111111111111,\"#46039f\"],[0.2222222222222222,\"#7201a8\"],[0.3333333333333333,\"#9c179e\"],[0.4444444444444444,\"#bd3786\"],[0.5555555555555556,\"#d8576b\"],[0.6666666666666666,\"#ed7953\"],[0.7777777777777778,\"#fb9f3a\"],[0.8888888888888888,\"#fdca26\"],[1.0,\"#f0f921\"]],\"sequentialminus\":[[0.0,\"#0d0887\"],[0.1111111111111111,\"#46039f\"],[0.2222222222222222,\"#7201a8\"],[0.3333333333333333,\"#9c179e\"],[0.4444444444444444,\"#bd3786\"],[0.5555555555555556,\"#d8576b\"],[0.6666666666666666,\"#ed7953\"],[0.7777777777777778,\"#fb9f3a\"],[0.8888888888888888,\"#fdca26\"],[1.0,\"#f0f921\"]],\"diverging\":[[0,\"#8e0152\"],[0.1,\"#c51b7d\"],[0.2,\"#de77ae\"],[0.3,\"#f1b6da\"],[0.4,\"#fde0ef\"],[0.5,\"#f7f7f7\"],[0.6,\"#e6f5d0\"],[0.7,\"#b8e186\"],[0.8,\"#7fbc41\"],[0.9,\"#4d9221\"],[1,\"#276419\"]]},\"xaxis\":{\"gridcolor\":\"white\",\"linecolor\":\"white\",\"ticks\":\"\",\"title\":{\"standoff\":15},\"zerolinecolor\":\"white\",\"automargin\":true,\"zerolinewidth\":2},\"yaxis\":{\"gridcolor\":\"white\",\"linecolor\":\"white\",\"ticks\":\"\",\"title\":{\"standoff\":15},\"zerolinecolor\":\"white\",\"automargin\":true,\"zerolinewidth\":2},\"scene\":{\"xaxis\":{\"backgroundcolor\":\"#E5ECF6\",\"gridcolor\":\"white\",\"linecolor\":\"white\",\"showbackground\":true,\"ticks\":\"\",\"zerolinecolor\":\"white\",\"gridwidth\":2},\"yaxis\":{\"backgroundcolor\":\"#E5ECF6\",\"gridcolor\":\"white\",\"linecolor\":\"white\",\"showbackground\":true,\"ticks\":\"\",\"zerolinecolor\":\"white\",\"gridwidth\":2},\"zaxis\":{\"backgroundcolor\":\"#E5ECF6\",\"gridcolor\":\"white\",\"linecolor\":\"white\",\"showbackground\":true,\"ticks\":\"\",\"zerolinecolor\":\"white\",\"gridwidth\":2}},\"shapedefaults\":{\"line\":{\"color\":\"#2a3f5f\"}},\"annotationdefaults\":{\"arrowcolor\":\"#2a3f5f\",\"arrowhead\":0,\"arrowwidth\":1},\"geo\":{\"bgcolor\":\"white\",\"landcolor\":\"#E5ECF6\",\"subunitcolor\":\"white\",\"showland\":true,\"showlakes\":true,\"lakecolor\":\"white\"},\"title\":{\"x\":0.05},\"mapbox\":{\"style\":\"light\"}}},\"xaxis\":{\"title\":{\"text\":\"Date\"}},\"yaxis\":{\"title\":{\"text\":\"Total Sold\"}},\"showlegend\":false},                        {\"responsive\": true}                    ).then(function(){\n",
       "                            \n",
       "var gd = document.getElementById('83f4a4df-e5b9-4b3b-9fea-6547bd2b96ea');\n",
       "var x = new MutationObserver(function (mutations, observer) {{\n",
       "        var display = window.getComputedStyle(gd).display;\n",
       "        if (!display || display === 'none') {{\n",
       "            console.log([gd, 'removed!']);\n",
       "            Plotly.purge(gd);\n",
       "            observer.disconnect();\n",
       "        }}\n",
       "}});\n",
       "\n",
       "// Listen for the removal of the full notebook cells\n",
       "var notebookContainer = gd.closest('#notebook-container');\n",
       "if (notebookContainer) {{\n",
       "    x.observe(notebookContainer, {childList: true});\n",
       "}}\n",
       "\n",
       "// Listen for the clearing of the current output cell\n",
       "var outputEl = gd.closest('.output');\n",
       "if (outputEl) {{\n",
       "    x.observe(outputEl, {childList: true});\n",
       "}}\n",
       "\n",
       "                        })                };                });            </script>        </div>"
      ]
     },
     "metadata": {},
     "output_type": "display_data"
    }
   ],
   "source": [
    "def demand_time_graph():\n",
    "    \n",
    "    categories = ['electronics.smartphone'\n",
    "              , 'appliances.kitchen.refrigerators'\n",
    "              , 'electronics.video.tv'\n",
    "              , 'computers.notebook'\n",
    "              , 'appliances.environment.vacuum'\n",
    "              , 'electronics.audio.headphone']\n",
    "    \n",
    "    for c in categories:\n",
    "        category_df = df2_agg_time_no_nulls.loc[df2_agg_time_no_nulls['category_code'] == c]\n",
    "        category_df = category_df.loc[category_df['event_time'].str.startswith('202')]\n",
    "        category_df['event_time'].min(),category_df['event_time'].max()\n",
    "        fig = go.Figure(data=go.Scatter(x=category_df['event_time'], \n",
    "                                    y=category_df['total_tx'],\n",
    "                                    marker_color='red', text=\"sales\"))\n",
    "\n",
    "        fig.update_layout({\n",
    "                       \"xaxis\": {\"title\":\"Date\"},\n",
    "                       \"yaxis\": {\"title\":\"Total Sold\"},\n",
    "                       \"showlegend\": False})\n",
    "        print('Total Sales by date for ', c)\n",
    "        fig.show()\n",
    "demand_time_graph()"
   ]
  },
  {
   "cell_type": "markdown",
   "id": "1f86bb91",
   "metadata": {
    "papermill": {
     "duration": 0.019972,
     "end_time": "2022-10-20T17:59:58.958449",
     "exception": false,
     "start_time": "2022-10-20T17:59:58.938477",
     "status": "completed"
    },
    "tags": []
   },
   "source": [
    "There is some seasonality every 3 months with peaks every 3 months starting from March."
   ]
  },
  {
   "cell_type": "markdown",
   "id": "212fd8f8",
   "metadata": {
    "papermill": {
     "duration": 0.018546,
     "end_time": "2022-10-20T17:59:58.997303",
     "exception": false,
     "start_time": "2022-10-20T17:59:58.978757",
     "status": "completed"
    },
    "tags": []
   },
   "source": [
    "# Health Tracker Product Sales in India"
   ]
  },
  {
   "cell_type": "markdown",
   "id": "41c46340",
   "metadata": {
    "papermill": {
     "duration": 0.019035,
     "end_time": "2022-10-20T17:59:59.035585",
     "exception": false,
     "start_time": "2022-10-20T17:59:59.016550",
     "status": "completed"
    },
    "tags": []
   },
   "source": [
    "## EDA"
   ]
  },
  {
   "cell_type": "code",
   "execution_count": 17,
   "id": "84c1247a",
   "metadata": {
    "execution": {
     "iopub.execute_input": "2022-10-20T17:59:59.075989Z",
     "iopub.status.busy": "2022-10-20T17:59:59.075266Z",
     "iopub.status.idle": "2022-10-20T17:59:59.117455Z",
     "shell.execute_reply": "2022-10-20T17:59:59.116293Z"
    },
    "papermill": {
     "duration": 0.065515,
     "end_time": "2022-10-20T17:59:59.120225",
     "exception": false,
     "start_time": "2022-10-20T17:59:59.054710",
     "status": "completed"
    },
    "tags": []
   },
   "outputs": [
    {
     "data": {
      "text/html": [
       "<div>\n",
       "<style scoped>\n",
       "    .dataframe tbody tr th:only-of-type {\n",
       "        vertical-align: middle;\n",
       "    }\n",
       "\n",
       "    .dataframe tbody tr th {\n",
       "        vertical-align: top;\n",
       "    }\n",
       "\n",
       "    .dataframe thead th {\n",
       "        text-align: right;\n",
       "    }\n",
       "</style>\n",
       "<table border=\"1\" class=\"dataframe\">\n",
       "  <thead>\n",
       "    <tr style=\"text-align: right;\">\n",
       "      <th></th>\n",
       "      <th>Brand Name</th>\n",
       "      <th>Device Type</th>\n",
       "      <th>Model Name</th>\n",
       "      <th>Color</th>\n",
       "      <th>Selling Price</th>\n",
       "      <th>Original Price</th>\n",
       "      <th>Display</th>\n",
       "      <th>Rating (Out of 5)</th>\n",
       "      <th>Strap Material</th>\n",
       "      <th>Average Battery Life (in days)</th>\n",
       "      <th>Reviews</th>\n",
       "    </tr>\n",
       "  </thead>\n",
       "  <tbody>\n",
       "    <tr>\n",
       "      <th>0</th>\n",
       "      <td>Xiaomi</td>\n",
       "      <td>FitnessBand</td>\n",
       "      <td>Smart Band 5</td>\n",
       "      <td>Black</td>\n",
       "      <td>2,499</td>\n",
       "      <td>2,999</td>\n",
       "      <td>AMOLED Display</td>\n",
       "      <td>4.1</td>\n",
       "      <td>Thermoplastic polyurethane</td>\n",
       "      <td>14</td>\n",
       "      <td>NaN</td>\n",
       "    </tr>\n",
       "    <tr>\n",
       "      <th>1</th>\n",
       "      <td>Xiaomi</td>\n",
       "      <td>FitnessBand</td>\n",
       "      <td>Smart Band 4</td>\n",
       "      <td>Black</td>\n",
       "      <td>2,099</td>\n",
       "      <td>2,499</td>\n",
       "      <td>AMOLED Display</td>\n",
       "      <td>4.2</td>\n",
       "      <td>Thermoplastic polyurethane</td>\n",
       "      <td>14</td>\n",
       "      <td>NaN</td>\n",
       "    </tr>\n",
       "    <tr>\n",
       "      <th>2</th>\n",
       "      <td>Xiaomi</td>\n",
       "      <td>FitnessBand</td>\n",
       "      <td>HMSH01GE</td>\n",
       "      <td>Black</td>\n",
       "      <td>1,722</td>\n",
       "      <td>2,099</td>\n",
       "      <td>LCD Display</td>\n",
       "      <td>3.5</td>\n",
       "      <td>Leather</td>\n",
       "      <td>14</td>\n",
       "      <td>NaN</td>\n",
       "    </tr>\n",
       "    <tr>\n",
       "      <th>3</th>\n",
       "      <td>Xiaomi</td>\n",
       "      <td>FitnessBand</td>\n",
       "      <td>Smart Band 5</td>\n",
       "      <td>Black</td>\n",
       "      <td>2,469</td>\n",
       "      <td>2,999</td>\n",
       "      <td>AMOLED Display</td>\n",
       "      <td>4.1</td>\n",
       "      <td>Thermoplastic polyurethane</td>\n",
       "      <td>14</td>\n",
       "      <td>NaN</td>\n",
       "    </tr>\n",
       "    <tr>\n",
       "      <th>4</th>\n",
       "      <td>Xiaomi</td>\n",
       "      <td>FitnessBand</td>\n",
       "      <td>Band 3</td>\n",
       "      <td>Black</td>\n",
       "      <td>1,799</td>\n",
       "      <td>2,199</td>\n",
       "      <td>OLED Display</td>\n",
       "      <td>4.3</td>\n",
       "      <td>Plastic</td>\n",
       "      <td>7</td>\n",
       "      <td>NaN</td>\n",
       "    </tr>\n",
       "  </tbody>\n",
       "</table>\n",
       "</div>"
      ],
      "text/plain": [
       "  Brand Name  Device Type    Model Name  Color Selling Price Original Price  \\\n",
       "0     Xiaomi  FitnessBand  Smart Band 5  Black         2,499          2,999   \n",
       "1     Xiaomi  FitnessBand  Smart Band 4  Black         2,099          2,499   \n",
       "2     Xiaomi  FitnessBand      HMSH01GE  Black         1,722          2,099   \n",
       "3     Xiaomi  FitnessBand  Smart Band 5  Black         2,469          2,999   \n",
       "4     Xiaomi  FitnessBand        Band 3  Black         1,799          2,199   \n",
       "\n",
       "          Display  Rating (Out of 5)              Strap Material  \\\n",
       "0  AMOLED Display                4.1  Thermoplastic polyurethane   \n",
       "1  AMOLED Display                4.2  Thermoplastic polyurethane   \n",
       "2     LCD Display                3.5                     Leather   \n",
       "3  AMOLED Display                4.1  Thermoplastic polyurethane   \n",
       "4    OLED Display                4.3                     Plastic   \n",
       "\n",
       "   Average Battery Life (in days) Reviews  \n",
       "0                              14     NaN  \n",
       "1                              14     NaN  \n",
       "2                              14     NaN  \n",
       "3                              14     NaN  \n",
       "4                               7     NaN  "
      ]
     },
     "execution_count": 17,
     "metadata": {},
     "output_type": "execute_result"
    }
   ],
   "source": [
    "health = pd.read_csv('../input/fitness-trackers-products-ecommerce/Fitness_trackers_updated.csv')\n",
    "health.head()"
   ]
  },
  {
   "cell_type": "code",
   "execution_count": 18,
   "id": "363477ca",
   "metadata": {
    "execution": {
     "iopub.execute_input": "2022-10-20T17:59:59.162940Z",
     "iopub.status.busy": "2022-10-20T17:59:59.161562Z",
     "iopub.status.idle": "2022-10-20T17:59:59.172289Z",
     "shell.execute_reply": "2022-10-20T17:59:59.171005Z"
    },
    "papermill": {
     "duration": 0.035598,
     "end_time": "2022-10-20T17:59:59.175389",
     "exception": false,
     "start_time": "2022-10-20T17:59:59.139791",
     "status": "completed"
    },
    "tags": []
   },
   "outputs": [
    {
     "data": {
      "text/plain": [
       "Brand Name                         object\n",
       "Device Type                        object\n",
       "Model Name                         object\n",
       "Color                              object\n",
       "Selling Price                      object\n",
       "Original Price                     object\n",
       "Display                            object\n",
       "Rating (Out of 5)                 float64\n",
       "Strap Material                     object\n",
       "Average Battery Life (in days)      int64\n",
       "Reviews                            object\n",
       "dtype: object"
      ]
     },
     "execution_count": 18,
     "metadata": {},
     "output_type": "execute_result"
    }
   ],
   "source": [
    "#How rich is our data. Just 610 rows.\n",
    "health.dtypes"
   ]
  },
  {
   "cell_type": "code",
   "execution_count": 19,
   "id": "64d083c5",
   "metadata": {
    "execution": {
     "iopub.execute_input": "2022-10-20T17:59:59.216599Z",
     "iopub.status.busy": "2022-10-20T17:59:59.216064Z",
     "iopub.status.idle": "2022-10-20T17:59:59.233065Z",
     "shell.execute_reply": "2022-10-20T17:59:59.231686Z"
    },
    "papermill": {
     "duration": 0.041247,
     "end_time": "2022-10-20T17:59:59.236170",
     "exception": false,
     "start_time": "2022-10-20T17:59:59.194923",
     "status": "completed"
    },
    "tags": []
   },
   "outputs": [
    {
     "data": {
      "text/plain": [
       "Brand Name                         object\n",
       "Device Type                        object\n",
       "Model Name                         object\n",
       "Color                              object\n",
       "Selling Price                       int64\n",
       "Original Price                      int64\n",
       "Display                            object\n",
       "Rating (Out of 5)                 float64\n",
       "Strap Material                     object\n",
       "Average Battery Life (in days)      int64\n",
       "Reviews                            object\n",
       "dtype: object"
      ]
     },
     "execution_count": 19,
     "metadata": {},
     "output_type": "execute_result"
    }
   ],
   "source": [
    "health[\"Selling Price\"] = health[\"Selling Price\"].str.replace(',','').astype(int)\n",
    "health[\"Original Price\"] = health[\"Original Price\"].str.replace(',','').astype(int)\n",
    "health.dtypes"
   ]
  },
  {
   "cell_type": "code",
   "execution_count": 20,
   "id": "9ca19721",
   "metadata": {
    "execution": {
     "iopub.execute_input": "2022-10-20T17:59:59.279208Z",
     "iopub.status.busy": "2022-10-20T17:59:59.278218Z",
     "iopub.status.idle": "2022-10-20T17:59:59.290041Z",
     "shell.execute_reply": "2022-10-20T17:59:59.288745Z"
    },
    "papermill": {
     "duration": 0.03679,
     "end_time": "2022-10-20T17:59:59.292979",
     "exception": false,
     "start_time": "2022-10-20T17:59:59.256189",
     "status": "completed"
    },
    "tags": []
   },
   "outputs": [
    {
     "data": {
      "text/plain": [
       "Brand Name                          0\n",
       "Device Type                         0\n",
       "Model Name                          0\n",
       "Color                               0\n",
       "Selling Price                       0\n",
       "Original Price                      0\n",
       "Display                             0\n",
       "Rating (Out of 5)                  56\n",
       "Strap Material                      0\n",
       "Average Battery Life (in days)      0\n",
       "Reviews                           496\n",
       "dtype: int64"
      ]
     },
     "execution_count": 20,
     "metadata": {},
     "output_type": "execute_result"
    }
   ],
   "source": [
    "#Data Integrity\n",
    "health.isnull().sum()"
   ]
  },
  {
   "cell_type": "code",
   "execution_count": 21,
   "id": "ab52ea13",
   "metadata": {
    "execution": {
     "iopub.execute_input": "2022-10-20T17:59:59.335832Z",
     "iopub.status.busy": "2022-10-20T17:59:59.335278Z",
     "iopub.status.idle": "2022-10-20T17:59:59.364243Z",
     "shell.execute_reply": "2022-10-20T17:59:59.362851Z"
    },
    "papermill": {
     "duration": 0.053986,
     "end_time": "2022-10-20T17:59:59.367290",
     "exception": false,
     "start_time": "2022-10-20T17:59:59.313304",
     "status": "completed"
    },
    "tags": []
   },
   "outputs": [
    {
     "data": {
      "text/html": [
       "<div>\n",
       "<style scoped>\n",
       "    .dataframe tbody tr th:only-of-type {\n",
       "        vertical-align: middle;\n",
       "    }\n",
       "\n",
       "    .dataframe tbody tr th {\n",
       "        vertical-align: top;\n",
       "    }\n",
       "\n",
       "    .dataframe thead th {\n",
       "        text-align: right;\n",
       "    }\n",
       "</style>\n",
       "<table border=\"1\" class=\"dataframe\">\n",
       "  <thead>\n",
       "    <tr style=\"text-align: right;\">\n",
       "      <th></th>\n",
       "      <th>Selling Price</th>\n",
       "      <th>Original Price</th>\n",
       "      <th>Rating (Out of 5)</th>\n",
       "      <th>Average Battery Life (in days)</th>\n",
       "    </tr>\n",
       "  </thead>\n",
       "  <tbody>\n",
       "    <tr>\n",
       "      <th>count</th>\n",
       "      <td>610.000000</td>\n",
       "      <td>610.000000</td>\n",
       "      <td>554.000000</td>\n",
       "      <td>610.000000</td>\n",
       "    </tr>\n",
       "    <tr>\n",
       "      <th>mean</th>\n",
       "      <td>20706.859016</td>\n",
       "      <td>23977.503279</td>\n",
       "      <td>4.195668</td>\n",
       "      <td>8.926230</td>\n",
       "    </tr>\n",
       "    <tr>\n",
       "      <th>std</th>\n",
       "      <td>19803.690357</td>\n",
       "      <td>20242.634014</td>\n",
       "      <td>0.422576</td>\n",
       "      <td>7.632107</td>\n",
       "    </tr>\n",
       "    <tr>\n",
       "      <th>min</th>\n",
       "      <td>799.000000</td>\n",
       "      <td>1599.000000</td>\n",
       "      <td>2.000000</td>\n",
       "      <td>1.000000</td>\n",
       "    </tr>\n",
       "    <tr>\n",
       "      <th>25%</th>\n",
       "      <td>6995.000000</td>\n",
       "      <td>10249.000000</td>\n",
       "      <td>4.000000</td>\n",
       "      <td>2.000000</td>\n",
       "    </tr>\n",
       "    <tr>\n",
       "      <th>50%</th>\n",
       "      <td>14999.000000</td>\n",
       "      <td>18995.000000</td>\n",
       "      <td>4.200000</td>\n",
       "      <td>7.000000</td>\n",
       "    </tr>\n",
       "    <tr>\n",
       "      <th>75%</th>\n",
       "      <td>27467.500000</td>\n",
       "      <td>31416.750000</td>\n",
       "      <td>4.500000</td>\n",
       "      <td>14.000000</td>\n",
       "    </tr>\n",
       "    <tr>\n",
       "      <th>max</th>\n",
       "      <td>122090.000000</td>\n",
       "      <td>122090.000000</td>\n",
       "      <td>5.000000</td>\n",
       "      <td>45.000000</td>\n",
       "    </tr>\n",
       "  </tbody>\n",
       "</table>\n",
       "</div>"
      ],
      "text/plain": [
       "       Selling Price  Original Price  Rating (Out of 5)  \\\n",
       "count     610.000000      610.000000         554.000000   \n",
       "mean    20706.859016    23977.503279           4.195668   \n",
       "std     19803.690357    20242.634014           0.422576   \n",
       "min       799.000000     1599.000000           2.000000   \n",
       "25%      6995.000000    10249.000000           4.000000   \n",
       "50%     14999.000000    18995.000000           4.200000   \n",
       "75%     27467.500000    31416.750000           4.500000   \n",
       "max    122090.000000   122090.000000           5.000000   \n",
       "\n",
       "       Average Battery Life (in days)  \n",
       "count                      610.000000  \n",
       "mean                         8.926230  \n",
       "std                          7.632107  \n",
       "min                          1.000000  \n",
       "25%                          2.000000  \n",
       "50%                          7.000000  \n",
       "75%                         14.000000  \n",
       "max                         45.000000  "
      ]
     },
     "execution_count": 21,
     "metadata": {},
     "output_type": "execute_result"
    }
   ],
   "source": [
    "health.describe()"
   ]
  },
  {
   "cell_type": "markdown",
   "id": "63c2bc10",
   "metadata": {
    "papermill": {
     "duration": 0.019556,
     "end_time": "2022-10-20T17:59:59.407491",
     "exception": false,
     "start_time": "2022-10-20T17:59:59.387935",
     "status": "completed"
    },
    "tags": []
   },
   "source": [
    "# Business Questions We Want to Ask\n",
    "1. What are the most popular brands/device types?\n",
    "2. What is the relationship between orignal and sale price?\n",
    "3. What is the relationship between change in price and demand?"
   ]
  },
  {
   "cell_type": "code",
   "execution_count": 22,
   "id": "86bc82ed",
   "metadata": {
    "execution": {
     "iopub.execute_input": "2022-10-20T17:59:59.449667Z",
     "iopub.status.busy": "2022-10-20T17:59:59.449092Z",
     "iopub.status.idle": "2022-10-20T17:59:59.459079Z",
     "shell.execute_reply": "2022-10-20T17:59:59.458064Z"
    },
    "jupyter": {
     "source_hidden": true
    },
    "papermill": {
     "duration": 0.034263,
     "end_time": "2022-10-20T17:59:59.461883",
     "exception": false,
     "start_time": "2022-10-20T17:59:59.427620",
     "status": "completed"
    },
    "tags": []
   },
   "outputs": [
    {
     "data": {
      "text/plain": [
       "FOSSIL             133\n",
       "GARMIN             101\n",
       "APPLE               86\n",
       "FitBit              51\n",
       "SAMSUNG             48\n",
       "huami               36\n",
       "Huawei              26\n",
       "Noise               20\n",
       "Honor               20\n",
       "Fire-Boltt          14\n",
       "realme              12\n",
       "Zebronics           12\n",
       "Xiaomi              10\n",
       "Crossbeats           8\n",
       "Fastrack             6\n",
       "boAt                 5\n",
       "Ptron                5\n",
       "GOQii                4\n",
       "OnePlus              3\n",
       "Oppo                 2\n",
       "Noise                2\n",
       "LCARE                2\n",
       "dizo by realme       2\n",
       "LAVA                 1\n",
       "Infinix              1\n",
       "Name: Brand Name, dtype: int64"
      ]
     },
     "execution_count": 22,
     "metadata": {},
     "output_type": "execute_result"
    }
   ],
   "source": [
    "brand = health['Brand Name'].value_counts()\n",
    "brand"
   ]
  },
  {
   "cell_type": "code",
   "execution_count": 23,
   "id": "05d946a6",
   "metadata": {
    "execution": {
     "iopub.execute_input": "2022-10-20T17:59:59.505990Z",
     "iopub.status.busy": "2022-10-20T17:59:59.505216Z",
     "iopub.status.idle": "2022-10-20T18:00:00.737449Z",
     "shell.execute_reply": "2022-10-20T18:00:00.735919Z"
    },
    "papermill": {
     "duration": 1.257696,
     "end_time": "2022-10-20T18:00:00.740979",
     "exception": false,
     "start_time": "2022-10-20T17:59:59.483283",
     "status": "completed"
    },
    "tags": []
   },
   "outputs": [
    {
     "data": {
      "text/html": [
       "<div>                            <div id=\"ad7b67ef-ba7a-4266-99f0-6f682bdc9e9e\" class=\"plotly-graph-div\" style=\"height:525px; width:100%;\"></div>            <script type=\"text/javascript\">                require([\"plotly\"], function(Plotly) {                    window.PLOTLYENV=window.PLOTLYENV || {};                                    if (document.getElementById(\"ad7b67ef-ba7a-4266-99f0-6f682bdc9e9e\")) {                    Plotly.newPlot(                        \"ad7b67ef-ba7a-4266-99f0-6f682bdc9e9e\",                        [{\"domain\":{\"x\":[0.0,1.0],\"y\":[0.0,1.0]},\"hovertemplate\":\"index=%{label}<br>value=%{value}<extra></extra>\",\"labels\":[\"FOSSIL \",\"GARMIN \",\"APPLE\",\"FitBit\",\"SAMSUNG \",\"huami\",\"Huawei\",\"Noise \",\"Honor\",\"Fire-Boltt\",\"realme\",\"Zebronics\",\"Xiaomi\",\"Crossbeats\",\"Fastrack\",\"boAt \",\"Ptron\",\"GOQii\",\"OnePlus \",\"Oppo\",\"Noise\",\"LCARE\",\"dizo by realme \",\"LAVA\",\"Infinix\"],\"legendgroup\":\"\",\"name\":\"\",\"showlegend\":true,\"values\":[133,101,86,51,48,36,26,20,20,14,12,12,10,8,6,5,5,4,3,2,2,2,2,1,1],\"type\":\"pie\"}],                        {\"template\":{\"data\":{\"histogram2dcontour\":[{\"type\":\"histogram2dcontour\",\"colorbar\":{\"outlinewidth\":0,\"ticks\":\"\"},\"colorscale\":[[0.0,\"#0d0887\"],[0.1111111111111111,\"#46039f\"],[0.2222222222222222,\"#7201a8\"],[0.3333333333333333,\"#9c179e\"],[0.4444444444444444,\"#bd3786\"],[0.5555555555555556,\"#d8576b\"],[0.6666666666666666,\"#ed7953\"],[0.7777777777777778,\"#fb9f3a\"],[0.8888888888888888,\"#fdca26\"],[1.0,\"#f0f921\"]]}],\"choropleth\":[{\"type\":\"choropleth\",\"colorbar\":{\"outlinewidth\":0,\"ticks\":\"\"}}],\"histogram2d\":[{\"type\":\"histogram2d\",\"colorbar\":{\"outlinewidth\":0,\"ticks\":\"\"},\"colorscale\":[[0.0,\"#0d0887\"],[0.1111111111111111,\"#46039f\"],[0.2222222222222222,\"#7201a8\"],[0.3333333333333333,\"#9c179e\"],[0.4444444444444444,\"#bd3786\"],[0.5555555555555556,\"#d8576b\"],[0.6666666666666666,\"#ed7953\"],[0.7777777777777778,\"#fb9f3a\"],[0.8888888888888888,\"#fdca26\"],[1.0,\"#f0f921\"]]}],\"heatmap\":[{\"type\":\"heatmap\",\"colorbar\":{\"outlinewidth\":0,\"ticks\":\"\"},\"colorscale\":[[0.0,\"#0d0887\"],[0.1111111111111111,\"#46039f\"],[0.2222222222222222,\"#7201a8\"],[0.3333333333333333,\"#9c179e\"],[0.4444444444444444,\"#bd3786\"],[0.5555555555555556,\"#d8576b\"],[0.6666666666666666,\"#ed7953\"],[0.7777777777777778,\"#fb9f3a\"],[0.8888888888888888,\"#fdca26\"],[1.0,\"#f0f921\"]]}],\"heatmapgl\":[{\"type\":\"heatmapgl\",\"colorbar\":{\"outlinewidth\":0,\"ticks\":\"\"},\"colorscale\":[[0.0,\"#0d0887\"],[0.1111111111111111,\"#46039f\"],[0.2222222222222222,\"#7201a8\"],[0.3333333333333333,\"#9c179e\"],[0.4444444444444444,\"#bd3786\"],[0.5555555555555556,\"#d8576b\"],[0.6666666666666666,\"#ed7953\"],[0.7777777777777778,\"#fb9f3a\"],[0.8888888888888888,\"#fdca26\"],[1.0,\"#f0f921\"]]}],\"contourcarpet\":[{\"type\":\"contourcarpet\",\"colorbar\":{\"outlinewidth\":0,\"ticks\":\"\"}}],\"contour\":[{\"type\":\"contour\",\"colorbar\":{\"outlinewidth\":0,\"ticks\":\"\"},\"colorscale\":[[0.0,\"#0d0887\"],[0.1111111111111111,\"#46039f\"],[0.2222222222222222,\"#7201a8\"],[0.3333333333333333,\"#9c179e\"],[0.4444444444444444,\"#bd3786\"],[0.5555555555555556,\"#d8576b\"],[0.6666666666666666,\"#ed7953\"],[0.7777777777777778,\"#fb9f3a\"],[0.8888888888888888,\"#fdca26\"],[1.0,\"#f0f921\"]]}],\"surface\":[{\"type\":\"surface\",\"colorbar\":{\"outlinewidth\":0,\"ticks\":\"\"},\"colorscale\":[[0.0,\"#0d0887\"],[0.1111111111111111,\"#46039f\"],[0.2222222222222222,\"#7201a8\"],[0.3333333333333333,\"#9c179e\"],[0.4444444444444444,\"#bd3786\"],[0.5555555555555556,\"#d8576b\"],[0.6666666666666666,\"#ed7953\"],[0.7777777777777778,\"#fb9f3a\"],[0.8888888888888888,\"#fdca26\"],[1.0,\"#f0f921\"]]}],\"mesh3d\":[{\"type\":\"mesh3d\",\"colorbar\":{\"outlinewidth\":0,\"ticks\":\"\"}}],\"scatter\":[{\"fillpattern\":{\"fillmode\":\"overlay\",\"size\":10,\"solidity\":0.2},\"type\":\"scatter\"}],\"parcoords\":[{\"type\":\"parcoords\",\"line\":{\"colorbar\":{\"outlinewidth\":0,\"ticks\":\"\"}}}],\"scatterpolargl\":[{\"type\":\"scatterpolargl\",\"marker\":{\"colorbar\":{\"outlinewidth\":0,\"ticks\":\"\"}}}],\"bar\":[{\"error_x\":{\"color\":\"#2a3f5f\"},\"error_y\":{\"color\":\"#2a3f5f\"},\"marker\":{\"line\":{\"color\":\"#E5ECF6\",\"width\":0.5},\"pattern\":{\"fillmode\":\"overlay\",\"size\":10,\"solidity\":0.2}},\"type\":\"bar\"}],\"scattergeo\":[{\"type\":\"scattergeo\",\"marker\":{\"colorbar\":{\"outlinewidth\":0,\"ticks\":\"\"}}}],\"scatterpolar\":[{\"type\":\"scatterpolar\",\"marker\":{\"colorbar\":{\"outlinewidth\":0,\"ticks\":\"\"}}}],\"histogram\":[{\"marker\":{\"pattern\":{\"fillmode\":\"overlay\",\"size\":10,\"solidity\":0.2}},\"type\":\"histogram\"}],\"scattergl\":[{\"type\":\"scattergl\",\"marker\":{\"colorbar\":{\"outlinewidth\":0,\"ticks\":\"\"}}}],\"scatter3d\":[{\"type\":\"scatter3d\",\"line\":{\"colorbar\":{\"outlinewidth\":0,\"ticks\":\"\"}},\"marker\":{\"colorbar\":{\"outlinewidth\":0,\"ticks\":\"\"}}}],\"scattermapbox\":[{\"type\":\"scattermapbox\",\"marker\":{\"colorbar\":{\"outlinewidth\":0,\"ticks\":\"\"}}}],\"scatterternary\":[{\"type\":\"scatterternary\",\"marker\":{\"colorbar\":{\"outlinewidth\":0,\"ticks\":\"\"}}}],\"scattercarpet\":[{\"type\":\"scattercarpet\",\"marker\":{\"colorbar\":{\"outlinewidth\":0,\"ticks\":\"\"}}}],\"carpet\":[{\"aaxis\":{\"endlinecolor\":\"#2a3f5f\",\"gridcolor\":\"white\",\"linecolor\":\"white\",\"minorgridcolor\":\"white\",\"startlinecolor\":\"#2a3f5f\"},\"baxis\":{\"endlinecolor\":\"#2a3f5f\",\"gridcolor\":\"white\",\"linecolor\":\"white\",\"minorgridcolor\":\"white\",\"startlinecolor\":\"#2a3f5f\"},\"type\":\"carpet\"}],\"table\":[{\"cells\":{\"fill\":{\"color\":\"#EBF0F8\"},\"line\":{\"color\":\"white\"}},\"header\":{\"fill\":{\"color\":\"#C8D4E3\"},\"line\":{\"color\":\"white\"}},\"type\":\"table\"}],\"barpolar\":[{\"marker\":{\"line\":{\"color\":\"#E5ECF6\",\"width\":0.5},\"pattern\":{\"fillmode\":\"overlay\",\"size\":10,\"solidity\":0.2}},\"type\":\"barpolar\"}],\"pie\":[{\"automargin\":true,\"type\":\"pie\"}]},\"layout\":{\"autotypenumbers\":\"strict\",\"colorway\":[\"#636efa\",\"#EF553B\",\"#00cc96\",\"#ab63fa\",\"#FFA15A\",\"#19d3f3\",\"#FF6692\",\"#B6E880\",\"#FF97FF\",\"#FECB52\"],\"font\":{\"color\":\"#2a3f5f\"},\"hovermode\":\"closest\",\"hoverlabel\":{\"align\":\"left\"},\"paper_bgcolor\":\"white\",\"plot_bgcolor\":\"#E5ECF6\",\"polar\":{\"bgcolor\":\"#E5ECF6\",\"angularaxis\":{\"gridcolor\":\"white\",\"linecolor\":\"white\",\"ticks\":\"\"},\"radialaxis\":{\"gridcolor\":\"white\",\"linecolor\":\"white\",\"ticks\":\"\"}},\"ternary\":{\"bgcolor\":\"#E5ECF6\",\"aaxis\":{\"gridcolor\":\"white\",\"linecolor\":\"white\",\"ticks\":\"\"},\"baxis\":{\"gridcolor\":\"white\",\"linecolor\":\"white\",\"ticks\":\"\"},\"caxis\":{\"gridcolor\":\"white\",\"linecolor\":\"white\",\"ticks\":\"\"}},\"coloraxis\":{\"colorbar\":{\"outlinewidth\":0,\"ticks\":\"\"}},\"colorscale\":{\"sequential\":[[0.0,\"#0d0887\"],[0.1111111111111111,\"#46039f\"],[0.2222222222222222,\"#7201a8\"],[0.3333333333333333,\"#9c179e\"],[0.4444444444444444,\"#bd3786\"],[0.5555555555555556,\"#d8576b\"],[0.6666666666666666,\"#ed7953\"],[0.7777777777777778,\"#fb9f3a\"],[0.8888888888888888,\"#fdca26\"],[1.0,\"#f0f921\"]],\"sequentialminus\":[[0.0,\"#0d0887\"],[0.1111111111111111,\"#46039f\"],[0.2222222222222222,\"#7201a8\"],[0.3333333333333333,\"#9c179e\"],[0.4444444444444444,\"#bd3786\"],[0.5555555555555556,\"#d8576b\"],[0.6666666666666666,\"#ed7953\"],[0.7777777777777778,\"#fb9f3a\"],[0.8888888888888888,\"#fdca26\"],[1.0,\"#f0f921\"]],\"diverging\":[[0,\"#8e0152\"],[0.1,\"#c51b7d\"],[0.2,\"#de77ae\"],[0.3,\"#f1b6da\"],[0.4,\"#fde0ef\"],[0.5,\"#f7f7f7\"],[0.6,\"#e6f5d0\"],[0.7,\"#b8e186\"],[0.8,\"#7fbc41\"],[0.9,\"#4d9221\"],[1,\"#276419\"]]},\"xaxis\":{\"gridcolor\":\"white\",\"linecolor\":\"white\",\"ticks\":\"\",\"title\":{\"standoff\":15},\"zerolinecolor\":\"white\",\"automargin\":true,\"zerolinewidth\":2},\"yaxis\":{\"gridcolor\":\"white\",\"linecolor\":\"white\",\"ticks\":\"\",\"title\":{\"standoff\":15},\"zerolinecolor\":\"white\",\"automargin\":true,\"zerolinewidth\":2},\"scene\":{\"xaxis\":{\"backgroundcolor\":\"#E5ECF6\",\"gridcolor\":\"white\",\"linecolor\":\"white\",\"showbackground\":true,\"ticks\":\"\",\"zerolinecolor\":\"white\",\"gridwidth\":2},\"yaxis\":{\"backgroundcolor\":\"#E5ECF6\",\"gridcolor\":\"white\",\"linecolor\":\"white\",\"showbackground\":true,\"ticks\":\"\",\"zerolinecolor\":\"white\",\"gridwidth\":2},\"zaxis\":{\"backgroundcolor\":\"#E5ECF6\",\"gridcolor\":\"white\",\"linecolor\":\"white\",\"showbackground\":true,\"ticks\":\"\",\"zerolinecolor\":\"white\",\"gridwidth\":2}},\"shapedefaults\":{\"line\":{\"color\":\"#2a3f5f\"}},\"annotationdefaults\":{\"arrowcolor\":\"#2a3f5f\",\"arrowhead\":0,\"arrowwidth\":1},\"geo\":{\"bgcolor\":\"white\",\"landcolor\":\"#E5ECF6\",\"subunitcolor\":\"white\",\"showland\":true,\"showlakes\":true,\"lakecolor\":\"white\"},\"title\":{\"x\":0.05},\"mapbox\":{\"style\":\"light\"}}},\"legend\":{\"tracegroupgap\":0},\"margin\":{\"t\":60}},                        {\"responsive\": true}                    ).then(function(){\n",
       "                            \n",
       "var gd = document.getElementById('ad7b67ef-ba7a-4266-99f0-6f682bdc9e9e');\n",
       "var x = new MutationObserver(function (mutations, observer) {{\n",
       "        var display = window.getComputedStyle(gd).display;\n",
       "        if (!display || display === 'none') {{\n",
       "            console.log([gd, 'removed!']);\n",
       "            Plotly.purge(gd);\n",
       "            observer.disconnect();\n",
       "        }}\n",
       "}});\n",
       "\n",
       "// Listen for the removal of the full notebook cells\n",
       "var notebookContainer = gd.closest('#notebook-container');\n",
       "if (notebookContainer) {{\n",
       "    x.observe(notebookContainer, {childList: true});\n",
       "}}\n",
       "\n",
       "// Listen for the clearing of the current output cell\n",
       "var outputEl = gd.closest('.output');\n",
       "if (outputEl) {{\n",
       "    x.observe(outputEl, {childList: true});\n",
       "}}\n",
       "\n",
       "                        })                };                });            </script>        </div>"
      ]
     },
     "metadata": {},
     "output_type": "display_data"
    }
   ],
   "source": [
    "fig = px.pie(brand, values=brand.values, names=brand.index)\n",
    "fig.show()"
   ]
  },
  {
   "cell_type": "code",
   "execution_count": 24,
   "id": "0ba74eec",
   "metadata": {
    "execution": {
     "iopub.execute_input": "2022-10-20T18:00:00.789877Z",
     "iopub.status.busy": "2022-10-20T18:00:00.789027Z",
     "iopub.status.idle": "2022-10-20T18:00:00.800579Z",
     "shell.execute_reply": "2022-10-20T18:00:00.799197Z"
    },
    "jupyter": {
     "source_hidden": true
    },
    "papermill": {
     "duration": 0.040384,
     "end_time": "2022-10-20T18:00:00.803366",
     "exception": false,
     "start_time": "2022-10-20T18:00:00.762982",
     "status": "completed"
    },
    "tags": []
   },
   "outputs": [
    {
     "data": {
      "text/plain": [
       "Smartwatch     533\n",
       "FitnessBand     77\n",
       "Name: Device Type, dtype: int64"
      ]
     },
     "execution_count": 24,
     "metadata": {},
     "output_type": "execute_result"
    }
   ],
   "source": [
    "type = health['Device Type'].value_counts()\n",
    "type"
   ]
  },
  {
   "cell_type": "code",
   "execution_count": 25,
   "id": "0b828159",
   "metadata": {
    "execution": {
     "iopub.execute_input": "2022-10-20T18:00:00.851315Z",
     "iopub.status.busy": "2022-10-20T18:00:00.850787Z",
     "iopub.status.idle": "2022-10-20T18:00:00.907841Z",
     "shell.execute_reply": "2022-10-20T18:00:00.906021Z"
    },
    "papermill": {
     "duration": 0.085001,
     "end_time": "2022-10-20T18:00:00.910572",
     "exception": false,
     "start_time": "2022-10-20T18:00:00.825571",
     "status": "completed"
    },
    "tags": []
   },
   "outputs": [
    {
     "data": {
      "text/html": [
       "<div>                            <div id=\"a00e175d-c420-4612-9f01-380c59fb7099\" class=\"plotly-graph-div\" style=\"height:525px; width:100%;\"></div>            <script type=\"text/javascript\">                require([\"plotly\"], function(Plotly) {                    window.PLOTLYENV=window.PLOTLYENV || {};                                    if (document.getElementById(\"a00e175d-c420-4612-9f01-380c59fb7099\")) {                    Plotly.newPlot(                        \"a00e175d-c420-4612-9f01-380c59fb7099\",                        [{\"domain\":{\"x\":[0.0,1.0],\"y\":[0.0,1.0]},\"hovertemplate\":\"index=%{label}<br>value=%{value}<extra></extra>\",\"labels\":[\"Smartwatch\",\"FitnessBand\"],\"legendgroup\":\"\",\"name\":\"\",\"showlegend\":true,\"values\":[533,77],\"type\":\"pie\"}],                        {\"template\":{\"data\":{\"histogram2dcontour\":[{\"type\":\"histogram2dcontour\",\"colorbar\":{\"outlinewidth\":0,\"ticks\":\"\"},\"colorscale\":[[0.0,\"#0d0887\"],[0.1111111111111111,\"#46039f\"],[0.2222222222222222,\"#7201a8\"],[0.3333333333333333,\"#9c179e\"],[0.4444444444444444,\"#bd3786\"],[0.5555555555555556,\"#d8576b\"],[0.6666666666666666,\"#ed7953\"],[0.7777777777777778,\"#fb9f3a\"],[0.8888888888888888,\"#fdca26\"],[1.0,\"#f0f921\"]]}],\"choropleth\":[{\"type\":\"choropleth\",\"colorbar\":{\"outlinewidth\":0,\"ticks\":\"\"}}],\"histogram2d\":[{\"type\":\"histogram2d\",\"colorbar\":{\"outlinewidth\":0,\"ticks\":\"\"},\"colorscale\":[[0.0,\"#0d0887\"],[0.1111111111111111,\"#46039f\"],[0.2222222222222222,\"#7201a8\"],[0.3333333333333333,\"#9c179e\"],[0.4444444444444444,\"#bd3786\"],[0.5555555555555556,\"#d8576b\"],[0.6666666666666666,\"#ed7953\"],[0.7777777777777778,\"#fb9f3a\"],[0.8888888888888888,\"#fdca26\"],[1.0,\"#f0f921\"]]}],\"heatmap\":[{\"type\":\"heatmap\",\"colorbar\":{\"outlinewidth\":0,\"ticks\":\"\"},\"colorscale\":[[0.0,\"#0d0887\"],[0.1111111111111111,\"#46039f\"],[0.2222222222222222,\"#7201a8\"],[0.3333333333333333,\"#9c179e\"],[0.4444444444444444,\"#bd3786\"],[0.5555555555555556,\"#d8576b\"],[0.6666666666666666,\"#ed7953\"],[0.7777777777777778,\"#fb9f3a\"],[0.8888888888888888,\"#fdca26\"],[1.0,\"#f0f921\"]]}],\"heatmapgl\":[{\"type\":\"heatmapgl\",\"colorbar\":{\"outlinewidth\":0,\"ticks\":\"\"},\"colorscale\":[[0.0,\"#0d0887\"],[0.1111111111111111,\"#46039f\"],[0.2222222222222222,\"#7201a8\"],[0.3333333333333333,\"#9c179e\"],[0.4444444444444444,\"#bd3786\"],[0.5555555555555556,\"#d8576b\"],[0.6666666666666666,\"#ed7953\"],[0.7777777777777778,\"#fb9f3a\"],[0.8888888888888888,\"#fdca26\"],[1.0,\"#f0f921\"]]}],\"contourcarpet\":[{\"type\":\"contourcarpet\",\"colorbar\":{\"outlinewidth\":0,\"ticks\":\"\"}}],\"contour\":[{\"type\":\"contour\",\"colorbar\":{\"outlinewidth\":0,\"ticks\":\"\"},\"colorscale\":[[0.0,\"#0d0887\"],[0.1111111111111111,\"#46039f\"],[0.2222222222222222,\"#7201a8\"],[0.3333333333333333,\"#9c179e\"],[0.4444444444444444,\"#bd3786\"],[0.5555555555555556,\"#d8576b\"],[0.6666666666666666,\"#ed7953\"],[0.7777777777777778,\"#fb9f3a\"],[0.8888888888888888,\"#fdca26\"],[1.0,\"#f0f921\"]]}],\"surface\":[{\"type\":\"surface\",\"colorbar\":{\"outlinewidth\":0,\"ticks\":\"\"},\"colorscale\":[[0.0,\"#0d0887\"],[0.1111111111111111,\"#46039f\"],[0.2222222222222222,\"#7201a8\"],[0.3333333333333333,\"#9c179e\"],[0.4444444444444444,\"#bd3786\"],[0.5555555555555556,\"#d8576b\"],[0.6666666666666666,\"#ed7953\"],[0.7777777777777778,\"#fb9f3a\"],[0.8888888888888888,\"#fdca26\"],[1.0,\"#f0f921\"]]}],\"mesh3d\":[{\"type\":\"mesh3d\",\"colorbar\":{\"outlinewidth\":0,\"ticks\":\"\"}}],\"scatter\":[{\"fillpattern\":{\"fillmode\":\"overlay\",\"size\":10,\"solidity\":0.2},\"type\":\"scatter\"}],\"parcoords\":[{\"type\":\"parcoords\",\"line\":{\"colorbar\":{\"outlinewidth\":0,\"ticks\":\"\"}}}],\"scatterpolargl\":[{\"type\":\"scatterpolargl\",\"marker\":{\"colorbar\":{\"outlinewidth\":0,\"ticks\":\"\"}}}],\"bar\":[{\"error_x\":{\"color\":\"#2a3f5f\"},\"error_y\":{\"color\":\"#2a3f5f\"},\"marker\":{\"line\":{\"color\":\"#E5ECF6\",\"width\":0.5},\"pattern\":{\"fillmode\":\"overlay\",\"size\":10,\"solidity\":0.2}},\"type\":\"bar\"}],\"scattergeo\":[{\"type\":\"scattergeo\",\"marker\":{\"colorbar\":{\"outlinewidth\":0,\"ticks\":\"\"}}}],\"scatterpolar\":[{\"type\":\"scatterpolar\",\"marker\":{\"colorbar\":{\"outlinewidth\":0,\"ticks\":\"\"}}}],\"histogram\":[{\"marker\":{\"pattern\":{\"fillmode\":\"overlay\",\"size\":10,\"solidity\":0.2}},\"type\":\"histogram\"}],\"scattergl\":[{\"type\":\"scattergl\",\"marker\":{\"colorbar\":{\"outlinewidth\":0,\"ticks\":\"\"}}}],\"scatter3d\":[{\"type\":\"scatter3d\",\"line\":{\"colorbar\":{\"outlinewidth\":0,\"ticks\":\"\"}},\"marker\":{\"colorbar\":{\"outlinewidth\":0,\"ticks\":\"\"}}}],\"scattermapbox\":[{\"type\":\"scattermapbox\",\"marker\":{\"colorbar\":{\"outlinewidth\":0,\"ticks\":\"\"}}}],\"scatterternary\":[{\"type\":\"scatterternary\",\"marker\":{\"colorbar\":{\"outlinewidth\":0,\"ticks\":\"\"}}}],\"scattercarpet\":[{\"type\":\"scattercarpet\",\"marker\":{\"colorbar\":{\"outlinewidth\":0,\"ticks\":\"\"}}}],\"carpet\":[{\"aaxis\":{\"endlinecolor\":\"#2a3f5f\",\"gridcolor\":\"white\",\"linecolor\":\"white\",\"minorgridcolor\":\"white\",\"startlinecolor\":\"#2a3f5f\"},\"baxis\":{\"endlinecolor\":\"#2a3f5f\",\"gridcolor\":\"white\",\"linecolor\":\"white\",\"minorgridcolor\":\"white\",\"startlinecolor\":\"#2a3f5f\"},\"type\":\"carpet\"}],\"table\":[{\"cells\":{\"fill\":{\"color\":\"#EBF0F8\"},\"line\":{\"color\":\"white\"}},\"header\":{\"fill\":{\"color\":\"#C8D4E3\"},\"line\":{\"color\":\"white\"}},\"type\":\"table\"}],\"barpolar\":[{\"marker\":{\"line\":{\"color\":\"#E5ECF6\",\"width\":0.5},\"pattern\":{\"fillmode\":\"overlay\",\"size\":10,\"solidity\":0.2}},\"type\":\"barpolar\"}],\"pie\":[{\"automargin\":true,\"type\":\"pie\"}]},\"layout\":{\"autotypenumbers\":\"strict\",\"colorway\":[\"#636efa\",\"#EF553B\",\"#00cc96\",\"#ab63fa\",\"#FFA15A\",\"#19d3f3\",\"#FF6692\",\"#B6E880\",\"#FF97FF\",\"#FECB52\"],\"font\":{\"color\":\"#2a3f5f\"},\"hovermode\":\"closest\",\"hoverlabel\":{\"align\":\"left\"},\"paper_bgcolor\":\"white\",\"plot_bgcolor\":\"#E5ECF6\",\"polar\":{\"bgcolor\":\"#E5ECF6\",\"angularaxis\":{\"gridcolor\":\"white\",\"linecolor\":\"white\",\"ticks\":\"\"},\"radialaxis\":{\"gridcolor\":\"white\",\"linecolor\":\"white\",\"ticks\":\"\"}},\"ternary\":{\"bgcolor\":\"#E5ECF6\",\"aaxis\":{\"gridcolor\":\"white\",\"linecolor\":\"white\",\"ticks\":\"\"},\"baxis\":{\"gridcolor\":\"white\",\"linecolor\":\"white\",\"ticks\":\"\"},\"caxis\":{\"gridcolor\":\"white\",\"linecolor\":\"white\",\"ticks\":\"\"}},\"coloraxis\":{\"colorbar\":{\"outlinewidth\":0,\"ticks\":\"\"}},\"colorscale\":{\"sequential\":[[0.0,\"#0d0887\"],[0.1111111111111111,\"#46039f\"],[0.2222222222222222,\"#7201a8\"],[0.3333333333333333,\"#9c179e\"],[0.4444444444444444,\"#bd3786\"],[0.5555555555555556,\"#d8576b\"],[0.6666666666666666,\"#ed7953\"],[0.7777777777777778,\"#fb9f3a\"],[0.8888888888888888,\"#fdca26\"],[1.0,\"#f0f921\"]],\"sequentialminus\":[[0.0,\"#0d0887\"],[0.1111111111111111,\"#46039f\"],[0.2222222222222222,\"#7201a8\"],[0.3333333333333333,\"#9c179e\"],[0.4444444444444444,\"#bd3786\"],[0.5555555555555556,\"#d8576b\"],[0.6666666666666666,\"#ed7953\"],[0.7777777777777778,\"#fb9f3a\"],[0.8888888888888888,\"#fdca26\"],[1.0,\"#f0f921\"]],\"diverging\":[[0,\"#8e0152\"],[0.1,\"#c51b7d\"],[0.2,\"#de77ae\"],[0.3,\"#f1b6da\"],[0.4,\"#fde0ef\"],[0.5,\"#f7f7f7\"],[0.6,\"#e6f5d0\"],[0.7,\"#b8e186\"],[0.8,\"#7fbc41\"],[0.9,\"#4d9221\"],[1,\"#276419\"]]},\"xaxis\":{\"gridcolor\":\"white\",\"linecolor\":\"white\",\"ticks\":\"\",\"title\":{\"standoff\":15},\"zerolinecolor\":\"white\",\"automargin\":true,\"zerolinewidth\":2},\"yaxis\":{\"gridcolor\":\"white\",\"linecolor\":\"white\",\"ticks\":\"\",\"title\":{\"standoff\":15},\"zerolinecolor\":\"white\",\"automargin\":true,\"zerolinewidth\":2},\"scene\":{\"xaxis\":{\"backgroundcolor\":\"#E5ECF6\",\"gridcolor\":\"white\",\"linecolor\":\"white\",\"showbackground\":true,\"ticks\":\"\",\"zerolinecolor\":\"white\",\"gridwidth\":2},\"yaxis\":{\"backgroundcolor\":\"#E5ECF6\",\"gridcolor\":\"white\",\"linecolor\":\"white\",\"showbackground\":true,\"ticks\":\"\",\"zerolinecolor\":\"white\",\"gridwidth\":2},\"zaxis\":{\"backgroundcolor\":\"#E5ECF6\",\"gridcolor\":\"white\",\"linecolor\":\"white\",\"showbackground\":true,\"ticks\":\"\",\"zerolinecolor\":\"white\",\"gridwidth\":2}},\"shapedefaults\":{\"line\":{\"color\":\"#2a3f5f\"}},\"annotationdefaults\":{\"arrowcolor\":\"#2a3f5f\",\"arrowhead\":0,\"arrowwidth\":1},\"geo\":{\"bgcolor\":\"white\",\"landcolor\":\"#E5ECF6\",\"subunitcolor\":\"white\",\"showland\":true,\"showlakes\":true,\"lakecolor\":\"white\"},\"title\":{\"x\":0.05},\"mapbox\":{\"style\":\"light\"}}},\"legend\":{\"tracegroupgap\":0},\"margin\":{\"t\":60}},                        {\"responsive\": true}                    ).then(function(){\n",
       "                            \n",
       "var gd = document.getElementById('a00e175d-c420-4612-9f01-380c59fb7099');\n",
       "var x = new MutationObserver(function (mutations, observer) {{\n",
       "        var display = window.getComputedStyle(gd).display;\n",
       "        if (!display || display === 'none') {{\n",
       "            console.log([gd, 'removed!']);\n",
       "            Plotly.purge(gd);\n",
       "            observer.disconnect();\n",
       "        }}\n",
       "}});\n",
       "\n",
       "// Listen for the removal of the full notebook cells\n",
       "var notebookContainer = gd.closest('#notebook-container');\n",
       "if (notebookContainer) {{\n",
       "    x.observe(notebookContainer, {childList: true});\n",
       "}}\n",
       "\n",
       "// Listen for the clearing of the current output cell\n",
       "var outputEl = gd.closest('.output');\n",
       "if (outputEl) {{\n",
       "    x.observe(outputEl, {childList: true});\n",
       "}}\n",
       "\n",
       "                        })                };                });            </script>        </div>"
      ]
     },
     "metadata": {},
     "output_type": "display_data"
    }
   ],
   "source": [
    "fig = px.pie(type, values=type.values, names=type.index)\n",
    "fig.show()"
   ]
  },
  {
   "cell_type": "code",
   "execution_count": 26,
   "id": "07e3faaa",
   "metadata": {
    "execution": {
     "iopub.execute_input": "2022-10-20T18:00:00.958637Z",
     "iopub.status.busy": "2022-10-20T18:00:00.957841Z",
     "iopub.status.idle": "2022-10-20T18:00:00.977339Z",
     "shell.execute_reply": "2022-10-20T18:00:00.975821Z"
    },
    "papermill": {
     "duration": 0.049519,
     "end_time": "2022-10-20T18:00:00.981140",
     "exception": false,
     "start_time": "2022-10-20T18:00:00.931621",
     "status": "completed"
    },
    "tags": []
   },
   "outputs": [
    {
     "data": {
      "text/html": [
       "<div>\n",
       "<style scoped>\n",
       "    .dataframe tbody tr th:only-of-type {\n",
       "        vertical-align: middle;\n",
       "    }\n",
       "\n",
       "    .dataframe tbody tr th {\n",
       "        vertical-align: top;\n",
       "    }\n",
       "\n",
       "    .dataframe thead th {\n",
       "        text-align: right;\n",
       "    }\n",
       "</style>\n",
       "<table border=\"1\" class=\"dataframe\">\n",
       "  <thead>\n",
       "    <tr style=\"text-align: right;\">\n",
       "      <th></th>\n",
       "      <th>Brand Name</th>\n",
       "      <th>Device Type</th>\n",
       "      <th>Model Name</th>\n",
       "      <th>Color</th>\n",
       "      <th>Selling Price</th>\n",
       "      <th>Original Price</th>\n",
       "      <th>Display</th>\n",
       "      <th>Rating (Out of 5)</th>\n",
       "      <th>Strap Material</th>\n",
       "      <th>Average Battery Life (in days)</th>\n",
       "      <th>Reviews</th>\n",
       "    </tr>\n",
       "  </thead>\n",
       "  <tbody>\n",
       "    <tr>\n",
       "      <th>0</th>\n",
       "      <td>Xiaomi</td>\n",
       "      <td>FitnessBand</td>\n",
       "      <td>Smart Band 5</td>\n",
       "      <td>Black</td>\n",
       "      <td>2499</td>\n",
       "      <td>2999</td>\n",
       "      <td>AMOLED Display</td>\n",
       "      <td>4.1</td>\n",
       "      <td>Thermoplastic polyurethane</td>\n",
       "      <td>14</td>\n",
       "      <td>NaN</td>\n",
       "    </tr>\n",
       "    <tr>\n",
       "      <th>1</th>\n",
       "      <td>Xiaomi</td>\n",
       "      <td>FitnessBand</td>\n",
       "      <td>Smart Band 4</td>\n",
       "      <td>Black</td>\n",
       "      <td>2099</td>\n",
       "      <td>2499</td>\n",
       "      <td>AMOLED Display</td>\n",
       "      <td>4.2</td>\n",
       "      <td>Thermoplastic polyurethane</td>\n",
       "      <td>14</td>\n",
       "      <td>NaN</td>\n",
       "    </tr>\n",
       "    <tr>\n",
       "      <th>2</th>\n",
       "      <td>Xiaomi</td>\n",
       "      <td>FitnessBand</td>\n",
       "      <td>HMSH01GE</td>\n",
       "      <td>Black</td>\n",
       "      <td>1722</td>\n",
       "      <td>2099</td>\n",
       "      <td>LCD Display</td>\n",
       "      <td>3.5</td>\n",
       "      <td>Leather</td>\n",
       "      <td>14</td>\n",
       "      <td>NaN</td>\n",
       "    </tr>\n",
       "    <tr>\n",
       "      <th>3</th>\n",
       "      <td>Xiaomi</td>\n",
       "      <td>FitnessBand</td>\n",
       "      <td>Smart Band 5</td>\n",
       "      <td>Black</td>\n",
       "      <td>2469</td>\n",
       "      <td>2999</td>\n",
       "      <td>AMOLED Display</td>\n",
       "      <td>4.1</td>\n",
       "      <td>Thermoplastic polyurethane</td>\n",
       "      <td>14</td>\n",
       "      <td>NaN</td>\n",
       "    </tr>\n",
       "    <tr>\n",
       "      <th>4</th>\n",
       "      <td>Xiaomi</td>\n",
       "      <td>FitnessBand</td>\n",
       "      <td>Band 3</td>\n",
       "      <td>Black</td>\n",
       "      <td>1799</td>\n",
       "      <td>2199</td>\n",
       "      <td>OLED Display</td>\n",
       "      <td>4.3</td>\n",
       "      <td>Plastic</td>\n",
       "      <td>7</td>\n",
       "      <td>NaN</td>\n",
       "    </tr>\n",
       "  </tbody>\n",
       "</table>\n",
       "</div>"
      ],
      "text/plain": [
       "  Brand Name  Device Type    Model Name  Color  Selling Price  Original Price  \\\n",
       "0     Xiaomi  FitnessBand  Smart Band 5  Black           2499            2999   \n",
       "1     Xiaomi  FitnessBand  Smart Band 4  Black           2099            2499   \n",
       "2     Xiaomi  FitnessBand      HMSH01GE  Black           1722            2099   \n",
       "3     Xiaomi  FitnessBand  Smart Band 5  Black           2469            2999   \n",
       "4     Xiaomi  FitnessBand        Band 3  Black           1799            2199   \n",
       "\n",
       "          Display  Rating (Out of 5)              Strap Material  \\\n",
       "0  AMOLED Display                4.1  Thermoplastic polyurethane   \n",
       "1  AMOLED Display                4.2  Thermoplastic polyurethane   \n",
       "2     LCD Display                3.5                     Leather   \n",
       "3  AMOLED Display                4.1  Thermoplastic polyurethane   \n",
       "4    OLED Display                4.3                     Plastic   \n",
       "\n",
       "   Average Battery Life (in days) Reviews  \n",
       "0                              14     NaN  \n",
       "1                              14     NaN  \n",
       "2                              14     NaN  \n",
       "3                              14     NaN  \n",
       "4                               7     NaN  "
      ]
     },
     "execution_count": 26,
     "metadata": {},
     "output_type": "execute_result"
    }
   ],
   "source": [
    "health.head()"
   ]
  },
  {
   "cell_type": "code",
   "execution_count": 27,
   "id": "e138d715",
   "metadata": {
    "execution": {
     "iopub.execute_input": "2022-10-20T18:00:01.029987Z",
     "iopub.status.busy": "2022-10-20T18:00:01.029125Z",
     "iopub.status.idle": "2022-10-20T18:00:01.052989Z",
     "shell.execute_reply": "2022-10-20T18:00:01.051626Z"
    },
    "papermill": {
     "duration": 0.053548,
     "end_time": "2022-10-20T18:00:01.056741",
     "exception": false,
     "start_time": "2022-10-20T18:00:01.003193",
     "status": "completed"
    },
    "tags": []
   },
   "outputs": [
    {
     "data": {
      "text/html": [
       "<div>\n",
       "<style scoped>\n",
       "    .dataframe tbody tr th:only-of-type {\n",
       "        vertical-align: middle;\n",
       "    }\n",
       "\n",
       "    .dataframe tbody tr th {\n",
       "        vertical-align: top;\n",
       "    }\n",
       "\n",
       "    .dataframe thead th {\n",
       "        text-align: right;\n",
       "    }\n",
       "</style>\n",
       "<table border=\"1\" class=\"dataframe\">\n",
       "  <thead>\n",
       "    <tr style=\"text-align: right;\">\n",
       "      <th></th>\n",
       "      <th>Brand Name</th>\n",
       "      <th>total_tx</th>\n",
       "      <th>avg_sell_price</th>\n",
       "      <th>avg_original_price</th>\n",
       "    </tr>\n",
       "  </thead>\n",
       "  <tbody>\n",
       "    <tr>\n",
       "      <th>2</th>\n",
       "      <td>FOSSIL</td>\n",
       "      <td>133</td>\n",
       "      <td>13824.954887</td>\n",
       "      <td>16784.766917</td>\n",
       "    </tr>\n",
       "    <tr>\n",
       "      <th>6</th>\n",
       "      <td>GARMIN</td>\n",
       "      <td>101</td>\n",
       "      <td>35038.227723</td>\n",
       "      <td>40120.930693</td>\n",
       "    </tr>\n",
       "    <tr>\n",
       "      <th>0</th>\n",
       "      <td>APPLE</td>\n",
       "      <td>86</td>\n",
       "      <td>49413.837209</td>\n",
       "      <td>51127.441860</td>\n",
       "    </tr>\n",
       "    <tr>\n",
       "      <th>5</th>\n",
       "      <td>FitBit</td>\n",
       "      <td>51</td>\n",
       "      <td>14018.843137</td>\n",
       "      <td>17409.549020</td>\n",
       "    </tr>\n",
       "    <tr>\n",
       "      <th>18</th>\n",
       "      <td>SAMSUNG</td>\n",
       "      <td>48</td>\n",
       "      <td>22901.375000</td>\n",
       "      <td>26980.770833</td>\n",
       "    </tr>\n",
       "    <tr>\n",
       "      <th>23</th>\n",
       "      <td>huami</td>\n",
       "      <td>36</td>\n",
       "      <td>7547.638889</td>\n",
       "      <td>11120.722222</td>\n",
       "    </tr>\n",
       "    <tr>\n",
       "      <th>9</th>\n",
       "      <td>Huawei</td>\n",
       "      <td>26</td>\n",
       "      <td>15874.615385</td>\n",
       "      <td>20751.538462</td>\n",
       "    </tr>\n",
       "    <tr>\n",
       "      <th>14</th>\n",
       "      <td>Noise</td>\n",
       "      <td>20</td>\n",
       "      <td>3414.700000</td>\n",
       "      <td>5999.000000</td>\n",
       "    </tr>\n",
       "    <tr>\n",
       "      <th>8</th>\n",
       "      <td>Honor</td>\n",
       "      <td>20</td>\n",
       "      <td>5510.000000</td>\n",
       "      <td>7824.050000</td>\n",
       "    </tr>\n",
       "    <tr>\n",
       "      <th>4</th>\n",
       "      <td>Fire-Boltt</td>\n",
       "      <td>14</td>\n",
       "      <td>3741.500000</td>\n",
       "      <td>8427.571429</td>\n",
       "    </tr>\n",
       "    <tr>\n",
       "      <th>20</th>\n",
       "      <td>Zebronics</td>\n",
       "      <td>12</td>\n",
       "      <td>2635.000000</td>\n",
       "      <td>4224.000000</td>\n",
       "    </tr>\n",
       "    <tr>\n",
       "      <th>24</th>\n",
       "      <td>realme</td>\n",
       "      <td>12</td>\n",
       "      <td>4402.750000</td>\n",
       "      <td>6207.333333</td>\n",
       "    </tr>\n",
       "    <tr>\n",
       "      <th>19</th>\n",
       "      <td>Xiaomi</td>\n",
       "      <td>10</td>\n",
       "      <td>4100.400000</td>\n",
       "      <td>5069.000000</td>\n",
       "    </tr>\n",
       "    <tr>\n",
       "      <th>1</th>\n",
       "      <td>Crossbeats</td>\n",
       "      <td>8</td>\n",
       "      <td>3572.875000</td>\n",
       "      <td>9749.000000</td>\n",
       "    </tr>\n",
       "    <tr>\n",
       "      <th>3</th>\n",
       "      <td>Fastrack</td>\n",
       "      <td>6</td>\n",
       "      <td>1754.166667</td>\n",
       "      <td>2361.666667</td>\n",
       "    </tr>\n",
       "    <tr>\n",
       "      <th>17</th>\n",
       "      <td>Ptron</td>\n",
       "      <td>5</td>\n",
       "      <td>1109.000000</td>\n",
       "      <td>2839.400000</td>\n",
       "    </tr>\n",
       "    <tr>\n",
       "      <th>21</th>\n",
       "      <td>boAt</td>\n",
       "      <td>5</td>\n",
       "      <td>3897.200000</td>\n",
       "      <td>6990.000000</td>\n",
       "    </tr>\n",
       "    <tr>\n",
       "      <th>7</th>\n",
       "      <td>GOQii</td>\n",
       "      <td>4</td>\n",
       "      <td>3124.000000</td>\n",
       "      <td>3124.000000</td>\n",
       "    </tr>\n",
       "    <tr>\n",
       "      <th>15</th>\n",
       "      <td>OnePlus</td>\n",
       "      <td>3</td>\n",
       "      <td>6932.333333</td>\n",
       "      <td>7932.333333</td>\n",
       "    </tr>\n",
       "    <tr>\n",
       "      <th>13</th>\n",
       "      <td>Noise</td>\n",
       "      <td>2</td>\n",
       "      <td>1949.000000</td>\n",
       "      <td>2499.000000</td>\n",
       "    </tr>\n",
       "    <tr>\n",
       "      <th>16</th>\n",
       "      <td>Oppo</td>\n",
       "      <td>2</td>\n",
       "      <td>16490.000000</td>\n",
       "      <td>22490.000000</td>\n",
       "    </tr>\n",
       "    <tr>\n",
       "      <th>22</th>\n",
       "      <td>dizo by realme</td>\n",
       "      <td>2</td>\n",
       "      <td>3249.000000</td>\n",
       "      <td>4999.000000</td>\n",
       "    </tr>\n",
       "    <tr>\n",
       "      <th>12</th>\n",
       "      <td>LCARE</td>\n",
       "      <td>2</td>\n",
       "      <td>2347.000000</td>\n",
       "      <td>3745.000000</td>\n",
       "    </tr>\n",
       "    <tr>\n",
       "      <th>11</th>\n",
       "      <td>LAVA</td>\n",
       "      <td>1</td>\n",
       "      <td>1999.000000</td>\n",
       "      <td>3499.000000</td>\n",
       "    </tr>\n",
       "    <tr>\n",
       "      <th>10</th>\n",
       "      <td>Infinix</td>\n",
       "      <td>1</td>\n",
       "      <td>1499.000000</td>\n",
       "      <td>2999.000000</td>\n",
       "    </tr>\n",
       "  </tbody>\n",
       "</table>\n",
       "</div>"
      ],
      "text/plain": [
       "         Brand Name  total_tx  avg_sell_price  avg_original_price\n",
       "2           FOSSIL        133    13824.954887        16784.766917\n",
       "6           GARMIN        101    35038.227723        40120.930693\n",
       "0             APPLE        86    49413.837209        51127.441860\n",
       "5            FitBit        51    14018.843137        17409.549020\n",
       "18         SAMSUNG         48    22901.375000        26980.770833\n",
       "23            huami        36     7547.638889        11120.722222\n",
       "9            Huawei        26    15874.615385        20751.538462\n",
       "14           Noise         20     3414.700000         5999.000000\n",
       "8             Honor        20     5510.000000         7824.050000\n",
       "4        Fire-Boltt        14     3741.500000         8427.571429\n",
       "20        Zebronics        12     2635.000000         4224.000000\n",
       "24           realme        12     4402.750000         6207.333333\n",
       "19           Xiaomi        10     4100.400000         5069.000000\n",
       "1        Crossbeats         8     3572.875000         9749.000000\n",
       "3          Fastrack         6     1754.166667         2361.666667\n",
       "17            Ptron         5     1109.000000         2839.400000\n",
       "21            boAt          5     3897.200000         6990.000000\n",
       "7             GOQii         4     3124.000000         3124.000000\n",
       "15         OnePlus          3     6932.333333         7932.333333\n",
       "13            Noise         2     1949.000000         2499.000000\n",
       "16             Oppo         2    16490.000000        22490.000000\n",
       "22  dizo by realme          2     3249.000000         4999.000000\n",
       "12            LCARE         2     2347.000000         3745.000000\n",
       "11             LAVA         1     1999.000000         3499.000000\n",
       "10          Infinix         1     1499.000000         2999.000000"
      ]
     },
     "execution_count": 27,
     "metadata": {},
     "output_type": "execute_result"
    }
   ],
   "source": [
    "agg = health.groupby(['Brand Name']) \\\n",
    "       .agg({'Brand Name':'size', 'Selling Price':'mean', 'Original Price':'mean'}) \\\n",
    "       .rename(columns={'Brand Name':'total_tx','Selling Price':'avg_sell_price', 'Original Price':'avg_original_price'}) \\\n",
    "       .reset_index()\n",
    "\n",
    "agg.sort_values(['total_tx'], ascending=[False]) "
   ]
  },
  {
   "cell_type": "code",
   "execution_count": 28,
   "id": "cb4ff413",
   "metadata": {
    "execution": {
     "iopub.execute_input": "2022-10-20T18:00:01.104244Z",
     "iopub.status.busy": "2022-10-20T18:00:01.103451Z",
     "iopub.status.idle": "2022-10-20T18:00:01.274967Z",
     "shell.execute_reply": "2022-10-20T18:00:01.273952Z"
    },
    "papermill": {
     "duration": 0.205296,
     "end_time": "2022-10-20T18:00:01.285413",
     "exception": false,
     "start_time": "2022-10-20T18:00:01.080117",
     "status": "completed"
    },
    "tags": []
   },
   "outputs": [
    {
     "data": {
      "text/html": [
       "\n",
       "<div id=\"altair-viz-24f5b80688444884b95e9ab0a8003622\"></div>\n",
       "<script type=\"text/javascript\">\n",
       "  var VEGA_DEBUG = (typeof VEGA_DEBUG == \"undefined\") ? {} : VEGA_DEBUG;\n",
       "  (function(spec, embedOpt){\n",
       "    let outputDiv = document.currentScript.previousElementSibling;\n",
       "    if (outputDiv.id !== \"altair-viz-24f5b80688444884b95e9ab0a8003622\") {\n",
       "      outputDiv = document.getElementById(\"altair-viz-24f5b80688444884b95e9ab0a8003622\");\n",
       "    }\n",
       "    const paths = {\n",
       "      \"vega\": \"https://cdn.jsdelivr.net/npm//vega@5?noext\",\n",
       "      \"vega-lib\": \"https://cdn.jsdelivr.net/npm//vega-lib?noext\",\n",
       "      \"vega-lite\": \"https://cdn.jsdelivr.net/npm//vega-lite@4.17.0?noext\",\n",
       "      \"vega-embed\": \"https://cdn.jsdelivr.net/npm//vega-embed@6?noext\",\n",
       "    };\n",
       "\n",
       "    function maybeLoadScript(lib, version) {\n",
       "      var key = `${lib.replace(\"-\", \"\")}_version`;\n",
       "      return (VEGA_DEBUG[key] == version) ?\n",
       "        Promise.resolve(paths[lib]) :\n",
       "        new Promise(function(resolve, reject) {\n",
       "          var s = document.createElement('script');\n",
       "          document.getElementsByTagName(\"head\")[0].appendChild(s);\n",
       "          s.async = true;\n",
       "          s.onload = () => {\n",
       "            VEGA_DEBUG[key] = version;\n",
       "            return resolve(paths[lib]);\n",
       "          };\n",
       "          s.onerror = () => reject(`Error loading script: ${paths[lib]}`);\n",
       "          s.src = paths[lib];\n",
       "        });\n",
       "    }\n",
       "\n",
       "    function showError(err) {\n",
       "      outputDiv.innerHTML = `<div class=\"error\" style=\"color:red;\">${err}</div>`;\n",
       "      throw err;\n",
       "    }\n",
       "\n",
       "    function displayChart(vegaEmbed) {\n",
       "      vegaEmbed(outputDiv, spec, embedOpt)\n",
       "        .catch(err => showError(`Javascript Error: ${err.message}<br>This usually means there's a typo in your chart specification. See the javascript console for the full traceback.`));\n",
       "    }\n",
       "\n",
       "    if(typeof define === \"function\" && define.amd) {\n",
       "      requirejs.config({paths});\n",
       "      require([\"vega-embed\"], displayChart, err => showError(`Error loading script: ${err.message}`));\n",
       "    } else {\n",
       "      maybeLoadScript(\"vega\", \"5\")\n",
       "        .then(() => maybeLoadScript(\"vega-lite\", \"4.17.0\"))\n",
       "        .then(() => maybeLoadScript(\"vega-embed\", \"6\"))\n",
       "        .catch(showError)\n",
       "        .then(() => displayChart(vegaEmbed));\n",
       "    }\n",
       "  })({\"config\": {\"view\": {\"continuousWidth\": 400, \"continuousHeight\": 300}}, \"data\": {\"name\": \"data-15ca2f34e28668f3910ab82546076e43\"}, \"mark\": {\"type\": \"point\", \"filled\": true, \"size\": 40}, \"encoding\": {\"color\": {\"field\": \"Brand Name\", \"type\": \"nominal\"}, \"tooltip\": [{\"field\": \"Brand Name\", \"type\": \"nominal\"}, {\"field\": \"Selling Price\", \"type\": \"quantitative\"}, {\"field\": \"Original Price\", \"type\": \"quantitative\"}], \"x\": {\"field\": \"Original Price\", \"type\": \"quantitative\"}, \"y\": {\"field\": \"Selling Price\", \"type\": \"quantitative\"}}, \"selection\": {\"selector001\": {\"type\": \"interval\", \"bind\": \"scales\", \"encodings\": [\"x\", \"y\"]}}, \"title\": \"Original Price vs Selling Price\", \"$schema\": \"https://vega.github.io/schema/vega-lite/v4.17.0.json\", \"datasets\": {\"data-15ca2f34e28668f3910ab82546076e43\": [{\"Brand Name\": \"Xiaomi\", \"Device Type\": \"FitnessBand\", \"Model Name\": \"Smart Band 5\", \"Color\": \"Black\", \"Selling Price\": 2499, \"Original Price\": 2999, \"Display\": \"AMOLED Display\", \"Rating (Out of 5)\": 4.1, \"Strap Material\": \"Thermoplastic polyurethane\", \"Average Battery Life (in days)\": 14, \"Reviews\": null}, {\"Brand Name\": \"Xiaomi\", \"Device Type\": \"FitnessBand\", \"Model Name\": \"Smart Band 4\", \"Color\": \"Black\", \"Selling Price\": 2099, \"Original Price\": 2499, \"Display\": \"AMOLED Display\", \"Rating (Out of 5)\": 4.2, \"Strap Material\": \"Thermoplastic polyurethane\", \"Average Battery Life (in days)\": 14, \"Reviews\": null}, {\"Brand Name\": \"Xiaomi\", \"Device Type\": \"FitnessBand\", \"Model Name\": \"HMSH01GE\", \"Color\": \"Black\", \"Selling Price\": 1722, \"Original Price\": 2099, \"Display\": \"LCD Display\", \"Rating (Out of 5)\": 3.5, \"Strap Material\": \"Leather\", \"Average Battery Life (in days)\": 14, \"Reviews\": null}, {\"Brand Name\": \"Xiaomi\", \"Device Type\": \"FitnessBand\", \"Model Name\": \"Smart Band 5\", \"Color\": \"Black\", \"Selling Price\": 2469, \"Original Price\": 2999, \"Display\": \"AMOLED Display\", \"Rating (Out of 5)\": 4.1, \"Strap Material\": \"Thermoplastic polyurethane\", \"Average Battery Life (in days)\": 14, \"Reviews\": null}, {\"Brand Name\": \"Xiaomi\", \"Device Type\": \"FitnessBand\", \"Model Name\": \"Band 3\", \"Color\": \"Black\", \"Selling Price\": 1799, \"Original Price\": 2199, \"Display\": \"OLED Display\", \"Rating (Out of 5)\": 4.3, \"Strap Material\": \"Plastic\", \"Average Battery Life (in days)\": 7, \"Reviews\": null}, {\"Brand Name\": \"Xiaomi\", \"Device Type\": \"FitnessBand\", \"Model Name\": \"Band - HRX Edition\", \"Color\": \"Black\", \"Selling Price\": 1299, \"Original Price\": 1799, \"Display\": \"OLED Display\", \"Rating (Out of 5)\": 4.2, \"Strap Material\": \"Plastic\", \"Average Battery Life (in days)\": 20, \"Reviews\": null}, {\"Brand Name\": \"Xiaomi\", \"Device Type\": \"FitnessBand\", \"Model Name\": \"Band 2\", \"Color\": \"Black\", \"Selling Price\": 2499, \"Original Price\": 2499, \"Display\": \"OLED Display\", \"Rating (Out of 5)\": 4.3, \"Strap Material\": \"Plastic\", \"Average Battery Life (in days)\": 7, \"Reviews\": null}, {\"Brand Name\": \"Xiaomi\", \"Device Type\": \"Smartwatch\", \"Model Name\": \"Revolve\", \"Color\": \"Black\", \"Selling Price\": 12349, \"Original Price\": 15999, \"Display\": \"AMOLED Display\", \"Rating (Out of 5)\": 4.4, \"Strap Material\": \"Silicone\", \"Average Battery Life (in days)\": 14, \"Reviews\": \"2\"}, {\"Brand Name\": \"Xiaomi\", \"Device Type\": \"Smartwatch\", \"Model Name\": \"RevolveActive\", \"Color\": \"Black\", \"Selling Price\": 12999, \"Original Price\": 15999, \"Display\": \"AMOLED Display\", \"Rating (Out of 5)\": 4.4, \"Strap Material\": \"Silicone\", \"Average Battery Life (in days)\": 14, \"Reviews\": \"3\"}, {\"Brand Name\": \"Xiaomi\", \"Device Type\": \"FitnessBand\", \"Model Name\": \"Smart Band 3i\", \"Color\": \"Black\", \"Selling Price\": 1270, \"Original Price\": 1599, \"Display\": \"OLED Display\", \"Rating (Out of 5)\": 4.2, \"Strap Material\": \"Thermoplastic polyurethane\", \"Average Battery Life (in days)\": 7, \"Reviews\": null}, {\"Brand Name\": \"OnePlus \", \"Device Type\": \"FitnessBand\", \"Model Name\": \"Steven Harrington Edition Band\", \"Color\": \"Blue\", \"Selling Price\": 3299, \"Original Price\": 3999, \"Display\": \"AMOLED Display\", \"Rating (Out of 5)\": 4.3, \"Strap Material\": \"Thermoplastic polyurethane\", \"Average Battery Life (in days)\": 7, \"Reviews\": null}, {\"Brand Name\": \"OnePlus \", \"Device Type\": \"FitnessBand\", \"Model Name\": \"Band\", \"Color\": \"Dual Color\", \"Selling Price\": 2499, \"Original Price\": 2799, \"Display\": \"AMOLED Display\", \"Rating (Out of 5)\": 4.2, \"Strap Material\": \"Thermoplastic polyurethane\", \"Average Battery Life (in days)\": 7, \"Reviews\": null}, {\"Brand Name\": \"FitBit\", \"Device Type\": \"Smartwatch\", \"Model Name\": \"Versa 2\", \"Color\": \"Grey, Pink, Black\", \"Selling Price\": 11999, \"Original Price\": 14999, \"Display\": \"AMOLED Display\", \"Rating (Out of 5)\": 4.3, \"Strap Material\": \"Silicone\", \"Average Battery Life (in days)\": 7, \"Reviews\": null}, {\"Brand Name\": \"FitBit\", \"Device Type\": \"Smartwatch\", \"Model Name\": \"Sense\", \"Color\": \"Black, Pink, Beige\", \"Selling Price\": 21499, \"Original Price\": 22999, \"Display\": \"AMOLED Display\", \"Rating (Out of 5)\": 4.2, \"Strap Material\": \"Elastomer\", \"Average Battery Life (in days)\": 7, \"Reviews\": null}, {\"Brand Name\": \"FitBit\", \"Device Type\": \"Smartwatch\", \"Model Name\": \"Versa 3\", \"Color\": \"Black, Blue, Pink\", \"Selling Price\": 17999, \"Original Price\": 18999, \"Display\": \"AMOLED Display\", \"Rating (Out of 5)\": 4.3, \"Strap Material\": \"Elastomer\", \"Average Battery Life (in days)\": 7, \"Reviews\": null}, {\"Brand Name\": \"FitBit\", \"Device Type\": \"FitnessBand\", \"Model Name\": \"Charge 4\", \"Color\": \"Storm Blue, Black, Rosewood\", \"Selling Price\": 9999, \"Original Price\": 9999, \"Display\": \"PMOLED Display\", \"Rating (Out of 5)\": 4.2, \"Strap Material\": \"Elastomer\", \"Average Battery Life (in days)\": 7, \"Reviews\": null}, {\"Brand Name\": \"FitBit\", \"Device Type\": \"FitnessBand\", \"Model Name\": \"Inspire\", \"Color\": \"Maroon \", \"Selling Price\": 7990, \"Original Price\": 7999, \"Display\": \"LED Display\", \"Rating (Out of 5)\": 4.2, \"Strap Material\": \"Silicone\", \"Average Battery Life (in days)\": 5, \"Reviews\": null}, {\"Brand Name\": \"FitBit\", \"Device Type\": \"FitnessBand\", \"Model Name\": \"Inspire 2\", \"Color\": \"Black, Desert Rose, Lunar White\", \"Selling Price\": 6999, \"Original Price\": 7999, \"Display\": \"PMOLED Display\", \"Rating (Out of 5)\": 4.4, \"Strap Material\": \"Thermoplastic polyurethane\", \"Average Battery Life (in days)\": 10, \"Reviews\": null}, {\"Brand Name\": \"FitBit\", \"Device Type\": \"FitnessBand\", \"Model Name\": \"Lunar\", \"Color\": \"White \", \"Selling Price\": 10899, \"Original Price\": 10999, \"Display\": \"AMOLED Display\", \"Rating (Out of 5)\": 4.7, \"Strap Material\": \"Silicone\", \"Average Battery Life (in days)\": 7, \"Reviews\": null}, {\"Brand Name\": \"FitBit\", \"Device Type\": \"FitnessBand\", \"Model Name\": \"Charge 4\", \"Color\": \"Granite Reflective \", \"Selling Price\": 10999, \"Original Price\": 11999, \"Display\": \"PMOLED Display\", \"Rating (Out of 5)\": 4.2, \"Strap Material\": \"Elastomer\", \"Average Battery Life (in days)\": 7, \"Reviews\": null}, {\"Brand Name\": \"FitBit\", \"Device Type\": \"FitnessBand\", \"Model Name\": \"FB413LVLV\", \"Color\": \"Lilac \", \"Selling Price\": 8807, \"Original Price\": 38500, \"Display\": \"AMOLED Display\", \"Rating (Out of 5)\": 4.1, \"Strap Material\": \"Silicone\", \"Average Battery Life (in days)\": 5, \"Reviews\": null}, {\"Brand Name\": \"FitBit\", \"Device Type\": \"FitnessBand\", \"Model Name\": \"Flex Small\", \"Color\": \"Violet, black, Grey, Teal, Blue, Red\", \"Selling Price\": 8490, \"Original Price\": 8490, \"Display\": \"OLED Display\", \"Rating (Out of 5)\": 3.8, \"Strap Material\": \"Rubber\", \"Average Battery Life (in days)\": 5, \"Reviews\": null}, {\"Brand Name\": \"FitBit\", \"Device Type\": \"FitnessBand\", \"Model Name\": \"Inspire HR\", \"Color\": \"Black \", \"Selling Price\": 5599, \"Original Price\": 8999, \"Display\": \"LED Display\", \"Rating (Out of 5)\": 4.3, \"Strap Material\": \"Silicone\", \"Average Battery Life (in days)\": 5, \"Reviews\": null}, {\"Brand Name\": \"FitBit\", \"Device Type\": \"FitnessBand\", \"Model Name\": \"Inspire\", \"Color\": \"Black \", \"Selling Price\": 5299, \"Original Price\": 7999, \"Display\": \"LED Display\", \"Rating (Out of 5)\": 4.2, \"Strap Material\": \"Silicone\", \"Average Battery Life (in days)\": 5, \"Reviews\": null}, {\"Brand Name\": \"FitBit\", \"Device Type\": \"FitnessBand\", \"Model Name\": \"Charge 3\", \"Color\": \"Grey \", \"Selling Price\": 7599, \"Original Price\": 13999, \"Display\": \"OLED Display\", \"Rating (Out of 5)\": 4.3, \"Strap Material\": \"Silicone\", \"Average Battery Life (in days)\": 7, \"Reviews\": null}, {\"Brand Name\": \"FitBit\", \"Device Type\": \"Smartwatch\", \"Model Name\": \"Versa Special Edition\", \"Color\": \"Charcoal \", \"Selling Price\": 10365, \"Original Price\": 23499, \"Display\": \"AMOLED Display\", \"Rating (Out of 5)\": 4.1, \"Strap Material\": \"Fabric\", \"Average Battery Life (in days)\": 7, \"Reviews\": null}, {\"Brand Name\": \"FitBit\", \"Device Type\": \"Smartwatch\", \"Model Name\": \"Ionic\", \"Color\": \"Black \", \"Selling Price\": 18999, \"Original Price\": 24999, \"Display\": \"LCD Display\", \"Rating (Out of 5)\": 4.1, \"Strap Material\": \"Elastomer\", \"Average Battery Life (in days)\": 7, \"Reviews\": null}, {\"Brand Name\": \"FitBit\", \"Device Type\": \"Smartwatch\", \"Model Name\": \"Versa 2 Special Edition\", \"Color\": \"Multicolor \", \"Selling Price\": 15499, \"Original Price\": 23999, \"Display\": \"AMOLED Display\", \"Rating (Out of 5)\": 4.4, \"Strap Material\": \"Silicone\", \"Average Battery Life (in days)\": 7, \"Reviews\": null}, {\"Brand Name\": \"FitBit\", \"Device Type\": \"Smartwatch\", \"Model Name\": \"Ionic\", \"Color\": \"Blue \", \"Selling Price\": 22499, \"Original Price\": 24999, \"Display\": \"LCD Display\", \"Rating (Out of 5)\": 4.1, \"Strap Material\": \"Elastomer\", \"Average Battery Life (in days)\": 7, \"Reviews\": null}, {\"Brand Name\": \"FitBit\", \"Device Type\": \"Smartwatch\", \"Model Name\": \"Ionic\", \"Color\": \"Grey \", \"Selling Price\": 26499, \"Original Price\": 26499, \"Display\": \"LCD Display\", \"Rating (Out of 5)\": 4.1, \"Strap Material\": \"Elastomer\", \"Average Battery Life (in days)\": 7, \"Reviews\": null}, {\"Brand Name\": \"FitBit\", \"Device Type\": \"Smartwatch\", \"Model Name\": \"Versa\", \"Color\": \"Purple\", \"Selling Price\": 16990, \"Original Price\": 23499, \"Display\": \"AMOLED Display\", \"Rating (Out of 5)\": 4.1, \"Strap Material\": \"Silicone\", \"Average Battery Life (in days)\": 7, \"Reviews\": null}, {\"Brand Name\": \"FitBit\", \"Device Type\": \"Smartwatch\", \"Model Name\": \"Versa\", \"Color\": \"Grey \", \"Selling Price\": 17895, \"Original Price\": 21499, \"Display\": \"AMOLED Display\", \"Rating (Out of 5)\": 4.2, \"Strap Material\": \"Silicone\", \"Average Battery Life (in days)\": 7, \"Reviews\": null}, {\"Brand Name\": \"FitBit\", \"Device Type\": \"Smartwatch\", \"Model Name\": \"Surge\", \"Color\": \"Blue\", \"Selling Price\": 24990, \"Original Price\": 24990, \"Display\": \"LCD Display\", \"Rating (Out of 5)\": 3.8, \"Strap Material\": \"Elastomer\", \"Average Battery Life (in days)\": 7, \"Reviews\": null}, {\"Brand Name\": \"FitBit\", \"Device Type\": \"FitnessBand\", \"Model Name\": \"Charge 2\", \"Color\": \"Black \", \"Selling Price\": 7499, \"Original Price\": 14999, \"Display\": \"PMOLED Display\", \"Rating (Out of 5)\": 4.3, \"Strap Material\": \"Silicone\", \"Average Battery Life (in days)\": 7, \"Reviews\": null}, {\"Brand Name\": \"FitBit\", \"Device Type\": \"FitnessBand\", \"Model Name\": \"Charge 3 Special Edition\", \"Color\": \"Purple, White\", \"Selling Price\": 9999, \"Original Price\": 15999, \"Display\": \"OLED Display\", \"Rating (Out of 5)\": 4.0, \"Strap Material\": \"Silicone\", \"Average Battery Life (in days)\": 7, \"Reviews\": null}, {\"Brand Name\": \"FitBit\", \"Device Type\": \"Smartwatch\", \"Model Name\": \"Blaze\", \"Color\": \"Purple\", \"Selling Price\": 17999, \"Original Price\": 19999, \"Display\": \"LCD Display\", \"Rating (Out of 5)\": 4.2, \"Strap Material\": \"Elastomer\", \"Average Battery Life (in days)\": 7, \"Reviews\": null}, {\"Brand Name\": \"FitBit\", \"Device Type\": \"Smartwatch\", \"Model Name\": \"Blaze\", \"Color\": \"Blue\", \"Selling Price\": 19999, \"Original Price\": 19999, \"Display\": \"LCD Display\", \"Rating (Out of 5)\": 4.2, \"Strap Material\": \"Elastomer\", \"Average Battery Life (in days)\": 7, \"Reviews\": null}, {\"Brand Name\": \"FitBit\", \"Device Type\": \"Smartwatch\", \"Model Name\": \"Blaze\", \"Color\": \"Black\", \"Selling Price\": 22999, \"Original Price\": 22999, \"Display\": \"LCD Display\", \"Rating (Out of 5)\": 4.2, \"Strap Material\": \"Elastomer\", \"Average Battery Life (in days)\": 7, \"Reviews\": null}, {\"Brand Name\": \"FitBit\", \"Device Type\": \"Smartwatch\", \"Model Name\": \"Surge\", \"Color\": \"Black\", \"Selling Price\": 19990, \"Original Price\": 19990, \"Display\": \"LCD Display\", \"Rating (Out of 5)\": 3.8, \"Strap Material\": \"Elastomer\", \"Average Battery Life (in days)\": 7, \"Reviews\": null}, {\"Brand Name\": \"FitBit\", \"Device Type\": \"FitnessBand\", \"Model Name\": \"Alta HR\", \"Color\": \"Black, Plum, Grey\", \"Selling Price\": 14999, \"Original Price\": 14999, \"Display\": \"OLED Display\", \"Rating (Out of 5)\": 4.3, \"Strap Material\": \"Elastomer\", \"Average Battery Life (in days)\": 7, \"Reviews\": null}, {\"Brand Name\": \"FitBit\", \"Device Type\": \"FitnessBand\", \"Model Name\": \"Charge 2\", \"Color\": \"Plum silver\", \"Selling Price\": 14999, \"Original Price\": 14999, \"Display\": \"PMOLED Display\", \"Rating (Out of 5)\": 4.4, \"Strap Material\": \"Silicone\", \"Average Battery Life (in days)\": 7, \"Reviews\": null}, {\"Brand Name\": \"FitBit\", \"Device Type\": \"Smartwatch\", \"Model Name\": \"Versa Lite Edition\", \"Color\": \"Purple \", \"Selling Price\": 16999, \"Original Price\": 16999, \"Display\": \"AMOLED Display\", \"Rating (Out of 5)\": 4.2, \"Strap Material\": \"Elastomer\", \"Average Battery Life (in days)\": 7, \"Reviews\": null}, {\"Brand Name\": \"FitBit\", \"Device Type\": \"Smartwatch\", \"Model Name\": \"Surge\", \"Color\": \"Orange\", \"Selling Price\": 24990, \"Original Price\": 24990, \"Display\": \"LCD Display\", \"Rating (Out of 5)\": 3.8, \"Strap Material\": \"Elastomer\", \"Average Battery Life (in days)\": 7, \"Reviews\": null}, {\"Brand Name\": \"FitBit\", \"Device Type\": \"Smartwatch\", \"Model Name\": \"versa\", \"Color\": \"Grey \", \"Selling Price\": 21499, \"Original Price\": 21499, \"Display\": \"AMOLED Display\", \"Rating (Out of 5)\": 4.1, \"Strap Material\": \"Silicone\", \"Average Battery Life (in days)\": 7, \"Reviews\": null}, {\"Brand Name\": \"FitBit\", \"Device Type\": \"Smartwatch\", \"Model Name\": \"Versa\", \"Color\": \"Pink \", \"Selling Price\": 16124, \"Original Price\": 19999, \"Display\": \"AMOLED Display\", \"Rating (Out of 5)\": 4.1, \"Strap Material\": \"Silicone\", \"Average Battery Life (in days)\": 7, \"Reviews\": null}, {\"Brand Name\": \"FitBit\", \"Device Type\": \"FitnessBand\", \"Model Name\": \"Charge HR\", \"Color\": \"Purple \", \"Selling Price\": 6990, \"Original Price\": 14990, \"Display\": \"OLED Display\", \"Rating (Out of 5)\": 3.9, \"Strap Material\": \"Thermoplastic polyurethane\", \"Average Battery Life (in days)\": 7, \"Reviews\": null}, {\"Brand Name\": \"FitBit\", \"Device Type\": \"FitnessBand\", \"Model Name\": \"Charge HR\", \"Color\": \"Orange, Pink, Green\", \"Selling Price\": 14990, \"Original Price\": 14990, \"Display\": \"OLED Display\", \"Rating (Out of 5)\": 3.9, \"Strap Material\": \"Thermoplastic polyurethane\", \"Average Battery Life (in days)\": 7, \"Reviews\": null}, {\"Brand Name\": \"FitBit\", \"Device Type\": \"FitnessBand\", \"Model Name\": \"Alta HR\", \"Color\": \"Rose Gold, Gun Metal Black\", \"Selling Price\": 16999, \"Original Price\": 16999, \"Display\": \"OLED Display\", \"Rating (Out of 5)\": 4.3, \"Strap Material\": \"Elastomer\", \"Average Battery Life (in days)\": 7, \"Reviews\": null}, {\"Brand Name\": \"FitBit\", \"Device Type\": \"Smartwatch\", \"Model Name\": \"Versa Lite Edition\", \"Color\": \"Blue \", \"Selling Price\": 14399, \"Original Price\": 15999, \"Display\": \"AMOLED Display\", \"Rating (Out of 5)\": 4.2, \"Strap Material\": \"Elastomer\", \"Average Battery Life (in days)\": 7, \"Reviews\": null}, {\"Brand Name\": \"FitBit\", \"Device Type\": \"FitnessBand\", \"Model Name\": \"Alta\", \"Color\": \"Black, Purple, Teal, Blue\", \"Selling Price\": 12999, \"Original Price\": 12999, \"Display\": \"OLED Display\", \"Rating (Out of 5)\": 4.1, \"Strap Material\": \"Elastomer\", \"Average Battery Life (in days)\": 7, \"Reviews\": null}, {\"Brand Name\": \"FitBit\", \"Device Type\": \"Smartwatch\", \"Model Name\": \"Versa 3\", \"Color\": \"Black, Blue, Pink\", \"Selling Price\": 17999, \"Original Price\": 18999, \"Display\": \"AMOLED Display\", \"Rating (Out of 5)\": 4.3, \"Strap Material\": \"Elastomer\", \"Average Battery Life (in days)\": 7, \"Reviews\": null}, {\"Brand Name\": \"FitBit\", \"Device Type\": \"FitnessBand\", \"Model Name\": \"Charge 2\", \"Color\": \"Violet \", \"Selling Price\": 14999, \"Original Price\": 14999, \"Display\": \"PMOLED Display\", \"Rating (Out of 5)\": 4.3, \"Strap Material\": \"Silicone\", \"Average Battery Life (in days)\": 7, \"Reviews\": null}, {\"Brand Name\": \"FitBit\", \"Device Type\": \"Smartwatch\", \"Model Name\": \"Versa\", \"Color\": \"Black \", \"Selling Price\": 20590, \"Original Price\": 21499, \"Display\": \"AMOLED Display\", \"Rating (Out of 5)\": 4.1, \"Strap Material\": \"Silicone\", \"Average Battery Life (in days)\": 7, \"Reviews\": null}, {\"Brand Name\": \"FitBit\", \"Device Type\": \"Smartwatch\", \"Model Name\": \"Versa 2\", \"Color\": \"Purple \", \"Selling Price\": 13499, \"Original Price\": 21999, \"Display\": \"AMOLED Display\", \"Rating (Out of 5)\": 4.3, \"Strap Material\": \"Silicone\", \"Average Battery Life (in days)\": 7, \"Reviews\": null}, {\"Brand Name\": \"FitBit\", \"Device Type\": \"Smartwatch\", \"Model Name\": \"Surge\", \"Color\": \"Black\", \"Selling Price\": 9999, \"Original Price\": 19990, \"Display\": \"LCD Display\", \"Rating (Out of 5)\": 3.8, \"Strap Material\": \"Elastomer\", \"Average Battery Life (in days)\": 7, \"Reviews\": null}, {\"Brand Name\": \"FitBit\", \"Device Type\": \"FitnessBand\", \"Model Name\": \"Charge 3\", \"Color\": \"Black \", \"Selling Price\": 9999, \"Original Price\": 13999, \"Display\": \"OLED Display\", \"Rating (Out of 5)\": 4.3, \"Strap Material\": \"Silicone\", \"Average Battery Life (in days)\": 7, \"Reviews\": null}, {\"Brand Name\": \"FitBit\", \"Device Type\": \"FitnessBand\", \"Model Name\": \"Charge 2\", \"Color\": \"Blue \", \"Selling Price\": 7499, \"Original Price\": 14999, \"Display\": \"PMOLED Display\", \"Rating (Out of 5)\": 4.3, \"Strap Material\": \"Silicone\", \"Average Battery Life (in days)\": 7, \"Reviews\": null}, {\"Brand Name\": \"FitBit\", \"Device Type\": \"FitnessBand\", \"Model Name\": \"Charge 2\", \"Color\": \"Light Blue\", \"Selling Price\": 14999, \"Original Price\": 14999, \"Display\": \"PMOLED Display\", \"Rating (Out of 5)\": 4.4, \"Strap Material\": \"Silicone\", \"Average Battery Life (in days)\": 7, \"Reviews\": null}, {\"Brand Name\": \"FitBit\", \"Device Type\": \"FitnessBand\", \"Model Name\": \"Charge 2\", \"Color\": \"Blue \", \"Selling Price\": 8999, \"Original Price\": 14999, \"Display\": \"PMOLED Display\", \"Rating (Out of 5)\": 4.4, \"Strap Material\": \"Silicone\", \"Average Battery Life (in days)\": 7, \"Reviews\": null}, {\"Brand Name\": \"FitBit\", \"Device Type\": \"FitnessBand\", \"Model Name\": \"Charge 2\", \"Color\": \"Black \", \"Selling Price\": 7498, \"Original Price\": 14999, \"Display\": \"PMOLED Display\", \"Rating (Out of 5)\": 4.3, \"Strap Material\": \"Silicone\", \"Average Battery Life (in days)\": 7, \"Reviews\": null}, {\"Brand Name\": \"FitBit\", \"Device Type\": \"FitnessBand\", \"Model Name\": \"Charge 2\", \"Color\": \"Sky Blue \", \"Selling Price\": 14999, \"Original Price\": 14999, \"Display\": \"PMOLED Display\", \"Rating (Out of 5)\": 4.3, \"Strap Material\": \"Silicone\", \"Average Battery Life (in days)\": 7, \"Reviews\": null}, {\"Brand Name\": \"FitBit\", \"Device Type\": \"FitnessBand\", \"Model Name\": \"Inspire HR\", \"Color\": \"Purple \", \"Selling Price\": 5598, \"Original Price\": 9999, \"Display\": \"LED Display\", \"Rating (Out of 5)\": 4.3, \"Strap Material\": \"Silicone\", \"Average Battery Life (in days)\": 5, \"Reviews\": null}, {\"Brand Name\": \"FitBit\", \"Device Type\": \"FitnessBand\", \"Model Name\": \"Inspire HR\", \"Color\": \"White \", \"Selling Price\": 5899, \"Original Price\": 9999, \"Display\": \"LED Display\", \"Rating (Out of 5)\": 4.3, \"Strap Material\": \"Silicone\", \"Average Battery Life (in days)\": 5, \"Reviews\": null}, {\"Brand Name\": \"realme\", \"Device Type\": \"FitnessBand\", \"Model Name\": \"Band 2\", \"Color\": \"Black\", \"Selling Price\": 2999, \"Original Price\": 3499, \"Display\": \"TFT-LCD Display\", \"Rating (Out of 5)\": 4.1, \"Strap Material\": \"Silicone\", \"Average Battery Life (in days)\": 7, \"Reviews\": null}, {\"Brand Name\": \"realme\", \"Device Type\": \"FitnessBand\", \"Model Name\": \"Band\", \"Color\": \"Yellow\", \"Selling Price\": 1499, \"Original Price\": 2999, \"Display\": \"TFT-LCD Display\", \"Rating (Out of 5)\": 4.0, \"Strap Material\": \"Silicone\", \"Average Battery Life (in days)\": 7, \"Reviews\": null}, {\"Brand Name\": \"realme\", \"Device Type\": \"FitnessBand\", \"Model Name\": \"Smart band\", \"Color\": \"Grey\", \"Selling Price\": 1450, \"Original Price\": 2999, \"Display\": \"TFT-LCD Display\", \"Rating (Out of 5)\": 4.0, \"Strap Material\": \"Silicone\", \"Average Battery Life (in days)\": 7, \"Reviews\": null}, {\"Brand Name\": \"realme\", \"Device Type\": \"FitnessBand\", \"Model Name\": \"Band\", \"Color\": \"Black\", \"Selling Price\": 1290, \"Original Price\": 2999, \"Display\": \"TFT-LCD Display\", \"Rating (Out of 5)\": 4.0, \"Strap Material\": \"Silicone\", \"Average Battery Life (in days)\": 7, \"Reviews\": null}, {\"Brand Name\": \"Huawei\", \"Device Type\": \"FitnessBand\", \"Model Name\": \"Band 4\", \"Color\": \"Black\", \"Selling Price\": 1899, \"Original Price\": 3099, \"Display\": \"TFT-LCD Display\", \"Rating (Out of 5)\": 4.2, \"Strap Material\": \"Silicone\", \"Average Battery Life (in days)\": 7, \"Reviews\": null}, {\"Brand Name\": \"Huawei\", \"Device Type\": \"FitnessBand\", \"Model Name\": \"Band 2\", \"Color\": \"Black\", \"Selling Price\": 1699, \"Original Price\": 4999, \"Display\": \"PMOLED Display\", \"Rating (Out of 5)\": 4.1, \"Strap Material\": \"Silicone\", \"Average Battery Life (in days)\": 7, \"Reviews\": null}, {\"Brand Name\": \"Huawei\", \"Device Type\": \"FitnessBand\", \"Model Name\": \"Band 2\", \"Color\": \"Blue\", \"Selling Price\": 6999, \"Original Price\": 6999, \"Display\": \"PMOLED Display\", \"Rating (Out of 5)\": 4.2, \"Strap Material\": \"Silicone\", \"Average Battery Life (in days)\": 7, \"Reviews\": null}, {\"Brand Name\": \"Huawei\", \"Device Type\": \"FitnessBand\", \"Model Name\": \"Band 2\", \"Color\": \"Black\", \"Selling Price\": 4599, \"Original Price\": 4599, \"Display\": \"PMOLED Display\", \"Rating (Out of 5)\": 4.1, \"Strap Material\": \"Silicone\", \"Average Battery Life (in days)\": 7, \"Reviews\": null}, {\"Brand Name\": \"Huawei\", \"Device Type\": \"FitnessBand\", \"Model Name\": \"Band 6\", \"Color\": \"Pink, Black, Teal, Orange\", \"Selling Price\": 4490, \"Original Price\": 9990, \"Display\": \"PMOLED Display\", \"Rating (Out of 5)\": 4.4, \"Strap Material\": \"Silicone\", \"Average Battery Life (in days)\": 7, \"Reviews\": null}, {\"Brand Name\": \"Huawei\", \"Device Type\": \"FitnessBand\", \"Model Name\": \"Band 2 Pro Activity\", \"Color\": \"Pink, Black\", \"Selling Price\": 2199, \"Original Price\": 5999, \"Display\": \"PMOLED Display\", \"Rating (Out of 5)\": 4.1, \"Strap Material\": \"Silicone\", \"Average Battery Life (in days)\": 7, \"Reviews\": null}, {\"Brand Name\": \"Honor\", \"Device Type\": \"FitnessBand\", \"Model Name\": \"Band 6\", \"Color\": \"Sandstone Grey, Meteorite Black, Coral Pink, \", \"Selling Price\": 2999, \"Original Price\": 5999, \"Display\": \"AMOLED Display\", \"Rating (Out of 5)\": 4.3, \"Strap Material\": \"Plastic\", \"Average Battery Life (in days)\": 14, \"Reviews\": \"6568\"}, {\"Brand Name\": \"Honor\", \"Device Type\": \"FitnessBand\", \"Model Name\": \"Band 4\", \"Color\": \"Meteorite Black, Midnight Navy\", \"Selling Price\": 2700, \"Original Price\": 2999, \"Display\": \"AMOLED Display\", \"Rating (Out of 5)\": 4.4, \"Strap Material\": \"Plastic\", \"Average Battery Life (in days)\": 7, \"Reviews\": \"17809\"}, {\"Brand Name\": \"Honor\", \"Device Type\": \"FitnessBand\", \"Model Name\": \"Band 3\", \"Color\": \"Dynamic Orange\", \"Selling Price\": 2499, \"Original Price\": 2999, \"Display\": \"AMOLED Display\", \"Rating (Out of 5)\": 4.3, \"Strap Material\": \"Plastic\", \"Average Battery Life (in days)\": 7, \"Reviews\": \"23426\"}, {\"Brand Name\": \"Honor\", \"Device Type\": \"FitnessBand\", \"Model Name\": \"Band 5i\", \"Color\": \"Black\", \"Selling Price\": 2469, \"Original Price\": 2999, \"Display\": \"LCD Display\", \"Rating (Out of 5)\": 4.2, \"Strap Material\": \"Plastic\", \"Average Battery Life (in days)\": 7, \"Reviews\": \"4628\"}, {\"Brand Name\": \"Honor\", \"Device Type\": \"FitnessBand\", \"Model Name\": \"Band 3\", \"Color\": \"Navy Blue\", \"Selling Price\": 2499, \"Original Price\": 2999, \"Display\": \"PMOLED Display\", \"Rating (Out of 5)\": 4.3, \"Strap Material\": \"Plastic\", \"Average Battery Life (in days)\": 7, \"Reviews\": \"23426\"}, {\"Brand Name\": \"Honor\", \"Device Type\": \"FitnessBand\", \"Model Name\": \"Band 5\", \"Color\": \"Black\", \"Selling Price\": 2899, \"Original Price\": 2999, \"Display\": \"AMOLED Display\", \"Rating (Out of 5)\": 4.4, \"Strap Material\": \"Plastic\", \"Average Battery Life (in days)\": 14, \"Reviews\": \"4628\"}, {\"Brand Name\": \"Honor\", \"Device Type\": \"FitnessBand\", \"Model Name\": \"Band 5\", \"Color\": \"Black\", \"Selling Price\": 2099, \"Original Price\": 2999, \"Display\": \"AMOLED Display\", \"Rating (Out of 5)\": 4.4, \"Strap Material\": \"Plastic\", \"Average Battery Life (in days)\": 14, \"Reviews\": \"4628\"}, {\"Brand Name\": \"Honor\", \"Device Type\": \"FitnessBand\", \"Model Name\": \"Band 5\", \"Color\": \"Olive Green\", \"Selling Price\": 2199, \"Original Price\": 2999, \"Display\": \"AMOLED Display\", \"Rating (Out of 5)\": 4.4, \"Strap Material\": \"Plastic\", \"Average Battery Life (in days)\": 14, \"Reviews\": \"4628\"}, {\"Brand Name\": \"Honor\", \"Device Type\": \"FitnessBand\", \"Model Name\": \"Band 4\", \"Color\": \"Black\", \"Selling Price\": 2599, \"Original Price\": 2999, \"Display\": \"AMOLED Display\", \"Rating (Out of 5)\": 4.4, \"Strap Material\": \"Plastic\", \"Average Battery Life (in days)\": 7, \"Reviews\": \"17809\"}, {\"Brand Name\": \"Honor\", \"Device Type\": \"FitnessBand\", \"Model Name\": \"Band 5i\", \"Color\": \"Black\", \"Selling Price\": 1799, \"Original Price\": 2999, \"Display\": \"LCD Display\", \"Rating (Out of 5)\": 4.2, \"Strap Material\": \"Plastic\", \"Average Battery Life (in days)\": 14, \"Reviews\": \"4628\"}, {\"Brand Name\": \"Honor\", \"Device Type\": \"FitnessBand\", \"Model Name\": \"band 4 running\", \"Color\": \"Black\", \"Selling Price\": 1649, \"Original Price\": 2000, \"Display\": \"AMOLED Display\", \"Rating (Out of 5)\": 3.2, \"Strap Material\": \"Plastic\", \"Average Battery Life (in days)\": 7, \"Reviews\": \"4628\"}, {\"Brand Name\": \"Honor\", \"Device Type\": \"FitnessBand\", \"Model Name\": \"Band Z1\", \"Color\": \"Black\", \"Selling Price\": 5499, \"Original Price\": 5499, \"Display\": \"AMOLED Display\", \"Rating (Out of 5)\": 3.9, \"Strap Material\": \"Plastic\", \"Average Battery Life (in days)\": 14, \"Reviews\": \"77\"}, {\"Brand Name\": \"Honor\", \"Device Type\": \"FitnessBand\", \"Model Name\": \"Band 3\", \"Color\": \"Black\", \"Selling Price\": 4750, \"Original Price\": 5499, \"Display\": \"OLED Display\", \"Rating (Out of 5)\": 4.3, \"Strap Material\": \"Plastic\", \"Average Battery Life (in days)\": 7, \"Reviews\": \"122\"}, {\"Brand Name\": \"GOQii\", \"Device Type\": \"FitnessBand\", \"Model Name\": \"Beat\", \"Color\": \"Black\", \"Selling Price\": 2999, \"Original Price\": 2999, \"Display\": \"OLED Display\", \"Rating (Out of 5)\": 2.8, \"Strap Material\": \"Silicone\", \"Average Battery Life (in days)\": 7, \"Reviews\": null}, {\"Brand Name\": \"GOQii\", \"Device Type\": \"FitnessBand\", \"Model Name\": \"Vital 3.0\", \"Color\": \"Black\", \"Selling Price\": 3999, \"Original Price\": 3999, \"Display\": \"OLED Display\", \"Rating (Out of 5)\": 3.1, \"Strap Material\": \"Silicone\", \"Average Battery Life (in days)\": 7, \"Reviews\": null}, {\"Brand Name\": \"Infinix\", \"Device Type\": \"FitnessBand\", \"Model Name\": \"Band 5\", \"Color\": \"Black, Blue, Red\", \"Selling Price\": 1499, \"Original Price\": 2999, \"Display\": \"TFT-LCD Display\", \"Rating (Out of 5)\": 3.8, \"Strap Material\": \"Silicone\", \"Average Battery Life (in days)\": 4, \"Reviews\": null}, {\"Brand Name\": \"LCARE\", \"Device Type\": \"Smartwatch\", \"Model Name\": \"Watch\", \"Color\": \"Black\", \"Selling Price\": 2995, \"Original Price\": 4495, \"Display\": \"OLED Display\", \"Rating (Out of 5)\": 3.5, \"Strap Material\": \"Silicone\", \"Average Battery Life (in days)\": 7, \"Reviews\": null}, {\"Brand Name\": \"LCARE\", \"Device Type\": \"FitnessBand\", \"Model Name\": \"Mambo\", \"Color\": \"Black\", \"Selling Price\": 1699, \"Original Price\": 2995, \"Display\": \"OLED Display\", \"Rating (Out of 5)\": 3.8, \"Strap Material\": \"Silicone\", \"Average Battery Life (in days)\": 4, \"Reviews\": null}, {\"Brand Name\": \"LAVA\", \"Device Type\": \"FitnessBand\", \"Model Name\": \"BeFit\", \"Color\": \"Black\", \"Selling Price\": 1999, \"Original Price\": 3499, \"Display\": \"LCD Display\", \"Rating (Out of 5)\": 3.6, \"Strap Material\": \"Thermoplastic polyurethane\", \"Average Battery Life (in days)\": 7, \"Reviews\": null}, {\"Brand Name\": \"Noise\", \"Device Type\": \"FitnessBand\", \"Model Name\": \"ColorFit\", \"Color\": \"Black, Blue\", \"Selling Price\": 2199, \"Original Price\": 2499, \"Display\": \"LCD Display\", \"Rating (Out of 5)\": 3.6, \"Strap Material\": \"Silicone\", \"Average Battery Life (in days)\": 3, \"Reviews\": null}, {\"Brand Name\": \"Noise\", \"Device Type\": \"FitnessBand\", \"Model Name\": \"ColorFit2\", \"Color\": \"Black, Blue, Pink\", \"Selling Price\": 1699, \"Original Price\": 2499, \"Display\": \"TFT-LCD Display\", \"Rating (Out of 5)\": 3.9, \"Strap Material\": \"Thermoplastic polyurethane\", \"Average Battery Life (in days)\": 7, \"Reviews\": null}, {\"Brand Name\": \"Oppo\", \"Device Type\": \"Smartwatch\", \"Model Name\": \"46 mm\", \"Color\": \"Black, Gold\", \"Selling Price\": 14990, \"Original Price\": 19990, \"Display\": \"AMOLED Display\", \"Rating (Out of 5)\": 3.9, \"Strap Material\": \"Rubber\", \"Average Battery Life (in days)\": 14, \"Reviews\": \"484\"}, {\"Brand Name\": \"Oppo\", \"Device Type\": \"Smartwatch\", \"Model Name\": \"41mm\", \"Color\": \"Pink, Silver, Black\", \"Selling Price\": 17990, \"Original Price\": 24990, \"Display\": \"AMOLED Display\", \"Rating (Out of 5)\": 3.9, \"Strap Material\": \"Rubber\", \"Average Battery Life (in days)\": 14, \"Reviews\": null}, {\"Brand Name\": \"realme\", \"Device Type\": \"Smartwatch\", \"Model Name\": \"2 Pro\", \"Color\": \"Grey\", \"Selling Price\": 4999, \"Original Price\": 5999, \"Display\": \"AMOLED Display\", \"Rating (Out of 5)\": 4.4, \"Strap Material\": \"Silicone\", \"Average Battery Life (in days)\": 14, \"Reviews\": \"338\"}, {\"Brand Name\": \"realme\", \"Device Type\": \"Smartwatch\", \"Model Name\": \"2S\", \"Color\": \"Black\", \"Selling Price\": 3499, \"Original Price\": 3999, \"Display\": \"AMOLED Display\", \"Rating (Out of 5)\": 4.2, \"Strap Material\": \"Silicone\", \"Average Battery Life (in days)\": 7, \"Reviews\": \"928\"}, {\"Brand Name\": \"realme\", \"Device Type\": \"Smartwatch\", \"Model Name\": \"S\", \"Color\": \"Black, White\", \"Selling Price\": 4999, \"Original Price\": 7999, \"Display\": \"AMOLED Display\", \"Rating (Out of 5)\": 4.3, \"Strap Material\": \"Silicone\", \"Average Battery Life (in days)\": 14, \"Reviews\": \"4,142\"}, {\"Brand Name\": \"realme\", \"Device Type\": \"Smartwatch\", \"Model Name\": \"S\", \"Color\": \"Black\", \"Selling Price\": 6779, \"Original Price\": 7999, \"Display\": \"AMOLED Display\", \"Rating (Out of 5)\": 4.3, \"Strap Material\": \"Silicone\", \"Average Battery Life (in days)\": 14, \"Reviews\": null}, {\"Brand Name\": \"realme\", \"Device Type\": \"Smartwatch\", \"Model Name\": \"S Pro\", \"Color\": \"Black\", \"Selling Price\": 9999, \"Original Price\": 12999, \"Display\": \"AMOLED Display\", \"Rating (Out of 5)\": 4.1, \"Strap Material\": \"Silicone\", \"Average Battery Life (in days)\": 14, \"Reviews\": \"259\"}, {\"Brand Name\": \"realme\", \"Device Type\": \"Smartwatch\", \"Model Name\": \"S Master\", \"Color\": \"Black\", \"Selling Price\": 5999, \"Original Price\": 8999, \"Display\": \"AMOLED Display\", \"Rating (Out of 5)\": 4.3, \"Strap Material\": \"Silicone\", \"Average Battery Life (in days)\": 14, \"Reviews\": null}, {\"Brand Name\": \"realme\", \"Device Type\": \"Smartwatch\", \"Model Name\": \"Fashion\", \"Color\": \"Black\", \"Selling Price\": 5400, \"Original Price\": 6999, \"Display\": \"TFT-LCD Display\", \"Rating (Out of 5)\": 4.0, \"Strap Material\": \"Silicone\", \"Average Battery Life (in days)\": 14, \"Reviews\": null}, {\"Brand Name\": \"realme\", \"Device Type\": \"Smartwatch\", \"Model Name\": \"Classic\", \"Color\": \"Black\", \"Selling Price\": 3921, \"Original Price\": 6999, \"Display\": \"TFT-LCD Display\", \"Rating (Out of 5)\": 4.0, \"Strap Material\": \"Silicone\", \"Average Battery Life (in days)\": 7, \"Reviews\": null}, {\"Brand Name\": \"Fastrack\", \"Device Type\": \"Smartwatch\", \"Model Name\": \"Reflex 3.0\", \"Color\": \"Black, Pink\", \"Selling Price\": 2495, \"Original Price\": 2995, \"Display\": \"TFT-LCD Display\", \"Rating (Out of 5)\": 3.8, \"Strap Material\": \"Silicone\", \"Average Battery Life (in days)\": 7, \"Reviews\": null}, {\"Brand Name\": \"Fastrack\", \"Device Type\": \"Smartwatch\", \"Model Name\": \"Reflex 3.0\", \"Color\": \"Black\", \"Selling Price\": 2200, \"Original Price\": 2995, \"Display\": \"TFT-LCD Display\", \"Rating (Out of 5)\": 4.1, \"Strap Material\": \"Silicone\", \"Average Battery Life (in days)\": 4, \"Reviews\": null}, {\"Brand Name\": \"Fastrack\", \"Device Type\": \"Smartwatch\", \"Model Name\": \"Reflex Beat\", \"Color\": \"Purple, Black\", \"Selling Price\": 1645, \"Original Price\": 2195, \"Display\": \"TFT-LCD Display\", \"Rating (Out of 5)\": 4.0, \"Strap Material\": \"Silicone\", \"Average Battery Life (in days)\": 4, \"Reviews\": null}, {\"Brand Name\": \"Fastrack\", \"Device Type\": \"FitnessBand\", \"Model Name\": \"Reflex Smart Band\", \"Color\": \"Orange, Red, Black\", \"Selling Price\": 1595, \"Original Price\": 1995, \"Display\": \"OLED Display\", \"Rating (Out of 5)\": 4.0, \"Strap Material\": \"Silicone\", \"Average Battery Life (in days)\": 4, \"Reviews\": null}, {\"Brand Name\": \"Fastrack\", \"Device Type\": \"FitnessBand\", \"Model Name\": \"Reflex Smart Band\", \"Color\": \"Green, Grey\", \"Selling Price\": 1195, \"Original Price\": 1995, \"Display\": \"OLED Display\", \"Rating (Out of 5)\": 4.1, \"Strap Material\": \"Silicone\", \"Average Battery Life (in days)\": 4, \"Reviews\": null}, {\"Brand Name\": \"Fastrack\", \"Device Type\": \"Smartwatch\", \"Model Name\": \"Reflex 2.0\", \"Color\": \"Black, Green\", \"Selling Price\": 1395, \"Original Price\": 1995, \"Display\": \"TFT-LCD Display\", \"Rating (Out of 5)\": 4.1, \"Strap Material\": \"Silicone\", \"Average Battery Life (in days)\": 10, \"Reviews\": null}, {\"Brand Name\": \"boAt \", \"Device Type\": \"Smartwatch\", \"Model Name\": \"Storm\", \"Color\": \"Black, Teal Green, Grey\", \"Selling Price\": 2999, \"Original Price\": 5990, \"Display\": \"LCD Display\", \"Rating (Out of 5)\": 4.1, \"Strap Material\": \"Thermoplastic polyurethane\", \"Average Battery Life (in days)\": 7, \"Reviews\": \"1070\"}, {\"Brand Name\": \"boAt \", \"Device Type\": \"Smartwatch\", \"Model Name\": \"Xplorer\", \"Color\": \"Black, Red, Blue\", \"Selling Price\": 3499, \"Original Price\": 7990, \"Display\": \"LCD Display\", \"Rating (Out of 5)\": 3.8, \"Strap Material\": \"Thermoplastic polyurethane\", \"Average Battery Life (in days)\": 10, \"Reviews\": \"23069\"}, {\"Brand Name\": \"boAt \", \"Device Type\": \"Smartwatch\", \"Model Name\": \"Delta\", \"Color\": \"Black, Grey, Red\", \"Selling Price\": 2499, \"Original Price\": 5990, \"Display\": \"LCD Display\", \"Rating (Out of 5)\": 3.6, \"Strap Material\": \"Silicone\", \"Average Battery Life (in days)\": 7, \"Reviews\": \"529\"}, {\"Brand Name\": \"boAt \", \"Device Type\": \"Smartwatch\", \"Model Name\": \"O2\", \"Color\": \"Black, Green\", \"Selling Price\": 7990, \"Original Price\": 7990, \"Display\": \"LCD Display\", \"Rating (Out of 5)\": 4.1, \"Strap Material\": \"Thermoplastic polyurethane\", \"Average Battery Life (in days)\": 10, \"Reviews\": \"20122\"}, {\"Brand Name\": \"Noise \", \"Device Type\": \"Smartwatch\", \"Model Name\": \"ColorFit Qube SpO2\", \"Color\": \"Charcoal Grey, Black, Pink\", \"Selling Price\": 2499, \"Original Price\": 4999, \"Display\": \"AMOLED Display\", \"Rating (Out of 5)\": 4.3, \"Strap Material\": \"Thermoplastic polyurethane\", \"Average Battery Life (in days)\": 7, \"Reviews\": null}, {\"Brand Name\": \"Noise \", \"Device Type\": \"Smartwatch\", \"Model Name\": \"ColorFit Pro 3\", \"Color\": \"Green, Grey, Black, Blue, Pink, Red\", \"Selling Price\": 3999, \"Original Price\": 5999, \"Display\": \"AMOLED Display\", \"Rating (Out of 5)\": 4.2, \"Strap Material\": \"Thermoplastic polyurethane\", \"Average Battery Life (in days)\": 7, \"Reviews\": null}, {\"Brand Name\": \"Noise \", \"Device Type\": \"Smartwatch\", \"Model Name\": \"ColorFit Qube SpO2\", \"Color\": \"Charcoal Black, Beige Gold\", \"Selling Price\": 2499, \"Original Price\": 4999, \"Display\": \"AMOLED Display\", \"Rating (Out of 5)\": 4.3, \"Strap Material\": \"Thermoplastic polyurethane\", \"Average Battery Life (in days)\": 7, \"Reviews\": null}, {\"Brand Name\": \"Noise \", \"Device Type\": \"Smartwatch\", \"Model Name\": \"ColorFit Brio\", \"Color\": \"Black, Pink\", \"Selling Price\": 2999, \"Original Price\": 5999, \"Display\": \"AMOLED Display\", \"Rating (Out of 5)\": 4.3, \"Strap Material\": \"Thermoplastic polyurethane\", \"Average Battery Life (in days)\": 10, \"Reviews\": null}, {\"Brand Name\": \"Noise \", \"Device Type\": \"Smartwatch\", \"Model Name\": \"ColorFit Pro 2\", \"Color\": \"Black, Deep Wine, Blue, Grey, Teal\", \"Selling Price\": 2699, \"Original Price\": 4999, \"Display\": \"AMOLED Display\", \"Rating (Out of 5)\": 4.1, \"Strap Material\": \"Silicone\", \"Average Battery Life (in days)\": 10, \"Reviews\": null}, {\"Brand Name\": \"Noise \", \"Device Type\": \"Smartwatch\", \"Model Name\": \"Fit Active\", \"Color\": \"Blue, Black\", \"Selling Price\": 3499, \"Original Price\": 5999, \"Display\": \"AMOLED Display\", \"Rating (Out of 5)\": 4.2, \"Strap Material\": \"Silicone\", \"Average Battery Life (in days)\": 7, \"Reviews\": null}, {\"Brand Name\": \"Noise \", \"Device Type\": \"Smartwatch\", \"Model Name\": \"ColorFit Qube\", \"Color\": \"Black, Green\", \"Selling Price\": 2499, \"Original Price\": 4999, \"Display\": \"AMOLED Display\", \"Rating (Out of 5)\": 4.0, \"Strap Material\": \"Thermoplastic polyurethane\", \"Average Battery Life (in days)\": 7, \"Reviews\": null}, {\"Brand Name\": \"Noise \", \"Device Type\": \"Smartwatch\", \"Model Name\": \"ColorFit Pro 2 Oxy\", \"Color\": \"Black, Blue, Red\", \"Selling Price\": 2499, \"Original Price\": 4999, \"Display\": \"AMOLED Display\", \"Rating (Out of 5)\": 4.0, \"Strap Material\": \"Thermoplastic polyurethane\", \"Average Battery Life (in days)\": 7, \"Reviews\": null}, {\"Brand Name\": \"Noise \", \"Device Type\": \"Smartwatch\", \"Model Name\": \"ColorFit Brio\", \"Color\": \"Black, Green\", \"Selling Price\": 3499, \"Original Price\": 5999, \"Display\": \"AMOLED Display\", \"Rating (Out of 5)\": 4.3, \"Strap Material\": \"Thermoplastic polyurethane\", \"Average Battery Life (in days)\": 7, \"Reviews\": null}, {\"Brand Name\": \"Noise \", \"Device Type\": \"Smartwatch\", \"Model Name\": \"NoiseFit Endure\", \"Color\": \"Black, Red, Blue\", \"Selling Price\": 2999, \"Original Price\": 5999, \"Display\": \"AMOLED Display\", \"Rating (Out of 5)\": 3.9, \"Strap Material\": \"Silicone\", \"Average Battery Life (in days)\": 7, \"Reviews\": null}, {\"Brand Name\": \"Noise \", \"Device Type\": \"Smartwatch\", \"Model Name\": \"NoiseFit Endure\", \"Color\": \"Grey, Green\", \"Selling Price\": 2599, \"Original Price\": 5999, \"Display\": \"AMOLED Display\", \"Rating (Out of 5)\": 3.9, \"Strap Material\": \"Silicone\", \"Average Battery Life (in days)\": 7, \"Reviews\": null}, {\"Brand Name\": \"Noise \", \"Device Type\": \"Smartwatch\", \"Model Name\": \"ColorFit Pro\", \"Color\": \"Black, Blue\", \"Selling Price\": 2513, \"Original Price\": 4999, \"Display\": \"AMOLED Display\", \"Rating (Out of 5)\": 3.9, \"Strap Material\": \"Silicone\", \"Average Battery Life (in days)\": 7, \"Reviews\": null}, {\"Brand Name\": \"Noise \", \"Device Type\": \"Smartwatch\", \"Model Name\": \"ColorFit Pro\", \"Color\": \"Green, Teal, Grey\", \"Selling Price\": 2499, \"Original Price\": 4999, \"Display\": \"AMOLED Display\", \"Rating (Out of 5)\": 3.9, \"Strap Material\": \"Silicone\", \"Average Battery Life (in days)\": 7, \"Reviews\": null}, {\"Brand Name\": \"Noise \", \"Device Type\": \"Smartwatch\", \"Model Name\": \"Fit Evolve\", \"Color\": \"Red, Black\", \"Selling Price\": 5499, \"Original Price\": 7999, \"Display\": \"AMOLED Display\", \"Rating (Out of 5)\": 3.9, \"Strap Material\": \"Thermoplastic polyurethane\", \"Average Battery Life (in days)\": 7, \"Reviews\": null}, {\"Brand Name\": \"Noise \", \"Device Type\": \"Smartwatch\", \"Model Name\": \"Fusiom Hybrid\", \"Color\": \"Blue\", \"Selling Price\": 5999, \"Original Price\": 9999, \"Display\": \"AMOLED Display\", \"Rating (Out of 5)\": 4.0, \"Strap Material\": \"Thermoplastic polyurethane\", \"Average Battery Life (in days)\": 7, \"Reviews\": null}, {\"Brand Name\": \"Noise \", \"Device Type\": \"Smartwatch\", \"Model Name\": \"Evolve\", \"Color\": \"Black, Grey, Red\", \"Selling Price\": 4999, \"Original Price\": 7999, \"Display\": \"AMOLED Display\", \"Rating (Out of 5)\": 3.9, \"Strap Material\": \"Thermoplastic polyurethane\", \"Average Battery Life (in days)\": 7, \"Reviews\": null}, {\"Brand Name\": \"Noise \", \"Device Type\": \"Smartwatch\", \"Model Name\": \"NoiseFit Endure\", \"Color\": \"Black, Blue, Teal\", \"Selling Price\": 2799, \"Original Price\": 5999, \"Display\": \"AMOLED Display\", \"Rating (Out of 5)\": 3.9, \"Strap Material\": \"Thermoplastic polyurethane\", \"Average Battery Life (in days)\": 7, \"Reviews\": null}, {\"Brand Name\": \"Honor\", \"Device Type\": \"Smartwatch\", \"Model Name\": \"Z1\", \"Color\": \"Black\", \"Selling Price\": 5499, \"Original Price\": 5499, \"Display\": \"OLED Display\", \"Rating (Out of 5)\": 3.1, \"Strap Material\": \"Silicone\", \"Average Battery Life (in days)\": 14, \"Reviews\": \"102\"}, {\"Brand Name\": \"Honor\", \"Device Type\": \"Smartwatch\", \"Model Name\": \"GS Pro\", \"Color\": \"Black\", \"Selling Price\": 13999, \"Original Price\": 20999, \"Display\": \"AMOLED Display\", \"Rating (Out of 5)\": 4.4, \"Strap Material\": \"Nylon\", \"Average Battery Life (in days)\": 25, \"Reviews\": \"215\"}, {\"Brand Name\": \"Honor\", \"Device Type\": \"Smartwatch\", \"Model Name\": \"GS Pro\", \"Color\": \"Blue\", \"Selling Price\": 17999, \"Original Price\": 20999, \"Display\": \"AMOLED Display\", \"Rating (Out of 5)\": 4.4, \"Strap Material\": \"Nylon\", \"Average Battery Life (in days)\": 25, \"Reviews\": \"215\"}, {\"Brand Name\": \"Honor\", \"Device Type\": \"Smartwatch\", \"Model Name\": \"Watch Magic\", \"Color\": \"Black\", \"Selling Price\": 7999, \"Original Price\": 17999, \"Display\": \"AMOLED Display\", \"Rating (Out of 5)\": 4.3, \"Strap Material\": \"Silicone\", \"Average Battery Life (in days)\": 7, \"Reviews\": \"281\"}, {\"Brand Name\": \"Honor\", \"Device Type\": \"Smartwatch\", \"Model Name\": \"Magic Watch 2\", \"Color\": \"Brown\", \"Selling Price\": 13999, \"Original Price\": 15999, \"Display\": \"AMOLED Display\", \"Rating (Out of 5)\": 4.4, \"Strap Material\": \"Leather\", \"Average Battery Life (in days)\": 14, \"Reviews\": \"1663\"}, {\"Brand Name\": \"Honor\", \"Device Type\": \"Smartwatch\", \"Model Name\": \"Watch ES\", \"Color\": \"Black, Pink\", \"Selling Price\": 4999, \"Original Price\": 10999, \"Display\": \"AMOLED Display\", \"Rating (Out of 5)\": 4.3, \"Strap Material\": \"Silicone\", \"Average Battery Life (in days)\": 10, \"Reviews\": \"354\"}, {\"Brand Name\": \"Honor\", \"Device Type\": \"Smartwatch\", \"Model Name\": \"Magic Watch\", \"Color\": \"Brown\", \"Selling Price\": 9047, \"Original Price\": 17999, \"Display\": \"AMOLED Display\", \"Rating (Out of 5)\": 4.3, \"Strap Material\": \"Silicone\", \"Average Battery Life (in days)\": 7, \"Reviews\": \"281\"}, {\"Brand Name\": \"huami\", \"Device Type\": \"Smartwatch\", \"Model Name\": \"Amazfit GTS\", \"Color\": \"Beige\", \"Selling Price\": 5499, \"Original Price\": 12999, \"Display\": \"AMOLED Display\", \"Rating (Out of 5)\": 4.3, \"Strap Material\": \"Silicone\", \"Average Battery Life (in days)\": 14, \"Reviews\": \"1907\"}, {\"Brand Name\": \"huami\", \"Device Type\": \"Smartwatch\", \"Model Name\": \"Amazfit GTS\", \"Color\": \"Black\", \"Selling Price\": 5299, \"Original Price\": 12999, \"Display\": \"AMOLED Display\", \"Rating (Out of 5)\": 4.3, \"Strap Material\": \"Silicone\", \"Average Battery Life (in days)\": 14, \"Reviews\": \"1907\"}, {\"Brand Name\": \"huami\", \"Device Type\": \"Smartwatch\", \"Model Name\": \"Amazfit GTS\", \"Color\": \"Pink\", \"Selling Price\": 5999, \"Original Price\": 12999, \"Display\": \"AMOLED Display\", \"Rating (Out of 5)\": 4.3, \"Strap Material\": \"Silicone\", \"Average Battery Life (in days)\": 14, \"Reviews\": \"1907\"}, {\"Brand Name\": \"huami\", \"Device Type\": \"Smartwatch\", \"Model Name\": \"Amazfit GTS\", \"Color\": \"Blue\", \"Selling Price\": 5499, \"Original Price\": 12999, \"Display\": \"AMOLED Display\", \"Rating (Out of 5)\": 4.3, \"Strap Material\": \"Silicone\", \"Average Battery Life (in days)\": 14, \"Reviews\": \"1907\"}, {\"Brand Name\": \"huami\", \"Device Type\": \"Smartwatch\", \"Model Name\": \"Amazfit Bip U\", \"Color\": \"Black, Pink\", \"Selling Price\": 2999, \"Original Price\": 5999, \"Display\": \"AMOLED Display\", \"Rating (Out of 5)\": 4.2, \"Strap Material\": \"Silicone\", \"Average Battery Life (in days)\": 9, \"Reviews\": \"1334\"}, {\"Brand Name\": \"huami\", \"Device Type\": \"Smartwatch\", \"Model Name\": \"Amazfit Bip S Lite\", \"Color\": \"Black\", \"Selling Price\": 1999, \"Original Price\": 4999, \"Display\": \"AMOLED Display\", \"Rating (Out of 5)\": 3.9, \"Strap Material\": \"Silicone\", \"Average Battery Life (in days)\": 14, \"Reviews\": \"849\"}, {\"Brand Name\": \"huami\", \"Device Type\": \"Smartwatch\", \"Model Name\": \"Amazfit T-Rex\", \"Color\": \"Green, Grey\", \"Selling Price\": 5999, \"Original Price\": 10999, \"Display\": \"AMOLED Display\", \"Rating (Out of 5)\": 4.3, \"Strap Material\": \"Silicone\", \"Average Battery Life (in days)\": 20, \"Reviews\": \"359\"}, {\"Brand Name\": \"huami\", \"Device Type\": \"Smartwatch\", \"Model Name\": \"Amazfit GTS 2e\", \"Color\": \"Purple\", \"Selling Price\": 7999, \"Original Price\": 13999, \"Display\": \"AMOLED Display\", \"Rating (Out of 5)\": 4.2, \"Strap Material\": \"Silicone\", \"Average Battery Life (in days)\": 14, \"Reviews\": \"294\"}, {\"Brand Name\": \"huami\", \"Device Type\": \"Smartwatch\", \"Model Name\": \"Amazfit GTR 2 Aluminium\", \"Color\": \"Black, Red\", \"Selling Price\": 11999, \"Original Price\": 17999, \"Display\": \"AMOLED Display\", \"Rating (Out of 5)\": 4.1, \"Strap Material\": \"Silicone\", \"Average Battery Life (in days)\": 10, \"Reviews\": \"647\"}, {\"Brand Name\": \"huami\", \"Device Type\": \"Smartwatch\", \"Model Name\": \"Amazfit GTS 2\", \"Color\": \"Black\", \"Selling Price\": 11999, \"Original Price\": 17999, \"Display\": \"AMOLED Display\", \"Rating (Out of 5)\": 4.1, \"Strap Material\": \"Silicone\", \"Average Battery Life (in days)\": 7, \"Reviews\": \"153\"}, {\"Brand Name\": \"huami\", \"Device Type\": \"Smartwatch\", \"Model Name\": \"Amazfit GTR 2 Stainless Steel\", \"Color\": \"Grey, Blue\", \"Selling Price\": 12499, \"Original Price\": 17999, \"Display\": \"AMOLED Display\", \"Rating (Out of 5)\": 4.1, \"Strap Material\": \"Silicone\", \"Average Battery Life (in days)\": 10, \"Reviews\": \"647\"}, {\"Brand Name\": \"huami\", \"Device Type\": \"Smartwatch\", \"Model Name\": \"Amazfit Bip\", \"Color\": \"Black\", \"Selling Price\": 5499, \"Original Price\": 6999, \"Display\": \"AMOLED Display\", \"Rating (Out of 5)\": 4.2, \"Strap Material\": \"Silicone\", \"Average Battery Life (in days)\": 28, \"Reviews\": \"4651\"}, {\"Brand Name\": \"huami\", \"Device Type\": \"Smartwatch\", \"Model Name\": \"Amazfit GTR 42 mm Glitter\", \"Color\": \"White \", \"Selling Price\": 9999, \"Original Price\": 16999, \"Display\": \"AMOLED Display\", \"Rating (Out of 5)\": 4.2, \"Strap Material\": \"Silicone\", \"Average Battery Life (in days)\": 12, \"Reviews\": \"3\"}, {\"Brand Name\": \"huami\", \"Device Type\": \"Smartwatch\", \"Model Name\": \"Amazfit Neo\", \"Color\": \"Black\", \"Selling Price\": 2499, \"Original Price\": 3999, \"Display\": \"AMOLED Display\", \"Rating (Out of 5)\": 4.2, \"Strap Material\": \"Thermoplastic polyurethane\", \"Average Battery Life (in days)\": 7, \"Reviews\": \"176\"}, {\"Brand Name\": \"huami\", \"Device Type\": \"Smartwatch\", \"Model Name\": \"Amazfit Bip S\", \"Color\": \"Black\", \"Selling Price\": 5299, \"Original Price\": 6499, \"Display\": \"AMOLED Display\", \"Rating (Out of 5)\": 4.0, \"Strap Material\": \"Thermoplastic polyurethane\", \"Average Battery Life (in days)\": 15, \"Reviews\": \"489\"}, {\"Brand Name\": \"huami\", \"Device Type\": \"Smartwatch\", \"Model Name\": \"Amazfit GTR 42\", \"Color\": \"Black\", \"Selling Price\": 8999, \"Original Price\": 12999, \"Display\": \"AMOLED Display\", \"Rating (Out of 5)\": 4.3, \"Strap Material\": \"Silicone\", \"Average Battery Life (in days)\": 14, \"Reviews\": null}, {\"Brand Name\": \"huami\", \"Device Type\": \"Smartwatch\", \"Model Name\": \"Amazfit Stratos 3\", \"Color\": \"Black\", \"Selling Price\": 13999, \"Original Price\": 17999, \"Display\": \"AMOLED Display\", \"Rating (Out of 5)\": 3.7, \"Strap Material\": \"Silicone\", \"Average Battery Life (in days)\": 14, \"Reviews\": null}, {\"Brand Name\": \"huami\", \"Device Type\": \"Smartwatch\", \"Model Name\": \"Amazfit GTR 42\", \"Color\": \"Red\", \"Selling Price\": 9999, \"Original Price\": 12999, \"Display\": \"AMOLED Display\", \"Rating (Out of 5)\": 4.3, \"Strap Material\": \"Silicone\", \"Average Battery Life (in days)\": 12, \"Reviews\": \"146\"}, {\"Brand Name\": \"huami\", \"Device Type\": \"Smartwatch\", \"Model Name\": \"Amazfit Pace\", \"Color\": \"Black\", \"Selling Price\": 9999, \"Original Price\": 10999, \"Display\": \"AMOLED Display\", \"Rating (Out of 5)\": 4.2, \"Strap Material\": \"Silicone\", \"Average Battery Life (in days)\": 14, \"Reviews\": null}, {\"Brand Name\": \"huami\", \"Device Type\": \"Smartwatch\", \"Model Name\": \"Amazfit Bip S\", \"Color\": \"Red\", \"Selling Price\": 2999, \"Original Price\": 4999, \"Display\": \"AMOLED Display\", \"Rating (Out of 5)\": 3.9, \"Strap Material\": \"Thermoplastic polyurethane\", \"Average Battery Life (in days)\": 15, \"Reviews\": \"489\"}, {\"Brand Name\": \"huami\", \"Device Type\": \"Smartwatch\", \"Model Name\": \"Amazfit Bip S\", \"Color\": \"Green, Grey\", \"Selling Price\": 3799, \"Original Price\": 4999, \"Display\": \"AMOLED Display\", \"Rating (Out of 5)\": 3.9, \"Strap Material\": \"Thermoplastic polyurethane\", \"Average Battery Life (in days)\": 15, \"Reviews\": \"489\"}, {\"Brand Name\": \"huami\", \"Device Type\": \"Smartwatch\", \"Model Name\": \"Amazfit Bip\", \"Color\": \"Pink\", \"Selling Price\": 5499, \"Original Price\": 5990, \"Display\": \"AMOLED Display\", \"Rating (Out of 5)\": 4.2, \"Strap Material\": \"Silicone\", \"Average Battery Life (in days)\": 28, \"Reviews\": \"489\"}, {\"Brand Name\": \"huami\", \"Device Type\": \"Smartwatch\", \"Model Name\": \"Amazfit Bip S\", \"Color\": \"White \", \"Selling Price\": 4999, \"Original Price\": 5999, \"Display\": \"AMOLED Display\", \"Rating (Out of 5)\": 4.0, \"Strap Material\": \"Thermoplastic polyurethane\", \"Average Battery Life (in days)\": 15, \"Reviews\": \"489\"}, {\"Brand Name\": \"huami\", \"Device Type\": \"Smartwatch\", \"Model Name\": \"Amazfit GTR 47\", \"Color\": \"Black\", \"Selling Price\": 10999, \"Original Price\": 18999, \"Display\": \"AMOLED Display\", \"Rating (Out of 5)\": 4.2, \"Strap Material\": \"Silicone\", \"Average Battery Life (in days)\": 25, \"Reviews\": null}, {\"Brand Name\": \"huami\", \"Device Type\": \"Smartwatch\", \"Model Name\": \"Amazfit GTR 47\", \"Color\": \"Black\", \"Selling Price\": 8999, \"Original Price\": 13999, \"Display\": \"AMOLED Display\", \"Rating (Out of 5)\": 4.3, \"Strap Material\": \"Silicone\", \"Average Battery Life (in days)\": 25, \"Reviews\": \"176\"}, {\"Brand Name\": \"huami\", \"Device Type\": \"Smartwatch\", \"Model Name\": \"Amazfit Verge\", \"Color\": \"Black\", \"Selling Price\": 12999, \"Original Price\": 12999, \"Display\": \"AMOLED Display\", \"Rating (Out of 5)\": 4.1, \"Strap Material\": \"Silicone\", \"Average Battery Life (in days)\": 25, \"Reviews\": \"489\"}, {\"Brand Name\": \"huami\", \"Device Type\": \"Smartwatch\", \"Model Name\": \"Amazfit Verge\", \"Color\": \"Black\", \"Selling Price\": 11999, \"Original Price\": 12999, \"Display\": \"AMOLED Display\", \"Rating (Out of 5)\": 4.1, \"Strap Material\": \"Silicone\", \"Average Battery Life (in days)\": 25, \"Reviews\": \"489\"}, {\"Brand Name\": \"huami\", \"Device Type\": \"Smartwatch\", \"Model Name\": \"Amazfit Verge\", \"Color\": \"Black\", \"Selling Price\": 5999, \"Original Price\": 8999, \"Display\": \"AMOLED Display\", \"Rating (Out of 5)\": 4.2, \"Strap Material\": \"Silicone\", \"Average Battery Life (in days)\": 14, \"Reviews\": \"489\"}, {\"Brand Name\": \"huami\", \"Device Type\": \"Smartwatch\", \"Model Name\": \"Amazfit Bip\", \"Color\": \"Red\", \"Selling Price\": 4950, \"Original Price\": 5990, \"Display\": \"AMOLED Display\", \"Rating (Out of 5)\": 4.2, \"Strap Material\": \"Silicone\", \"Average Battery Life (in days)\": 28, \"Reviews\": \"176\"}, {\"Brand Name\": \"huami\", \"Device Type\": \"Smartwatch\", \"Model Name\": \"Amazfit Verge\", \"Color\": \"Black\", \"Selling Price\": 11999, \"Original Price\": 12999, \"Display\": \"AMOLED Display\", \"Rating (Out of 5)\": 4.1, \"Strap Material\": \"Silicone\", \"Average Battery Life (in days)\": 7, \"Reviews\": \"176\"}, {\"Brand Name\": \"huami\", \"Device Type\": \"Smartwatch\", \"Model Name\": \"Amazfit Bip\", \"Color\": \"Purple\", \"Selling Price\": 5499, \"Original Price\": 6999, \"Display\": \"AMOLED Display\", \"Rating (Out of 5)\": 4.2, \"Strap Material\": \"Silicone\", \"Average Battery Life (in days)\": 28, \"Reviews\": \"176\"}, {\"Brand Name\": \"huami\", \"Device Type\": \"Smartwatch\", \"Model Name\": \"Amazfit Stratos\", \"Color\": \"Black\", \"Selling Price\": 12999, \"Original Price\": 15999, \"Display\": \"AMOLED Display\", \"Rating (Out of 5)\": 4.2, \"Strap Material\": \"Silicone\", \"Average Battery Life (in days)\": 25, \"Reviews\": \"103\"}, {\"Brand Name\": \"huami\", \"Device Type\": \"Smartwatch\", \"Model Name\": \"Amazfit Bip Lite\", \"Color\": \"Black\", \"Selling Price\": 3499, \"Original Price\": 5499, \"Display\": \"AMOLED Display\", \"Rating (Out of 5)\": 4.0, \"Strap Material\": \"Thermoplastic polyurethane\", \"Average Battery Life (in days)\": 7, \"Reviews\": \"125\"}, {\"Brand Name\": \"huami\", \"Device Type\": \"Smartwatch\", \"Model Name\": \"Amazfit Verge Lite\", \"Color\": \"Black\", \"Selling Price\": 5999, \"Original Price\": 8999, \"Display\": \"AMOLED Display\", \"Rating (Out of 5)\": 4.2, \"Strap Material\": \"Silicone\", \"Average Battery Life (in days)\": 5, \"Reviews\": \"136\"}, {\"Brand Name\": \"huami\", \"Device Type\": \"Smartwatch\", \"Model Name\": \"Amazfit Bip\", \"Color\": \"Grey\", \"Selling Price\": 6399, \"Original Price\": 7399, \"Display\": \"AMOLED Display\", \"Rating (Out of 5)\": 4.4, \"Strap Material\": \"Silicone\", \"Average Battery Life (in days)\": 28, \"Reviews\": \"176\"}, {\"Brand Name\": \"huami\", \"Device Type\": \"Smartwatch\", \"Model Name\": \"Bip Lite On\", \"Color\": \"Black\", \"Selling Price\": 7999, \"Original Price\": 14999, \"Display\": \"AMOLED Display\", \"Rating (Out of 5)\": 4.1, \"Strap Material\": \"Silicone\", \"Average Battery Life (in days)\": 7, \"Reviews\": \"183\"}, {\"Brand Name\": \"SAMSUNG \", \"Device Type\": \"Smartwatch\", \"Model Name\": \"Galaxy Active 2\", \"Color\": \"Black, Beige\", \"Selling Price\": 11990, \"Original Price\": 25990, \"Display\": \"AMOLED Display\", \"Rating (Out of 5)\": 4.5, \"Strap Material\": \"Silicone\", \"Average Battery Life (in days)\": 7, \"Reviews\": null}, {\"Brand Name\": \"SAMSUNG \", \"Device Type\": \"Smartwatch\", \"Model Name\": \"Galaxy Active 2\", \"Color\": \"Grey\", \"Selling Price\": 12990, \"Original Price\": 25990, \"Display\": \"AMOLED Display\", \"Rating (Out of 5)\": 4.5, \"Strap Material\": \"Silicone\", \"Average Battery Life (in days)\": 7, \"Reviews\": null}, {\"Brand Name\": \"SAMSUNG \", \"Device Type\": \"Smartwatch\", \"Model Name\": \"Galaxy Classic 4\", \"Color\": \"Black\", \"Selling Price\": 32959, \"Original Price\": 37999, \"Display\": \"AMOLED Display\", \"Rating (Out of 5)\": 4.6, \"Strap Material\": \"Elastomer\", \"Average Battery Life (in days)\": 14, \"Reviews\": null}, {\"Brand Name\": \"SAMSUNG \", \"Device Type\": \"Smartwatch\", \"Model Name\": \"Galaxy Classic 4\", \"Color\": \"Silver\", \"Selling Price\": 40000, \"Original Price\": 42999, \"Display\": \"AMOLED Display\", \"Rating (Out of 5)\": 4.6, \"Strap Material\": \"Elastomer\", \"Average Battery Life (in days)\": 14, \"Reviews\": null}, {\"Brand Name\": \"SAMSUNG \", \"Device Type\": \"Smartwatch\", \"Model Name\": \"Galaxy Classic 4\", \"Color\": \"Silver\", \"Selling Price\": 34999, \"Original Price\": 37999, \"Display\": \"AMOLED Display\", \"Rating (Out of 5)\": 4.6, \"Strap Material\": \"Elastomer\", \"Average Battery Life (in days)\": 14, \"Reviews\": null}, {\"Brand Name\": \"SAMSUNG \", \"Device Type\": \"Smartwatch\", \"Model Name\": \"Galaxy Classic 4 LTE\", \"Color\": \"Black\", \"Selling Price\": 28999, \"Original Price\": 31999, \"Display\": \"AMOLED Display\", \"Rating (Out of 5)\": 5.0, \"Strap Material\": \"Elastomer\", \"Average Battery Life (in days)\": 14, \"Reviews\": null}, {\"Brand Name\": \"SAMSUNG \", \"Device Type\": \"FitnessBand\", \"Model Name\": \"Galaxy Fit-e Smart\", \"Color\": \"Black\", \"Selling Price\": 2000, \"Original Price\": 2590, \"Display\": \"PMOLED Display\", \"Rating (Out of 5)\": 3.8, \"Strap Material\": \"Rubber\", \"Average Battery Life (in days)\": 7, \"Reviews\": null}, {\"Brand Name\": \"SAMSUNG \", \"Device Type\": \"FitnessBand\", \"Model Name\": \"Galaxy Fit-e Smart\", \"Color\": \"Yellow\", \"Selling Price\": 2490, \"Original Price\": 2590, \"Display\": \"PMOLED Display\", \"Rating (Out of 5)\": 3.8, \"Strap Material\": \"Rubber\", \"Average Battery Life (in days)\": 7, \"Reviews\": null}, {\"Brand Name\": \"SAMSUNG \", \"Device Type\": \"FitnessBand\", \"Model Name\": \"Galaxy Fit\", \"Color\": \"Silver\", \"Selling Price\": 8990, \"Original Price\": 9990, \"Display\": \"AMOLED Display\", \"Rating (Out of 5)\": 4.0, \"Strap Material\": \"Rubber\", \"Average Battery Life (in days)\": 7, \"Reviews\": null}, {\"Brand Name\": \"SAMSUNG \", \"Device Type\": \"Smartwatch\", \"Model Name\": \"Galaxy Watch 3\", \"Color\": \"Black\", \"Selling Price\": 28990, \"Original Price\": 30990, \"Display\": \"AMOLED Display\", \"Rating (Out of 5)\": 4.3, \"Strap Material\": \"Leather\", \"Average Battery Life (in days)\": 14, \"Reviews\": null}, {\"Brand Name\": \"SAMSUNG \", \"Device Type\": \"Smartwatch\", \"Model Name\": \"Galaxy Watch 4 LTE\", \"Color\": \"Black\", \"Selling Price\": 31999, \"Original Price\": 34999, \"Display\": \"AMOLED Display\", \"Rating (Out of 5)\": 4.6, \"Strap Material\": \"Elastomer\", \"Average Battery Life (in days)\": 14, \"Reviews\": null}, {\"Brand Name\": \"SAMSUNG \", \"Device Type\": \"Smartwatch\", \"Model Name\": \"Galaxy Watch 4 Classic LTE\", \"Color\": \"Black\", \"Selling Price\": 40000, \"Original Price\": 42999, \"Display\": \"AMOLED Display\", \"Rating (Out of 5)\": 4.6, \"Strap Material\": \"Elastomer\", \"Average Battery Life (in days)\": 14, \"Reviews\": null}, {\"Brand Name\": \"SAMSUNG \", \"Device Type\": \"Smartwatch\", \"Model Name\": \"Galaxy Watch 4 LTE\", \"Color\": \"Pink\", \"Selling Price\": 28999, \"Original Price\": 31999, \"Display\": \"AMOLED Display\", \"Rating (Out of 5)\": 4.6, \"Strap Material\": \"Elastomer\", \"Average Battery Life (in days)\": 14, \"Reviews\": null}, {\"Brand Name\": \"SAMSUNG \", \"Device Type\": \"Smartwatch\", \"Model Name\": \"Galaxy Active 2\", \"Color\": \"Grey\", \"Selling Price\": 18990, \"Original Price\": 28490, \"Display\": \"AMOLED Display\", \"Rating (Out of 5)\": 4.1, \"Strap Material\": \"Silicone\", \"Average Battery Life (in days)\": 14, \"Reviews\": null}, {\"Brand Name\": \"SAMSUNG \", \"Device Type\": \"Smartwatch\", \"Model Name\": \"Galaxy 46mm\", \"Color\": \"Grey\", \"Selling Price\": 16990, \"Original Price\": 33999, \"Display\": \"AMOLED Display\", \"Rating (Out of 5)\": 4.5, \"Strap Material\": \"Elastomer\", \"Average Battery Life (in days)\": 7, \"Reviews\": null}, {\"Brand Name\": \"SAMSUNG \", \"Device Type\": \"Smartwatch\", \"Model Name\": \"Galaxy Classic 4 LTE\", \"Color\": \"Silver, Green\", \"Selling Price\": 36999, \"Original Price\": 39999, \"Display\": \"AMOLED Display\", \"Rating (Out of 5)\": 4.6, \"Strap Material\": \"Elastomer\", \"Average Battery Life (in days)\": 14, \"Reviews\": null}, {\"Brand Name\": \"SAMSUNG \", \"Device Type\": \"Smartwatch\", \"Model Name\": \"Galaxy Active Steel 2 LTE\", \"Color\": \"Brown\", \"Selling Price\": 30990, \"Original Price\": 34490, \"Display\": \"AMOLED Display\", \"Rating (Out of 5)\": 4.1, \"Strap Material\": \"Silicone\", \"Average Battery Life (in days)\": 14, \"Reviews\": null}, {\"Brand Name\": \"SAMSUNG \", \"Device Type\": \"Smartwatch\", \"Model Name\": \"Galaxy Active Steel 2\", \"Color\": \"Black\", \"Selling Price\": 24490, \"Original Price\": 31990, \"Display\": \"AMOLED Display\", \"Rating (Out of 5)\": 4.3, \"Strap Material\": \"Silicone\", \"Average Battery Life (in days)\": 14, \"Reviews\": null}, {\"Brand Name\": \"SAMSUNG \", \"Device Type\": \"Smartwatch\", \"Model Name\": \"Galaxy Classic 4\", \"Color\": \"Blue\", \"Selling Price\": 34999, \"Original Price\": 34999, \"Display\": \"AMOLED Display\", \"Rating (Out of 5)\": 4.6, \"Strap Material\": \"Silicone\", \"Average Battery Life (in days)\": 14, \"Reviews\": null}, {\"Brand Name\": \"SAMSUNG \", \"Device Type\": \"Smartwatch\", \"Model Name\": \"Galaxy Active 42mm\", \"Color\": \"Black\", \"Selling Price\": 19990, \"Original Price\": 19990, \"Display\": \"AMOLED Display\", \"Rating (Out of 5)\": 4.4, \"Strap Material\": \"Elastomer\", \"Average Battery Life (in days)\": 14, \"Reviews\": null}, {\"Brand Name\": \"SAMSUNG \", \"Device Type\": \"Smartwatch\", \"Model Name\": \"Galaxy 44mm\", \"Color\": \"Beige\", \"Selling Price\": 24490, \"Original Price\": 28490, \"Display\": \"AMOLED Display\", \"Rating (Out of 5)\": 3.6, \"Strap Material\": \"Silicone\", \"Average Battery Life (in days)\": 14, \"Reviews\": null}, {\"Brand Name\": \"SAMSUNG \", \"Device Type\": \"Smartwatch\", \"Model Name\": \"Galaxy LTE\", \"Color\": \"Silver\", \"Selling Price\": 31999, \"Original Price\": 31999, \"Display\": \"AMOLED Display\", \"Rating (Out of 5)\": 4.6, \"Strap Material\": \"Elastomer\", \"Average Battery Life (in days)\": 14, \"Reviews\": null}, {\"Brand Name\": \"SAMSUNG \", \"Device Type\": \"Smartwatch\", \"Model Name\": \"Gear Fit 2\", \"Color\": \"Blue\", \"Selling Price\": 15000, \"Original Price\": 15000, \"Display\": \"AMOLED Display\", \"Rating (Out of 5)\": 4.2, \"Strap Material\": \"Silicone\", \"Average Battery Life (in days)\": 7, \"Reviews\": null}, {\"Brand Name\": \"SAMSUNG \", \"Device Type\": \"Smartwatch\", \"Model Name\": \"Gear Fit\", \"Color\": \"Black\", \"Selling Price\": 7999, \"Original Price\": 16860, \"Display\": \"AMOLED Display\", \"Rating (Out of 5)\": 3.9, \"Strap Material\": \"Silicone\", \"Average Battery Life (in days)\": 7, \"Reviews\": null}, {\"Brand Name\": \"SAMSUNG \", \"Device Type\": \"Smartwatch\", \"Model Name\": \"Galaxy Active 2 Steel\", \"Color\": \"Black\", \"Selling Price\": 24490, \"Original Price\": 31990, \"Display\": \"AMOLED Display\", \"Rating (Out of 5)\": 4.4, \"Strap Material\": \"Leather\", \"Average Battery Life (in days)\": 14, \"Reviews\": null}, {\"Brand Name\": \"SAMSUNG \", \"Device Type\": \"Smartwatch\", \"Model Name\": \"Gear S2\", \"Color\": \"Silver, Blue\", \"Selling Price\": 24300, \"Original Price\": 24300, \"Display\": \"AMOLED Display\", \"Rating (Out of 5)\": 4.3, \"Strap Material\": \"Elastomer\", \"Average Battery Life (in days)\": 14, \"Reviews\": null}, {\"Brand Name\": \"SAMSUNG \", \"Device Type\": \"Smartwatch\", \"Model Name\": \"Galaxy Active Steel\", \"Color\": \"Blue\", \"Selling Price\": 29990, \"Original Price\": 34490, \"Display\": \"AMOLED Display\", \"Rating (Out of 5)\": 4.1, \"Strap Material\": \"Silicone\", \"Average Battery Life (in days)\": 14, \"Reviews\": null}, {\"Brand Name\": \"SAMSUNG \", \"Device Type\": \"Smartwatch\", \"Model Name\": \"Gear Fit 2 Pro\", \"Color\": \"Red, Black\", \"Selling Price\": 9990, \"Original Price\": 14990, \"Display\": \"AMOLED Display\", \"Rating (Out of 5)\": 4.3, \"Strap Material\": \"Silicone\", \"Average Battery Life (in days)\": 7, \"Reviews\": null}, {\"Brand Name\": \"SAMSUNG \", \"Device Type\": \"Smartwatch\", \"Model Name\": \"Gear Fit 2\", \"Color\": \"Pink, Blue\", \"Selling Price\": 15000, \"Original Price\": 15000, \"Display\": \"AMOLED Display\", \"Rating (Out of 5)\": 4.2, \"Strap Material\": \"Silicone\", \"Average Battery Life (in days)\": 7, \"Reviews\": null}, {\"Brand Name\": \"SAMSUNG \", \"Device Type\": \"Smartwatch\", \"Model Name\": \"Gear 2\", \"Color\": \"Black\", \"Selling Price\": 19999, \"Original Price\": 22550, \"Display\": \"AMOLED Display\", \"Rating (Out of 5)\": 2.3, \"Strap Material\": \"Silicone\", \"Average Battery Life (in days)\": 14, \"Reviews\": null}, {\"Brand Name\": \"SAMSUNG \", \"Device Type\": \"Smartwatch\", \"Model Name\": \"Neo Gear 2\", \"Color\": \"Black\", \"Selling Price\": 15500, \"Original Price\": 16860, \"Display\": \"AMOLED Display\", \"Rating (Out of 5)\": 3.9, \"Strap Material\": \"Rubber\", \"Average Battery Life (in days)\": 7, \"Reviews\": null}, {\"Brand Name\": \"SAMSUNG \", \"Device Type\": \"Smartwatch\", \"Model Name\": \"Galaxy Active 46mm\", \"Color\": \"Black\", \"Selling Price\": 19990, \"Original Price\": 19990, \"Display\": \"AMOLED Display\", \"Rating (Out of 5)\": 4.4, \"Strap Material\": \"Elastomer\", \"Average Battery Life (in days)\": 14, \"Reviews\": null}, {\"Brand Name\": \"SAMSUNG \", \"Device Type\": \"Smartwatch\", \"Model Name\": \"Galaxy Watch LTE\", \"Color\": \"Beige\", \"Selling Price\": 27490, \"Original Price\": 29989, \"Display\": \"AMOLED Display\", \"Rating (Out of 5)\": 4.2, \"Strap Material\": \"Silicone\", \"Average Battery Life (in days)\": 14, \"Reviews\": null}, {\"Brand Name\": \"SAMSUNG \", \"Device Type\": \"Smartwatch\", \"Model Name\": \"Galaxy 42\", \"Color\": \"Grey\", \"Selling Price\": 21989, \"Original Price\": 25990, \"Display\": \"AMOLED Display\", \"Rating (Out of 5)\": 4.6, \"Strap Material\": \"Elastomer\", \"Average Battery Life (in days)\": 14, \"Reviews\": null}, {\"Brand Name\": \"SAMSUNG \", \"Device Type\": \"Smartwatch\", \"Model Name\": \"Gear Live\", \"Color\": \"Black\", \"Selling Price\": 15900, \"Original Price\": 15900, \"Display\": \"AMOLED Display\", \"Rating (Out of 5)\": 4.2, \"Strap Material\": \"Rubber\", \"Average Battery Life (in days)\": 7, \"Reviews\": null}, {\"Brand Name\": \"SAMSUNG \", \"Device Type\": \"Smartwatch\", \"Model Name\": \"Gear Fit 2\", \"Color\": \"Blue, Black\", \"Selling Price\": 15000, \"Original Price\": 15000, \"Display\": \"AMOLED Display\", \"Rating (Out of 5)\": 4.2, \"Strap Material\": \"Silicone\", \"Average Battery Life (in days)\": 7, \"Reviews\": null}, {\"Brand Name\": \"SAMSUNG \", \"Device Type\": \"Smartwatch\", \"Model Name\": \"Galaxy Watch 3\", \"Color\": \"Black\", \"Selling Price\": 39490, \"Original Price\": 39490, \"Display\": \"AMOLED Display\", \"Rating (Out of 5)\": 4.3, \"Strap Material\": \"Leather\", \"Average Battery Life (in days)\": 14, \"Reviews\": null}, {\"Brand Name\": \"SAMSUNG \", \"Device Type\": \"Smartwatch\", \"Model Name\": \"Galaxy 42\", \"Color\": \"Black\", \"Selling Price\": 24989, \"Original Price\": 25990, \"Display\": \"AMOLED Display\", \"Rating (Out of 5)\": 4.6, \"Strap Material\": \"Elastomer\", \"Average Battery Life (in days)\": 14, \"Reviews\": null}, {\"Brand Name\": \"SAMSUNG \", \"Device Type\": \"Smartwatch\", \"Model Name\": \"Gear S3 Frontier\", \"Color\": \"Black\", \"Selling Price\": 22990, \"Original Price\": 28500, \"Display\": \"AMOLED Display\", \"Rating (Out of 5)\": 4.3, \"Strap Material\": \"Silicone\", \"Average Battery Life (in days)\": 14, \"Reviews\": null}, {\"Brand Name\": \"SAMSUNG \", \"Device Type\": \"Smartwatch\", \"Model Name\": \"Gear Sport\", \"Color\": \"Black\", \"Selling Price\": 15999, \"Original Price\": 22990, \"Display\": \"AMOLED Display\", \"Rating (Out of 5)\": 3.0, \"Strap Material\": \"Silicone\", \"Average Battery Life (in days)\": 7, \"Reviews\": null}, {\"Brand Name\": \"SAMSUNG \", \"Device Type\": \"Smartwatch\", \"Model Name\": \"Gear S2 Classic\", \"Color\": \"Black\", \"Selling Price\": 18999, \"Original Price\": 34550, \"Display\": \"AMOLED Display\", \"Rating (Out of 5)\": 4.2, \"Strap Material\": \"Leather\", \"Average Battery Life (in days)\": 14, \"Reviews\": null}, {\"Brand Name\": \"SAMSUNG \", \"Device Type\": \"Smartwatch\", \"Model Name\": \"T-Mobile\", \"Color\": \"Black\", \"Selling Price\": 21990, \"Original Price\": 22990, \"Display\": \"AMOLED Display\", \"Rating (Out of 5)\": 4.3, \"Strap Material\": \"Leather\", \"Average Battery Life (in days)\": 14, \"Reviews\": null}, {\"Brand Name\": \"SAMSUNG \", \"Device Type\": \"Smartwatch\", \"Model Name\": \"Gear S2\", \"Color\": \"Silver\", \"Selling Price\": 24300, \"Original Price\": 24300, \"Display\": \"AMOLED Display\", \"Rating (Out of 5)\": 4.1, \"Strap Material\": \"Elastomer\", \"Average Battery Life (in days)\": 14, \"Reviews\": null}, {\"Brand Name\": \"SAMSUNG \", \"Device Type\": \"Smartwatch\", \"Model Name\": \"R600NZBAXAR 600\", \"Color\": \"Blue\", \"Selling Price\": 21390, \"Original Price\": 25155, \"Display\": \"AMOLED Display\", \"Rating (Out of 5)\": 4.5, \"Strap Material\": \"Rubber\", \"Average Battery Life (in days)\": 14, \"Reviews\": null}, {\"Brand Name\": \"SAMSUNG \", \"Device Type\": \"Smartwatch\", \"Model Name\": \"Gear S2 Classic\", \"Color\": \"Black\", \"Selling Price\": 18999, \"Original Price\": 30000, \"Display\": \"AMOLED Display\", \"Rating (Out of 5)\": 4.2, \"Strap Material\": \"Leather\", \"Average Battery Life (in days)\": 14, \"Reviews\": null}, {\"Brand Name\": \"SAMSUNG \", \"Device Type\": \"Smartwatch\", \"Model Name\": \"Gear R730V S2\", \"Color\": \"Grey\", \"Selling Price\": 18532, \"Original Price\": 22498, \"Display\": \"AMOLED Display\", \"Rating (Out of 5)\": 4.6, \"Strap Material\": \"Elastomer\", \"Average Battery Life (in days)\": 14, \"Reviews\": null}, {\"Brand Name\": \"SAMSUNG \", \"Device Type\": \"Smartwatch\", \"Model Name\": \"Galaxy Gear\", \"Color\": \"Gold\", \"Selling Price\": 50408, \"Original Price\": 60241, \"Display\": \"AMOLED Display\", \"Rating (Out of 5)\": 3.2, \"Strap Material\": \"Rubber\", \"Average Battery Life (in days)\": 14, \"Reviews\": null}, {\"Brand Name\": \"SAMSUNG \", \"Device Type\": \"FitnessBand\", \"Model Name\": \"Activity Tracker\", \"Color\": \"Black\", \"Selling Price\": 13201, \"Original Price\": 15885, \"Display\": \"PMOLED Display\", \"Rating (Out of 5)\": 4.2, \"Strap Material\": \"Rubber\", \"Average Battery Life (in days)\": 7, \"Reviews\": null}, {\"Brand Name\": \"FOSSIL \", \"Device Type\": \"Smartwatch\", \"Model Name\": \"Gen 5 Carlyle HR\", \"Color\": \"Black\", \"Selling Price\": 15995, \"Original Price\": 22995, \"Display\": \"AMOLED Display\", \"Rating (Out of 5)\": 4.2, \"Strap Material\": \"Leather\", \"Average Battery Life (in days)\": 2, \"Reviews\": null}, {\"Brand Name\": \"FOSSIL \", \"Device Type\": \"Smartwatch\", \"Model Name\": \"Gen 5 Carlyle HR\", \"Color\": \"Brown, Grey\", \"Selling Price\": 14995, \"Original Price\": 22995, \"Display\": \"AMOLED Display\", \"Rating (Out of 5)\": 4.2, \"Strap Material\": \"Leather\", \"Average Battery Life (in days)\": 2, \"Reviews\": null}, {\"Brand Name\": \"FOSSIL \", \"Device Type\": \"Smartwatch\", \"Model Name\": \"Gen 5 Garrett HR\", \"Color\": \"Silver\", \"Selling Price\": 15995, \"Original Price\": 22995, \"Display\": \"AMOLED Display\", \"Rating (Out of 5)\": 4.1, \"Strap Material\": \"Stainless Steel\", \"Average Battery Life (in days)\": 2, \"Reviews\": null}, {\"Brand Name\": \"FOSSIL \", \"Device Type\": \"Smartwatch\", \"Model Name\": \"Gen 5 Julianna HR\", \"Color\": \"Gold\", \"Selling Price\": 18495, \"Original Price\": 18495, \"Display\": \"AMOLED Display\", \"Rating (Out of 5)\": 3.8, \"Strap Material\": \"Stainless Steel\", \"Average Battery Life (in days)\": 2, \"Reviews\": null}, {\"Brand Name\": \"FOSSIL \", \"Device Type\": \"Smartwatch\", \"Model Name\": \"Gen 5 Julianna HR\", \"Color\": \"Black\", \"Selling Price\": 18995, \"Original Price\": 22995, \"Display\": \"AMOLED Display\", \"Rating (Out of 5)\": 4.3, \"Strap Material\": \"Stainless Steel\", \"Average Battery Life (in days)\": 2, \"Reviews\": null}, {\"Brand Name\": \"FOSSIL \", \"Device Type\": \"Smartwatch\", \"Model Name\": \"Latitude Hybrid HR\", \"Color\": \"Black\", \"Selling Price\": 12396, \"Original Price\": 14995, \"Display\": \"AMOLED Display\", \"Rating (Out of 5)\": 4.3, \"Strap Material\": \"Stainless Steel\", \"Average Battery Life (in days)\": 14, \"Reviews\": null}, {\"Brand Name\": \"FOSSIL \", \"Device Type\": \"Smartwatch\", \"Model Name\": \"Gen 5 Garrett HR\", \"Color\": \"Black\", \"Selling Price\": 14995, \"Original Price\": 22995, \"Display\": \"AMOLED Display\", \"Rating (Out of 5)\": 4.1, \"Strap Material\": \"Stainless Steel\", \"Average Battery Life (in days)\": 2, \"Reviews\": null}, {\"Brand Name\": \"FOSSIL \", \"Device Type\": \"Smartwatch\", \"Model Name\": \"FB-01 Hybrid HR\", \"Color\": \"Black\", \"Selling Price\": 12396, \"Original Price\": 14995, \"Display\": \"AMOLED Display\", \"Rating (Out of 5)\": 4.0, \"Strap Material\": \"Silicone\", \"Average Battery Life (in days)\": 14, \"Reviews\": null}, {\"Brand Name\": \"FOSSIL \", \"Device Type\": \"Smartwatch\", \"Model Name\": \"Gen 5 Julianna HR\", \"Color\": \"Silver\", \"Selling Price\": 18495, \"Original Price\": 18495, \"Display\": \"AMOLED Display\", \"Rating (Out of 5)\": 3.8, \"Strap Material\": \"Stainless Steel\", \"Average Battery Life (in days)\": 2, \"Reviews\": null}, {\"Brand Name\": \"FOSSIL \", \"Device Type\": \"Smartwatch\", \"Model Name\": \"Collider Hybrid\", \"Color\": \"Black\", \"Selling Price\": 16495, \"Original Price\": 16495, \"Display\": \"AMOLED Display\", \"Rating (Out of 5)\": 4.0, \"Strap Material\": \"Silicone\", \"Average Battery Life (in days)\": 14, \"Reviews\": null}, {\"Brand Name\": \"FOSSIL \", \"Device Type\": \"Smartwatch\", \"Model Name\": \"Collider Hybrid\", \"Color\": \"Brown, Grey\", \"Selling Price\": 14995, \"Original Price\": 14995, \"Display\": \"AMOLED Display\", \"Rating (Out of 5)\": 4.0, \"Strap Material\": \"Silicone\", \"Average Battery Life (in days)\": 14, \"Reviews\": null}, {\"Brand Name\": \"FOSSIL \", \"Device Type\": \"Smartwatch\", \"Model Name\": \"Sadie Hybrid\", \"Color\": \"Silver\", \"Selling Price\": 8995, \"Original Price\": 13495, \"Display\": \"AMOLED Display\", \"Rating (Out of 5)\": 4.0, \"Strap Material\": \"Stainless Steel\", \"Average Battery Life (in days)\": 10, \"Reviews\": null}, {\"Brand Name\": \"FOSSIL \", \"Device Type\": \"Smartwatch\", \"Model Name\": \"FB-01 Hybrid HR\", \"Color\": \"Silver, Black\", \"Selling Price\": 14021, \"Original Price\": 16495, \"Display\": \"AMOLED Display\", \"Rating (Out of 5)\": 4.0, \"Strap Material\": \"Stainless Steel\", \"Average Battery Life (in days)\": 14, \"Reviews\": null}, {\"Brand Name\": \"FOSSIL \", \"Device Type\": \"Smartwatch\", \"Model Name\": \"Commuter\", \"Color\": \"Black\", \"Selling Price\": 11995, \"Original Price\": 11995, \"Display\": \"AMOLED Display\", \"Rating (Out of 5)\": 4.3, \"Strap Material\": \"Leather\", \"Average Battery Life (in days)\": 14, \"Reviews\": null}, {\"Brand Name\": \"FOSSIL \", \"Device Type\": \"Smartwatch\", \"Model Name\": \"Latitude Hybrid HR\", \"Color\": \"Grey\", \"Selling Price\": 13196, \"Original Price\": 16495, \"Display\": \"AMOLED Display\", \"Rating (Out of 5)\": 4.3, \"Strap Material\": \"Stainless Steel\", \"Average Battery Life (in days)\": 14, \"Reviews\": null}, {\"Brand Name\": \"FOSSIL \", \"Device Type\": \"Smartwatch\", \"Model Name\": \"Sport\", \"Color\": \"Multicolor\", \"Selling Price\": 17995, \"Original Price\": 17995, \"Display\": \"AMOLED Display\", \"Rating (Out of 5)\": 3.9, \"Strap Material\": \"Silicone\", \"Average Battery Life (in days)\": 2, \"Reviews\": null}, {\"Brand Name\": \"FOSSIL \", \"Device Type\": \"Smartwatch\", \"Model Name\": \"Charter Hybrid HR\", \"Color\": \"Gold\", \"Selling Price\": 13196, \"Original Price\": 16495, \"Display\": \"AMOLED Display\", \"Rating (Out of 5)\": 3.9, \"Strap Material\": \"Leather\", \"Average Battery Life (in days)\": 12, \"Reviews\": \"4\"}, {\"Brand Name\": \"FOSSIL \", \"Device Type\": \"Smartwatch\", \"Model Name\": \"Carlie Hybrid\", \"Color\": \"Gold\", \"Selling Price\": 13495, \"Original Price\": 13495, \"Display\": \"AMOLED Display\", \"Rating (Out of 5)\": 4.6, \"Strap Material\": \"Stainless Steel\", \"Average Battery Life (in days)\": 12, \"Reviews\": null}, {\"Brand Name\": \"FOSSIL \", \"Device Type\": \"Smartwatch\", \"Model Name\": \"Carlie\", \"Color\": \"Beige\", \"Selling Price\": 11995, \"Original Price\": 11995, \"Display\": \"AMOLED Display\", \"Rating (Out of 5)\": 4.8, \"Strap Material\": \"Leather\", \"Average Battery Life (in days)\": 10, \"Reviews\": null}, {\"Brand Name\": \"FOSSIL \", \"Device Type\": \"Smartwatch\", \"Model Name\": \"Neutra Hybrid\", \"Color\": \"Silver\", \"Selling Price\": 13495, \"Original Price\": 13495, \"Display\": \"AMOLED Display\", \"Rating (Out of 5)\": 5.0, \"Strap Material\": \"Stainless Steel\", \"Average Battery Life (in days)\": 12, \"Reviews\": null}, {\"Brand Name\": \"FOSSIL \", \"Device Type\": \"Smartwatch\", \"Model Name\": \"Q Venture\", \"Color\": \"Blue\", \"Selling Price\": 19999, \"Original Price\": 21995, \"Display\": \"AMOLED Display\", \"Rating (Out of 5)\": 3.8, \"Strap Material\": \"Leather\", \"Average Battery Life (in days)\": 1, \"Reviews\": \"54\"}, {\"Brand Name\": \"FOSSIL \", \"Device Type\": \"Smartwatch\", \"Model Name\": \"Jacqueline\", \"Color\": \"Gold\", \"Selling Price\": 13495, \"Original Price\": 13495, \"Display\": \"AMOLED Display\", \"Rating (Out of 5)\": 4.6, \"Strap Material\": \"Leather\", \"Average Battery Life (in days)\": 1, \"Reviews\": null}, {\"Brand Name\": \"FOSSIL \", \"Device Type\": \"Smartwatch\", \"Model Name\": \"Q Neely\", \"Color\": \"Black\", \"Selling Price\": 6995, \"Original Price\": 12995, \"Display\": \"AMOLED Display\", \"Rating (Out of 5)\": 4.6, \"Strap Material\": \"Leather\", \"Average Battery Life (in days)\": 2, \"Reviews\": null}, {\"Brand Name\": \"FOSSIL \", \"Device Type\": \"Smartwatch\", \"Model Name\": \"FTW5018 Hybrid\", \"Color\": \"Gold\", \"Selling Price\": 11596, \"Original Price\": 14495, \"Display\": \"AMOLED Display\", \"Rating (Out of 5)\": 4.5, \"Strap Material\": \"Stainless Steel\", \"Average Battery Life (in days)\": 2, \"Reviews\": null}, {\"Brand Name\": \"FOSSIL \", \"Device Type\": \"Smartwatch\", \"Model Name\": \"FTW5012 Hybrid\", \"Color\": \"Brown\", \"Selling Price\": 9097, \"Original Price\": 12995, \"Display\": \"AMOLED Display\", \"Rating (Out of 5)\": 4.6, \"Strap Material\": \"Leather\", \"Average Battery Life (in days)\": 2, \"Reviews\": null}, {\"Brand Name\": \"FOSSIL \", \"Device Type\": \"Smartwatch\", \"Model Name\": \"Jacqueline Hybrid\", \"Color\": \"Rose Gold\", \"Selling Price\": 10796, \"Original Price\": 13495, \"Display\": \"AMOLED Display\", \"Rating (Out of 5)\": 4.0, \"Strap Material\": \"Leather\", \"Average Battery Life (in days)\": 12, \"Reviews\": null}, {\"Brand Name\": \"FOSSIL \", \"Device Type\": \"Smartwatch\", \"Model Name\": \"Q Annette\", \"Color\": \"Gold\", \"Selling Price\": 6995, \"Original Price\": 13495, \"Display\": \"AMOLED Display\", \"Rating (Out of 5)\": 4.6, \"Strap Material\": \"Leather\", \"Average Battery Life (in days)\": 1, \"Reviews\": null}, {\"Brand Name\": \"FOSSIL \", \"Device Type\": \"Smartwatch\", \"Model Name\": \"Gen 5 Julianna HR\", \"Color\": \"Grey\", \"Selling Price\": 15995, \"Original Price\": 22995, \"Display\": \"AMOLED Display\", \"Rating (Out of 5)\": 4.3, \"Strap Material\": \"Stainless Steel\", \"Average Battery Life (in days)\": 2, \"Reviews\": null}, {\"Brand Name\": \"FOSSIL \", \"Device Type\": \"Smartwatch\", \"Model Name\": \"FTW6007\", \"Color\": \"Brown\", \"Selling Price\": 19995, \"Original Price\": 19995, \"Display\": \"AMOLED Display\", \"Rating (Out of 5)\": 4.1, \"Strap Material\": \"Leather\", \"Average Battery Life (in days)\": 2, \"Reviews\": null}, {\"Brand Name\": \"FOSSIL \", \"Device Type\": \"Smartwatch\", \"Model Name\": \"Gen 5E\", \"Color\": \"Black, Silver \", \"Selling Price\": 18495, \"Original Price\": 18495, \"Display\": \"AMOLED Display\", \"Rating (Out of 5)\": 3.8, \"Strap Material\": \"Stainless Steel\", \"Average Battery Life (in days)\": 1, \"Reviews\": null}, {\"Brand Name\": \"FOSSIL \", \"Device Type\": \"Smartwatch\", \"Model Name\": \"Neutra Hybrid\", \"Color\": \"Brown, Black\", \"Selling Price\": 11995, \"Original Price\": 11995, \"Display\": \"AMOLED Display\", \"Rating (Out of 5)\": 5.0, \"Strap Material\": \"Leather\", \"Average Battery Life (in days)\": 12, \"Reviews\": null}, {\"Brand Name\": \"FOSSIL \", \"Device Type\": \"Smartwatch\", \"Model Name\": \"Gen 5 Julianna HR\", \"Color\": \"Blue\", \"Selling Price\": 15995, \"Original Price\": 22995, \"Display\": \"AMOLED Display\", \"Rating (Out of 5)\": 4.3, \"Strap Material\": \"Stainless Steel\", \"Average Battery Life (in days)\": 2, \"Reviews\": null}, {\"Brand Name\": \"FOSSIL \", \"Device Type\": \"Smartwatch\", \"Model Name\": \"FTW1151 Hybrid\", \"Color\": \"Gold\", \"Selling Price\": 8995, \"Original Price\": 11995, \"Display\": \"AMOLED Display\", \"Rating (Out of 5)\": 4.3, \"Strap Material\": \"Leather\", \"Average Battery Life (in days)\": 2, \"Reviews\": null}, {\"Brand Name\": \"FOSSIL \", \"Device Type\": \"Smartwatch\", \"Model Name\": \"Barstow Hybrid\", \"Color\": \"Brown\", \"Selling Price\": 8995, \"Original Price\": 11995, \"Display\": \"AMOLED Display\", \"Rating (Out of 5)\": 4.6, \"Strap Material\": \"Leather\", \"Average Battery Life (in days)\": 12, \"Reviews\": null}, {\"Brand Name\": \"FOSSIL \", \"Device Type\": \"Smartwatch\", \"Model Name\": \"Wander RG\", \"Color\": \"Black\", \"Selling Price\": 18995, \"Original Price\": 18995, \"Display\": \"AMOLED Display\", \"Rating (Out of 5)\": 4.0, \"Strap Material\": \"Silicone\", \"Average Battery Life (in days)\": 5, \"Reviews\": null}, {\"Brand Name\": \"FOSSIL \", \"Device Type\": \"Smartwatch\", \"Model Name\": \"Charter Hybrid HR\", \"Color\": \"Black\", \"Selling Price\": 14021, \"Original Price\": 16495, \"Display\": \"AMOLED Display\", \"Rating (Out of 5)\": 3.9, \"Strap Material\": \"Leather\", \"Average Battery Life (in days)\": 12, \"Reviews\": \"6\"}, {\"Brand Name\": \"FOSSIL \", \"Device Type\": \"Smartwatch\", \"Model Name\": \"Q Wander\", \"Color\": \"Gold\", \"Selling Price\": 19995, \"Original Price\": 19995, \"Display\": \"AMOLED Display\", \"Rating (Out of 5)\": 4.0, \"Strap Material\": \"Stainless Steel\", \"Average Battery Life (in days)\": 1, \"Reviews\": null}, {\"Brand Name\": \"FOSSIL \", \"Device Type\": \"Smartwatch\", \"Model Name\": \"Q Founder\", \"Color\": \"Silver\", \"Selling Price\": 19995, \"Original Price\": 19995, \"Display\": \"AMOLED Display\", \"Rating (Out of 5)\": 4.2, \"Strap Material\": \"Stainless Steel\", \"Average Battery Life (in days)\": 1, \"Reviews\": null}, {\"Brand Name\": \"FOSSIL \", \"Device Type\": \"Smartwatch\", \"Model Name\": \"Garrett Hybrid\", \"Color\": \"Black\", \"Selling Price\": 6995, \"Original Price\": 11995, \"Display\": \"AMOLED Display\", \"Rating (Out of 5)\": 3.7, \"Strap Material\": \"Stainless Steel\", \"Average Battery Life (in days)\": 12, \"Reviews\": null}, {\"Brand Name\": \"FOSSIL \", \"Device Type\": \"Smartwatch\", \"Model Name\": \"Q Explorist\", \"Color\": \"Black\", \"Selling Price\": 19995, \"Original Price\": 19995, \"Display\": \"AMOLED Display\", \"Rating (Out of 5)\": 4.4, \"Strap Material\": \"Leather\", \"Average Battery Life (in days)\": 2, \"Reviews\": null}, {\"Brand Name\": \"FOSSIL \", \"Device Type\": \"Smartwatch\", \"Model Name\": \"Marshall\", \"Color\": \"Grey\", \"Selling Price\": 18995, \"Original Price\": 18995, \"Display\": \"AMOLED Display\", \"Rating (Out of 5)\": 4.0, \"Strap Material\": \"Stainless Steel\", \"Average Battery Life (in days)\": 1, \"Reviews\": null}, {\"Brand Name\": \"FOSSIL \", \"Device Type\": \"Smartwatch\", \"Model Name\": \"Gen 3 Q Venture\", \"Color\": \"Black, Gold\", \"Selling Price\": 15396, \"Original Price\": 21995, \"Display\": \"AMOLED Display\", \"Rating (Out of 5)\": 4.3, \"Strap Material\": \"Stainless Steel\", \"Average Battery Life (in days)\": 1, \"Reviews\": \"7\"}, {\"Brand Name\": \"FOSSIL \", \"Device Type\": \"Smartwatch\", \"Model Name\": \"FTW4003\", \"Color\": \"Brown\", \"Selling Price\": 19995, \"Original Price\": 19995, \"Display\": \"AMOLED Display\", \"Rating (Out of 5)\": 3.1, \"Strap Material\": \"Leather\", \"Average Battery Life (in days)\": 2, \"Reviews\": null}, {\"Brand Name\": \"FOSSIL \", \"Device Type\": \"Smartwatch\", \"Model Name\": \"Gen 5E\", \"Color\": \"Grey, Multicolor\", \"Selling Price\": 18495, \"Original Price\": 18495, \"Display\": \"AMOLED Display\", \"Rating (Out of 5)\": 4.6, \"Strap Material\": \"Stainless Steel\", \"Average Battery Life (in days)\": 1, \"Reviews\": null}, {\"Brand Name\": \"FOSSIL \", \"Device Type\": \"Smartwatch\", \"Model Name\": \"Sport 43\", \"Color\": \"Black\", \"Selling Price\": 9995, \"Original Price\": 17995, \"Display\": \"AMOLED Display\", \"Rating (Out of 5)\": 4.0, \"Strap Material\": \"Silicone\", \"Average Battery Life (in days)\": 2, \"Reviews\": null}, {\"Brand Name\": \"FOSSIL \", \"Device Type\": \"Smartwatch\", \"Model Name\": \"The Carlyle HR\", \"Color\": \"Black\", \"Selling Price\": 25995, \"Original Price\": 25995, \"Display\": \"AMOLED Display\", \"Rating (Out of 5)\": 4.2, \"Strap Material\": \"Leather\", \"Average Battery Life (in days)\": 14, \"Reviews\": null}, {\"Brand Name\": \"FOSSIL \", \"Device Type\": \"Smartwatch\", \"Model Name\": \"Garrett HR\", \"Color\": \"Gold\", \"Selling Price\": 15995, \"Original Price\": 22995, \"Display\": \"AMOLED Display\", \"Rating (Out of 5)\": 4.1, \"Strap Material\": \"Stainless Steel\", \"Average Battery Life (in days)\": 14, \"Reviews\": null}, {\"Brand Name\": \"FOSSIL \", \"Device Type\": \"Smartwatch\", \"Model Name\": \"4th Gen Explorist HR\", \"Color\": \"Grey\", \"Selling Price\": 10998, \"Original Price\": 21995, \"Display\": \"AMOLED Display\", \"Rating (Out of 5)\": 3.9, \"Strap Material\": \"Stainless Steel\", \"Average Battery Life (in days)\": 2, \"Reviews\": \"600\"}, {\"Brand Name\": \"FOSSIL \", \"Device Type\": \"Smartwatch\", \"Model Name\": \"Sport\", \"Color\": \"Red\", \"Selling Price\": 17995, \"Original Price\": 17995, \"Display\": \"AMOLED Display\", \"Rating (Out of 5)\": 4.6, \"Strap Material\": \"Silicone\", \"Average Battery Life (in days)\": 2, \"Reviews\": null}, {\"Brand Name\": \"FOSSIL \", \"Device Type\": \"Smartwatch\", \"Model Name\": \"FTW6001\", \"Color\": \"Gold\", \"Selling Price\": 21995, \"Original Price\": 21995, \"Display\": \"AMOLED Display\", \"Rating (Out of 5)\": 4.2, \"Strap Material\": \"Stainless Steel\", \"Average Battery Life (in days)\": 2, \"Reviews\": null}, {\"Brand Name\": \"FOSSIL \", \"Device Type\": \"Smartwatch\", \"Model Name\": \"Q Founder 2.0\", \"Color\": \"Black\", \"Selling Price\": 19995, \"Original Price\": 19995, \"Display\": \"AMOLED Display\", \"Rating (Out of 5)\": 4.2, \"Strap Material\": \"Stainless Steel\", \"Average Battery Life (in days)\": 1, \"Reviews\": \"61\"}, {\"Brand Name\": \"FOSSIL \", \"Device Type\": \"Smartwatch\", \"Model Name\": \"Cameron Hybrid\", \"Color\": \"Black\", \"Selling Price\": 8995, \"Original Price\": 13495, \"Display\": \"AMOLED Display\", \"Rating (Out of 5)\": 4.6, \"Strap Material\": \"Stainless Steel\", \"Average Battery Life (in days)\": 12, \"Reviews\": null}, {\"Brand Name\": \"FOSSIL \", \"Device Type\": \"Smartwatch\", \"Model Name\": \"Gen 3 Q Explorist\", \"Color\": \"Black\", \"Selling Price\": 15749, \"Original Price\": 19995, \"Display\": \"AMOLED Display\", \"Rating (Out of 5)\": 4.1, \"Strap Material\": \"Stainless Steel\", \"Average Battery Life (in days)\": 2, \"Reviews\": null}, {\"Brand Name\": \"FOSSIL \", \"Device Type\": \"Smartwatch\", \"Model Name\": \"4th Gen Venture HR\", \"Color\": \"Black\", \"Selling Price\": 17596, \"Original Price\": 21995, \"Display\": \"AMOLED Display\", \"Rating (Out of 5)\": 3.9, \"Strap Material\": \"Stainless Steel\", \"Average Battery Life (in days)\": 14, \"Reviews\": \"46\"}, {\"Brand Name\": \"FOSSIL \", \"Device Type\": \"Smartwatch\", \"Model Name\": \"FTW6005\", \"Color\": \"Black\", \"Selling Price\": 19995, \"Original Price\": 19995, \"Display\": \"AMOLED Display\", \"Rating (Out of 5)\": 3.8, \"Strap Material\": \"Stainless Steel\", \"Average Battery Life (in days)\": 2, \"Reviews\": null}, {\"Brand Name\": \"FOSSIL \", \"Device Type\": \"Smartwatch\", \"Model Name\": \"Marshall\", \"Color\": \"Black\", \"Selling Price\": 19995, \"Original Price\": 19995, \"Display\": \"AMOLED Display\", \"Rating (Out of 5)\": 4.1, \"Strap Material\": \"Stainless Steel\", \"Average Battery Life (in days)\": 1, \"Reviews\": null}, {\"Brand Name\": \"FOSSIL \", \"Device Type\": \"Smartwatch\", \"Model Name\": \"Garrett Hybrid\", \"Color\": \"Brown\", \"Selling Price\": 11995, \"Original Price\": 11995, \"Display\": \"AMOLED Display\", \"Rating (Out of 5)\": 3.7, \"Strap Material\": \"Leather\", \"Average Battery Life (in days)\": 12, \"Reviews\": null}, {\"Brand Name\": \"FOSSIL \", \"Device Type\": \"Smartwatch\", \"Model Name\": \"4th Gen Venture HR\", \"Color\": \"Silver\", \"Selling Price\": 10997, \"Original Price\": 21995, \"Display\": \"AMOLED Display\", \"Rating (Out of 5)\": 3.9, \"Strap Material\": \"Stainless Steel\", \"Average Battery Life (in days)\": 14, \"Reviews\": \"46\"}, {\"Brand Name\": \"FOSSIL \", \"Device Type\": \"Smartwatch\", \"Model Name\": \"Marshall\", \"Color\": \"Blue\", \"Selling Price\": 19995, \"Original Price\": 19995, \"Display\": \"AMOLED Display\", \"Rating (Out of 5)\": 4.1, \"Strap Material\": \"Stainless Steel\", \"Average Battery Life (in days)\": 1, \"Reviews\": null}, {\"Brand Name\": \"FOSSIL \", \"Device Type\": \"Smartwatch\", \"Model Name\": \"FTW1161 Hybrid\", \"Color\": \"Gold\", \"Selling Price\": 8995, \"Original Price\": 14495, \"Display\": \"AMOLED Display\", \"Rating (Out of 5)\": 4.3, \"Strap Material\": \"Stainless Steel\", \"Average Battery Life (in days)\": 2, \"Reviews\": null}, {\"Brand Name\": \"FOSSIL \", \"Device Type\": \"Smartwatch\", \"Model Name\": \"FTW1142 Q Hybrid\", \"Color\": \"Silver\", \"Selling Price\": 9796, \"Original Price\": 13995, \"Display\": \"AMOLED Display\", \"Rating (Out of 5)\": 3.7, \"Strap Material\": \"Stainless Steel\", \"Average Battery Life (in days)\": 2, \"Reviews\": null}, {\"Brand Name\": \"FOSSIL \", \"Device Type\": \"Smartwatch\", \"Model Name\": \"Jacqueline Hybrid\", \"Color\": \"Navy \", \"Selling Price\": 8995, \"Original Price\": 13495, \"Display\": \"AMOLED Display\", \"Rating (Out of 5)\": 4.0, \"Strap Material\": \"Leather\", \"Average Battery Life (in days)\": 12, \"Reviews\": null}, {\"Brand Name\": \"FOSSIL \", \"Device Type\": \"Smartwatch\", \"Model Name\": \"Gen 3 Q Explorist\", \"Color\": \"Blue\", \"Selling Price\": 15034, \"Original Price\": 15034, \"Display\": \"AMOLED Display\", \"Rating (Out of 5)\": 4.3, \"Strap Material\": \"Stainless Steel\", \"Average Battery Life (in days)\": 2, \"Reviews\": null}, {\"Brand Name\": \"FOSSIL \", \"Device Type\": \"Smartwatch\", \"Model Name\": \"Gen 5 Julianna HR\", \"Color\": \"White\", \"Selling Price\": 14995, \"Original Price\": 22995, \"Display\": \"AMOLED Display\", \"Rating (Out of 5)\": 4.3, \"Strap Material\": \"Stainless Steel\", \"Average Battery Life (in days)\": 2, \"Reviews\": null}, {\"Brand Name\": \"FOSSIL \", \"Device Type\": \"Smartwatch\", \"Model Name\": \"Cameron Hybrid Smartwatch\", \"Color\": \"Blue\", \"Selling Price\": 13495, \"Original Price\": 13495, \"Display\": \"AMOLED Display\", \"Rating (Out of 5)\": 4.6, \"Strap Material\": \"Leather\", \"Average Battery Life (in days)\": 12, \"Reviews\": null}, {\"Brand Name\": \"FOSSIL \", \"Device Type\": \"Smartwatch\", \"Model Name\": \"Gen 3 Q Venture\", \"Color\": \"Silver\", \"Selling Price\": 19995, \"Original Price\": 19995, \"Display\": \"AMOLED Display\", \"Rating (Out of 5)\": 4.3, \"Strap Material\": \"Stainless Steel\", \"Average Battery Life (in days)\": 1, \"Reviews\": \"78\"}, {\"Brand Name\": \"FOSSIL \", \"Device Type\": \"Smartwatch\", \"Model Name\": \"Jacqueline Hybrid\", \"Color\": \"Black\", \"Selling Price\": 11995, \"Original Price\": 11995, \"Display\": \"AMOLED Display\", \"Rating (Out of 5)\": 4.6, \"Strap Material\": \"Leather\", \"Average Battery Life (in days)\": 12, \"Reviews\": null}, {\"Brand Name\": \"FOSSIL \", \"Device Type\": \"Smartwatch\", \"Model Name\": \"Q Annette\", \"Color\": \"Silver\", \"Selling Price\": 6995, \"Original Price\": 11995, \"Display\": \"AMOLED Display\", \"Rating (Out of 5)\": 4.6, \"Strap Material\": \"Silicone\", \"Average Battery Life (in days)\": 1, \"Reviews\": null}, {\"Brand Name\": \"FOSSIL \", \"Device Type\": \"Smartwatch\", \"Model Name\": \"Sport 43\", \"Color\": \"Blue\", \"Selling Price\": 9995, \"Original Price\": 17995, \"Display\": \"AMOLED Display\", \"Rating (Out of 5)\": 4.0, \"Strap Material\": \"Silicone\", \"Average Battery Life (in days)\": 2, \"Reviews\": null}, {\"Brand Name\": \"FOSSIL \", \"Device Type\": \"Smartwatch\", \"Model Name\": \"Sport 41\", \"Color\": \"Blue, Black, Gray\", \"Selling Price\": 17995, \"Original Price\": 17995, \"Display\": \"AMOLED Display\", \"Rating (Out of 5)\": 4.0, \"Strap Material\": \"Silicone\", \"Average Battery Life (in days)\": 2, \"Reviews\": \"55\"}, {\"Brand Name\": \"FOSSIL \", \"Device Type\": \"Smartwatch\", \"Model Name\": \"Gen 3 Q Explorist\", \"Color\": \"Grey\", \"Selling Price\": 21995, \"Original Price\": 21995, \"Display\": \"AMOLED Display\", \"Rating (Out of 5)\": 4.4, \"Strap Material\": \"Stainless Steel\", \"Average Battery Life (in days)\": 2, \"Reviews\": null}, {\"Brand Name\": \"FOSSIL \", \"Device Type\": \"Smartwatch\", \"Model Name\": \"Marshall\", \"Color\": \"Silver\", \"Selling Price\": 18995, \"Original Price\": 18995, \"Display\": \"AMOLED Display\", \"Rating (Out of 5)\": 4.0, \"Strap Material\": \"Stainless Steel\", \"Average Battery Life (in days)\": 1, \"Reviews\": null}, {\"Brand Name\": \"FOSSIL \", \"Device Type\": \"Smartwatch\", \"Model Name\": \"Q Jacqueline\", \"Color\": \"Gold\", \"Selling Price\": 13495, \"Original Price\": 13495, \"Display\": \"AMOLED Display\", \"Rating (Out of 5)\": 4.4, \"Strap Material\": \"Silicone\", \"Average Battery Life (in days)\": 1, \"Reviews\": null}, {\"Brand Name\": \"FOSSIL \", \"Device Type\": \"Smartwatch\", \"Model Name\": \"Garrett\", \"Color\": \"Brown\", \"Selling Price\": 8995, \"Original Price\": 11995, \"Display\": \"AMOLED Display\", \"Rating (Out of 5)\": 3.7, \"Strap Material\": \"Leather\", \"Average Battery Life (in days)\": 1, \"Reviews\": null}, {\"Brand Name\": \"FOSSIL \", \"Device Type\": \"Smartwatch\", \"Model Name\": \"Machine Hybrid\", \"Color\": \"Silver, Brown\", \"Selling Price\": 11995, \"Original Price\": 11995, \"Display\": \"AMOLED Display\", \"Rating (Out of 5)\": 4.6, \"Strap Material\": \"Stainless Steel\", \"Average Battery Life (in days)\": 12, \"Reviews\": null}, {\"Brand Name\": \"FOSSIL \", \"Device Type\": \"Smartwatch\", \"Model Name\": \"Sloan HR\", \"Color\": \"Black\", \"Selling Price\": 24495, \"Original Price\": 24495, \"Display\": \"AMOLED Display\", \"Rating (Out of 5)\": 4.1, \"Strap Material\": \"Silicone\", \"Average Battery Life (in days)\": 14, \"Reviews\": null}, {\"Brand Name\": \"FOSSIL \", \"Device Type\": \"Smartwatch\", \"Model Name\": \"Sloan HR\", \"Color\": \"Blue\", \"Selling Price\": 21995, \"Original Price\": 21995, \"Display\": \"AMOLED Display\", \"Rating (Out of 5)\": 4.1, \"Strap Material\": \"Silicone\", \"Average Battery Life (in days)\": 14, \"Reviews\": null}, {\"Brand Name\": \"FOSSIL \", \"Device Type\": \"Smartwatch\", \"Model Name\": \"Garrett Hybrid\", \"Color\": \"Silver\", \"Selling Price\": 10496, \"Original Price\": 14995, \"Display\": \"AMOLED Display\", \"Rating (Out of 5)\": 3.7, \"Strap Material\": \"Stainless Steel\", \"Average Battery Life (in days)\": 12, \"Reviews\": null}, {\"Brand Name\": \"FOSSIL \", \"Device Type\": \"Smartwatch\", \"Model Name\": \"4th Gen Venture HR\", \"Color\": \"Black\", \"Selling Price\": 13195, \"Original Price\": 21995, \"Display\": \"AMOLED Display\", \"Rating (Out of 5)\": 3.9, \"Strap Material\": \"Stainless Steel\", \"Average Battery Life (in days)\": 14, \"Reviews\": \"46\"}, {\"Brand Name\": \"FOSSIL \", \"Device Type\": \"Smartwatch\", \"Model Name\": \"Gen 3 Q Explorist\", \"Color\": \"Silver\", \"Selling Price\": 3999, \"Original Price\": 19995, \"Display\": \"AMOLED Display\", \"Rating (Out of 5)\": 4.2, \"Strap Material\": \"Stainless Steel\", \"Average Battery Life (in days)\": 2, \"Reviews\": null}, {\"Brand Name\": \"FOSSIL \", \"Device Type\": \"Smartwatch\", \"Model Name\": \"Charter Hybrid HR\", \"Color\": \"Silver\", \"Selling Price\": 12396, \"Original Price\": 14995, \"Display\": \"AMOLED Display\", \"Rating (Out of 5)\": 3.9, \"Strap Material\": \"Leather\", \"Average Battery Life (in days)\": 12, \"Reviews\": \"6\"}, {\"Brand Name\": \"FOSSIL \", \"Device Type\": \"Smartwatch\", \"Model Name\": \"Q Wander\", \"Color\": \"Silver\", \"Selling Price\": 11997, \"Original Price\": 19995, \"Display\": \"AMOLED Display\", \"Rating (Out of 5)\": 4.1, \"Strap Material\": \"Stainless Steel\", \"Average Battery Life (in days)\": 1, \"Reviews\": null}, {\"Brand Name\": \"FOSSIL \", \"Device Type\": \"Smartwatch\", \"Model Name\": \"Neely\", \"Color\": \"White\", \"Selling Price\": 8995, \"Original Price\": 13495, \"Display\": \"AMOLED Display\", \"Rating (Out of 5)\": 4.7, \"Strap Material\": \"Leather\", \"Average Battery Life (in days)\": 1, \"Reviews\": null}, {\"Brand Name\": \"FOSSIL \", \"Device Type\": \"Smartwatch\", \"Model Name\": \"Rose Gold Smart\", \"Color\": \"Rose Gold \", \"Selling Price\": 21995, \"Original Price\": 21995, \"Display\": \"AMOLED Display\", \"Rating (Out of 5)\": 4.6, \"Strap Material\": \"Stainless Steel\", \"Average Battery Life (in days)\": 3, \"Reviews\": null}, {\"Brand Name\": \"FOSSIL \", \"Device Type\": \"Smartwatch\", \"Model Name\": \"Q Founder 2.0\", \"Color\": \"Blue\", \"Selling Price\": 11397, \"Original Price\": 18995, \"Display\": \"AMOLED Display\", \"Rating (Out of 5)\": 4.1, \"Strap Material\": \"Stainless Steel\", \"Average Battery Life (in days)\": 1, \"Reviews\": \"61\"}, {\"Brand Name\": \"FOSSIL \", \"Device Type\": \"Smartwatch\", \"Model Name\": \"FTW1159 Hybrid\", \"Color\": \"Gold\", \"Selling Price\": 8995, \"Original Price\": 12995, \"Display\": \"AMOLED Display\", \"Rating (Out of 5)\": 5.0, \"Strap Material\": \"Stainless Steel\", \"Average Battery Life (in days)\": 2, \"Reviews\": null}, {\"Brand Name\": \"FOSSIL \", \"Device Type\": \"Smartwatch\", \"Model Name\": \"Q Wander\", \"Color\": \"Silver\", \"Selling Price\": 3799, \"Original Price\": 18995, \"Display\": \"AMOLED Display\", \"Rating (Out of 5)\": 4.0, \"Strap Material\": \"Stainless Steel\", \"Average Battery Life (in days)\": 1, \"Reviews\": null}, {\"Brand Name\": \"FOSSIL \", \"Device Type\": \"Smartwatch\", \"Model Name\": \"FTW4010 Gold HR\", \"Color\": \"Gold\", \"Selling Price\": 15995, \"Original Price\": 15995, \"Display\": \"AMOLED Display\", \"Rating (Out of 5)\": 4.8, \"Strap Material\": \"Stainless Steel\", \"Average Battery Life (in days)\": 6, \"Reviews\": null}, {\"Brand Name\": \"FOSSIL \", \"Device Type\": \"Smartwatch\", \"Model Name\": \"FTW6009 Black HR\", \"Color\": \"Black\", \"Selling Price\": 13995, \"Original Price\": 13995, \"Display\": \"AMOLED Display\", \"Rating (Out of 5)\": 4.1, \"Strap Material\": \"Leather\", \"Average Battery Life (in days)\": 14, \"Reviews\": null}, {\"Brand Name\": \"FOSSIL \", \"Device Type\": \"Smartwatch\", \"Model Name\": \"Eleanor Hybrid\", \"Color\": \"Brown, Gold\", \"Selling Price\": 6995, \"Original Price\": 11995, \"Display\": \"AMOLED Display\", \"Rating (Out of 5)\": 4.6, \"Strap Material\": \"Stainless Steel\", \"Average Battery Life (in days)\": 12, \"Reviews\": null}, {\"Brand Name\": \"FOSSIL \", \"Device Type\": \"Smartwatch\", \"Model Name\": \"FTW1146 Q Hybrid\", \"Color\": \"Gold\", \"Selling Price\": 11995, \"Original Price\": 11995, \"Display\": \"AMOLED Display\", \"Rating (Out of 5)\": 4.6, \"Strap Material\": \"Leather\", \"Average Battery Life (in days)\": 2, \"Reviews\": null}, {\"Brand Name\": \"FOSSIL \", \"Device Type\": \"Smartwatch\", \"Model Name\": \"Jacqueline Hybrid\", \"Color\": \"Blue\", \"Selling Price\": 6995, \"Original Price\": 11995, \"Display\": \"AMOLED Display\", \"Rating (Out of 5)\": 4.6, \"Strap Material\": \"Leather\", \"Average Battery Life (in days)\": 12, \"Reviews\": null}, {\"Brand Name\": \"FOSSIL \", \"Device Type\": \"Smartwatch\", \"Model Name\": \"FTW20013 Q\", \"Color\": \"Black\", \"Selling Price\": 21495, \"Original Price\": 21495, \"Display\": \"AMOLED Display\", \"Rating (Out of 5)\": 4.6, \"Strap Material\": \"Leather\", \"Average Battery Life (in days)\": 2, \"Reviews\": null}, {\"Brand Name\": \"FOSSIL \", \"Device Type\": \"Smartwatch\", \"Model Name\": \"FTW5016 Hybrid\", \"Color\": \"Silver\", \"Selling Price\": 6995, \"Original Price\": 14495, \"Display\": \"AMOLED Display\", \"Rating (Out of 5)\": 4.6, \"Strap Material\": \"Stainless Steel\", \"Average Battery Life (in days)\": 2, \"Reviews\": null}, {\"Brand Name\": \"FOSSIL \", \"Device Type\": \"Smartwatch\", \"Model Name\": \"FTW5017 Hybrid\", \"Color\": \"Gold\", \"Selling Price\": 14495, \"Original Price\": 14495, \"Display\": \"AMOLED Display\", \"Rating (Out of 5)\": 4.6, \"Strap Material\": \"Stainless Steel\", \"Average Battery Life (in days)\": 2, \"Reviews\": null}, {\"Brand Name\": \"FOSSIL \", \"Device Type\": \"Smartwatch\", \"Model Name\": \"FTW1141 Q Hybrid\", \"Color\": \"Silver\", \"Selling Price\": 6995, \"Original Price\": 11995, \"Display\": \"AMOLED Display\", \"Rating (Out of 5)\": 4.6, \"Strap Material\": \"Stainless Steel\", \"Average Battery Life (in days)\": 2, \"Reviews\": null}, {\"Brand Name\": \"FOSSIL \", \"Device Type\": \"Smartwatch\", \"Model Name\": \"Sport\", \"Color\": \"Black\", \"Selling Price\": 17995, \"Original Price\": 17995, \"Display\": \"AMOLED Display\", \"Rating (Out of 5)\": 4.6, \"Strap Material\": \"Silicone\", \"Average Battery Life (in days)\": 2, \"Reviews\": null}, {\"Brand Name\": \"FOSSIL \", \"Device Type\": \"Smartwatch\", \"Model Name\": \"FTW5003 Hybrid\", \"Color\": \"Gold\", \"Selling Price\": 12995, \"Original Price\": 12995, \"Display\": \"AMOLED Display\", \"Rating (Out of 5)\": 4.6, \"Strap Material\": \"Stainless Steel\", \"Average Battery Life (in days)\": 2, \"Reviews\": null}, {\"Brand Name\": \"FOSSIL \", \"Device Type\": \"Smartwatch\", \"Model Name\": \"Jacqueline Hybrid\", \"Color\": \"Silver\", \"Selling Price\": 13495, \"Original Price\": 13495, \"Display\": \"AMOLED Display\", \"Rating (Out of 5)\": 4.6, \"Strap Material\": \"Leather\", \"Average Battery Life (in days)\": 12, \"Reviews\": null}, {\"Brand Name\": \"FOSSIL \", \"Device Type\": \"Smartwatch\", \"Model Name\": \"Commuter Hybrid\", \"Color\": \"Brown\", \"Selling Price\": 8995, \"Original Price\": 11995, \"Display\": \"AMOLED Display\", \"Rating (Out of 5)\": 4.6, \"Strap Material\": \"Leather\", \"Average Battery Life (in days)\": 12, \"Reviews\": null}, {\"Brand Name\": \"FOSSIL \", \"Device Type\": \"Smartwatch\", \"Model Name\": \"Q MACHINE\", \"Color\": \"Grey\", \"Selling Price\": 6995, \"Original Price\": 6995, \"Display\": \"AMOLED Display\", \"Rating (Out of 5)\": 4.6, \"Strap Material\": \"Stainless Steel\", \"Average Battery Life (in days)\": 1, \"Reviews\": null}, {\"Brand Name\": \"FOSSIL \", \"Device Type\": \"Smartwatch\", \"Model Name\": \"FB-01 Hybrid\", \"Color\": \"Blue, Silver\", \"Selling Price\": 8995, \"Original Price\": 13495, \"Display\": \"AMOLED Display\", \"Rating (Out of 5)\": 3.9, \"Strap Material\": \"Silicone\", \"Average Battery Life (in days)\": 14, \"Reviews\": null}, {\"Brand Name\": \"FOSSIL \", \"Device Type\": \"Smartwatch\", \"Model Name\": \"Q Jacqueline\", \"Color\": \"Silver\", \"Selling Price\": 8995, \"Original Price\": 13495, \"Display\": \"AMOLED Display\", \"Rating (Out of 5)\": 4.4, \"Strap Material\": \"Silicone\", \"Average Battery Life (in days)\": 1, \"Reviews\": null}, {\"Brand Name\": \"FOSSIL \", \"Device Type\": \"Smartwatch\", \"Model Name\": \"Q GRANT\", \"Color\": \"Grey\", \"Selling Price\": 6995, \"Original Price\": 6995, \"Display\": \"AMOLED Display\", \"Rating (Out of 5)\": 4.6, \"Strap Material\": \"Stainless Steel\", \"Average Battery Life (in days)\": 7, \"Reviews\": null}, {\"Brand Name\": \"FOSSIL \", \"Device Type\": \"Smartwatch\", \"Model Name\": \"FTW2114 Q\", \"Color\": \"Black\", \"Selling Price\": 18995, \"Original Price\": 18995, \"Display\": \"AMOLED Display\", \"Rating (Out of 5)\": 4.6, \"Strap Material\": \"Stainless Steel\", \"Average Battery Life (in days)\": 2, \"Reviews\": null}, {\"Brand Name\": \"FOSSIL \", \"Device Type\": \"Smartwatch\", \"Model Name\": \"FTW1140 Q Hybrid\", \"Color\": \"Blue\", \"Selling Price\": 6995, \"Original Price\": 13995, \"Display\": \"AMOLED Display\", \"Rating (Out of 5)\": 3.8, \"Strap Material\": \"Stainless Steel\", \"Average Battery Life (in days)\": 2, \"Reviews\": null}, {\"Brand Name\": \"FOSSIL \", \"Device Type\": \"Smartwatch\", \"Model Name\": \"Garrett HR\", \"Color\": \"Grey\", \"Selling Price\": 14995, \"Original Price\": 22995, \"Display\": \"AMOLED Display\", \"Rating (Out of 5)\": 4.1, \"Strap Material\": \"Leather\", \"Average Battery Life (in days)\": 14, \"Reviews\": null}, {\"Brand Name\": \"FOSSIL \", \"Device Type\": \"Smartwatch\", \"Model Name\": \"FTW1134 Q Hybrid\", \"Color\": \"Gray\", \"Selling Price\": 11995, \"Original Price\": 11995, \"Display\": \"AMOLED Display\", \"Rating (Out of 5)\": 4.6, \"Strap Material\": \"Stainless Steel\", \"Average Battery Life (in days)\": 2, \"Reviews\": null}, {\"Brand Name\": \"FOSSIL \", \"Device Type\": \"Smartwatch\", \"Model Name\": \"Carlie Hybrid\", \"Color\": \"Black\", \"Selling Price\": 6995, \"Original Price\": 11995, \"Display\": \"AMOLED Display\", \"Rating (Out of 5)\": 4.6, \"Strap Material\": \"Stainless Steel\", \"Average Battery Life (in days)\": 12, \"Reviews\": null}, {\"Brand Name\": \"FOSSIL \", \"Device Type\": \"Smartwatch\", \"Model Name\": \"Q Control\", \"Color\": \"multicolor\", \"Selling Price\": 15995, \"Original Price\": 15995, \"Display\": \"AMOLED Display\", \"Rating (Out of 5)\": 4.3, \"Strap Material\": \"Silicone\", \"Average Battery Life (in days)\": 1, \"Reviews\": null}, {\"Brand Name\": \"FOSSIL \", \"Device Type\": \"Smartwatch\", \"Model Name\": \"Q Control\", \"Color\": \"Brown\", \"Selling Price\": 15995, \"Original Price\": 15995, \"Display\": \"AMOLED Display\", \"Rating (Out of 5)\": 4.3, \"Strap Material\": \"Silicone\", \"Average Battery Life (in days)\": 1, \"Reviews\": null}, {\"Brand Name\": \"FOSSIL \", \"Device Type\": \"Smartwatch\", \"Model Name\": \"FTW1144 Q Hybrid\", \"Color\": \"Black\", \"Selling Price\": 8995, \"Original Price\": 13995, \"Display\": \"AMOLED Display\", \"Rating (Out of 5)\": 4.6, \"Strap Material\": \"Leather\", \"Average Battery Life (in days)\": 2, \"Reviews\": null}, {\"Brand Name\": \"FOSSIL \", \"Device Type\": \"Smartwatch\", \"Model Name\": \"Rose Gold HR\", \"Color\": \"Rose Gold \", \"Selling Price\": 21995, \"Original Price\": 21995, \"Display\": \"AMOLED Display\", \"Rating (Out of 5)\": 2.8, \"Strap Material\": \"Stainless Steel\", \"Average Battery Life (in days)\": 3, \"Reviews\": null}, {\"Brand Name\": \"FOSSIL \", \"Device Type\": \"Smartwatch\", \"Model Name\": \"5th Gen Julianna\", \"Color\": \"Black \", \"Selling Price\": 15995, \"Original Price\": 22995, \"Display\": \"AMOLED Display\", \"Rating (Out of 5)\": 4.6, \"Strap Material\": \"Stainless Steel\", \"Average Battery Life (in days)\": 1, \"Reviews\": null}, {\"Brand Name\": \"FOSSIL \", \"Device Type\": \"Smartwatch\", \"Model Name\": \"Q Venture\", \"Color\": \"White \", \"Selling Price\": 4399, \"Original Price\": 21995, \"Display\": \"AMOLED Display\", \"Rating (Out of 5)\": 3.8, \"Strap Material\": \"Leather\", \"Average Battery Life (in days)\": 1, \"Reviews\": \"46\"}, {\"Brand Name\": \"FOSSIL \", \"Device Type\": \"Smartwatch\", \"Model Name\": \"Q Machine\", \"Color\": \"Black\", \"Selling Price\": 10796, \"Original Price\": 13495, \"Display\": \"AMOLED Display\", \"Rating (Out of 5)\": 4.6, \"Strap Material\": \"Stainless Steel\", \"Average Battery Life (in days)\": 1, \"Reviews\": null}, {\"Brand Name\": \"FOSSIL \", \"Device Type\": \"Smartwatch\", \"Model Name\": \"FTW1145 Q Hybrid\", \"Color\": \"Gray\", \"Selling Price\": 6995, \"Original Price\": 13995, \"Display\": \"AMOLED Display\", \"Rating (Out of 5)\": 4.6, \"Strap Material\": \"Leather\", \"Average Battery Life (in days)\": 2, \"Reviews\": null}, {\"Brand Name\": \"FOSSIL \", \"Device Type\": \"Smartwatch\", \"Model Name\": \"FTW5011 Hybrid\", \"Color\": \"Black\", \"Selling Price\": 8995, \"Original Price\": 14495, \"Display\": \"AMOLED Display\", \"Rating (Out of 5)\": 4.8, \"Strap Material\": \"Leather\", \"Average Battery Life (in days)\": 2, \"Reviews\": null}, {\"Brand Name\": \"FOSSIL \", \"Device Type\": \"Smartwatch\", \"Model Name\": \"FTW2120SET Q\", \"Color\": \"Gray\", \"Selling Price\": 23995, \"Original Price\": 23995, \"Display\": \"AMOLED Display\", \"Rating (Out of 5)\": 4.6, \"Strap Material\": \"Leather\", \"Average Battery Life (in days)\": 2, \"Reviews\": null}, {\"Brand Name\": \"FOSSIL \", \"Device Type\": \"Smartwatch\", \"Model Name\": \"FTW1136 Q Hybrid\", \"Color\": \"Blue\", \"Selling Price\": 11995, \"Original Price\": 11995, \"Display\": \"AMOLED Display\", \"Rating (Out of 5)\": 4.6, \"Strap Material\": \"Leather\", \"Average Battery Life (in days)\": 2, \"Reviews\": null}, {\"Brand Name\": \"FOSSIL \", \"Device Type\": \"Smartwatch\", \"Model Name\": \"Q Venture\", \"Color\": \"Beige\", \"Selling Price\": 15995, \"Original Price\": 15995, \"Display\": \"AMOLED Display\", \"Rating (Out of 5)\": 4.6, \"Strap Material\": \"Leather\", \"Average Battery Life (in days)\": 1, \"Reviews\": \"46\"}, {\"Brand Name\": \"FOSSIL \", \"Device Type\": \"Smartwatch\", \"Model Name\": \"FTW2115 Q Watch\", \"Color\": \"Red\", \"Selling Price\": 18995, \"Original Price\": 18995, \"Display\": \"AMOLED Display\", \"Rating (Out of 5)\": 4.6, \"Strap Material\": \"Stainless Steel\", \"Average Battery Life (in days)\": 2, \"Reviews\": null}, {\"Brand Name\": \"FOSSIL \", \"Device Type\": \"Smartwatch\", \"Model Name\": \"FTW6010 Pink HR\", \"Color\": \"Pink\", \"Selling Price\": 15995, \"Original Price\": 15995, \"Display\": \"AMOLED Display\", \"Rating (Out of 5)\": 4.4, \"Strap Material\": \"Stainless Steel\", \"Average Battery Life (in days)\": 14, \"Reviews\": null}, {\"Brand Name\": \"FOSSIL \", \"Device Type\": \"Smartwatch\", \"Model Name\": \"Q ACTIVIST\", \"Color\": \"Brown\", \"Selling Price\": 6995, \"Original Price\": 6995, \"Display\": \"AMOLED Display\", \"Rating (Out of 5)\": 3.0, \"Strap Material\": \"leather\", \"Average Battery Life (in days)\": 1, \"Reviews\": null}, {\"Brand Name\": \"FOSSIL \", \"Device Type\": \"Smartwatch\", \"Model Name\": \"Carlie Hybrid\", \"Color\": \"Silver\", \"Selling Price\": 8995, \"Original Price\": 13495, \"Display\": \"AMOLED Display\", \"Rating (Out of 5)\": 4.6, \"Strap Material\": \"Stainless Steel\", \"Average Battery Life (in days)\": 12, \"Reviews\": null}, {\"Brand Name\": \"FOSSIL \", \"Device Type\": \"Smartwatch\", \"Model Name\": \"FTW1154 Hybrid\", \"Color\": \"Black\", \"Selling Price\": 8995, \"Original Price\": 12995, \"Display\": \"AMOLED Display\", \"Rating (Out of 5)\": 4.3, \"Strap Material\": \"Stainless Steel\", \"Average Battery Life (in days)\": 2, \"Reviews\": null}, {\"Brand Name\": \"FOSSIL \", \"Device Type\": \"Smartwatch\", \"Model Name\": \"FTW5015 Hybrid\", \"Color\": \"Blue\", \"Selling Price\": 6995, \"Original Price\": 14495, \"Display\": \"AMOLED Display\", \"Rating (Out of 5)\": 3.0, \"Strap Material\": \"Stainless Steel\", \"Average Battery Life (in days)\": 2, \"Reviews\": null}, {\"Brand Name\": \"FOSSIL \", \"Device Type\": \"Smartwatch\", \"Model Name\": \"Sport\", \"Color\": \"Grey\", \"Selling Price\": 17995, \"Original Price\": 17995, \"Display\": \"AMOLED Display\", \"Rating (Out of 5)\": 4.6, \"Strap Material\": \"Silicone\", \"Average Battery Life (in days)\": 2, \"Reviews\": null}, {\"Brand Name\": \"FOSSIL \", \"Device Type\": \"Smartwatch\", \"Model Name\": \"Sloan HR\", \"Color\": \"Gold\", \"Selling Price\": 21995, \"Original Price\": 21995, \"Display\": \"AMOLED Display\", \"Rating (Out of 5)\": 4.1, \"Strap Material\": \"Silicone\", \"Average Battery Life (in days)\": 14, \"Reviews\": null}, {\"Brand Name\": \"FOSSIL \", \"Device Type\": \"Smartwatch\", \"Model Name\": \"Q GRANT\", \"Color\": \"Black\", \"Selling Price\": 6995, \"Original Price\": 6995, \"Display\": \"AMOLED Display\", \"Rating (Out of 5)\": 4.6, \"Strap Material\": \"Stainless Steel\", \"Average Battery Life (in days)\": 7, \"Reviews\": null}, {\"Brand Name\": \"FOSSIL \", \"Device Type\": \"Smartwatch\", \"Model Name\": \"Sport 41\", \"Color\": \"Red, Green\", \"Selling Price\": 9995, \"Original Price\": 17995, \"Display\": \"AMOLED Display\", \"Rating (Out of 5)\": 4.0, \"Strap Material\": \"Silicone\", \"Average Battery Life (in days)\": 2, \"Reviews\": null}, {\"Brand Name\": \"FOSSIL \", \"Device Type\": \"Smartwatch\", \"Model Name\": \"FTW6006 Gold HR\", \"Color\": \"Gold\", \"Selling Price\": 21995, \"Original Price\": 21995, \"Display\": \"AMOLED Display\", \"Rating (Out of 5)\": 3.7, \"Strap Material\": \"Stainless Steel\", \"Average Battery Life (in days)\": 6, \"Reviews\": null}, {\"Brand Name\": \"APPLE\", \"Device Type\": \"Smartwatch\", \"Model Name\": \"Series 3 GPS - 42 mm Space Grey Aluminium Case\", \"Color\": \"Black\", \"Selling Price\": 18900, \"Original Price\": 23900, \"Display\": \"OLED Retina Display\", \"Rating (Out of 5)\": 4.6, \"Strap Material\": \"Aluminium\", \"Average Battery Life (in days)\": 1, \"Reviews\": null}, {\"Brand Name\": \"APPLE\", \"Device Type\": \"Smartwatch\", \"Model Name\": \"SE 44 mm Space Grey Aluminium Case\", \"Color\": \"Black\", \"Selling Price\": 30400, \"Original Price\": 32900, \"Display\": \"OLED Retina Display\", \"Rating (Out of 5)\": 4.7, \"Strap Material\": \"Aluminium\", \"Average Battery Life (in days)\": 1, \"Reviews\": null}, {\"Brand Name\": \"APPLE\", \"Device Type\": \"Smartwatch\", \"Model Name\": \"Series 3 GPS - 38 mm Space Grey Aluminium Case\", \"Color\": \"Black\", \"Selling Price\": 16900, \"Original Price\": 20900, \"Display\": \"OLED Retina Display\", \"Rating (Out of 5)\": 4.6, \"Strap Material\": \"Aluminium\", \"Average Battery Life (in days)\": 1, \"Reviews\": null}, {\"Brand Name\": \"APPLE\", \"Device Type\": \"Smartwatch\", \"Model Name\": \"SE GPS + Cellular 44 mm Aluminium Case\", \"Color\": \"Black\", \"Selling Price\": 36900, \"Original Price\": 36900, \"Display\": \"OLED Retina Display\", \"Rating (Out of 5)\": 4.6, \"Strap Material\": \"Aluminium\", \"Average Battery Life (in days)\": 1, \"Reviews\": null}, {\"Brand Name\": \"APPLE\", \"Device Type\": \"Smartwatch\", \"Model Name\": \"SE GPS + Cellular 40 mm Space Grey Aluminium Case\", \"Color\": \"Charcoal\", \"Selling Price\": 31400, \"Original Price\": 33900, \"Display\": \"OLED Retina Display\", \"Rating (Out of 5)\": 4.6, \"Strap Material\": \"Aluminium\", \"Average Battery Life (in days)\": 1, \"Reviews\": null}, {\"Brand Name\": \"APPLE\", \"Device Type\": \"Smartwatch\", \"Model Name\": \"SE 40 mm Space Grey Aluminium Case\", \"Color\": \"Black, Pink, White\", \"Selling Price\": 27400, \"Original Price\": 29900, \"Display\": \"OLED Retina Display\", \"Rating (Out of 5)\": 4.7, \"Strap Material\": \"Aluminium\", \"Average Battery Life (in days)\": 1, \"Reviews\": null}, {\"Brand Name\": \"APPLE\", \"Device Type\": \"Smartwatch\", \"Model Name\": \"Series 6 GPS + Cellular 40 mm Red Aluminium Case\", \"Color\": \"Red\", \"Selling Price\": 45690, \"Original Price\": 49900, \"Display\": \"OLED Retina Display\", \"Rating (Out of 5)\": 4.5, \"Strap Material\": \"Aluminium\", \"Average Battery Life (in days)\": 1, \"Reviews\": null}, {\"Brand Name\": \"APPLE\", \"Device Type\": \"Smartwatch\", \"Model Name\": \"SE 44 mm Gold Aluminium Case\", \"Color\": \"Pink Sand\", \"Selling Price\": 30400, \"Original Price\": 32900, \"Display\": \"OLED Retina Display\", \"Rating (Out of 5)\": 4.7, \"Strap Material\": \"Aluminium\", \"Average Battery Life (in days)\": 1, \"Reviews\": null}, {\"Brand Name\": \"APPLE\", \"Device Type\": \"Smartwatch\", \"Model Name\": \"SE GPS + Cellular 40 mm Gold Aluminium Case\", \"Color\": \"Plum\", \"Selling Price\": 31400, \"Original Price\": 33900, \"Display\": \"OLED Retina Display\", \"Rating (Out of 5)\": 4.6, \"Strap Material\": \"Aluminium\", \"Average Battery Life (in days)\": 1, \"Reviews\": null}, {\"Brand Name\": \"APPLE\", \"Device Type\": \"Smartwatch\", \"Model Name\": \"SE GPS + Cellular 40 mm Aluminium Case\", \"Color\": \"Black\", \"Selling Price\": 33900, \"Original Price\": 33900, \"Display\": \"OLED Retina Display\", \"Rating (Out of 5)\": 4.6, \"Strap Material\": \"Aluminium\", \"Average Battery Life (in days)\": 1, \"Reviews\": null}, {\"Brand Name\": \"APPLE\", \"Device Type\": \"Smartwatch\", \"Model Name\": \"Series 6 GPS 40 mm Silver Aluminium Case\", \"Color\": \"White\", \"Selling Price\": 37490, \"Original Price\": 40900, \"Display\": \"OLED Retina Display\", \"Rating (Out of 5)\": 4.5, \"Strap Material\": \"Aluminium\", \"Average Battery Life (in days)\": 1, \"Reviews\": null}, {\"Brand Name\": \"APPLE\", \"Device Type\": \"Smartwatch\", \"Model Name\": \"Series 6 GPS + Cellular 40 mm Blue Aluminium Case\", \"Color\": \"Deep Navy\", \"Selling Price\": 45690, \"Original Price\": 49900, \"Display\": \"OLED Retina Display\", \"Rating (Out of 5)\": 4.5, \"Strap Material\": \"Aluminium\", \"Average Battery Life (in days)\": 1, \"Reviews\": null}, {\"Brand Name\": \"APPLE\", \"Device Type\": \"Smartwatch\", \"Model Name\": \"Series 6 GPS + Cellular 40 mm Graphite Stainless Steel Case\", \"Color\": \"Graphite Milanese\", \"Selling Price\": 67900, \"Original Price\": 73900, \"Display\": \"OLED Retina Display\", \"Rating (Out of 5)\": 4.5, \"Strap Material\": \"Stainless Steel\", \"Average Battery Life (in days)\": 1, \"Reviews\": null}, {\"Brand Name\": \"APPLE\", \"Device Type\": \"Smartwatch\", \"Model Name\": \"Series 6 GPS 44 mm Red Aluminium Case\", \"Color\": \"Red\", \"Selling Price\": 40190, \"Original Price\": 43900, \"Display\": \"OLED Retina Display\", \"Rating (Out of 5)\": 4.5, \"Strap Material\": \"Aluminium\", \"Average Battery Life (in days)\": 1, \"Reviews\": null}, {\"Brand Name\": \"APPLE\", \"Device Type\": \"Smartwatch\", \"Model Name\": \"SE GPS 44 mm Aluminium Case\", \"Color\": \"Black\", \"Selling Price\": 32900, \"Original Price\": 32900, \"Display\": \"OLED Retina Display\", \"Rating (Out of 5)\": 4.7, \"Strap Material\": \"Aluminium\", \"Average Battery Life (in days)\": 1, \"Reviews\": null}, {\"Brand Name\": \"APPLE\", \"Device Type\": \"Smartwatch\", \"Model Name\": \"Series 6 GPS + Cellular 40 mm Space Grey Aluminium Case\", \"Color\": \"black\", \"Selling Price\": 45690, \"Original Price\": 49900, \"Display\": \"OLED Retina Display\", \"Rating (Out of 5)\": 4.5, \"Strap Material\": \"Aluminium\", \"Average Battery Life (in days)\": 1, \"Reviews\": null}, {\"Brand Name\": \"APPLE\", \"Device Type\": \"Smartwatch\", \"Model Name\": \"Series 6 GPS + Cellular 40 mm Space Grey Aluminium Case\", \"Color\": \"White\", \"Selling Price\": 69900, \"Original Price\": 69900, \"Display\": \"OLED Retina Display\", \"Rating (Out of 5)\": 4.2, \"Strap Material\": \"Aluminium\", \"Average Battery Life (in days)\": 1, \"Reviews\": null}, {\"Brand Name\": \"APPLE\", \"Device Type\": \"Smartwatch\", \"Model Name\": \"Series 5 GPS + Cellular 40 mm Space Black Stainless Steel Case\", \"Color\": \"Black Milanese\", \"Selling Price\": 69900, \"Original Price\": 69900, \"Display\": \"OLED Retina Display\", \"Rating (Out of 5)\": 4.6, \"Strap Material\": \"Stainless Steel\", \"Average Battery Life (in days)\": 1, \"Reviews\": null}, {\"Brand Name\": \"APPLE\", \"Device Type\": \"Smartwatch\", \"Model Name\": \"Series 5 GPS + Cellular 44 mm Gold Stainless Steel Case\", \"Color\": \"Gold Milanese\", \"Selling Price\": 73900, \"Original Price\": 73900, \"Display\": \"OLED Retina Display\", \"Rating (Out of 5)\": 4.2, \"Strap Material\": \"Stainless Steel\", \"Average Battery Life (in days)\": 1, \"Reviews\": null}, {\"Brand Name\": \"APPLE\", \"Device Type\": \"Smartwatch\", \"Model Name\": \"Series 6 GPS 44 mm Blue Aluminium Case\", \"Color\": \"Deep Navy\", \"Selling Price\": 43900, \"Original Price\": 43900, \"Display\": \"OLED Retina Display\", \"Rating (Out of 5)\": 4.5, \"Strap Material\": \"Aluminium\", \"Average Battery Life (in days)\": 1, \"Reviews\": null}, {\"Brand Name\": \"APPLE\", \"Device Type\": \"Smartwatch\", \"Model Name\": \"Series 6 GPS + Cellular 44 mm Silver Aluminium Case\", \"Color\": \"White\", \"Selling Price\": 48490, \"Original Price\": 52900, \"Display\": \"OLED Retina Display\", \"Rating (Out of 5)\": 4.5, \"Strap Material\": \"Aluminium\", \"Average Battery Life (in days)\": 1, \"Reviews\": null}, {\"Brand Name\": \"APPLE\", \"Device Type\": \"Smartwatch\", \"Model Name\": \"Series 6 GPS + Cellular 40 mm Gold Aluminium Case\", \"Color\": \"Pink Sand\", \"Selling Price\": 45690, \"Original Price\": 49900, \"Display\": \"OLED Retina Display\", \"Rating (Out of 5)\": 4.5, \"Strap Material\": \"Aluminium\", \"Average Battery Life (in days)\": 1, \"Reviews\": null}, {\"Brand Name\": \"APPLE\", \"Device Type\": \"Smartwatch\", \"Model Name\": \"Series 6 GPS + Cellular 40 mm Gold Stainless Steel Case\", \"Color\": \"Cyprus Green\", \"Selling Price\": 69900, \"Original Price\": 69900, \"Display\": \"OLED Retina Display\", \"Rating (Out of 5)\": 4.5, \"Strap Material\": \"Stainless Steel\", \"Average Battery Life (in days)\": 1, \"Reviews\": null}, {\"Brand Name\": \"APPLE\", \"Device Type\": \"Smartwatch\", \"Model Name\": \"Series 5 GPS + Cellular 40 mm Stainless Steel Case\", \"Color\": \"White\", \"Selling Price\": 65900, \"Original Price\": 65900, \"Display\": \"OLED Retina Display\", \"Rating (Out of 5)\": 3.4, \"Strap Material\": \"Stainless Steel\", \"Average Battery Life (in days)\": 1, \"Reviews\": null}, {\"Brand Name\": \"APPLE\", \"Device Type\": \"Smartwatch\", \"Model Name\": \"Series 5 GPS + Cellular 44 mm Gold Aluminium Case\", \"Color\": \"Pink Sand\", \"Selling Price\": 52900, \"Original Price\": 52900, \"Display\": \"OLED Retina Display\", \"Rating (Out of 5)\": 4.7, \"Strap Material\": \"Aluminium\", \"Average Battery Life (in days)\": 1, \"Reviews\": null}, {\"Brand Name\": \"APPLE\", \"Device Type\": \"Smartwatch\", \"Model Name\": \"Series 5 GPS + Cellular 44 mm Space Grey Aluminium Case\", \"Color\": \"Black\", \"Selling Price\": 52900, \"Original Price\": 52900, \"Display\": \"OLED Retina Display\", \"Rating (Out of 5)\": 4.7, \"Strap Material\": \"Aluminium\", \"Average Battery Life (in days)\": 1, \"Reviews\": null}, {\"Brand Name\": \"APPLE\", \"Device Type\": \"Smartwatch\", \"Model Name\": \"Series 2 - 38 mm Stainless Steel Case\", \"Color\": \"Saddle Brown\", \"Selling Price\": 56900, \"Original Price\": 56900, \"Display\": \"OLED Retina Display\", \"Rating (Out of 5)\": 4.6, \"Strap Material\": \"Stainless Steel\", \"Average Battery Life (in days)\": 1, \"Reviews\": null}, {\"Brand Name\": \"APPLE\", \"Device Type\": \"Smartwatch\", \"Model Name\": \"Series 2 - 42 mm Stainless Steel Case\", \"Color\": \"White\", \"Selling Price\": 50400, \"Original Price\": 50400, \"Display\": \"OLED Retina Display\", \"Rating (Out of 5)\": 4.7, \"Strap Material\": \"Stainless Steel\", \"Average Battery Life (in days)\": 1, \"Reviews\": null}, {\"Brand Name\": \"APPLE\", \"Device Type\": \"Smartwatch\", \"Model Name\": \"Series 2 - 42 mm Space Black Stainless Steel Case\", \"Color\": \"Space Black\", \"Selling Price\": 50400, \"Original Price\": 50400, \"Display\": \"OLED Retina Display\", \"Rating (Out of 5)\": 4.7, \"Strap Material\": \"Stainless Steel\", \"Average Battery Life (in days)\": 1, \"Reviews\": null}, {\"Brand Name\": \"APPLE\", \"Device Type\": \"Smartwatch\", \"Model Name\": \"Series 6 GPS + Cellular 40 mm Red Aluminium Case\", \"Color\": \"Red\", \"Selling Price\": 45690, \"Original Price\": 49900, \"Display\": \"OLED Retina Display\", \"Rating (Out of 5)\": 4.5, \"Strap Material\": \"Aluminium\", \"Average Battery Life (in days)\": 1, \"Reviews\": null}, {\"Brand Name\": \"APPLE\", \"Device Type\": \"Smartwatch\", \"Model Name\": \"Series 5 GPS + Cellular 40 mm Space Grey Aluminium Case\", \"Color\": \"Black\", \"Selling Price\": 39990, \"Original Price\": 49900, \"Display\": \"OLED Retina Display\", \"Rating (Out of 5)\": 4.5, \"Strap Material\": \"Aluminium\", \"Average Battery Life (in days)\": 1, \"Reviews\": null}, {\"Brand Name\": \"APPLE\", \"Device Type\": \"Smartwatch\", \"Model Name\": \"Series 6 GPS + Cellular 40 mm Silver Aluminium Case\", \"Color\": \"White\", \"Selling Price\": 45690, \"Original Price\": 49900, \"Display\": \"OLED Retina Display\", \"Rating (Out of 5)\": 4.5, \"Strap Material\": \"Aluminium\", \"Average Battery Life (in days)\": 1, \"Reviews\": null}, {\"Brand Name\": \"APPLE\", \"Device Type\": \"Smartwatch\", \"Model Name\": \"Series 6 GPS + Cellular 40 mm Gold Stainless Steel Case\", \"Color\": \"Gold Milanese\", \"Selling Price\": 67900, \"Original Price\": 73900, \"Display\": \"OLED Retina Display\", \"Rating (Out of 5)\": 4.5, \"Strap Material\": \"Stainless Steel\", \"Average Battery Life (in days)\": 1, \"Reviews\": null}, {\"Brand Name\": \"APPLE\", \"Device Type\": \"Smartwatch\", \"Model Name\": \"SE GPS 40 mm Aluminium Case\", \"Color\": \"Black\", \"Selling Price\": 29900, \"Original Price\": 29900, \"Display\": \"OLED Retina Display\", \"Rating (Out of 5)\": 4.7, \"Strap Material\": \"Aluminium\", \"Average Battery Life (in days)\": 1, \"Reviews\": null}, {\"Brand Name\": \"APPLE\", \"Device Type\": \"Smartwatch\", \"Model Name\": \"Series 5 GPS + Cellular 44 mm Stainless Steel Case\", \"Color\": \"Stainless Steel Milanese\", \"Selling Price\": 73900, \"Original Price\": 73900, \"Display\": \"OLED Retina Display\", \"Rating (Out of 5)\": 4.2, \"Strap Material\": \"Stainless Steel\", \"Average Battery Life (in days)\": 1, \"Reviews\": null}, {\"Brand Name\": \"APPLE\", \"Device Type\": \"Smartwatch\", \"Model Name\": \"Series 5 GPS + Cellular 44 mm Gold Stainless Steel Case\", \"Color\": \"Stone\", \"Selling Price\": 69900, \"Original Price\": 69900, \"Display\": \"OLED Retina Display\", \"Rating (Out of 5)\": 4.2, \"Strap Material\": \"Stainless Steel\", \"Average Battery Life (in days)\": 1, \"Reviews\": null}, {\"Brand Name\": \"APPLE\", \"Device Type\": \"Smartwatch\", \"Model Name\": \"Series 5 GPS 40 mm Silver Aluminium Case\", \"Color\": \"White\", \"Selling Price\": 40900, \"Original Price\": 40900, \"Display\": \"OLED Retina Display\", \"Rating (Out of 5)\": 4.7, \"Strap Material\": \"Aluminium\", \"Average Battery Life (in days)\": 1, \"Reviews\": null}, {\"Brand Name\": \"APPLE\", \"Device Type\": \"Smartwatch\", \"Model Name\": \"Series 6 GPS 44 mm Blue Aluminium Case\", \"Color\": \"Deep Navy\", \"Selling Price\": 43900, \"Original Price\": 43900, \"Display\": \"OLED Retina Display\", \"Rating (Out of 5)\": 4.5, \"Strap Material\": \"Aluminium\", \"Average Battery Life (in days)\": 1, \"Reviews\": null}, {\"Brand Name\": \"APPLE\", \"Device Type\": \"Smartwatch\", \"Model Name\": \"Series 7 GPS 45 mm\", \"Color\": \"Black\", \"Selling Price\": 44900, \"Original Price\": 44900, \"Display\": \"OLED Retina Display\", \"Rating (Out of 5)\": 5.0, \"Strap Material\": \"Silicone\", \"Average Battery Life (in days)\": 1, \"Reviews\": null}, {\"Brand Name\": \"APPLE\", \"Device Type\": \"Smartwatch\", \"Model Name\": \"SE GPS + Cellular 44 mm Space Grey Aluminium Case\", \"Color\": \"Charcoal\", \"Selling Price\": 33900, \"Original Price\": 36900, \"Display\": \"OLED Retina Display\", \"Rating (Out of 5)\": 4.6, \"Strap Material\": \"Aluminium\", \"Average Battery Life (in days)\": 1, \"Reviews\": null}, {\"Brand Name\": \"APPLE\", \"Device Type\": \"Smartwatch\", \"Model Name\": \"SE GPS + Cellular 40 mm Space Grey Aluminium Case\", \"Color\": \"Black\", \"Selling Price\": 31400, \"Original Price\": 33900, \"Display\": \"OLED Retina Display\", \"Rating (Out of 5)\": 4.6, \"Strap Material\": \"Aluminium\", \"Average Battery Life (in days)\": 1, \"Reviews\": null}, {\"Brand Name\": \"APPLE\", \"Device Type\": \"Smartwatch\", \"Model Name\": \"Series 6 GPS + Cellular 44 mm Space Grey Aluminium Case\", \"Color\": \"Black\", \"Selling Price\": 48490, \"Original Price\": 52900, \"Display\": \"OLED Retina Display\", \"Rating (Out of 5)\": 4.5, \"Strap Material\": \"Aluminium\", \"Average Battery Life (in days)\": 1, \"Reviews\": null}, {\"Brand Name\": \"APPLE\", \"Device Type\": \"Smartwatch\", \"Model Name\": \"Series 7 GPS + Cellular 41 mm Aluminium\", \"Color\": \"Black\", \"Selling Price\": 50900, \"Original Price\": 50900, \"Display\": \"OLED Retina Display\", \"Rating (Out of 5)\": 4.6, \"Strap Material\": \"Aluminium\", \"Average Battery Life (in days)\": 1, \"Reviews\": null}, {\"Brand Name\": \"APPLE\", \"Device Type\": \"Smartwatch\", \"Model Name\": \"Series 7 GPS + Cellular, 45 mm Aluminium\", \"Color\": \"Black\", \"Selling Price\": 53900, \"Original Price\": 53900, \"Display\": \"OLED Retina Display\", \"Rating (Out of 5)\": 4.6, \"Strap Material\": \"Aluminium\", \"Average Battery Life (in days)\": 1, \"Reviews\": null}, {\"Brand Name\": \"APPLE\", \"Device Type\": \"Smartwatch\", \"Model Name\": \"SE GPS + Cellular 40 mm Silver Aluminium Case\", \"Color\": \"White\", \"Selling Price\": 31400, \"Original Price\": 33900, \"Display\": \"OLED Retina Display\", \"Rating (Out of 5)\": 4.6, \"Strap Material\": \"Aluminium\", \"Average Battery Life (in days)\": 1, \"Reviews\": null}, {\"Brand Name\": \"APPLE\", \"Device Type\": \"Smartwatch\", \"Model Name\": \"Series 6 GPS 40 mm Blue Aluminium Case\", \"Color\": \"Deep Navy\", \"Selling Price\": 37490, \"Original Price\": 40900, \"Display\": \"OLED Retina Display\", \"Rating (Out of 5)\": 4.5, \"Strap Material\": \"Aluminium\", \"Average Battery Life (in days)\": 1, \"Reviews\": null}, {\"Brand Name\": \"APPLE\", \"Device Type\": \"Smartwatch\", \"Model Name\": \"SE GPS + Cellular 40 mm Silver Aluminium Case\", \"Color\": \"Deep Navy\", \"Selling Price\": 31400, \"Original Price\": 33900, \"Display\": \"OLED Retina Display\", \"Rating (Out of 5)\": 4.6, \"Strap Material\": \"Aluminium\", \"Average Battery Life (in days)\": 1, \"Reviews\": null}, {\"Brand Name\": \"APPLE\", \"Device Type\": \"Smartwatch\", \"Model Name\": \"Series 6 GPS 40 mm Gold Aluminium Case\", \"Color\": \"Pink Sand\", \"Selling Price\": 37490, \"Original Price\": 40900, \"Display\": \"OLED Retina Display\", \"Rating (Out of 5)\": 4.5, \"Strap Material\": \"Aluminium\", \"Average Battery Life (in days)\": 1, \"Reviews\": null}, {\"Brand Name\": \"APPLE\", \"Device Type\": \"Smartwatch\", \"Model Name\": \"SE GPS + Cellular 44 mm Space Grey Aluminium Case\", \"Color\": \"Black\", \"Selling Price\": 33900, \"Original Price\": 36900, \"Display\": \"OLED Retina Display\", \"Rating (Out of 5)\": 4.6, \"Strap Material\": \"Aluminium\", \"Average Battery Life (in days)\": 1, \"Reviews\": null}, {\"Brand Name\": \"APPLE\", \"Device Type\": \"Smartwatch\", \"Model Name\": \"SE GPS + Cellular 40 mm Gold Aluminium Case\", \"Color\": \"Pink Sand\", \"Selling Price\": 31400, \"Original Price\": 33900, \"Display\": \"OLED Retina Display\", \"Rating (Out of 5)\": 4.6, \"Strap Material\": \"Aluminium\", \"Average Battery Life (in days)\": 1, \"Reviews\": null}, {\"Brand Name\": \"APPLE\", \"Device Type\": \"Smartwatch\", \"Model Name\": \"Series 6 GPS + Cellular 44 mm Red Aluminium Case\", \"Color\": \"Red\", \"Selling Price\": 48490, \"Original Price\": 52900, \"Display\": \"OLED Retina Display\", \"Rating (Out of 5)\": 4.5, \"Strap Material\": \"Aluminium\", \"Average Battery Life (in days)\": 1, \"Reviews\": null}, {\"Brand Name\": \"APPLE\", \"Device Type\": \"Smartwatch\", \"Model Name\": \"Series 6 GPS 40 mm Space Grey Aluminium Case\", \"Color\": \"Black\", \"Selling Price\": 37490, \"Original Price\": 40900, \"Display\": \"OLED Retina Display\", \"Rating (Out of 5)\": 4.5, \"Strap Material\": \"Aluminium\", \"Average Battery Life (in days)\": 1, \"Reviews\": null}, {\"Brand Name\": \"APPLE\", \"Device Type\": \"Smartwatch\", \"Model Name\": \"Series 6 GPS + Cellular 44 mm Silver Stainless Steel Case\", \"Color\": \"Silver Milanese\", \"Selling Price\": 77900, \"Original Price\": 77900, \"Display\": \"OLED Retina Display\", \"Rating (Out of 5)\": 4.5, \"Strap Material\": \"Stainless Steel\", \"Average Battery Life (in days)\": 1, \"Reviews\": null}, {\"Brand Name\": \"APPLE\", \"Device Type\": \"Smartwatch\", \"Model Name\": \"Nike Series 5 GPS + Cellular 44 mm\", \"Color\": \"Black\", \"Selling Price\": 52900, \"Original Price\": 52900, \"Display\": \"OLED Retina Display\", \"Rating (Out of 5)\": 4.7, \"Strap Material\": \"Silicone\", \"Average Battery Life (in days)\": 1, \"Reviews\": null}, {\"Brand Name\": \"APPLE\", \"Device Type\": \"Smartwatch\", \"Model Name\": \"Series 6 GPS + Cellular 44 mm Blue Aluminium Case\", \"Color\": \"Deep Navy\", \"Selling Price\": 48490, \"Original Price\": 52900, \"Display\": \"OLED Retina Display\", \"Rating (Out of 5)\": 4.5, \"Strap Material\": \"Aluminium\", \"Average Battery Life (in days)\": 1, \"Reviews\": null}, {\"Brand Name\": \"APPLE\", \"Device Type\": \"Smartwatch\", \"Model Name\": \"SE GPS + Cellular 40 mm Gold Aluminium Case\", \"Color\": \"Silver Milanese\", \"Selling Price\": 67900, \"Original Price\": 73900, \"Display\": \"OLED Retina Display\", \"Rating (Out of 5)\": 4.5, \"Strap Material\": \"Aluminium\", \"Average Battery Life (in days)\": 1, \"Reviews\": null}, {\"Brand Name\": \"APPLE\", \"Device Type\": \"Smartwatch\", \"Model Name\": \"SE GPS + Cellular 44 mm Gold Aluminium Case\", \"Color\": \"Pink Sand\", \"Selling Price\": 33900, \"Original Price\": 36900, \"Display\": \"OLED Retina Display\", \"Rating (Out of 5)\": 4.6, \"Strap Material\": \"Aluminium\", \"Average Battery Life (in days)\": 1, \"Reviews\": null}, {\"Brand Name\": \"APPLE\", \"Device Type\": \"Smartwatch\", \"Model Name\": \"SE GPS + Cellular 44 mm Silver Aluminium Case\", \"Color\": \"Deep Navy\", \"Selling Price\": 33900, \"Original Price\": 36900, \"Display\": \"OLED Retina Display\", \"Rating (Out of 5)\": 4.6, \"Strap Material\": \"Aluminium\", \"Average Battery Life (in days)\": 1, \"Reviews\": null}, {\"Brand Name\": \"APPLE\", \"Device Type\": \"Smartwatch\", \"Model Name\": \"Series 6 GPS 44 mm Space Grey Aluminium Case\", \"Color\": \"Black\", \"Selling Price\": 40190, \"Original Price\": 43900, \"Display\": \"OLED Retina Display\", \"Rating (Out of 5)\": 4.5, \"Strap Material\": \"Aluminium\", \"Average Battery Life (in days)\": 1, \"Reviews\": null}, {\"Brand Name\": \"APPLE\", \"Device Type\": \"Smartwatch\", \"Model Name\": \"SE GPS + Cellular 44 mm Silver Aluminium Case\", \"Color\": \"White\", \"Selling Price\": 33900, \"Original Price\": 36900, \"Display\": \"OLED Retina Display\", \"Rating (Out of 5)\": 4.6, \"Strap Material\": \"Aluminium\", \"Average Battery Life (in days)\": 1, \"Reviews\": null}, {\"Brand Name\": \"APPLE\", \"Device Type\": \"Smartwatch\", \"Model Name\": \"Series 6 GPS 44 mm Silver Aluminium Case\", \"Color\": \"White\", \"Selling Price\": 43900, \"Original Price\": 43900, \"Display\": \"OLED Retina Display\", \"Rating (Out of 5)\": 4.5, \"Strap Material\": \"Aluminium\", \"Average Battery Life (in days)\": 1, \"Reviews\": null}, {\"Brand Name\": \"APPLE\", \"Device Type\": \"Smartwatch\", \"Model Name\": \"Series 6 GPS + Cellular 44 mm Graphite Stainless Steel Case\", \"Color\": \"Black\", \"Selling Price\": 67900, \"Original Price\": 73900, \"Display\": \"OLED Retina Display\", \"Rating (Out of 5)\": 4.5, \"Strap Material\": \"Stainless Steel\", \"Average Battery Life (in days)\": 1, \"Reviews\": null}, {\"Brand Name\": \"APPLE\", \"Device Type\": \"Smartwatch\", \"Model Name\": \"SE GPS + Cellular 44 mm Gold Aluminium Case\", \"Color\": \"Plum\", \"Selling Price\": 33900, \"Original Price\": 36900, \"Display\": \"OLED Retina Display\", \"Rating (Out of 5)\": 4.6, \"Strap Material\": \"Aluminium\", \"Average Battery Life (in days)\": 1, \"Reviews\": null}, {\"Brand Name\": \"APPLE\", \"Device Type\": \"Smartwatch\", \"Model Name\": \"SE GPS + Cellular 44 mm Gold Aluminium Case\", \"Color\": \"Pink Sand\", \"Selling Price\": 43900, \"Original Price\": 43900, \"Display\": \"OLED Retina Display\", \"Rating (Out of 5)\": 4.5, \"Strap Material\": \"Aluminium\", \"Average Battery Life (in days)\": 1, \"Reviews\": null}, {\"Brand Name\": \"APPLE\", \"Device Type\": \"Smartwatch\", \"Model Name\": \"Series 5 GPS + Cellular 44 mm Space Black Stainless Steel Case\", \"Color\": \"Black\", \"Selling Price\": 69900, \"Original Price\": 69900, \"Display\": \"OLED Retina Display\", \"Rating (Out of 5)\": 4.2, \"Strap Material\": \"Stainless Steel\", \"Average Battery Life (in days)\": 1, \"Reviews\": null}, {\"Brand Name\": \"APPLE\", \"Device Type\": \"Smartwatch\", \"Model Name\": \"42 mm White Ceramic Case with Cloud Sport\", \"Color\": \"Cloud\", \"Selling Price\": 114900, \"Original Price\": 114900, \"Display\": \"OLED Retina Display\", \"Rating (Out of 5)\": 4.7, \"Strap Material\": \"Nylon\", \"Average Battery Life (in days)\": 1, \"Reviews\": null}, {\"Brand Name\": \"APPLE\", \"Device Type\": \"Smartwatch\", \"Model Name\": \"Series 7 GPS 41 mm Aluminium Case\", \"Color\": \"Black\", \"Selling Price\": 41900, \"Original Price\": 41900, \"Display\": \"OLED Retina Display\", \"Rating (Out of 5)\": 5.0, \"Strap Material\": \"Aluminium\", \"Average Battery Life (in days)\": 1, \"Reviews\": null}, {\"Brand Name\": \"APPLE\", \"Device Type\": \"Smartwatch\", \"Model Name\": \"38 mm Space Black Stainless Steel Case\", \"Color\": \"Black\", \"Selling Price\": 48900, \"Original Price\": 48900, \"Display\": \"OLED Retina Display\", \"Rating (Out of 5)\": 4.6, \"Strap Material\": \"Stainless Steel\", \"Average Battery Life (in days)\": 1, \"Reviews\": null}, {\"Brand Name\": \"APPLE\", \"Device Type\": \"Smartwatch\", \"Model Name\": \"Series 7 GPS + Cellular, 45 mm Stainless Steel\", \"Color\": \"Black\", \"Selling Price\": 77900, \"Original Price\": 77900, \"Display\": \"OLED Retina Display\", \"Rating (Out of 5)\": 4.6, \"Strap Material\": \"Stainless Steel\", \"Average Battery Life (in days)\": 1, \"Reviews\": null}, {\"Brand Name\": \"APPLE\", \"Device Type\": \"Smartwatch\", \"Model Name\": \"Sport 42 mm Space Grey Aluminium Case\", \"Color\": \"Black\", \"Selling Price\": 29900, \"Original Price\": 29900, \"Display\": \"OLED Retina Display\", \"Rating (Out of 5)\": 4.6, \"Strap Material\": \"Aluminium\", \"Average Battery Life (in days)\": 1, \"Reviews\": null}, {\"Brand Name\": \"APPLE\", \"Device Type\": \"Smartwatch\", \"Model Name\": \"Series 7 GPS + Cellular, 45 mm Stainless Steel\", \"Color\": \"Black\", \"Selling Price\": 73900, \"Original Price\": 73900, \"Display\": \"OLED Retina Display\", \"Rating (Out of 5)\": 4.6, \"Strap Material\": \"Stainless Steel\", \"Average Battery Life (in days)\": 1, \"Reviews\": null}, {\"Brand Name\": \"APPLE\", \"Device Type\": \"Smartwatch\", \"Model Name\": \"8 mm Stainless Steel Case\", \"Color\": \"Milanese\", \"Selling Price\": 56900, \"Original Price\": 56900, \"Display\": \"OLED Retina Display\", \"Rating (Out of 5)\": 4.6, \"Strap Material\": \"Stainless Steel\", \"Average Battery Life (in days)\": 1, \"Reviews\": null}, {\"Brand Name\": \"APPLE\", \"Device Type\": \"Smartwatch\", \"Model Name\": \"Series 7 GPS + Cellular, 41 mm Stainless Steel\", \"Color\": \"Black\", \"Selling Price\": 73900, \"Original Price\": 73900, \"Display\": \"OLED Retina Display\", \"Rating (Out of 5)\": 4.6, \"Strap Material\": \"Stainless Steel\", \"Average Battery Life (in days)\": 1, \"Reviews\": null}, {\"Brand Name\": \"APPLE\", \"Device Type\": \"Smartwatch\", \"Model Name\": \"42 mm Black Stainless Steel Case with Link Bracelet\", \"Color\": \"Black\", \"Selling Price\": 79900, \"Original Price\": 79900, \"Display\": \"OLED Retina Display\", \"Rating (Out of 5)\": 4.6, \"Strap Material\": \"Stainless Steel\", \"Average Battery Life (in days)\": 1, \"Reviews\": null}, {\"Brand Name\": \"APPLE\", \"Device Type\": \"Smartwatch\", \"Model Name\": \"42 mm Space Gray Aluminium\", \"Color\": \"Black Woven\", \"Selling Price\": 29900, \"Original Price\": 29900, \"Display\": \"OLED Retina Display\", \"Rating (Out of 5)\": 4.5, \"Strap Material\": \"Aluminium\", \"Average Battery Life (in days)\": 1, \"Reviews\": null}, {\"Brand Name\": \"APPLE\", \"Device Type\": \"Smartwatch\", \"Model Name\": \"Series 1 - 38 mm Silver Aluminium Case\", \"Color\": \"White\", \"Selling Price\": 21900, \"Original Price\": 21900, \"Display\": \"OLED Retina Display\", \"Rating (Out of 5)\": 4.6, \"Strap Material\": \"Aluminium\", \"Average Battery Life (in days)\": 1, \"Reviews\": null}, {\"Brand Name\": \"APPLE\", \"Device Type\": \"Smartwatch\", \"Model Name\": \"Series 3 GPS + Cellular- 42 mm Gray Ceramic Case\", \"Color\": \"Black\", \"Selling Price\": 122090, \"Original Price\": 122090, \"Display\": \"OLED Retina Display\", \"Rating (Out of 5)\": 4.6, \"Strap Material\": \"Nylon\", \"Average Battery Life (in days)\": 1, \"Reviews\": null}, {\"Brand Name\": \"APPLE\", \"Device Type\": \"Smartwatch\", \"Model Name\": \"42 mm Stainless Steel Case\", \"Color\": \"Leather\", \"Selling Price\": 60900, \"Original Price\": 60900, \"Display\": \"OLED Retina Display\", \"Rating (Out of 5)\": 4.5, \"Strap Material\": \"Stainless Steel\", \"Average Battery Life (in days)\": 1, \"Reviews\": null}, {\"Brand Name\": \"APPLE\", \"Device Type\": \"Smartwatch\", \"Model Name\": \"Series 1 - 42 mm Gold Aluminium Case\", \"Color\": \"Cocoa\", \"Selling Price\": 25900, \"Original Price\": 25900, \"Display\": \"OLED Retina Display\", \"Rating (Out of 5)\": 4.6, \"Strap Material\": \"Aluminium\", \"Average Battery Life (in days)\": 1, \"Reviews\": null}, {\"Brand Name\": \"APPLE\", \"Device Type\": \"Smartwatch\", \"Model Name\": \"2 - 42 mm Silver Aluminium Case\", \"Color\": \"Pearl Woven\", \"Selling Price\": 34900, \"Original Price\": 34900, \"Display\": \"OLED Retina Display\", \"Rating (Out of 5)\": 4.7, \"Strap Material\": \"Aluminium\", \"Average Battery Life (in days)\": 1, \"Reviews\": null}, {\"Brand Name\": \"APPLE\", \"Device Type\": \"Smartwatch\", \"Model Name\": \"Nike+ GPS - 42 mm Space Gray Aluminium Case\", \"Color\": \"Black\", \"Selling Price\": 32380, \"Original Price\": 32380, \"Display\": \"OLED Retina Display\", \"Rating (Out of 5)\": 4.6, \"Strap Material\": \"Aluminium\", \"Average Battery Life (in days)\": 1, \"Reviews\": null}, {\"Brand Name\": \"APPLE\", \"Device Type\": \"Smartwatch\", \"Model Name\": \"Series 3 GPS + Cellular- 42 mm White Ceramic Case\", \"Color\": \"Black\", \"Selling Price\": 122090, \"Original Price\": 122090, \"Display\": \"OLED Retina Display\", \"Rating (Out of 5)\": 4.6, \"Strap Material\": \"Nylon\", \"Average Battery Life (in days)\": 1, \"Reviews\": null}, {\"Brand Name\": \"APPLE\", \"Device Type\": \"Smartwatch\", \"Model Name\": \"38 mm Stainless Steel Stainless Steel Case with Modern Buckle\", \"Color\": \"Black\", \"Selling Price\": 64900, \"Original Price\": 64900, \"Display\": \"OLED Retina Display\", \"Rating (Out of 5)\": 4.3, \"Strap Material\": \"Stainless Steel\", \"Average Battery Life (in days)\": 1, \"Reviews\": null}, {\"Brand Name\": \"APPLE\", \"Device Type\": \"Smartwatch\", \"Model Name\": \"8 mm Stainless Steel Case\", \"Color\": \"Saddle Brown\", \"Selling Price\": 56900, \"Original Price\": 56900, \"Display\": \"OLED Retina Display\", \"Rating (Out of 5)\": 4.3, \"Strap Material\": \"Stainless Steel\", \"Average Battery Life (in days)\": 1, \"Reviews\": null}, {\"Brand Name\": \"APPLE\", \"Device Type\": \"Smartwatch\", \"Model Name\": \"series 2 - 38 mm Stainless Steel Case\", \"Color\": \"Blue Modern\", \"Selling Price\": 64900, \"Original Price\": 64900, \"Display\": \"OLED Retina Display\", \"Rating (Out of 5)\": 4.6, \"Strap Material\": \"Stainless Steel\", \"Average Battery Life (in days)\": 1, \"Reviews\": null}, {\"Brand Name\": \"APPLE\", \"Device Type\": \"Smartwatch\", \"Model Name\": \"Nike+ - 38 mm Space Gray Aluminium Case\", \"Color\": \"Black\", \"Selling Price\": 31600, \"Original Price\": 31600, \"Display\": \"OLED Retina Display\", \"Rating (Out of 5)\": 4.5, \"Strap Material\": \"Aluminium\", \"Average Battery Life (in days)\": 1, \"Reviews\": null}, {\"Brand Name\": \"GARMIN \", \"Device Type\": \"Smartwatch\", \"Model Name\": \"Venu Sq - Music Edition\", \"Color\": \"Multicolor, White, Brown\", \"Selling Price\": 20990, \"Original Price\": 25990, \"Display\": \"AMOLED Display\", \"Rating (Out of 5)\": 4.3, \"Strap Material\": \"Silicone\", \"Average Battery Life (in days)\": 7, \"Reviews\": null}, {\"Brand Name\": \"GARMIN \", \"Device Type\": \"Smartwatch\", \"Model Name\": \"Venu Sq\", \"Color\": \"Grey, White\", \"Selling Price\": 15990, \"Original Price\": 20990, \"Display\": \"AMOLED Display\", \"Rating (Out of 5)\": 4.2, \"Strap Material\": \"Silicone\", \"Average Battery Life (in days)\": 7, \"Reviews\": null}, {\"Brand Name\": \"GARMIN \", \"Device Type\": \"Smartwatch\", \"Model Name\": \"Garmin Instinct Tactical\", \"Color\": \"Black, Brown\", \"Selling Price\": 19990, \"Original Price\": 31490, \"Display\": \"AMOLED Display\", \"Rating (Out of 5)\": 4.7, \"Strap Material\": \"Silicone\", \"Average Battery Life (in days)\": 7, \"Reviews\": null}, {\"Brand Name\": \"GARMIN \", \"Device Type\": \"Smartwatch\", \"Model Name\": \"Venu\", \"Color\": \"Blue\", \"Selling Price\": 31990, \"Original Price\": 39990, \"Display\": \"AMOLED Display\", \"Rating (Out of 5)\": 4.0, \"Strap Material\": \"Silicone\", \"Average Battery Life (in days)\": 7, \"Reviews\": null}, {\"Brand Name\": \"GARMIN \", \"Device Type\": \"Smartwatch\", \"Model Name\": \"Forerunner 45\", \"Color\": \"Red, Black\", \"Selling Price\": 14990, \"Original Price\": 20990, \"Display\": \"OLED Display\", \"Rating (Out of 5)\": 4.4, \"Strap Material\": \"Silicone\", \"Average Battery Life (in days)\": 7, \"Reviews\": null}, {\"Brand Name\": \"GARMIN \", \"Device Type\": \"Smartwatch\", \"Model Name\": \"Venu 2\", \"Color\": \"Black, Blue\", \"Selling Price\": 41990, \"Original Price\": 41990, \"Display\": \"AMOLED Display\", \"Rating (Out of 5)\": 4.7, \"Strap Material\": \"Leather\", \"Average Battery Life (in days)\": 14, \"Reviews\": null}, {\"Brand Name\": \"GARMIN \", \"Device Type\": \"Smartwatch\", \"Model Name\": \"Vivosmart 4\", \"Color\": \"Purple, Black\", \"Selling Price\": 12150, \"Original Price\": 13490, \"Display\": \"OLED Display\", \"Rating (Out of 5)\": 3.9, \"Strap Material\": \"Silicone\", \"Average Battery Life (in days)\": 5, \"Reviews\": null}, {\"Brand Name\": \"GARMIN \", \"Device Type\": \"Smartwatch\", \"Model Name\": \"Garmin Instinct HR\", \"Color\": \"Graphite, Sunburst\", \"Selling Price\": 34990, \"Original Price\": 41490, \"Display\": \"AMOLED Display\", \"Rating (Out of 5)\": 4.1, \"Strap Material\": \"Silicone\", \"Average Battery Life (in days)\": 14, \"Reviews\": null}, {\"Brand Name\": \"GARMIN \", \"Device Type\": \"Smartwatch\", \"Model Name\": \"Approach S62\", \"Color\": \"White, Black\", \"Selling Price\": 46990, \"Original Price\": 51990, \"Display\": \"OLED Display\", \"Rating (Out of 5)\": 4.1, \"Strap Material\": \"Silicone\", \"Average Battery Life (in days)\": 12, \"Reviews\": null}, {\"Brand Name\": \"GARMIN \", \"Device Type\": \"Smartwatch\", \"Model Name\": \"Venu 2S\", \"Color\": \"Grey, White\", \"Selling Price\": 37990, \"Original Price\": 37990, \"Display\": \"AMOLED Display\", \"Rating (Out of 5)\": 4.2, \"Strap Material\": \"Silicone\", \"Average Battery Life (in days)\": 14, \"Reviews\": null}, {\"Brand Name\": \"GARMIN \", \"Device Type\": \"Smartwatch\", \"Model Name\": \"Forerunner 245 Music\", \"Color\": \"Black, Red \", \"Selling Price\": 30000, \"Original Price\": 36490, \"Display\": \"LED Display\", \"Rating (Out of 5)\": 4.2, \"Strap Material\": \"Silicone\", \"Average Battery Life (in days)\": 7, \"Reviews\": null}, {\"Brand Name\": \"GARMIN \", \"Device Type\": \"Smartwatch\", \"Model Name\": \"Garmin Instinct HR\", \"Color\": \"Flame Red\", \"Selling Price\": 20990, \"Original Price\": 28490, \"Display\": \"AMOLED Display\", \"Rating (Out of 5)\": 3.7, \"Strap Material\": \"Silicone\", \"Average Battery Life (in days)\": 7, \"Reviews\": null}, {\"Brand Name\": \"GARMIN \", \"Device Type\": \"Smartwatch\", \"Model Name\": \"Instinct\", \"Color\": \"Blue\", \"Selling Price\": 19990, \"Original Price\": 28490, \"Display\": \"LED Display\", \"Rating (Out of 5)\": 4.4, \"Strap Material\": \"Silicone\", \"Average Battery Life (in days)\": 7, \"Reviews\": null}, {\"Brand Name\": \"GARMIN \", \"Device Type\": \"Smartwatch\", \"Model Name\": \"Forerunner 245\", \"Color\": \"Grey, Yellow\", \"Selling Price\": 24990, \"Original Price\": 31490, \"Display\": \"LCD Display\", \"Rating (Out of 5)\": 4.6, \"Strap Material\": \"Silicone\", \"Average Battery Life (in days)\": 7, \"Reviews\": null}, {\"Brand Name\": \"GARMIN \", \"Device Type\": \"Smartwatch\", \"Model Name\": \"Vivomove Style\", \"Color\": \"White, Pink\", \"Selling Price\": 26990, \"Original Price\": 31490, \"Display\": \"AMOLED Display\", \"Rating (Out of 5)\": 3.3, \"Strap Material\": \"Nylon\", \"Average Battery Life (in days)\": 14, \"Reviews\": null}, {\"Brand Name\": \"GARMIN \", \"Device Type\": \"Smartwatch\", \"Model Name\": \"Fenix 6 Pro Solar\", \"Color\": \"Grey, Black\", \"Selling Price\": 72990, \"Original Price\": 88490, \"Display\": \"AMOLED Display\", \"Rating (Out of 5)\": null, \"Strap Material\": \"Nylon\", \"Average Battery Life (in days)\": 45, \"Reviews\": null}, {\"Brand Name\": \"GARMIN \", \"Device Type\": \"Smartwatch\", \"Model Name\": \"Fenix 6X\", \"Color\": \"Black, Orange, Red\", \"Selling Price\": 79990, \"Original Price\": 88490, \"Display\": \"AMOLED Display\", \"Rating (Out of 5)\": null, \"Strap Material\": \"Nylon\", \"Average Battery Life (in days)\": 45, \"Reviews\": null}, {\"Brand Name\": \"GARMIN \", \"Device Type\": \"Smartwatch\", \"Model Name\": \"FORERUNNER 745 Magma Red\", \"Color\": \"Magma Red\", \"Selling Price\": 46990, \"Original Price\": 51990, \"Display\": \"AMOLED Display\", \"Rating (Out of 5)\": null, \"Strap Material\": \"Silicone\", \"Average Battery Life (in days)\": 14, \"Reviews\": null}, {\"Brand Name\": \"GARMIN \", \"Device Type\": \"Smartwatch\", \"Model Name\": \"Fenix 6\", \"Color\": \"Black, Red, Orange\", \"Selling Price\": 76990, \"Original Price\": 86690, \"Display\": \"LED Display\", \"Rating (Out of 5)\": null, \"Strap Material\": \"Nylon\", \"Average Battery Life (in days)\": 30, \"Reviews\": null}, {\"Brand Name\": \"GARMIN \", \"Device Type\": \"Smartwatch\", \"Model Name\": \"Lily\", \"Color\": \"Purple, Grey, Brown, Black, White \", \"Selling Price\": 18990, \"Original Price\": 20990, \"Display\": \"AMOLED Display\", \"Rating (Out of 5)\": 3.3, \"Strap Material\": \"Silicone\", \"Average Battery Life (in days)\": 7, \"Reviews\": null}, {\"Brand Name\": \"GARMIN \", \"Device Type\": \"Smartwatch\", \"Model Name\": \"Approach S12\", \"Color\": \"Black, White\", \"Selling Price\": 18990, \"Original Price\": 20990, \"Display\": \"OLED Display\", \"Rating (Out of 5)\": 4.0, \"Strap Material\": \"Silicone\", \"Average Battery Life (in days)\": 12, \"Reviews\": null}, {\"Brand Name\": \"GARMIN \", \"Device Type\": \"Smartwatch\", \"Model Name\": \"Instinct\", \"Color\": \"Graphite\", \"Selling Price\": 19990, \"Original Price\": 28490, \"Display\": \"AMOLED Display\", \"Rating (Out of 5)\": 5.0, \"Strap Material\": \"Silicone\", \"Average Battery Life (in days)\": 7, \"Reviews\": null}, {\"Brand Name\": \"GARMIN \", \"Device Type\": \"Smartwatch\", \"Model Name\": \"Vivomove 3\", \"Color\": \"Black\", \"Selling Price\": 19990, \"Original Price\": 25990, \"Display\": \"OLED Display\", \"Rating (Out of 5)\": null, \"Strap Material\": \"Silicone\", \"Average Battery Life (in days)\": 7, \"Reviews\": null}, {\"Brand Name\": \"GARMIN \", \"Device Type\": \"Smartwatch\", \"Model Name\": \"Fenix 6X Solar\", \"Color\": \"Black, Grey\", \"Selling Price\": 105990, \"Original Price\": 119490, \"Display\": \"AMOLED Display\", \"Rating (Out of 5)\": null, \"Strap Material\": \"Leather\", \"Average Battery Life (in days)\": 45, \"Reviews\": null}, {\"Brand Name\": \"GARMIN \", \"Device Type\": \"Smartwatch\", \"Model Name\": \"Fenix 6\", \"Color\": \"Grey, Blue\", \"Selling Price\": 77990, \"Original Price\": 86690, \"Display\": \"OLED Display\", \"Rating (Out of 5)\": null, \"Strap Material\": \"Nylon\", \"Average Battery Life (in days)\": 45, \"Reviews\": null}, {\"Brand Name\": \"GARMIN \", \"Device Type\": \"Smartwatch\", \"Model Name\": \"Fenix 5X\", \"Color\": \"Black\", \"Selling Price\": 58490, \"Original Price\": 58490, \"Display\": \"OLED Display\", \"Rating (Out of 5)\": null, \"Strap Material\": \"Silicone\", \"Average Battery Life (in days)\": 30, \"Reviews\": null}, {\"Brand Name\": \"GARMIN \", \"Device Type\": \"Smartwatch\", \"Model Name\": \"Vivomove Luxe\", \"Color\": \"Black, Silver, White\", \"Selling Price\": 39990, \"Original Price\": 52990, \"Display\": \"AMOLED Display\", \"Rating (Out of 5)\": null, \"Strap Material\": \"Silicone\", \"Average Battery Life (in days)\": 14, \"Reviews\": null}, {\"Brand Name\": \"GARMIN \", \"Device Type\": \"Smartwatch\", \"Model Name\": \"Fenix 6\", \"Color\": \"Black, Grey\", \"Selling Price\": 74990, \"Original Price\": 82990, \"Display\": \"OLED Display\", \"Rating (Out of 5)\": null, \"Strap Material\": \"Leather\", \"Average Battery Life (in days)\": 30, \"Reviews\": null}, {\"Brand Name\": \"GARMIN \", \"Device Type\": \"Smartwatch\", \"Model Name\": \"Vivomove\", \"Color\": \"Black\", \"Selling Price\": 31990, \"Original Price\": 36790, \"Display\": \"AMOLED Display\", \"Rating (Out of 5)\": 3.3, \"Strap Material\": \"Silicone\", \"Average Battery Life (in days)\": 7, \"Reviews\": null}, {\"Brand Name\": \"GARMIN \", \"Device Type\": \"Smartwatch\", \"Model Name\": \"Fenix 6S\", \"Color\": \"Black, Grey\", \"Selling Price\": 70990, \"Original Price\": 84090, \"Display\": \"LED Display\", \"Rating (Out of 5)\": null, \"Strap Material\": \"Stainless Steel\", \"Average Battery Life (in days)\": 30, \"Reviews\": null}, {\"Brand Name\": \"GARMIN \", \"Device Type\": \"Smartwatch\", \"Model Name\": \"Forerunner 945\", \"Color\": \"Black, Blue\", \"Selling Price\": 56490, \"Original Price\": 62490, \"Display\": \"OLED Display\", \"Rating (Out of 5)\": 4.2, \"Strap Material\": \"Silicone\", \"Average Battery Life (in days)\": 14, \"Reviews\": null}, {\"Brand Name\": \"GARMIN \", \"Device Type\": \"Smartwatch\", \"Model Name\": \"Forerunner 55\", \"Color\": \"Black\", \"Selling Price\": 20990, \"Original Price\": 20990, \"Display\": \"AMOLED Display\", \"Rating (Out of 5)\": null, \"Strap Material\": \"Silicone\", \"Average Battery Life (in days)\": 7, \"Reviews\": null}, {\"Brand Name\": \"GARMIN \", \"Device Type\": \"Smartwatch\", \"Model Name\": \"VIVOMOVE LUXE\", \"Color\": \"Navy \", \"Selling Price\": 35990, \"Original Price\": 47490, \"Display\": \"AMOLED Display\", \"Rating (Out of 5)\": null, \"Strap Material\": \"Silicone\", \"Average Battery Life (in days)\": 14, \"Reviews\": null}, {\"Brand Name\": \"GARMIN \", \"Device Type\": \"Smartwatch\", \"Model Name\": \"Lily\", \"Color\": \"Black\", \"Selling Price\": 23490, \"Original Price\": 25990, \"Display\": \"AMOLED Display\", \"Rating (Out of 5)\": 3.3, \"Strap Material\": \"Silicone\", \"Average Battery Life (in days)\": 7, \"Reviews\": null}, {\"Brand Name\": \"GARMIN \", \"Device Type\": \"Smartwatch\", \"Model Name\": \"Fenix 5X Plus\", \"Color\": \"White, Black\", \"Selling Price\": 59990, \"Original Price\": 79990, \"Display\": \"AMOLED Display\", \"Rating (Out of 5)\": null, \"Strap Material\": \"Silicone\", \"Average Battery Life (in days)\": 30, \"Reviews\": null}, {\"Brand Name\": \"GARMIN \", \"Device Type\": \"Smartwatch\", \"Model Name\": \"Swim 2\", \"Color\": \"Slate\", \"Selling Price\": 20990, \"Original Price\": 26990, \"Display\": \"AMOLED Display\", \"Rating (Out of 5)\": null, \"Strap Material\": \"Silicone\", \"Average Battery Life (in days)\": 7, \"Reviews\": null}, {\"Brand Name\": \"GARMIN \", \"Device Type\": \"Smartwatch\", \"Model Name\": \"Vivoactive 3 Element\", \"Color\": \"Grey\", \"Selling Price\": 14990, \"Original Price\": 16990, \"Display\": \"AMOLED Display\", \"Rating (Out of 5)\": 3.0, \"Strap Material\": \"Silicone\", \"Average Battery Life (in days)\": 7, \"Reviews\": null}, {\"Brand Name\": \"GARMIN \", \"Device Type\": \"Smartwatch\", \"Model Name\": \"Vivomove 3S\", \"Color\": \"Black\", \"Selling Price\": 19990, \"Original Price\": 25990, \"Display\": \"AMOLED Display\", \"Rating (Out of 5)\": null, \"Strap Material\": \"Silicone\", \"Average Battery Life (in days)\": 14, \"Reviews\": null}, {\"Brand Name\": \"GARMIN \", \"Device Type\": \"Smartwatch\", \"Model Name\": \"Forerunner 55\", \"Color\": \"White\", \"Selling Price\": 20990, \"Original Price\": 20990, \"Display\": \"OLED Display\", \"Rating (Out of 5)\": null, \"Strap Material\": \"Silicone\", \"Average Battery Life (in days)\": 14, \"Reviews\": null}, {\"Brand Name\": \"GARMIN \", \"Device Type\": \"Smartwatch\", \"Model Name\": \"Vivoactive 3 Music\", \"Color\": \"Black\", \"Selling Price\": 23990, \"Original Price\": 29290, \"Display\": \"OLED Display\", \"Rating (Out of 5)\": 3.6, \"Strap Material\": \"Silicone\", \"Average Battery Life (in days)\": 14, \"Reviews\": null}, {\"Brand Name\": \"GARMIN \", \"Device Type\": \"Smartwatch\", \"Model Name\": \"Vivomove HR\", \"Color\": \"Black\", \"Selling Price\": 16990, \"Original Price\": 17990, \"Display\": \"OLED Display\", \"Rating (Out of 5)\": 3.6, \"Strap Material\": \"Silicone\", \"Average Battery Life (in days)\": 14, \"Reviews\": null}, {\"Brand Name\": \"GARMIN \", \"Device Type\": \"Smartwatch\", \"Model Name\": \"Fenix 6X\", \"Color\": \"Bluw, White \", \"Selling Price\": 86990, \"Original Price\": 96390, \"Display\": \"OLED Display\", \"Rating (Out of 5)\": null, \"Strap Material\": \"Leather\", \"Average Battery Life (in days)\": 45, \"Reviews\": null}, {\"Brand Name\": \"GARMIN \", \"Device Type\": \"Smartwatch\", \"Model Name\": \"HRM-Swim\", \"Color\": \"Black\", \"Selling Price\": 8990, \"Original Price\": 8990, \"Display\": \"AMOLED Display\", \"Rating (Out of 5)\": null, \"Strap Material\": \"Silicone\", \"Average Battery Life (in days)\": 14, \"Reviews\": null}, {\"Brand Name\": \"GARMIN \", \"Device Type\": \"Smartwatch\", \"Model Name\": \"Garmin Instinct Solar Tactical\", \"Color\": \"Grey \", \"Selling Price\": 46990, \"Original Price\": 51990, \"Display\": \"AMOLED Display\", \"Rating (Out of 5)\": null, \"Strap Material\": \"Silicone\", \"Average Battery Life (in days)\": 14, \"Reviews\": null}, {\"Brand Name\": \"GARMIN \", \"Device Type\": \"Smartwatch\", \"Model Name\": \"Fenix 5S Frost Blue\", \"Color\": \"Blue Sapphire\", \"Selling Price\": 39990, \"Original Price\": 53190, \"Display\": \"AMOLED Display\", \"Rating (Out of 5)\": null, \"Strap Material\": \"Silicone\", \"Average Battery Life (in days)\": 30, \"Reviews\": null}, {\"Brand Name\": \"GARMIN \", \"Device Type\": \"Smartwatch\", \"Model Name\": \"Forerunner 935\", \"Color\": \"Tidal Blue\", \"Selling Price\": 39990, \"Original Price\": 48790, \"Display\": \"AMOLED Display\", \"Rating (Out of 5)\": 4.7, \"Strap Material\": \"Silicone\", \"Average Battery Life (in days)\": 14, \"Reviews\": null}, {\"Brand Name\": \"GARMIN \", \"Device Type\": \"Smartwatch\", \"Model Name\": \"Hybrid 3\", \"Color\": \"Black\", \"Selling Price\": 19990, \"Original Price\": 25990, \"Display\": \"LED Display\", \"Rating (Out of 5)\": null, \"Strap Material\": \"Silicone\", \"Average Battery Life (in days)\": 14, \"Reviews\": null}, {\"Brand Name\": \"GARMIN \", \"Device Type\": \"Smartwatch\", \"Model Name\": \"Forerunner 245 Music Japan Edition\", \"Color\": \"Red, White \", \"Selling Price\": 29990, \"Original Price\": 36490, \"Display\": \"LED Display\", \"Rating (Out of 5)\": null, \"Strap Material\": \"Silicone\", \"Average Battery Life (in days)\": 14, \"Reviews\": null}, {\"Brand Name\": \"GARMIN \", \"Device Type\": \"Smartwatch\", \"Model Name\": \"Fenix 5\", \"Color\": \"Black\", \"Selling Price\": 47990, \"Original Price\": 52990, \"Display\": \"AMOLED Display\", \"Rating (Out of 5)\": null, \"Strap Material\": \"Silicone\", \"Average Battery Life (in days)\": 30, \"Reviews\": null}, {\"Brand Name\": \"GARMIN \", \"Device Type\": \"Smartwatch\", \"Model Name\": \"Instinct Solar Tidal\", \"Color\": \"Tidal Blue, Flame Red\", \"Selling Price\": 34990, \"Original Price\": 41490, \"Display\": \"AMOLED Display\", \"Rating (Out of 5)\": null, \"Strap Material\": \"Silicone\", \"Average Battery Life (in days)\": 14, \"Reviews\": null}, {\"Brand Name\": \"GARMIN \", \"Device Type\": \"Smartwatch\", \"Model Name\": \"Fenix 5S Plus\", \"Color\": \"Blue Sapphire\", \"Selling Price\": 49990, \"Original Price\": 53190, \"Display\": \"AMOLED Display\", \"Rating (Out of 5)\": null, \"Strap Material\": \"Silicone\", \"Average Battery Life (in days)\": 30, \"Reviews\": null}, {\"Brand Name\": \"GARMIN \", \"Device Type\": \"Smartwatch\", \"Model Name\": \"Fenix 6 Sapphire Titanium\", \"Color\": \"Blue Sapphire\", \"Selling Price\": 81990, \"Original Price\": 96690, \"Display\": \"AMOLED Display\", \"Rating (Out of 5)\": null, \"Strap Material\": \"Leather \", \"Average Battery Life (in days)\": 45, \"Reviews\": null}, {\"Brand Name\": \"GARMIN \", \"Device Type\": \"Smartwatch\", \"Model Name\": \"Fenix 6 Sapphire Gray DLC\", \"Color\": \"Black\", \"Selling Price\": 74990, \"Original Price\": 82990, \"Display\": \"AMOLED Display\", \"Rating (Out of 5)\": null, \"Strap Material\": \"Leather\", \"Average Battery Life (in days)\": 30, \"Reviews\": null}, {\"Brand Name\": \"GARMIN \", \"Device Type\": \"Smartwatch\", \"Model Name\": \"Vivoactive 3 Music\", \"Color\": \"Blue\", \"Selling Price\": 26990, \"Original Price\": 26990, \"Display\": \"OLED Display\", \"Rating (Out of 5)\": 3.6, \"Strap Material\": \"Silicone\", \"Average Battery Life (in days)\": 14, \"Reviews\": null}, {\"Brand Name\": \"GARMIN \", \"Device Type\": \"Smartwatch\", \"Model Name\": \"Forerunner 935\", \"Color\": \"Flame Red\", \"Selling Price\": 33742, \"Original Price\": 48990, \"Display\": \"OLED Display\", \"Rating (Out of 5)\": 4.7, \"Strap Material\": \"Silicone\", \"Average Battery Life (in days)\": 14, \"Reviews\": null}, {\"Brand Name\": \"GARMIN \", \"Device Type\": \"Smartwatch\", \"Model Name\": \"Forerunner 745 Whitestone\", \"Color\": \"White\", \"Selling Price\": 46990, \"Original Price\": 51990, \"Display\": \"OLED Display\", \"Rating (Out of 5)\": null, \"Strap Material\": \"Silicone\", \"Average Battery Life (in days)\": 14, \"Reviews\": null}, {\"Brand Name\": \"GARMIN \", \"Device Type\": \"Smartwatch\", \"Model Name\": \"VIVOACTIVE 4S\", \"Color\": \"Powder Gray\", \"Selling Price\": 34990, \"Original Price\": 34990, \"Display\": \"OLED Display\", \"Rating (Out of 5)\": null, \"Strap Material\": \"Silicone\", \"Average Battery Life (in days)\": 14, \"Reviews\": null}, {\"Brand Name\": \"GARMIN \", \"Device Type\": \"Smartwatch\", \"Model Name\": \"Forerunner 935\", \"Color\": \"Black, Green, Yellow\", \"Selling Price\": 42990, \"Original Price\": 42990, \"Display\": \"OLED Display\", \"Rating (Out of 5)\": 4.7, \"Strap Material\": \"Silicone\", \"Average Battery Life (in days)\": 14, \"Reviews\": null}, {\"Brand Name\": \"GARMIN \", \"Device Type\": \"Smartwatch\", \"Model Name\": \"Forerunner 235\", \"Color\": \"Black\", \"Selling Price\": 18990, \"Original Price\": 22990, \"Display\": \"LED Display\", \"Rating (Out of 5)\": 4.7, \"Strap Material\": \"Silicone\", \"Average Battery Life (in days)\": 14, \"Reviews\": null}, {\"Brand Name\": \"GARMIN \", \"Device Type\": \"Smartwatch\", \"Model Name\": \"Fenix 6S\", \"Color\": \"Black, White\", \"Selling Price\": 77990, \"Original Price\": 86690, \"Display\": \"AMOLED Display\", \"Rating (Out of 5)\": null, \"Strap Material\": \"Nylon\", \"Average Battery Life (in days)\": 45, \"Reviews\": null}, {\"Brand Name\": \"GARMIN \", \"Device Type\": \"Smartwatch\", \"Model Name\": \"Forerunner 235\", \"Color\": \"Blue\", \"Selling Price\": 24990, \"Original Price\": 31197, \"Display\": \"LED Display\", \"Rating (Out of 5)\": 4.7, \"Strap Material\": \"Silicone\", \"Average Battery Life (in days)\": 14, \"Reviews\": null}, {\"Brand Name\": \"GARMIN \", \"Device Type\": \"Smartwatch\", \"Model Name\": \"Venu\", \"Color\": \"Black\", \"Selling Price\": 32990, \"Original Price\": 39990, \"Display\": \"LED Display\", \"Rating (Out of 5)\": 4.0, \"Strap Material\": \"Silicone\", \"Average Battery Life (in days)\": 14, \"Reviews\": null}, {\"Brand Name\": \"GARMIN \", \"Device Type\": \"Smartwatch\", \"Model Name\": \"Vivoactive 4\", \"Color\": \"Black\", \"Selling Price\": 28990, \"Original Price\": 34990, \"Display\": \"AMOLED Display\", \"Rating (Out of 5)\": 4.3, \"Strap Material\": \"Silicone\", \"Average Battery Life (in days)\": 14, \"Reviews\": null}, {\"Brand Name\": \"GARMIN \", \"Device Type\": \"Smartwatch\", \"Model Name\": \"Forerunner 245 Music\", \"Color\": \"Grey, White\", \"Selling Price\": 33490, \"Original Price\": 34990, \"Display\": \"AMOLED Display\", \"Rating (Out of 5)\": 4.2, \"Strap Material\": \"Silicone\", \"Average Battery Life (in days)\": 14, \"Reviews\": null}, {\"Brand Name\": \"GARMIN \", \"Device Type\": \"Smartwatch\", \"Model Name\": \"Fenix 6 Pro Solar\", \"Color\": \"Yellow\", \"Selling Price\": 84490, \"Original Price\": 88490, \"Display\": \"AMOLED Display\", \"Rating (Out of 5)\": null, \"Strap Material\": \"Nylon\", \"Average Battery Life (in days)\": 45, \"Reviews\": null}, {\"Brand Name\": \"GARMIN \", \"Device Type\": \"Smartwatch\", \"Model Name\": \"Garmin Instinct Solar Tactical\", \"Color\": \"White\", \"Selling Price\": 42990, \"Original Price\": 47490, \"Display\": \"AMOLED Display\", \"Rating (Out of 5)\": null, \"Strap Material\": \"Silicone\", \"Average Battery Life (in days)\": 14, \"Reviews\": null}, {\"Brand Name\": \"GARMIN \", \"Device Type\": \"Smartwatch\", \"Model Name\": \"Forerunner 745 Black\", \"Color\": \"Black\", \"Selling Price\": 46990, \"Original Price\": 51990, \"Display\": \"AMOLED Display\", \"Rating (Out of 5)\": 5.0, \"Strap Material\": \"Silicone\", \"Average Battery Life (in days)\": 14, \"Reviews\": null}, {\"Brand Name\": \"GARMIN \", \"Device Type\": \"Smartwatch\", \"Model Name\": \"Vivoactive HR\", \"Color\": \"Black\", \"Selling Price\": 21990, \"Original Price\": 21990, \"Display\": \"AMOLED Display\", \"Rating (Out of 5)\": 3.5, \"Strap Material\": \"Silicone\", \"Average Battery Life (in days)\": 14, \"Reviews\": null}, {\"Brand Name\": \"GARMIN \", \"Device Type\": \"Smartwatch\", \"Model Name\": \"Fenix 5s\", \"Color\": \"Blue Sapphire\", \"Selling Price\": 54990, \"Original Price\": 54990, \"Display\": \"AMOLED Display\", \"Rating (Out of 5)\": null, \"Strap Material\": \"Silicone\", \"Average Battery Life (in days)\": 30, \"Reviews\": null}, {\"Brand Name\": \"GARMIN \", \"Device Type\": \"Smartwatch\", \"Model Name\": \"vivoactive 4S 40mm\", \"Color\": \"Rose Gold, Slate Black\", \"Selling Price\": 28990, \"Original Price\": 34990, \"Display\": \"AMOLED Display\", \"Rating (Out of 5)\": 5.0, \"Strap Material\": \"Silicone\", \"Average Battery Life (in days)\": 14, \"Reviews\": null}, {\"Brand Name\": \"GARMIN \", \"Device Type\": \"Smartwatch\", \"Model Name\": \"Instinct\", \"Color\": \"Blue, Orange\", \"Selling Price\": 25249, \"Original Price\": 26990, \"Display\": \"OLED Display\", \"Rating (Out of 5)\": 4.4, \"Strap Material\": \"Silicone\", \"Average Battery Life (in days)\": 14, \"Reviews\": null}, {\"Brand Name\": \"GARMIN \", \"Device Type\": \"Smartwatch\", \"Model Name\": \"Instinct Solar Camo Edition\", \"Color\": \"Black, Grey\", \"Selling Price\": 47490, \"Original Price\": 47490, \"Display\": \"AMOLED Display\", \"Rating (Out of 5)\": 4.7, \"Strap Material\": \"Silicone\", \"Average Battery Life (in days)\": 14, \"Reviews\": null}, {\"Brand Name\": \"GARMIN \", \"Device Type\": \"Smartwatch\", \"Model Name\": \"Vivomove 3S\", \"Color\": \"Black\", \"Selling Price\": 19990, \"Original Price\": 25990, \"Display\": \"AMOLED Display\", \"Rating (Out of 5)\": null, \"Strap Material\": \"Silicone\", \"Average Battery Life (in days)\": 14, \"Reviews\": null}, {\"Brand Name\": \"GARMIN \", \"Device Type\": \"Smartwatch\", \"Model Name\": \"Lily\", \"Color\": \"Purple, White\", \"Selling Price\": 18990, \"Original Price\": 20990, \"Display\": \"LED Display\", \"Rating (Out of 5)\": 3.3, \"Strap Material\": \"Silicone\", \"Average Battery Life (in days)\": 14, \"Reviews\": null}, {\"Brand Name\": \"GARMIN \", \"Device Type\": \"Smartwatch\", \"Model Name\": \"Vivoactive 3 Element Cerise\", \"Color\": \"Cerise\", \"Selling Price\": 14990, \"Original Price\": 16990, \"Display\": \"LED Display\", \"Rating (Out of 5)\": null, \"Strap Material\": \"Silicone\", \"Average Battery Life (in days)\": 14, \"Reviews\": null}, {\"Brand Name\": \"GARMIN \", \"Device Type\": \"Smartwatch\", \"Model Name\": \"Forerunner 235\", \"Color\": \"Black\", \"Selling Price\": 21999, \"Original Price\": 27790, \"Display\": \"LED Display\", \"Rating (Out of 5)\": 4.7, \"Strap Material\": \"Silicone\", \"Average Battery Life (in days)\": 14, \"Reviews\": null}, {\"Brand Name\": \"GARMIN \", \"Device Type\": \"Smartwatch\", \"Model Name\": \"VIVOMOVE 3S Navy\", \"Color\": \"Rose Gold\", \"Selling Price\": 19990, \"Original Price\": 25990, \"Display\": \"LED Display\", \"Rating (Out of 5)\": null, \"Strap Material\": \"Silicone\", \"Average Battery Life (in days)\": 14, \"Reviews\": null}, {\"Brand Name\": \"GARMIN \", \"Device Type\": \"Smartwatch\", \"Model Name\": \"Fenix 5s\", \"Color\": \"Black, White \", \"Selling Price\": 34990, \"Original Price\": 49990, \"Display\": \"AMOLED Display\", \"Rating (Out of 5)\": null, \"Strap Material\": \"Silicone\", \"Average Battery Life (in days)\": 30, \"Reviews\": null}, {\"Brand Name\": \"GARMIN \", \"Device Type\": \"Smartwatch\", \"Model Name\": \"Vivoactive 4\", \"Color\": \"Purple\", \"Selling Price\": 28990, \"Original Price\": 34990, \"Display\": \"LED Display\", \"Rating (Out of 5)\": 4.3, \"Strap Material\": \"Silicone\", \"Average Battery Life (in days)\": 14, \"Reviews\": null}, {\"Brand Name\": \"GARMIN \", \"Device Type\": \"Smartwatch\", \"Model Name\": \"Vivoactive 3 Music\", \"Color\": \"White\", \"Selling Price\": 19144, \"Original Price\": 26990, \"Display\": \"LED Display\", \"Rating (Out of 5)\": 3.6, \"Strap Material\": \"Silicone\", \"Average Battery Life (in days)\": 14, \"Reviews\": null}, {\"Brand Name\": \"GARMIN \", \"Device Type\": \"Smartwatch\", \"Model Name\": \"Forerunner15 Heart\", \"Color\": \"Black\", \"Selling Price\": 12999, \"Original Price\": 14499, \"Display\": \"AMOLED Display\", \"Rating (Out of 5)\": 4.7, \"Strap Material\": \"Silicone\", \"Average Battery Life (in days)\": 14, \"Reviews\": null}, {\"Brand Name\": \"GARMIN \", \"Device Type\": \"Smartwatch\", \"Model Name\": \"Running GPS 935\", \"Color\": \"Black\", \"Selling Price\": 42990, \"Original Price\": 42990, \"Display\": \"AMOLED Display\", \"Rating (Out of 5)\": null, \"Strap Material\": \"Leather\", \"Average Battery Life (in days)\": 14, \"Reviews\": null}, {\"Brand Name\": \"GARMIN \", \"Device Type\": \"Smartwatch\", \"Model Name\": \"Forerunner\", \"Color\": \"Black\", \"Selling Price\": 44990, \"Original Price\": 44990, \"Display\": \"AMOLED Display\", \"Rating (Out of 5)\": null, \"Strap Material\": \"Leather\", \"Average Battery Life (in days)\": 14, \"Reviews\": null}, {\"Brand Name\": \"GARMIN \", \"Device Type\": \"Smartwatch\", \"Model Name\": \"Approach S20\", \"Color\": \"Black, White \", \"Selling Price\": 15990, \"Original Price\": 19990, \"Display\": \"OLED Display\", \"Rating (Out of 5)\": 4.1, \"Strap Material\": \"Silicone\", \"Average Battery Life (in days)\": 12, \"Reviews\": null}, {\"Brand Name\": \"GARMIN \", \"Device Type\": \"Smartwatch\", \"Model Name\": \"Forerunner 235 Activity Tracker\", \"Color\": \"Black\", \"Selling Price\": 22990, \"Original Price\": 22990, \"Display\": \"AMOLED Display\", \"Rating (Out of 5)\": null, \"Strap Material\": \"Silicone\", \"Average Battery Life (in days)\": 14, \"Reviews\": null}, {\"Brand Name\": \"GARMIN \", \"Device Type\": \"Smartwatch\", \"Model Name\": \"Vivoactive 3 element\", \"Color\": \"Black\", \"Selling Price\": 22990, \"Original Price\": 29990, \"Display\": \"AMOLED Display\", \"Rating (Out of 5)\": 3.6, \"Strap Material\": \"Silicone\", \"Average Battery Life (in days)\": 14, \"Reviews\": null}, {\"Brand Name\": \"GARMIN \", \"Device Type\": \"Smartwatch\", \"Model Name\": \"Fenix\", \"Color\": \"Black\", \"Selling Price\": 54990, \"Original Price\": 54990, \"Display\": \"AMOLED Display\", \"Rating (Out of 5)\": null, \"Strap Material\": \"Leather\", \"Average Battery Life (in days)\": 30, \"Reviews\": null}, {\"Brand Name\": \"GARMIN \", \"Device Type\": \"Smartwatch\", \"Model Name\": \"Forerunner 35\", \"Color\": \"Frost Blue\", \"Selling Price\": 16990, \"Original Price\": 16990, \"Display\": \"AMOLED Display\", \"Rating (Out of 5)\": null, \"Strap Material\": \"Silicone\", \"Average Battery Life (in days)\": 14, \"Reviews\": null}, {\"Brand Name\": \"GARMIN \", \"Device Type\": \"Smartwatch\", \"Model Name\": \"Forerunner\", \"Color\": \"Black\", \"Selling Price\": 16990, \"Original Price\": 16990, \"Display\": \"AMOLED Display\", \"Rating (Out of 5)\": null, \"Strap Material\": \"Silicone\", \"Average Battery Life (in days)\": 14, \"Reviews\": null}, {\"Brand Name\": \"GARMIN \", \"Device Type\": \"Smartwatch\", \"Model Name\": \"Forerunner\", \"Color\": \"Blue\", \"Selling Price\": 29990, \"Original Price\": 29990, \"Display\": \"AMOLED Display\", \"Rating (Out of 5)\": null, \"Strap Material\": \"Silicone\", \"Average Battery Life (in days)\": 14, \"Reviews\": null}, {\"Brand Name\": \"GARMIN \", \"Device Type\": \"Smartwatch\", \"Model Name\": \"Vivoactive 3 element\", \"Color\": \"Grey\", \"Selling Price\": 13578, \"Original Price\": 24990, \"Display\": \"LED Display\", \"Rating (Out of 5)\": 3.6, \"Strap Material\": \"Silicone\", \"Average Battery Life (in days)\": 14, \"Reviews\": null}, {\"Brand Name\": \"GARMIN \", \"Device Type\": \"Smartwatch\", \"Model Name\": \"Rubber 35\", \"Color\": \"Black\", \"Selling Price\": 16990, \"Original Price\": 16990, \"Display\": \"LED Display\", \"Rating (Out of 5)\": 2.0, \"Strap Material\": \"Silicone\", \"Average Battery Life (in days)\": 14, \"Reviews\": null}, {\"Brand Name\": \"GARMIN \", \"Device Type\": \"Smartwatch\", \"Model Name\": \"FORRUNNER 235\", \"Color\": \"Black\", \"Selling Price\": 22990, \"Original Price\": 22990, \"Display\": \"LED Display\", \"Rating (Out of 5)\": null, \"Strap Material\": \"Silicone\", \"Average Battery Life (in days)\": 14, \"Reviews\": null}, {\"Brand Name\": \"GARMIN \", \"Device Type\": \"Smartwatch\", \"Model Name\": \"Forerunner\", \"Color\": \"Black\", \"Selling Price\": 27990, \"Original Price\": 27990, \"Display\": \"LED Display\", \"Rating (Out of 5)\": null, \"Strap Material\": \"Silicone\", \"Average Battery Life (in days)\": 14, \"Reviews\": null}, {\"Brand Name\": \"GARMIN \", \"Device Type\": \"Smartwatch\", \"Model Name\": \"Forerunner Fitness Notifier\", \"Color\": \"Black\", \"Selling Price\": 15990, \"Original Price\": 16743, \"Display\": \"LED Display\", \"Rating (Out of 5)\": null, \"Strap Material\": \"Silicone\", \"Average Battery Life (in days)\": 14, \"Reviews\": null}, {\"Brand Name\": \"GARMIN \", \"Device Type\": \"Smartwatch\", \"Model Name\": \"Vivomove HR\", \"Color\": \"Black\", \"Selling Price\": 12990, \"Original Price\": 19990, \"Display\": \"LED Display\", \"Rating (Out of 5)\": 3.7, \"Strap Material\": \"Silicone\", \"Average Battery Life (in days)\": 14, \"Reviews\": null}, {\"Brand Name\": \"GARMIN \", \"Device Type\": \"Smartwatch\", \"Model Name\": \"Vivoactive 3 element\", \"Color\": \"Blue\", \"Selling Price\": 16990, \"Original Price\": 16990, \"Display\": \"AMOLED Display\", \"Rating (Out of 5)\": 3.6, \"Strap Material\": \"Silicone\", \"Average Battery Life (in days)\": 14, \"Reviews\": null}, {\"Brand Name\": \"GARMIN \", \"Device Type\": \"Smartwatch\", \"Model Name\": \"Vivoactive\", \"Color\": \"Black\", \"Selling Price\": 27990, \"Original Price\": 27990, \"Display\": \"AMOLED Display\", \"Rating (Out of 5)\": 4.8, \"Strap Material\": \"Silicone\", \"Average Battery Life (in days)\": 14, \"Reviews\": null}, {\"Brand Name\": \"GARMIN \", \"Device Type\": \"Smartwatch\", \"Model Name\": \"Forerunner 735XT\", \"Color\": \"Black\", \"Selling Price\": 39990, \"Original Price\": 39990, \"Display\": \"LED Display\", \"Rating (Out of 5)\": null, \"Strap Material\": \"Silicone\", \"Average Battery Life (in days)\": 14, \"Reviews\": null}, {\"Brand Name\": \"GARMIN \", \"Device Type\": \"Smartwatch\", \"Model Name\": \"HR GPS Smart\", \"Color\": \"Black\", \"Selling Price\": 15999, \"Original Price\": 20000, \"Display\": \"AMOLED Display\", \"Rating (Out of 5)\": null, \"Strap Material\": \"Silicone\", \"Average Battery Life (in days)\": 14, \"Reviews\": null}, {\"Brand Name\": \"GARMIN \", \"Device Type\": \"Smartwatch\", \"Model Name\": \"Hybrid\", \"Color\": \"Rose Gold\", \"Selling Price\": 15911, \"Original Price\": 21335, \"Display\": \"LED Display\", \"Rating (Out of 5)\": null, \"Strap Material\": \"Silicone\", \"Average Battery Life (in days)\": 7, \"Reviews\": null}, {\"Brand Name\": \"OnePlus \", \"Device Type\": \"Smartwatch\", \"Model Name\": \"Watch\", \"Color\": \"Black, Silver\", \"Selling Price\": 14999, \"Original Price\": 16999, \"Display\": \"AMOLED Display\", \"Rating (Out of 5)\": 4.4, \"Strap Material\": \"Elastomer\", \"Average Battery Life (in days)\": 14, \"Reviews\": null}, {\"Brand Name\": \"Huawei\", \"Device Type\": \"Smartwatch\", \"Model Name\": \"GT2 46mm\", \"Color\": \"Black, Brown\", \"Selling Price\": 14990, \"Original Price\": 20990, \"Display\": \"AMOLED Display\", \"Rating (Out of 5)\": 4.5, \"Strap Material\": \"Elastomer\", \"Average Battery Life (in days)\": 14, \"Reviews\": null}, {\"Brand Name\": \"Huawei\", \"Device Type\": \"Smartwatch\", \"Model Name\": \"GT2 Pro\", \"Color\": \"Black\", \"Selling Price\": 22990, \"Original Price\": 29990, \"Display\": \"AMOLED Display\", \"Rating (Out of 5)\": 4.4, \"Strap Material\": \"Elastomer\", \"Average Battery Life (in days)\": 14, \"Reviews\": null}, {\"Brand Name\": \"Huawei\", \"Device Type\": \"Smartwatch\", \"Model Name\": \"GT2 Pro\", \"Color\": \"Grey\", \"Selling Price\": 24990, \"Original Price\": 34990, \"Display\": \"AMOLED Display\", \"Rating (Out of 5)\": 3.5, \"Strap Material\": \"Elastomer\", \"Average Battery Life (in days)\": 14, \"Reviews\": null}, {\"Brand Name\": \"Huawei\", \"Device Type\": \"Smartwatch\", \"Model Name\": \"GT2 eSport\", \"Color\": \"Black\", \"Selling Price\": 11990, \"Original Price\": 19990, \"Display\": \"AMOLED Display\", \"Rating (Out of 5)\": 4.3, \"Strap Material\": \"Elastomer\", \"Average Battery Life (in days)\": 14, \"Reviews\": null}, {\"Brand Name\": \"Huawei\", \"Device Type\": \"Smartwatch\", \"Model Name\": \"GT2 eSport\", \"Color\": \"Red\", \"Selling Price\": 8990, \"Original Price\": 19990, \"Display\": \"AMOLED Display\", \"Rating (Out of 5)\": 4.3, \"Strap Material\": \"Elastomer\", \"Average Battery Life (in days)\": 14, \"Reviews\": null}, {\"Brand Name\": \"Huawei\", \"Device Type\": \"Smartwatch\", \"Model Name\": \"GT2 eActive\", \"Color\": \"Green, Red\", \"Selling Price\": 11990, \"Original Price\": 19990, \"Display\": \"AMOLED Display\", \"Rating (Out of 5)\": 4.3, \"Strap Material\": \"Thermoplastic polyurethane\", \"Average Battery Life (in days)\": 14, \"Reviews\": null}, {\"Brand Name\": \"Huawei\", \"Device Type\": \"Smartwatch\", \"Model Name\": \"GT2 42mm\", \"Color\": \"Black\", \"Selling Price\": 14990, \"Original Price\": 19990, \"Display\": \"AMOLED Display\", \"Rating (Out of 5)\": 4.3, \"Strap Material\": \"Elastomer\", \"Average Battery Life (in days)\": 14, \"Reviews\": null}, {\"Brand Name\": \"Huawei\", \"Device Type\": \"Smartwatch\", \"Model Name\": \"Stainless Steel\", \"Color\": \"Black\", \"Selling Price\": 19990, \"Original Price\": 19990, \"Display\": \"AMOLED Display\", \"Rating (Out of 5)\": 4.5, \"Strap Material\": \"Leather\", \"Average Battery Life (in days)\": 14, \"Reviews\": null}, {\"Brand Name\": \"Huawei\", \"Device Type\": \"Smartwatch\", \"Model Name\": \"GT Active\", \"Color\": \"Green\", \"Selling Price\": 8990, \"Original Price\": 20990, \"Display\": \"AMOLED Display\", \"Rating (Out of 5)\": 4.4, \"Strap Material\": \"Silicone\", \"Average Battery Life (in days)\": 14, \"Reviews\": null}, {\"Brand Name\": \"Huawei\", \"Device Type\": \"Smartwatch\", \"Model Name\": \"GT Active\", \"Color\": \"Orange\", \"Selling Price\": 15990, \"Original Price\": 20990, \"Display\": \"AMOLED Display\", \"Rating (Out of 5)\": 4.4, \"Strap Material\": \"Silicone\", \"Average Battery Life (in days)\": 14, \"Reviews\": null}, {\"Brand Name\": \"Huawei\", \"Device Type\": \"Smartwatch\", \"Model Name\": \"GT Sport\", \"Color\": \"Black\", \"Selling Price\": 10990, \"Original Price\": 20990, \"Display\": \"AMOLED Display\", \"Rating (Out of 5)\": 4.4, \"Strap Material\": \"Silicone\", \"Average Battery Life (in days)\": 14, \"Reviews\": null}, {\"Brand Name\": \"Huawei\", \"Device Type\": \"Smartwatch\", \"Model Name\": \"GT Classic\", \"Color\": \"Brown\", \"Selling Price\": 10990, \"Original Price\": 21990, \"Display\": \"AMOLED Display\", \"Rating (Out of 5)\": 4.5, \"Strap Material\": \"Leather\", \"Average Battery Life (in days)\": 14, \"Reviews\": null}, {\"Brand Name\": \"Huawei\", \"Device Type\": \"Smartwatch\", \"Model Name\": \"GT2 46mm\", \"Color\": \"Grey\", \"Selling Price\": 20990, \"Original Price\": 30990, \"Display\": \"AMOLED Display\", \"Rating (Out of 5)\": 4.5, \"Strap Material\": \"Stainless Steel\", \"Average Battery Life (in days)\": 14, \"Reviews\": null}, {\"Brand Name\": \"Huawei\", \"Device Type\": \"Smartwatch\", \"Model Name\": \"Fit\", \"Color\": \"Blue\", \"Selling Price\": 9999, \"Original Price\": 9999, \"Display\": \"AMOLED Display\", \"Rating (Out of 5)\": 3.4, \"Strap Material\": \"Silicone\", \"Average Battery Life (in days)\": 7, \"Reviews\": null}, {\"Brand Name\": \"Huawei\", \"Device Type\": \"Smartwatch\", \"Model Name\": \"Fit\", \"Color\": \"Orange\", \"Selling Price\": 6999, \"Original Price\": 9999, \"Display\": \"AMOLED Display\", \"Rating (Out of 5)\": 3.4, \"Strap Material\": \"Silicone\", \"Average Battery Life (in days)\": 7, \"Reviews\": null}, {\"Brand Name\": \"Huawei\", \"Device Type\": \"Smartwatch\", \"Model Name\": \"Watch 2 Sport\", \"Color\": \"Black\", \"Selling Price\": 29999, \"Original Price\": 29999, \"Display\": \"AMOLED Display\", \"Rating (Out of 5)\": 3.8, \"Strap Material\": \"Silicone\", \"Average Battery Life (in days)\": 7, \"Reviews\": null}, {\"Brand Name\": \"Huawei\", \"Device Type\": \"Smartwatch\", \"Model Name\": \"Watch 32564546\", \"Color\": \"Black\", \"Selling Price\": 49999, \"Original Price\": 49999, \"Display\": \"AMOLED Display\", \"Rating (Out of 5)\": 4.1, \"Strap Material\": \"Silicone\", \"Average Battery Life (in days)\": 14, \"Reviews\": null}, {\"Brand Name\": \"Huawei\", \"Device Type\": \"Smartwatch\", \"Model Name\": \"Watch 2\", \"Color\": \"Black\", \"Selling Price\": 25999, \"Original Price\": 25999, \"Display\": \"AMOLED Display\", \"Rating (Out of 5)\": 3.9, \"Strap Material\": \"Leather\", \"Average Battery Life (in days)\": 7, \"Reviews\": null}, {\"Brand Name\": \"Huawei\", \"Device Type\": \"Smartwatch\", \"Model Name\": \"Watch 36456\", \"Color\": \"Black\", \"Selling Price\": 55000, \"Original Price\": 55000, \"Display\": \"AMOLED Display\", \"Rating (Out of 5)\": 4.1, \"Strap Material\": \"Silicone\", \"Average Battery Life (in days)\": 14, \"Reviews\": null}, {\"Brand Name\": \"Huawei\", \"Device Type\": \"Smartwatch\", \"Model Name\": \"GT Fortuna-B19S Sport\", \"Color\": \"Black\", \"Selling Price\": 13990, \"Original Price\": 20990, \"Display\": \"AMOLED Display\", \"Rating (Out of 5)\": 4.1, \"Strap Material\": \"Elastomer\", \"Average Battery Life (in days)\": 14, \"Reviews\": null}, {\"Brand Name\": \"GOQii\", \"Device Type\": \"FitnessBand\", \"Model Name\": \"HR\", \"Color\": \"Black\", \"Selling Price\": 1999, \"Original Price\": 1999, \"Display\": \"OLED Display\", \"Rating (Out of 5)\": 3.8, \"Strap Material\": \"Silicone\", \"Average Battery Life (in days)\": 7, \"Reviews\": null}, {\"Brand Name\": \"GOQii\", \"Device Type\": \"FitnessBand\", \"Model Name\": \"Vital\", \"Color\": \"Black\", \"Selling Price\": 3499, \"Original Price\": 3499, \"Display\": \"OLED Display\", \"Rating (Out of 5)\": 3.7, \"Strap Material\": \"Thermoplastic polyurethane\", \"Average Battery Life (in days)\": 7, \"Reviews\": null}, {\"Brand Name\": \"FOSSIL \", \"Device Type\": \"Smartwatch\", \"Model Name\": \"Gen 5E\", \"Color\": \"Grey, Multicolor\", \"Selling Price\": 18495, \"Original Price\": 18495, \"Display\": \"AMOLED Display\", \"Rating (Out of 5)\": 4.2, \"Strap Material\": \"Stainless Steel\", \"Average Battery Life (in days)\": 1, \"Reviews\": null}, {\"Brand Name\": \"boAt \", \"Device Type\": \"Smartwatch\", \"Model Name\": \"Vertex\", \"Color\": \"Grey, Blue, Black, Red\", \"Selling Price\": 2499, \"Original Price\": 6990, \"Display\": \"AMOLED Display\", \"Rating (Out of 5)\": 3.9, \"Strap Material\": \"Silicone\", \"Average Battery Life (in days)\": 7, \"Reviews\": \"1301\"}, {\"Brand Name\": \"Crossbeats\", \"Device Type\": \"Smartwatch\", \"Model Name\": \"Orbit Sport\", \"Color\": \"Black\", \"Selling Price\": 3799, \"Original Price\": 9999, \"Display\": \"IPS Display\", \"Rating (Out of 5)\": 4.1, \"Strap Material\": \"Silicone\", \"Average Battery Life (in days)\": 10, \"Reviews\": \"319\"}, {\"Brand Name\": \"Crossbeats\", \"Device Type\": \"Smartwatch\", \"Model Name\": \"Ignite S3\", \"Color\": \"Silver, Black, Green\", \"Selling Price\": 3999, \"Original Price\": 9999, \"Display\": \"IPS Display\", \"Rating (Out of 5)\": 3.9, \"Strap Material\": \"Silicone\", \"Average Battery Life (in days)\": 7, \"Reviews\": \"96\"}, {\"Brand Name\": \"Crossbeats\", \"Device Type\": \"Smartwatch\", \"Model Name\": \"Ace\", \"Color\": \"Grey\", \"Selling Price\": 2999, \"Original Price\": 9999, \"Display\": \"IPS Display\", \"Rating (Out of 5)\": 3.9, \"Strap Material\": \"Silicone\", \"Average Battery Life (in days)\": 15, \"Reviews\": \"545\"}, {\"Brand Name\": \"Crossbeats\", \"Device Type\": \"Smartwatch\", \"Model Name\": \"Orbit \", \"Color\": \"Black, Blue\", \"Selling Price\": 3799, \"Original Price\": 9999, \"Display\": \"IPS Display\", \"Rating (Out of 5)\": 3.7, \"Strap Material\": \"Silicone\", \"Average Battery Life (in days)\": 10, \"Reviews\": \"281\"}, {\"Brand Name\": \"Crossbeats\", \"Device Type\": \"Smartwatch\", \"Model Name\": \"Ignite  \", \"Color\": \"Green\", \"Selling Price\": 2799, \"Original Price\": 7999, \"Display\": \"IPS Display\", \"Rating (Out of 5)\": 3.9, \"Strap Material\": \"Silicone\", \"Average Battery Life (in days)\": 10, \"Reviews\": \"309\"}, {\"Brand Name\": \"Crossbeats\", \"Device Type\": \"Smartwatch\", \"Model Name\": \"Ignite Pro\", \"Color\": \"Silver, Black\", \"Selling Price\": 2999, \"Original Price\": 9999, \"Display\": \"IPS Display\", \"Rating (Out of 5)\": 4.2, \"Strap Material\": \"Silicone\", \"Average Battery Life (in days)\": 7, \"Reviews\": \"84\"}, {\"Brand Name\": \"Crossbeats\", \"Device Type\": \"Smartwatch\", \"Model Name\": \"Orbit - Special Edition\", \"Color\": \"Brown\", \"Selling Price\": 4190, \"Original Price\": 9999, \"Display\": \"IPS Display\", \"Rating (Out of 5)\": 3.9, \"Strap Material\": \"Leather\", \"Average Battery Life (in days)\": 10, \"Reviews\": \"108\"}, {\"Brand Name\": \"Crossbeats\", \"Device Type\": \"Smartwatch\", \"Model Name\": \"Trak\", \"Color\": \"Black\", \"Selling Price\": 3999, \"Original Price\": 9999, \"Display\": \"IPS Display\", \"Rating (Out of 5)\": 3.8, \"Strap Material\": \"Silicone\", \"Average Battery Life (in days)\": 15, \"Reviews\": \"127\"}, {\"Brand Name\": \"dizo by realme \", \"Device Type\": \"Smartwatch\", \"Model Name\": \"Watch 2\", \"Color\": \"Black, Blue, Grey, Pink, White\", \"Selling Price\": 2699, \"Original Price\": 3999, \"Display\": \"LCD Display\", \"Rating (Out of 5)\": 4.3, \"Strap Material\": \"Silicone\", \"Average Battery Life (in days)\": 10, \"Reviews\": null}, {\"Brand Name\": \"dizo by realme \", \"Device Type\": \"Smartwatch\", \"Model Name\": \"Watch Pro\", \"Color\": \"Blue, Black\", \"Selling Price\": 3799, \"Original Price\": 5999, \"Display\": \"LCD Display\", \"Rating (Out of 5)\": 4.2, \"Strap Material\": \"Silicone\", \"Average Battery Life (in days)\": 14, \"Reviews\": \"360\"}, {\"Brand Name\": \"Noise \", \"Device Type\": \"Smartwatch\", \"Model Name\": \"ColorFit Caliber\", \"Color\": \"Black, Blue, White\", \"Selling Price\": 2699, \"Original Price\": 3999, \"Display\": \"TFT-LCD Display\", \"Rating (Out of 5)\": 4.3, \"Strap Material\": \"Silicone\", \"Average Battery Life (in days)\": 15, \"Reviews\": null}, {\"Brand Name\": \"Noise \", \"Device Type\": \"Smartwatch\", \"Model Name\": \"Evolve 2 \", \"Color\": \"Black, Grey, Pink\", \"Selling Price\": 3999, \"Original Price\": 7999, \"Display\": \"AMOLED Display\", \"Rating (Out of 5)\": 3.9, \"Strap Material\": \"Silicone\", \"Average Battery Life (in days)\": 7, \"Reviews\": null}, {\"Brand Name\": \"Noise \", \"Device Type\": \"Smartwatch\", \"Model Name\": \"ColorFit IconBuzz\", \"Color\": \"Black, Green, Grey\", \"Selling Price\": 4999, \"Original Price\": 4999, \"Display\": \"TFT-LCD Display\", \"Rating (Out of 5)\": null, \"Strap Material\": \"Silicone\", \"Average Battery Life (in days)\": 7, \"Reviews\": null}, {\"Brand Name\": \"Ptron\", \"Device Type\": \"Smartwatch\", \"Model Name\": \"Pulsefit\", \"Color\": \"Black\", \"Selling Price\": 799, \"Original Price\": 3199, \"Display\": \"TFT-LCD Display\", \"Rating (Out of 5)\": 2.5, \"Strap Material\": \"Silicone\", \"Average Battery Life (in days)\": 3, \"Reviews\": \"264\"}, {\"Brand Name\": \"Ptron\", \"Device Type\": \"Smartwatch\", \"Model Name\": \"Pulsefit P461\", \"Color\": \"Black, Blue\", \"Selling Price\": 1399, \"Original Price\": 2999, \"Display\": \"TFT-LCD Display\", \"Rating (Out of 5)\": 3.3, \"Strap Material\": \"Silicone\", \"Average Battery Life (in days)\": 3, \"Reviews\": \"477\"}, {\"Brand Name\": \"Ptron\", \"Device Type\": \"Smartwatch\", \"Model Name\": \"Pulsefit P261\", \"Color\": \"Blue\", \"Selling Price\": 1299, \"Original Price\": 2999, \"Display\": \"TFT-LCD Display\", \"Rating (Out of 5)\": 3.1, \"Strap Material\": \"Silicone\", \"Average Battery Life (in days)\": 3, \"Reviews\": \"327\"}, {\"Brand Name\": \"Ptron\", \"Device Type\": \"Smartwatch\", \"Model Name\": \"Tronite\", \"Color\": \"Brown\", \"Selling Price\": 949, \"Original Price\": 2000, \"Display\": \"LCD Display\", \"Rating (Out of 5)\": 3.7, \"Strap Material\": \"Silicone\", \"Average Battery Life (in days)\": 3, \"Reviews\": \"16\"}, {\"Brand Name\": \"Ptron\", \"Device Type\": \"Smartwatch\", \"Model Name\": \"Rhythm\", \"Color\": \"White\", \"Selling Price\": 1099, \"Original Price\": 3000, \"Display\": \"LCD Display\", \"Rating (Out of 5)\": 3.4, \"Strap Material\": \"Silicone\", \"Average Battery Life (in days)\": 7, \"Reviews\": \"120\"}, {\"Brand Name\": \"Zebronics\", \"Device Type\": \"Smartwatch\", \"Model Name\": \"ZEB-FIT8220CH\", \"Color\": \"Black, Blue, Red, Rose Gold\", \"Selling Price\": 2199, \"Original Price\": 3999, \"Display\": \"TFT-LCD Display\", \"Rating (Out of 5)\": 4.5, \"Strap Material\": \"Silicone\", \"Average Battery Life (in days)\": 7, \"Reviews\": \"34\"}, {\"Brand Name\": \"Zebronics\", \"Device Type\": \"Smartwatch\", \"Model Name\": \"ZEB-FIT4220CH\", \"Color\": \"Black, Grey, Silver\", \"Selling Price\": 3299, \"Original Price\": 7999, \"Display\": \"TFT-LCD Display\", \"Rating (Out of 5)\": 4.2, \"Strap Material\": \"Silicone\", \"Average Battery Life (in days)\": 10, \"Reviews\": \"46\"}, {\"Brand Name\": \"Zebronics\", \"Device Type\": \"Smartwatch\", \"Model Name\": \"ZEB-FIT920CH\", \"Color\": \"Black, Grey, Red\", \"Selling Price\": 2499, \"Original Price\": 4499, \"Display\": \"TFT-LCD Display\", \"Rating (Out of 5)\": 4.6, \"Strap Material\": \"Thermoplastic polyurethane\", \"Average Battery Life (in days)\": 7, \"Reviews\": \"41\"}, {\"Brand Name\": \"Zebronics\", \"Device Type\": \"Smartwatch\", \"Model Name\": \"ZEB-FITMe\", \"Color\": \"Black, Blue, Green, Grey, Pink\", \"Selling Price\": 2799, \"Original Price\": 4999, \"Display\": \"TFT-LCD Display\", \"Rating (Out of 5)\": 4.5, \"Strap Material\": \"Thermoplastic polyurethane\", \"Average Battery Life (in days)\": 7, \"Reviews\": \"29\"}, {\"Brand Name\": \"Zebronics\", \"Device Type\": \"Smartwatch\", \"Model Name\": \"ZEB-FIT5220CH\", \"Color\": \"Gold\", \"Selling Price\": 3299, \"Original Price\": 4999, \"Display\": \"TFT-LCD Display\", \"Rating (Out of 5)\": null, \"Strap Material\": \"Rubber\", \"Average Battery Life (in days)\": 7, \"Reviews\": null}, {\"Brand Name\": \"Zebronics\", \"Device Type\": \"Smartwatch\", \"Model Name\": \"ZEB-FIT1220CH\", \"Color\": \"Silver\", \"Selling Price\": 3499, \"Original Price\": 3999, \"Display\": \"TFT-LCD Display\", \"Rating (Out of 5)\": null, \"Strap Material\": \"Silicone\", \"Average Battery Life (in days)\": 7, \"Reviews\": null}, {\"Brand Name\": \"Zebronics\", \"Device Type\": \"Smartwatch\", \"Model Name\": \"ZEB-FIT5220CH\", \"Color\": \"Blue\", \"Selling Price\": 3299, \"Original Price\": 4999, \"Display\": \"TFT-LCD Display\", \"Rating (Out of 5)\": null, \"Strap Material\": \"Rubber\", \"Average Battery Life (in days)\": 7, \"Reviews\": null}, {\"Brand Name\": \"Zebronics\", \"Device Type\": \"Smartwatch\", \"Model Name\": \"ZEB-FIT650CH\", \"Color\": \"Black\", \"Selling Price\": 3297, \"Original Price\": 4199, \"Display\": \"TFT-LCD Display\", \"Rating (Out of 5)\": 2.9, \"Strap Material\": \"Silicone\", \"Average Battery Life (in days)\": 7, \"Reviews\": \"5\"}, {\"Brand Name\": \"Zebronics\", \"Device Type\": \"Smartwatch\", \"Model Name\": \"Smarttime 200\", \"Color\": \"Black\", \"Selling Price\": 1499, \"Original Price\": 2999, \"Display\": \"TFT-LCD Display\", \"Rating (Out of 5)\": 3.1, \"Strap Material\": \"Rubber\", \"Average Battery Life (in days)\": 3, \"Reviews\": \"5\"}, {\"Brand Name\": \"Zebronics\", \"Device Type\": \"FitnessBand\", \"Model Name\": \"ZEB-FIT450\", \"Color\": \"Blue\", \"Selling Price\": 1699, \"Original Price\": 1899, \"Display\": \"TFT-LCD Display\", \"Rating (Out of 5)\": 3.3, \"Strap Material\": \"Silicone\", \"Average Battery Life (in days)\": 3, \"Reviews\": null}, {\"Brand Name\": \"Zebronics\", \"Device Type\": \"FitnessBand\", \"Model Name\": \"zeb-fit\", \"Color\": \"Black, Grey\", \"Selling Price\": 1283, \"Original Price\": 1899, \"Display\": \"TFT-LCD Display\", \"Rating (Out of 5)\": 3.3, \"Strap Material\": \"Silicone\", \"Average Battery Life (in days)\": 3, \"Reviews\": \"4\"}, {\"Brand Name\": \"Zebronics\", \"Device Type\": \"Smartwatch\", \"Model Name\": \"Fit-650\", \"Color\": \"Black\", \"Selling Price\": 2949, \"Original Price\": 4199, \"Display\": \"TFT-LCD Display\", \"Rating (Out of 5)\": 3.1, \"Strap Material\": \"Leather\", \"Average Battery Life (in days)\": 3, \"Reviews\": \"3\"}, {\"Brand Name\": \"Fire-Boltt\", \"Device Type\": \"Smartwatch\", \"Model Name\": \"Ninja touch to Wake\", \"Color\": \"Beige, Black, Grey\", \"Selling Price\": 1899, \"Original Price\": 4999, \"Display\": \"HD Display\", \"Rating (Out of 5)\": 3.9, \"Strap Material\": \"Silicone\", \"Average Battery Life (in days)\": 5, \"Reviews\": \"6046\"}, {\"Brand Name\": \"Fire-Boltt\", \"Device Type\": \"Smartwatch\", \"Model Name\": \"Ultron\", \"Color\": \"Black, Blue, Grey, Pink \", \"Selling Price\": 3999, \"Original Price\": 10999, \"Display\": \"AMOLED Display\", \"Rating (Out of 5)\": 4.1, \"Strap Material\": \"Silicone\", \"Average Battery Life (in days)\": 5, \"Reviews\": \"229\"}, {\"Brand Name\": \"Fire-Boltt\", \"Device Type\": \"Smartwatch\", \"Model Name\": \"Ninja Pro\", \"Color\": \"Black, Blue, Green, Red, Beige, Grey\", \"Selling Price\": 1999, \"Original Price\": 4999, \"Display\": \"HD Display\", \"Rating (Out of 5)\": 4.0, \"Strap Material\": \"Silicone\", \"Average Battery Life (in days)\": 10, \"Reviews\": \"688\"}, {\"Brand Name\": \"Fire-Boltt\", \"Device Type\": \"Smartwatch\", \"Model Name\": \"Mercury\", \"Color\": \"Black, Beige, Grey\", \"Selling Price\": 2499, \"Original Price\": 7999, \"Display\": \"HD Display\", \"Rating (Out of 5)\": 4.0, \"Strap Material\": \"Silicone\", \"Average Battery Life (in days)\": 8, \"Reviews\": \"4941\"}, {\"Brand Name\": \"Fire-Boltt\", \"Device Type\": \"Smartwatch\", \"Model Name\": \"SpO2 Full Touch\", \"Color\": \"Black, Blue, Grey, Pink, Gold\", \"Selling Price\": 2999, \"Original Price\": 5999, \"Display\": \"HD Display\", \"Rating (Out of 5)\": 4.0, \"Strap Material\": \"Silicone\", \"Average Battery Life (in days)\": 8, \"Reviews\": \"2525\"}, {\"Brand Name\": \"Fire-Boltt\", \"Device Type\": \"Smartwatch\", \"Model Name\": \"Max\", \"Color\": \"Black, Blue, Green\", \"Selling Price\": 4499, \"Original Price\": 12999, \"Display\": \"AMOLED Display\", \"Rating (Out of 5)\": 4.0, \"Strap Material\": \"Silicone\", \"Average Battery Life (in days)\": 10, \"Reviews\": \"519\"}, {\"Brand Name\": \"Fire-Boltt\", \"Device Type\": \"Smartwatch\", \"Model Name\": \"AI-BT Calling\", \"Color\": \"Black, Blue, Grey, Pink\", \"Selling Price\": 4499, \"Original Price\": 9999, \"Display\": \"HD Display\", \"Rating (Out of 5)\": 3.7, \"Strap Material\": \"Silicone\", \"Average Battery Life (in days)\": 10, \"Reviews\": \"423\"}, {\"Brand Name\": \"Fire-Boltt\", \"Device Type\": \"Smartwatch\", \"Model Name\": \"BSW004\", \"Color\": \"Green\", \"Selling Price\": 4800, \"Original Price\": 9999, \"Display\": \"LCD Display\", \"Rating (Out of 5)\": null, \"Strap Material\": \"Silicone\", \"Average Battery Life (in days)\": 7, \"Reviews\": null}, {\"Brand Name\": \"Fire-Boltt\", \"Device Type\": \"Smartwatch\", \"Model Name\": \"Spin\", \"Color\": \"Blue, Grey, Pink\", \"Selling Price\": 5846, \"Original Price\": 5999, \"Display\": \"TFT-LCD Display\", \"Rating (Out of 5)\": 2.4, \"Strap Material\": \"Silicone\", \"Average Battery Life (in days)\": 5, \"Reviews\": \"15\"}, {\"Brand Name\": \"Fire-Boltt\", \"Device Type\": \"Smartwatch\", \"Model Name\": \"Talk Bluetooth\", \"Color\": \"Black, Grey, Green\", \"Selling Price\": 3499, \"Original Price\": 9999, \"Display\": \"HD Display\", \"Rating (Out of 5)\": 4.1, \"Strap Material\": \"Silicone\", \"Average Battery Life (in days)\": 10, \"Reviews\": \"923\"}, {\"Brand Name\": \"Fire-Boltt\", \"Device Type\": \"Smartwatch\", \"Model Name\": \"Almighty\", \"Color\": \"Orange\", \"Selling Price\": 4999, \"Original Price\": 14999, \"Display\": \"AMOLED Display\", \"Rating (Out of 5)\": 4.1, \"Strap Material\": \"Silicone\", \"Average Battery Life (in days)\": 10, \"Reviews\": \"212\"}, {\"Brand Name\": \"Fire-Boltt\", \"Device Type\": \"Smartwatch\", \"Model Name\": \"Mercury\", \"Color\": \"Red\", \"Selling Price\": 2999, \"Original Price\": 7999, \"Display\": \"HD Display\", \"Rating (Out of 5)\": 4.0, \"Strap Material\": \"Silicone\", \"Average Battery Life (in days)\": 8, \"Reviews\": \"4941\"}, {\"Brand Name\": \"Fire-Boltt\", \"Device Type\": \"Smartwatch\", \"Model Name\": \"Spin\", \"Color\": \"White\", \"Selling Price\": 5846, \"Original Price\": 5999, \"Display\": \"TFT-LCD Display\", \"Rating (Out of 5)\": 2.4, \"Strap Material\": \"Silicone\", \"Average Battery Life (in days)\": 5, \"Reviews\": \"15\"}, {\"Brand Name\": \"Fire-Boltt\", \"Device Type\": \"Smartwatch\", \"Model Name\": \"Ninja Pro\", \"Color\": \"White\", \"Selling Price\": 1999, \"Original Price\": 4999, \"Display\": \"HD Display\", \"Rating (Out of 5)\": 4.0, \"Strap Material\": \"Silicone\", \"Average Battery Life (in days)\": 10, \"Reviews\": \"688\"}]}}, {\"mode\": \"vega-lite\"});\n",
       "</script>"
      ],
      "text/plain": [
       "alt.Chart(...)"
      ]
     },
     "execution_count": 28,
     "metadata": {},
     "output_type": "execute_result"
    }
   ],
   "source": [
    "alt.Chart(health, title=\"Original Price vs Selling Price\").mark_point(filled=True,size=40).encode(\n",
    "    x='Original Price',\n",
    "    y='Selling Price',\n",
    "    color='Brand Name',\n",
    "    tooltip=['Brand Name', 'Selling Price', 'Original Price']\n",
    ").interactive()"
   ]
  },
  {
   "cell_type": "markdown",
   "id": "a82ba8a0",
   "metadata": {
    "papermill": {
     "duration": 0.023499,
     "end_time": "2022-10-20T18:00:01.334815",
     "exception": false,
     "start_time": "2022-10-20T18:00:01.311316",
     "status": "completed"
    },
    "tags": []
   },
   "source": [
    "Looks like there are more discounts/deviations from original price at lower band of prices. Whereas for Apple most sells are at sticker price. Apple and GARMIN seem to have the most products at different price tiers. GARMIN is Apple's biggest competitor for variable products and it has more discounts versus Apple. At the lower end of pricing, FOSSIL seems to have the most discounts at varying low priced original sale prices. And FitBit has sales that have the highest discounts.\n",
    "\n",
    "With this observation, would be safe to assume that with change of price Apple demand would be inelastic whereas with FitBit would be more elastic. Let's take a look with another graph."
   ]
  },
  {
   "cell_type": "markdown",
   "id": "4b804379",
   "metadata": {
    "papermill": {
     "duration": 0.024694,
     "end_time": "2022-10-20T18:00:01.383871",
     "exception": false,
     "start_time": "2022-10-20T18:00:01.359177",
     "status": "completed"
    },
    "tags": []
   },
   "source": [
    "Given the market behavior behind APPLE vs. GARMIN, FOSSIL and FitBit, let's take a look at some of the different features of each brand including battery life and ratings."
   ]
  },
  {
   "cell_type": "code",
   "execution_count": 29,
   "id": "49df9232",
   "metadata": {
    "execution": {
     "iopub.execute_input": "2022-10-20T18:00:01.437869Z",
     "iopub.status.busy": "2022-10-20T18:00:01.436428Z",
     "iopub.status.idle": "2022-10-20T18:00:01.467940Z",
     "shell.execute_reply": "2022-10-20T18:00:01.466530Z"
    },
    "papermill": {
     "duration": 0.061103,
     "end_time": "2022-10-20T18:00:01.470863",
     "exception": false,
     "start_time": "2022-10-20T18:00:01.409760",
     "status": "completed"
    },
    "tags": []
   },
   "outputs": [
    {
     "data": {
      "text/html": [
       "<div>\n",
       "<style scoped>\n",
       "    .dataframe tbody tr th:only-of-type {\n",
       "        vertical-align: middle;\n",
       "    }\n",
       "\n",
       "    .dataframe tbody tr th {\n",
       "        vertical-align: top;\n",
       "    }\n",
       "\n",
       "    .dataframe thead th {\n",
       "        text-align: right;\n",
       "    }\n",
       "</style>\n",
       "<table border=\"1\" class=\"dataframe\">\n",
       "  <thead>\n",
       "    <tr style=\"text-align: right;\">\n",
       "      <th></th>\n",
       "      <th>Brand Name</th>\n",
       "      <th>Model Name</th>\n",
       "      <th>model_total_tx</th>\n",
       "      <th>avg_model_sell_price</th>\n",
       "      <th>avg_model_original_price</th>\n",
       "    </tr>\n",
       "  </thead>\n",
       "  <tbody>\n",
       "    <tr>\n",
       "      <th>181</th>\n",
       "      <td>FitBit</td>\n",
       "      <td>Charge 2</td>\n",
       "      <td>8</td>\n",
       "      <td>11436.375000</td>\n",
       "      <td>14999.0</td>\n",
       "    </tr>\n",
       "    <tr>\n",
       "      <th>132</th>\n",
       "      <td>FOSSIL</td>\n",
       "      <td>Gen 5 Julianna HR</td>\n",
       "      <td>6</td>\n",
       "      <td>17161.666667</td>\n",
       "      <td>21495.0</td>\n",
       "    </tr>\n",
       "    <tr>\n",
       "      <th>135</th>\n",
       "      <td>FOSSIL</td>\n",
       "      <td>Jacqueline Hybrid</td>\n",
       "      <td>5</td>\n",
       "      <td>10455.200000</td>\n",
       "      <td>12895.0</td>\n",
       "    </tr>\n",
       "    <tr>\n",
       "      <th>402</th>\n",
       "      <td>huami</td>\n",
       "      <td>Amazfit Bip</td>\n",
       "      <td>5</td>\n",
       "      <td>5569.200000</td>\n",
       "      <td>6675.4</td>\n",
       "    </tr>\n",
       "    <tr>\n",
       "      <th>412</th>\n",
       "      <td>huami</td>\n",
       "      <td>Amazfit GTS</td>\n",
       "      <td>4</td>\n",
       "      <td>5574.000000</td>\n",
       "      <td>12999.0</td>\n",
       "    </tr>\n",
       "    <tr>\n",
       "      <th>...</th>\n",
       "      <td>...</td>\n",
       "      <td>...</td>\n",
       "      <td>...</td>\n",
       "      <td>...</td>\n",
       "      <td>...</td>\n",
       "    </tr>\n",
       "    <tr>\n",
       "      <th>155</th>\n",
       "      <td>FOSSIL</td>\n",
       "      <td>Rose Gold Smart</td>\n",
       "      <td>1</td>\n",
       "      <td>21995.000000</td>\n",
       "      <td>21995.0</td>\n",
       "    </tr>\n",
       "    <tr>\n",
       "      <th>154</th>\n",
       "      <td>FOSSIL</td>\n",
       "      <td>Rose Gold HR</td>\n",
       "      <td>1</td>\n",
       "      <td>21995.000000</td>\n",
       "      <td>21995.0</td>\n",
       "    </tr>\n",
       "    <tr>\n",
       "      <th>151</th>\n",
       "      <td>FOSSIL</td>\n",
       "      <td>Q Neely</td>\n",
       "      <td>1</td>\n",
       "      <td>6995.000000</td>\n",
       "      <td>12995.0</td>\n",
       "    </tr>\n",
       "    <tr>\n",
       "      <th>150</th>\n",
       "      <td>FOSSIL</td>\n",
       "      <td>Q Machine</td>\n",
       "      <td>1</td>\n",
       "      <td>10796.000000</td>\n",
       "      <td>13495.0</td>\n",
       "    </tr>\n",
       "    <tr>\n",
       "      <th>432</th>\n",
       "      <td>realme</td>\n",
       "      <td>Smart band</td>\n",
       "      <td>1</td>\n",
       "      <td>1450.000000</td>\n",
       "      <td>2999.0</td>\n",
       "    </tr>\n",
       "  </tbody>\n",
       "</table>\n",
       "<p>433 rows × 5 columns</p>\n",
       "</div>"
      ],
      "text/plain": [
       "    Brand Name         Model Name  model_total_tx  avg_model_sell_price  \\\n",
       "181     FitBit           Charge 2               8          11436.375000   \n",
       "132    FOSSIL   Gen 5 Julianna HR               6          17161.666667   \n",
       "135    FOSSIL   Jacqueline Hybrid               5          10455.200000   \n",
       "402      huami        Amazfit Bip               5           5569.200000   \n",
       "412      huami        Amazfit GTS               4           5574.000000   \n",
       "..         ...                ...             ...                   ...   \n",
       "155    FOSSIL     Rose Gold Smart               1          21995.000000   \n",
       "154    FOSSIL        Rose Gold HR               1          21995.000000   \n",
       "151    FOSSIL             Q Neely               1           6995.000000   \n",
       "150    FOSSIL           Q Machine               1          10796.000000   \n",
       "432     realme         Smart band               1           1450.000000   \n",
       "\n",
       "     avg_model_original_price  \n",
       "181                   14999.0  \n",
       "132                   21495.0  \n",
       "135                   12895.0  \n",
       "402                    6675.4  \n",
       "412                   12999.0  \n",
       "..                        ...  \n",
       "155                   21995.0  \n",
       "154                   21995.0  \n",
       "151                   12995.0  \n",
       "150                   13495.0  \n",
       "432                    2999.0  \n",
       "\n",
       "[433 rows x 5 columns]"
      ]
     },
     "execution_count": 29,
     "metadata": {},
     "output_type": "execute_result"
    }
   ],
   "source": [
    "agg = health.groupby(['Brand Name', 'Model Name']) \\\n",
    "       .agg({'Model Name':'size', 'Selling Price':'mean', 'Original Price':'mean'}) \\\n",
    "       .rename(columns={'Model Name':'model_total_tx','Selling Price':'avg_model_sell_price', 'Original Price':'avg_model_original_price'}) \\\n",
    "       .reset_index()\n",
    "\n",
    "agg.sort_values(['model_total_tx'], ascending=[False]) "
   ]
  },
  {
   "cell_type": "code",
   "execution_count": 30,
   "id": "8c3b0c07",
   "metadata": {
    "execution": {
     "iopub.execute_input": "2022-10-20T18:00:01.522728Z",
     "iopub.status.busy": "2022-10-20T18:00:01.522071Z",
     "iopub.status.idle": "2022-10-20T18:00:01.663668Z",
     "shell.execute_reply": "2022-10-20T18:00:01.662137Z"
    },
    "papermill": {
     "duration": 0.172451,
     "end_time": "2022-10-20T18:00:01.667882",
     "exception": false,
     "start_time": "2022-10-20T18:00:01.495431",
     "status": "completed"
    },
    "tags": []
   },
   "outputs": [
    {
     "data": {
      "text/html": [
       "\n",
       "<div id=\"altair-viz-9f55ceb439ee4a8db313ec3eed591b37\"></div>\n",
       "<script type=\"text/javascript\">\n",
       "  var VEGA_DEBUG = (typeof VEGA_DEBUG == \"undefined\") ? {} : VEGA_DEBUG;\n",
       "  (function(spec, embedOpt){\n",
       "    let outputDiv = document.currentScript.previousElementSibling;\n",
       "    if (outputDiv.id !== \"altair-viz-9f55ceb439ee4a8db313ec3eed591b37\") {\n",
       "      outputDiv = document.getElementById(\"altair-viz-9f55ceb439ee4a8db313ec3eed591b37\");\n",
       "    }\n",
       "    const paths = {\n",
       "      \"vega\": \"https://cdn.jsdelivr.net/npm//vega@5?noext\",\n",
       "      \"vega-lib\": \"https://cdn.jsdelivr.net/npm//vega-lib?noext\",\n",
       "      \"vega-lite\": \"https://cdn.jsdelivr.net/npm//vega-lite@4.17.0?noext\",\n",
       "      \"vega-embed\": \"https://cdn.jsdelivr.net/npm//vega-embed@6?noext\",\n",
       "    };\n",
       "\n",
       "    function maybeLoadScript(lib, version) {\n",
       "      var key = `${lib.replace(\"-\", \"\")}_version`;\n",
       "      return (VEGA_DEBUG[key] == version) ?\n",
       "        Promise.resolve(paths[lib]) :\n",
       "        new Promise(function(resolve, reject) {\n",
       "          var s = document.createElement('script');\n",
       "          document.getElementsByTagName(\"head\")[0].appendChild(s);\n",
       "          s.async = true;\n",
       "          s.onload = () => {\n",
       "            VEGA_DEBUG[key] = version;\n",
       "            return resolve(paths[lib]);\n",
       "          };\n",
       "          s.onerror = () => reject(`Error loading script: ${paths[lib]}`);\n",
       "          s.src = paths[lib];\n",
       "        });\n",
       "    }\n",
       "\n",
       "    function showError(err) {\n",
       "      outputDiv.innerHTML = `<div class=\"error\" style=\"color:red;\">${err}</div>`;\n",
       "      throw err;\n",
       "    }\n",
       "\n",
       "    function displayChart(vegaEmbed) {\n",
       "      vegaEmbed(outputDiv, spec, embedOpt)\n",
       "        .catch(err => showError(`Javascript Error: ${err.message}<br>This usually means there's a typo in your chart specification. See the javascript console for the full traceback.`));\n",
       "    }\n",
       "\n",
       "    if(typeof define === \"function\" && define.amd) {\n",
       "      requirejs.config({paths});\n",
       "      require([\"vega-embed\"], displayChart, err => showError(`Error loading script: ${err.message}`));\n",
       "    } else {\n",
       "      maybeLoadScript(\"vega\", \"5\")\n",
       "        .then(() => maybeLoadScript(\"vega-lite\", \"4.17.0\"))\n",
       "        .then(() => maybeLoadScript(\"vega-embed\", \"6\"))\n",
       "        .catch(showError)\n",
       "        .then(() => displayChart(vegaEmbed));\n",
       "    }\n",
       "  })({\"config\": {\"view\": {\"continuousWidth\": 400, \"continuousHeight\": 300}}, \"data\": {\"name\": \"data-1f5639a37aa1cb31e8e8e6f9e7bbb0d1\"}, \"mark\": {\"type\": \"point\", \"filled\": true, \"size\": 40}, \"encoding\": {\"color\": {\"field\": \"Brand Name\", \"type\": \"nominal\"}, \"tooltip\": [{\"field\": \"Brand Name\", \"type\": \"nominal\"}, {\"field\": \"model_total_tx\", \"type\": \"quantitative\"}, {\"field\": \"avg_model_original_price\", \"type\": \"quantitative\"}], \"x\": {\"field\": \"avg_model_original_price\", \"type\": \"quantitative\"}, \"y\": {\"field\": \"model_total_tx\", \"type\": \"quantitative\"}}, \"selection\": {\"selector002\": {\"type\": \"interval\", \"bind\": \"scales\", \"encodings\": [\"x\", \"y\"]}}, \"title\": \"Average Original Price vs Total Demand\", \"$schema\": \"https://vega.github.io/schema/vega-lite/v4.17.0.json\", \"datasets\": {\"data-1f5639a37aa1cb31e8e8e6f9e7bbb0d1\": [{\"Brand Name\": \"APPLE\", \"Model Name\": \"2 - 42 mm Silver Aluminium Case\", \"model_total_tx\": 1, \"avg_model_sell_price\": 34900.0, \"avg_model_original_price\": 34900.0}, {\"Brand Name\": \"APPLE\", \"Model Name\": \"38 mm Space Black Stainless Steel Case\", \"model_total_tx\": 1, \"avg_model_sell_price\": 48900.0, \"avg_model_original_price\": 48900.0}, {\"Brand Name\": \"APPLE\", \"Model Name\": \"38 mm Stainless Steel Stainless Steel Case with Modern Buckle\", \"model_total_tx\": 1, \"avg_model_sell_price\": 64900.0, \"avg_model_original_price\": 64900.0}, {\"Brand Name\": \"APPLE\", \"Model Name\": \"42 mm Black Stainless Steel Case with Link Bracelet\", \"model_total_tx\": 1, \"avg_model_sell_price\": 79900.0, \"avg_model_original_price\": 79900.0}, {\"Brand Name\": \"APPLE\", \"Model Name\": \"42 mm Space Gray Aluminium\", \"model_total_tx\": 1, \"avg_model_sell_price\": 29900.0, \"avg_model_original_price\": 29900.0}, {\"Brand Name\": \"APPLE\", \"Model Name\": \"42 mm Stainless Steel Case\", \"model_total_tx\": 1, \"avg_model_sell_price\": 60900.0, \"avg_model_original_price\": 60900.0}, {\"Brand Name\": \"APPLE\", \"Model Name\": \"42 mm White Ceramic Case with Cloud Sport\", \"model_total_tx\": 1, \"avg_model_sell_price\": 114900.0, \"avg_model_original_price\": 114900.0}, {\"Brand Name\": \"APPLE\", \"Model Name\": \"8 mm Stainless Steel Case\", \"model_total_tx\": 2, \"avg_model_sell_price\": 56900.0, \"avg_model_original_price\": 56900.0}, {\"Brand Name\": \"APPLE\", \"Model Name\": \"Nike Series 5 GPS + Cellular 44 mm\", \"model_total_tx\": 1, \"avg_model_sell_price\": 52900.0, \"avg_model_original_price\": 52900.0}, {\"Brand Name\": \"APPLE\", \"Model Name\": \"Nike+ - 38 mm Space Gray Aluminium Case\", \"model_total_tx\": 1, \"avg_model_sell_price\": 31600.0, \"avg_model_original_price\": 31600.0}, {\"Brand Name\": \"APPLE\", \"Model Name\": \"Nike+ GPS - 42 mm Space Gray Aluminium Case\", \"model_total_tx\": 1, \"avg_model_sell_price\": 32380.0, \"avg_model_original_price\": 32380.0}, {\"Brand Name\": \"APPLE\", \"Model Name\": \"SE 40 mm Space Grey Aluminium Case\", \"model_total_tx\": 1, \"avg_model_sell_price\": 27400.0, \"avg_model_original_price\": 29900.0}, {\"Brand Name\": \"APPLE\", \"Model Name\": \"SE 44 mm Gold Aluminium Case\", \"model_total_tx\": 1, \"avg_model_sell_price\": 30400.0, \"avg_model_original_price\": 32900.0}, {\"Brand Name\": \"APPLE\", \"Model Name\": \"SE 44 mm Space Grey Aluminium Case\", \"model_total_tx\": 1, \"avg_model_sell_price\": 30400.0, \"avg_model_original_price\": 32900.0}, {\"Brand Name\": \"APPLE\", \"Model Name\": \"SE GPS + Cellular 40 mm Aluminium Case\", \"model_total_tx\": 1, \"avg_model_sell_price\": 33900.0, \"avg_model_original_price\": 33900.0}, {\"Brand Name\": \"APPLE\", \"Model Name\": \"SE GPS + Cellular 40 mm Gold Aluminium Case\", \"model_total_tx\": 3, \"avg_model_sell_price\": 43566.666666666664, \"avg_model_original_price\": 47233.333333333336}, {\"Brand Name\": \"APPLE\", \"Model Name\": \"SE GPS + Cellular 40 mm Silver Aluminium Case\", \"model_total_tx\": 2, \"avg_model_sell_price\": 31400.0, \"avg_model_original_price\": 33900.0}, {\"Brand Name\": \"APPLE\", \"Model Name\": \"SE GPS + Cellular 40 mm Space Grey Aluminium Case\", \"model_total_tx\": 2, \"avg_model_sell_price\": 31400.0, \"avg_model_original_price\": 33900.0}, {\"Brand Name\": \"APPLE\", \"Model Name\": \"SE GPS + Cellular 44 mm Aluminium Case\", \"model_total_tx\": 1, \"avg_model_sell_price\": 36900.0, \"avg_model_original_price\": 36900.0}, {\"Brand Name\": \"APPLE\", \"Model Name\": \"SE GPS + Cellular 44 mm Gold Aluminium Case\", \"model_total_tx\": 3, \"avg_model_sell_price\": 37233.333333333336, \"avg_model_original_price\": 39233.333333333336}, {\"Brand Name\": \"APPLE\", \"Model Name\": \"SE GPS + Cellular 44 mm Silver Aluminium Case\", \"model_total_tx\": 2, \"avg_model_sell_price\": 33900.0, \"avg_model_original_price\": 36900.0}, {\"Brand Name\": \"APPLE\", \"Model Name\": \"SE GPS + Cellular 44 mm Space Grey Aluminium Case\", \"model_total_tx\": 2, \"avg_model_sell_price\": 33900.0, \"avg_model_original_price\": 36900.0}, {\"Brand Name\": \"APPLE\", \"Model Name\": \"SE GPS 40 mm Aluminium Case\", \"model_total_tx\": 1, \"avg_model_sell_price\": 29900.0, \"avg_model_original_price\": 29900.0}, {\"Brand Name\": \"APPLE\", \"Model Name\": \"SE GPS 44 mm Aluminium Case\", \"model_total_tx\": 1, \"avg_model_sell_price\": 32900.0, \"avg_model_original_price\": 32900.0}, {\"Brand Name\": \"APPLE\", \"Model Name\": \"Series 1 - 38 mm Silver Aluminium Case\", \"model_total_tx\": 1, \"avg_model_sell_price\": 21900.0, \"avg_model_original_price\": 21900.0}, {\"Brand Name\": \"APPLE\", \"Model Name\": \"Series 1 - 42 mm Gold Aluminium Case\", \"model_total_tx\": 1, \"avg_model_sell_price\": 25900.0, \"avg_model_original_price\": 25900.0}, {\"Brand Name\": \"APPLE\", \"Model Name\": \"Series 2 - 38 mm Stainless Steel Case\", \"model_total_tx\": 1, \"avg_model_sell_price\": 56900.0, \"avg_model_original_price\": 56900.0}, {\"Brand Name\": \"APPLE\", \"Model Name\": \"Series 2 - 42 mm Space Black Stainless Steel Case\", \"model_total_tx\": 1, \"avg_model_sell_price\": 50400.0, \"avg_model_original_price\": 50400.0}, {\"Brand Name\": \"APPLE\", \"Model Name\": \"Series 2 - 42 mm Stainless Steel Case\", \"model_total_tx\": 1, \"avg_model_sell_price\": 50400.0, \"avg_model_original_price\": 50400.0}, {\"Brand Name\": \"APPLE\", \"Model Name\": \"Series 3 GPS + Cellular- 42 mm Gray Ceramic Case\", \"model_total_tx\": 1, \"avg_model_sell_price\": 122090.0, \"avg_model_original_price\": 122090.0}, {\"Brand Name\": \"APPLE\", \"Model Name\": \"Series 3 GPS + Cellular- 42 mm White Ceramic Case\", \"model_total_tx\": 1, \"avg_model_sell_price\": 122090.0, \"avg_model_original_price\": 122090.0}, {\"Brand Name\": \"APPLE\", \"Model Name\": \"Series 3 GPS - 38 mm Space Grey Aluminium Case\", \"model_total_tx\": 1, \"avg_model_sell_price\": 16900.0, \"avg_model_original_price\": 20900.0}, {\"Brand Name\": \"APPLE\", \"Model Name\": \"Series 3 GPS - 42 mm Space Grey Aluminium Case\", \"model_total_tx\": 1, \"avg_model_sell_price\": 18900.0, \"avg_model_original_price\": 23900.0}, {\"Brand Name\": \"APPLE\", \"Model Name\": \"Series 5 GPS + Cellular 40 mm Space Black Stainless Steel Case\", \"model_total_tx\": 1, \"avg_model_sell_price\": 69900.0, \"avg_model_original_price\": 69900.0}, {\"Brand Name\": \"APPLE\", \"Model Name\": \"Series 5 GPS + Cellular 40 mm Space Grey Aluminium Case\", \"model_total_tx\": 1, \"avg_model_sell_price\": 39990.0, \"avg_model_original_price\": 49900.0}, {\"Brand Name\": \"APPLE\", \"Model Name\": \"Series 5 GPS + Cellular 40 mm Stainless Steel Case\", \"model_total_tx\": 1, \"avg_model_sell_price\": 65900.0, \"avg_model_original_price\": 65900.0}, {\"Brand Name\": \"APPLE\", \"Model Name\": \"Series 5 GPS + Cellular 44 mm Gold Aluminium Case\", \"model_total_tx\": 1, \"avg_model_sell_price\": 52900.0, \"avg_model_original_price\": 52900.0}, {\"Brand Name\": \"APPLE\", \"Model Name\": \"Series 5 GPS + Cellular 44 mm Gold Stainless Steel Case\", \"model_total_tx\": 2, \"avg_model_sell_price\": 71900.0, \"avg_model_original_price\": 71900.0}, {\"Brand Name\": \"APPLE\", \"Model Name\": \"Series 5 GPS + Cellular 44 mm Space Black Stainless Steel Case\", \"model_total_tx\": 1, \"avg_model_sell_price\": 69900.0, \"avg_model_original_price\": 69900.0}, {\"Brand Name\": \"APPLE\", \"Model Name\": \"Series 5 GPS + Cellular 44 mm Space Grey Aluminium Case\", \"model_total_tx\": 1, \"avg_model_sell_price\": 52900.0, \"avg_model_original_price\": 52900.0}, {\"Brand Name\": \"APPLE\", \"Model Name\": \"Series 5 GPS + Cellular 44 mm Stainless Steel Case\", \"model_total_tx\": 1, \"avg_model_sell_price\": 73900.0, \"avg_model_original_price\": 73900.0}, {\"Brand Name\": \"APPLE\", \"Model Name\": \"Series 5 GPS 40 mm Silver Aluminium Case\", \"model_total_tx\": 1, \"avg_model_sell_price\": 40900.0, \"avg_model_original_price\": 40900.0}, {\"Brand Name\": \"APPLE\", \"Model Name\": \"Series 6 GPS + Cellular 40 mm Blue Aluminium Case\", \"model_total_tx\": 1, \"avg_model_sell_price\": 45690.0, \"avg_model_original_price\": 49900.0}, {\"Brand Name\": \"APPLE\", \"Model Name\": \"Series 6 GPS + Cellular 40 mm Gold Aluminium Case\", \"model_total_tx\": 1, \"avg_model_sell_price\": 45690.0, \"avg_model_original_price\": 49900.0}, {\"Brand Name\": \"APPLE\", \"Model Name\": \"Series 6 GPS + Cellular 40 mm Gold Stainless Steel Case\", \"model_total_tx\": 2, \"avg_model_sell_price\": 68900.0, \"avg_model_original_price\": 71900.0}, {\"Brand Name\": \"APPLE\", \"Model Name\": \"Series 6 GPS + Cellular 40 mm Graphite Stainless Steel Case\", \"model_total_tx\": 1, \"avg_model_sell_price\": 67900.0, \"avg_model_original_price\": 73900.0}, {\"Brand Name\": \"APPLE\", \"Model Name\": \"Series 6 GPS + Cellular 40 mm Red Aluminium Case\", \"model_total_tx\": 2, \"avg_model_sell_price\": 45690.0, \"avg_model_original_price\": 49900.0}, {\"Brand Name\": \"APPLE\", \"Model Name\": \"Series 6 GPS + Cellular 40 mm Silver Aluminium Case\", \"model_total_tx\": 1, \"avg_model_sell_price\": 45690.0, \"avg_model_original_price\": 49900.0}, {\"Brand Name\": \"APPLE\", \"Model Name\": \"Series 6 GPS + Cellular 40 mm Space Grey Aluminium Case\", \"model_total_tx\": 2, \"avg_model_sell_price\": 57795.0, \"avg_model_original_price\": 59900.0}, {\"Brand Name\": \"APPLE\", \"Model Name\": \"Series 6 GPS + Cellular 44 mm Blue Aluminium Case\", \"model_total_tx\": 1, \"avg_model_sell_price\": 48490.0, \"avg_model_original_price\": 52900.0}, {\"Brand Name\": \"APPLE\", \"Model Name\": \"Series 6 GPS + Cellular 44 mm Graphite Stainless Steel Case\", \"model_total_tx\": 1, \"avg_model_sell_price\": 67900.0, \"avg_model_original_price\": 73900.0}, {\"Brand Name\": \"APPLE\", \"Model Name\": \"Series 6 GPS + Cellular 44 mm Red Aluminium Case\", \"model_total_tx\": 1, \"avg_model_sell_price\": 48490.0, \"avg_model_original_price\": 52900.0}, {\"Brand Name\": \"APPLE\", \"Model Name\": \"Series 6 GPS + Cellular 44 mm Silver Aluminium Case\", \"model_total_tx\": 1, \"avg_model_sell_price\": 48490.0, \"avg_model_original_price\": 52900.0}, {\"Brand Name\": \"APPLE\", \"Model Name\": \"Series 6 GPS + Cellular 44 mm Silver Stainless Steel Case\", \"model_total_tx\": 1, \"avg_model_sell_price\": 77900.0, \"avg_model_original_price\": 77900.0}, {\"Brand Name\": \"APPLE\", \"Model Name\": \"Series 6 GPS + Cellular 44 mm Space Grey Aluminium Case\", \"model_total_tx\": 1, \"avg_model_sell_price\": 48490.0, \"avg_model_original_price\": 52900.0}, {\"Brand Name\": \"APPLE\", \"Model Name\": \"Series 6 GPS 40 mm Blue Aluminium Case\", \"model_total_tx\": 1, \"avg_model_sell_price\": 37490.0, \"avg_model_original_price\": 40900.0}, {\"Brand Name\": \"APPLE\", \"Model Name\": \"Series 6 GPS 40 mm Gold Aluminium Case\", \"model_total_tx\": 1, \"avg_model_sell_price\": 37490.0, \"avg_model_original_price\": 40900.0}, {\"Brand Name\": \"APPLE\", \"Model Name\": \"Series 6 GPS 40 mm Silver Aluminium Case\", \"model_total_tx\": 1, \"avg_model_sell_price\": 37490.0, \"avg_model_original_price\": 40900.0}, {\"Brand Name\": \"APPLE\", \"Model Name\": \"Series 6 GPS 40 mm Space Grey Aluminium Case\", \"model_total_tx\": 1, \"avg_model_sell_price\": 37490.0, \"avg_model_original_price\": 40900.0}, {\"Brand Name\": \"APPLE\", \"Model Name\": \"Series 6 GPS 44 mm Blue Aluminium Case\", \"model_total_tx\": 2, \"avg_model_sell_price\": 43900.0, \"avg_model_original_price\": 43900.0}, {\"Brand Name\": \"APPLE\", \"Model Name\": \"Series 6 GPS 44 mm Red Aluminium Case\", \"model_total_tx\": 1, \"avg_model_sell_price\": 40190.0, \"avg_model_original_price\": 43900.0}, {\"Brand Name\": \"APPLE\", \"Model Name\": \"Series 6 GPS 44 mm Silver Aluminium Case\", \"model_total_tx\": 1, \"avg_model_sell_price\": 43900.0, \"avg_model_original_price\": 43900.0}, {\"Brand Name\": \"APPLE\", \"Model Name\": \"Series 6 GPS 44 mm Space Grey Aluminium Case\", \"model_total_tx\": 1, \"avg_model_sell_price\": 40190.0, \"avg_model_original_price\": 43900.0}, {\"Brand Name\": \"APPLE\", \"Model Name\": \"Series 7 GPS + Cellular 41 mm Aluminium\", \"model_total_tx\": 1, \"avg_model_sell_price\": 50900.0, \"avg_model_original_price\": 50900.0}, {\"Brand Name\": \"APPLE\", \"Model Name\": \"Series 7 GPS + Cellular, 41 mm Stainless Steel\", \"model_total_tx\": 1, \"avg_model_sell_price\": 73900.0, \"avg_model_original_price\": 73900.0}, {\"Brand Name\": \"APPLE\", \"Model Name\": \"Series 7 GPS + Cellular, 45 mm Aluminium\", \"model_total_tx\": 1, \"avg_model_sell_price\": 53900.0, \"avg_model_original_price\": 53900.0}, {\"Brand Name\": \"APPLE\", \"Model Name\": \"Series 7 GPS + Cellular, 45 mm Stainless Steel\", \"model_total_tx\": 2, \"avg_model_sell_price\": 75900.0, \"avg_model_original_price\": 75900.0}, {\"Brand Name\": \"APPLE\", \"Model Name\": \"Series 7 GPS 41 mm Aluminium Case\", \"model_total_tx\": 1, \"avg_model_sell_price\": 41900.0, \"avg_model_original_price\": 41900.0}, {\"Brand Name\": \"APPLE\", \"Model Name\": \"Series 7 GPS 45 mm\", \"model_total_tx\": 1, \"avg_model_sell_price\": 44900.0, \"avg_model_original_price\": 44900.0}, {\"Brand Name\": \"APPLE\", \"Model Name\": \"Sport 42 mm Space Grey Aluminium Case\", \"model_total_tx\": 1, \"avg_model_sell_price\": 29900.0, \"avg_model_original_price\": 29900.0}, {\"Brand Name\": \"APPLE\", \"Model Name\": \"series 2 - 38 mm Stainless Steel Case\", \"model_total_tx\": 1, \"avg_model_sell_price\": 64900.0, \"avg_model_original_price\": 64900.0}, {\"Brand Name\": \"Crossbeats\", \"Model Name\": \"Ace\", \"model_total_tx\": 1, \"avg_model_sell_price\": 2999.0, \"avg_model_original_price\": 9999.0}, {\"Brand Name\": \"Crossbeats\", \"Model Name\": \"Ignite  \", \"model_total_tx\": 1, \"avg_model_sell_price\": 2799.0, \"avg_model_original_price\": 7999.0}, {\"Brand Name\": \"Crossbeats\", \"Model Name\": \"Ignite Pro\", \"model_total_tx\": 1, \"avg_model_sell_price\": 2999.0, \"avg_model_original_price\": 9999.0}, {\"Brand Name\": \"Crossbeats\", \"Model Name\": \"Ignite S3\", \"model_total_tx\": 1, \"avg_model_sell_price\": 3999.0, \"avg_model_original_price\": 9999.0}, {\"Brand Name\": \"Crossbeats\", \"Model Name\": \"Orbit \", \"model_total_tx\": 1, \"avg_model_sell_price\": 3799.0, \"avg_model_original_price\": 9999.0}, {\"Brand Name\": \"Crossbeats\", \"Model Name\": \"Orbit - Special Edition\", \"model_total_tx\": 1, \"avg_model_sell_price\": 4190.0, \"avg_model_original_price\": 9999.0}, {\"Brand Name\": \"Crossbeats\", \"Model Name\": \"Orbit Sport\", \"model_total_tx\": 1, \"avg_model_sell_price\": 3799.0, \"avg_model_original_price\": 9999.0}, {\"Brand Name\": \"Crossbeats\", \"Model Name\": \"Trak\", \"model_total_tx\": 1, \"avg_model_sell_price\": 3999.0, \"avg_model_original_price\": 9999.0}, {\"Brand Name\": \"FOSSIL \", \"Model Name\": \"4th Gen Explorist HR\", \"model_total_tx\": 1, \"avg_model_sell_price\": 10998.0, \"avg_model_original_price\": 21995.0}, {\"Brand Name\": \"FOSSIL \", \"Model Name\": \"4th Gen Venture HR\", \"model_total_tx\": 3, \"avg_model_sell_price\": 13929.333333333334, \"avg_model_original_price\": 21995.0}, {\"Brand Name\": \"FOSSIL \", \"Model Name\": \"5th Gen Julianna\", \"model_total_tx\": 1, \"avg_model_sell_price\": 15995.0, \"avg_model_original_price\": 22995.0}, {\"Brand Name\": \"FOSSIL \", \"Model Name\": \"Barstow Hybrid\", \"model_total_tx\": 1, \"avg_model_sell_price\": 8995.0, \"avg_model_original_price\": 11995.0}, {\"Brand Name\": \"FOSSIL \", \"Model Name\": \"Cameron Hybrid\", \"model_total_tx\": 1, \"avg_model_sell_price\": 8995.0, \"avg_model_original_price\": 13495.0}, {\"Brand Name\": \"FOSSIL \", \"Model Name\": \"Cameron Hybrid Smartwatch\", \"model_total_tx\": 1, \"avg_model_sell_price\": 13495.0, \"avg_model_original_price\": 13495.0}, {\"Brand Name\": \"FOSSIL \", \"Model Name\": \"Carlie\", \"model_total_tx\": 1, \"avg_model_sell_price\": 11995.0, \"avg_model_original_price\": 11995.0}, {\"Brand Name\": \"FOSSIL \", \"Model Name\": \"Carlie Hybrid\", \"model_total_tx\": 3, \"avg_model_sell_price\": 9828.333333333334, \"avg_model_original_price\": 12995.0}, {\"Brand Name\": \"FOSSIL \", \"Model Name\": \"Charter Hybrid HR\", \"model_total_tx\": 3, \"avg_model_sell_price\": 13204.333333333334, \"avg_model_original_price\": 15995.0}, {\"Brand Name\": \"FOSSIL \", \"Model Name\": \"Collider Hybrid\", \"model_total_tx\": 2, \"avg_model_sell_price\": 15745.0, \"avg_model_original_price\": 15745.0}, {\"Brand Name\": \"FOSSIL \", \"Model Name\": \"Commuter\", \"model_total_tx\": 1, \"avg_model_sell_price\": 11995.0, \"avg_model_original_price\": 11995.0}, {\"Brand Name\": \"FOSSIL \", \"Model Name\": \"Commuter Hybrid\", \"model_total_tx\": 1, \"avg_model_sell_price\": 8995.0, \"avg_model_original_price\": 11995.0}, {\"Brand Name\": \"FOSSIL \", \"Model Name\": \"Eleanor Hybrid\", \"model_total_tx\": 1, \"avg_model_sell_price\": 6995.0, \"avg_model_original_price\": 11995.0}, {\"Brand Name\": \"FOSSIL \", \"Model Name\": \"FB-01 Hybrid\", \"model_total_tx\": 1, \"avg_model_sell_price\": 8995.0, \"avg_model_original_price\": 13495.0}, {\"Brand Name\": \"FOSSIL \", \"Model Name\": \"FB-01 Hybrid HR\", \"model_total_tx\": 2, \"avg_model_sell_price\": 13208.5, \"avg_model_original_price\": 15745.0}, {\"Brand Name\": \"FOSSIL \", \"Model Name\": \"FTW1134 Q Hybrid\", \"model_total_tx\": 1, \"avg_model_sell_price\": 11995.0, \"avg_model_original_price\": 11995.0}, {\"Brand Name\": \"FOSSIL \", \"Model Name\": \"FTW1136 Q Hybrid\", \"model_total_tx\": 1, \"avg_model_sell_price\": 11995.0, \"avg_model_original_price\": 11995.0}, {\"Brand Name\": \"FOSSIL \", \"Model Name\": \"FTW1140 Q Hybrid\", \"model_total_tx\": 1, \"avg_model_sell_price\": 6995.0, \"avg_model_original_price\": 13995.0}, {\"Brand Name\": \"FOSSIL \", \"Model Name\": \"FTW1141 Q Hybrid\", \"model_total_tx\": 1, \"avg_model_sell_price\": 6995.0, \"avg_model_original_price\": 11995.0}, {\"Brand Name\": \"FOSSIL \", \"Model Name\": \"FTW1142 Q Hybrid\", \"model_total_tx\": 1, \"avg_model_sell_price\": 9796.0, \"avg_model_original_price\": 13995.0}, {\"Brand Name\": \"FOSSIL \", \"Model Name\": \"FTW1144 Q Hybrid\", \"model_total_tx\": 1, \"avg_model_sell_price\": 8995.0, \"avg_model_original_price\": 13995.0}, {\"Brand Name\": \"FOSSIL \", \"Model Name\": \"FTW1145 Q Hybrid\", \"model_total_tx\": 1, \"avg_model_sell_price\": 6995.0, \"avg_model_original_price\": 13995.0}, {\"Brand Name\": \"FOSSIL \", \"Model Name\": \"FTW1146 Q Hybrid\", \"model_total_tx\": 1, \"avg_model_sell_price\": 11995.0, \"avg_model_original_price\": 11995.0}, {\"Brand Name\": \"FOSSIL \", \"Model Name\": \"FTW1151 Hybrid\", \"model_total_tx\": 1, \"avg_model_sell_price\": 8995.0, \"avg_model_original_price\": 11995.0}, {\"Brand Name\": \"FOSSIL \", \"Model Name\": \"FTW1154 Hybrid\", \"model_total_tx\": 1, \"avg_model_sell_price\": 8995.0, \"avg_model_original_price\": 12995.0}, {\"Brand Name\": \"FOSSIL \", \"Model Name\": \"FTW1159 Hybrid\", \"model_total_tx\": 1, \"avg_model_sell_price\": 8995.0, \"avg_model_original_price\": 12995.0}, {\"Brand Name\": \"FOSSIL \", \"Model Name\": \"FTW1161 Hybrid\", \"model_total_tx\": 1, \"avg_model_sell_price\": 8995.0, \"avg_model_original_price\": 14495.0}, {\"Brand Name\": \"FOSSIL \", \"Model Name\": \"FTW20013 Q\", \"model_total_tx\": 1, \"avg_model_sell_price\": 21495.0, \"avg_model_original_price\": 21495.0}, {\"Brand Name\": \"FOSSIL \", \"Model Name\": \"FTW2114 Q\", \"model_total_tx\": 1, \"avg_model_sell_price\": 18995.0, \"avg_model_original_price\": 18995.0}, {\"Brand Name\": \"FOSSIL \", \"Model Name\": \"FTW2115 Q Watch\", \"model_total_tx\": 1, \"avg_model_sell_price\": 18995.0, \"avg_model_original_price\": 18995.0}, {\"Brand Name\": \"FOSSIL \", \"Model Name\": \"FTW2120SET Q\", \"model_total_tx\": 1, \"avg_model_sell_price\": 23995.0, \"avg_model_original_price\": 23995.0}, {\"Brand Name\": \"FOSSIL \", \"Model Name\": \"FTW4003\", \"model_total_tx\": 1, \"avg_model_sell_price\": 19995.0, \"avg_model_original_price\": 19995.0}, {\"Brand Name\": \"FOSSIL \", \"Model Name\": \"FTW4010 Gold HR\", \"model_total_tx\": 1, \"avg_model_sell_price\": 15995.0, \"avg_model_original_price\": 15995.0}, {\"Brand Name\": \"FOSSIL \", \"Model Name\": \"FTW5003 Hybrid\", \"model_total_tx\": 1, \"avg_model_sell_price\": 12995.0, \"avg_model_original_price\": 12995.0}, {\"Brand Name\": \"FOSSIL \", \"Model Name\": \"FTW5011 Hybrid\", \"model_total_tx\": 1, \"avg_model_sell_price\": 8995.0, \"avg_model_original_price\": 14495.0}, {\"Brand Name\": \"FOSSIL \", \"Model Name\": \"FTW5012 Hybrid\", \"model_total_tx\": 1, \"avg_model_sell_price\": 9097.0, \"avg_model_original_price\": 12995.0}, {\"Brand Name\": \"FOSSIL \", \"Model Name\": \"FTW5015 Hybrid\", \"model_total_tx\": 1, \"avg_model_sell_price\": 6995.0, \"avg_model_original_price\": 14495.0}, {\"Brand Name\": \"FOSSIL \", \"Model Name\": \"FTW5016 Hybrid\", \"model_total_tx\": 1, \"avg_model_sell_price\": 6995.0, \"avg_model_original_price\": 14495.0}, {\"Brand Name\": \"FOSSIL \", \"Model Name\": \"FTW5017 Hybrid\", \"model_total_tx\": 1, \"avg_model_sell_price\": 14495.0, \"avg_model_original_price\": 14495.0}, {\"Brand Name\": \"FOSSIL \", \"Model Name\": \"FTW5018 Hybrid\", \"model_total_tx\": 1, \"avg_model_sell_price\": 11596.0, \"avg_model_original_price\": 14495.0}, {\"Brand Name\": \"FOSSIL \", \"Model Name\": \"FTW6001\", \"model_total_tx\": 1, \"avg_model_sell_price\": 21995.0, \"avg_model_original_price\": 21995.0}, {\"Brand Name\": \"FOSSIL \", \"Model Name\": \"FTW6005\", \"model_total_tx\": 1, \"avg_model_sell_price\": 19995.0, \"avg_model_original_price\": 19995.0}, {\"Brand Name\": \"FOSSIL \", \"Model Name\": \"FTW6006 Gold HR\", \"model_total_tx\": 1, \"avg_model_sell_price\": 21995.0, \"avg_model_original_price\": 21995.0}, {\"Brand Name\": \"FOSSIL \", \"Model Name\": \"FTW6007\", \"model_total_tx\": 1, \"avg_model_sell_price\": 19995.0, \"avg_model_original_price\": 19995.0}, {\"Brand Name\": \"FOSSIL \", \"Model Name\": \"FTW6009 Black HR\", \"model_total_tx\": 1, \"avg_model_sell_price\": 13995.0, \"avg_model_original_price\": 13995.0}, {\"Brand Name\": \"FOSSIL \", \"Model Name\": \"FTW6010 Pink HR\", \"model_total_tx\": 1, \"avg_model_sell_price\": 15995.0, \"avg_model_original_price\": 15995.0}, {\"Brand Name\": \"FOSSIL \", \"Model Name\": \"Garrett\", \"model_total_tx\": 1, \"avg_model_sell_price\": 8995.0, \"avg_model_original_price\": 11995.0}, {\"Brand Name\": \"FOSSIL \", \"Model Name\": \"Garrett HR\", \"model_total_tx\": 2, \"avg_model_sell_price\": 15495.0, \"avg_model_original_price\": 22995.0}, {\"Brand Name\": \"FOSSIL \", \"Model Name\": \"Garrett Hybrid\", \"model_total_tx\": 3, \"avg_model_sell_price\": 9828.666666666666, \"avg_model_original_price\": 12995.0}, {\"Brand Name\": \"FOSSIL \", \"Model Name\": \"Gen 3 Q Explorist\", \"model_total_tx\": 4, \"avg_model_sell_price\": 14194.25, \"avg_model_original_price\": 19254.75}, {\"Brand Name\": \"FOSSIL \", \"Model Name\": \"Gen 3 Q Venture\", \"model_total_tx\": 2, \"avg_model_sell_price\": 17695.5, \"avg_model_original_price\": 20995.0}, {\"Brand Name\": \"FOSSIL \", \"Model Name\": \"Gen 5 Carlyle HR\", \"model_total_tx\": 2, \"avg_model_sell_price\": 15495.0, \"avg_model_original_price\": 22995.0}, {\"Brand Name\": \"FOSSIL \", \"Model Name\": \"Gen 5 Garrett HR\", \"model_total_tx\": 2, \"avg_model_sell_price\": 15495.0, \"avg_model_original_price\": 22995.0}, {\"Brand Name\": \"FOSSIL \", \"Model Name\": \"Gen 5 Julianna HR\", \"model_total_tx\": 6, \"avg_model_sell_price\": 17161.666666666668, \"avg_model_original_price\": 21495.0}, {\"Brand Name\": \"FOSSIL \", \"Model Name\": \"Gen 5E\", \"model_total_tx\": 3, \"avg_model_sell_price\": 18495.0, \"avg_model_original_price\": 18495.0}, {\"Brand Name\": \"FOSSIL \", \"Model Name\": \"Jacqueline\", \"model_total_tx\": 1, \"avg_model_sell_price\": 13495.0, \"avg_model_original_price\": 13495.0}, {\"Brand Name\": \"FOSSIL \", \"Model Name\": \"Jacqueline Hybrid\", \"model_total_tx\": 5, \"avg_model_sell_price\": 10455.2, \"avg_model_original_price\": 12895.0}, {\"Brand Name\": \"FOSSIL \", \"Model Name\": \"Latitude Hybrid HR\", \"model_total_tx\": 2, \"avg_model_sell_price\": 12796.0, \"avg_model_original_price\": 15745.0}, {\"Brand Name\": \"FOSSIL \", \"Model Name\": \"Machine Hybrid\", \"model_total_tx\": 1, \"avg_model_sell_price\": 11995.0, \"avg_model_original_price\": 11995.0}, {\"Brand Name\": \"FOSSIL \", \"Model Name\": \"Marshall\", \"model_total_tx\": 4, \"avg_model_sell_price\": 19495.0, \"avg_model_original_price\": 19495.0}, {\"Brand Name\": \"FOSSIL \", \"Model Name\": \"Neely\", \"model_total_tx\": 1, \"avg_model_sell_price\": 8995.0, \"avg_model_original_price\": 13495.0}, {\"Brand Name\": \"FOSSIL \", \"Model Name\": \"Neutra Hybrid\", \"model_total_tx\": 2, \"avg_model_sell_price\": 12745.0, \"avg_model_original_price\": 12745.0}, {\"Brand Name\": \"FOSSIL \", \"Model Name\": \"Q ACTIVIST\", \"model_total_tx\": 1, \"avg_model_sell_price\": 6995.0, \"avg_model_original_price\": 6995.0}, {\"Brand Name\": \"FOSSIL \", \"Model Name\": \"Q Annette\", \"model_total_tx\": 2, \"avg_model_sell_price\": 6995.0, \"avg_model_original_price\": 12745.0}, {\"Brand Name\": \"FOSSIL \", \"Model Name\": \"Q Control\", \"model_total_tx\": 2, \"avg_model_sell_price\": 15995.0, \"avg_model_original_price\": 15995.0}, {\"Brand Name\": \"FOSSIL \", \"Model Name\": \"Q Explorist\", \"model_total_tx\": 1, \"avg_model_sell_price\": 19995.0, \"avg_model_original_price\": 19995.0}, {\"Brand Name\": \"FOSSIL \", \"Model Name\": \"Q Founder\", \"model_total_tx\": 1, \"avg_model_sell_price\": 19995.0, \"avg_model_original_price\": 19995.0}, {\"Brand Name\": \"FOSSIL \", \"Model Name\": \"Q Founder 2.0\", \"model_total_tx\": 2, \"avg_model_sell_price\": 15696.0, \"avg_model_original_price\": 19495.0}, {\"Brand Name\": \"FOSSIL \", \"Model Name\": \"Q GRANT\", \"model_total_tx\": 2, \"avg_model_sell_price\": 6995.0, \"avg_model_original_price\": 6995.0}, {\"Brand Name\": \"FOSSIL \", \"Model Name\": \"Q Jacqueline\", \"model_total_tx\": 2, \"avg_model_sell_price\": 11245.0, \"avg_model_original_price\": 13495.0}, {\"Brand Name\": \"FOSSIL \", \"Model Name\": \"Q MACHINE\", \"model_total_tx\": 1, \"avg_model_sell_price\": 6995.0, \"avg_model_original_price\": 6995.0}, {\"Brand Name\": \"FOSSIL \", \"Model Name\": \"Q Machine\", \"model_total_tx\": 1, \"avg_model_sell_price\": 10796.0, \"avg_model_original_price\": 13495.0}, {\"Brand Name\": \"FOSSIL \", \"Model Name\": \"Q Neely\", \"model_total_tx\": 1, \"avg_model_sell_price\": 6995.0, \"avg_model_original_price\": 12995.0}, {\"Brand Name\": \"FOSSIL \", \"Model Name\": \"Q Venture\", \"model_total_tx\": 3, \"avg_model_sell_price\": 13464.333333333334, \"avg_model_original_price\": 19995.0}, {\"Brand Name\": \"FOSSIL \", \"Model Name\": \"Q Wander\", \"model_total_tx\": 3, \"avg_model_sell_price\": 11930.333333333334, \"avg_model_original_price\": 19661.666666666668}, {\"Brand Name\": \"FOSSIL \", \"Model Name\": \"Rose Gold HR\", \"model_total_tx\": 1, \"avg_model_sell_price\": 21995.0, \"avg_model_original_price\": 21995.0}, {\"Brand Name\": \"FOSSIL \", \"Model Name\": \"Rose Gold Smart\", \"model_total_tx\": 1, \"avg_model_sell_price\": 21995.0, \"avg_model_original_price\": 21995.0}, {\"Brand Name\": \"FOSSIL \", \"Model Name\": \"Sadie Hybrid\", \"model_total_tx\": 1, \"avg_model_sell_price\": 8995.0, \"avg_model_original_price\": 13495.0}, {\"Brand Name\": \"FOSSIL \", \"Model Name\": \"Sloan HR\", \"model_total_tx\": 3, \"avg_model_sell_price\": 22828.333333333332, \"avg_model_original_price\": 22828.333333333332}, {\"Brand Name\": \"FOSSIL \", \"Model Name\": \"Sport\", \"model_total_tx\": 4, \"avg_model_sell_price\": 17995.0, \"avg_model_original_price\": 17995.0}, {\"Brand Name\": \"FOSSIL \", \"Model Name\": \"Sport 41\", \"model_total_tx\": 2, \"avg_model_sell_price\": 13995.0, \"avg_model_original_price\": 17995.0}, {\"Brand Name\": \"FOSSIL \", \"Model Name\": \"Sport 43\", \"model_total_tx\": 2, \"avg_model_sell_price\": 9995.0, \"avg_model_original_price\": 17995.0}, {\"Brand Name\": \"FOSSIL \", \"Model Name\": \"The Carlyle HR\", \"model_total_tx\": 1, \"avg_model_sell_price\": 25995.0, \"avg_model_original_price\": 25995.0}, {\"Brand Name\": \"FOSSIL \", \"Model Name\": \"Wander RG\", \"model_total_tx\": 1, \"avg_model_sell_price\": 18995.0, \"avg_model_original_price\": 18995.0}, {\"Brand Name\": \"Fastrack\", \"Model Name\": \"Reflex 2.0\", \"model_total_tx\": 1, \"avg_model_sell_price\": 1395.0, \"avg_model_original_price\": 1995.0}, {\"Brand Name\": \"Fastrack\", \"Model Name\": \"Reflex 3.0\", \"model_total_tx\": 2, \"avg_model_sell_price\": 2347.5, \"avg_model_original_price\": 2995.0}, {\"Brand Name\": \"Fastrack\", \"Model Name\": \"Reflex Beat\", \"model_total_tx\": 1, \"avg_model_sell_price\": 1645.0, \"avg_model_original_price\": 2195.0}, {\"Brand Name\": \"Fastrack\", \"Model Name\": \"Reflex Smart Band\", \"model_total_tx\": 2, \"avg_model_sell_price\": 1395.0, \"avg_model_original_price\": 1995.0}, {\"Brand Name\": \"Fire-Boltt\", \"Model Name\": \"AI-BT Calling\", \"model_total_tx\": 1, \"avg_model_sell_price\": 4499.0, \"avg_model_original_price\": 9999.0}, {\"Brand Name\": \"Fire-Boltt\", \"Model Name\": \"Almighty\", \"model_total_tx\": 1, \"avg_model_sell_price\": 4999.0, \"avg_model_original_price\": 14999.0}, {\"Brand Name\": \"Fire-Boltt\", \"Model Name\": \"BSW004\", \"model_total_tx\": 1, \"avg_model_sell_price\": 4800.0, \"avg_model_original_price\": 9999.0}, {\"Brand Name\": \"Fire-Boltt\", \"Model Name\": \"Max\", \"model_total_tx\": 1, \"avg_model_sell_price\": 4499.0, \"avg_model_original_price\": 12999.0}, {\"Brand Name\": \"Fire-Boltt\", \"Model Name\": \"Mercury\", \"model_total_tx\": 2, \"avg_model_sell_price\": 2749.0, \"avg_model_original_price\": 7999.0}, {\"Brand Name\": \"Fire-Boltt\", \"Model Name\": \"Ninja Pro\", \"model_total_tx\": 2, \"avg_model_sell_price\": 1999.0, \"avg_model_original_price\": 4999.0}, {\"Brand Name\": \"Fire-Boltt\", \"Model Name\": \"Ninja touch to Wake\", \"model_total_tx\": 1, \"avg_model_sell_price\": 1899.0, \"avg_model_original_price\": 4999.0}, {\"Brand Name\": \"Fire-Boltt\", \"Model Name\": \"SpO2 Full Touch\", \"model_total_tx\": 1, \"avg_model_sell_price\": 2999.0, \"avg_model_original_price\": 5999.0}, {\"Brand Name\": \"Fire-Boltt\", \"Model Name\": \"Spin\", \"model_total_tx\": 2, \"avg_model_sell_price\": 5846.0, \"avg_model_original_price\": 5999.0}, {\"Brand Name\": \"Fire-Boltt\", \"Model Name\": \"Talk Bluetooth\", \"model_total_tx\": 1, \"avg_model_sell_price\": 3499.0, \"avg_model_original_price\": 9999.0}, {\"Brand Name\": \"Fire-Boltt\", \"Model Name\": \"Ultron\", \"model_total_tx\": 1, \"avg_model_sell_price\": 3999.0, \"avg_model_original_price\": 10999.0}, {\"Brand Name\": \"FitBit\", \"Model Name\": \"Alta\", \"model_total_tx\": 1, \"avg_model_sell_price\": 12999.0, \"avg_model_original_price\": 12999.0}, {\"Brand Name\": \"FitBit\", \"Model Name\": \"Alta HR\", \"model_total_tx\": 2, \"avg_model_sell_price\": 15999.0, \"avg_model_original_price\": 15999.0}, {\"Brand Name\": \"FitBit\", \"Model Name\": \"Blaze\", \"model_total_tx\": 3, \"avg_model_sell_price\": 20332.333333333332, \"avg_model_original_price\": 20999.0}, {\"Brand Name\": \"FitBit\", \"Model Name\": \"Charge 2\", \"model_total_tx\": 8, \"avg_model_sell_price\": 11436.375, \"avg_model_original_price\": 14999.0}, {\"Brand Name\": \"FitBit\", \"Model Name\": \"Charge 3\", \"model_total_tx\": 2, \"avg_model_sell_price\": 8799.0, \"avg_model_original_price\": 13999.0}, {\"Brand Name\": \"FitBit\", \"Model Name\": \"Charge 3 Special Edition\", \"model_total_tx\": 1, \"avg_model_sell_price\": 9999.0, \"avg_model_original_price\": 15999.0}, {\"Brand Name\": \"FitBit\", \"Model Name\": \"Charge 4\", \"model_total_tx\": 2, \"avg_model_sell_price\": 10499.0, \"avg_model_original_price\": 10999.0}, {\"Brand Name\": \"FitBit\", \"Model Name\": \"Charge HR\", \"model_total_tx\": 2, \"avg_model_sell_price\": 10990.0, \"avg_model_original_price\": 14990.0}, {\"Brand Name\": \"FitBit\", \"Model Name\": \"FB413LVLV\", \"model_total_tx\": 1, \"avg_model_sell_price\": 8807.0, \"avg_model_original_price\": 38500.0}, {\"Brand Name\": \"FitBit\", \"Model Name\": \"Flex Small\", \"model_total_tx\": 1, \"avg_model_sell_price\": 8490.0, \"avg_model_original_price\": 8490.0}, {\"Brand Name\": \"FitBit\", \"Model Name\": \"Inspire\", \"model_total_tx\": 2, \"avg_model_sell_price\": 6644.5, \"avg_model_original_price\": 7999.0}, {\"Brand Name\": \"FitBit\", \"Model Name\": \"Inspire 2\", \"model_total_tx\": 1, \"avg_model_sell_price\": 6999.0, \"avg_model_original_price\": 7999.0}, {\"Brand Name\": \"FitBit\", \"Model Name\": \"Inspire HR\", \"model_total_tx\": 3, \"avg_model_sell_price\": 5698.666666666667, \"avg_model_original_price\": 9665.666666666666}, {\"Brand Name\": \"FitBit\", \"Model Name\": \"Ionic\", \"model_total_tx\": 3, \"avg_model_sell_price\": 22665.666666666668, \"avg_model_original_price\": 25499.0}, {\"Brand Name\": \"FitBit\", \"Model Name\": \"Lunar\", \"model_total_tx\": 1, \"avg_model_sell_price\": 10899.0, \"avg_model_original_price\": 10999.0}, {\"Brand Name\": \"FitBit\", \"Model Name\": \"Sense\", \"model_total_tx\": 1, \"avg_model_sell_price\": 21499.0, \"avg_model_original_price\": 22999.0}, {\"Brand Name\": \"FitBit\", \"Model Name\": \"Surge\", \"model_total_tx\": 4, \"avg_model_sell_price\": 19992.25, \"avg_model_original_price\": 22490.0}, {\"Brand Name\": \"FitBit\", \"Model Name\": \"Versa\", \"model_total_tx\": 4, \"avg_model_sell_price\": 17899.75, \"avg_model_original_price\": 21624.0}, {\"Brand Name\": \"FitBit\", \"Model Name\": \"Versa 2\", \"model_total_tx\": 2, \"avg_model_sell_price\": 12749.0, \"avg_model_original_price\": 18499.0}, {\"Brand Name\": \"FitBit\", \"Model Name\": \"Versa 2 Special Edition\", \"model_total_tx\": 1, \"avg_model_sell_price\": 15499.0, \"avg_model_original_price\": 23999.0}, {\"Brand Name\": \"FitBit\", \"Model Name\": \"Versa 3\", \"model_total_tx\": 2, \"avg_model_sell_price\": 17999.0, \"avg_model_original_price\": 18999.0}, {\"Brand Name\": \"FitBit\", \"Model Name\": \"Versa Lite Edition\", \"model_total_tx\": 2, \"avg_model_sell_price\": 15699.0, \"avg_model_original_price\": 16499.0}, {\"Brand Name\": \"FitBit\", \"Model Name\": \"Versa Special Edition\", \"model_total_tx\": 1, \"avg_model_sell_price\": 10365.0, \"avg_model_original_price\": 23499.0}, {\"Brand Name\": \"FitBit\", \"Model Name\": \"versa\", \"model_total_tx\": 1, \"avg_model_sell_price\": 21499.0, \"avg_model_original_price\": 21499.0}, {\"Brand Name\": \"GARMIN \", \"Model Name\": \"Approach S12\", \"model_total_tx\": 1, \"avg_model_sell_price\": 18990.0, \"avg_model_original_price\": 20990.0}, {\"Brand Name\": \"GARMIN \", \"Model Name\": \"Approach S20\", \"model_total_tx\": 1, \"avg_model_sell_price\": 15990.0, \"avg_model_original_price\": 19990.0}, {\"Brand Name\": \"GARMIN \", \"Model Name\": \"Approach S62\", \"model_total_tx\": 1, \"avg_model_sell_price\": 46990.0, \"avg_model_original_price\": 51990.0}, {\"Brand Name\": \"GARMIN \", \"Model Name\": \"FORERUNNER 745 Magma Red\", \"model_total_tx\": 1, \"avg_model_sell_price\": 46990.0, \"avg_model_original_price\": 51990.0}, {\"Brand Name\": \"GARMIN \", \"Model Name\": \"FORRUNNER 235\", \"model_total_tx\": 1, \"avg_model_sell_price\": 22990.0, \"avg_model_original_price\": 22990.0}, {\"Brand Name\": \"GARMIN \", \"Model Name\": \"Fenix\", \"model_total_tx\": 1, \"avg_model_sell_price\": 54990.0, \"avg_model_original_price\": 54990.0}, {\"Brand Name\": \"GARMIN \", \"Model Name\": \"Fenix 5\", \"model_total_tx\": 1, \"avg_model_sell_price\": 47990.0, \"avg_model_original_price\": 52990.0}, {\"Brand Name\": \"GARMIN \", \"Model Name\": \"Fenix 5S Frost Blue\", \"model_total_tx\": 1, \"avg_model_sell_price\": 39990.0, \"avg_model_original_price\": 53190.0}, {\"Brand Name\": \"GARMIN \", \"Model Name\": \"Fenix 5S Plus\", \"model_total_tx\": 1, \"avg_model_sell_price\": 49990.0, \"avg_model_original_price\": 53190.0}, {\"Brand Name\": \"GARMIN \", \"Model Name\": \"Fenix 5X\", \"model_total_tx\": 1, \"avg_model_sell_price\": 58490.0, \"avg_model_original_price\": 58490.0}, {\"Brand Name\": \"GARMIN \", \"Model Name\": \"Fenix 5X Plus\", \"model_total_tx\": 1, \"avg_model_sell_price\": 59990.0, \"avg_model_original_price\": 79990.0}, {\"Brand Name\": \"GARMIN \", \"Model Name\": \"Fenix 5s\", \"model_total_tx\": 2, \"avg_model_sell_price\": 44990.0, \"avg_model_original_price\": 52490.0}, {\"Brand Name\": \"GARMIN \", \"Model Name\": \"Fenix 6\", \"model_total_tx\": 3, \"avg_model_sell_price\": 76656.66666666667, \"avg_model_original_price\": 85456.66666666667}, {\"Brand Name\": \"GARMIN \", \"Model Name\": \"Fenix 6 Pro Solar\", \"model_total_tx\": 2, \"avg_model_sell_price\": 78740.0, \"avg_model_original_price\": 88490.0}, {\"Brand Name\": \"GARMIN \", \"Model Name\": \"Fenix 6 Sapphire Gray DLC\", \"model_total_tx\": 1, \"avg_model_sell_price\": 74990.0, \"avg_model_original_price\": 82990.0}, {\"Brand Name\": \"GARMIN \", \"Model Name\": \"Fenix 6 Sapphire Titanium\", \"model_total_tx\": 1, \"avg_model_sell_price\": 81990.0, \"avg_model_original_price\": 96690.0}, {\"Brand Name\": \"GARMIN \", \"Model Name\": \"Fenix 6S\", \"model_total_tx\": 2, \"avg_model_sell_price\": 74490.0, \"avg_model_original_price\": 85390.0}, {\"Brand Name\": \"GARMIN \", \"Model Name\": \"Fenix 6X\", \"model_total_tx\": 2, \"avg_model_sell_price\": 83490.0, \"avg_model_original_price\": 92440.0}, {\"Brand Name\": \"GARMIN \", \"Model Name\": \"Fenix 6X Solar\", \"model_total_tx\": 1, \"avg_model_sell_price\": 105990.0, \"avg_model_original_price\": 119490.0}, {\"Brand Name\": \"GARMIN \", \"Model Name\": \"Forerunner\", \"model_total_tx\": 4, \"avg_model_sell_price\": 29990.0, \"avg_model_original_price\": 29990.0}, {\"Brand Name\": \"GARMIN \", \"Model Name\": \"Forerunner 235\", \"model_total_tx\": 3, \"avg_model_sell_price\": 21993.0, \"avg_model_original_price\": 27325.666666666668}, {\"Brand Name\": \"GARMIN \", \"Model Name\": \"Forerunner 235 Activity Tracker\", \"model_total_tx\": 1, \"avg_model_sell_price\": 22990.0, \"avg_model_original_price\": 22990.0}, {\"Brand Name\": \"GARMIN \", \"Model Name\": \"Forerunner 245\", \"model_total_tx\": 1, \"avg_model_sell_price\": 24990.0, \"avg_model_original_price\": 31490.0}, {\"Brand Name\": \"GARMIN \", \"Model Name\": \"Forerunner 245 Music\", \"model_total_tx\": 2, \"avg_model_sell_price\": 31745.0, \"avg_model_original_price\": 35740.0}, {\"Brand Name\": \"GARMIN \", \"Model Name\": \"Forerunner 245 Music Japan Edition\", \"model_total_tx\": 1, \"avg_model_sell_price\": 29990.0, \"avg_model_original_price\": 36490.0}, {\"Brand Name\": \"GARMIN \", \"Model Name\": \"Forerunner 35\", \"model_total_tx\": 1, \"avg_model_sell_price\": 16990.0, \"avg_model_original_price\": 16990.0}, {\"Brand Name\": \"GARMIN \", \"Model Name\": \"Forerunner 45\", \"model_total_tx\": 1, \"avg_model_sell_price\": 14990.0, \"avg_model_original_price\": 20990.0}, {\"Brand Name\": \"GARMIN \", \"Model Name\": \"Forerunner 55\", \"model_total_tx\": 2, \"avg_model_sell_price\": 20990.0, \"avg_model_original_price\": 20990.0}, {\"Brand Name\": \"GARMIN \", \"Model Name\": \"Forerunner 735XT\", \"model_total_tx\": 1, \"avg_model_sell_price\": 39990.0, \"avg_model_original_price\": 39990.0}, {\"Brand Name\": \"GARMIN \", \"Model Name\": \"Forerunner 745 Black\", \"model_total_tx\": 1, \"avg_model_sell_price\": 46990.0, \"avg_model_original_price\": 51990.0}, {\"Brand Name\": \"GARMIN \", \"Model Name\": \"Forerunner 745 Whitestone\", \"model_total_tx\": 1, \"avg_model_sell_price\": 46990.0, \"avg_model_original_price\": 51990.0}, {\"Brand Name\": \"GARMIN \", \"Model Name\": \"Forerunner 935\", \"model_total_tx\": 3, \"avg_model_sell_price\": 38907.333333333336, \"avg_model_original_price\": 46923.333333333336}, {\"Brand Name\": \"GARMIN \", \"Model Name\": \"Forerunner 945\", \"model_total_tx\": 1, \"avg_model_sell_price\": 56490.0, \"avg_model_original_price\": 62490.0}, {\"Brand Name\": \"GARMIN \", \"Model Name\": \"Forerunner Fitness Notifier\", \"model_total_tx\": 1, \"avg_model_sell_price\": 15990.0, \"avg_model_original_price\": 16743.0}, {\"Brand Name\": \"GARMIN \", \"Model Name\": \"Forerunner15 Heart\", \"model_total_tx\": 1, \"avg_model_sell_price\": 12999.0, \"avg_model_original_price\": 14499.0}, {\"Brand Name\": \"GARMIN \", \"Model Name\": \"Garmin Instinct HR\", \"model_total_tx\": 2, \"avg_model_sell_price\": 27990.0, \"avg_model_original_price\": 34990.0}, {\"Brand Name\": \"GARMIN \", \"Model Name\": \"Garmin Instinct Solar Tactical\", \"model_total_tx\": 2, \"avg_model_sell_price\": 44990.0, \"avg_model_original_price\": 49740.0}, {\"Brand Name\": \"GARMIN \", \"Model Name\": \"Garmin Instinct Tactical\", \"model_total_tx\": 1, \"avg_model_sell_price\": 19990.0, \"avg_model_original_price\": 31490.0}, {\"Brand Name\": \"GARMIN \", \"Model Name\": \"HR GPS Smart\", \"model_total_tx\": 1, \"avg_model_sell_price\": 15999.0, \"avg_model_original_price\": 20000.0}, {\"Brand Name\": \"GARMIN \", \"Model Name\": \"HRM-Swim\", \"model_total_tx\": 1, \"avg_model_sell_price\": 8990.0, \"avg_model_original_price\": 8990.0}, {\"Brand Name\": \"GARMIN \", \"Model Name\": \"Hybrid\", \"model_total_tx\": 1, \"avg_model_sell_price\": 15911.0, \"avg_model_original_price\": 21335.0}, {\"Brand Name\": \"GARMIN \", \"Model Name\": \"Hybrid 3\", \"model_total_tx\": 1, \"avg_model_sell_price\": 19990.0, \"avg_model_original_price\": 25990.0}, {\"Brand Name\": \"GARMIN \", \"Model Name\": \"Instinct\", \"model_total_tx\": 3, \"avg_model_sell_price\": 21743.0, \"avg_model_original_price\": 27990.0}, {\"Brand Name\": \"GARMIN \", \"Model Name\": \"Instinct Solar Camo Edition\", \"model_total_tx\": 1, \"avg_model_sell_price\": 47490.0, \"avg_model_original_price\": 47490.0}, {\"Brand Name\": \"GARMIN \", \"Model Name\": \"Instinct Solar Tidal\", \"model_total_tx\": 1, \"avg_model_sell_price\": 34990.0, \"avg_model_original_price\": 41490.0}, {\"Brand Name\": \"GARMIN \", \"Model Name\": \"Lily\", \"model_total_tx\": 3, \"avg_model_sell_price\": 20490.0, \"avg_model_original_price\": 22656.666666666668}, {\"Brand Name\": \"GARMIN \", \"Model Name\": \"Rubber 35\", \"model_total_tx\": 1, \"avg_model_sell_price\": 16990.0, \"avg_model_original_price\": 16990.0}, {\"Brand Name\": \"GARMIN \", \"Model Name\": \"Running GPS 935\", \"model_total_tx\": 1, \"avg_model_sell_price\": 42990.0, \"avg_model_original_price\": 42990.0}, {\"Brand Name\": \"GARMIN \", \"Model Name\": \"Swim 2\", \"model_total_tx\": 1, \"avg_model_sell_price\": 20990.0, \"avg_model_original_price\": 26990.0}, {\"Brand Name\": \"GARMIN \", \"Model Name\": \"VIVOACTIVE 4S\", \"model_total_tx\": 1, \"avg_model_sell_price\": 34990.0, \"avg_model_original_price\": 34990.0}, {\"Brand Name\": \"GARMIN \", \"Model Name\": \"VIVOMOVE 3S Navy\", \"model_total_tx\": 1, \"avg_model_sell_price\": 19990.0, \"avg_model_original_price\": 25990.0}, {\"Brand Name\": \"GARMIN \", \"Model Name\": \"VIVOMOVE LUXE\", \"model_total_tx\": 1, \"avg_model_sell_price\": 35990.0, \"avg_model_original_price\": 47490.0}, {\"Brand Name\": \"GARMIN \", \"Model Name\": \"Venu\", \"model_total_tx\": 2, \"avg_model_sell_price\": 32490.0, \"avg_model_original_price\": 39990.0}, {\"Brand Name\": \"GARMIN \", \"Model Name\": \"Venu 2\", \"model_total_tx\": 1, \"avg_model_sell_price\": 41990.0, \"avg_model_original_price\": 41990.0}, {\"Brand Name\": \"GARMIN \", \"Model Name\": \"Venu 2S\", \"model_total_tx\": 1, \"avg_model_sell_price\": 37990.0, \"avg_model_original_price\": 37990.0}, {\"Brand Name\": \"GARMIN \", \"Model Name\": \"Venu Sq\", \"model_total_tx\": 1, \"avg_model_sell_price\": 15990.0, \"avg_model_original_price\": 20990.0}, {\"Brand Name\": \"GARMIN \", \"Model Name\": \"Venu Sq - Music Edition\", \"model_total_tx\": 1, \"avg_model_sell_price\": 20990.0, \"avg_model_original_price\": 25990.0}, {\"Brand Name\": \"GARMIN \", \"Model Name\": \"Vivoactive\", \"model_total_tx\": 1, \"avg_model_sell_price\": 27990.0, \"avg_model_original_price\": 27990.0}, {\"Brand Name\": \"GARMIN \", \"Model Name\": \"Vivoactive 3 Element\", \"model_total_tx\": 1, \"avg_model_sell_price\": 14990.0, \"avg_model_original_price\": 16990.0}, {\"Brand Name\": \"GARMIN \", \"Model Name\": \"Vivoactive 3 Element Cerise\", \"model_total_tx\": 1, \"avg_model_sell_price\": 14990.0, \"avg_model_original_price\": 16990.0}, {\"Brand Name\": \"GARMIN \", \"Model Name\": \"Vivoactive 3 Music\", \"model_total_tx\": 3, \"avg_model_sell_price\": 23374.666666666668, \"avg_model_original_price\": 27756.666666666668}, {\"Brand Name\": \"GARMIN \", \"Model Name\": \"Vivoactive 3 element\", \"model_total_tx\": 3, \"avg_model_sell_price\": 17852.666666666668, \"avg_model_original_price\": 23990.0}, {\"Brand Name\": \"GARMIN \", \"Model Name\": \"Vivoactive 4\", \"model_total_tx\": 2, \"avg_model_sell_price\": 28990.0, \"avg_model_original_price\": 34990.0}, {\"Brand Name\": \"GARMIN \", \"Model Name\": \"Vivoactive HR\", \"model_total_tx\": 1, \"avg_model_sell_price\": 21990.0, \"avg_model_original_price\": 21990.0}, {\"Brand Name\": \"GARMIN \", \"Model Name\": \"Vivomove\", \"model_total_tx\": 1, \"avg_model_sell_price\": 31990.0, \"avg_model_original_price\": 36790.0}, {\"Brand Name\": \"GARMIN \", \"Model Name\": \"Vivomove 3\", \"model_total_tx\": 1, \"avg_model_sell_price\": 19990.0, \"avg_model_original_price\": 25990.0}, {\"Brand Name\": \"GARMIN \", \"Model Name\": \"Vivomove 3S\", \"model_total_tx\": 2, \"avg_model_sell_price\": 19990.0, \"avg_model_original_price\": 25990.0}, {\"Brand Name\": \"GARMIN \", \"Model Name\": \"Vivomove HR\", \"model_total_tx\": 2, \"avg_model_sell_price\": 14990.0, \"avg_model_original_price\": 18990.0}, {\"Brand Name\": \"GARMIN \", \"Model Name\": \"Vivomove Luxe\", \"model_total_tx\": 1, \"avg_model_sell_price\": 39990.0, \"avg_model_original_price\": 52990.0}, {\"Brand Name\": \"GARMIN \", \"Model Name\": \"Vivomove Style\", \"model_total_tx\": 1, \"avg_model_sell_price\": 26990.0, \"avg_model_original_price\": 31490.0}, {\"Brand Name\": \"GARMIN \", \"Model Name\": \"Vivosmart 4\", \"model_total_tx\": 1, \"avg_model_sell_price\": 12150.0, \"avg_model_original_price\": 13490.0}, {\"Brand Name\": \"GARMIN \", \"Model Name\": \"vivoactive 4S 40mm\", \"model_total_tx\": 1, \"avg_model_sell_price\": 28990.0, \"avg_model_original_price\": 34990.0}, {\"Brand Name\": \"GOQii\", \"Model Name\": \"Beat\", \"model_total_tx\": 1, \"avg_model_sell_price\": 2999.0, \"avg_model_original_price\": 2999.0}, {\"Brand Name\": \"GOQii\", \"Model Name\": \"HR\", \"model_total_tx\": 1, \"avg_model_sell_price\": 1999.0, \"avg_model_original_price\": 1999.0}, {\"Brand Name\": \"GOQii\", \"Model Name\": \"Vital\", \"model_total_tx\": 1, \"avg_model_sell_price\": 3499.0, \"avg_model_original_price\": 3499.0}, {\"Brand Name\": \"GOQii\", \"Model Name\": \"Vital 3.0\", \"model_total_tx\": 1, \"avg_model_sell_price\": 3999.0, \"avg_model_original_price\": 3999.0}, {\"Brand Name\": \"Honor\", \"Model Name\": \"Band 3\", \"model_total_tx\": 3, \"avg_model_sell_price\": 3249.3333333333335, \"avg_model_original_price\": 3832.3333333333335}, {\"Brand Name\": \"Honor\", \"Model Name\": \"Band 4\", \"model_total_tx\": 2, \"avg_model_sell_price\": 2649.5, \"avg_model_original_price\": 2999.0}, {\"Brand Name\": \"Honor\", \"Model Name\": \"Band 5\", \"model_total_tx\": 3, \"avg_model_sell_price\": 2399.0, \"avg_model_original_price\": 2999.0}, {\"Brand Name\": \"Honor\", \"Model Name\": \"Band 5i\", \"model_total_tx\": 2, \"avg_model_sell_price\": 2134.0, \"avg_model_original_price\": 2999.0}, {\"Brand Name\": \"Honor\", \"Model Name\": \"Band 6\", \"model_total_tx\": 1, \"avg_model_sell_price\": 2999.0, \"avg_model_original_price\": 5999.0}, {\"Brand Name\": \"Honor\", \"Model Name\": \"Band Z1\", \"model_total_tx\": 1, \"avg_model_sell_price\": 5499.0, \"avg_model_original_price\": 5499.0}, {\"Brand Name\": \"Honor\", \"Model Name\": \"GS Pro\", \"model_total_tx\": 2, \"avg_model_sell_price\": 15999.0, \"avg_model_original_price\": 20999.0}, {\"Brand Name\": \"Honor\", \"Model Name\": \"Magic Watch\", \"model_total_tx\": 1, \"avg_model_sell_price\": 9047.0, \"avg_model_original_price\": 17999.0}, {\"Brand Name\": \"Honor\", \"Model Name\": \"Magic Watch 2\", \"model_total_tx\": 1, \"avg_model_sell_price\": 13999.0, \"avg_model_original_price\": 15999.0}, {\"Brand Name\": \"Honor\", \"Model Name\": \"Watch ES\", \"model_total_tx\": 1, \"avg_model_sell_price\": 4999.0, \"avg_model_original_price\": 10999.0}, {\"Brand Name\": \"Honor\", \"Model Name\": \"Watch Magic\", \"model_total_tx\": 1, \"avg_model_sell_price\": 7999.0, \"avg_model_original_price\": 17999.0}, {\"Brand Name\": \"Honor\", \"Model Name\": \"Z1\", \"model_total_tx\": 1, \"avg_model_sell_price\": 5499.0, \"avg_model_original_price\": 5499.0}, {\"Brand Name\": \"Honor\", \"Model Name\": \"band 4 running\", \"model_total_tx\": 1, \"avg_model_sell_price\": 1649.0, \"avg_model_original_price\": 2000.0}, {\"Brand Name\": \"Huawei\", \"Model Name\": \"Band 2\", \"model_total_tx\": 3, \"avg_model_sell_price\": 4432.333333333333, \"avg_model_original_price\": 5532.333333333333}, {\"Brand Name\": \"Huawei\", \"Model Name\": \"Band 2 Pro Activity\", \"model_total_tx\": 1, \"avg_model_sell_price\": 2199.0, \"avg_model_original_price\": 5999.0}, {\"Brand Name\": \"Huawei\", \"Model Name\": \"Band 4\", \"model_total_tx\": 1, \"avg_model_sell_price\": 1899.0, \"avg_model_original_price\": 3099.0}, {\"Brand Name\": \"Huawei\", \"Model Name\": \"Band 6\", \"model_total_tx\": 1, \"avg_model_sell_price\": 4490.0, \"avg_model_original_price\": 9990.0}, {\"Brand Name\": \"Huawei\", \"Model Name\": \"Fit\", \"model_total_tx\": 2, \"avg_model_sell_price\": 8499.0, \"avg_model_original_price\": 9999.0}, {\"Brand Name\": \"Huawei\", \"Model Name\": \"GT Active\", \"model_total_tx\": 2, \"avg_model_sell_price\": 12490.0, \"avg_model_original_price\": 20990.0}, {\"Brand Name\": \"Huawei\", \"Model Name\": \"GT Classic\", \"model_total_tx\": 1, \"avg_model_sell_price\": 10990.0, \"avg_model_original_price\": 21990.0}, {\"Brand Name\": \"Huawei\", \"Model Name\": \"GT Fortuna-B19S Sport\", \"model_total_tx\": 1, \"avg_model_sell_price\": 13990.0, \"avg_model_original_price\": 20990.0}, {\"Brand Name\": \"Huawei\", \"Model Name\": \"GT Sport\", \"model_total_tx\": 1, \"avg_model_sell_price\": 10990.0, \"avg_model_original_price\": 20990.0}, {\"Brand Name\": \"Huawei\", \"Model Name\": \"GT2 42mm\", \"model_total_tx\": 1, \"avg_model_sell_price\": 14990.0, \"avg_model_original_price\": 19990.0}, {\"Brand Name\": \"Huawei\", \"Model Name\": \"GT2 46mm\", \"model_total_tx\": 2, \"avg_model_sell_price\": 17990.0, \"avg_model_original_price\": 25990.0}, {\"Brand Name\": \"Huawei\", \"Model Name\": \"GT2 Pro\", \"model_total_tx\": 2, \"avg_model_sell_price\": 23990.0, \"avg_model_original_price\": 32490.0}, {\"Brand Name\": \"Huawei\", \"Model Name\": \"GT2 eActive\", \"model_total_tx\": 1, \"avg_model_sell_price\": 11990.0, \"avg_model_original_price\": 19990.0}, {\"Brand Name\": \"Huawei\", \"Model Name\": \"GT2 eSport\", \"model_total_tx\": 2, \"avg_model_sell_price\": 10490.0, \"avg_model_original_price\": 19990.0}, {\"Brand Name\": \"Huawei\", \"Model Name\": \"Stainless Steel\", \"model_total_tx\": 1, \"avg_model_sell_price\": 19990.0, \"avg_model_original_price\": 19990.0}, {\"Brand Name\": \"Huawei\", \"Model Name\": \"Watch 2\", \"model_total_tx\": 1, \"avg_model_sell_price\": 25999.0, \"avg_model_original_price\": 25999.0}, {\"Brand Name\": \"Huawei\", \"Model Name\": \"Watch 2 Sport\", \"model_total_tx\": 1, \"avg_model_sell_price\": 29999.0, \"avg_model_original_price\": 29999.0}, {\"Brand Name\": \"Huawei\", \"Model Name\": \"Watch 32564546\", \"model_total_tx\": 1, \"avg_model_sell_price\": 49999.0, \"avg_model_original_price\": 49999.0}, {\"Brand Name\": \"Huawei\", \"Model Name\": \"Watch 36456\", \"model_total_tx\": 1, \"avg_model_sell_price\": 55000.0, \"avg_model_original_price\": 55000.0}, {\"Brand Name\": \"Infinix\", \"Model Name\": \"Band 5\", \"model_total_tx\": 1, \"avg_model_sell_price\": 1499.0, \"avg_model_original_price\": 2999.0}, {\"Brand Name\": \"LAVA\", \"Model Name\": \"BeFit\", \"model_total_tx\": 1, \"avg_model_sell_price\": 1999.0, \"avg_model_original_price\": 3499.0}, {\"Brand Name\": \"LCARE\", \"Model Name\": \"Mambo\", \"model_total_tx\": 1, \"avg_model_sell_price\": 1699.0, \"avg_model_original_price\": 2995.0}, {\"Brand Name\": \"LCARE\", \"Model Name\": \"Watch\", \"model_total_tx\": 1, \"avg_model_sell_price\": 2995.0, \"avg_model_original_price\": 4495.0}, {\"Brand Name\": \"Noise\", \"Model Name\": \"ColorFit\", \"model_total_tx\": 1, \"avg_model_sell_price\": 2199.0, \"avg_model_original_price\": 2499.0}, {\"Brand Name\": \"Noise\", \"Model Name\": \"ColorFit2\", \"model_total_tx\": 1, \"avg_model_sell_price\": 1699.0, \"avg_model_original_price\": 2499.0}, {\"Brand Name\": \"Noise \", \"Model Name\": \"ColorFit Brio\", \"model_total_tx\": 2, \"avg_model_sell_price\": 3249.0, \"avg_model_original_price\": 5999.0}, {\"Brand Name\": \"Noise \", \"Model Name\": \"ColorFit Caliber\", \"model_total_tx\": 1, \"avg_model_sell_price\": 2699.0, \"avg_model_original_price\": 3999.0}, {\"Brand Name\": \"Noise \", \"Model Name\": \"ColorFit IconBuzz\", \"model_total_tx\": 1, \"avg_model_sell_price\": 4999.0, \"avg_model_original_price\": 4999.0}, {\"Brand Name\": \"Noise \", \"Model Name\": \"ColorFit Pro\", \"model_total_tx\": 2, \"avg_model_sell_price\": 2506.0, \"avg_model_original_price\": 4999.0}, {\"Brand Name\": \"Noise \", \"Model Name\": \"ColorFit Pro 2\", \"model_total_tx\": 1, \"avg_model_sell_price\": 2699.0, \"avg_model_original_price\": 4999.0}, {\"Brand Name\": \"Noise \", \"Model Name\": \"ColorFit Pro 2 Oxy\", \"model_total_tx\": 1, \"avg_model_sell_price\": 2499.0, \"avg_model_original_price\": 4999.0}, {\"Brand Name\": \"Noise \", \"Model Name\": \"ColorFit Pro 3\", \"model_total_tx\": 1, \"avg_model_sell_price\": 3999.0, \"avg_model_original_price\": 5999.0}, {\"Brand Name\": \"Noise \", \"Model Name\": \"ColorFit Qube\", \"model_total_tx\": 1, \"avg_model_sell_price\": 2499.0, \"avg_model_original_price\": 4999.0}, {\"Brand Name\": \"Noise \", \"Model Name\": \"ColorFit Qube SpO2\", \"model_total_tx\": 2, \"avg_model_sell_price\": 2499.0, \"avg_model_original_price\": 4999.0}, {\"Brand Name\": \"Noise \", \"Model Name\": \"Evolve\", \"model_total_tx\": 1, \"avg_model_sell_price\": 4999.0, \"avg_model_original_price\": 7999.0}, {\"Brand Name\": \"Noise \", \"Model Name\": \"Evolve 2 \", \"model_total_tx\": 1, \"avg_model_sell_price\": 3999.0, \"avg_model_original_price\": 7999.0}, {\"Brand Name\": \"Noise \", \"Model Name\": \"Fit Active\", \"model_total_tx\": 1, \"avg_model_sell_price\": 3499.0, \"avg_model_original_price\": 5999.0}, {\"Brand Name\": \"Noise \", \"Model Name\": \"Fit Evolve\", \"model_total_tx\": 1, \"avg_model_sell_price\": 5499.0, \"avg_model_original_price\": 7999.0}, {\"Brand Name\": \"Noise \", \"Model Name\": \"Fusiom Hybrid\", \"model_total_tx\": 1, \"avg_model_sell_price\": 5999.0, \"avg_model_original_price\": 9999.0}, {\"Brand Name\": \"Noise \", \"Model Name\": \"NoiseFit Endure\", \"model_total_tx\": 3, \"avg_model_sell_price\": 2799.0, \"avg_model_original_price\": 5999.0}, {\"Brand Name\": \"OnePlus \", \"Model Name\": \"Band\", \"model_total_tx\": 1, \"avg_model_sell_price\": 2499.0, \"avg_model_original_price\": 2799.0}, {\"Brand Name\": \"OnePlus \", \"Model Name\": \"Steven Harrington Edition Band\", \"model_total_tx\": 1, \"avg_model_sell_price\": 3299.0, \"avg_model_original_price\": 3999.0}, {\"Brand Name\": \"OnePlus \", \"Model Name\": \"Watch\", \"model_total_tx\": 1, \"avg_model_sell_price\": 14999.0, \"avg_model_original_price\": 16999.0}, {\"Brand Name\": \"Oppo\", \"Model Name\": \"41mm\", \"model_total_tx\": 1, \"avg_model_sell_price\": 17990.0, \"avg_model_original_price\": 24990.0}, {\"Brand Name\": \"Oppo\", \"Model Name\": \"46 mm\", \"model_total_tx\": 1, \"avg_model_sell_price\": 14990.0, \"avg_model_original_price\": 19990.0}, {\"Brand Name\": \"Ptron\", \"Model Name\": \"Pulsefit\", \"model_total_tx\": 1, \"avg_model_sell_price\": 799.0, \"avg_model_original_price\": 3199.0}, {\"Brand Name\": \"Ptron\", \"Model Name\": \"Pulsefit P261\", \"model_total_tx\": 1, \"avg_model_sell_price\": 1299.0, \"avg_model_original_price\": 2999.0}, {\"Brand Name\": \"Ptron\", \"Model Name\": \"Pulsefit P461\", \"model_total_tx\": 1, \"avg_model_sell_price\": 1399.0, \"avg_model_original_price\": 2999.0}, {\"Brand Name\": \"Ptron\", \"Model Name\": \"Rhythm\", \"model_total_tx\": 1, \"avg_model_sell_price\": 1099.0, \"avg_model_original_price\": 3000.0}, {\"Brand Name\": \"Ptron\", \"Model Name\": \"Tronite\", \"model_total_tx\": 1, \"avg_model_sell_price\": 949.0, \"avg_model_original_price\": 2000.0}, {\"Brand Name\": \"SAMSUNG \", \"Model Name\": \"Activity Tracker\", \"model_total_tx\": 1, \"avg_model_sell_price\": 13201.0, \"avg_model_original_price\": 15885.0}, {\"Brand Name\": \"SAMSUNG \", \"Model Name\": \"Galaxy 42\", \"model_total_tx\": 2, \"avg_model_sell_price\": 23489.0, \"avg_model_original_price\": 25990.0}, {\"Brand Name\": \"SAMSUNG \", \"Model Name\": \"Galaxy 44mm\", \"model_total_tx\": 1, \"avg_model_sell_price\": 24490.0, \"avg_model_original_price\": 28490.0}, {\"Brand Name\": \"SAMSUNG \", \"Model Name\": \"Galaxy 46mm\", \"model_total_tx\": 1, \"avg_model_sell_price\": 16990.0, \"avg_model_original_price\": 33999.0}, {\"Brand Name\": \"SAMSUNG \", \"Model Name\": \"Galaxy Active 2\", \"model_total_tx\": 3, \"avg_model_sell_price\": 14656.666666666666, \"avg_model_original_price\": 26823.333333333332}, {\"Brand Name\": \"SAMSUNG \", \"Model Name\": \"Galaxy Active 2 Steel\", \"model_total_tx\": 1, \"avg_model_sell_price\": 24490.0, \"avg_model_original_price\": 31990.0}, {\"Brand Name\": \"SAMSUNG \", \"Model Name\": \"Galaxy Active 42mm\", \"model_total_tx\": 1, \"avg_model_sell_price\": 19990.0, \"avg_model_original_price\": 19990.0}, {\"Brand Name\": \"SAMSUNG \", \"Model Name\": \"Galaxy Active 46mm\", \"model_total_tx\": 1, \"avg_model_sell_price\": 19990.0, \"avg_model_original_price\": 19990.0}, {\"Brand Name\": \"SAMSUNG \", \"Model Name\": \"Galaxy Active Steel\", \"model_total_tx\": 1, \"avg_model_sell_price\": 29990.0, \"avg_model_original_price\": 34490.0}, {\"Brand Name\": \"SAMSUNG \", \"Model Name\": \"Galaxy Active Steel 2\", \"model_total_tx\": 1, \"avg_model_sell_price\": 24490.0, \"avg_model_original_price\": 31990.0}, {\"Brand Name\": \"SAMSUNG \", \"Model Name\": \"Galaxy Active Steel 2 LTE\", \"model_total_tx\": 1, \"avg_model_sell_price\": 30990.0, \"avg_model_original_price\": 34490.0}, {\"Brand Name\": \"SAMSUNG \", \"Model Name\": \"Galaxy Classic 4\", \"model_total_tx\": 4, \"avg_model_sell_price\": 35739.25, \"avg_model_original_price\": 38499.0}, {\"Brand Name\": \"SAMSUNG \", \"Model Name\": \"Galaxy Classic 4 LTE\", \"model_total_tx\": 2, \"avg_model_sell_price\": 32999.0, \"avg_model_original_price\": 35999.0}, {\"Brand Name\": \"SAMSUNG \", \"Model Name\": \"Galaxy Fit\", \"model_total_tx\": 1, \"avg_model_sell_price\": 8990.0, \"avg_model_original_price\": 9990.0}, {\"Brand Name\": \"SAMSUNG \", \"Model Name\": \"Galaxy Fit-e Smart\", \"model_total_tx\": 2, \"avg_model_sell_price\": 2245.0, \"avg_model_original_price\": 2590.0}, {\"Brand Name\": \"SAMSUNG \", \"Model Name\": \"Galaxy Gear\", \"model_total_tx\": 1, \"avg_model_sell_price\": 50408.0, \"avg_model_original_price\": 60241.0}, {\"Brand Name\": \"SAMSUNG \", \"Model Name\": \"Galaxy LTE\", \"model_total_tx\": 1, \"avg_model_sell_price\": 31999.0, \"avg_model_original_price\": 31999.0}, {\"Brand Name\": \"SAMSUNG \", \"Model Name\": \"Galaxy Watch 3\", \"model_total_tx\": 2, \"avg_model_sell_price\": 34240.0, \"avg_model_original_price\": 35240.0}, {\"Brand Name\": \"SAMSUNG \", \"Model Name\": \"Galaxy Watch 4 Classic LTE\", \"model_total_tx\": 1, \"avg_model_sell_price\": 40000.0, \"avg_model_original_price\": 42999.0}, {\"Brand Name\": \"SAMSUNG \", \"Model Name\": \"Galaxy Watch 4 LTE\", \"model_total_tx\": 2, \"avg_model_sell_price\": 30499.0, \"avg_model_original_price\": 33499.0}, {\"Brand Name\": \"SAMSUNG \", \"Model Name\": \"Galaxy Watch LTE\", \"model_total_tx\": 1, \"avg_model_sell_price\": 27490.0, \"avg_model_original_price\": 29989.0}, {\"Brand Name\": \"SAMSUNG \", \"Model Name\": \"Gear 2\", \"model_total_tx\": 1, \"avg_model_sell_price\": 19999.0, \"avg_model_original_price\": 22550.0}, {\"Brand Name\": \"SAMSUNG \", \"Model Name\": \"Gear Fit\", \"model_total_tx\": 1, \"avg_model_sell_price\": 7999.0, \"avg_model_original_price\": 16860.0}, {\"Brand Name\": \"SAMSUNG \", \"Model Name\": \"Gear Fit 2\", \"model_total_tx\": 3, \"avg_model_sell_price\": 15000.0, \"avg_model_original_price\": 15000.0}, {\"Brand Name\": \"SAMSUNG \", \"Model Name\": \"Gear Fit 2 Pro\", \"model_total_tx\": 1, \"avg_model_sell_price\": 9990.0, \"avg_model_original_price\": 14990.0}, {\"Brand Name\": \"SAMSUNG \", \"Model Name\": \"Gear Live\", \"model_total_tx\": 1, \"avg_model_sell_price\": 15900.0, \"avg_model_original_price\": 15900.0}, {\"Brand Name\": \"SAMSUNG \", \"Model Name\": \"Gear R730V S2\", \"model_total_tx\": 1, \"avg_model_sell_price\": 18532.0, \"avg_model_original_price\": 22498.0}, {\"Brand Name\": \"SAMSUNG \", \"Model Name\": \"Gear S2\", \"model_total_tx\": 2, \"avg_model_sell_price\": 24300.0, \"avg_model_original_price\": 24300.0}, {\"Brand Name\": \"SAMSUNG \", \"Model Name\": \"Gear S2 Classic\", \"model_total_tx\": 2, \"avg_model_sell_price\": 18999.0, \"avg_model_original_price\": 32275.0}, {\"Brand Name\": \"SAMSUNG \", \"Model Name\": \"Gear S3 Frontier\", \"model_total_tx\": 1, \"avg_model_sell_price\": 22990.0, \"avg_model_original_price\": 28500.0}, {\"Brand Name\": \"SAMSUNG \", \"Model Name\": \"Gear Sport\", \"model_total_tx\": 1, \"avg_model_sell_price\": 15999.0, \"avg_model_original_price\": 22990.0}, {\"Brand Name\": \"SAMSUNG \", \"Model Name\": \"Neo Gear 2\", \"model_total_tx\": 1, \"avg_model_sell_price\": 15500.0, \"avg_model_original_price\": 16860.0}, {\"Brand Name\": \"SAMSUNG \", \"Model Name\": \"R600NZBAXAR 600\", \"model_total_tx\": 1, \"avg_model_sell_price\": 21390.0, \"avg_model_original_price\": 25155.0}, {\"Brand Name\": \"SAMSUNG \", \"Model Name\": \"T-Mobile\", \"model_total_tx\": 1, \"avg_model_sell_price\": 21990.0, \"avg_model_original_price\": 22990.0}, {\"Brand Name\": \"Xiaomi\", \"Model Name\": \"Band - HRX Edition\", \"model_total_tx\": 1, \"avg_model_sell_price\": 1299.0, \"avg_model_original_price\": 1799.0}, {\"Brand Name\": \"Xiaomi\", \"Model Name\": \"Band 2\", \"model_total_tx\": 1, \"avg_model_sell_price\": 2499.0, \"avg_model_original_price\": 2499.0}, {\"Brand Name\": \"Xiaomi\", \"Model Name\": \"Band 3\", \"model_total_tx\": 1, \"avg_model_sell_price\": 1799.0, \"avg_model_original_price\": 2199.0}, {\"Brand Name\": \"Xiaomi\", \"Model Name\": \"HMSH01GE\", \"model_total_tx\": 1, \"avg_model_sell_price\": 1722.0, \"avg_model_original_price\": 2099.0}, {\"Brand Name\": \"Xiaomi\", \"Model Name\": \"Revolve\", \"model_total_tx\": 1, \"avg_model_sell_price\": 12349.0, \"avg_model_original_price\": 15999.0}, {\"Brand Name\": \"Xiaomi\", \"Model Name\": \"RevolveActive\", \"model_total_tx\": 1, \"avg_model_sell_price\": 12999.0, \"avg_model_original_price\": 15999.0}, {\"Brand Name\": \"Xiaomi\", \"Model Name\": \"Smart Band 3i\", \"model_total_tx\": 1, \"avg_model_sell_price\": 1270.0, \"avg_model_original_price\": 1599.0}, {\"Brand Name\": \"Xiaomi\", \"Model Name\": \"Smart Band 4\", \"model_total_tx\": 1, \"avg_model_sell_price\": 2099.0, \"avg_model_original_price\": 2499.0}, {\"Brand Name\": \"Xiaomi\", \"Model Name\": \"Smart Band 5\", \"model_total_tx\": 2, \"avg_model_sell_price\": 2484.0, \"avg_model_original_price\": 2999.0}, {\"Brand Name\": \"Zebronics\", \"Model Name\": \"Fit-650\", \"model_total_tx\": 1, \"avg_model_sell_price\": 2949.0, \"avg_model_original_price\": 4199.0}, {\"Brand Name\": \"Zebronics\", \"Model Name\": \"Smarttime 200\", \"model_total_tx\": 1, \"avg_model_sell_price\": 1499.0, \"avg_model_original_price\": 2999.0}, {\"Brand Name\": \"Zebronics\", \"Model Name\": \"ZEB-FIT1220CH\", \"model_total_tx\": 1, \"avg_model_sell_price\": 3499.0, \"avg_model_original_price\": 3999.0}, {\"Brand Name\": \"Zebronics\", \"Model Name\": \"ZEB-FIT4220CH\", \"model_total_tx\": 1, \"avg_model_sell_price\": 3299.0, \"avg_model_original_price\": 7999.0}, {\"Brand Name\": \"Zebronics\", \"Model Name\": \"ZEB-FIT450\", \"model_total_tx\": 1, \"avg_model_sell_price\": 1699.0, \"avg_model_original_price\": 1899.0}, {\"Brand Name\": \"Zebronics\", \"Model Name\": \"ZEB-FIT5220CH\", \"model_total_tx\": 2, \"avg_model_sell_price\": 3299.0, \"avg_model_original_price\": 4999.0}, {\"Brand Name\": \"Zebronics\", \"Model Name\": \"ZEB-FIT650CH\", \"model_total_tx\": 1, \"avg_model_sell_price\": 3297.0, \"avg_model_original_price\": 4199.0}, {\"Brand Name\": \"Zebronics\", \"Model Name\": \"ZEB-FIT8220CH\", \"model_total_tx\": 1, \"avg_model_sell_price\": 2199.0, \"avg_model_original_price\": 3999.0}, {\"Brand Name\": \"Zebronics\", \"Model Name\": \"ZEB-FIT920CH\", \"model_total_tx\": 1, \"avg_model_sell_price\": 2499.0, \"avg_model_original_price\": 4499.0}, {\"Brand Name\": \"Zebronics\", \"Model Name\": \"ZEB-FITMe\", \"model_total_tx\": 1, \"avg_model_sell_price\": 2799.0, \"avg_model_original_price\": 4999.0}, {\"Brand Name\": \"Zebronics\", \"Model Name\": \"zeb-fit\", \"model_total_tx\": 1, \"avg_model_sell_price\": 1283.0, \"avg_model_original_price\": 1899.0}, {\"Brand Name\": \"boAt \", \"Model Name\": \"Delta\", \"model_total_tx\": 1, \"avg_model_sell_price\": 2499.0, \"avg_model_original_price\": 5990.0}, {\"Brand Name\": \"boAt \", \"Model Name\": \"O2\", \"model_total_tx\": 1, \"avg_model_sell_price\": 7990.0, \"avg_model_original_price\": 7990.0}, {\"Brand Name\": \"boAt \", \"Model Name\": \"Storm\", \"model_total_tx\": 1, \"avg_model_sell_price\": 2999.0, \"avg_model_original_price\": 5990.0}, {\"Brand Name\": \"boAt \", \"Model Name\": \"Vertex\", \"model_total_tx\": 1, \"avg_model_sell_price\": 2499.0, \"avg_model_original_price\": 6990.0}, {\"Brand Name\": \"boAt \", \"Model Name\": \"Xplorer\", \"model_total_tx\": 1, \"avg_model_sell_price\": 3499.0, \"avg_model_original_price\": 7990.0}, {\"Brand Name\": \"dizo by realme \", \"Model Name\": \"Watch 2\", \"model_total_tx\": 1, \"avg_model_sell_price\": 2699.0, \"avg_model_original_price\": 3999.0}, {\"Brand Name\": \"dizo by realme \", \"Model Name\": \"Watch Pro\", \"model_total_tx\": 1, \"avg_model_sell_price\": 3799.0, \"avg_model_original_price\": 5999.0}, {\"Brand Name\": \"huami\", \"Model Name\": \"Amazfit Bip\", \"model_total_tx\": 5, \"avg_model_sell_price\": 5569.2, \"avg_model_original_price\": 6675.4}, {\"Brand Name\": \"huami\", \"Model Name\": \"Amazfit Bip Lite\", \"model_total_tx\": 1, \"avg_model_sell_price\": 3499.0, \"avg_model_original_price\": 5499.0}, {\"Brand Name\": \"huami\", \"Model Name\": \"Amazfit Bip S\", \"model_total_tx\": 4, \"avg_model_sell_price\": 4274.0, \"avg_model_original_price\": 5624.0}, {\"Brand Name\": \"huami\", \"Model Name\": \"Amazfit Bip S Lite\", \"model_total_tx\": 1, \"avg_model_sell_price\": 1999.0, \"avg_model_original_price\": 4999.0}, {\"Brand Name\": \"huami\", \"Model Name\": \"Amazfit Bip U\", \"model_total_tx\": 1, \"avg_model_sell_price\": 2999.0, \"avg_model_original_price\": 5999.0}, {\"Brand Name\": \"huami\", \"Model Name\": \"Amazfit GTR 2 Aluminium\", \"model_total_tx\": 1, \"avg_model_sell_price\": 11999.0, \"avg_model_original_price\": 17999.0}, {\"Brand Name\": \"huami\", \"Model Name\": \"Amazfit GTR 2 Stainless Steel\", \"model_total_tx\": 1, \"avg_model_sell_price\": 12499.0, \"avg_model_original_price\": 17999.0}, {\"Brand Name\": \"huami\", \"Model Name\": \"Amazfit GTR 42\", \"model_total_tx\": 2, \"avg_model_sell_price\": 9499.0, \"avg_model_original_price\": 12999.0}, {\"Brand Name\": \"huami\", \"Model Name\": \"Amazfit GTR 42 mm Glitter\", \"model_total_tx\": 1, \"avg_model_sell_price\": 9999.0, \"avg_model_original_price\": 16999.0}, {\"Brand Name\": \"huami\", \"Model Name\": \"Amazfit GTR 47\", \"model_total_tx\": 2, \"avg_model_sell_price\": 9999.0, \"avg_model_original_price\": 16499.0}, {\"Brand Name\": \"huami\", \"Model Name\": \"Amazfit GTS\", \"model_total_tx\": 4, \"avg_model_sell_price\": 5574.0, \"avg_model_original_price\": 12999.0}, {\"Brand Name\": \"huami\", \"Model Name\": \"Amazfit GTS 2\", \"model_total_tx\": 1, \"avg_model_sell_price\": 11999.0, \"avg_model_original_price\": 17999.0}, {\"Brand Name\": \"huami\", \"Model Name\": \"Amazfit GTS 2e\", \"model_total_tx\": 1, \"avg_model_sell_price\": 7999.0, \"avg_model_original_price\": 13999.0}, {\"Brand Name\": \"huami\", \"Model Name\": \"Amazfit Neo\", \"model_total_tx\": 1, \"avg_model_sell_price\": 2499.0, \"avg_model_original_price\": 3999.0}, {\"Brand Name\": \"huami\", \"Model Name\": \"Amazfit Pace\", \"model_total_tx\": 1, \"avg_model_sell_price\": 9999.0, \"avg_model_original_price\": 10999.0}, {\"Brand Name\": \"huami\", \"Model Name\": \"Amazfit Stratos\", \"model_total_tx\": 1, \"avg_model_sell_price\": 12999.0, \"avg_model_original_price\": 15999.0}, {\"Brand Name\": \"huami\", \"Model Name\": \"Amazfit Stratos 3\", \"model_total_tx\": 1, \"avg_model_sell_price\": 13999.0, \"avg_model_original_price\": 17999.0}, {\"Brand Name\": \"huami\", \"Model Name\": \"Amazfit T-Rex\", \"model_total_tx\": 1, \"avg_model_sell_price\": 5999.0, \"avg_model_original_price\": 10999.0}, {\"Brand Name\": \"huami\", \"Model Name\": \"Amazfit Verge\", \"model_total_tx\": 4, \"avg_model_sell_price\": 10749.0, \"avg_model_original_price\": 11999.0}, {\"Brand Name\": \"huami\", \"Model Name\": \"Amazfit Verge Lite\", \"model_total_tx\": 1, \"avg_model_sell_price\": 5999.0, \"avg_model_original_price\": 8999.0}, {\"Brand Name\": \"huami\", \"Model Name\": \"Bip Lite On\", \"model_total_tx\": 1, \"avg_model_sell_price\": 7999.0, \"avg_model_original_price\": 14999.0}, {\"Brand Name\": \"realme\", \"Model Name\": \"2 Pro\", \"model_total_tx\": 1, \"avg_model_sell_price\": 4999.0, \"avg_model_original_price\": 5999.0}, {\"Brand Name\": \"realme\", \"Model Name\": \"2S\", \"model_total_tx\": 1, \"avg_model_sell_price\": 3499.0, \"avg_model_original_price\": 3999.0}, {\"Brand Name\": \"realme\", \"Model Name\": \"Band\", \"model_total_tx\": 2, \"avg_model_sell_price\": 1394.5, \"avg_model_original_price\": 2999.0}, {\"Brand Name\": \"realme\", \"Model Name\": \"Band 2\", \"model_total_tx\": 1, \"avg_model_sell_price\": 2999.0, \"avg_model_original_price\": 3499.0}, {\"Brand Name\": \"realme\", \"Model Name\": \"Classic\", \"model_total_tx\": 1, \"avg_model_sell_price\": 3921.0, \"avg_model_original_price\": 6999.0}, {\"Brand Name\": \"realme\", \"Model Name\": \"Fashion\", \"model_total_tx\": 1, \"avg_model_sell_price\": 5400.0, \"avg_model_original_price\": 6999.0}, {\"Brand Name\": \"realme\", \"Model Name\": \"S\", \"model_total_tx\": 2, \"avg_model_sell_price\": 5889.0, \"avg_model_original_price\": 7999.0}, {\"Brand Name\": \"realme\", \"Model Name\": \"S Master\", \"model_total_tx\": 1, \"avg_model_sell_price\": 5999.0, \"avg_model_original_price\": 8999.0}, {\"Brand Name\": \"realme\", \"Model Name\": \"S Pro\", \"model_total_tx\": 1, \"avg_model_sell_price\": 9999.0, \"avg_model_original_price\": 12999.0}, {\"Brand Name\": \"realme\", \"Model Name\": \"Smart band\", \"model_total_tx\": 1, \"avg_model_sell_price\": 1450.0, \"avg_model_original_price\": 2999.0}]}}, {\"mode\": \"vega-lite\"});\n",
       "</script>"
      ],
      "text/plain": [
       "alt.Chart(...)"
      ]
     },
     "execution_count": 30,
     "metadata": {},
     "output_type": "execute_result"
    }
   ],
   "source": [
    "alt.Chart(agg, title=\"Average Original Price vs Total Demand\").mark_point(filled=True,size=40).encode(\n",
    "    x='avg_model_original_price',\n",
    "    y='model_total_tx',\n",
    "    color='Brand Name',\n",
    "    tooltip=['Brand Name', 'model_total_tx', 'avg_model_original_price']\n",
    ").interactive()"
   ]
  },
  {
   "cell_type": "markdown",
   "id": "87bd79dd",
   "metadata": {
    "execution": {
     "iopub.execute_input": "2022-10-18T18:50:16.800113Z",
     "iopub.status.busy": "2022-10-18T18:50:16.799690Z",
     "iopub.status.idle": "2022-10-18T18:50:16.816135Z",
     "shell.execute_reply": "2022-10-18T18:50:16.814603Z",
     "shell.execute_reply.started": "2022-10-18T18:50:16.800079Z"
    },
    "papermill": {
     "duration": 0.02611,
     "end_time": "2022-10-20T18:00:01.723042",
     "exception": false,
     "start_time": "2022-10-20T18:00:01.696932",
     "status": "completed"
    },
    "tags": []
   },
   "source": [
    "We can see here that across brands' models, it does look like as price increases, demand decreases as is clear with Apple models (blue) set at different price points. Though with GARMIN, demand continues to be high across different price points (purple). The same is for Samsung (brown) even though range of models may not be as huge as Apple. So Apple seems to be price elastic whereas GARMIN and Samsung seem not be so much. We will verify this later! For now, let's examine what differentiates these products/their moats."
   ]
  },
  {
   "cell_type": "code",
   "execution_count": 31,
   "id": "826ffc70",
   "metadata": {
    "execution": {
     "iopub.execute_input": "2022-10-20T18:00:01.783023Z",
     "iopub.status.busy": "2022-10-20T18:00:01.782429Z",
     "iopub.status.idle": "2022-10-20T18:00:02.197402Z",
     "shell.execute_reply": "2022-10-20T18:00:02.195514Z"
    },
    "papermill": {
     "duration": 0.450319,
     "end_time": "2022-10-20T18:00:02.200632",
     "exception": false,
     "start_time": "2022-10-20T18:00:01.750313",
     "status": "completed"
    },
    "tags": []
   },
   "outputs": [
    {
     "data": {
      "text/plain": [
       "<AxesSubplot:xlabel='count', ylabel='Brand Name'>"
      ]
     },
     "execution_count": 31,
     "metadata": {},
     "output_type": "execute_result"
    },
    {
     "data": {
      "image/png": "[encoded data removed]",
      "text/plain": [
       "<Figure size 432x288 with 1 Axes>"
      ]
     },
     "metadata": {},
     "output_type": "display_data"
    }
   ],
   "source": [
    "#What's the most bought color for fitness tracker enthusiasts:\n",
    "sns.set_style('white')\n",
    "sns.countplot(y=\"Brand Name\", hue=\"Device Type\", data=health, palette=[\"#560bad\",\"#4361EE\"],\n",
    "              order=health[\"Brand Name\"].value_counts().iloc[:5].index)"
   ]
  },
  {
   "cell_type": "code",
   "execution_count": 32,
   "id": "78b1d64d",
   "metadata": {
    "execution": {
     "iopub.execute_input": "2022-10-20T18:00:02.257277Z",
     "iopub.status.busy": "2022-10-20T18:00:02.256757Z",
     "iopub.status.idle": "2022-10-20T18:00:02.322512Z",
     "shell.execute_reply": "2022-10-20T18:00:02.320615Z"
    },
    "papermill": {
     "duration": 0.09902,
     "end_time": "2022-10-20T18:00:02.325874",
     "exception": false,
     "start_time": "2022-10-20T18:00:02.226854",
     "status": "completed"
    },
    "tags": []
   },
   "outputs": [
    {
     "data": {
      "text/html": [
       "<div>                            <div id=\"c8c11357-4883-4bb2-968c-4c82fcd51bc5\" class=\"plotly-graph-div\" style=\"height:525px; width:100%;\"></div>            <script type=\"text/javascript\">                require([\"plotly\"], function(Plotly) {                    window.PLOTLYENV=window.PLOTLYENV || {};                                    if (document.getElementById(\"c8c11357-4883-4bb2-968c-4c82fcd51bc5\")) {                    Plotly.newPlot(                        \"c8c11357-4883-4bb2-968c-4c82fcd51bc5\",                        [{\"domain\":{\"x\":[0.0,1.0],\"y\":[0.0,1.0]},\"hovertemplate\":\"Brand Name=%{label}<br>count=%{value}<extra></extra>\",\"labels\":[\"FOSSIL \",\"GARMIN \",\"APPLE\",\"SAMSUNG \",\"FitBit\",\"huami\",\"Huawei\",\"Noise \",\"Honor\",\"Fire-Boltt\",\"Zebronics\",\"realme\",\"Xiaomi\",\"Crossbeats\",\"Ptron\",\"boAt \",\"GOQii\",\"Fastrack\",\"OnePlus \",\"Noise\",\"Oppo\",\"dizo by realme \",\"LCARE\",\"LAVA\",\"Infinix\"],\"legendgroup\":\"\",\"name\":\"\",\"showlegend\":true,\"values\":[84,72,71,34,24,21,19,15,13,11,11,10,9,8,5,5,4,4,3,2,2,2,2,1,1],\"type\":\"pie\"}],                        {\"template\":{\"data\":{\"histogram2dcontour\":[{\"type\":\"histogram2dcontour\",\"colorbar\":{\"outlinewidth\":0,\"ticks\":\"\"},\"colorscale\":[[0.0,\"#0d0887\"],[0.1111111111111111,\"#46039f\"],[0.2222222222222222,\"#7201a8\"],[0.3333333333333333,\"#9c179e\"],[0.4444444444444444,\"#bd3786\"],[0.5555555555555556,\"#d8576b\"],[0.6666666666666666,\"#ed7953\"],[0.7777777777777778,\"#fb9f3a\"],[0.8888888888888888,\"#fdca26\"],[1.0,\"#f0f921\"]]}],\"choropleth\":[{\"type\":\"choropleth\",\"colorbar\":{\"outlinewidth\":0,\"ticks\":\"\"}}],\"histogram2d\":[{\"type\":\"histogram2d\",\"colorbar\":{\"outlinewidth\":0,\"ticks\":\"\"},\"colorscale\":[[0.0,\"#0d0887\"],[0.1111111111111111,\"#46039f\"],[0.2222222222222222,\"#7201a8\"],[0.3333333333333333,\"#9c179e\"],[0.4444444444444444,\"#bd3786\"],[0.5555555555555556,\"#d8576b\"],[0.6666666666666666,\"#ed7953\"],[0.7777777777777778,\"#fb9f3a\"],[0.8888888888888888,\"#fdca26\"],[1.0,\"#f0f921\"]]}],\"heatmap\":[{\"type\":\"heatmap\",\"colorbar\":{\"outlinewidth\":0,\"ticks\":\"\"},\"colorscale\":[[0.0,\"#0d0887\"],[0.1111111111111111,\"#46039f\"],[0.2222222222222222,\"#7201a8\"],[0.3333333333333333,\"#9c179e\"],[0.4444444444444444,\"#bd3786\"],[0.5555555555555556,\"#d8576b\"],[0.6666666666666666,\"#ed7953\"],[0.7777777777777778,\"#fb9f3a\"],[0.8888888888888888,\"#fdca26\"],[1.0,\"#f0f921\"]]}],\"heatmapgl\":[{\"type\":\"heatmapgl\",\"colorbar\":{\"outlinewidth\":0,\"ticks\":\"\"},\"colorscale\":[[0.0,\"#0d0887\"],[0.1111111111111111,\"#46039f\"],[0.2222222222222222,\"#7201a8\"],[0.3333333333333333,\"#9c179e\"],[0.4444444444444444,\"#bd3786\"],[0.5555555555555556,\"#d8576b\"],[0.6666666666666666,\"#ed7953\"],[0.7777777777777778,\"#fb9f3a\"],[0.8888888888888888,\"#fdca26\"],[1.0,\"#f0f921\"]]}],\"contourcarpet\":[{\"type\":\"contourcarpet\",\"colorbar\":{\"outlinewidth\":0,\"ticks\":\"\"}}],\"contour\":[{\"type\":\"contour\",\"colorbar\":{\"outlinewidth\":0,\"ticks\":\"\"},\"colorscale\":[[0.0,\"#0d0887\"],[0.1111111111111111,\"#46039f\"],[0.2222222222222222,\"#7201a8\"],[0.3333333333333333,\"#9c179e\"],[0.4444444444444444,\"#bd3786\"],[0.5555555555555556,\"#d8576b\"],[0.6666666666666666,\"#ed7953\"],[0.7777777777777778,\"#fb9f3a\"],[0.8888888888888888,\"#fdca26\"],[1.0,\"#f0f921\"]]}],\"surface\":[{\"type\":\"surface\",\"colorbar\":{\"outlinewidth\":0,\"ticks\":\"\"},\"colorscale\":[[0.0,\"#0d0887\"],[0.1111111111111111,\"#46039f\"],[0.2222222222222222,\"#7201a8\"],[0.3333333333333333,\"#9c179e\"],[0.4444444444444444,\"#bd3786\"],[0.5555555555555556,\"#d8576b\"],[0.6666666666666666,\"#ed7953\"],[0.7777777777777778,\"#fb9f3a\"],[0.8888888888888888,\"#fdca26\"],[1.0,\"#f0f921\"]]}],\"mesh3d\":[{\"type\":\"mesh3d\",\"colorbar\":{\"outlinewidth\":0,\"ticks\":\"\"}}],\"scatter\":[{\"fillpattern\":{\"fillmode\":\"overlay\",\"size\":10,\"solidity\":0.2},\"type\":\"scatter\"}],\"parcoords\":[{\"type\":\"parcoords\",\"line\":{\"colorbar\":{\"outlinewidth\":0,\"ticks\":\"\"}}}],\"scatterpolargl\":[{\"type\":\"scatterpolargl\",\"marker\":{\"colorbar\":{\"outlinewidth\":0,\"ticks\":\"\"}}}],\"bar\":[{\"error_x\":{\"color\":\"#2a3f5f\"},\"error_y\":{\"color\":\"#2a3f5f\"},\"marker\":{\"line\":{\"color\":\"#E5ECF6\",\"width\":0.5},\"pattern\":{\"fillmode\":\"overlay\",\"size\":10,\"solidity\":0.2}},\"type\":\"bar\"}],\"scattergeo\":[{\"type\":\"scattergeo\",\"marker\":{\"colorbar\":{\"outlinewidth\":0,\"ticks\":\"\"}}}],\"scatterpolar\":[{\"type\":\"scatterpolar\",\"marker\":{\"colorbar\":{\"outlinewidth\":0,\"ticks\":\"\"}}}],\"histogram\":[{\"marker\":{\"pattern\":{\"fillmode\":\"overlay\",\"size\":10,\"solidity\":0.2}},\"type\":\"histogram\"}],\"scattergl\":[{\"type\":\"scattergl\",\"marker\":{\"colorbar\":{\"outlinewidth\":0,\"ticks\":\"\"}}}],\"scatter3d\":[{\"type\":\"scatter3d\",\"line\":{\"colorbar\":{\"outlinewidth\":0,\"ticks\":\"\"}},\"marker\":{\"colorbar\":{\"outlinewidth\":0,\"ticks\":\"\"}}}],\"scattermapbox\":[{\"type\":\"scattermapbox\",\"marker\":{\"colorbar\":{\"outlinewidth\":0,\"ticks\":\"\"}}}],\"scatterternary\":[{\"type\":\"scatterternary\",\"marker\":{\"colorbar\":{\"outlinewidth\":0,\"ticks\":\"\"}}}],\"scattercarpet\":[{\"type\":\"scattercarpet\",\"marker\":{\"colorbar\":{\"outlinewidth\":0,\"ticks\":\"\"}}}],\"carpet\":[{\"aaxis\":{\"endlinecolor\":\"#2a3f5f\",\"gridcolor\":\"white\",\"linecolor\":\"white\",\"minorgridcolor\":\"white\",\"startlinecolor\":\"#2a3f5f\"},\"baxis\":{\"endlinecolor\":\"#2a3f5f\",\"gridcolor\":\"white\",\"linecolor\":\"white\",\"minorgridcolor\":\"white\",\"startlinecolor\":\"#2a3f5f\"},\"type\":\"carpet\"}],\"table\":[{\"cells\":{\"fill\":{\"color\":\"#EBF0F8\"},\"line\":{\"color\":\"white\"}},\"header\":{\"fill\":{\"color\":\"#C8D4E3\"},\"line\":{\"color\":\"white\"}},\"type\":\"table\"}],\"barpolar\":[{\"marker\":{\"line\":{\"color\":\"#E5ECF6\",\"width\":0.5},\"pattern\":{\"fillmode\":\"overlay\",\"size\":10,\"solidity\":0.2}},\"type\":\"barpolar\"}],\"pie\":[{\"automargin\":true,\"type\":\"pie\"}]},\"layout\":{\"autotypenumbers\":\"strict\",\"colorway\":[\"#636efa\",\"#EF553B\",\"#00cc96\",\"#ab63fa\",\"#FFA15A\",\"#19d3f3\",\"#FF6692\",\"#B6E880\",\"#FF97FF\",\"#FECB52\"],\"font\":{\"color\":\"#2a3f5f\"},\"hovermode\":\"closest\",\"hoverlabel\":{\"align\":\"left\"},\"paper_bgcolor\":\"white\",\"plot_bgcolor\":\"#E5ECF6\",\"polar\":{\"bgcolor\":\"#E5ECF6\",\"angularaxis\":{\"gridcolor\":\"white\",\"linecolor\":\"white\",\"ticks\":\"\"},\"radialaxis\":{\"gridcolor\":\"white\",\"linecolor\":\"white\",\"ticks\":\"\"}},\"ternary\":{\"bgcolor\":\"#E5ECF6\",\"aaxis\":{\"gridcolor\":\"white\",\"linecolor\":\"white\",\"ticks\":\"\"},\"baxis\":{\"gridcolor\":\"white\",\"linecolor\":\"white\",\"ticks\":\"\"},\"caxis\":{\"gridcolor\":\"white\",\"linecolor\":\"white\",\"ticks\":\"\"}},\"coloraxis\":{\"colorbar\":{\"outlinewidth\":0,\"ticks\":\"\"}},\"colorscale\":{\"sequential\":[[0.0,\"#0d0887\"],[0.1111111111111111,\"#46039f\"],[0.2222222222222222,\"#7201a8\"],[0.3333333333333333,\"#9c179e\"],[0.4444444444444444,\"#bd3786\"],[0.5555555555555556,\"#d8576b\"],[0.6666666666666666,\"#ed7953\"],[0.7777777777777778,\"#fb9f3a\"],[0.8888888888888888,\"#fdca26\"],[1.0,\"#f0f921\"]],\"sequentialminus\":[[0.0,\"#0d0887\"],[0.1111111111111111,\"#46039f\"],[0.2222222222222222,\"#7201a8\"],[0.3333333333333333,\"#9c179e\"],[0.4444444444444444,\"#bd3786\"],[0.5555555555555556,\"#d8576b\"],[0.6666666666666666,\"#ed7953\"],[0.7777777777777778,\"#fb9f3a\"],[0.8888888888888888,\"#fdca26\"],[1.0,\"#f0f921\"]],\"diverging\":[[0,\"#8e0152\"],[0.1,\"#c51b7d\"],[0.2,\"#de77ae\"],[0.3,\"#f1b6da\"],[0.4,\"#fde0ef\"],[0.5,\"#f7f7f7\"],[0.6,\"#e6f5d0\"],[0.7,\"#b8e186\"],[0.8,\"#7fbc41\"],[0.9,\"#4d9221\"],[1,\"#276419\"]]},\"xaxis\":{\"gridcolor\":\"white\",\"linecolor\":\"white\",\"ticks\":\"\",\"title\":{\"standoff\":15},\"zerolinecolor\":\"white\",\"automargin\":true,\"zerolinewidth\":2},\"yaxis\":{\"gridcolor\":\"white\",\"linecolor\":\"white\",\"ticks\":\"\",\"title\":{\"standoff\":15},\"zerolinecolor\":\"white\",\"automargin\":true,\"zerolinewidth\":2},\"scene\":{\"xaxis\":{\"backgroundcolor\":\"#E5ECF6\",\"gridcolor\":\"white\",\"linecolor\":\"white\",\"showbackground\":true,\"ticks\":\"\",\"zerolinecolor\":\"white\",\"gridwidth\":2},\"yaxis\":{\"backgroundcolor\":\"#E5ECF6\",\"gridcolor\":\"white\",\"linecolor\":\"white\",\"showbackground\":true,\"ticks\":\"\",\"zerolinecolor\":\"white\",\"gridwidth\":2},\"zaxis\":{\"backgroundcolor\":\"#E5ECF6\",\"gridcolor\":\"white\",\"linecolor\":\"white\",\"showbackground\":true,\"ticks\":\"\",\"zerolinecolor\":\"white\",\"gridwidth\":2}},\"shapedefaults\":{\"line\":{\"color\":\"#2a3f5f\"}},\"annotationdefaults\":{\"arrowcolor\":\"#2a3f5f\",\"arrowhead\":0,\"arrowwidth\":1},\"geo\":{\"bgcolor\":\"white\",\"landcolor\":\"#E5ECF6\",\"subunitcolor\":\"white\",\"showland\":true,\"showlakes\":true,\"lakecolor\":\"white\"},\"title\":{\"x\":0.05},\"mapbox\":{\"style\":\"light\"}}},\"legend\":{\"tracegroupgap\":0},\"margin\":{\"t\":60}},                        {\"responsive\": true}                    ).then(function(){\n",
       "                            \n",
       "var gd = document.getElementById('c8c11357-4883-4bb2-968c-4c82fcd51bc5');\n",
       "var x = new MutationObserver(function (mutations, observer) {{\n",
       "        var display = window.getComputedStyle(gd).display;\n",
       "        if (!display || display === 'none') {{\n",
       "            console.log([gd, 'removed!']);\n",
       "            Plotly.purge(gd);\n",
       "            observer.disconnect();\n",
       "        }}\n",
       "}});\n",
       "\n",
       "// Listen for the removal of the full notebook cells\n",
       "var notebookContainer = gd.closest('#notebook-container');\n",
       "if (notebookContainer) {{\n",
       "    x.observe(notebookContainer, {childList: true});\n",
       "}}\n",
       "\n",
       "// Listen for the clearing of the current output cell\n",
       "var outputEl = gd.closest('.output');\n",
       "if (outputEl) {{\n",
       "    x.observe(outputEl, {childList: true});\n",
       "}}\n",
       "\n",
       "                        })                };                });            </script>        </div>"
      ]
     },
     "metadata": {},
     "output_type": "display_data"
    }
   ],
   "source": [
    "prod_offerings = health.groupby('Brand Name')['Model Name'].nunique().sort_values(ascending=False).reset_index(name='count')\n",
    "fig = px.pie(prod_offerings, values=prod_offerings['count'], names=prod_offerings['Brand Name'])\n",
    "fig.show()"
   ]
  },
  {
   "cell_type": "markdown",
   "id": "4c12e0d1",
   "metadata": {
    "papermill": {
     "duration": 0.027429,
     "end_time": "2022-10-20T18:00:02.380054",
     "exception": false,
     "start_time": "2022-10-20T18:00:02.352625",
     "status": "completed"
    },
    "tags": []
   },
   "source": [
    "Suprisingly, FOSSIL has the most product offerings with GARMIN and Apple not far behind. Though FOSSIL has more product offerings, they are all at similar tiered price."
   ]
  },
  {
   "cell_type": "markdown",
   "id": "fbc930e4",
   "metadata": {
    "execution": {
     "iopub.execute_input": "2022-10-20T17:08:28.858738Z",
     "iopub.status.busy": "2022-10-20T17:08:28.858311Z",
     "iopub.status.idle": "2022-10-20T17:08:28.868560Z",
     "shell.execute_reply": "2022-10-20T17:08:28.867614Z",
     "shell.execute_reply.started": "2022-10-20T17:08:28.858701Z"
    },
    "papermill": {
     "duration": 0.028522,
     "end_time": "2022-10-20T18:00:02.435677",
     "exception": false,
     "start_time": "2022-10-20T18:00:02.407155",
     "status": "completed"
    },
    "tags": []
   },
   "source": [
    "## Most popular fitness tracker band color"
   ]
  },
  {
   "cell_type": "code",
   "execution_count": 33,
   "id": "85e13fc1",
   "metadata": {
    "execution": {
     "iopub.execute_input": "2022-10-20T18:00:02.494795Z",
     "iopub.status.busy": "2022-10-20T18:00:02.494219Z",
     "iopub.status.idle": "2022-10-20T18:00:02.602636Z",
     "shell.execute_reply": "2022-10-20T18:00:02.601089Z"
    },
    "papermill": {
     "duration": 0.143724,
     "end_time": "2022-10-20T18:00:02.606614",
     "exception": false,
     "start_time": "2022-10-20T18:00:02.462890",
     "status": "completed"
    },
    "tags": []
   },
   "outputs": [
    {
     "data": {
      "text/html": [
       "<div>                            <div id=\"0acdc54b-9ce0-46b0-97ea-f2bdc8041ed4\" class=\"plotly-graph-div\" style=\"height:525px; width:100%;\"></div>            <script type=\"text/javascript\">                require([\"plotly\"], function(Plotly) {                    window.PLOTLYENV=window.PLOTLYENV || {};                                    if (document.getElementById(\"0acdc54b-9ce0-46b0-97ea-f2bdc8041ed4\")) {                    Plotly.newPlot(                        \"0acdc54b-9ce0-46b0-97ea-f2bdc8041ed4\",                        [{\"alignmentgroup\":\"True\",\"hovertemplate\":\"x=%{x}<br>y=%{y}<extra></extra>\",\"legendgroup\":\"\",\"marker\":{\"color\":\"#636efa\",\"pattern\":{\"shape\":\"\"}},\"name\":\"\",\"offsetgroup\":\"\",\"orientation\":\"v\",\"showlegend\":false,\"textposition\":\"auto\",\"x\":[\"Black\",\"Blue\",\"Silver\",\"Grey\",\"Gold\",\"White\",\"Brown\",\"Red\",\"Black \",\"Pink Sand\",\"Deep Navy\",\"Black, Blue\",\"Black, Grey\",\"White \",\"Grey \",\"Beige\",\"Purple\",\"Black, Green\",\"Blue Sapphire\",\"Orange\",\"Purple \",\"Black, Pink\",\"Pink\",\"Blue \",\"Gray\",\"Red, Black\",\"Black, White\",\"Blue, Black\",\"Rose Gold\",\"Grey, White\",\"Green, Grey\",\"Yellow\",\"Black, Blue, Pink\",\"Black, Grey, Red\",\"Green\",\"Grey, Blue\",\"Silver, Black\",\"Purple, Black\",\"Navy \",\"Silver Milanese\",\"Brown, Grey\",\"Grey, Multicolor\",\"Black, Red, Blue\",\"Rose Gold \",\"Flame Red\",\"Purple, White\",\"Black, Blue, Red\",\"Black, White \",\"White, Black\",\"Saddle Brown\",\"Gold Milanese\",\"Black, Brown\",\"Charcoal\",\"Black, Gold\",\"Plum\",\"Grey, Yellow\",\"Milanese\",\"Magma Red\",\"Black Woven\",\"Leather\",\"Cocoa\",\"Black, Orange, Red\",\"Pearl Woven\",\"Blue Modern\",\"Multicolor, White, Brown\",\"Grey, Black\",\"White, Pink\",\"Graphite, Sunburst\",\"Black, Red \",\"Purple, Grey, Brown, Black, White \",\"Black, Red, Orange\",\"Tidal Blue, Flame Red\",\"Graphite\",\"Black, Silver, White\",\"Blue, Grey, Pink\",\"Black, Blue, Grey, Pink\",\"Black, Blue, Green\",\"Black, Blue, Grey, Pink, Gold\",\"Black, Beige, Grey\",\"Black, Blue, Green, Red, Beige, Grey\",\"Black, Blue, Grey, Pink \",\"Beige, Black, Grey\",\"Black, Blue, Green, Grey, Pink\",\"Black, Grey, Silver\",\"Black, Blue, Red, Rose Gold\",\"Black, Green, Grey\",\"Black, Grey, Pink\",\"Black, Blue, White\",\"Black, Blue, Grey, Pink, White\",\"Silver, Black, Green\",\"Grey, Blue, Black, Red\",\"Green, Red\",\"Black, Silver\",\"Frost Blue\",\"Cerise\",\"Blue, Orange\",\"Rose Gold, Slate Black\",\"Black, Green, Yellow\",\"Powder Gray\",\"Red, White \",\"Tidal Blue\",\"Bluw, White \",\"Slate\",\"Cloud\",\"Storm Blue, Black, Rosewood\",\"Stone\",\"Light Blue\",\"Charcoal Grey, Black, Pink\",\"Black, Teal Green, Grey\",\"Orange, Red, Black\",\"Pink, Silver, Black\",\"Olive Green\",\"Navy Blue\",\"Dynamic Orange\",\"Meteorite Black, Midnight Navy\",\"Sandstone Grey, Meteorite Black, Coral Pink, \",\"Pink, Black\",\"Pink, Black, Teal, Orange\",\"Sky Blue \",\"Violet \",\"Charcoal Black, Beige Gold\",\"Black, Purple, Teal, Blue\",\"Rose Gold, Gun Metal Black\",\"Orange, Pink, Green\",\"Pink \",\"Plum silver\",\"Black, Plum, Grey\",\"Multicolor \",\"Charcoal \",\"Violet, black, Grey, Teal, Blue, Red\",\"Lilac \",\"Granite Reflective \",\"Black, Desert Rose, Lunar White\",\"Green, Grey, Black, Blue, Pink, Red\",\"Black, Deep Wine, Blue, Grey, Teal\",\"Stainless Steel Milanese\",\"Blue, Black, Gray\",\"Space Black\",\"Cyprus Green\",\"Black Milanese\",\"black\",\"Graphite Milanese\",\"Black, Pink, White\",\"Red, Green\",\"multicolor\",\"Blue, Silver\",\"Brown, Gold\",\"Maroon \",\"Silver, Brown\",\"Dual Color\",\"Grey, Green\",\"Brown, Black\",\"Black, Silver \",\"Multicolor\",\"Grey, Pink, Black\",\"Pink, Blue\",\"Silver, Blue\",\"Silver, Green\",\"Black, Pink, Beige\",\"Black, Beige\",\"Black, Red\",\"Black, Blue, Teal\",\"Green, Teal, Grey\",\"Black, Grey, Green\"],\"xaxis\":\"x\",\"y\":[199,33,26,22,21,20,15,11,8,7,7,6,5,5,5,5,5,4,4,4,4,4,4,4,3,3,3,3,3,3,3,3,3,3,3,2,2,2,2,2,2,2,2,2,2,2,2,2,2,2,2,2,2,2,2,1,1,1,1,1,1,1,1,1,1,1,1,1,1,1,1,1,1,1,1,1,1,1,1,1,1,1,1,1,1,1,1,1,1,1,1,1,1,1,1,1,1,1,1,1,1,1,1,1,1,1,1,1,1,1,1,1,1,1,1,1,1,1,1,1,1,1,1,1,1,1,1,1,1,1,1,1,1,1,1,1,1,1,1,1,1,1,1,1,1,1,1,1,1,1,1,1,1,1,1,1,1,1,1,1,1,1,1,1],\"yaxis\":\"y\",\"type\":\"bar\"}],                        {\"template\":{\"data\":{\"histogram2dcontour\":[{\"type\":\"histogram2dcontour\",\"colorbar\":{\"outlinewidth\":0,\"ticks\":\"\"},\"colorscale\":[[0.0,\"#0d0887\"],[0.1111111111111111,\"#46039f\"],[0.2222222222222222,\"#7201a8\"],[0.3333333333333333,\"#9c179e\"],[0.4444444444444444,\"#bd3786\"],[0.5555555555555556,\"#d8576b\"],[0.6666666666666666,\"#ed7953\"],[0.7777777777777778,\"#fb9f3a\"],[0.8888888888888888,\"#fdca26\"],[1.0,\"#f0f921\"]]}],\"choropleth\":[{\"type\":\"choropleth\",\"colorbar\":{\"outlinewidth\":0,\"ticks\":\"\"}}],\"histogram2d\":[{\"type\":\"histogram2d\",\"colorbar\":{\"outlinewidth\":0,\"ticks\":\"\"},\"colorscale\":[[0.0,\"#0d0887\"],[0.1111111111111111,\"#46039f\"],[0.2222222222222222,\"#7201a8\"],[0.3333333333333333,\"#9c179e\"],[0.4444444444444444,\"#bd3786\"],[0.5555555555555556,\"#d8576b\"],[0.6666666666666666,\"#ed7953\"],[0.7777777777777778,\"#fb9f3a\"],[0.8888888888888888,\"#fdca26\"],[1.0,\"#f0f921\"]]}],\"heatmap\":[{\"type\":\"heatmap\",\"colorbar\":{\"outlinewidth\":0,\"ticks\":\"\"},\"colorscale\":[[0.0,\"#0d0887\"],[0.1111111111111111,\"#46039f\"],[0.2222222222222222,\"#7201a8\"],[0.3333333333333333,\"#9c179e\"],[0.4444444444444444,\"#bd3786\"],[0.5555555555555556,\"#d8576b\"],[0.6666666666666666,\"#ed7953\"],[0.7777777777777778,\"#fb9f3a\"],[0.8888888888888888,\"#fdca26\"],[1.0,\"#f0f921\"]]}],\"heatmapgl\":[{\"type\":\"heatmapgl\",\"colorbar\":{\"outlinewidth\":0,\"ticks\":\"\"},\"colorscale\":[[0.0,\"#0d0887\"],[0.1111111111111111,\"#46039f\"],[0.2222222222222222,\"#7201a8\"],[0.3333333333333333,\"#9c179e\"],[0.4444444444444444,\"#bd3786\"],[0.5555555555555556,\"#d8576b\"],[0.6666666666666666,\"#ed7953\"],[0.7777777777777778,\"#fb9f3a\"],[0.8888888888888888,\"#fdca26\"],[1.0,\"#f0f921\"]]}],\"contourcarpet\":[{\"type\":\"contourcarpet\",\"colorbar\":{\"outlinewidth\":0,\"ticks\":\"\"}}],\"contour\":[{\"type\":\"contour\",\"colorbar\":{\"outlinewidth\":0,\"ticks\":\"\"},\"colorscale\":[[0.0,\"#0d0887\"],[0.1111111111111111,\"#46039f\"],[0.2222222222222222,\"#7201a8\"],[0.3333333333333333,\"#9c179e\"],[0.4444444444444444,\"#bd3786\"],[0.5555555555555556,\"#d8576b\"],[0.6666666666666666,\"#ed7953\"],[0.7777777777777778,\"#fb9f3a\"],[0.8888888888888888,\"#fdca26\"],[1.0,\"#f0f921\"]]}],\"surface\":[{\"type\":\"surface\",\"colorbar\":{\"outlinewidth\":0,\"ticks\":\"\"},\"colorscale\":[[0.0,\"#0d0887\"],[0.1111111111111111,\"#46039f\"],[0.2222222222222222,\"#7201a8\"],[0.3333333333333333,\"#9c179e\"],[0.4444444444444444,\"#bd3786\"],[0.5555555555555556,\"#d8576b\"],[0.6666666666666666,\"#ed7953\"],[0.7777777777777778,\"#fb9f3a\"],[0.8888888888888888,\"#fdca26\"],[1.0,\"#f0f921\"]]}],\"mesh3d\":[{\"type\":\"mesh3d\",\"colorbar\":{\"outlinewidth\":0,\"ticks\":\"\"}}],\"scatter\":[{\"fillpattern\":{\"fillmode\":\"overlay\",\"size\":10,\"solidity\":0.2},\"type\":\"scatter\"}],\"parcoords\":[{\"type\":\"parcoords\",\"line\":{\"colorbar\":{\"outlinewidth\":0,\"ticks\":\"\"}}}],\"scatterpolargl\":[{\"type\":\"scatterpolargl\",\"marker\":{\"colorbar\":{\"outlinewidth\":0,\"ticks\":\"\"}}}],\"bar\":[{\"error_x\":{\"color\":\"#2a3f5f\"},\"error_y\":{\"color\":\"#2a3f5f\"},\"marker\":{\"line\":{\"color\":\"#E5ECF6\",\"width\":0.5},\"pattern\":{\"fillmode\":\"overlay\",\"size\":10,\"solidity\":0.2}},\"type\":\"bar\"}],\"scattergeo\":[{\"type\":\"scattergeo\",\"marker\":{\"colorbar\":{\"outlinewidth\":0,\"ticks\":\"\"}}}],\"scatterpolar\":[{\"type\":\"scatterpolar\",\"marker\":{\"colorbar\":{\"outlinewidth\":0,\"ticks\":\"\"}}}],\"histogram\":[{\"marker\":{\"pattern\":{\"fillmode\":\"overlay\",\"size\":10,\"solidity\":0.2}},\"type\":\"histogram\"}],\"scattergl\":[{\"type\":\"scattergl\",\"marker\":{\"colorbar\":{\"outlinewidth\":0,\"ticks\":\"\"}}}],\"scatter3d\":[{\"type\":\"scatter3d\",\"line\":{\"colorbar\":{\"outlinewidth\":0,\"ticks\":\"\"}},\"marker\":{\"colorbar\":{\"outlinewidth\":0,\"ticks\":\"\"}}}],\"scattermapbox\":[{\"type\":\"scattermapbox\",\"marker\":{\"colorbar\":{\"outlinewidth\":0,\"ticks\":\"\"}}}],\"scatterternary\":[{\"type\":\"scatterternary\",\"marker\":{\"colorbar\":{\"outlinewidth\":0,\"ticks\":\"\"}}}],\"scattercarpet\":[{\"type\":\"scattercarpet\",\"marker\":{\"colorbar\":{\"outlinewidth\":0,\"ticks\":\"\"}}}],\"carpet\":[{\"aaxis\":{\"endlinecolor\":\"#2a3f5f\",\"gridcolor\":\"white\",\"linecolor\":\"white\",\"minorgridcolor\":\"white\",\"startlinecolor\":\"#2a3f5f\"},\"baxis\":{\"endlinecolor\":\"#2a3f5f\",\"gridcolor\":\"white\",\"linecolor\":\"white\",\"minorgridcolor\":\"white\",\"startlinecolor\":\"#2a3f5f\"},\"type\":\"carpet\"}],\"table\":[{\"cells\":{\"fill\":{\"color\":\"#EBF0F8\"},\"line\":{\"color\":\"white\"}},\"header\":{\"fill\":{\"color\":\"#C8D4E3\"},\"line\":{\"color\":\"white\"}},\"type\":\"table\"}],\"barpolar\":[{\"marker\":{\"line\":{\"color\":\"#E5ECF6\",\"width\":0.5},\"pattern\":{\"fillmode\":\"overlay\",\"size\":10,\"solidity\":0.2}},\"type\":\"barpolar\"}],\"pie\":[{\"automargin\":true,\"type\":\"pie\"}]},\"layout\":{\"autotypenumbers\":\"strict\",\"colorway\":[\"#636efa\",\"#EF553B\",\"#00cc96\",\"#ab63fa\",\"#FFA15A\",\"#19d3f3\",\"#FF6692\",\"#B6E880\",\"#FF97FF\",\"#FECB52\"],\"font\":{\"color\":\"#2a3f5f\"},\"hovermode\":\"closest\",\"hoverlabel\":{\"align\":\"left\"},\"paper_bgcolor\":\"white\",\"plot_bgcolor\":\"#E5ECF6\",\"polar\":{\"bgcolor\":\"#E5ECF6\",\"angularaxis\":{\"gridcolor\":\"white\",\"linecolor\":\"white\",\"ticks\":\"\"},\"radialaxis\":{\"gridcolor\":\"white\",\"linecolor\":\"white\",\"ticks\":\"\"}},\"ternary\":{\"bgcolor\":\"#E5ECF6\",\"aaxis\":{\"gridcolor\":\"white\",\"linecolor\":\"white\",\"ticks\":\"\"},\"baxis\":{\"gridcolor\":\"white\",\"linecolor\":\"white\",\"ticks\":\"\"},\"caxis\":{\"gridcolor\":\"white\",\"linecolor\":\"white\",\"ticks\":\"\"}},\"coloraxis\":{\"colorbar\":{\"outlinewidth\":0,\"ticks\":\"\"}},\"colorscale\":{\"sequential\":[[0.0,\"#0d0887\"],[0.1111111111111111,\"#46039f\"],[0.2222222222222222,\"#7201a8\"],[0.3333333333333333,\"#9c179e\"],[0.4444444444444444,\"#bd3786\"],[0.5555555555555556,\"#d8576b\"],[0.6666666666666666,\"#ed7953\"],[0.7777777777777778,\"#fb9f3a\"],[0.8888888888888888,\"#fdca26\"],[1.0,\"#f0f921\"]],\"sequentialminus\":[[0.0,\"#0d0887\"],[0.1111111111111111,\"#46039f\"],[0.2222222222222222,\"#7201a8\"],[0.3333333333333333,\"#9c179e\"],[0.4444444444444444,\"#bd3786\"],[0.5555555555555556,\"#d8576b\"],[0.6666666666666666,\"#ed7953\"],[0.7777777777777778,\"#fb9f3a\"],[0.8888888888888888,\"#fdca26\"],[1.0,\"#f0f921\"]],\"diverging\":[[0,\"#8e0152\"],[0.1,\"#c51b7d\"],[0.2,\"#de77ae\"],[0.3,\"#f1b6da\"],[0.4,\"#fde0ef\"],[0.5,\"#f7f7f7\"],[0.6,\"#e6f5d0\"],[0.7,\"#b8e186\"],[0.8,\"#7fbc41\"],[0.9,\"#4d9221\"],[1,\"#276419\"]]},\"xaxis\":{\"gridcolor\":\"white\",\"linecolor\":\"white\",\"ticks\":\"\",\"title\":{\"standoff\":15},\"zerolinecolor\":\"white\",\"automargin\":true,\"zerolinewidth\":2},\"yaxis\":{\"gridcolor\":\"white\",\"linecolor\":\"white\",\"ticks\":\"\",\"title\":{\"standoff\":15},\"zerolinecolor\":\"white\",\"automargin\":true,\"zerolinewidth\":2},\"scene\":{\"xaxis\":{\"backgroundcolor\":\"#E5ECF6\",\"gridcolor\":\"white\",\"linecolor\":\"white\",\"showbackground\":true,\"ticks\":\"\",\"zerolinecolor\":\"white\",\"gridwidth\":2},\"yaxis\":{\"backgroundcolor\":\"#E5ECF6\",\"gridcolor\":\"white\",\"linecolor\":\"white\",\"showbackground\":true,\"ticks\":\"\",\"zerolinecolor\":\"white\",\"gridwidth\":2},\"zaxis\":{\"backgroundcolor\":\"#E5ECF6\",\"gridcolor\":\"white\",\"linecolor\":\"white\",\"showbackground\":true,\"ticks\":\"\",\"zerolinecolor\":\"white\",\"gridwidth\":2}},\"shapedefaults\":{\"line\":{\"color\":\"#2a3f5f\"}},\"annotationdefaults\":{\"arrowcolor\":\"#2a3f5f\",\"arrowhead\":0,\"arrowwidth\":1},\"geo\":{\"bgcolor\":\"white\",\"landcolor\":\"#E5ECF6\",\"subunitcolor\":\"white\",\"showland\":true,\"showlakes\":true,\"lakecolor\":\"white\"},\"title\":{\"x\":0.05},\"mapbox\":{\"style\":\"light\"}}},\"xaxis\":{\"anchor\":\"y\",\"domain\":[0.0,1.0],\"title\":{\"text\":\"x\"}},\"yaxis\":{\"anchor\":\"x\",\"domain\":[0.0,1.0],\"title\":{\"text\":\"y\"}},\"legend\":{\"tracegroupgap\":0},\"margin\":{\"t\":60},\"barmode\":\"relative\"},                        {\"responsive\": true}                    ).then(function(){\n",
       "                            \n",
       "var gd = document.getElementById('0acdc54b-9ce0-46b0-97ea-f2bdc8041ed4');\n",
       "var x = new MutationObserver(function (mutations, observer) {{\n",
       "        var display = window.getComputedStyle(gd).display;\n",
       "        if (!display || display === 'none') {{\n",
       "            console.log([gd, 'removed!']);\n",
       "            Plotly.purge(gd);\n",
       "            observer.disconnect();\n",
       "        }}\n",
       "}});\n",
       "\n",
       "// Listen for the removal of the full notebook cells\n",
       "var notebookContainer = gd.closest('#notebook-container');\n",
       "if (notebookContainer) {{\n",
       "    x.observe(notebookContainer, {childList: true});\n",
       "}}\n",
       "\n",
       "// Listen for the clearing of the current output cell\n",
       "var outputEl = gd.closest('.output');\n",
       "if (outputEl) {{\n",
       "    x.observe(outputEl, {childList: true});\n",
       "}}\n",
       "\n",
       "                        })                };                });            </script>        </div>"
      ]
     },
     "metadata": {},
     "output_type": "display_data"
    }
   ],
   "source": [
    "fig = px.bar(health, health.Color.value_counts().index, y=health.Color.value_counts().values)\n",
    "fig.show()"
   ]
  },
  {
   "cell_type": "markdown",
   "id": "61324ecd",
   "metadata": {
    "papermill": {
     "duration": 0.028758,
     "end_time": "2022-10-20T18:00:02.663602",
     "exception": false,
     "start_time": "2022-10-20T18:00:02.634844",
     "status": "completed"
    },
    "tags": []
   },
   "source": [
    "## Is this true for top 20 grossing trackers?"
   ]
  },
  {
   "cell_type": "code",
   "execution_count": 34,
   "id": "60ba7377",
   "metadata": {
    "execution": {
     "iopub.execute_input": "2022-10-20T18:00:02.723060Z",
     "iopub.status.busy": "2022-10-20T18:00:02.721853Z",
     "iopub.status.idle": "2022-10-20T18:00:02.735563Z",
     "shell.execute_reply": "2022-10-20T18:00:02.733500Z"
    },
    "papermill": {
     "duration": 0.047075,
     "end_time": "2022-10-20T18:00:02.738800",
     "exception": false,
     "start_time": "2022-10-20T18:00:02.691725",
     "status": "completed"
    },
    "tags": []
   },
   "outputs": [
    {
     "data": {
      "text/plain": [
       "FOSSIL      8\n",
       "FitBit      4\n",
       "huami       4\n",
       "GARMIN      2\n",
       "SAMSUNG     1\n",
       "Honor       1\n",
       "Name: Brand Name, dtype: int64"
      ]
     },
     "execution_count": 34,
     "metadata": {},
     "output_type": "execute_result"
    }
   ],
   "source": [
    "top20_gross = agg.sort_values(['model_total_tx'], ascending=[False])[:20]\n",
    "top20_gross['Brand Name'].value_counts()"
   ]
  },
  {
   "cell_type": "code",
   "execution_count": 35,
   "id": "2d30752f",
   "metadata": {
    "execution": {
     "iopub.execute_input": "2022-10-20T18:00:02.797038Z",
     "iopub.status.busy": "2022-10-20T18:00:02.795487Z",
     "iopub.status.idle": "2022-10-20T18:00:02.811961Z",
     "shell.execute_reply": "2022-10-20T18:00:02.810471Z"
    },
    "papermill": {
     "duration": 0.048108,
     "end_time": "2022-10-20T18:00:02.814992",
     "exception": false,
     "start_time": "2022-10-20T18:00:02.766884",
     "status": "completed"
    },
    "tags": []
   },
   "outputs": [
    {
     "data": {
      "text/plain": [
       "Black             122\n",
       "Blue               26\n",
       "Silver             25\n",
       "Gold               20\n",
       "Grey               17\n",
       "                 ... \n",
       "Black, Red          1\n",
       "Olive Green         1\n",
       "Navy Blue           1\n",
       "Dynamic Orange      1\n",
       "Frost Blue          1\n",
       "Name: Color, Length: 104, dtype: int64"
      ]
     },
     "execution_count": 35,
     "metadata": {},
     "output_type": "execute_result"
    }
   ],
   "source": [
    "health.loc[health['Brand Name'].isin(top20_gross['Brand Name'].value_counts().index)].Color.value_counts()"
   ]
  },
  {
   "cell_type": "markdown",
   "id": "e55262eb",
   "metadata": {
    "papermill": {
     "duration": 0.028491,
     "end_time": "2022-10-20T18:00:02.875426",
     "exception": false,
     "start_time": "2022-10-20T18:00:02.846935",
     "status": "completed"
    },
    "tags": []
   },
   "source": [
    "We can see here that Black is the most popular color with a huge tail. We can also see that there is some data integrity issues (color Black shows up 2x probably due to formatting from web scrape)."
   ]
  },
  {
   "cell_type": "code",
   "execution_count": 36,
   "id": "e7c22cb3",
   "metadata": {
    "execution": {
     "iopub.execute_input": "2022-10-20T18:00:02.938203Z",
     "iopub.status.busy": "2022-10-20T18:00:02.937632Z",
     "iopub.status.idle": "2022-10-20T18:00:02.945372Z",
     "shell.execute_reply": "2022-10-20T18:00:02.944294Z"
    },
    "papermill": {
     "duration": 0.043314,
     "end_time": "2022-10-20T18:00:02.947636",
     "exception": false,
     "start_time": "2022-10-20T18:00:02.904322",
     "status": "completed"
    },
    "tags": []
   },
   "outputs": [
    {
     "data": {
      "text/plain": [
       "['Brand Name',\n",
       " 'Device Type',\n",
       " 'Model Name',\n",
       " 'Color',\n",
       " 'Selling Price',\n",
       " 'Original Price',\n",
       " 'Display',\n",
       " 'Rating (Out of 5)',\n",
       " 'Strap Material',\n",
       " 'Average Battery Life (in days)',\n",
       " 'Reviews']"
      ]
     },
     "execution_count": 36,
     "metadata": {},
     "output_type": "execute_result"
    }
   ],
   "source": [
    "list(health)"
   ]
  },
  {
   "cell_type": "markdown",
   "id": "98ddc123",
   "metadata": {
    "papermill": {
     "duration": 0.026499,
     "end_time": "2022-10-20T18:00:03.001942",
     "exception": false,
     "start_time": "2022-10-20T18:00:02.975443",
     "status": "completed"
    },
    "tags": []
   },
   "source": [
    "## Let's see the most popular Display, Strap Material and Average Battery Life (in days)."
   ]
  },
  {
   "cell_type": "code",
   "execution_count": 37,
   "id": "d770a193",
   "metadata": {
    "execution": {
     "iopub.execute_input": "2022-10-20T18:00:03.058191Z",
     "iopub.status.busy": "2022-10-20T18:00:03.057703Z",
     "iopub.status.idle": "2022-10-20T18:00:03.326263Z",
     "shell.execute_reply": "2022-10-20T18:00:03.324721Z"
    },
    "papermill": {
     "duration": 0.300353,
     "end_time": "2022-10-20T18:00:03.329310",
     "exception": false,
     "start_time": "2022-10-20T18:00:03.028957",
     "status": "completed"
    },
    "tags": []
   },
   "outputs": [
    {
     "name": "stdout",
     "output_type": "stream",
     "text": [
      "Most popular fitness trackers' Color\n"
     ]
    },
    {
     "data": {
      "text/html": [
       "<div>                            <div id=\"5b3720d1-b07f-46e6-bfa3-ae8dae3fd899\" class=\"plotly-graph-div\" style=\"height:525px; width:100%;\"></div>            <script type=\"text/javascript\">                require([\"plotly\"], function(Plotly) {                    window.PLOTLYENV=window.PLOTLYENV || {};                                    if (document.getElementById(\"5b3720d1-b07f-46e6-bfa3-ae8dae3fd899\")) {                    Plotly.newPlot(                        \"5b3720d1-b07f-46e6-bfa3-ae8dae3fd899\",                        [{\"alignmentgroup\":\"True\",\"hovertemplate\":\"x=%{x}<br>y=%{y}<extra></extra>\",\"legendgroup\":\"\",\"marker\":{\"color\":\"#636efa\",\"pattern\":{\"shape\":\"\"}},\"name\":\"\",\"offsetgroup\":\"\",\"orientation\":\"v\",\"showlegend\":false,\"textposition\":\"auto\",\"x\":[\"Black\",\"Blue\",\"Silver\",\"Grey\",\"Gold\",\"White\",\"Brown\",\"Red\",\"Black \",\"Pink Sand\",\"Deep Navy\",\"Black, Blue\",\"Black, Grey\",\"White \",\"Grey \",\"Beige\",\"Purple\",\"Black, Green\",\"Blue Sapphire\",\"Orange\",\"Purple \",\"Black, Pink\",\"Pink\",\"Blue \",\"Gray\",\"Red, Black\",\"Black, White\",\"Blue, Black\",\"Rose Gold\",\"Grey, White\",\"Green, Grey\",\"Yellow\",\"Black, Blue, Pink\",\"Black, Grey, Red\",\"Green\",\"Grey, Blue\",\"Silver, Black\",\"Purple, Black\",\"Navy \",\"Silver Milanese\",\"Brown, Grey\",\"Grey, Multicolor\",\"Black, Red, Blue\",\"Rose Gold \",\"Flame Red\",\"Purple, White\",\"Black, Blue, Red\",\"Black, White \",\"White, Black\",\"Saddle Brown\",\"Gold Milanese\",\"Black, Brown\",\"Charcoal\",\"Black, Gold\",\"Plum\",\"Grey, Yellow\",\"Milanese\",\"Magma Red\",\"Black Woven\",\"Leather\",\"Cocoa\",\"Black, Orange, Red\",\"Pearl Woven\",\"Blue Modern\",\"Multicolor, White, Brown\",\"Grey, Black\",\"White, Pink\",\"Graphite, Sunburst\",\"Black, Red \",\"Purple, Grey, Brown, Black, White \",\"Black, Red, Orange\",\"Tidal Blue, Flame Red\",\"Graphite\",\"Black, Silver, White\",\"Blue, Grey, Pink\",\"Black, Blue, Grey, Pink\",\"Black, Blue, Green\",\"Black, Blue, Grey, Pink, Gold\",\"Black, Beige, Grey\",\"Black, Blue, Green, Red, Beige, Grey\",\"Black, Blue, Grey, Pink \",\"Beige, Black, Grey\",\"Black, Blue, Green, Grey, Pink\",\"Black, Grey, Silver\",\"Black, Blue, Red, Rose Gold\",\"Black, Green, Grey\",\"Black, Grey, Pink\",\"Black, Blue, White\",\"Black, Blue, Grey, Pink, White\",\"Silver, Black, Green\",\"Grey, Blue, Black, Red\",\"Green, Red\",\"Black, Silver\",\"Frost Blue\",\"Cerise\",\"Blue, Orange\",\"Rose Gold, Slate Black\",\"Black, Green, Yellow\",\"Powder Gray\",\"Red, White \",\"Tidal Blue\",\"Bluw, White \",\"Slate\",\"Cloud\",\"Storm Blue, Black, Rosewood\",\"Stone\",\"Light Blue\",\"Charcoal Grey, Black, Pink\",\"Black, Teal Green, Grey\",\"Orange, Red, Black\",\"Pink, Silver, Black\",\"Olive Green\",\"Navy Blue\",\"Dynamic Orange\",\"Meteorite Black, Midnight Navy\",\"Sandstone Grey, Meteorite Black, Coral Pink, \",\"Pink, Black\",\"Pink, Black, Teal, Orange\",\"Sky Blue \",\"Violet \",\"Charcoal Black, Beige Gold\",\"Black, Purple, Teal, Blue\",\"Rose Gold, Gun Metal Black\",\"Orange, Pink, Green\",\"Pink \",\"Plum silver\",\"Black, Plum, Grey\",\"Multicolor \",\"Charcoal \",\"Violet, black, Grey, Teal, Blue, Red\",\"Lilac \",\"Granite Reflective \",\"Black, Desert Rose, Lunar White\",\"Green, Grey, Black, Blue, Pink, Red\",\"Black, Deep Wine, Blue, Grey, Teal\",\"Stainless Steel Milanese\",\"Blue, Black, Gray\",\"Space Black\",\"Cyprus Green\",\"Black Milanese\",\"black\",\"Graphite Milanese\",\"Black, Pink, White\",\"Red, Green\",\"multicolor\",\"Blue, Silver\",\"Brown, Gold\",\"Maroon \",\"Silver, Brown\",\"Dual Color\",\"Grey, Green\",\"Brown, Black\",\"Black, Silver \",\"Multicolor\",\"Grey, Pink, Black\",\"Pink, Blue\",\"Silver, Blue\",\"Silver, Green\",\"Black, Pink, Beige\",\"Black, Beige\",\"Black, Red\",\"Black, Blue, Teal\",\"Green, Teal, Grey\",\"Black, Grey, Green\"],\"xaxis\":\"x\",\"y\":[199,33,26,22,21,20,15,11,8,7,7,6,5,5,5,5,5,4,4,4,4,4,4,4,3,3,3,3,3,3,3,3,3,3,3,2,2,2,2,2,2,2,2,2,2,2,2,2,2,2,2,2,2,2,2,1,1,1,1,1,1,1,1,1,1,1,1,1,1,1,1,1,1,1,1,1,1,1,1,1,1,1,1,1,1,1,1,1,1,1,1,1,1,1,1,1,1,1,1,1,1,1,1,1,1,1,1,1,1,1,1,1,1,1,1,1,1,1,1,1,1,1,1,1,1,1,1,1,1,1,1,1,1,1,1,1,1,1,1,1,1,1,1,1,1,1,1,1,1,1,1,1,1,1,1,1,1,1,1,1,1,1,1,1],\"yaxis\":\"y\",\"type\":\"bar\"}],                        {\"template\":{\"data\":{\"histogram2dcontour\":[{\"type\":\"histogram2dcontour\",\"colorbar\":{\"outlinewidth\":0,\"ticks\":\"\"},\"colorscale\":[[0.0,\"#0d0887\"],[0.1111111111111111,\"#46039f\"],[0.2222222222222222,\"#7201a8\"],[0.3333333333333333,\"#9c179e\"],[0.4444444444444444,\"#bd3786\"],[0.5555555555555556,\"#d8576b\"],[0.6666666666666666,\"#ed7953\"],[0.7777777777777778,\"#fb9f3a\"],[0.8888888888888888,\"#fdca26\"],[1.0,\"#f0f921\"]]}],\"choropleth\":[{\"type\":\"choropleth\",\"colorbar\":{\"outlinewidth\":0,\"ticks\":\"\"}}],\"histogram2d\":[{\"type\":\"histogram2d\",\"colorbar\":{\"outlinewidth\":0,\"ticks\":\"\"},\"colorscale\":[[0.0,\"#0d0887\"],[0.1111111111111111,\"#46039f\"],[0.2222222222222222,\"#7201a8\"],[0.3333333333333333,\"#9c179e\"],[0.4444444444444444,\"#bd3786\"],[0.5555555555555556,\"#d8576b\"],[0.6666666666666666,\"#ed7953\"],[0.7777777777777778,\"#fb9f3a\"],[0.8888888888888888,\"#fdca26\"],[1.0,\"#f0f921\"]]}],\"heatmap\":[{\"type\":\"heatmap\",\"colorbar\":{\"outlinewidth\":0,\"ticks\":\"\"},\"colorscale\":[[0.0,\"#0d0887\"],[0.1111111111111111,\"#46039f\"],[0.2222222222222222,\"#7201a8\"],[0.3333333333333333,\"#9c179e\"],[0.4444444444444444,\"#bd3786\"],[0.5555555555555556,\"#d8576b\"],[0.6666666666666666,\"#ed7953\"],[0.7777777777777778,\"#fb9f3a\"],[0.8888888888888888,\"#fdca26\"],[1.0,\"#f0f921\"]]}],\"heatmapgl\":[{\"type\":\"heatmapgl\",\"colorbar\":{\"outlinewidth\":0,\"ticks\":\"\"},\"colorscale\":[[0.0,\"#0d0887\"],[0.1111111111111111,\"#46039f\"],[0.2222222222222222,\"#7201a8\"],[0.3333333333333333,\"#9c179e\"],[0.4444444444444444,\"#bd3786\"],[0.5555555555555556,\"#d8576b\"],[0.6666666666666666,\"#ed7953\"],[0.7777777777777778,\"#fb9f3a\"],[0.8888888888888888,\"#fdca26\"],[1.0,\"#f0f921\"]]}],\"contourcarpet\":[{\"type\":\"contourcarpet\",\"colorbar\":{\"outlinewidth\":0,\"ticks\":\"\"}}],\"contour\":[{\"type\":\"contour\",\"colorbar\":{\"outlinewidth\":0,\"ticks\":\"\"},\"colorscale\":[[0.0,\"#0d0887\"],[0.1111111111111111,\"#46039f\"],[0.2222222222222222,\"#7201a8\"],[0.3333333333333333,\"#9c179e\"],[0.4444444444444444,\"#bd3786\"],[0.5555555555555556,\"#d8576b\"],[0.6666666666666666,\"#ed7953\"],[0.7777777777777778,\"#fb9f3a\"],[0.8888888888888888,\"#fdca26\"],[1.0,\"#f0f921\"]]}],\"surface\":[{\"type\":\"surface\",\"colorbar\":{\"outlinewidth\":0,\"ticks\":\"\"},\"colorscale\":[[0.0,\"#0d0887\"],[0.1111111111111111,\"#46039f\"],[0.2222222222222222,\"#7201a8\"],[0.3333333333333333,\"#9c179e\"],[0.4444444444444444,\"#bd3786\"],[0.5555555555555556,\"#d8576b\"],[0.6666666666666666,\"#ed7953\"],[0.7777777777777778,\"#fb9f3a\"],[0.8888888888888888,\"#fdca26\"],[1.0,\"#f0f921\"]]}],\"mesh3d\":[{\"type\":\"mesh3d\",\"colorbar\":{\"outlinewidth\":0,\"ticks\":\"\"}}],\"scatter\":[{\"fillpattern\":{\"fillmode\":\"overlay\",\"size\":10,\"solidity\":0.2},\"type\":\"scatter\"}],\"parcoords\":[{\"type\":\"parcoords\",\"line\":{\"colorbar\":{\"outlinewidth\":0,\"ticks\":\"\"}}}],\"scatterpolargl\":[{\"type\":\"scatterpolargl\",\"marker\":{\"colorbar\":{\"outlinewidth\":0,\"ticks\":\"\"}}}],\"bar\":[{\"error_x\":{\"color\":\"#2a3f5f\"},\"error_y\":{\"color\":\"#2a3f5f\"},\"marker\":{\"line\":{\"color\":\"#E5ECF6\",\"width\":0.5},\"pattern\":{\"fillmode\":\"overlay\",\"size\":10,\"solidity\":0.2}},\"type\":\"bar\"}],\"scattergeo\":[{\"type\":\"scattergeo\",\"marker\":{\"colorbar\":{\"outlinewidth\":0,\"ticks\":\"\"}}}],\"scatterpolar\":[{\"type\":\"scatterpolar\",\"marker\":{\"colorbar\":{\"outlinewidth\":0,\"ticks\":\"\"}}}],\"histogram\":[{\"marker\":{\"pattern\":{\"fillmode\":\"overlay\",\"size\":10,\"solidity\":0.2}},\"type\":\"histogram\"}],\"scattergl\":[{\"type\":\"scattergl\",\"marker\":{\"colorbar\":{\"outlinewidth\":0,\"ticks\":\"\"}}}],\"scatter3d\":[{\"type\":\"scatter3d\",\"line\":{\"colorbar\":{\"outlinewidth\":0,\"ticks\":\"\"}},\"marker\":{\"colorbar\":{\"outlinewidth\":0,\"ticks\":\"\"}}}],\"scattermapbox\":[{\"type\":\"scattermapbox\",\"marker\":{\"colorbar\":{\"outlinewidth\":0,\"ticks\":\"\"}}}],\"scatterternary\":[{\"type\":\"scatterternary\",\"marker\":{\"colorbar\":{\"outlinewidth\":0,\"ticks\":\"\"}}}],\"scattercarpet\":[{\"type\":\"scattercarpet\",\"marker\":{\"colorbar\":{\"outlinewidth\":0,\"ticks\":\"\"}}}],\"carpet\":[{\"aaxis\":{\"endlinecolor\":\"#2a3f5f\",\"gridcolor\":\"white\",\"linecolor\":\"white\",\"minorgridcolor\":\"white\",\"startlinecolor\":\"#2a3f5f\"},\"baxis\":{\"endlinecolor\":\"#2a3f5f\",\"gridcolor\":\"white\",\"linecolor\":\"white\",\"minorgridcolor\":\"white\",\"startlinecolor\":\"#2a3f5f\"},\"type\":\"carpet\"}],\"table\":[{\"cells\":{\"fill\":{\"color\":\"#EBF0F8\"},\"line\":{\"color\":\"white\"}},\"header\":{\"fill\":{\"color\":\"#C8D4E3\"},\"line\":{\"color\":\"white\"}},\"type\":\"table\"}],\"barpolar\":[{\"marker\":{\"line\":{\"color\":\"#E5ECF6\",\"width\":0.5},\"pattern\":{\"fillmode\":\"overlay\",\"size\":10,\"solidity\":0.2}},\"type\":\"barpolar\"}],\"pie\":[{\"automargin\":true,\"type\":\"pie\"}]},\"layout\":{\"autotypenumbers\":\"strict\",\"colorway\":[\"#636efa\",\"#EF553B\",\"#00cc96\",\"#ab63fa\",\"#FFA15A\",\"#19d3f3\",\"#FF6692\",\"#B6E880\",\"#FF97FF\",\"#FECB52\"],\"font\":{\"color\":\"#2a3f5f\"},\"hovermode\":\"closest\",\"hoverlabel\":{\"align\":\"left\"},\"paper_bgcolor\":\"white\",\"plot_bgcolor\":\"#E5ECF6\",\"polar\":{\"bgcolor\":\"#E5ECF6\",\"angularaxis\":{\"gridcolor\":\"white\",\"linecolor\":\"white\",\"ticks\":\"\"},\"radialaxis\":{\"gridcolor\":\"white\",\"linecolor\":\"white\",\"ticks\":\"\"}},\"ternary\":{\"bgcolor\":\"#E5ECF6\",\"aaxis\":{\"gridcolor\":\"white\",\"linecolor\":\"white\",\"ticks\":\"\"},\"baxis\":{\"gridcolor\":\"white\",\"linecolor\":\"white\",\"ticks\":\"\"},\"caxis\":{\"gridcolor\":\"white\",\"linecolor\":\"white\",\"ticks\":\"\"}},\"coloraxis\":{\"colorbar\":{\"outlinewidth\":0,\"ticks\":\"\"}},\"colorscale\":{\"sequential\":[[0.0,\"#0d0887\"],[0.1111111111111111,\"#46039f\"],[0.2222222222222222,\"#7201a8\"],[0.3333333333333333,\"#9c179e\"],[0.4444444444444444,\"#bd3786\"],[0.5555555555555556,\"#d8576b\"],[0.6666666666666666,\"#ed7953\"],[0.7777777777777778,\"#fb9f3a\"],[0.8888888888888888,\"#fdca26\"],[1.0,\"#f0f921\"]],\"sequentialminus\":[[0.0,\"#0d0887\"],[0.1111111111111111,\"#46039f\"],[0.2222222222222222,\"#7201a8\"],[0.3333333333333333,\"#9c179e\"],[0.4444444444444444,\"#bd3786\"],[0.5555555555555556,\"#d8576b\"],[0.6666666666666666,\"#ed7953\"],[0.7777777777777778,\"#fb9f3a\"],[0.8888888888888888,\"#fdca26\"],[1.0,\"#f0f921\"]],\"diverging\":[[0,\"#8e0152\"],[0.1,\"#c51b7d\"],[0.2,\"#de77ae\"],[0.3,\"#f1b6da\"],[0.4,\"#fde0ef\"],[0.5,\"#f7f7f7\"],[0.6,\"#e6f5d0\"],[0.7,\"#b8e186\"],[0.8,\"#7fbc41\"],[0.9,\"#4d9221\"],[1,\"#276419\"]]},\"xaxis\":{\"gridcolor\":\"white\",\"linecolor\":\"white\",\"ticks\":\"\",\"title\":{\"standoff\":15},\"zerolinecolor\":\"white\",\"automargin\":true,\"zerolinewidth\":2},\"yaxis\":{\"gridcolor\":\"white\",\"linecolor\":\"white\",\"ticks\":\"\",\"title\":{\"standoff\":15},\"zerolinecolor\":\"white\",\"automargin\":true,\"zerolinewidth\":2},\"scene\":{\"xaxis\":{\"backgroundcolor\":\"#E5ECF6\",\"gridcolor\":\"white\",\"linecolor\":\"white\",\"showbackground\":true,\"ticks\":\"\",\"zerolinecolor\":\"white\",\"gridwidth\":2},\"yaxis\":{\"backgroundcolor\":\"#E5ECF6\",\"gridcolor\":\"white\",\"linecolor\":\"white\",\"showbackground\":true,\"ticks\":\"\",\"zerolinecolor\":\"white\",\"gridwidth\":2},\"zaxis\":{\"backgroundcolor\":\"#E5ECF6\",\"gridcolor\":\"white\",\"linecolor\":\"white\",\"showbackground\":true,\"ticks\":\"\",\"zerolinecolor\":\"white\",\"gridwidth\":2}},\"shapedefaults\":{\"line\":{\"color\":\"#2a3f5f\"}},\"annotationdefaults\":{\"arrowcolor\":\"#2a3f5f\",\"arrowhead\":0,\"arrowwidth\":1},\"geo\":{\"bgcolor\":\"white\",\"landcolor\":\"#E5ECF6\",\"subunitcolor\":\"white\",\"showland\":true,\"showlakes\":true,\"lakecolor\":\"white\"},\"title\":{\"x\":0.05},\"mapbox\":{\"style\":\"light\"}}},\"xaxis\":{\"anchor\":\"y\",\"domain\":[0.0,1.0],\"title\":{\"text\":\"x\"}},\"yaxis\":{\"anchor\":\"x\",\"domain\":[0.0,1.0],\"title\":{\"text\":\"y\"}},\"legend\":{\"tracegroupgap\":0},\"margin\":{\"t\":60},\"barmode\":\"relative\"},                        {\"responsive\": true}                    ).then(function(){\n",
       "                            \n",
       "var gd = document.getElementById('5b3720d1-b07f-46e6-bfa3-ae8dae3fd899');\n",
       "var x = new MutationObserver(function (mutations, observer) {{\n",
       "        var display = window.getComputedStyle(gd).display;\n",
       "        if (!display || display === 'none') {{\n",
       "            console.log([gd, 'removed!']);\n",
       "            Plotly.purge(gd);\n",
       "            observer.disconnect();\n",
       "        }}\n",
       "}});\n",
       "\n",
       "// Listen for the removal of the full notebook cells\n",
       "var notebookContainer = gd.closest('#notebook-container');\n",
       "if (notebookContainer) {{\n",
       "    x.observe(notebookContainer, {childList: true});\n",
       "}}\n",
       "\n",
       "// Listen for the clearing of the current output cell\n",
       "var outputEl = gd.closest('.output');\n",
       "if (outputEl) {{\n",
       "    x.observe(outputEl, {childList: true});\n",
       "}}\n",
       "\n",
       "                        })                };                });            </script>        </div>"
      ]
     },
     "metadata": {},
     "output_type": "display_data"
    },
    {
     "name": "stdout",
     "output_type": "stream",
     "text": [
      "Most popular fitness trackers' Display\n"
     ]
    },
    {
     "data": {
      "text/html": [
       "<div>                            <div id=\"3c22aca4-a84e-4fb7-8756-cc61b55263e4\" class=\"plotly-graph-div\" style=\"height:525px; width:100%;\"></div>            <script type=\"text/javascript\">                require([\"plotly\"], function(Plotly) {                    window.PLOTLYENV=window.PLOTLYENV || {};                                    if (document.getElementById(\"3c22aca4-a84e-4fb7-8756-cc61b55263e4\")) {                    Plotly.newPlot(                        \"3c22aca4-a84e-4fb7-8756-cc61b55263e4\",                        [{\"alignmentgroup\":\"True\",\"hovertemplate\":\"x=%{x}<br>y=%{y}<extra></extra>\",\"legendgroup\":\"\",\"marker\":{\"color\":\"#636efa\",\"pattern\":{\"shape\":\"\"}},\"name\":\"\",\"offsetgroup\":\"\",\"orientation\":\"v\",\"showlegend\":false,\"textposition\":\"auto\",\"x\":[\"AMOLED Display\",\"OLED Retina Display\",\"OLED Display\",\"TFT-LCD Display\",\"LED Display\",\"LCD Display\",\"PMOLED Display\",\"IPS Display\",\"HD Display\"],\"xaxis\":\"x\",\"y\":[360,86,43,32,28,25,20,8,8],\"yaxis\":\"y\",\"type\":\"bar\"}],                        {\"template\":{\"data\":{\"histogram2dcontour\":[{\"type\":\"histogram2dcontour\",\"colorbar\":{\"outlinewidth\":0,\"ticks\":\"\"},\"colorscale\":[[0.0,\"#0d0887\"],[0.1111111111111111,\"#46039f\"],[0.2222222222222222,\"#7201a8\"],[0.3333333333333333,\"#9c179e\"],[0.4444444444444444,\"#bd3786\"],[0.5555555555555556,\"#d8576b\"],[0.6666666666666666,\"#ed7953\"],[0.7777777777777778,\"#fb9f3a\"],[0.8888888888888888,\"#fdca26\"],[1.0,\"#f0f921\"]]}],\"choropleth\":[{\"type\":\"choropleth\",\"colorbar\":{\"outlinewidth\":0,\"ticks\":\"\"}}],\"histogram2d\":[{\"type\":\"histogram2d\",\"colorbar\":{\"outlinewidth\":0,\"ticks\":\"\"},\"colorscale\":[[0.0,\"#0d0887\"],[0.1111111111111111,\"#46039f\"],[0.2222222222222222,\"#7201a8\"],[0.3333333333333333,\"#9c179e\"],[0.4444444444444444,\"#bd3786\"],[0.5555555555555556,\"#d8576b\"],[0.6666666666666666,\"#ed7953\"],[0.7777777777777778,\"#fb9f3a\"],[0.8888888888888888,\"#fdca26\"],[1.0,\"#f0f921\"]]}],\"heatmap\":[{\"type\":\"heatmap\",\"colorbar\":{\"outlinewidth\":0,\"ticks\":\"\"},\"colorscale\":[[0.0,\"#0d0887\"],[0.1111111111111111,\"#46039f\"],[0.2222222222222222,\"#7201a8\"],[0.3333333333333333,\"#9c179e\"],[0.4444444444444444,\"#bd3786\"],[0.5555555555555556,\"#d8576b\"],[0.6666666666666666,\"#ed7953\"],[0.7777777777777778,\"#fb9f3a\"],[0.8888888888888888,\"#fdca26\"],[1.0,\"#f0f921\"]]}],\"heatmapgl\":[{\"type\":\"heatmapgl\",\"colorbar\":{\"outlinewidth\":0,\"ticks\":\"\"},\"colorscale\":[[0.0,\"#0d0887\"],[0.1111111111111111,\"#46039f\"],[0.2222222222222222,\"#7201a8\"],[0.3333333333333333,\"#9c179e\"],[0.4444444444444444,\"#bd3786\"],[0.5555555555555556,\"#d8576b\"],[0.6666666666666666,\"#ed7953\"],[0.7777777777777778,\"#fb9f3a\"],[0.8888888888888888,\"#fdca26\"],[1.0,\"#f0f921\"]]}],\"contourcarpet\":[{\"type\":\"contourcarpet\",\"colorbar\":{\"outlinewidth\":0,\"ticks\":\"\"}}],\"contour\":[{\"type\":\"contour\",\"colorbar\":{\"outlinewidth\":0,\"ticks\":\"\"},\"colorscale\":[[0.0,\"#0d0887\"],[0.1111111111111111,\"#46039f\"],[0.2222222222222222,\"#7201a8\"],[0.3333333333333333,\"#9c179e\"],[0.4444444444444444,\"#bd3786\"],[0.5555555555555556,\"#d8576b\"],[0.6666666666666666,\"#ed7953\"],[0.7777777777777778,\"#fb9f3a\"],[0.8888888888888888,\"#fdca26\"],[1.0,\"#f0f921\"]]}],\"surface\":[{\"type\":\"surface\",\"colorbar\":{\"outlinewidth\":0,\"ticks\":\"\"},\"colorscale\":[[0.0,\"#0d0887\"],[0.1111111111111111,\"#46039f\"],[0.2222222222222222,\"#7201a8\"],[0.3333333333333333,\"#9c179e\"],[0.4444444444444444,\"#bd3786\"],[0.5555555555555556,\"#d8576b\"],[0.6666666666666666,\"#ed7953\"],[0.7777777777777778,\"#fb9f3a\"],[0.8888888888888888,\"#fdca26\"],[1.0,\"#f0f921\"]]}],\"mesh3d\":[{\"type\":\"mesh3d\",\"colorbar\":{\"outlinewidth\":0,\"ticks\":\"\"}}],\"scatter\":[{\"fillpattern\":{\"fillmode\":\"overlay\",\"size\":10,\"solidity\":0.2},\"type\":\"scatter\"}],\"parcoords\":[{\"type\":\"parcoords\",\"line\":{\"colorbar\":{\"outlinewidth\":0,\"ticks\":\"\"}}}],\"scatterpolargl\":[{\"type\":\"scatterpolargl\",\"marker\":{\"colorbar\":{\"outlinewidth\":0,\"ticks\":\"\"}}}],\"bar\":[{\"error_x\":{\"color\":\"#2a3f5f\"},\"error_y\":{\"color\":\"#2a3f5f\"},\"marker\":{\"line\":{\"color\":\"#E5ECF6\",\"width\":0.5},\"pattern\":{\"fillmode\":\"overlay\",\"size\":10,\"solidity\":0.2}},\"type\":\"bar\"}],\"scattergeo\":[{\"type\":\"scattergeo\",\"marker\":{\"colorbar\":{\"outlinewidth\":0,\"ticks\":\"\"}}}],\"scatterpolar\":[{\"type\":\"scatterpolar\",\"marker\":{\"colorbar\":{\"outlinewidth\":0,\"ticks\":\"\"}}}],\"histogram\":[{\"marker\":{\"pattern\":{\"fillmode\":\"overlay\",\"size\":10,\"solidity\":0.2}},\"type\":\"histogram\"}],\"scattergl\":[{\"type\":\"scattergl\",\"marker\":{\"colorbar\":{\"outlinewidth\":0,\"ticks\":\"\"}}}],\"scatter3d\":[{\"type\":\"scatter3d\",\"line\":{\"colorbar\":{\"outlinewidth\":0,\"ticks\":\"\"}},\"marker\":{\"colorbar\":{\"outlinewidth\":0,\"ticks\":\"\"}}}],\"scattermapbox\":[{\"type\":\"scattermapbox\",\"marker\":{\"colorbar\":{\"outlinewidth\":0,\"ticks\":\"\"}}}],\"scatterternary\":[{\"type\":\"scatterternary\",\"marker\":{\"colorbar\":{\"outlinewidth\":0,\"ticks\":\"\"}}}],\"scattercarpet\":[{\"type\":\"scattercarpet\",\"marker\":{\"colorbar\":{\"outlinewidth\":0,\"ticks\":\"\"}}}],\"carpet\":[{\"aaxis\":{\"endlinecolor\":\"#2a3f5f\",\"gridcolor\":\"white\",\"linecolor\":\"white\",\"minorgridcolor\":\"white\",\"startlinecolor\":\"#2a3f5f\"},\"baxis\":{\"endlinecolor\":\"#2a3f5f\",\"gridcolor\":\"white\",\"linecolor\":\"white\",\"minorgridcolor\":\"white\",\"startlinecolor\":\"#2a3f5f\"},\"type\":\"carpet\"}],\"table\":[{\"cells\":{\"fill\":{\"color\":\"#EBF0F8\"},\"line\":{\"color\":\"white\"}},\"header\":{\"fill\":{\"color\":\"#C8D4E3\"},\"line\":{\"color\":\"white\"}},\"type\":\"table\"}],\"barpolar\":[{\"marker\":{\"line\":{\"color\":\"#E5ECF6\",\"width\":0.5},\"pattern\":{\"fillmode\":\"overlay\",\"size\":10,\"solidity\":0.2}},\"type\":\"barpolar\"}],\"pie\":[{\"automargin\":true,\"type\":\"pie\"}]},\"layout\":{\"autotypenumbers\":\"strict\",\"colorway\":[\"#636efa\",\"#EF553B\",\"#00cc96\",\"#ab63fa\",\"#FFA15A\",\"#19d3f3\",\"#FF6692\",\"#B6E880\",\"#FF97FF\",\"#FECB52\"],\"font\":{\"color\":\"#2a3f5f\"},\"hovermode\":\"closest\",\"hoverlabel\":{\"align\":\"left\"},\"paper_bgcolor\":\"white\",\"plot_bgcolor\":\"#E5ECF6\",\"polar\":{\"bgcolor\":\"#E5ECF6\",\"angularaxis\":{\"gridcolor\":\"white\",\"linecolor\":\"white\",\"ticks\":\"\"},\"radialaxis\":{\"gridcolor\":\"white\",\"linecolor\":\"white\",\"ticks\":\"\"}},\"ternary\":{\"bgcolor\":\"#E5ECF6\",\"aaxis\":{\"gridcolor\":\"white\",\"linecolor\":\"white\",\"ticks\":\"\"},\"baxis\":{\"gridcolor\":\"white\",\"linecolor\":\"white\",\"ticks\":\"\"},\"caxis\":{\"gridcolor\":\"white\",\"linecolor\":\"white\",\"ticks\":\"\"}},\"coloraxis\":{\"colorbar\":{\"outlinewidth\":0,\"ticks\":\"\"}},\"colorscale\":{\"sequential\":[[0.0,\"#0d0887\"],[0.1111111111111111,\"#46039f\"],[0.2222222222222222,\"#7201a8\"],[0.3333333333333333,\"#9c179e\"],[0.4444444444444444,\"#bd3786\"],[0.5555555555555556,\"#d8576b\"],[0.6666666666666666,\"#ed7953\"],[0.7777777777777778,\"#fb9f3a\"],[0.8888888888888888,\"#fdca26\"],[1.0,\"#f0f921\"]],\"sequentialminus\":[[0.0,\"#0d0887\"],[0.1111111111111111,\"#46039f\"],[0.2222222222222222,\"#7201a8\"],[0.3333333333333333,\"#9c179e\"],[0.4444444444444444,\"#bd3786\"],[0.5555555555555556,\"#d8576b\"],[0.6666666666666666,\"#ed7953\"],[0.7777777777777778,\"#fb9f3a\"],[0.8888888888888888,\"#fdca26\"],[1.0,\"#f0f921\"]],\"diverging\":[[0,\"#8e0152\"],[0.1,\"#c51b7d\"],[0.2,\"#de77ae\"],[0.3,\"#f1b6da\"],[0.4,\"#fde0ef\"],[0.5,\"#f7f7f7\"],[0.6,\"#e6f5d0\"],[0.7,\"#b8e186\"],[0.8,\"#7fbc41\"],[0.9,\"#4d9221\"],[1,\"#276419\"]]},\"xaxis\":{\"gridcolor\":\"white\",\"linecolor\":\"white\",\"ticks\":\"\",\"title\":{\"standoff\":15},\"zerolinecolor\":\"white\",\"automargin\":true,\"zerolinewidth\":2},\"yaxis\":{\"gridcolor\":\"white\",\"linecolor\":\"white\",\"ticks\":\"\",\"title\":{\"standoff\":15},\"zerolinecolor\":\"white\",\"automargin\":true,\"zerolinewidth\":2},\"scene\":{\"xaxis\":{\"backgroundcolor\":\"#E5ECF6\",\"gridcolor\":\"white\",\"linecolor\":\"white\",\"showbackground\":true,\"ticks\":\"\",\"zerolinecolor\":\"white\",\"gridwidth\":2},\"yaxis\":{\"backgroundcolor\":\"#E5ECF6\",\"gridcolor\":\"white\",\"linecolor\":\"white\",\"showbackground\":true,\"ticks\":\"\",\"zerolinecolor\":\"white\",\"gridwidth\":2},\"zaxis\":{\"backgroundcolor\":\"#E5ECF6\",\"gridcolor\":\"white\",\"linecolor\":\"white\",\"showbackground\":true,\"ticks\":\"\",\"zerolinecolor\":\"white\",\"gridwidth\":2}},\"shapedefaults\":{\"line\":{\"color\":\"#2a3f5f\"}},\"annotationdefaults\":{\"arrowcolor\":\"#2a3f5f\",\"arrowhead\":0,\"arrowwidth\":1},\"geo\":{\"bgcolor\":\"white\",\"landcolor\":\"#E5ECF6\",\"subunitcolor\":\"white\",\"showland\":true,\"showlakes\":true,\"lakecolor\":\"white\"},\"title\":{\"x\":0.05},\"mapbox\":{\"style\":\"light\"}}},\"xaxis\":{\"anchor\":\"y\",\"domain\":[0.0,1.0],\"title\":{\"text\":\"x\"}},\"yaxis\":{\"anchor\":\"x\",\"domain\":[0.0,1.0],\"title\":{\"text\":\"y\"}},\"legend\":{\"tracegroupgap\":0},\"margin\":{\"t\":60},\"barmode\":\"relative\"},                        {\"responsive\": true}                    ).then(function(){\n",
       "                            \n",
       "var gd = document.getElementById('3c22aca4-a84e-4fb7-8756-cc61b55263e4');\n",
       "var x = new MutationObserver(function (mutations, observer) {{\n",
       "        var display = window.getComputedStyle(gd).display;\n",
       "        if (!display || display === 'none') {{\n",
       "            console.log([gd, 'removed!']);\n",
       "            Plotly.purge(gd);\n",
       "            observer.disconnect();\n",
       "        }}\n",
       "}});\n",
       "\n",
       "// Listen for the removal of the full notebook cells\n",
       "var notebookContainer = gd.closest('#notebook-container');\n",
       "if (notebookContainer) {{\n",
       "    x.observe(notebookContainer, {childList: true});\n",
       "}}\n",
       "\n",
       "// Listen for the clearing of the current output cell\n",
       "var outputEl = gd.closest('.output');\n",
       "if (outputEl) {{\n",
       "    x.observe(outputEl, {childList: true});\n",
       "}}\n",
       "\n",
       "                        })                };                });            </script>        </div>"
      ]
     },
     "metadata": {},
     "output_type": "display_data"
    },
    {
     "name": "stdout",
     "output_type": "stream",
     "text": [
      "Most popular fitness trackers' Strap Material\n"
     ]
    },
    {
     "data": {
      "text/html": [
       "<div>                            <div id=\"7baec653-b7d9-4004-b659-45fa79f8a3f5\" class=\"plotly-graph-div\" style=\"height:525px; width:100%;\"></div>            <script type=\"text/javascript\">                require([\"plotly\"], function(Plotly) {                    window.PLOTLYENV=window.PLOTLYENV || {};                                    if (document.getElementById(\"7baec653-b7d9-4004-b659-45fa79f8a3f5\")) {                    Plotly.newPlot(                        \"7baec653-b7d9-4004-b659-45fa79f8a3f5\",                        [{\"alignmentgroup\":\"True\",\"hovertemplate\":\"x=%{x}<br>y=%{y}<extra></extra>\",\"legendgroup\":\"\",\"marker\":{\"color\":\"#636efa\",\"pattern\":{\"shape\":\"\"}},\"name\":\"\",\"offsetgroup\":\"\",\"orientation\":\"v\",\"showlegend\":false,\"textposition\":\"auto\",\"x\":[\"Silicone\",\"Stainless Steel\",\"Leather\",\"Aluminium\",\"Elastomer\",\"Thermoplastic polyurethane\",\"Plastic\",\"Rubber\",\"Nylon\",\"Fabric\",\"leather\",\"Leather \"],\"xaxis\":\"x\",\"y\":[270,97,61,57,45,35,16,14,12,1,1,1],\"yaxis\":\"y\",\"type\":\"bar\"}],                        {\"template\":{\"data\":{\"histogram2dcontour\":[{\"type\":\"histogram2dcontour\",\"colorbar\":{\"outlinewidth\":0,\"ticks\":\"\"},\"colorscale\":[[0.0,\"#0d0887\"],[0.1111111111111111,\"#46039f\"],[0.2222222222222222,\"#7201a8\"],[0.3333333333333333,\"#9c179e\"],[0.4444444444444444,\"#bd3786\"],[0.5555555555555556,\"#d8576b\"],[0.6666666666666666,\"#ed7953\"],[0.7777777777777778,\"#fb9f3a\"],[0.8888888888888888,\"#fdca26\"],[1.0,\"#f0f921\"]]}],\"choropleth\":[{\"type\":\"choropleth\",\"colorbar\":{\"outlinewidth\":0,\"ticks\":\"\"}}],\"histogram2d\":[{\"type\":\"histogram2d\",\"colorbar\":{\"outlinewidth\":0,\"ticks\":\"\"},\"colorscale\":[[0.0,\"#0d0887\"],[0.1111111111111111,\"#46039f\"],[0.2222222222222222,\"#7201a8\"],[0.3333333333333333,\"#9c179e\"],[0.4444444444444444,\"#bd3786\"],[0.5555555555555556,\"#d8576b\"],[0.6666666666666666,\"#ed7953\"],[0.7777777777777778,\"#fb9f3a\"],[0.8888888888888888,\"#fdca26\"],[1.0,\"#f0f921\"]]}],\"heatmap\":[{\"type\":\"heatmap\",\"colorbar\":{\"outlinewidth\":0,\"ticks\":\"\"},\"colorscale\":[[0.0,\"#0d0887\"],[0.1111111111111111,\"#46039f\"],[0.2222222222222222,\"#7201a8\"],[0.3333333333333333,\"#9c179e\"],[0.4444444444444444,\"#bd3786\"],[0.5555555555555556,\"#d8576b\"],[0.6666666666666666,\"#ed7953\"],[0.7777777777777778,\"#fb9f3a\"],[0.8888888888888888,\"#fdca26\"],[1.0,\"#f0f921\"]]}],\"heatmapgl\":[{\"type\":\"heatmapgl\",\"colorbar\":{\"outlinewidth\":0,\"ticks\":\"\"},\"colorscale\":[[0.0,\"#0d0887\"],[0.1111111111111111,\"#46039f\"],[0.2222222222222222,\"#7201a8\"],[0.3333333333333333,\"#9c179e\"],[0.4444444444444444,\"#bd3786\"],[0.5555555555555556,\"#d8576b\"],[0.6666666666666666,\"#ed7953\"],[0.7777777777777778,\"#fb9f3a\"],[0.8888888888888888,\"#fdca26\"],[1.0,\"#f0f921\"]]}],\"contourcarpet\":[{\"type\":\"contourcarpet\",\"colorbar\":{\"outlinewidth\":0,\"ticks\":\"\"}}],\"contour\":[{\"type\":\"contour\",\"colorbar\":{\"outlinewidth\":0,\"ticks\":\"\"},\"colorscale\":[[0.0,\"#0d0887\"],[0.1111111111111111,\"#46039f\"],[0.2222222222222222,\"#7201a8\"],[0.3333333333333333,\"#9c179e\"],[0.4444444444444444,\"#bd3786\"],[0.5555555555555556,\"#d8576b\"],[0.6666666666666666,\"#ed7953\"],[0.7777777777777778,\"#fb9f3a\"],[0.8888888888888888,\"#fdca26\"],[1.0,\"#f0f921\"]]}],\"surface\":[{\"type\":\"surface\",\"colorbar\":{\"outlinewidth\":0,\"ticks\":\"\"},\"colorscale\":[[0.0,\"#0d0887\"],[0.1111111111111111,\"#46039f\"],[0.2222222222222222,\"#7201a8\"],[0.3333333333333333,\"#9c179e\"],[0.4444444444444444,\"#bd3786\"],[0.5555555555555556,\"#d8576b\"],[0.6666666666666666,\"#ed7953\"],[0.7777777777777778,\"#fb9f3a\"],[0.8888888888888888,\"#fdca26\"],[1.0,\"#f0f921\"]]}],\"mesh3d\":[{\"type\":\"mesh3d\",\"colorbar\":{\"outlinewidth\":0,\"ticks\":\"\"}}],\"scatter\":[{\"fillpattern\":{\"fillmode\":\"overlay\",\"size\":10,\"solidity\":0.2},\"type\":\"scatter\"}],\"parcoords\":[{\"type\":\"parcoords\",\"line\":{\"colorbar\":{\"outlinewidth\":0,\"ticks\":\"\"}}}],\"scatterpolargl\":[{\"type\":\"scatterpolargl\",\"marker\":{\"colorbar\":{\"outlinewidth\":0,\"ticks\":\"\"}}}],\"bar\":[{\"error_x\":{\"color\":\"#2a3f5f\"},\"error_y\":{\"color\":\"#2a3f5f\"},\"marker\":{\"line\":{\"color\":\"#E5ECF6\",\"width\":0.5},\"pattern\":{\"fillmode\":\"overlay\",\"size\":10,\"solidity\":0.2}},\"type\":\"bar\"}],\"scattergeo\":[{\"type\":\"scattergeo\",\"marker\":{\"colorbar\":{\"outlinewidth\":0,\"ticks\":\"\"}}}],\"scatterpolar\":[{\"type\":\"scatterpolar\",\"marker\":{\"colorbar\":{\"outlinewidth\":0,\"ticks\":\"\"}}}],\"histogram\":[{\"marker\":{\"pattern\":{\"fillmode\":\"overlay\",\"size\":10,\"solidity\":0.2}},\"type\":\"histogram\"}],\"scattergl\":[{\"type\":\"scattergl\",\"marker\":{\"colorbar\":{\"outlinewidth\":0,\"ticks\":\"\"}}}],\"scatter3d\":[{\"type\":\"scatter3d\",\"line\":{\"colorbar\":{\"outlinewidth\":0,\"ticks\":\"\"}},\"marker\":{\"colorbar\":{\"outlinewidth\":0,\"ticks\":\"\"}}}],\"scattermapbox\":[{\"type\":\"scattermapbox\",\"marker\":{\"colorbar\":{\"outlinewidth\":0,\"ticks\":\"\"}}}],\"scatterternary\":[{\"type\":\"scatterternary\",\"marker\":{\"colorbar\":{\"outlinewidth\":0,\"ticks\":\"\"}}}],\"scattercarpet\":[{\"type\":\"scattercarpet\",\"marker\":{\"colorbar\":{\"outlinewidth\":0,\"ticks\":\"\"}}}],\"carpet\":[{\"aaxis\":{\"endlinecolor\":\"#2a3f5f\",\"gridcolor\":\"white\",\"linecolor\":\"white\",\"minorgridcolor\":\"white\",\"startlinecolor\":\"#2a3f5f\"},\"baxis\":{\"endlinecolor\":\"#2a3f5f\",\"gridcolor\":\"white\",\"linecolor\":\"white\",\"minorgridcolor\":\"white\",\"startlinecolor\":\"#2a3f5f\"},\"type\":\"carpet\"}],\"table\":[{\"cells\":{\"fill\":{\"color\":\"#EBF0F8\"},\"line\":{\"color\":\"white\"}},\"header\":{\"fill\":{\"color\":\"#C8D4E3\"},\"line\":{\"color\":\"white\"}},\"type\":\"table\"}],\"barpolar\":[{\"marker\":{\"line\":{\"color\":\"#E5ECF6\",\"width\":0.5},\"pattern\":{\"fillmode\":\"overlay\",\"size\":10,\"solidity\":0.2}},\"type\":\"barpolar\"}],\"pie\":[{\"automargin\":true,\"type\":\"pie\"}]},\"layout\":{\"autotypenumbers\":\"strict\",\"colorway\":[\"#636efa\",\"#EF553B\",\"#00cc96\",\"#ab63fa\",\"#FFA15A\",\"#19d3f3\",\"#FF6692\",\"#B6E880\",\"#FF97FF\",\"#FECB52\"],\"font\":{\"color\":\"#2a3f5f\"},\"hovermode\":\"closest\",\"hoverlabel\":{\"align\":\"left\"},\"paper_bgcolor\":\"white\",\"plot_bgcolor\":\"#E5ECF6\",\"polar\":{\"bgcolor\":\"#E5ECF6\",\"angularaxis\":{\"gridcolor\":\"white\",\"linecolor\":\"white\",\"ticks\":\"\"},\"radialaxis\":{\"gridcolor\":\"white\",\"linecolor\":\"white\",\"ticks\":\"\"}},\"ternary\":{\"bgcolor\":\"#E5ECF6\",\"aaxis\":{\"gridcolor\":\"white\",\"linecolor\":\"white\",\"ticks\":\"\"},\"baxis\":{\"gridcolor\":\"white\",\"linecolor\":\"white\",\"ticks\":\"\"},\"caxis\":{\"gridcolor\":\"white\",\"linecolor\":\"white\",\"ticks\":\"\"}},\"coloraxis\":{\"colorbar\":{\"outlinewidth\":0,\"ticks\":\"\"}},\"colorscale\":{\"sequential\":[[0.0,\"#0d0887\"],[0.1111111111111111,\"#46039f\"],[0.2222222222222222,\"#7201a8\"],[0.3333333333333333,\"#9c179e\"],[0.4444444444444444,\"#bd3786\"],[0.5555555555555556,\"#d8576b\"],[0.6666666666666666,\"#ed7953\"],[0.7777777777777778,\"#fb9f3a\"],[0.8888888888888888,\"#fdca26\"],[1.0,\"#f0f921\"]],\"sequentialminus\":[[0.0,\"#0d0887\"],[0.1111111111111111,\"#46039f\"],[0.2222222222222222,\"#7201a8\"],[0.3333333333333333,\"#9c179e\"],[0.4444444444444444,\"#bd3786\"],[0.5555555555555556,\"#d8576b\"],[0.6666666666666666,\"#ed7953\"],[0.7777777777777778,\"#fb9f3a\"],[0.8888888888888888,\"#fdca26\"],[1.0,\"#f0f921\"]],\"diverging\":[[0,\"#8e0152\"],[0.1,\"#c51b7d\"],[0.2,\"#de77ae\"],[0.3,\"#f1b6da\"],[0.4,\"#fde0ef\"],[0.5,\"#f7f7f7\"],[0.6,\"#e6f5d0\"],[0.7,\"#b8e186\"],[0.8,\"#7fbc41\"],[0.9,\"#4d9221\"],[1,\"#276419\"]]},\"xaxis\":{\"gridcolor\":\"white\",\"linecolor\":\"white\",\"ticks\":\"\",\"title\":{\"standoff\":15},\"zerolinecolor\":\"white\",\"automargin\":true,\"zerolinewidth\":2},\"yaxis\":{\"gridcolor\":\"white\",\"linecolor\":\"white\",\"ticks\":\"\",\"title\":{\"standoff\":15},\"zerolinecolor\":\"white\",\"automargin\":true,\"zerolinewidth\":2},\"scene\":{\"xaxis\":{\"backgroundcolor\":\"#E5ECF6\",\"gridcolor\":\"white\",\"linecolor\":\"white\",\"showbackground\":true,\"ticks\":\"\",\"zerolinecolor\":\"white\",\"gridwidth\":2},\"yaxis\":{\"backgroundcolor\":\"#E5ECF6\",\"gridcolor\":\"white\",\"linecolor\":\"white\",\"showbackground\":true,\"ticks\":\"\",\"zerolinecolor\":\"white\",\"gridwidth\":2},\"zaxis\":{\"backgroundcolor\":\"#E5ECF6\",\"gridcolor\":\"white\",\"linecolor\":\"white\",\"showbackground\":true,\"ticks\":\"\",\"zerolinecolor\":\"white\",\"gridwidth\":2}},\"shapedefaults\":{\"line\":{\"color\":\"#2a3f5f\"}},\"annotationdefaults\":{\"arrowcolor\":\"#2a3f5f\",\"arrowhead\":0,\"arrowwidth\":1},\"geo\":{\"bgcolor\":\"white\",\"landcolor\":\"#E5ECF6\",\"subunitcolor\":\"white\",\"showland\":true,\"showlakes\":true,\"lakecolor\":\"white\"},\"title\":{\"x\":0.05},\"mapbox\":{\"style\":\"light\"}}},\"xaxis\":{\"anchor\":\"y\",\"domain\":[0.0,1.0],\"title\":{\"text\":\"x\"}},\"yaxis\":{\"anchor\":\"x\",\"domain\":[0.0,1.0],\"title\":{\"text\":\"y\"}},\"legend\":{\"tracegroupgap\":0},\"margin\":{\"t\":60},\"barmode\":\"relative\"},                        {\"responsive\": true}                    ).then(function(){\n",
       "                            \n",
       "var gd = document.getElementById('7baec653-b7d9-4004-b659-45fa79f8a3f5');\n",
       "var x = new MutationObserver(function (mutations, observer) {{\n",
       "        var display = window.getComputedStyle(gd).display;\n",
       "        if (!display || display === 'none') {{\n",
       "            console.log([gd, 'removed!']);\n",
       "            Plotly.purge(gd);\n",
       "            observer.disconnect();\n",
       "        }}\n",
       "}});\n",
       "\n",
       "// Listen for the removal of the full notebook cells\n",
       "var notebookContainer = gd.closest('#notebook-container');\n",
       "if (notebookContainer) {{\n",
       "    x.observe(notebookContainer, {childList: true});\n",
       "}}\n",
       "\n",
       "// Listen for the clearing of the current output cell\n",
       "var outputEl = gd.closest('.output');\n",
       "if (outputEl) {{\n",
       "    x.observe(outputEl, {childList: true});\n",
       "}}\n",
       "\n",
       "                        })                };                });            </script>        </div>"
      ]
     },
     "metadata": {},
     "output_type": "display_data"
    },
    {
     "name": "stdout",
     "output_type": "stream",
     "text": [
      "Most popular fitness trackers' Average Battery Life (in days)\n"
     ]
    },
    {
     "data": {
      "text/html": [
       "<div>                            <div id=\"e7b327d0-fdbe-4812-bb20-36ac404ef432\" class=\"plotly-graph-div\" style=\"height:525px; width:100%;\"></div>            <script type=\"text/javascript\">                require([\"plotly\"], function(Plotly) {                    window.PLOTLYENV=window.PLOTLYENV || {};                                    if (document.getElementById(\"e7b327d0-fdbe-4812-bb20-36ac404ef432\")) {                    Plotly.newPlot(                        \"e7b327d0-fdbe-4812-bb20-36ac404ef432\",                        [{\"alignmentgroup\":\"True\",\"hovertemplate\":\"x=%{x}<br>y=%{y}<extra></extra>\",\"legendgroup\":\"\",\"marker\":{\"color\":\"#636efa\",\"pattern\":{\"shape\":\"\"}},\"name\":\"\",\"offsetgroup\":\"\",\"orientation\":\"v\",\"showlegend\":false,\"textposition\":\"auto\",\"x\":[14,7,1,2,12,10,5,30,3,45,25,15,4,28,8,6,20,9],\"xaxis\":\"x\",\"y\":[161,152,117,52,27,23,14,12,11,8,7,7,6,5,3,2,2,1],\"yaxis\":\"y\",\"type\":\"bar\"}],                        {\"template\":{\"data\":{\"histogram2dcontour\":[{\"type\":\"histogram2dcontour\",\"colorbar\":{\"outlinewidth\":0,\"ticks\":\"\"},\"colorscale\":[[0.0,\"#0d0887\"],[0.1111111111111111,\"#46039f\"],[0.2222222222222222,\"#7201a8\"],[0.3333333333333333,\"#9c179e\"],[0.4444444444444444,\"#bd3786\"],[0.5555555555555556,\"#d8576b\"],[0.6666666666666666,\"#ed7953\"],[0.7777777777777778,\"#fb9f3a\"],[0.8888888888888888,\"#fdca26\"],[1.0,\"#f0f921\"]]}],\"choropleth\":[{\"type\":\"choropleth\",\"colorbar\":{\"outlinewidth\":0,\"ticks\":\"\"}}],\"histogram2d\":[{\"type\":\"histogram2d\",\"colorbar\":{\"outlinewidth\":0,\"ticks\":\"\"},\"colorscale\":[[0.0,\"#0d0887\"],[0.1111111111111111,\"#46039f\"],[0.2222222222222222,\"#7201a8\"],[0.3333333333333333,\"#9c179e\"],[0.4444444444444444,\"#bd3786\"],[0.5555555555555556,\"#d8576b\"],[0.6666666666666666,\"#ed7953\"],[0.7777777777777778,\"#fb9f3a\"],[0.8888888888888888,\"#fdca26\"],[1.0,\"#f0f921\"]]}],\"heatmap\":[{\"type\":\"heatmap\",\"colorbar\":{\"outlinewidth\":0,\"ticks\":\"\"},\"colorscale\":[[0.0,\"#0d0887\"],[0.1111111111111111,\"#46039f\"],[0.2222222222222222,\"#7201a8\"],[0.3333333333333333,\"#9c179e\"],[0.4444444444444444,\"#bd3786\"],[0.5555555555555556,\"#d8576b\"],[0.6666666666666666,\"#ed7953\"],[0.7777777777777778,\"#fb9f3a\"],[0.8888888888888888,\"#fdca26\"],[1.0,\"#f0f921\"]]}],\"heatmapgl\":[{\"type\":\"heatmapgl\",\"colorbar\":{\"outlinewidth\":0,\"ticks\":\"\"},\"colorscale\":[[0.0,\"#0d0887\"],[0.1111111111111111,\"#46039f\"],[0.2222222222222222,\"#7201a8\"],[0.3333333333333333,\"#9c179e\"],[0.4444444444444444,\"#bd3786\"],[0.5555555555555556,\"#d8576b\"],[0.6666666666666666,\"#ed7953\"],[0.7777777777777778,\"#fb9f3a\"],[0.8888888888888888,\"#fdca26\"],[1.0,\"#f0f921\"]]}],\"contourcarpet\":[{\"type\":\"contourcarpet\",\"colorbar\":{\"outlinewidth\":0,\"ticks\":\"\"}}],\"contour\":[{\"type\":\"contour\",\"colorbar\":{\"outlinewidth\":0,\"ticks\":\"\"},\"colorscale\":[[0.0,\"#0d0887\"],[0.1111111111111111,\"#46039f\"],[0.2222222222222222,\"#7201a8\"],[0.3333333333333333,\"#9c179e\"],[0.4444444444444444,\"#bd3786\"],[0.5555555555555556,\"#d8576b\"],[0.6666666666666666,\"#ed7953\"],[0.7777777777777778,\"#fb9f3a\"],[0.8888888888888888,\"#fdca26\"],[1.0,\"#f0f921\"]]}],\"surface\":[{\"type\":\"surface\",\"colorbar\":{\"outlinewidth\":0,\"ticks\":\"\"},\"colorscale\":[[0.0,\"#0d0887\"],[0.1111111111111111,\"#46039f\"],[0.2222222222222222,\"#7201a8\"],[0.3333333333333333,\"#9c179e\"],[0.4444444444444444,\"#bd3786\"],[0.5555555555555556,\"#d8576b\"],[0.6666666666666666,\"#ed7953\"],[0.7777777777777778,\"#fb9f3a\"],[0.8888888888888888,\"#fdca26\"],[1.0,\"#f0f921\"]]}],\"mesh3d\":[{\"type\":\"mesh3d\",\"colorbar\":{\"outlinewidth\":0,\"ticks\":\"\"}}],\"scatter\":[{\"fillpattern\":{\"fillmode\":\"overlay\",\"size\":10,\"solidity\":0.2},\"type\":\"scatter\"}],\"parcoords\":[{\"type\":\"parcoords\",\"line\":{\"colorbar\":{\"outlinewidth\":0,\"ticks\":\"\"}}}],\"scatterpolargl\":[{\"type\":\"scatterpolargl\",\"marker\":{\"colorbar\":{\"outlinewidth\":0,\"ticks\":\"\"}}}],\"bar\":[{\"error_x\":{\"color\":\"#2a3f5f\"},\"error_y\":{\"color\":\"#2a3f5f\"},\"marker\":{\"line\":{\"color\":\"#E5ECF6\",\"width\":0.5},\"pattern\":{\"fillmode\":\"overlay\",\"size\":10,\"solidity\":0.2}},\"type\":\"bar\"}],\"scattergeo\":[{\"type\":\"scattergeo\",\"marker\":{\"colorbar\":{\"outlinewidth\":0,\"ticks\":\"\"}}}],\"scatterpolar\":[{\"type\":\"scatterpolar\",\"marker\":{\"colorbar\":{\"outlinewidth\":0,\"ticks\":\"\"}}}],\"histogram\":[{\"marker\":{\"pattern\":{\"fillmode\":\"overlay\",\"size\":10,\"solidity\":0.2}},\"type\":\"histogram\"}],\"scattergl\":[{\"type\":\"scattergl\",\"marker\":{\"colorbar\":{\"outlinewidth\":0,\"ticks\":\"\"}}}],\"scatter3d\":[{\"type\":\"scatter3d\",\"line\":{\"colorbar\":{\"outlinewidth\":0,\"ticks\":\"\"}},\"marker\":{\"colorbar\":{\"outlinewidth\":0,\"ticks\":\"\"}}}],\"scattermapbox\":[{\"type\":\"scattermapbox\",\"marker\":{\"colorbar\":{\"outlinewidth\":0,\"ticks\":\"\"}}}],\"scatterternary\":[{\"type\":\"scatterternary\",\"marker\":{\"colorbar\":{\"outlinewidth\":0,\"ticks\":\"\"}}}],\"scattercarpet\":[{\"type\":\"scattercarpet\",\"marker\":{\"colorbar\":{\"outlinewidth\":0,\"ticks\":\"\"}}}],\"carpet\":[{\"aaxis\":{\"endlinecolor\":\"#2a3f5f\",\"gridcolor\":\"white\",\"linecolor\":\"white\",\"minorgridcolor\":\"white\",\"startlinecolor\":\"#2a3f5f\"},\"baxis\":{\"endlinecolor\":\"#2a3f5f\",\"gridcolor\":\"white\",\"linecolor\":\"white\",\"minorgridcolor\":\"white\",\"startlinecolor\":\"#2a3f5f\"},\"type\":\"carpet\"}],\"table\":[{\"cells\":{\"fill\":{\"color\":\"#EBF0F8\"},\"line\":{\"color\":\"white\"}},\"header\":{\"fill\":{\"color\":\"#C8D4E3\"},\"line\":{\"color\":\"white\"}},\"type\":\"table\"}],\"barpolar\":[{\"marker\":{\"line\":{\"color\":\"#E5ECF6\",\"width\":0.5},\"pattern\":{\"fillmode\":\"overlay\",\"size\":10,\"solidity\":0.2}},\"type\":\"barpolar\"}],\"pie\":[{\"automargin\":true,\"type\":\"pie\"}]},\"layout\":{\"autotypenumbers\":\"strict\",\"colorway\":[\"#636efa\",\"#EF553B\",\"#00cc96\",\"#ab63fa\",\"#FFA15A\",\"#19d3f3\",\"#FF6692\",\"#B6E880\",\"#FF97FF\",\"#FECB52\"],\"font\":{\"color\":\"#2a3f5f\"},\"hovermode\":\"closest\",\"hoverlabel\":{\"align\":\"left\"},\"paper_bgcolor\":\"white\",\"plot_bgcolor\":\"#E5ECF6\",\"polar\":{\"bgcolor\":\"#E5ECF6\",\"angularaxis\":{\"gridcolor\":\"white\",\"linecolor\":\"white\",\"ticks\":\"\"},\"radialaxis\":{\"gridcolor\":\"white\",\"linecolor\":\"white\",\"ticks\":\"\"}},\"ternary\":{\"bgcolor\":\"#E5ECF6\",\"aaxis\":{\"gridcolor\":\"white\",\"linecolor\":\"white\",\"ticks\":\"\"},\"baxis\":{\"gridcolor\":\"white\",\"linecolor\":\"white\",\"ticks\":\"\"},\"caxis\":{\"gridcolor\":\"white\",\"linecolor\":\"white\",\"ticks\":\"\"}},\"coloraxis\":{\"colorbar\":{\"outlinewidth\":0,\"ticks\":\"\"}},\"colorscale\":{\"sequential\":[[0.0,\"#0d0887\"],[0.1111111111111111,\"#46039f\"],[0.2222222222222222,\"#7201a8\"],[0.3333333333333333,\"#9c179e\"],[0.4444444444444444,\"#bd3786\"],[0.5555555555555556,\"#d8576b\"],[0.6666666666666666,\"#ed7953\"],[0.7777777777777778,\"#fb9f3a\"],[0.8888888888888888,\"#fdca26\"],[1.0,\"#f0f921\"]],\"sequentialminus\":[[0.0,\"#0d0887\"],[0.1111111111111111,\"#46039f\"],[0.2222222222222222,\"#7201a8\"],[0.3333333333333333,\"#9c179e\"],[0.4444444444444444,\"#bd3786\"],[0.5555555555555556,\"#d8576b\"],[0.6666666666666666,\"#ed7953\"],[0.7777777777777778,\"#fb9f3a\"],[0.8888888888888888,\"#fdca26\"],[1.0,\"#f0f921\"]],\"diverging\":[[0,\"#8e0152\"],[0.1,\"#c51b7d\"],[0.2,\"#de77ae\"],[0.3,\"#f1b6da\"],[0.4,\"#fde0ef\"],[0.5,\"#f7f7f7\"],[0.6,\"#e6f5d0\"],[0.7,\"#b8e186\"],[0.8,\"#7fbc41\"],[0.9,\"#4d9221\"],[1,\"#276419\"]]},\"xaxis\":{\"gridcolor\":\"white\",\"linecolor\":\"white\",\"ticks\":\"\",\"title\":{\"standoff\":15},\"zerolinecolor\":\"white\",\"automargin\":true,\"zerolinewidth\":2},\"yaxis\":{\"gridcolor\":\"white\",\"linecolor\":\"white\",\"ticks\":\"\",\"title\":{\"standoff\":15},\"zerolinecolor\":\"white\",\"automargin\":true,\"zerolinewidth\":2},\"scene\":{\"xaxis\":{\"backgroundcolor\":\"#E5ECF6\",\"gridcolor\":\"white\",\"linecolor\":\"white\",\"showbackground\":true,\"ticks\":\"\",\"zerolinecolor\":\"white\",\"gridwidth\":2},\"yaxis\":{\"backgroundcolor\":\"#E5ECF6\",\"gridcolor\":\"white\",\"linecolor\":\"white\",\"showbackground\":true,\"ticks\":\"\",\"zerolinecolor\":\"white\",\"gridwidth\":2},\"zaxis\":{\"backgroundcolor\":\"#E5ECF6\",\"gridcolor\":\"white\",\"linecolor\":\"white\",\"showbackground\":true,\"ticks\":\"\",\"zerolinecolor\":\"white\",\"gridwidth\":2}},\"shapedefaults\":{\"line\":{\"color\":\"#2a3f5f\"}},\"annotationdefaults\":{\"arrowcolor\":\"#2a3f5f\",\"arrowhead\":0,\"arrowwidth\":1},\"geo\":{\"bgcolor\":\"white\",\"landcolor\":\"#E5ECF6\",\"subunitcolor\":\"white\",\"showland\":true,\"showlakes\":true,\"lakecolor\":\"white\"},\"title\":{\"x\":0.05},\"mapbox\":{\"style\":\"light\"}}},\"xaxis\":{\"anchor\":\"y\",\"domain\":[0.0,1.0],\"title\":{\"text\":\"x\"}},\"yaxis\":{\"anchor\":\"x\",\"domain\":[0.0,1.0],\"title\":{\"text\":\"y\"}},\"legend\":{\"tracegroupgap\":0},\"margin\":{\"t\":60},\"barmode\":\"relative\"},                        {\"responsive\": true}                    ).then(function(){\n",
       "                            \n",
       "var gd = document.getElementById('e7b327d0-fdbe-4812-bb20-36ac404ef432');\n",
       "var x = new MutationObserver(function (mutations, observer) {{\n",
       "        var display = window.getComputedStyle(gd).display;\n",
       "        if (!display || display === 'none') {{\n",
       "            console.log([gd, 'removed!']);\n",
       "            Plotly.purge(gd);\n",
       "            observer.disconnect();\n",
       "        }}\n",
       "}});\n",
       "\n",
       "// Listen for the removal of the full notebook cells\n",
       "var notebookContainer = gd.closest('#notebook-container');\n",
       "if (notebookContainer) {{\n",
       "    x.observe(notebookContainer, {childList: true});\n",
       "}}\n",
       "\n",
       "// Listen for the clearing of the current output cell\n",
       "var outputEl = gd.closest('.output');\n",
       "if (outputEl) {{\n",
       "    x.observe(outputEl, {childList: true});\n",
       "}}\n",
       "\n",
       "                        })                };                });            </script>        </div>"
      ]
     },
     "metadata": {},
     "output_type": "display_data"
    }
   ],
   "source": [
    "tracker_qualities = ['Color', 'Display', 'Strap Material', 'Average Battery Life (in days)']\n",
    "\n",
    "for x in tracker_qualities:\n",
    "\n",
    "    fig = px.bar(health, health[x].value_counts().index, y=health[x].value_counts().values)\n",
    "    print('Most popular fitness trackers\\'', x)\n",
    "    fig.show()"
   ]
  },
  {
   "cell_type": "markdown",
   "id": "658d9576",
   "metadata": {
    "papermill": {
     "duration": 0.028999,
     "end_time": "2022-10-20T18:00:03.389190",
     "exception": false,
     "start_time": "2022-10-20T18:00:03.360191",
     "status": "completed"
    },
    "tags": []
   },
   "source": [
    "## How about the top 20 most grossing tracker qualities (what types of fitness trackers are consumers spending the most on)?"
   ]
  },
  {
   "cell_type": "code",
   "execution_count": 38,
   "id": "ae9f7af3",
   "metadata": {
    "execution": {
     "iopub.execute_input": "2022-10-20T18:00:03.455010Z",
     "iopub.status.busy": "2022-10-20T18:00:03.454398Z",
     "iopub.status.idle": "2022-10-20T18:00:03.749581Z",
     "shell.execute_reply": "2022-10-20T18:00:03.747187Z"
    },
    "papermill": {
     "duration": 0.332961,
     "end_time": "2022-10-20T18:00:03.754168",
     "exception": false,
     "start_time": "2022-10-20T18:00:03.421207",
     "status": "completed"
    },
    "tags": []
   },
   "outputs": [
    {
     "name": "stdout",
     "output_type": "stream",
     "text": [
      "Color value counts\n",
      "\n",
      "Black             122\n",
      "Blue               26\n",
      "Silver             25\n",
      "Gold               20\n",
      "Grey               17\n",
      "                 ... \n",
      "Black, Red          1\n",
      "Olive Green         1\n",
      "Navy Blue           1\n",
      "Dynamic Orange      1\n",
      "Frost Blue          1\n",
      "Name: Color, Length: 104, dtype: int64\n",
      "\n",
      "\n",
      "Highest grossing fitness trackers' Color\n"
     ]
    },
    {
     "data": {
      "text/html": [
       "<div>                            <div id=\"3e157f03-1f3c-4cc4-9c2e-075868d04fbe\" class=\"plotly-graph-div\" style=\"height:525px; width:100%;\"></div>            <script type=\"text/javascript\">                require([\"plotly\"], function(Plotly) {                    window.PLOTLYENV=window.PLOTLYENV || {};                                    if (document.getElementById(\"3e157f03-1f3c-4cc4-9c2e-075868d04fbe\")) {                    Plotly.newPlot(                        \"3e157f03-1f3c-4cc4-9c2e-075868d04fbe\",                        [{\"alignmentgroup\":\"True\",\"hovertemplate\":\"x=%{x}<br>y=%{y}<extra></extra>\",\"legendgroup\":\"\",\"marker\":{\"color\":\"#636efa\",\"pattern\":{\"shape\":\"\"}},\"name\":\"\",\"offsetgroup\":\"\",\"orientation\":\"v\",\"showlegend\":false,\"textposition\":\"auto\",\"x\":[\"Black\",\"Blue\",\"Silver\",\"Gold\",\"Grey\",\"Brown\",\"Black \",\"White\",\"Grey \",\"White \",\"Purple\",\"Beige\",\"Red\",\"Blue Sapphire\",\"Blue \",\"Pink\",\"Black, Grey\",\"Purple \",\"Grey, White\",\"Gray\",\"Rose Gold\",\"White, Black\",\"Yellow\",\"Flame Red\",\"Grey, Blue\",\"Green, Grey\",\"Black, Pink\",\"Red, Black\",\"Rose Gold \",\"Brown, Grey\",\"Black, Blue\",\"Black, White\",\"Black, Blue, Pink\",\"Black, White \",\"Purple, White\",\"Grey, Multicolor\",\"Navy \",\"Purple, Black\",\"Graphite, Sunburst\",\"Black, Brown\",\"Blue, Silver\",\"Red, Green\",\"multicolor\",\"Multicolor, White, Brown\",\"Grey, Black\",\"Black, Red \",\"Grey, Yellow\",\"Cerise\",\"Blue, Orange\",\"Rose Gold, Slate Black\",\"Black, Green, Yellow\",\"Powder Gray\",\"Tidal Blue, Flame Red\",\"Red, White \",\"Tidal Blue\",\"Bluw, White \",\"Slate\",\"Black, Silver, White\",\"Graphite\",\"Purple, Grey, Brown, Black, White \",\"Black, Red, Orange\",\"Magma Red\",\"Black, Orange, Red\",\"White, Pink\",\"Brown, Gold\",\"Grey, Pink, Black\",\"Silver, Brown\",\"Black, Plum, Grey\",\"Violet \",\"Black, Purple, Teal, Blue\",\"Rose Gold, Gun Metal Black\",\"Orange, Pink, Green\",\"Pink \",\"Orange\",\"Plum silver\",\"Multicolor \",\"Blue, Black, Gray\",\"Charcoal \",\"Violet, black, Grey, Teal, Blue, Red\",\"Lilac \",\"Granite Reflective \",\"Black, Desert Rose, Lunar White\",\"Maroon \",\"Storm Blue, Black, Rosewood\",\"Light Blue\",\"Sky Blue \",\"Sandstone Grey, Meteorite Black, Coral Pink, \",\"Meteorite Black, Midnight Navy\",\"Black, Gold\",\"Brown, Black\",\"Black, Silver \",\"Multicolor\",\"Silver, Black\",\"Black, Pink, Beige\",\"Blue, Black\",\"Pink, Blue\",\"Silver, Blue\",\"Silver, Green\",\"Black, Beige\",\"Black, Red\",\"Olive Green\",\"Navy Blue\",\"Dynamic Orange\",\"Frost Blue\"],\"xaxis\":\"x\",\"y\":[122,26,25,20,17,12,8,6,5,5,5,5,5,4,4,4,4,4,3,3,3,2,2,2,2,2,2,2,2,2,2,2,2,2,2,2,2,1,1,1,1,1,1,1,1,1,1,1,1,1,1,1,1,1,1,1,1,1,1,1,1,1,1,1,1,1,1,1,1,1,1,1,1,1,1,1,1,1,1,1,1,1,1,1,1,1,1,1,1,1,1,1,1,1,1,1,1,1,1,1,1,1,1,1],\"yaxis\":\"y\",\"type\":\"bar\"}],                        {\"template\":{\"data\":{\"histogram2dcontour\":[{\"type\":\"histogram2dcontour\",\"colorbar\":{\"outlinewidth\":0,\"ticks\":\"\"},\"colorscale\":[[0.0,\"#0d0887\"],[0.1111111111111111,\"#46039f\"],[0.2222222222222222,\"#7201a8\"],[0.3333333333333333,\"#9c179e\"],[0.4444444444444444,\"#bd3786\"],[0.5555555555555556,\"#d8576b\"],[0.6666666666666666,\"#ed7953\"],[0.7777777777777778,\"#fb9f3a\"],[0.8888888888888888,\"#fdca26\"],[1.0,\"#f0f921\"]]}],\"choropleth\":[{\"type\":\"choropleth\",\"colorbar\":{\"outlinewidth\":0,\"ticks\":\"\"}}],\"histogram2d\":[{\"type\":\"histogram2d\",\"colorbar\":{\"outlinewidth\":0,\"ticks\":\"\"},\"colorscale\":[[0.0,\"#0d0887\"],[0.1111111111111111,\"#46039f\"],[0.2222222222222222,\"#7201a8\"],[0.3333333333333333,\"#9c179e\"],[0.4444444444444444,\"#bd3786\"],[0.5555555555555556,\"#d8576b\"],[0.6666666666666666,\"#ed7953\"],[0.7777777777777778,\"#fb9f3a\"],[0.8888888888888888,\"#fdca26\"],[1.0,\"#f0f921\"]]}],\"heatmap\":[{\"type\":\"heatmap\",\"colorbar\":{\"outlinewidth\":0,\"ticks\":\"\"},\"colorscale\":[[0.0,\"#0d0887\"],[0.1111111111111111,\"#46039f\"],[0.2222222222222222,\"#7201a8\"],[0.3333333333333333,\"#9c179e\"],[0.4444444444444444,\"#bd3786\"],[0.5555555555555556,\"#d8576b\"],[0.6666666666666666,\"#ed7953\"],[0.7777777777777778,\"#fb9f3a\"],[0.8888888888888888,\"#fdca26\"],[1.0,\"#f0f921\"]]}],\"heatmapgl\":[{\"type\":\"heatmapgl\",\"colorbar\":{\"outlinewidth\":0,\"ticks\":\"\"},\"colorscale\":[[0.0,\"#0d0887\"],[0.1111111111111111,\"#46039f\"],[0.2222222222222222,\"#7201a8\"],[0.3333333333333333,\"#9c179e\"],[0.4444444444444444,\"#bd3786\"],[0.5555555555555556,\"#d8576b\"],[0.6666666666666666,\"#ed7953\"],[0.7777777777777778,\"#fb9f3a\"],[0.8888888888888888,\"#fdca26\"],[1.0,\"#f0f921\"]]}],\"contourcarpet\":[{\"type\":\"contourcarpet\",\"colorbar\":{\"outlinewidth\":0,\"ticks\":\"\"}}],\"contour\":[{\"type\":\"contour\",\"colorbar\":{\"outlinewidth\":0,\"ticks\":\"\"},\"colorscale\":[[0.0,\"#0d0887\"],[0.1111111111111111,\"#46039f\"],[0.2222222222222222,\"#7201a8\"],[0.3333333333333333,\"#9c179e\"],[0.4444444444444444,\"#bd3786\"],[0.5555555555555556,\"#d8576b\"],[0.6666666666666666,\"#ed7953\"],[0.7777777777777778,\"#fb9f3a\"],[0.8888888888888888,\"#fdca26\"],[1.0,\"#f0f921\"]]}],\"surface\":[{\"type\":\"surface\",\"colorbar\":{\"outlinewidth\":0,\"ticks\":\"\"},\"colorscale\":[[0.0,\"#0d0887\"],[0.1111111111111111,\"#46039f\"],[0.2222222222222222,\"#7201a8\"],[0.3333333333333333,\"#9c179e\"],[0.4444444444444444,\"#bd3786\"],[0.5555555555555556,\"#d8576b\"],[0.6666666666666666,\"#ed7953\"],[0.7777777777777778,\"#fb9f3a\"],[0.8888888888888888,\"#fdca26\"],[1.0,\"#f0f921\"]]}],\"mesh3d\":[{\"type\":\"mesh3d\",\"colorbar\":{\"outlinewidth\":0,\"ticks\":\"\"}}],\"scatter\":[{\"fillpattern\":{\"fillmode\":\"overlay\",\"size\":10,\"solidity\":0.2},\"type\":\"scatter\"}],\"parcoords\":[{\"type\":\"parcoords\",\"line\":{\"colorbar\":{\"outlinewidth\":0,\"ticks\":\"\"}}}],\"scatterpolargl\":[{\"type\":\"scatterpolargl\",\"marker\":{\"colorbar\":{\"outlinewidth\":0,\"ticks\":\"\"}}}],\"bar\":[{\"error_x\":{\"color\":\"#2a3f5f\"},\"error_y\":{\"color\":\"#2a3f5f\"},\"marker\":{\"line\":{\"color\":\"#E5ECF6\",\"width\":0.5},\"pattern\":{\"fillmode\":\"overlay\",\"size\":10,\"solidity\":0.2}},\"type\":\"bar\"}],\"scattergeo\":[{\"type\":\"scattergeo\",\"marker\":{\"colorbar\":{\"outlinewidth\":0,\"ticks\":\"\"}}}],\"scatterpolar\":[{\"type\":\"scatterpolar\",\"marker\":{\"colorbar\":{\"outlinewidth\":0,\"ticks\":\"\"}}}],\"histogram\":[{\"marker\":{\"pattern\":{\"fillmode\":\"overlay\",\"size\":10,\"solidity\":0.2}},\"type\":\"histogram\"}],\"scattergl\":[{\"type\":\"scattergl\",\"marker\":{\"colorbar\":{\"outlinewidth\":0,\"ticks\":\"\"}}}],\"scatter3d\":[{\"type\":\"scatter3d\",\"line\":{\"colorbar\":{\"outlinewidth\":0,\"ticks\":\"\"}},\"marker\":{\"colorbar\":{\"outlinewidth\":0,\"ticks\":\"\"}}}],\"scattermapbox\":[{\"type\":\"scattermapbox\",\"marker\":{\"colorbar\":{\"outlinewidth\":0,\"ticks\":\"\"}}}],\"scatterternary\":[{\"type\":\"scatterternary\",\"marker\":{\"colorbar\":{\"outlinewidth\":0,\"ticks\":\"\"}}}],\"scattercarpet\":[{\"type\":\"scattercarpet\",\"marker\":{\"colorbar\":{\"outlinewidth\":0,\"ticks\":\"\"}}}],\"carpet\":[{\"aaxis\":{\"endlinecolor\":\"#2a3f5f\",\"gridcolor\":\"white\",\"linecolor\":\"white\",\"minorgridcolor\":\"white\",\"startlinecolor\":\"#2a3f5f\"},\"baxis\":{\"endlinecolor\":\"#2a3f5f\",\"gridcolor\":\"white\",\"linecolor\":\"white\",\"minorgridcolor\":\"white\",\"startlinecolor\":\"#2a3f5f\"},\"type\":\"carpet\"}],\"table\":[{\"cells\":{\"fill\":{\"color\":\"#EBF0F8\"},\"line\":{\"color\":\"white\"}},\"header\":{\"fill\":{\"color\":\"#C8D4E3\"},\"line\":{\"color\":\"white\"}},\"type\":\"table\"}],\"barpolar\":[{\"marker\":{\"line\":{\"color\":\"#E5ECF6\",\"width\":0.5},\"pattern\":{\"fillmode\":\"overlay\",\"size\":10,\"solidity\":0.2}},\"type\":\"barpolar\"}],\"pie\":[{\"automargin\":true,\"type\":\"pie\"}]},\"layout\":{\"autotypenumbers\":\"strict\",\"colorway\":[\"#636efa\",\"#EF553B\",\"#00cc96\",\"#ab63fa\",\"#FFA15A\",\"#19d3f3\",\"#FF6692\",\"#B6E880\",\"#FF97FF\",\"#FECB52\"],\"font\":{\"color\":\"#2a3f5f\"},\"hovermode\":\"closest\",\"hoverlabel\":{\"align\":\"left\"},\"paper_bgcolor\":\"white\",\"plot_bgcolor\":\"#E5ECF6\",\"polar\":{\"bgcolor\":\"#E5ECF6\",\"angularaxis\":{\"gridcolor\":\"white\",\"linecolor\":\"white\",\"ticks\":\"\"},\"radialaxis\":{\"gridcolor\":\"white\",\"linecolor\":\"white\",\"ticks\":\"\"}},\"ternary\":{\"bgcolor\":\"#E5ECF6\",\"aaxis\":{\"gridcolor\":\"white\",\"linecolor\":\"white\",\"ticks\":\"\"},\"baxis\":{\"gridcolor\":\"white\",\"linecolor\":\"white\",\"ticks\":\"\"},\"caxis\":{\"gridcolor\":\"white\",\"linecolor\":\"white\",\"ticks\":\"\"}},\"coloraxis\":{\"colorbar\":{\"outlinewidth\":0,\"ticks\":\"\"}},\"colorscale\":{\"sequential\":[[0.0,\"#0d0887\"],[0.1111111111111111,\"#46039f\"],[0.2222222222222222,\"#7201a8\"],[0.3333333333333333,\"#9c179e\"],[0.4444444444444444,\"#bd3786\"],[0.5555555555555556,\"#d8576b\"],[0.6666666666666666,\"#ed7953\"],[0.7777777777777778,\"#fb9f3a\"],[0.8888888888888888,\"#fdca26\"],[1.0,\"#f0f921\"]],\"sequentialminus\":[[0.0,\"#0d0887\"],[0.1111111111111111,\"#46039f\"],[0.2222222222222222,\"#7201a8\"],[0.3333333333333333,\"#9c179e\"],[0.4444444444444444,\"#bd3786\"],[0.5555555555555556,\"#d8576b\"],[0.6666666666666666,\"#ed7953\"],[0.7777777777777778,\"#fb9f3a\"],[0.8888888888888888,\"#fdca26\"],[1.0,\"#f0f921\"]],\"diverging\":[[0,\"#8e0152\"],[0.1,\"#c51b7d\"],[0.2,\"#de77ae\"],[0.3,\"#f1b6da\"],[0.4,\"#fde0ef\"],[0.5,\"#f7f7f7\"],[0.6,\"#e6f5d0\"],[0.7,\"#b8e186\"],[0.8,\"#7fbc41\"],[0.9,\"#4d9221\"],[1,\"#276419\"]]},\"xaxis\":{\"gridcolor\":\"white\",\"linecolor\":\"white\",\"ticks\":\"\",\"title\":{\"standoff\":15},\"zerolinecolor\":\"white\",\"automargin\":true,\"zerolinewidth\":2},\"yaxis\":{\"gridcolor\":\"white\",\"linecolor\":\"white\",\"ticks\":\"\",\"title\":{\"standoff\":15},\"zerolinecolor\":\"white\",\"automargin\":true,\"zerolinewidth\":2},\"scene\":{\"xaxis\":{\"backgroundcolor\":\"#E5ECF6\",\"gridcolor\":\"white\",\"linecolor\":\"white\",\"showbackground\":true,\"ticks\":\"\",\"zerolinecolor\":\"white\",\"gridwidth\":2},\"yaxis\":{\"backgroundcolor\":\"#E5ECF6\",\"gridcolor\":\"white\",\"linecolor\":\"white\",\"showbackground\":true,\"ticks\":\"\",\"zerolinecolor\":\"white\",\"gridwidth\":2},\"zaxis\":{\"backgroundcolor\":\"#E5ECF6\",\"gridcolor\":\"white\",\"linecolor\":\"white\",\"showbackground\":true,\"ticks\":\"\",\"zerolinecolor\":\"white\",\"gridwidth\":2}},\"shapedefaults\":{\"line\":{\"color\":\"#2a3f5f\"}},\"annotationdefaults\":{\"arrowcolor\":\"#2a3f5f\",\"arrowhead\":0,\"arrowwidth\":1},\"geo\":{\"bgcolor\":\"white\",\"landcolor\":\"#E5ECF6\",\"subunitcolor\":\"white\",\"showland\":true,\"showlakes\":true,\"lakecolor\":\"white\"},\"title\":{\"x\":0.05},\"mapbox\":{\"style\":\"light\"}}},\"xaxis\":{\"anchor\":\"y\",\"domain\":[0.0,1.0],\"title\":{\"text\":\"x\"}},\"yaxis\":{\"anchor\":\"x\",\"domain\":[0.0,1.0],\"title\":{\"text\":\"y\"}},\"legend\":{\"tracegroupgap\":0},\"margin\":{\"t\":60},\"barmode\":\"relative\"},                        {\"responsive\": true}                    ).then(function(){\n",
       "                            \n",
       "var gd = document.getElementById('3e157f03-1f3c-4cc4-9c2e-075868d04fbe');\n",
       "var x = new MutationObserver(function (mutations, observer) {{\n",
       "        var display = window.getComputedStyle(gd).display;\n",
       "        if (!display || display === 'none') {{\n",
       "            console.log([gd, 'removed!']);\n",
       "            Plotly.purge(gd);\n",
       "            observer.disconnect();\n",
       "        }}\n",
       "}});\n",
       "\n",
       "// Listen for the removal of the full notebook cells\n",
       "var notebookContainer = gd.closest('#notebook-container');\n",
       "if (notebookContainer) {{\n",
       "    x.observe(notebookContainer, {childList: true});\n",
       "}}\n",
       "\n",
       "// Listen for the clearing of the current output cell\n",
       "var outputEl = gd.closest('.output');\n",
       "if (outputEl) {{\n",
       "    x.observe(outputEl, {childList: true});\n",
       "}}\n",
       "\n",
       "                        })                };                });            </script>        </div>"
      ]
     },
     "metadata": {},
     "output_type": "display_data"
    },
    {
     "name": "stdout",
     "output_type": "stream",
     "text": [
      "Display value counts\n",
      "\n",
      "AMOLED Display    302\n",
      "OLED Display       31\n",
      "LED Display        28\n",
      "PMOLED Display     15\n",
      "LCD Display        13\n",
      "Name: Display, dtype: int64\n",
      "\n",
      "\n",
      "Highest grossing fitness trackers' Display\n"
     ]
    },
    {
     "data": {
      "text/html": [
       "<div>                            <div id=\"a68090fe-5c24-4524-b531-5960291c25f4\" class=\"plotly-graph-div\" style=\"height:525px; width:100%;\"></div>            <script type=\"text/javascript\">                require([\"plotly\"], function(Plotly) {                    window.PLOTLYENV=window.PLOTLYENV || {};                                    if (document.getElementById(\"a68090fe-5c24-4524-b531-5960291c25f4\")) {                    Plotly.newPlot(                        \"a68090fe-5c24-4524-b531-5960291c25f4\",                        [{\"alignmentgroup\":\"True\",\"hovertemplate\":\"x=%{x}<br>y=%{y}<extra></extra>\",\"legendgroup\":\"\",\"marker\":{\"color\":\"#636efa\",\"pattern\":{\"shape\":\"\"}},\"name\":\"\",\"offsetgroup\":\"\",\"orientation\":\"v\",\"showlegend\":false,\"textposition\":\"auto\",\"x\":[\"AMOLED Display\",\"OLED Display\",\"LED Display\",\"PMOLED Display\",\"LCD Display\"],\"xaxis\":\"x\",\"y\":[302,31,28,15,13],\"yaxis\":\"y\",\"type\":\"bar\"}],                        {\"template\":{\"data\":{\"histogram2dcontour\":[{\"type\":\"histogram2dcontour\",\"colorbar\":{\"outlinewidth\":0,\"ticks\":\"\"},\"colorscale\":[[0.0,\"#0d0887\"],[0.1111111111111111,\"#46039f\"],[0.2222222222222222,\"#7201a8\"],[0.3333333333333333,\"#9c179e\"],[0.4444444444444444,\"#bd3786\"],[0.5555555555555556,\"#d8576b\"],[0.6666666666666666,\"#ed7953\"],[0.7777777777777778,\"#fb9f3a\"],[0.8888888888888888,\"#fdca26\"],[1.0,\"#f0f921\"]]}],\"choropleth\":[{\"type\":\"choropleth\",\"colorbar\":{\"outlinewidth\":0,\"ticks\":\"\"}}],\"histogram2d\":[{\"type\":\"histogram2d\",\"colorbar\":{\"outlinewidth\":0,\"ticks\":\"\"},\"colorscale\":[[0.0,\"#0d0887\"],[0.1111111111111111,\"#46039f\"],[0.2222222222222222,\"#7201a8\"],[0.3333333333333333,\"#9c179e\"],[0.4444444444444444,\"#bd3786\"],[0.5555555555555556,\"#d8576b\"],[0.6666666666666666,\"#ed7953\"],[0.7777777777777778,\"#fb9f3a\"],[0.8888888888888888,\"#fdca26\"],[1.0,\"#f0f921\"]]}],\"heatmap\":[{\"type\":\"heatmap\",\"colorbar\":{\"outlinewidth\":0,\"ticks\":\"\"},\"colorscale\":[[0.0,\"#0d0887\"],[0.1111111111111111,\"#46039f\"],[0.2222222222222222,\"#7201a8\"],[0.3333333333333333,\"#9c179e\"],[0.4444444444444444,\"#bd3786\"],[0.5555555555555556,\"#d8576b\"],[0.6666666666666666,\"#ed7953\"],[0.7777777777777778,\"#fb9f3a\"],[0.8888888888888888,\"#fdca26\"],[1.0,\"#f0f921\"]]}],\"heatmapgl\":[{\"type\":\"heatmapgl\",\"colorbar\":{\"outlinewidth\":0,\"ticks\":\"\"},\"colorscale\":[[0.0,\"#0d0887\"],[0.1111111111111111,\"#46039f\"],[0.2222222222222222,\"#7201a8\"],[0.3333333333333333,\"#9c179e\"],[0.4444444444444444,\"#bd3786\"],[0.5555555555555556,\"#d8576b\"],[0.6666666666666666,\"#ed7953\"],[0.7777777777777778,\"#fb9f3a\"],[0.8888888888888888,\"#fdca26\"],[1.0,\"#f0f921\"]]}],\"contourcarpet\":[{\"type\":\"contourcarpet\",\"colorbar\":{\"outlinewidth\":0,\"ticks\":\"\"}}],\"contour\":[{\"type\":\"contour\",\"colorbar\":{\"outlinewidth\":0,\"ticks\":\"\"},\"colorscale\":[[0.0,\"#0d0887\"],[0.1111111111111111,\"#46039f\"],[0.2222222222222222,\"#7201a8\"],[0.3333333333333333,\"#9c179e\"],[0.4444444444444444,\"#bd3786\"],[0.5555555555555556,\"#d8576b\"],[0.6666666666666666,\"#ed7953\"],[0.7777777777777778,\"#fb9f3a\"],[0.8888888888888888,\"#fdca26\"],[1.0,\"#f0f921\"]]}],\"surface\":[{\"type\":\"surface\",\"colorbar\":{\"outlinewidth\":0,\"ticks\":\"\"},\"colorscale\":[[0.0,\"#0d0887\"],[0.1111111111111111,\"#46039f\"],[0.2222222222222222,\"#7201a8\"],[0.3333333333333333,\"#9c179e\"],[0.4444444444444444,\"#bd3786\"],[0.5555555555555556,\"#d8576b\"],[0.6666666666666666,\"#ed7953\"],[0.7777777777777778,\"#fb9f3a\"],[0.8888888888888888,\"#fdca26\"],[1.0,\"#f0f921\"]]}],\"mesh3d\":[{\"type\":\"mesh3d\",\"colorbar\":{\"outlinewidth\":0,\"ticks\":\"\"}}],\"scatter\":[{\"fillpattern\":{\"fillmode\":\"overlay\",\"size\":10,\"solidity\":0.2},\"type\":\"scatter\"}],\"parcoords\":[{\"type\":\"parcoords\",\"line\":{\"colorbar\":{\"outlinewidth\":0,\"ticks\":\"\"}}}],\"scatterpolargl\":[{\"type\":\"scatterpolargl\",\"marker\":{\"colorbar\":{\"outlinewidth\":0,\"ticks\":\"\"}}}],\"bar\":[{\"error_x\":{\"color\":\"#2a3f5f\"},\"error_y\":{\"color\":\"#2a3f5f\"},\"marker\":{\"line\":{\"color\":\"#E5ECF6\",\"width\":0.5},\"pattern\":{\"fillmode\":\"overlay\",\"size\":10,\"solidity\":0.2}},\"type\":\"bar\"}],\"scattergeo\":[{\"type\":\"scattergeo\",\"marker\":{\"colorbar\":{\"outlinewidth\":0,\"ticks\":\"\"}}}],\"scatterpolar\":[{\"type\":\"scatterpolar\",\"marker\":{\"colorbar\":{\"outlinewidth\":0,\"ticks\":\"\"}}}],\"histogram\":[{\"marker\":{\"pattern\":{\"fillmode\":\"overlay\",\"size\":10,\"solidity\":0.2}},\"type\":\"histogram\"}],\"scattergl\":[{\"type\":\"scattergl\",\"marker\":{\"colorbar\":{\"outlinewidth\":0,\"ticks\":\"\"}}}],\"scatter3d\":[{\"type\":\"scatter3d\",\"line\":{\"colorbar\":{\"outlinewidth\":0,\"ticks\":\"\"}},\"marker\":{\"colorbar\":{\"outlinewidth\":0,\"ticks\":\"\"}}}],\"scattermapbox\":[{\"type\":\"scattermapbox\",\"marker\":{\"colorbar\":{\"outlinewidth\":0,\"ticks\":\"\"}}}],\"scatterternary\":[{\"type\":\"scatterternary\",\"marker\":{\"colorbar\":{\"outlinewidth\":0,\"ticks\":\"\"}}}],\"scattercarpet\":[{\"type\":\"scattercarpet\",\"marker\":{\"colorbar\":{\"outlinewidth\":0,\"ticks\":\"\"}}}],\"carpet\":[{\"aaxis\":{\"endlinecolor\":\"#2a3f5f\",\"gridcolor\":\"white\",\"linecolor\":\"white\",\"minorgridcolor\":\"white\",\"startlinecolor\":\"#2a3f5f\"},\"baxis\":{\"endlinecolor\":\"#2a3f5f\",\"gridcolor\":\"white\",\"linecolor\":\"white\",\"minorgridcolor\":\"white\",\"startlinecolor\":\"#2a3f5f\"},\"type\":\"carpet\"}],\"table\":[{\"cells\":{\"fill\":{\"color\":\"#EBF0F8\"},\"line\":{\"color\":\"white\"}},\"header\":{\"fill\":{\"color\":\"#C8D4E3\"},\"line\":{\"color\":\"white\"}},\"type\":\"table\"}],\"barpolar\":[{\"marker\":{\"line\":{\"color\":\"#E5ECF6\",\"width\":0.5},\"pattern\":{\"fillmode\":\"overlay\",\"size\":10,\"solidity\":0.2}},\"type\":\"barpolar\"}],\"pie\":[{\"automargin\":true,\"type\":\"pie\"}]},\"layout\":{\"autotypenumbers\":\"strict\",\"colorway\":[\"#636efa\",\"#EF553B\",\"#00cc96\",\"#ab63fa\",\"#FFA15A\",\"#19d3f3\",\"#FF6692\",\"#B6E880\",\"#FF97FF\",\"#FECB52\"],\"font\":{\"color\":\"#2a3f5f\"},\"hovermode\":\"closest\",\"hoverlabel\":{\"align\":\"left\"},\"paper_bgcolor\":\"white\",\"plot_bgcolor\":\"#E5ECF6\",\"polar\":{\"bgcolor\":\"#E5ECF6\",\"angularaxis\":{\"gridcolor\":\"white\",\"linecolor\":\"white\",\"ticks\":\"\"},\"radialaxis\":{\"gridcolor\":\"white\",\"linecolor\":\"white\",\"ticks\":\"\"}},\"ternary\":{\"bgcolor\":\"#E5ECF6\",\"aaxis\":{\"gridcolor\":\"white\",\"linecolor\":\"white\",\"ticks\":\"\"},\"baxis\":{\"gridcolor\":\"white\",\"linecolor\":\"white\",\"ticks\":\"\"},\"caxis\":{\"gridcolor\":\"white\",\"linecolor\":\"white\",\"ticks\":\"\"}},\"coloraxis\":{\"colorbar\":{\"outlinewidth\":0,\"ticks\":\"\"}},\"colorscale\":{\"sequential\":[[0.0,\"#0d0887\"],[0.1111111111111111,\"#46039f\"],[0.2222222222222222,\"#7201a8\"],[0.3333333333333333,\"#9c179e\"],[0.4444444444444444,\"#bd3786\"],[0.5555555555555556,\"#d8576b\"],[0.6666666666666666,\"#ed7953\"],[0.7777777777777778,\"#fb9f3a\"],[0.8888888888888888,\"#fdca26\"],[1.0,\"#f0f921\"]],\"sequentialminus\":[[0.0,\"#0d0887\"],[0.1111111111111111,\"#46039f\"],[0.2222222222222222,\"#7201a8\"],[0.3333333333333333,\"#9c179e\"],[0.4444444444444444,\"#bd3786\"],[0.5555555555555556,\"#d8576b\"],[0.6666666666666666,\"#ed7953\"],[0.7777777777777778,\"#fb9f3a\"],[0.8888888888888888,\"#fdca26\"],[1.0,\"#f0f921\"]],\"diverging\":[[0,\"#8e0152\"],[0.1,\"#c51b7d\"],[0.2,\"#de77ae\"],[0.3,\"#f1b6da\"],[0.4,\"#fde0ef\"],[0.5,\"#f7f7f7\"],[0.6,\"#e6f5d0\"],[0.7,\"#b8e186\"],[0.8,\"#7fbc41\"],[0.9,\"#4d9221\"],[1,\"#276419\"]]},\"xaxis\":{\"gridcolor\":\"white\",\"linecolor\":\"white\",\"ticks\":\"\",\"title\":{\"standoff\":15},\"zerolinecolor\":\"white\",\"automargin\":true,\"zerolinewidth\":2},\"yaxis\":{\"gridcolor\":\"white\",\"linecolor\":\"white\",\"ticks\":\"\",\"title\":{\"standoff\":15},\"zerolinecolor\":\"white\",\"automargin\":true,\"zerolinewidth\":2},\"scene\":{\"xaxis\":{\"backgroundcolor\":\"#E5ECF6\",\"gridcolor\":\"white\",\"linecolor\":\"white\",\"showbackground\":true,\"ticks\":\"\",\"zerolinecolor\":\"white\",\"gridwidth\":2},\"yaxis\":{\"backgroundcolor\":\"#E5ECF6\",\"gridcolor\":\"white\",\"linecolor\":\"white\",\"showbackground\":true,\"ticks\":\"\",\"zerolinecolor\":\"white\",\"gridwidth\":2},\"zaxis\":{\"backgroundcolor\":\"#E5ECF6\",\"gridcolor\":\"white\",\"linecolor\":\"white\",\"showbackground\":true,\"ticks\":\"\",\"zerolinecolor\":\"white\",\"gridwidth\":2}},\"shapedefaults\":{\"line\":{\"color\":\"#2a3f5f\"}},\"annotationdefaults\":{\"arrowcolor\":\"#2a3f5f\",\"arrowhead\":0,\"arrowwidth\":1},\"geo\":{\"bgcolor\":\"white\",\"landcolor\":\"#E5ECF6\",\"subunitcolor\":\"white\",\"showland\":true,\"showlakes\":true,\"lakecolor\":\"white\"},\"title\":{\"x\":0.05},\"mapbox\":{\"style\":\"light\"}}},\"xaxis\":{\"anchor\":\"y\",\"domain\":[0.0,1.0],\"title\":{\"text\":\"x\"}},\"yaxis\":{\"anchor\":\"x\",\"domain\":[0.0,1.0],\"title\":{\"text\":\"y\"}},\"legend\":{\"tracegroupgap\":0},\"margin\":{\"t\":60},\"barmode\":\"relative\"},                        {\"responsive\": true}                    ).then(function(){\n",
       "                            \n",
       "var gd = document.getElementById('a68090fe-5c24-4524-b531-5960291c25f4');\n",
       "var x = new MutationObserver(function (mutations, observer) {{\n",
       "        var display = window.getComputedStyle(gd).display;\n",
       "        if (!display || display === 'none') {{\n",
       "            console.log([gd, 'removed!']);\n",
       "            Plotly.purge(gd);\n",
       "            observer.disconnect();\n",
       "        }}\n",
       "}});\n",
       "\n",
       "// Listen for the removal of the full notebook cells\n",
       "var notebookContainer = gd.closest('#notebook-container');\n",
       "if (notebookContainer) {{\n",
       "    x.observe(notebookContainer, {childList: true});\n",
       "}}\n",
       "\n",
       "// Listen for the clearing of the current output cell\n",
       "var outputEl = gd.closest('.output');\n",
       "if (outputEl) {{\n",
       "    x.observe(outputEl, {childList: true});\n",
       "}}\n",
       "\n",
       "                        })                };                });            </script>        </div>"
      ]
     },
     "metadata": {},
     "output_type": "display_data"
    },
    {
     "name": "stdout",
     "output_type": "stream",
     "text": [
      "Strap Material value counts\n",
      "\n",
      "Silicone                      182\n",
      "Stainless Steel                72\n",
      "Leather                        55\n",
      "Elastomer                      37\n",
      "Plastic                        13\n",
      "Thermoplastic polyurethane      9\n",
      "Rubber                          9\n",
      "Nylon                           9\n",
      "Fabric                          1\n",
      "leather                         1\n",
      "Leather                         1\n",
      "Name: Strap Material, dtype: int64\n",
      "\n",
      "\n",
      "Highest grossing fitness trackers' Strap Material\n"
     ]
    },
    {
     "data": {
      "text/html": [
       "<div>                            <div id=\"2ce743cb-f4fd-441d-bbd2-68dc8fe1e14b\" class=\"plotly-graph-div\" style=\"height:525px; width:100%;\"></div>            <script type=\"text/javascript\">                require([\"plotly\"], function(Plotly) {                    window.PLOTLYENV=window.PLOTLYENV || {};                                    if (document.getElementById(\"2ce743cb-f4fd-441d-bbd2-68dc8fe1e14b\")) {                    Plotly.newPlot(                        \"2ce743cb-f4fd-441d-bbd2-68dc8fe1e14b\",                        [{\"alignmentgroup\":\"True\",\"hovertemplate\":\"x=%{x}<br>y=%{y}<extra></extra>\",\"legendgroup\":\"\",\"marker\":{\"color\":\"#636efa\",\"pattern\":{\"shape\":\"\"}},\"name\":\"\",\"offsetgroup\":\"\",\"orientation\":\"v\",\"showlegend\":false,\"textposition\":\"auto\",\"x\":[\"Silicone\",\"Stainless Steel\",\"Leather\",\"Elastomer\",\"Plastic\",\"Thermoplastic polyurethane\",\"Rubber\",\"Nylon\",\"Fabric\",\"leather\",\"Leather \"],\"xaxis\":\"x\",\"y\":[182,72,55,37,13,9,9,9,1,1,1],\"yaxis\":\"y\",\"type\":\"bar\"}],                        {\"template\":{\"data\":{\"histogram2dcontour\":[{\"type\":\"histogram2dcontour\",\"colorbar\":{\"outlinewidth\":0,\"ticks\":\"\"},\"colorscale\":[[0.0,\"#0d0887\"],[0.1111111111111111,\"#46039f\"],[0.2222222222222222,\"#7201a8\"],[0.3333333333333333,\"#9c179e\"],[0.4444444444444444,\"#bd3786\"],[0.5555555555555556,\"#d8576b\"],[0.6666666666666666,\"#ed7953\"],[0.7777777777777778,\"#fb9f3a\"],[0.8888888888888888,\"#fdca26\"],[1.0,\"#f0f921\"]]}],\"choropleth\":[{\"type\":\"choropleth\",\"colorbar\":{\"outlinewidth\":0,\"ticks\":\"\"}}],\"histogram2d\":[{\"type\":\"histogram2d\",\"colorbar\":{\"outlinewidth\":0,\"ticks\":\"\"},\"colorscale\":[[0.0,\"#0d0887\"],[0.1111111111111111,\"#46039f\"],[0.2222222222222222,\"#7201a8\"],[0.3333333333333333,\"#9c179e\"],[0.4444444444444444,\"#bd3786\"],[0.5555555555555556,\"#d8576b\"],[0.6666666666666666,\"#ed7953\"],[0.7777777777777778,\"#fb9f3a\"],[0.8888888888888888,\"#fdca26\"],[1.0,\"#f0f921\"]]}],\"heatmap\":[{\"type\":\"heatmap\",\"colorbar\":{\"outlinewidth\":0,\"ticks\":\"\"},\"colorscale\":[[0.0,\"#0d0887\"],[0.1111111111111111,\"#46039f\"],[0.2222222222222222,\"#7201a8\"],[0.3333333333333333,\"#9c179e\"],[0.4444444444444444,\"#bd3786\"],[0.5555555555555556,\"#d8576b\"],[0.6666666666666666,\"#ed7953\"],[0.7777777777777778,\"#fb9f3a\"],[0.8888888888888888,\"#fdca26\"],[1.0,\"#f0f921\"]]}],\"heatmapgl\":[{\"type\":\"heatmapgl\",\"colorbar\":{\"outlinewidth\":0,\"ticks\":\"\"},\"colorscale\":[[0.0,\"#0d0887\"],[0.1111111111111111,\"#46039f\"],[0.2222222222222222,\"#7201a8\"],[0.3333333333333333,\"#9c179e\"],[0.4444444444444444,\"#bd3786\"],[0.5555555555555556,\"#d8576b\"],[0.6666666666666666,\"#ed7953\"],[0.7777777777777778,\"#fb9f3a\"],[0.8888888888888888,\"#fdca26\"],[1.0,\"#f0f921\"]]}],\"contourcarpet\":[{\"type\":\"contourcarpet\",\"colorbar\":{\"outlinewidth\":0,\"ticks\":\"\"}}],\"contour\":[{\"type\":\"contour\",\"colorbar\":{\"outlinewidth\":0,\"ticks\":\"\"},\"colorscale\":[[0.0,\"#0d0887\"],[0.1111111111111111,\"#46039f\"],[0.2222222222222222,\"#7201a8\"],[0.3333333333333333,\"#9c179e\"],[0.4444444444444444,\"#bd3786\"],[0.5555555555555556,\"#d8576b\"],[0.6666666666666666,\"#ed7953\"],[0.7777777777777778,\"#fb9f3a\"],[0.8888888888888888,\"#fdca26\"],[1.0,\"#f0f921\"]]}],\"surface\":[{\"type\":\"surface\",\"colorbar\":{\"outlinewidth\":0,\"ticks\":\"\"},\"colorscale\":[[0.0,\"#0d0887\"],[0.1111111111111111,\"#46039f\"],[0.2222222222222222,\"#7201a8\"],[0.3333333333333333,\"#9c179e\"],[0.4444444444444444,\"#bd3786\"],[0.5555555555555556,\"#d8576b\"],[0.6666666666666666,\"#ed7953\"],[0.7777777777777778,\"#fb9f3a\"],[0.8888888888888888,\"#fdca26\"],[1.0,\"#f0f921\"]]}],\"mesh3d\":[{\"type\":\"mesh3d\",\"colorbar\":{\"outlinewidth\":0,\"ticks\":\"\"}}],\"scatter\":[{\"fillpattern\":{\"fillmode\":\"overlay\",\"size\":10,\"solidity\":0.2},\"type\":\"scatter\"}],\"parcoords\":[{\"type\":\"parcoords\",\"line\":{\"colorbar\":{\"outlinewidth\":0,\"ticks\":\"\"}}}],\"scatterpolargl\":[{\"type\":\"scatterpolargl\",\"marker\":{\"colorbar\":{\"outlinewidth\":0,\"ticks\":\"\"}}}],\"bar\":[{\"error_x\":{\"color\":\"#2a3f5f\"},\"error_y\":{\"color\":\"#2a3f5f\"},\"marker\":{\"line\":{\"color\":\"#E5ECF6\",\"width\":0.5},\"pattern\":{\"fillmode\":\"overlay\",\"size\":10,\"solidity\":0.2}},\"type\":\"bar\"}],\"scattergeo\":[{\"type\":\"scattergeo\",\"marker\":{\"colorbar\":{\"outlinewidth\":0,\"ticks\":\"\"}}}],\"scatterpolar\":[{\"type\":\"scatterpolar\",\"marker\":{\"colorbar\":{\"outlinewidth\":0,\"ticks\":\"\"}}}],\"histogram\":[{\"marker\":{\"pattern\":{\"fillmode\":\"overlay\",\"size\":10,\"solidity\":0.2}},\"type\":\"histogram\"}],\"scattergl\":[{\"type\":\"scattergl\",\"marker\":{\"colorbar\":{\"outlinewidth\":0,\"ticks\":\"\"}}}],\"scatter3d\":[{\"type\":\"scatter3d\",\"line\":{\"colorbar\":{\"outlinewidth\":0,\"ticks\":\"\"}},\"marker\":{\"colorbar\":{\"outlinewidth\":0,\"ticks\":\"\"}}}],\"scattermapbox\":[{\"type\":\"scattermapbox\",\"marker\":{\"colorbar\":{\"outlinewidth\":0,\"ticks\":\"\"}}}],\"scatterternary\":[{\"type\":\"scatterternary\",\"marker\":{\"colorbar\":{\"outlinewidth\":0,\"ticks\":\"\"}}}],\"scattercarpet\":[{\"type\":\"scattercarpet\",\"marker\":{\"colorbar\":{\"outlinewidth\":0,\"ticks\":\"\"}}}],\"carpet\":[{\"aaxis\":{\"endlinecolor\":\"#2a3f5f\",\"gridcolor\":\"white\",\"linecolor\":\"white\",\"minorgridcolor\":\"white\",\"startlinecolor\":\"#2a3f5f\"},\"baxis\":{\"endlinecolor\":\"#2a3f5f\",\"gridcolor\":\"white\",\"linecolor\":\"white\",\"minorgridcolor\":\"white\",\"startlinecolor\":\"#2a3f5f\"},\"type\":\"carpet\"}],\"table\":[{\"cells\":{\"fill\":{\"color\":\"#EBF0F8\"},\"line\":{\"color\":\"white\"}},\"header\":{\"fill\":{\"color\":\"#C8D4E3\"},\"line\":{\"color\":\"white\"}},\"type\":\"table\"}],\"barpolar\":[{\"marker\":{\"line\":{\"color\":\"#E5ECF6\",\"width\":0.5},\"pattern\":{\"fillmode\":\"overlay\",\"size\":10,\"solidity\":0.2}},\"type\":\"barpolar\"}],\"pie\":[{\"automargin\":true,\"type\":\"pie\"}]},\"layout\":{\"autotypenumbers\":\"strict\",\"colorway\":[\"#636efa\",\"#EF553B\",\"#00cc96\",\"#ab63fa\",\"#FFA15A\",\"#19d3f3\",\"#FF6692\",\"#B6E880\",\"#FF97FF\",\"#FECB52\"],\"font\":{\"color\":\"#2a3f5f\"},\"hovermode\":\"closest\",\"hoverlabel\":{\"align\":\"left\"},\"paper_bgcolor\":\"white\",\"plot_bgcolor\":\"#E5ECF6\",\"polar\":{\"bgcolor\":\"#E5ECF6\",\"angularaxis\":{\"gridcolor\":\"white\",\"linecolor\":\"white\",\"ticks\":\"\"},\"radialaxis\":{\"gridcolor\":\"white\",\"linecolor\":\"white\",\"ticks\":\"\"}},\"ternary\":{\"bgcolor\":\"#E5ECF6\",\"aaxis\":{\"gridcolor\":\"white\",\"linecolor\":\"white\",\"ticks\":\"\"},\"baxis\":{\"gridcolor\":\"white\",\"linecolor\":\"white\",\"ticks\":\"\"},\"caxis\":{\"gridcolor\":\"white\",\"linecolor\":\"white\",\"ticks\":\"\"}},\"coloraxis\":{\"colorbar\":{\"outlinewidth\":0,\"ticks\":\"\"}},\"colorscale\":{\"sequential\":[[0.0,\"#0d0887\"],[0.1111111111111111,\"#46039f\"],[0.2222222222222222,\"#7201a8\"],[0.3333333333333333,\"#9c179e\"],[0.4444444444444444,\"#bd3786\"],[0.5555555555555556,\"#d8576b\"],[0.6666666666666666,\"#ed7953\"],[0.7777777777777778,\"#fb9f3a\"],[0.8888888888888888,\"#fdca26\"],[1.0,\"#f0f921\"]],\"sequentialminus\":[[0.0,\"#0d0887\"],[0.1111111111111111,\"#46039f\"],[0.2222222222222222,\"#7201a8\"],[0.3333333333333333,\"#9c179e\"],[0.4444444444444444,\"#bd3786\"],[0.5555555555555556,\"#d8576b\"],[0.6666666666666666,\"#ed7953\"],[0.7777777777777778,\"#fb9f3a\"],[0.8888888888888888,\"#fdca26\"],[1.0,\"#f0f921\"]],\"diverging\":[[0,\"#8e0152\"],[0.1,\"#c51b7d\"],[0.2,\"#de77ae\"],[0.3,\"#f1b6da\"],[0.4,\"#fde0ef\"],[0.5,\"#f7f7f7\"],[0.6,\"#e6f5d0\"],[0.7,\"#b8e186\"],[0.8,\"#7fbc41\"],[0.9,\"#4d9221\"],[1,\"#276419\"]]},\"xaxis\":{\"gridcolor\":\"white\",\"linecolor\":\"white\",\"ticks\":\"\",\"title\":{\"standoff\":15},\"zerolinecolor\":\"white\",\"automargin\":true,\"zerolinewidth\":2},\"yaxis\":{\"gridcolor\":\"white\",\"linecolor\":\"white\",\"ticks\":\"\",\"title\":{\"standoff\":15},\"zerolinecolor\":\"white\",\"automargin\":true,\"zerolinewidth\":2},\"scene\":{\"xaxis\":{\"backgroundcolor\":\"#E5ECF6\",\"gridcolor\":\"white\",\"linecolor\":\"white\",\"showbackground\":true,\"ticks\":\"\",\"zerolinecolor\":\"white\",\"gridwidth\":2},\"yaxis\":{\"backgroundcolor\":\"#E5ECF6\",\"gridcolor\":\"white\",\"linecolor\":\"white\",\"showbackground\":true,\"ticks\":\"\",\"zerolinecolor\":\"white\",\"gridwidth\":2},\"zaxis\":{\"backgroundcolor\":\"#E5ECF6\",\"gridcolor\":\"white\",\"linecolor\":\"white\",\"showbackground\":true,\"ticks\":\"\",\"zerolinecolor\":\"white\",\"gridwidth\":2}},\"shapedefaults\":{\"line\":{\"color\":\"#2a3f5f\"}},\"annotationdefaults\":{\"arrowcolor\":\"#2a3f5f\",\"arrowhead\":0,\"arrowwidth\":1},\"geo\":{\"bgcolor\":\"white\",\"landcolor\":\"#E5ECF6\",\"subunitcolor\":\"white\",\"showland\":true,\"showlakes\":true,\"lakecolor\":\"white\"},\"title\":{\"x\":0.05},\"mapbox\":{\"style\":\"light\"}}},\"xaxis\":{\"anchor\":\"y\",\"domain\":[0.0,1.0],\"title\":{\"text\":\"x\"}},\"yaxis\":{\"anchor\":\"x\",\"domain\":[0.0,1.0],\"title\":{\"text\":\"y\"}},\"legend\":{\"tracegroupgap\":0},\"margin\":{\"t\":60},\"barmode\":\"relative\"},                        {\"responsive\": true}                    ).then(function(){\n",
       "                            \n",
       "var gd = document.getElementById('2ce743cb-f4fd-441d-bbd2-68dc8fe1e14b');\n",
       "var x = new MutationObserver(function (mutations, observer) {{\n",
       "        var display = window.getComputedStyle(gd).display;\n",
       "        if (!display || display === 'none') {{\n",
       "            console.log([gd, 'removed!']);\n",
       "            Plotly.purge(gd);\n",
       "            observer.disconnect();\n",
       "        }}\n",
       "}});\n",
       "\n",
       "// Listen for the removal of the full notebook cells\n",
       "var notebookContainer = gd.closest('#notebook-container');\n",
       "if (notebookContainer) {{\n",
       "    x.observe(notebookContainer, {childList: true});\n",
       "}}\n",
       "\n",
       "// Listen for the clearing of the current output cell\n",
       "var outputEl = gd.closest('.output');\n",
       "if (outputEl) {{\n",
       "    x.observe(outputEl, {childList: true});\n",
       "}}\n",
       "\n",
       "                        })                };                });            </script>        </div>"
      ]
     },
     "metadata": {},
     "output_type": "display_data"
    },
    {
     "name": "stdout",
     "output_type": "stream",
     "text": [
      "Average Battery Life (in days) value counts\n",
      "\n",
      "14    129\n",
      "7      92\n",
      "2      52\n",
      "1      31\n",
      "12     27\n",
      "30     12\n",
      "5      10\n",
      "45      8\n",
      "25      7\n",
      "10      6\n",
      "28      5\n",
      "15      4\n",
      "3       2\n",
      "6       2\n",
      "9       1\n",
      "20      1\n",
      "Name: Average Battery Life (in days), dtype: int64\n",
      "\n",
      "\n",
      "Highest grossing fitness trackers' Average Battery Life (in days)\n"
     ]
    },
    {
     "data": {
      "text/html": [
       "<div>                            <div id=\"64308069-6022-42d4-afba-d0e51d50496a\" class=\"plotly-graph-div\" style=\"height:525px; width:100%;\"></div>            <script type=\"text/javascript\">                require([\"plotly\"], function(Plotly) {                    window.PLOTLYENV=window.PLOTLYENV || {};                                    if (document.getElementById(\"64308069-6022-42d4-afba-d0e51d50496a\")) {                    Plotly.newPlot(                        \"64308069-6022-42d4-afba-d0e51d50496a\",                        [{\"alignmentgroup\":\"True\",\"hovertemplate\":\"x=%{x}<br>y=%{y}<extra></extra>\",\"legendgroup\":\"\",\"marker\":{\"color\":\"#636efa\",\"pattern\":{\"shape\":\"\"}},\"name\":\"\",\"offsetgroup\":\"\",\"orientation\":\"v\",\"showlegend\":false,\"textposition\":\"auto\",\"x\":[14,7,2,1,12,30,5,45,25,10,28,15,3,6,9,20],\"xaxis\":\"x\",\"y\":[129,92,52,31,27,12,10,8,7,6,5,4,2,2,1,1],\"yaxis\":\"y\",\"type\":\"bar\"}],                        {\"template\":{\"data\":{\"histogram2dcontour\":[{\"type\":\"histogram2dcontour\",\"colorbar\":{\"outlinewidth\":0,\"ticks\":\"\"},\"colorscale\":[[0.0,\"#0d0887\"],[0.1111111111111111,\"#46039f\"],[0.2222222222222222,\"#7201a8\"],[0.3333333333333333,\"#9c179e\"],[0.4444444444444444,\"#bd3786\"],[0.5555555555555556,\"#d8576b\"],[0.6666666666666666,\"#ed7953\"],[0.7777777777777778,\"#fb9f3a\"],[0.8888888888888888,\"#fdca26\"],[1.0,\"#f0f921\"]]}],\"choropleth\":[{\"type\":\"choropleth\",\"colorbar\":{\"outlinewidth\":0,\"ticks\":\"\"}}],\"histogram2d\":[{\"type\":\"histogram2d\",\"colorbar\":{\"outlinewidth\":0,\"ticks\":\"\"},\"colorscale\":[[0.0,\"#0d0887\"],[0.1111111111111111,\"#46039f\"],[0.2222222222222222,\"#7201a8\"],[0.3333333333333333,\"#9c179e\"],[0.4444444444444444,\"#bd3786\"],[0.5555555555555556,\"#d8576b\"],[0.6666666666666666,\"#ed7953\"],[0.7777777777777778,\"#fb9f3a\"],[0.8888888888888888,\"#fdca26\"],[1.0,\"#f0f921\"]]}],\"heatmap\":[{\"type\":\"heatmap\",\"colorbar\":{\"outlinewidth\":0,\"ticks\":\"\"},\"colorscale\":[[0.0,\"#0d0887\"],[0.1111111111111111,\"#46039f\"],[0.2222222222222222,\"#7201a8\"],[0.3333333333333333,\"#9c179e\"],[0.4444444444444444,\"#bd3786\"],[0.5555555555555556,\"#d8576b\"],[0.6666666666666666,\"#ed7953\"],[0.7777777777777778,\"#fb9f3a\"],[0.8888888888888888,\"#fdca26\"],[1.0,\"#f0f921\"]]}],\"heatmapgl\":[{\"type\":\"heatmapgl\",\"colorbar\":{\"outlinewidth\":0,\"ticks\":\"\"},\"colorscale\":[[0.0,\"#0d0887\"],[0.1111111111111111,\"#46039f\"],[0.2222222222222222,\"#7201a8\"],[0.3333333333333333,\"#9c179e\"],[0.4444444444444444,\"#bd3786\"],[0.5555555555555556,\"#d8576b\"],[0.6666666666666666,\"#ed7953\"],[0.7777777777777778,\"#fb9f3a\"],[0.8888888888888888,\"#fdca26\"],[1.0,\"#f0f921\"]]}],\"contourcarpet\":[{\"type\":\"contourcarpet\",\"colorbar\":{\"outlinewidth\":0,\"ticks\":\"\"}}],\"contour\":[{\"type\":\"contour\",\"colorbar\":{\"outlinewidth\":0,\"ticks\":\"\"},\"colorscale\":[[0.0,\"#0d0887\"],[0.1111111111111111,\"#46039f\"],[0.2222222222222222,\"#7201a8\"],[0.3333333333333333,\"#9c179e\"],[0.4444444444444444,\"#bd3786\"],[0.5555555555555556,\"#d8576b\"],[0.6666666666666666,\"#ed7953\"],[0.7777777777777778,\"#fb9f3a\"],[0.8888888888888888,\"#fdca26\"],[1.0,\"#f0f921\"]]}],\"surface\":[{\"type\":\"surface\",\"colorbar\":{\"outlinewidth\":0,\"ticks\":\"\"},\"colorscale\":[[0.0,\"#0d0887\"],[0.1111111111111111,\"#46039f\"],[0.2222222222222222,\"#7201a8\"],[0.3333333333333333,\"#9c179e\"],[0.4444444444444444,\"#bd3786\"],[0.5555555555555556,\"#d8576b\"],[0.6666666666666666,\"#ed7953\"],[0.7777777777777778,\"#fb9f3a\"],[0.8888888888888888,\"#fdca26\"],[1.0,\"#f0f921\"]]}],\"mesh3d\":[{\"type\":\"mesh3d\",\"colorbar\":{\"outlinewidth\":0,\"ticks\":\"\"}}],\"scatter\":[{\"fillpattern\":{\"fillmode\":\"overlay\",\"size\":10,\"solidity\":0.2},\"type\":\"scatter\"}],\"parcoords\":[{\"type\":\"parcoords\",\"line\":{\"colorbar\":{\"outlinewidth\":0,\"ticks\":\"\"}}}],\"scatterpolargl\":[{\"type\":\"scatterpolargl\",\"marker\":{\"colorbar\":{\"outlinewidth\":0,\"ticks\":\"\"}}}],\"bar\":[{\"error_x\":{\"color\":\"#2a3f5f\"},\"error_y\":{\"color\":\"#2a3f5f\"},\"marker\":{\"line\":{\"color\":\"#E5ECF6\",\"width\":0.5},\"pattern\":{\"fillmode\":\"overlay\",\"size\":10,\"solidity\":0.2}},\"type\":\"bar\"}],\"scattergeo\":[{\"type\":\"scattergeo\",\"marker\":{\"colorbar\":{\"outlinewidth\":0,\"ticks\":\"\"}}}],\"scatterpolar\":[{\"type\":\"scatterpolar\",\"marker\":{\"colorbar\":{\"outlinewidth\":0,\"ticks\":\"\"}}}],\"histogram\":[{\"marker\":{\"pattern\":{\"fillmode\":\"overlay\",\"size\":10,\"solidity\":0.2}},\"type\":\"histogram\"}],\"scattergl\":[{\"type\":\"scattergl\",\"marker\":{\"colorbar\":{\"outlinewidth\":0,\"ticks\":\"\"}}}],\"scatter3d\":[{\"type\":\"scatter3d\",\"line\":{\"colorbar\":{\"outlinewidth\":0,\"ticks\":\"\"}},\"marker\":{\"colorbar\":{\"outlinewidth\":0,\"ticks\":\"\"}}}],\"scattermapbox\":[{\"type\":\"scattermapbox\",\"marker\":{\"colorbar\":{\"outlinewidth\":0,\"ticks\":\"\"}}}],\"scatterternary\":[{\"type\":\"scatterternary\",\"marker\":{\"colorbar\":{\"outlinewidth\":0,\"ticks\":\"\"}}}],\"scattercarpet\":[{\"type\":\"scattercarpet\",\"marker\":{\"colorbar\":{\"outlinewidth\":0,\"ticks\":\"\"}}}],\"carpet\":[{\"aaxis\":{\"endlinecolor\":\"#2a3f5f\",\"gridcolor\":\"white\",\"linecolor\":\"white\",\"minorgridcolor\":\"white\",\"startlinecolor\":\"#2a3f5f\"},\"baxis\":{\"endlinecolor\":\"#2a3f5f\",\"gridcolor\":\"white\",\"linecolor\":\"white\",\"minorgridcolor\":\"white\",\"startlinecolor\":\"#2a3f5f\"},\"type\":\"carpet\"}],\"table\":[{\"cells\":{\"fill\":{\"color\":\"#EBF0F8\"},\"line\":{\"color\":\"white\"}},\"header\":{\"fill\":{\"color\":\"#C8D4E3\"},\"line\":{\"color\":\"white\"}},\"type\":\"table\"}],\"barpolar\":[{\"marker\":{\"line\":{\"color\":\"#E5ECF6\",\"width\":0.5},\"pattern\":{\"fillmode\":\"overlay\",\"size\":10,\"solidity\":0.2}},\"type\":\"barpolar\"}],\"pie\":[{\"automargin\":true,\"type\":\"pie\"}]},\"layout\":{\"autotypenumbers\":\"strict\",\"colorway\":[\"#636efa\",\"#EF553B\",\"#00cc96\",\"#ab63fa\",\"#FFA15A\",\"#19d3f3\",\"#FF6692\",\"#B6E880\",\"#FF97FF\",\"#FECB52\"],\"font\":{\"color\":\"#2a3f5f\"},\"hovermode\":\"closest\",\"hoverlabel\":{\"align\":\"left\"},\"paper_bgcolor\":\"white\",\"plot_bgcolor\":\"#E5ECF6\",\"polar\":{\"bgcolor\":\"#E5ECF6\",\"angularaxis\":{\"gridcolor\":\"white\",\"linecolor\":\"white\",\"ticks\":\"\"},\"radialaxis\":{\"gridcolor\":\"white\",\"linecolor\":\"white\",\"ticks\":\"\"}},\"ternary\":{\"bgcolor\":\"#E5ECF6\",\"aaxis\":{\"gridcolor\":\"white\",\"linecolor\":\"white\",\"ticks\":\"\"},\"baxis\":{\"gridcolor\":\"white\",\"linecolor\":\"white\",\"ticks\":\"\"},\"caxis\":{\"gridcolor\":\"white\",\"linecolor\":\"white\",\"ticks\":\"\"}},\"coloraxis\":{\"colorbar\":{\"outlinewidth\":0,\"ticks\":\"\"}},\"colorscale\":{\"sequential\":[[0.0,\"#0d0887\"],[0.1111111111111111,\"#46039f\"],[0.2222222222222222,\"#7201a8\"],[0.3333333333333333,\"#9c179e\"],[0.4444444444444444,\"#bd3786\"],[0.5555555555555556,\"#d8576b\"],[0.6666666666666666,\"#ed7953\"],[0.7777777777777778,\"#fb9f3a\"],[0.8888888888888888,\"#fdca26\"],[1.0,\"#f0f921\"]],\"sequentialminus\":[[0.0,\"#0d0887\"],[0.1111111111111111,\"#46039f\"],[0.2222222222222222,\"#7201a8\"],[0.3333333333333333,\"#9c179e\"],[0.4444444444444444,\"#bd3786\"],[0.5555555555555556,\"#d8576b\"],[0.6666666666666666,\"#ed7953\"],[0.7777777777777778,\"#fb9f3a\"],[0.8888888888888888,\"#fdca26\"],[1.0,\"#f0f921\"]],\"diverging\":[[0,\"#8e0152\"],[0.1,\"#c51b7d\"],[0.2,\"#de77ae\"],[0.3,\"#f1b6da\"],[0.4,\"#fde0ef\"],[0.5,\"#f7f7f7\"],[0.6,\"#e6f5d0\"],[0.7,\"#b8e186\"],[0.8,\"#7fbc41\"],[0.9,\"#4d9221\"],[1,\"#276419\"]]},\"xaxis\":{\"gridcolor\":\"white\",\"linecolor\":\"white\",\"ticks\":\"\",\"title\":{\"standoff\":15},\"zerolinecolor\":\"white\",\"automargin\":true,\"zerolinewidth\":2},\"yaxis\":{\"gridcolor\":\"white\",\"linecolor\":\"white\",\"ticks\":\"\",\"title\":{\"standoff\":15},\"zerolinecolor\":\"white\",\"automargin\":true,\"zerolinewidth\":2},\"scene\":{\"xaxis\":{\"backgroundcolor\":\"#E5ECF6\",\"gridcolor\":\"white\",\"linecolor\":\"white\",\"showbackground\":true,\"ticks\":\"\",\"zerolinecolor\":\"white\",\"gridwidth\":2},\"yaxis\":{\"backgroundcolor\":\"#E5ECF6\",\"gridcolor\":\"white\",\"linecolor\":\"white\",\"showbackground\":true,\"ticks\":\"\",\"zerolinecolor\":\"white\",\"gridwidth\":2},\"zaxis\":{\"backgroundcolor\":\"#E5ECF6\",\"gridcolor\":\"white\",\"linecolor\":\"white\",\"showbackground\":true,\"ticks\":\"\",\"zerolinecolor\":\"white\",\"gridwidth\":2}},\"shapedefaults\":{\"line\":{\"color\":\"#2a3f5f\"}},\"annotationdefaults\":{\"arrowcolor\":\"#2a3f5f\",\"arrowhead\":0,\"arrowwidth\":1},\"geo\":{\"bgcolor\":\"white\",\"landcolor\":\"#E5ECF6\",\"subunitcolor\":\"white\",\"showland\":true,\"showlakes\":true,\"lakecolor\":\"white\"},\"title\":{\"x\":0.05},\"mapbox\":{\"style\":\"light\"}}},\"xaxis\":{\"anchor\":\"y\",\"domain\":[0.0,1.0],\"title\":{\"text\":\"x\"}},\"yaxis\":{\"anchor\":\"x\",\"domain\":[0.0,1.0],\"title\":{\"text\":\"y\"}},\"legend\":{\"tracegroupgap\":0},\"margin\":{\"t\":60},\"barmode\":\"relative\"},                        {\"responsive\": true}                    ).then(function(){\n",
       "                            \n",
       "var gd = document.getElementById('64308069-6022-42d4-afba-d0e51d50496a');\n",
       "var x = new MutationObserver(function (mutations, observer) {{\n",
       "        var display = window.getComputedStyle(gd).display;\n",
       "        if (!display || display === 'none') {{\n",
       "            console.log([gd, 'removed!']);\n",
       "            Plotly.purge(gd);\n",
       "            observer.disconnect();\n",
       "        }}\n",
       "}});\n",
       "\n",
       "// Listen for the removal of the full notebook cells\n",
       "var notebookContainer = gd.closest('#notebook-container');\n",
       "if (notebookContainer) {{\n",
       "    x.observe(notebookContainer, {childList: true});\n",
       "}}\n",
       "\n",
       "// Listen for the clearing of the current output cell\n",
       "var outputEl = gd.closest('.output');\n",
       "if (outputEl) {{\n",
       "    x.observe(outputEl, {childList: true});\n",
       "}}\n",
       "\n",
       "                        })                };                });            </script>        </div>"
      ]
     },
     "metadata": {},
     "output_type": "display_data"
    }
   ],
   "source": [
    "for x in tracker_qualities:\n",
    "\n",
    "    df = health.loc[health['Brand Name'].isin(top20_gross['Brand Name'].value_counts().index)]\n",
    "    print(x, 'value counts')\n",
    "    print('')\n",
    "    print(df[x].value_counts())\n",
    "    print('')\n",
    "    print('')\n",
    "    fig = px.bar(df, df[x].value_counts().index, y=df[x].value_counts().values)\n",
    "    print('Highest grossing fitness trackers\\'', x)\n",
    "    fig.show()"
   ]
  },
  {
   "cell_type": "markdown",
   "id": "1c28d756",
   "metadata": {
    "execution": {
     "iopub.execute_input": "2022-10-20T17:38:25.566079Z",
     "iopub.status.busy": "2022-10-20T17:38:25.565659Z",
     "iopub.status.idle": "2022-10-20T17:38:25.592943Z",
     "shell.execute_reply": "2022-10-20T17:38:25.591843Z",
     "shell.execute_reply.started": "2022-10-20T17:38:25.566032Z"
    },
    "papermill": {
     "duration": 0.03173,
     "end_time": "2022-10-20T18:00:03.818169",
     "exception": false,
     "start_time": "2022-10-20T18:00:03.786439",
     "status": "completed"
    },
    "tags": []
   },
   "source": [
    "So looks like highest grossing fitness tracker qualities are: black, AMOLED display, Silicone with average batt lifespan of 14 days."
   ]
  },
  {
   "cell_type": "code",
   "execution_count": 39,
   "id": "bcb1ebaa",
   "metadata": {
    "execution": {
     "iopub.execute_input": "2022-10-20T18:00:03.888598Z",
     "iopub.status.busy": "2022-10-20T18:00:03.888046Z",
     "iopub.status.idle": "2022-10-20T18:00:03.898338Z",
     "shell.execute_reply": "2022-10-20T18:00:03.896732Z"
    },
    "papermill": {
     "duration": 0.050442,
     "end_time": "2022-10-20T18:00:03.902631",
     "exception": false,
     "start_time": "2022-10-20T18:00:03.852189",
     "status": "completed"
    },
    "tags": []
   },
   "outputs": [
    {
     "data": {
      "text/plain": [
       "['Brand Name',\n",
       " 'Device Type',\n",
       " 'Model Name',\n",
       " 'Color',\n",
       " 'Selling Price',\n",
       " 'Original Price',\n",
       " 'Display',\n",
       " 'Rating (Out of 5)',\n",
       " 'Strap Material',\n",
       " 'Average Battery Life (in days)',\n",
       " 'Reviews']"
      ]
     },
     "execution_count": 39,
     "metadata": {},
     "output_type": "execute_result"
    }
   ],
   "source": [
    "list(health)"
   ]
  },
  {
   "cell_type": "markdown",
   "id": "e09527fe",
   "metadata": {
    "papermill": {
     "duration": 0.031834,
     "end_time": "2022-10-20T18:00:03.967781",
     "exception": false,
     "start_time": "2022-10-20T18:00:03.935947",
     "status": "completed"
    },
    "tags": []
   },
   "source": [
    "## Reviews"
   ]
  },
  {
   "cell_type": "markdown",
   "id": "488be8f1",
   "metadata": {
    "execution": {
     "iopub.execute_input": "2022-10-20T17:47:59.935430Z",
     "iopub.status.busy": "2022-10-20T17:47:59.935034Z",
     "iopub.status.idle": "2022-10-20T17:47:59.944043Z",
     "shell.execute_reply": "2022-10-20T17:47:59.942940Z",
     "shell.execute_reply.started": "2022-10-20T17:47:59.935400Z"
    },
    "papermill": {
     "duration": 0.031018,
     "end_time": "2022-10-20T18:00:04.030457",
     "exception": false,
     "start_time": "2022-10-20T18:00:03.999439",
     "status": "completed"
    },
    "tags": []
   },
   "source": [
    "Let's see which Brands have the most buzz (reviews). This helps business see which products have the strongest appeal or lowest appeal since those who leave reviews are usually those who think they got a highly valued product or were jipped. For the strongest appeal, good to have those products with most R&D invested since have the best reputation and drop those products from shop that have lowest rating #'s."
   ]
  },
  {
   "cell_type": "code",
   "execution_count": 40,
   "id": "da593183",
   "metadata": {
    "execution": {
     "iopub.execute_input": "2022-10-20T18:00:04.095363Z",
     "iopub.status.busy": "2022-10-20T18:00:04.093861Z",
     "iopub.status.idle": "2022-10-20T18:00:04.106417Z",
     "shell.execute_reply": "2022-10-20T18:00:04.105278Z"
    },
    "papermill": {
     "duration": 0.047756,
     "end_time": "2022-10-20T18:00:04.108899",
     "exception": false,
     "start_time": "2022-10-20T18:00:04.061143",
     "status": "completed"
    },
    "tags": []
   },
   "outputs": [
    {
     "data": {
      "text/plain": [
       "Brand Name\n",
       "FOSSIL        133\n",
       "GARMIN        101\n",
       "APPLE          86\n",
       "FitBit         51\n",
       "SAMSUNG        48\n",
       "huami          36\n",
       "Huawei         26\n",
       "Noise          20\n",
       "Honor          20\n",
       "Fire-Boltt     14\n",
       "Name: Reviews, dtype: int64"
      ]
     },
     "execution_count": 40,
     "metadata": {},
     "output_type": "execute_result"
    }
   ],
   "source": [
    "# Total ratings by Brand\n",
    "round(health.groupby('Brand Name')['Reviews'].size().sort_values(ascending=False).iloc[:10],1)"
   ]
  },
  {
   "cell_type": "markdown",
   "id": "3cbb803b",
   "metadata": {
    "papermill": {
     "duration": 0.033897,
     "end_time": "2022-10-20T18:00:04.175228",
     "exception": false,
     "start_time": "2022-10-20T18:00:04.141331",
     "status": "completed"
    },
    "tags": []
   },
   "source": [
    "## Average Ratings\n",
    "\n",
    "Lastly, with ratings, let's see which ones have the highest quality regardless of number of ratings. These give insight into brand affinity and $$ for value."
   ]
  },
  {
   "cell_type": "code",
   "execution_count": 41,
   "id": "a3b91303",
   "metadata": {
    "execution": {
     "iopub.execute_input": "2022-10-20T18:00:04.239739Z",
     "iopub.status.busy": "2022-10-20T18:00:04.239192Z",
     "iopub.status.idle": "2022-10-20T18:00:04.251674Z",
     "shell.execute_reply": "2022-10-20T18:00:04.250703Z"
    },
    "papermill": {
     "duration": 0.048246,
     "end_time": "2022-10-20T18:00:04.254593",
     "exception": false,
     "start_time": "2022-10-20T18:00:04.206347",
     "status": "completed"
    },
    "tags": []
   },
   "outputs": [
    {
     "data": {
      "text/plain": [
       "Brand Name\n",
       "APPLE              4.5\n",
       "OnePlus            4.3\n",
       "dizo by realme     4.2\n",
       "FOSSIL             4.2\n",
       "SAMSUNG            4.2\n",
       "Honor              4.2\n",
       "FitBit             4.2\n",
       "Xiaomi             4.2\n",
       "Huawei             4.2\n",
       "huami              4.2\n",
       "Name: Rating (Out of 5), dtype: float64"
      ]
     },
     "execution_count": 41,
     "metadata": {},
     "output_type": "execute_result"
    }
   ],
   "source": [
    "#average ratings by Brand\n",
    "round(health.groupby('Brand Name')['Rating (Out of 5)'].mean().sort_values(ascending=False).iloc[:10],1)"
   ]
  },
  {
   "cell_type": "markdown",
   "id": "f8217123",
   "metadata": {
    "papermill": {
     "duration": 0.03308,
     "end_time": "2022-10-20T18:00:04.320475",
     "exception": false,
     "start_time": "2022-10-20T18:00:04.287395",
     "status": "completed"
    },
    "tags": []
   },
   "source": [
    "Apple has the highest ratings. This explains why Apple owners say once you get into their ecosystem, it is hard to get out."
   ]
  },
  {
   "cell_type": "markdown",
   "id": "8d4a6e4d",
   "metadata": {
    "papermill": {
     "duration": 0.03071,
     "end_time": "2022-10-20T18:00:04.382536",
     "exception": false,
     "start_time": "2022-10-20T18:00:04.351826",
     "status": "completed"
    },
    "tags": []
   },
   "source": [
    "Lastly, let's take a look at our original question: how does change in price correspond to change of demand. Another question want to answer now is that with change of price, does that change the quality of a product, which we will use average rating as a proxy for that."
   ]
  },
  {
   "cell_type": "code",
   "execution_count": null,
   "id": "2f9ef62c",
   "metadata": {
    "papermill": {
     "duration": 0.031516,
     "end_time": "2022-10-20T18:00:04.445971",
     "exception": false,
     "start_time": "2022-10-20T18:00:04.414455",
     "status": "completed"
    },
    "tags": []
   },
   "outputs": [],
   "source": []
  }
 ],
 "metadata": {
  "kernelspec": {
   "display_name": "Python 3",
   "language": "python",
   "name": "python3"
  },
  "language_info": {
   "codemirror_mode": {
    "name": "ipython",
    "version": 3
   },
   "file_extension": ".py",
   "mimetype": "text/x-python",
   "name": "python",
   "nbconvert_exporter": "python",
   "pygments_lexer": "ipython3",
   "version": "3.7.12"
  },
  "papermill": {
   "default_parameters": {},
   "duration": 71.089156,
   "end_time": "2022-10-20T18:00:06.410676",
   "environment_variables": {},
   "exception": null,
   "input_path": "__notebook__.ipynb",
   "output_path": "__notebook__.ipynb",
   "parameters": {},
   "start_time": "2022-10-20T17:58:55.321520",
   "version": "2.3.4"
  }
 },
 "nbformat": 4,
 "nbformat_minor": 5
}
