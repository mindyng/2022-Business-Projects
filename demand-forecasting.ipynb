{
 "cells": [
  {
   "cell_type": "code",
   "execution_count": 1,
   "id": "8c2053a1",
   "metadata": {
    "_cell_guid": "b1076dfc-b9ad-4769-8c92-a6c4dae69d19",
    "_uuid": "8f2839f25d086af736a60e9eeb907d3b93b6e0e5",
    "execution": {
     "iopub.execute_input": "2023-01-03T06:29:48.012333Z",
     "iopub.status.busy": "2023-01-03T06:29:48.011822Z",
     "iopub.status.idle": "2023-01-03T06:29:50.384747Z",
     "shell.execute_reply": "2023-01-03T06:29:50.383496Z"
    },
    "papermill": {
     "duration": 2.38819,
     "end_time": "2023-01-03T06:29:50.387672",
     "exception": false,
     "start_time": "2023-01-03T06:29:47.999482",
     "status": "completed"
    },
    "tags": []
   },
   "outputs": [
    {
     "data": {
      "text/html": [
       "<style type='text/css'>\n",
       ".datatable table.frame { margin-bottom: 0; }\n",
       ".datatable table.frame thead { border-bottom: none; }\n",
       ".datatable table.frame tr.coltypes td {  color: #FFFFFF;  line-height: 6px;  padding: 0 0.5em;}\n",
       ".datatable .bool    { background: #DDDD99; }\n",
       ".datatable .object  { background: #565656; }\n",
       ".datatable .int     { background: #5D9E5D; }\n",
       ".datatable .float   { background: #4040CC; }\n",
       ".datatable .str     { background: #CC4040; }\n",
       ".datatable .time    { background: #40CC40; }\n",
       ".datatable .row_index {  background: var(--jp-border-color3);  border-right: 1px solid var(--jp-border-color0);  color: var(--jp-ui-font-color3);  font-size: 9px;}\n",
       ".datatable .frame tbody td { text-align: left; }\n",
       ".datatable .frame tr.coltypes .row_index {  background: var(--jp-border-color0);}\n",
       ".datatable th:nth-child(2) { padding-left: 12px; }\n",
       ".datatable .hellipsis {  color: var(--jp-cell-editor-border-color);}\n",
       ".datatable .vellipsis {  background: var(--jp-layout-color0);  color: var(--jp-cell-editor-border-color);}\n",
       ".datatable .na {  color: var(--jp-cell-editor-border-color);  font-size: 80%;}\n",
       ".datatable .sp {  opacity: 0.25;}\n",
       ".datatable .footer { font-size: 9px; }\n",
       ".datatable .frame_dimensions {  background: var(--jp-border-color3);  border-top: 1px solid var(--jp-border-color0);  color: var(--jp-ui-font-color3);  display: inline-block;  opacity: 0.6;  padding: 1px 10px 1px 5px;}\n",
       "</style>\n"
      ],
      "text/plain": [
       "<IPython.core.display.HTML object>"
      ]
     },
     "metadata": {},
     "output_type": "display_data"
    }
   ],
   "source": [
    "import pandas as pd\n",
    "import numpy as np\n",
    "import lightgbm\n",
    "from lightgbm import LGBMRegressor\n",
    "from sklearn.model_selection import RandomizedSearchCV\n",
    "import joblib\n",
    "import os\n",
    "import matplotlib.pyplot as plt\n",
    "import seaborn as sns\n",
    "import warnings\n",
    "import pickle\n",
    "from pathlib import Path\n",
    "\n",
    "import shutil"
   ]
  },
  {
   "cell_type": "code",
   "execution_count": 2,
   "id": "b9f74c82",
   "metadata": {
    "execution": {
     "iopub.execute_input": "2023-01-03T06:29:50.402150Z",
     "iopub.status.busy": "2023-01-03T06:29:50.401710Z",
     "iopub.status.idle": "2023-01-03T06:29:50.407203Z",
     "shell.execute_reply": "2023-01-03T06:29:50.406321Z"
    },
    "papermill": {
     "duration": 0.015423,
     "end_time": "2023-01-03T06:29:50.409454",
     "exception": false,
     "start_time": "2023-01-03T06:29:50.394031",
     "status": "completed"
    },
    "tags": []
   },
   "outputs": [],
   "source": [
    "# Better rendering \n",
    "from IPython.core.display import HTML\n",
    "HTML(\"\")\n",
    "\n",
    "warnings.filterwarnings('ignore')\n",
    "\n",
    "# settings to display all columns\n",
    "pd.set_option(\"display.max_columns\", None)"
   ]
  },
  {
   "cell_type": "code",
   "execution_count": 3,
   "id": "bb01fabc",
   "metadata": {
    "execution": {
     "iopub.execute_input": "2023-01-03T06:29:50.424267Z",
     "iopub.status.busy": "2023-01-03T06:29:50.423584Z",
     "iopub.status.idle": "2023-01-03T06:29:50.429817Z",
     "shell.execute_reply": "2023-01-03T06:29:50.429044Z"
    },
    "papermill": {
     "duration": 0.016299,
     "end_time": "2023-01-03T06:29:50.431941",
     "exception": false,
     "start_time": "2023-01-03T06:29:50.415642",
     "status": "completed"
    },
    "tags": []
   },
   "outputs": [
    {
     "data": {
      "text/html": [
       "<style>\n",
       ".dataframe td {\n",
       "    white-space: nowrap;\n",
       "}\n",
       "style>\n"
      ],
      "text/plain": [
       "<IPython.core.display.HTML object>"
      ]
     },
     "metadata": {},
     "output_type": "display_data"
    }
   ],
   "source": [
    "%%html\n",
    "<style>\n",
    ".dataframe td {\n",
    "    white-space: nowrap;\n",
    "}\n",
    "style>"
   ]
  },
  {
   "cell_type": "markdown",
   "id": "b58f3931",
   "metadata": {
    "papermill": {
     "duration": 0.005992,
     "end_time": "2023-01-03T06:29:50.444528",
     "exception": false,
     "start_time": "2023-01-03T06:29:50.438536",
     "status": "completed"
    },
    "tags": []
   },
   "source": [
    "# Data"
   ]
  },
  {
   "cell_type": "code",
   "execution_count": 4,
   "id": "c2fbd305",
   "metadata": {
    "execution": {
     "iopub.execute_input": "2023-01-03T06:29:50.459139Z",
     "iopub.status.busy": "2023-01-03T06:29:50.458439Z",
     "iopub.status.idle": "2023-01-03T06:30:02.015822Z",
     "shell.execute_reply": "2023-01-03T06:30:02.014278Z"
    },
    "papermill": {
     "duration": 11.569345,
     "end_time": "2023-01-03T06:30:02.020001",
     "exception": false,
     "start_time": "2023-01-03T06:29:50.450656",
     "status": "completed"
    },
    "tags": []
   },
   "outputs": [
    {
     "name": "stdout",
     "output_type": "stream",
     "text": [
      "30,490 records for training data\n",
      "1,969 records for calendar data\n",
      "6,841,121 records for price data\n"
     ]
    }
   ],
   "source": [
    "sales = pd.read_csv('/kaggle/input/m5-forecasting-accuracy/sales_train_evaluation.csv')\n",
    "sales['name'] = 'sales'\n",
    "\n",
    "print(\"{:,} records for training data\".format(len(sales)))\n",
    "\n",
    "# Calendar\n",
    "calendar = pd.read_csv('/kaggle/input/m5-forecasting-accuracy/calendar.csv')\n",
    "calendar['name'] = 'calendar'\n",
    "print(\"{:,} records for calendar data\".format(len(calendar)))\n",
    "\n",
    "# Pricing\n",
    "prices = pd.read_csv('/kaggle/input/m5-forecasting-accuracy/sell_prices.csv')\n",
    "prices['name'] = 'prices'\n",
    "print(\"{:,} records for price data\".format(len(prices)))"
   ]
  },
  {
   "cell_type": "markdown",
   "id": "a4c9bd70",
   "metadata": {
    "papermill": {
     "duration": 0.006034,
     "end_time": "2023-01-03T06:30:02.032935",
     "exception": false,
     "start_time": "2023-01-03T06:30:02.026901",
     "status": "completed"
    },
    "tags": []
   },
   "source": [
    "### Additional records for testing"
   ]
  },
  {
   "cell_type": "code",
   "execution_count": 5,
   "id": "69def305",
   "metadata": {
    "execution": {
     "iopub.execute_input": "2023-01-03T06:30:02.048148Z",
     "iopub.status.busy": "2023-01-03T06:30:02.047733Z",
     "iopub.status.idle": "2023-01-03T06:30:02.080803Z",
     "shell.execute_reply": "2023-01-03T06:30:02.079522Z"
    },
    "papermill": {
     "duration": 0.04352,
     "end_time": "2023-01-03T06:30:02.083689",
     "exception": false,
     "start_time": "2023-01-03T06:30:02.040169",
     "status": "completed"
    },
    "tags": []
   },
   "outputs": [],
   "source": [
    "# Add zero sales for the remaining days 1942-1969\n",
    "for d in range(1942,1970):\n",
    "    col = 'd_' + str(d)\n",
    "    sales[col] = 0\n",
    "    sales[col] = sales[col].astype(np.int16)"
   ]
  },
  {
   "cell_type": "markdown",
   "id": "c631005f",
   "metadata": {
    "papermill": {
     "duration": 0.008458,
     "end_time": "2023-01-03T06:30:02.098486",
     "exception": false,
     "start_time": "2023-01-03T06:30:02.090028",
     "status": "completed"
    },
    "tags": []
   },
   "source": [
    "### Downcasting to Reduce Memory Usage"
   ]
  },
  {
   "cell_type": "markdown",
   "id": "bfed38ea",
   "metadata": {
    "papermill": {
     "duration": 0.006861,
     "end_time": "2023-01-03T06:30:02.112211",
     "exception": false,
     "start_time": "2023-01-03T06:30:02.105350",
     "status": "completed"
    },
    "tags": []
   },
   "source": [
    "Due to each cells taking a while to load due to heavy amount of columns and their data types, will transform data into a derived type to reduce memory usage."
   ]
  },
  {
   "cell_type": "code",
   "execution_count": 6,
   "id": "0e8a0d46",
   "metadata": {
    "execution": {
     "iopub.execute_input": "2023-01-03T06:30:02.127636Z",
     "iopub.status.busy": "2023-01-03T06:30:02.127221Z",
     "iopub.status.idle": "2023-01-03T06:32:27.288374Z",
     "shell.execute_reply": "2023-01-03T06:32:27.286818Z"
    },
    "papermill": {
     "duration": 145.172474,
     "end_time": "2023-01-03T06:32:27.291310",
     "exception": false,
     "start_time": "2023-01-03T06:30:02.118836",
     "status": "completed"
    },
    "tags": []
   },
   "outputs": [],
   "source": [
    "# Downcast in order to save memory\n",
    "def downcast(df):\n",
    "    cols = df.dtypes.index.tolist()\n",
    "    types = df.dtypes.values.tolist()\n",
    "    for i,t in enumerate(types):\n",
    "        # Integer\n",
    "        if 'int' in str(t):\n",
    "            # Check if minimum and maximum are in the limit of int8\n",
    "            if df[cols[i]].min() > np.iinfo(np.int8).min and df[cols[i]].max() < np.iinfo(np.int8).max:\n",
    "                df[cols[i]] = df[cols[i]].astype(np.int8)\n",
    "            # Check if minimum and maximum are in the limit of int16\n",
    "            elif df[cols[i]].min() > np.iinfo(np.int16).min and df[cols[i]].max() < np.iinfo(np.int16).max:\n",
    "                df[cols[i]] = df[cols[i]].astype(np.int16)\n",
    "            # Check if minimum and maximum are in the limit of int32\n",
    "            elif df[cols[i]].min() > np.iinfo(np.int32).min and df[cols[i]].max() < np.iinfo(np.int32).max:\n",
    "                df[cols[i]] = df[cols[i]].astype(np.int32)\n",
    "            # Choose int64\n",
    "            else:\n",
    "                df[cols[i]] = df[cols[i]].astype(np.int64)\n",
    "        # Float\n",
    "        elif 'float' in str(t):\n",
    "            if df[cols[i]].min() > np.finfo(np.float16).min and df[cols[i]].max() < np.finfo(np.float16).max:\n",
    "                df[cols[i]] = df[cols[i]].astype(np.float16)\n",
    "            elif df[cols[i]].min() > np.finfo(np.float32).min and df[cols[i]].max() < np.finfo(np.float32).max:\n",
    "                df[cols[i]] = df[cols[i]].astype(np.float32)\n",
    "            else:\n",
    "                df[cols[i]] = df[cols[i]].astype(np.float64)\n",
    "        # Object\n",
    "        elif t == np.object:\n",
    "            if cols[i] == 'date':\n",
    "                df[cols[i]] = pd.to_datetime(df[cols[i]], format='%Y-%m-%d')\n",
    "            else:\n",
    "                df[cols[i]] = df[cols[i]].astype('category')\n",
    "    return df  \n",
    "\n",
    "# # Apply downcasting\n",
    "sales = downcast(sales)\n",
    "prices = downcast(prices)\n",
    "calendar = downcast(calendar)"
   ]
  },
  {
   "cell_type": "markdown",
   "id": "0fd8d473",
   "metadata": {
    "papermill": {
     "duration": 0.006055,
     "end_time": "2023-01-03T06:32:27.304082",
     "exception": false,
     "start_time": "2023-01-03T06:32:27.298027",
     "status": "completed"
    },
    "tags": []
   },
   "source": [
    "# Creating Additional Features: Pricing"
   ]
  },
  {
   "cell_type": "markdown",
   "id": "806b833d",
   "metadata": {
    "papermill": {
     "duration": 0.005868,
     "end_time": "2023-01-03T06:32:27.316320",
     "exception": false,
     "start_time": "2023-01-03T06:32:27.310452",
     "status": "completed"
    },
    "tags": []
   },
   "source": [
    "In order to best predict demand, would be wise to incorporate some price information including promotions, competitive pricing and possible cannibalization.\n",
    "\n",
    "* Relative difference between the current price of an item and its historical average price, to highlight promotional offers’ impact.\n",
    "\n",
    "* Price relative difference with the same item sold in other stores, to understand whether or not the store has an attractive price.\n",
    "\n",
    "* Price relative difference with other items sold in the same store and same product category, to capture some cannibalization effects."
   ]
  },
  {
   "cell_type": "code",
   "execution_count": 7,
   "id": "c060eabd",
   "metadata": {
    "execution": {
     "iopub.execute_input": "2023-01-03T06:32:27.331386Z",
     "iopub.status.busy": "2023-01-03T06:32:27.330257Z",
     "iopub.status.idle": "2023-01-03T06:32:27.343707Z",
     "shell.execute_reply": "2023-01-03T06:32:27.342377Z"
    },
    "papermill": {
     "duration": 0.024114,
     "end_time": "2023-01-03T06:32:27.346571",
     "exception": false,
     "start_time": "2023-01-03T06:32:27.322457",
     "status": "completed"
    },
    "tags": []
   },
   "outputs": [],
   "source": [
    "def improve_price():\n",
    "    # Calculate Average price for all stores\n",
    "    df_mean_store = pd.DataFrame(prices.groupby(['item_id', 'wm_yr_wk'])['sell_price'].mean())\n",
    "    df_mean_store.columns = ['item_sells_price_avg']\n",
    "    df_mean_store.reset_index(inplace = True)\n",
    "\n",
    "    # Combine with calendar\n",
    "    prices_new = pd.merge(prices, df_mean_store, on=['item_id', 'wm_yr_wk'], how='left', suffixes=('', '_y'))\n",
    "    prices_new.drop(prices_new.filter(regex='_y$').columns.tolist(),axis=1, inplace=True)\n",
    "\n",
    "    # Price difference with same items in other stores\n",
    "    prices_new['delta_price_all_rel'] = (prices_new['sell_price'] - \n",
    "                                         prices_new['item_sells_price_avg'])/prices_new['item_sells_price_avg']\n",
    "\n",
    "    # Price difference with last week\n",
    "    prices_new['item_store'] = prices_new['item_id'].astype(str) + '_' + prices_new['store_id'].astype(str)\n",
    "    prices_new['item_store_change'] = prices_new[\"item_store\"].shift() != prices_new[\"item_store\"]\n",
    "    # Price difference week n - week n-1\n",
    "    prices_new['delta_price_weekn-1'] = (prices_new['sell_price']-\n",
    "                                         prices_new['sell_price'].shift(1)).fillna(0)/prices_new['sell_price'].shift(1)\n",
    "    prices_new['delta_price_weekn-1'] = prices_new['delta_price_weekn-1'].fillna(0) * (prices_new['item_store_change']==0)\n",
    "\n",
    "    # Average price of the department by store\n",
    "    prices_new['dept_id'] = prices_new.item_id.str[:-4]\n",
    "    df_mean_cat = pd.DataFrame(prices_new.groupby(['dept_id', 'store_id', 'wm_yr_wk'])['sell_price'].mean())\n",
    "    df_mean_cat.columns = ['dept_sells_price_avg']\n",
    "    df_mean_cat.reset_index(inplace = True)\n",
    "    # Combine with price dataset\n",
    "    prices_new = pd.merge(prices_new, df_mean_cat, on=['dept_id', 'store_id', 'wm_yr_wk']\n",
    "                          , how='left', suffixes=('', '_y'))\n",
    "    prices_new.drop(prices_new.filter(regex='_y$').columns.tolist(),axis=1, inplace=True)\n",
    "\n",
    "    # Cannibalisation: compare this item price with average of the department (category)\n",
    "    prices_new['delta_price_cat_rel'] = (prices_new['sell_price'] - \n",
    "                                         prices_new['dept_sells_price_avg'])/prices_new['dept_sells_price_avg']                                               \n",
    "\n",
    "    # Drop columns\n",
    "    prices_new.drop(['item_sells_price_avg', 'item_store_change', 'item_store_change', 'dept_id', 'item_store',\n",
    "                    'dept_sells_price_avg'], axis = 1, inplace = True)"
   ]
  },
  {
   "cell_type": "markdown",
   "id": "22c2cd5c",
   "metadata": {
    "execution": {
     "iopub.execute_input": "2023-01-03T01:55:55.137737Z",
     "iopub.status.busy": "2023-01-03T01:55:55.136742Z",
     "iopub.status.idle": "2023-01-03T01:55:55.838452Z",
     "shell.execute_reply": "2023-01-03T01:55:55.837106Z",
     "shell.execute_reply.started": "2023-01-03T01:55:55.137696Z"
    },
    "papermill": {
     "duration": 0.005936,
     "end_time": "2023-01-03T06:32:27.358869",
     "exception": false,
     "start_time": "2023-01-03T06:32:27.352933",
     "status": "completed"
    },
    "tags": []
   },
   "source": [
    "# Melt Data to Reconstitute Sales Records\n",
    "\n",
    "### Convert from wide to long format (records at row level)"
   ]
  },
  {
   "cell_type": "code",
   "execution_count": 8,
   "id": "202f31f1",
   "metadata": {
    "execution": {
     "iopub.execute_input": "2023-01-03T06:32:27.373182Z",
     "iopub.status.busy": "2023-01-03T06:32:27.372713Z",
     "iopub.status.idle": "2023-01-03T06:32:52.238904Z",
     "shell.execute_reply": "2023-01-03T06:32:52.237547Z"
    },
    "papermill": {
     "duration": 24.876164,
     "end_time": "2023-01-03T06:32:52.241287",
     "exception": false,
     "start_time": "2023-01-03T06:32:27.365123",
     "status": "completed"
    },
    "tags": []
   },
   "outputs": [
    {
     "name": "stdout",
     "output_type": "stream",
     "text": [
      "60,065,300 records to combine with calendar and price\n"
     ]
    },
    {
     "data": {
      "text/html": [
       "<div>\n",
       "<style scoped>\n",
       "    .dataframe tbody tr th:only-of-type {\n",
       "        vertical-align: middle;\n",
       "    }\n",
       "\n",
       "    .dataframe tbody tr th {\n",
       "        vertical-align: top;\n",
       "    }\n",
       "\n",
       "    .dataframe thead th {\n",
       "        text-align: right;\n",
       "    }\n",
       "</style>\n",
       "<table border=\"1\" class=\"dataframe\">\n",
       "  <thead>\n",
       "    <tr style=\"text-align: right;\">\n",
       "      <th></th>\n",
       "      <th>id</th>\n",
       "      <th>item_id</th>\n",
       "      <th>dept_id</th>\n",
       "      <th>cat_id</th>\n",
       "      <th>store_id</th>\n",
       "      <th>state_id</th>\n",
       "      <th>d</th>\n",
       "      <th>sold</th>\n",
       "    </tr>\n",
       "  </thead>\n",
       "  <tbody>\n",
       "    <tr>\n",
       "      <th>0</th>\n",
       "      <td>HOBBIES_1_001_CA_1_evaluation</td>\n",
       "      <td>HOBBIES_1_001</td>\n",
       "      <td>HOBBIES_1</td>\n",
       "      <td>HOBBIES</td>\n",
       "      <td>CA_1</td>\n",
       "      <td>CA</td>\n",
       "      <td>d_1</td>\n",
       "      <td>0</td>\n",
       "    </tr>\n",
       "    <tr>\n",
       "      <th>1</th>\n",
       "      <td>HOBBIES_1_002_CA_1_evaluation</td>\n",
       "      <td>HOBBIES_1_002</td>\n",
       "      <td>HOBBIES_1</td>\n",
       "      <td>HOBBIES</td>\n",
       "      <td>CA_1</td>\n",
       "      <td>CA</td>\n",
       "      <td>d_1</td>\n",
       "      <td>0</td>\n",
       "    </tr>\n",
       "    <tr>\n",
       "      <th>2</th>\n",
       "      <td>HOBBIES_1_003_CA_1_evaluation</td>\n",
       "      <td>HOBBIES_1_003</td>\n",
       "      <td>HOBBIES_1</td>\n",
       "      <td>HOBBIES</td>\n",
       "      <td>CA_1</td>\n",
       "      <td>CA</td>\n",
       "      <td>d_1</td>\n",
       "      <td>0</td>\n",
       "    </tr>\n",
       "    <tr>\n",
       "      <th>3</th>\n",
       "      <td>HOBBIES_1_004_CA_1_evaluation</td>\n",
       "      <td>HOBBIES_1_004</td>\n",
       "      <td>HOBBIES_1</td>\n",
       "      <td>HOBBIES</td>\n",
       "      <td>CA_1</td>\n",
       "      <td>CA</td>\n",
       "      <td>d_1</td>\n",
       "      <td>0</td>\n",
       "    </tr>\n",
       "    <tr>\n",
       "      <th>4</th>\n",
       "      <td>HOBBIES_1_005_CA_1_evaluation</td>\n",
       "      <td>HOBBIES_1_005</td>\n",
       "      <td>HOBBIES_1</td>\n",
       "      <td>HOBBIES</td>\n",
       "      <td>CA_1</td>\n",
       "      <td>CA</td>\n",
       "      <td>d_1</td>\n",
       "      <td>0</td>\n",
       "    </tr>\n",
       "  </tbody>\n",
       "</table>\n",
       "</div>"
      ],
      "text/plain": [
       "                              id        item_id    dept_id   cat_id store_id  \\\n",
       "0  HOBBIES_1_001_CA_1_evaluation  HOBBIES_1_001  HOBBIES_1  HOBBIES     CA_1   \n",
       "1  HOBBIES_1_002_CA_1_evaluation  HOBBIES_1_002  HOBBIES_1  HOBBIES     CA_1   \n",
       "2  HOBBIES_1_003_CA_1_evaluation  HOBBIES_1_003  HOBBIES_1  HOBBIES     CA_1   \n",
       "3  HOBBIES_1_004_CA_1_evaluation  HOBBIES_1_004  HOBBIES_1  HOBBIES     CA_1   \n",
       "4  HOBBIES_1_005_CA_1_evaluation  HOBBIES_1_005  HOBBIES_1  HOBBIES     CA_1   \n",
       "\n",
       "  state_id    d sold  \n",
       "0       CA  d_1    0  \n",
       "1       CA  d_1    0  \n",
       "2       CA  d_1    0  \n",
       "3       CA  d_1    0  \n",
       "4       CA  d_1    0  "
      ]
     },
     "execution_count": 8,
     "metadata": {},
     "output_type": "execute_result"
    }
   ],
   "source": [
    "# Melt\n",
    "df = pd.melt(sales, id_vars=['id', 'item_id', 'dept_id', 'cat_id', 'store_id', 'state_id'], \n",
    "             var_name='d', value_name='sold').dropna()\n",
    "print(\"{:,} records to combine with calendar and price\".format(len(df)))\n",
    "df.head()"
   ]
  },
  {
   "cell_type": "markdown",
   "id": "39f7f93e",
   "metadata": {
    "papermill": {
     "duration": 0.006293,
     "end_time": "2023-01-03T06:32:52.254472",
     "exception": false,
     "start_time": "2023-01-03T06:32:52.248179",
     "status": "completed"
    },
    "tags": []
   },
   "source": [
    "### Combine data"
   ]
  },
  {
   "cell_type": "code",
   "execution_count": 9,
   "id": "681464ea",
   "metadata": {
    "execution": {
     "iopub.execute_input": "2023-01-03T06:32:52.270628Z",
     "iopub.status.busy": "2023-01-03T06:32:52.269756Z",
     "iopub.status.idle": "2023-01-03T06:33:49.999871Z",
     "shell.execute_reply": "2023-01-03T06:33:49.998817Z"
    },
    "papermill": {
     "duration": 57.740629,
     "end_time": "2023-01-03T06:33:50.002520",
     "exception": false,
     "start_time": "2023-01-03T06:32:52.261891",
     "status": "completed"
    },
    "tags": []
   },
   "outputs": [],
   "source": [
    "# Combine with calendar\n",
    "df = pd.merge(df, calendar, on='d', how='left')\n",
    "# Combine with price\n",
    "df = pd.merge(df, prices, on=['store_id','item_id','wm_yr_wk'], how='left') "
   ]
  },
  {
   "cell_type": "code",
   "execution_count": 10,
   "id": "36737111",
   "metadata": {
    "execution": {
     "iopub.execute_input": "2023-01-03T06:33:50.017746Z",
     "iopub.status.busy": "2023-01-03T06:33:50.016955Z",
     "iopub.status.idle": "2023-01-03T06:33:50.050686Z",
     "shell.execute_reply": "2023-01-03T06:33:50.049136Z"
    },
    "papermill": {
     "duration": 0.045448,
     "end_time": "2023-01-03T06:33:50.054672",
     "exception": false,
     "start_time": "2023-01-03T06:33:50.009224",
     "status": "completed"
    },
    "tags": []
   },
   "outputs": [
    {
     "name": "stdout",
     "output_type": "stream",
     "text": [
      "60,065,300 records in df\n"
     ]
    },
    {
     "data": {
      "text/html": [
       "<div>\n",
       "<style scoped>\n",
       "    .dataframe tbody tr th:only-of-type {\n",
       "        vertical-align: middle;\n",
       "    }\n",
       "\n",
       "    .dataframe tbody tr th {\n",
       "        vertical-align: top;\n",
       "    }\n",
       "\n",
       "    .dataframe thead th {\n",
       "        text-align: right;\n",
       "    }\n",
       "</style>\n",
       "<table border=\"1\" class=\"dataframe\">\n",
       "  <thead>\n",
       "    <tr style=\"text-align: right;\">\n",
       "      <th></th>\n",
       "      <th>id</th>\n",
       "      <th>item_id</th>\n",
       "      <th>dept_id</th>\n",
       "      <th>cat_id</th>\n",
       "      <th>store_id</th>\n",
       "      <th>state_id</th>\n",
       "      <th>d</th>\n",
       "      <th>sold</th>\n",
       "      <th>date</th>\n",
       "      <th>wm_yr_wk</th>\n",
       "      <th>weekday</th>\n",
       "      <th>wday</th>\n",
       "      <th>month</th>\n",
       "      <th>year</th>\n",
       "      <th>event_name_1</th>\n",
       "      <th>event_type_1</th>\n",
       "      <th>event_name_2</th>\n",
       "      <th>event_type_2</th>\n",
       "      <th>snap_CA</th>\n",
       "      <th>snap_TX</th>\n",
       "      <th>snap_WI</th>\n",
       "      <th>name_x</th>\n",
       "      <th>sell_price</th>\n",
       "      <th>name_y</th>\n",
       "    </tr>\n",
       "  </thead>\n",
       "  <tbody>\n",
       "    <tr>\n",
       "      <th>0</th>\n",
       "      <td>HOBBIES_1_001_CA_1_evaluation</td>\n",
       "      <td>HOBBIES_1_001</td>\n",
       "      <td>HOBBIES_1</td>\n",
       "      <td>HOBBIES</td>\n",
       "      <td>CA_1</td>\n",
       "      <td>CA</td>\n",
       "      <td>d_1</td>\n",
       "      <td>0</td>\n",
       "      <td>2011-01-29</td>\n",
       "      <td>11101.0</td>\n",
       "      <td>Saturday</td>\n",
       "      <td>1.0</td>\n",
       "      <td>1.0</td>\n",
       "      <td>2011.0</td>\n",
       "      <td>NaN</td>\n",
       "      <td>NaN</td>\n",
       "      <td>NaN</td>\n",
       "      <td>NaN</td>\n",
       "      <td>0.0</td>\n",
       "      <td>0.0</td>\n",
       "      <td>0.0</td>\n",
       "      <td>calendar</td>\n",
       "      <td>NaN</td>\n",
       "      <td>NaN</td>\n",
       "    </tr>\n",
       "    <tr>\n",
       "      <th>1</th>\n",
       "      <td>HOBBIES_1_002_CA_1_evaluation</td>\n",
       "      <td>HOBBIES_1_002</td>\n",
       "      <td>HOBBIES_1</td>\n",
       "      <td>HOBBIES</td>\n",
       "      <td>CA_1</td>\n",
       "      <td>CA</td>\n",
       "      <td>d_1</td>\n",
       "      <td>0</td>\n",
       "      <td>2011-01-29</td>\n",
       "      <td>11101.0</td>\n",
       "      <td>Saturday</td>\n",
       "      <td>1.0</td>\n",
       "      <td>1.0</td>\n",
       "      <td>2011.0</td>\n",
       "      <td>NaN</td>\n",
       "      <td>NaN</td>\n",
       "      <td>NaN</td>\n",
       "      <td>NaN</td>\n",
       "      <td>0.0</td>\n",
       "      <td>0.0</td>\n",
       "      <td>0.0</td>\n",
       "      <td>calendar</td>\n",
       "      <td>NaN</td>\n",
       "      <td>NaN</td>\n",
       "    </tr>\n",
       "    <tr>\n",
       "      <th>2</th>\n",
       "      <td>HOBBIES_1_003_CA_1_evaluation</td>\n",
       "      <td>HOBBIES_1_003</td>\n",
       "      <td>HOBBIES_1</td>\n",
       "      <td>HOBBIES</td>\n",
       "      <td>CA_1</td>\n",
       "      <td>CA</td>\n",
       "      <td>d_1</td>\n",
       "      <td>0</td>\n",
       "      <td>2011-01-29</td>\n",
       "      <td>11101.0</td>\n",
       "      <td>Saturday</td>\n",
       "      <td>1.0</td>\n",
       "      <td>1.0</td>\n",
       "      <td>2011.0</td>\n",
       "      <td>NaN</td>\n",
       "      <td>NaN</td>\n",
       "      <td>NaN</td>\n",
       "      <td>NaN</td>\n",
       "      <td>0.0</td>\n",
       "      <td>0.0</td>\n",
       "      <td>0.0</td>\n",
       "      <td>calendar</td>\n",
       "      <td>NaN</td>\n",
       "      <td>NaN</td>\n",
       "    </tr>\n",
       "    <tr>\n",
       "      <th>3</th>\n",
       "      <td>HOBBIES_1_004_CA_1_evaluation</td>\n",
       "      <td>HOBBIES_1_004</td>\n",
       "      <td>HOBBIES_1</td>\n",
       "      <td>HOBBIES</td>\n",
       "      <td>CA_1</td>\n",
       "      <td>CA</td>\n",
       "      <td>d_1</td>\n",
       "      <td>0</td>\n",
       "      <td>2011-01-29</td>\n",
       "      <td>11101.0</td>\n",
       "      <td>Saturday</td>\n",
       "      <td>1.0</td>\n",
       "      <td>1.0</td>\n",
       "      <td>2011.0</td>\n",
       "      <td>NaN</td>\n",
       "      <td>NaN</td>\n",
       "      <td>NaN</td>\n",
       "      <td>NaN</td>\n",
       "      <td>0.0</td>\n",
       "      <td>0.0</td>\n",
       "      <td>0.0</td>\n",
       "      <td>calendar</td>\n",
       "      <td>NaN</td>\n",
       "      <td>NaN</td>\n",
       "    </tr>\n",
       "    <tr>\n",
       "      <th>4</th>\n",
       "      <td>HOBBIES_1_005_CA_1_evaluation</td>\n",
       "      <td>HOBBIES_1_005</td>\n",
       "      <td>HOBBIES_1</td>\n",
       "      <td>HOBBIES</td>\n",
       "      <td>CA_1</td>\n",
       "      <td>CA</td>\n",
       "      <td>d_1</td>\n",
       "      <td>0</td>\n",
       "      <td>2011-01-29</td>\n",
       "      <td>11101.0</td>\n",
       "      <td>Saturday</td>\n",
       "      <td>1.0</td>\n",
       "      <td>1.0</td>\n",
       "      <td>2011.0</td>\n",
       "      <td>NaN</td>\n",
       "      <td>NaN</td>\n",
       "      <td>NaN</td>\n",
       "      <td>NaN</td>\n",
       "      <td>0.0</td>\n",
       "      <td>0.0</td>\n",
       "      <td>0.0</td>\n",
       "      <td>calendar</td>\n",
       "      <td>NaN</td>\n",
       "      <td>NaN</td>\n",
       "    </tr>\n",
       "  </tbody>\n",
       "</table>\n",
       "</div>"
      ],
      "text/plain": [
       "                              id        item_id    dept_id   cat_id store_id  \\\n",
       "0  HOBBIES_1_001_CA_1_evaluation  HOBBIES_1_001  HOBBIES_1  HOBBIES     CA_1   \n",
       "1  HOBBIES_1_002_CA_1_evaluation  HOBBIES_1_002  HOBBIES_1  HOBBIES     CA_1   \n",
       "2  HOBBIES_1_003_CA_1_evaluation  HOBBIES_1_003  HOBBIES_1  HOBBIES     CA_1   \n",
       "3  HOBBIES_1_004_CA_1_evaluation  HOBBIES_1_004  HOBBIES_1  HOBBIES     CA_1   \n",
       "4  HOBBIES_1_005_CA_1_evaluation  HOBBIES_1_005  HOBBIES_1  HOBBIES     CA_1   \n",
       "\n",
       "  state_id    d sold       date  wm_yr_wk   weekday  wday  month    year  \\\n",
       "0       CA  d_1    0 2011-01-29   11101.0  Saturday   1.0    1.0  2011.0   \n",
       "1       CA  d_1    0 2011-01-29   11101.0  Saturday   1.0    1.0  2011.0   \n",
       "2       CA  d_1    0 2011-01-29   11101.0  Saturday   1.0    1.0  2011.0   \n",
       "3       CA  d_1    0 2011-01-29   11101.0  Saturday   1.0    1.0  2011.0   \n",
       "4       CA  d_1    0 2011-01-29   11101.0  Saturday   1.0    1.0  2011.0   \n",
       "\n",
       "  event_name_1 event_type_1 event_name_2 event_type_2  snap_CA  snap_TX  \\\n",
       "0          NaN          NaN          NaN          NaN      0.0      0.0   \n",
       "1          NaN          NaN          NaN          NaN      0.0      0.0   \n",
       "2          NaN          NaN          NaN          NaN      0.0      0.0   \n",
       "3          NaN          NaN          NaN          NaN      0.0      0.0   \n",
       "4          NaN          NaN          NaN          NaN      0.0      0.0   \n",
       "\n",
       "   snap_WI    name_x  sell_price name_y  \n",
       "0      0.0  calendar         NaN    NaN  \n",
       "1      0.0  calendar         NaN    NaN  \n",
       "2      0.0  calendar         NaN    NaN  \n",
       "3      0.0  calendar         NaN    NaN  \n",
       "4      0.0  calendar         NaN    NaN  "
      ]
     },
     "execution_count": 10,
     "metadata": {},
     "output_type": "execute_result"
    }
   ],
   "source": [
    "# Check if merge is correct by checking row numbers\n",
    "print(\"{:,} records in df\".format(len(df)))\n",
    "df.head()"
   ]
  },
  {
   "cell_type": "code",
   "execution_count": 11,
   "id": "b88f7aff",
   "metadata": {
    "execution": {
     "iopub.execute_input": "2023-01-03T06:33:50.071258Z",
     "iopub.status.busy": "2023-01-03T06:33:50.070795Z",
     "iopub.status.idle": "2023-01-03T06:33:50.078845Z",
     "shell.execute_reply": "2023-01-03T06:33:50.077507Z"
    },
    "papermill": {
     "duration": 0.019246,
     "end_time": "2023-01-03T06:33:50.081450",
     "exception": false,
     "start_time": "2023-01-03T06:33:50.062204",
     "status": "completed"
    },
    "tags": []
   },
   "outputs": [],
   "source": [
    "del sales"
   ]
  },
  {
   "cell_type": "markdown",
   "id": "b477ea54",
   "metadata": {
    "papermill": {
     "duration": 0.006685,
     "end_time": "2023-01-03T06:33:50.095316",
     "exception": false,
     "start_time": "2023-01-03T06:33:50.088631",
     "status": "completed"
    },
    "tags": []
   },
   "source": [
    "## Feature Engineering"
   ]
  },
  {
   "cell_type": "markdown",
   "id": "f2fa2a27",
   "metadata": {
    "papermill": {
     "duration": 0.00671,
     "end_time": "2023-01-03T06:33:50.109030",
     "exception": false,
     "start_time": "2023-01-03T06:33:50.102320",
     "status": "completed"
    },
    "tags": []
   },
   "source": [
    "* Time Series data must be re-framed as a supervised learning dataset before we can start using machine learning algorithms:\n",
    "\n",
    "* There is no concept of input and output features in time series.\n",
    "\n",
    "* Instead, we must choose the variable to be predicted and use feature engineering to construct all of the inputs that will be used to make predictions for future time steps."
   ]
  },
  {
   "cell_type": "markdown",
   "id": "bfa13e82",
   "metadata": {
    "papermill": {
     "duration": 0.006743,
     "end_time": "2023-01-03T06:33:50.122876",
     "exception": false,
     "start_time": "2023-01-03T06:33:50.116133",
     "status": "completed"
    },
    "tags": []
   },
   "source": [
    "### Label Encoding"
   ]
  },
  {
   "cell_type": "code",
   "execution_count": 12,
   "id": "9b5c0f14",
   "metadata": {
    "execution": {
     "iopub.execute_input": "2023-01-03T06:33:50.138580Z",
     "iopub.status.busy": "2023-01-03T06:33:50.138142Z",
     "iopub.status.idle": "2023-01-03T06:33:50.143599Z",
     "shell.execute_reply": "2023-01-03T06:33:50.142448Z"
    },
    "papermill": {
     "duration": 0.016106,
     "end_time": "2023-01-03T06:33:50.145921",
     "exception": false,
     "start_time": "2023-01-03T06:33:50.129815",
     "status": "completed"
    },
    "tags": []
   },
   "outputs": [],
   "source": [
    "os.makedirs('/kaggle/working/d_id')\n",
    "\n",
    "#shutil.rmtree('/kaggle/working/d_id')"
   ]
  },
  {
   "cell_type": "code",
   "execution_count": 13,
   "id": "2c75e190",
   "metadata": {
    "execution": {
     "iopub.execute_input": "2023-01-03T06:33:50.162376Z",
     "iopub.status.busy": "2023-01-03T06:33:50.161062Z",
     "iopub.status.idle": "2023-01-03T06:35:04.128110Z",
     "shell.execute_reply": "2023-01-03T06:35:04.126474Z"
    },
    "papermill": {
     "duration": 73.978253,
     "end_time": "2023-01-03T06:35:04.131161",
     "exception": false,
     "start_time": "2023-01-03T06:33:50.152908",
     "status": "completed"
    },
    "tags": []
   },
   "outputs": [],
   "source": [
    "#Change Store id to category type\n",
    "df.store_id = df.store_id.astype('category')\n",
    "df.item_id = df.item_id.astype('category')\n",
    "df.cat_id = df.cat_id.astype('category')\n",
    "df.state_id = df.state_id.astype('category')\n",
    "df.id = df.id.astype('category')\n",
    "df.dept_id = df.dept_id.astype('category')\n",
    "\n",
    "# Store the categories along with their codes\n",
    "d_id = dict(zip(df.id.cat.codes, df.id))\n",
    "\n",
    "# Item, Department and Categories\n",
    "d_item_id = dict(zip(df.item_id.cat.codes, df.item_id))\n",
    "d_dept_id = dict(zip(df.dept_id.cat.codes, df.dept_id))\n",
    "d_cat_id = dict(zip(df.cat_id.cat.codes, df.cat_id))\n",
    "\n",
    "# Stores and States\n",
    "d_store_id = dict(zip(df.store_id.cat.codes, df.store_id))\n",
    "d_state_id = dict(zip(df.state_id.cat.codes, df.state_id))\n",
    "\n",
    "# Save to DataFrame\n",
    "LIST_SAVE = [d_id]#, d_item_id, d_dept_id, d_cat_id, d_store_id, d_state_id]\n",
    "LIST_NAME = ['d_id']#, 'd_item_id', 'd_dept_id', 'd_cat_id', 'd_store_id', 'd_state_id']\n",
    "for list_save, list_name in zip(LIST_SAVE, LIST_NAME):\n",
    "    #os.makedirs('/kaggle/working/{}'.format(list_name))\n",
    "    pickle.dump(list_save, open('/kaggle/working/{}.p'.format(list_name), \"wb\")) "
   ]
  },
  {
   "cell_type": "code",
   "execution_count": null,
   "id": "e2c993f8",
   "metadata": {
    "papermill": {
     "duration": 0.006691,
     "end_time": "2023-01-03T06:35:04.145468",
     "exception": false,
     "start_time": "2023-01-03T06:35:04.138777",
     "status": "completed"
    },
    "tags": []
   },
   "outputs": [],
   "source": []
  }
 ],
 "metadata": {
  "kernelspec": {
   "display_name": "Python 3",
   "language": "python",
   "name": "python3"
  },
  "language_info": {
   "codemirror_mode": {
    "name": "ipython",
    "version": 3
   },
   "file_extension": ".py",
   "mimetype": "text/x-python",
   "name": "python",
   "nbconvert_exporter": "python",
   "pygments_lexer": "ipython3",
   "version": "3.7.12"
  },
  "papermill": {
   "default_parameters": {},
   "duration": 327.116535,
   "end_time": "2023-01-03T06:35:05.980987",
   "environment_variables": {},
   "exception": null,
   "input_path": "__notebook__.ipynb",
   "output_path": "__notebook__.ipynb",
   "parameters": {},
   "start_time": "2023-01-03T06:29:38.864452",
   "version": "2.3.4"
  }
 },
 "nbformat": 4,
 "nbformat_minor": 5
}
